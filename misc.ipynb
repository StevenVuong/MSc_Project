{
  "nbformat": 4,
  "nbformat_minor": 0,
  "metadata": {
    "colab": {
      "name": "misc.ipynb",
      "version": "0.3.2",
      "provenance": [],
      "collapsed_sections": [],
      "include_colab_link": true
    },
    "kernelspec": {
      "name": "python3",
      "display_name": "Python 3"
    },
    "accelerator": "GPU"
  },
  "cells": [
    {
      "cell_type": "markdown",
      "metadata": {
        "id": "view-in-github",
        "colab_type": "text"
      },
      "source": [
        "<a href=\"https://colab.research.google.com/github/StevenVuong/MSc_Project/blob/master/misc.ipynb\" target=\"_parent\"><img src=\"https://colab.research.google.com/assets/colab-badge.svg\" alt=\"Open In Colab\"/></a>"
      ]
    },
    {
      "cell_type": "markdown",
      "metadata": {
        "id": "zS8c_H3qlG3W",
        "colab_type": "text"
      },
      "source": [
        "**This notebook has the intention of being end-to-end, the below is installing the dependencies**"
      ]
    },
    {
      "cell_type": "code",
      "metadata": {
        "id": "U1EwUHoAY3iQ",
        "colab_type": "code",
        "colab": {}
      },
      "source": [
        "# Standard imports\n",
        "import pandas as pd\n",
        "import numpy as np\n",
        "import matplotlib.pyplot as plt\n",
        "import seaborn as sns\n",
        "%matplotlib inline\n",
        "\n",
        "# other imports to handle files\n",
        "import os\n",
        "import pickle\n",
        "import csv\n",
        "\n",
        "# deep learning imports\n",
        "from keras.models import Sequential, load_model\n",
        "from keras.layers.core import Dense, Dropout, Activation, Flatten\n",
        "from keras.layers.convolutional import Convolution3D, MaxPooling3D, Convolution1D\n",
        "from keras.layers.normalization import BatchNormalization\n",
        "from keras.optimizers import SGD, RMSprop, Adam\n",
        "from keras.utils import np_utils, generic_utils, to_categorical\n",
        "from keras.layers import LeakyReLU\n",
        "from keras import regularizers\n",
        "\n",
        "# to split our dataset\n",
        "from sklearn.model_selection import train_test_split\n",
        "from sklearn.metrics import accuracy_score\n",
        "\n",
        "# to mount our drive\n",
        "from google.colab import drive"
      ],
      "execution_count": 0,
      "outputs": []
    },
    {
      "cell_type": "code",
      "metadata": {
        "id": "4WwhrLMxY8OK",
        "colab_type": "code",
        "outputId": "1e98b60c-195b-4bec-f07f-0e1016d639dc",
        "colab": {
          "base_uri": "https://localhost:8080/",
          "height": 50
        }
      },
      "source": [
        "# mount google drive into google colab\n",
        "drive.mount('/content/gdrive')\n",
        "\n",
        "os.chdir('/content')\n",
        "\n",
        "# go to where we will be working\n",
        "print (os.listdir())\n",
        "os.chdir('gdrive/My Drive/msc_project/')"
      ],
      "execution_count": 0,
      "outputs": [
        {
          "output_type": "stream",
          "text": [
            "Drive already mounted at /content/gdrive; to attempt to forcibly remount, call drive.mount(\"/content/gdrive\", force_remount=True).\n",
            "['.config', 'gdrive', 'sample_data']\n"
          ],
          "name": "stdout"
        }
      ]
    },
    {
      "cell_type": "markdown",
      "metadata": {
        "id": "tO2hNn_tQtPJ",
        "colab_type": "text"
      },
      "source": [
        "**Build our model and fit on batches**"
      ]
    },
    {
      "cell_type": "code",
      "metadata": {
        "id": "cD87YWLZiSLq",
        "colab_type": "code",
        "colab": {}
      },
      "source": [
        "def initialise_model():\n",
        "\n",
        "  # compile our model\n",
        "  model = Sequential()\n",
        "  \n",
        "  model.add(Convolution3D(filters=64, kernel_size=3, padding='same', strides=1, input_shape=(128,128,128,1),\n",
        "                          kernel_regularizer=regularizers.l2(0.005), bias_regularizer=regularizers.l2(0.005))) # padding on first one only?\n",
        "  model.add(BatchNormalization(momentum=0.5)) \n",
        "  model.add(LeakyReLU(alpha=0.20)) # set to 0.01\n",
        "  # could user he_norm kernel initializer?\n",
        "  model.add(MaxPooling3D(pool_size=2, strides=1)) # pool_size=2\n",
        "  \n",
        "  model.add(Convolution3D(filters=128, kernel_size=3, padding='same', strides=2,\n",
        "                          kernel_regularizer=regularizers.l2(0.005), bias_regularizer=regularizers.l2(0.005))) # padding on first one only?\n",
        "  model.add(BatchNormalization(momentum=0.5)) \n",
        "  model.add(LeakyReLU(alpha=0.20)) # set to 0.01\n",
        "  # could user he_norm kernel initializer?\n",
        "  model.add(MaxPooling3D(pool_size=2, strides=2)) # pool_size=2\n",
        "  \n",
        "  model.add(Convolution3D(filters=256, kernel_size=3, padding='same', strides=2,\n",
        "                          kernel_regularizer=regularizers.l2(0.005), bias_regularizer=regularizers.l2(0.005))) # padding on first one only?\n",
        "  model.add(BatchNormalization(momentum=0.5)) \n",
        "  model.add(LeakyReLU(alpha=0.20)) # set to 0.01\n",
        "  # could user he_norm kernel initializer?\n",
        "  model.add(MaxPooling3D(pool_size=2, strides=2)) # pool_size=2\n",
        "  \n",
        "  model.add(Convolution3D(filters=512, kernel_size=3, padding='same', strides=1,\n",
        "                          kernel_regularizer=regularizers.l2(0.005), bias_regularizer=regularizers.l2(0.005))) # padding on first one only?\n",
        "  model.add(BatchNormalization(momentum=0.5)) \n",
        "  model.add(LeakyReLU(alpha=0.20)) # set to 0.01\n",
        "  # could user he_norm kernel initializer?\n",
        "  model.add(MaxPooling3D(pool_size=2, strides=2)) # pool_size=2\n",
        "  \n",
        "  model.add(Convolution3D(filters=1024, kernel_size=3, padding='same', strides=2,\n",
        "                          kernel_regularizer=regularizers.l2(0.005), bias_regularizer=regularizers.l2(0.005))) # padding on first one only?\n",
        "  model.add(BatchNormalization(momentum=0.5)) \n",
        "  model.add(LeakyReLU(alpha=0.20)) # set to 0.01\n",
        "  # could user he_norm kernel initializer?\n",
        "  model.add(MaxPooling3D(pool_size=2, strides=2)) # pool_size=2\n",
        "  \n",
        "  model.add(Flatten())\n",
        "   \n",
        "  model.add(Dense(512, kernel_regularizer=regularizers.l2(0.005)))\n",
        "  model.add(LeakyReLU(alpha=0.2)) # set to 0.01\n",
        "  \n",
        "  model.add(Dropout(0.20)) # add dropout to prevent overfitting\n",
        "  \n",
        "  model.add(Dense(64, kernel_regularizer=regularizers.l2(0.005)))\n",
        "  model.add(LeakyReLU(alpha=0.2)) # set to 0.01\n",
        "  \n",
        "  model.add(Dropout(0.35)) # add dropout to prevent overfitting\n",
        "\n",
        "  model.add(Dense(2, activation='softmax'))\n",
        "\n",
        "  model.compile(optimizer=Adam(lr=0.0001), loss='categorical_crossentropy',metrics = ['categorical_accuracy'])\n",
        "\n",
        "  return model"
      ],
      "execution_count": 0,
      "outputs": []
    },
    {
      "cell_type": "code",
      "metadata": {
        "id": "eAfVvEfYsplZ",
        "colab_type": "code",
        "outputId": "0cbe66d2-f167-4d34-bad3-1fff64b96568",
        "colab": {
          "base_uri": "https://localhost:8080/",
          "height": 1075
        }
      },
      "source": [
        "model = initialise_model()\n",
        "model.summary()"
      ],
      "execution_count": 0,
      "outputs": [
        {
          "output_type": "stream",
          "text": [
            "_________________________________________________________________\n",
            "Layer (type)                 Output Shape              Param #   \n",
            "=================================================================\n",
            "conv3d_41 (Conv3D)           (None, 128, 128, 128, 64) 1792      \n",
            "_________________________________________________________________\n",
            "batch_normalization_41 (Batc (None, 128, 128, 128, 64) 256       \n",
            "_________________________________________________________________\n",
            "leaky_re_lu_53 (LeakyReLU)   (None, 128, 128, 128, 64) 0         \n",
            "_________________________________________________________________\n",
            "max_pooling3d_41 (MaxPooling (None, 127, 127, 127, 64) 0         \n",
            "_________________________________________________________________\n",
            "conv3d_42 (Conv3D)           (None, 64, 64, 64, 128)   221312    \n",
            "_________________________________________________________________\n",
            "batch_normalization_42 (Batc (None, 64, 64, 64, 128)   512       \n",
            "_________________________________________________________________\n",
            "leaky_re_lu_54 (LeakyReLU)   (None, 64, 64, 64, 128)   0         \n",
            "_________________________________________________________________\n",
            "max_pooling3d_42 (MaxPooling (None, 32, 32, 32, 128)   0         \n",
            "_________________________________________________________________\n",
            "conv3d_43 (Conv3D)           (None, 16, 16, 16, 256)   884992    \n",
            "_________________________________________________________________\n",
            "batch_normalization_43 (Batc (None, 16, 16, 16, 256)   1024      \n",
            "_________________________________________________________________\n",
            "leaky_re_lu_55 (LeakyReLU)   (None, 16, 16, 16, 256)   0         \n",
            "_________________________________________________________________\n",
            "max_pooling3d_43 (MaxPooling (None, 8, 8, 8, 256)      0         \n",
            "_________________________________________________________________\n",
            "conv3d_44 (Conv3D)           (None, 8, 8, 8, 512)      3539456   \n",
            "_________________________________________________________________\n",
            "batch_normalization_44 (Batc (None, 8, 8, 8, 512)      2048      \n",
            "_________________________________________________________________\n",
            "leaky_re_lu_56 (LeakyReLU)   (None, 8, 8, 8, 512)      0         \n",
            "_________________________________________________________________\n",
            "max_pooling3d_44 (MaxPooling (None, 4, 4, 4, 512)      0         \n",
            "_________________________________________________________________\n",
            "conv3d_45 (Conv3D)           (None, 2, 2, 2, 1024)     14156800  \n",
            "_________________________________________________________________\n",
            "batch_normalization_45 (Batc (None, 2, 2, 2, 1024)     4096      \n",
            "_________________________________________________________________\n",
            "leaky_re_lu_57 (LeakyReLU)   (None, 2, 2, 2, 1024)     0         \n",
            "_________________________________________________________________\n",
            "max_pooling3d_45 (MaxPooling (None, 1, 1, 1, 1024)     0         \n",
            "_________________________________________________________________\n",
            "flatten_7 (Flatten)          (None, 1024)              0         \n",
            "_________________________________________________________________\n",
            "dense_19 (Dense)             (None, 512)               524800    \n",
            "_________________________________________________________________\n",
            "leaky_re_lu_58 (LeakyReLU)   (None, 512)               0         \n",
            "_________________________________________________________________\n",
            "dropout_13 (Dropout)         (None, 512)               0         \n",
            "_________________________________________________________________\n",
            "dense_20 (Dense)             (None, 64)                32832     \n",
            "_________________________________________________________________\n",
            "leaky_re_lu_59 (LeakyReLU)   (None, 64)                0         \n",
            "_________________________________________________________________\n",
            "dropout_14 (Dropout)         (None, 64)                0         \n",
            "_________________________________________________________________\n",
            "dense_21 (Dense)             (None, 2)                 130       \n",
            "=================================================================\n",
            "Total params: 19,370,050\n",
            "Trainable params: 19,366,082\n",
            "Non-trainable params: 3,968\n",
            "_________________________________________________________________\n"
          ],
          "name": "stdout"
        }
      ]
    },
    {
      "cell_type": "code",
      "metadata": {
        "id": "0s2g8WJ6lx3F",
        "colab_type": "code",
        "colab": {}
      },
      "source": [
        "# gets our y-values and converts to keras, one hot encoded outputs\n",
        "def get_y_values(total_slices_info):\n",
        "  \n",
        "  y_values = [s[2] for s in total_slices_info]\n",
        "\n",
        "  y_values = np.array(to_categorical(y_values, 2))\n",
        "  \n",
        "  return y_values"
      ],
      "execution_count": 0,
      "outputs": []
    },
    {
      "cell_type": "code",
      "metadata": {
        "id": "3uXNmxBvl0GC",
        "colab_type": "code",
        "colab": {}
      },
      "source": [
        "def get_metrics(hist):\n",
        "  ''' Function to get our metrics from history and score as inputs'''\n",
        "\n",
        "  # actually obtain our metrics\n",
        "  val_loss = hist.history['val_loss'][0]\n",
        "  val_acc = hist.history['categorical_accuracy'][0]\n",
        "  train_loss = hist.history['loss'][0]\n",
        "  train_acc = hist.history['categorical_accuracy'][0]\n",
        "\n",
        "  # put everything into one array\n",
        "  return [val_loss, val_acc, train_loss, train_acc]"
      ],
      "execution_count": 0,
      "outputs": []
    },
    {
      "cell_type": "code",
      "metadata": {
        "id": "7VrS2jVOm-Kp",
        "colab_type": "code",
        "colab": {}
      },
      "source": [
        "def past_accuracies_fn(current_list, hist):\n",
        "  '''Check if we have hit 100 accuracy for our entire dataset.\n",
        "  If mean of 1, break, otherwise append to current list'''\n",
        "  current_list = np.array(current_list)\n",
        "\n",
        "  # only take 1 onward\n",
        "  current_list = np.append(current_list, hist.history['categorical_accuracy'][0])\n",
        "  current_list = current_list[1:]\n",
        "  return current_list"
      ],
      "execution_count": 0,
      "outputs": []
    },
    {
      "cell_type": "code",
      "metadata": {
        "id": "rj_dzm16ERam",
        "colab_type": "code",
        "outputId": "6a649344-e0a4-4424-9431-04415cce1db3",
        "colab": {
          "base_uri": "https://localhost:8080/",
          "height": 34
        }
      },
      "source": [
        "os.getcwd()"
      ],
      "execution_count": 0,
      "outputs": [
        {
          "output_type": "execute_result",
          "data": {
            "text/plain": [
              "'/content/gdrive/My Drive/msc_project'"
            ]
          },
          "metadata": {
            "tags": []
          },
          "execution_count": 18
        }
      ]
    },
    {
      "cell_type": "code",
      "metadata": {
        "id": "eHrdtU9PoaKG",
        "colab_type": "code",
        "outputId": "6fb0e310-5d86-472f-ce14-ed1961d67325",
        "colab": {
          "base_uri": "https://localhost:8080/",
          "height": 1529
        }
      },
      "source": [
        "ppath = 'all_mprage_grappa/processed_brains/processed_brains_aug_64x' # where to get the batches from\n",
        "nname = '64x_12' # what to save as\n",
        "# train on all, perhaps have different conditions for when we reach our last one\n",
        "total_slices_train = os.listdir(ppath)[:3] # train on first 3, test on last one \n",
        "print (total_slices_train)\n",
        "\n",
        "# Initialise Model!\n",
        "model = initialise_model()\n",
        "\n",
        "# set number of repeats and iterations\n",
        "num_loopz = 1\n",
        "num_iterations = 30\n",
        "\n",
        "# stops when training accuracy is 1 across the board\n",
        "past_accuracies = np.zeros(len(total_slices_train))\n",
        "break_at_100 = 'YES' # basic boolean switch\n",
        "\n",
        "for kk in range(num_loopz):\n",
        "  \n",
        "  file_name = (nname+str(kk)) ###filename, what we are changing\n",
        "  for iteration in range(num_iterations):\n",
        "    \n",
        "    # check if we have training accuracy of 100, if so, exit training loop\n",
        "    if ((np.mean(past_accuracies) == 1) and (break_at_100=='YES')):\n",
        "      print (\"Hit 100 on training accuracies\")\n",
        "      break\n",
        "\n",
        "    print (\"--------------------------------------------------------------------\")\n",
        "    print (\"Current accuracy on training sets: %.2f \" % np.mean(past_accuracies))\n",
        "    print (\"--------------------------------------------------------------------\")\n",
        "      \n",
        "    # load and fit our model for our instances\n",
        "    for tsf in total_slices_train:\n",
        "      pkl_path = ppath+'/'+tsf\n",
        "\n",
        "      # load pickle file\n",
        "      with open(pkl_path, 'rb') as f:\n",
        "        total_slices, total_slices_info = pickle.load(f)\n",
        "\n",
        "      # convert to numpy array\n",
        "      # total_slices = np.array(total_slices)\n",
        "      # process y-values\n",
        "      y_values = get_y_values(total_slices_info)\n",
        "      \n",
        "      # shuffle both of these\n",
        "      # total_slices, y_values = unison_shuffled_copies(total_slices, y_values)\n",
        "\n",
        "      # Run our model with validation of 5%\n",
        "      hist = model.fit(x=total_slices, y=y_values, batch_size=1, epochs=1, verbose=1, shuffle=True,validation_split=0.05)\n",
        "      # add to running totals\n",
        "      past_accuracies = past_accuracies_fn(past_accuracies, hist) \n",
        "      # get metrics\n",
        "      metrics = get_metrics(hist)\n",
        "\n",
        "      # write to csv (want to append instead of overwrite)\n",
        "      with open('all_mprage_grappa/z_tests/metrics/64x/metric'+file_name+'.csv', 'a') as csvFile:\n",
        "          writer = csv.writer(csvFile)\n",
        "          writer.writerow(metrics)\n",
        "      csvFile.close()\n",
        "\n",
        "      print (\"Iteration: %d, batch %s\" % (iteration, tsf[-1]))\n",
        "\n",
        "  # save the model as reference, incase we need the brain heatmap\n",
        "  model.save('all_mprage_grappa/z_tests/models/64x/model_'+file_name+'.h5', overwrite=True)  # saves as a hd5 file"
      ],
      "execution_count": 0,
      "outputs": [
        {
          "output_type": "stream",
          "text": [
            "['batch0', 'batch1', 'batch2']\n",
            "--------------------------------------------------------------------\n",
            "Current accuracy on training sets: 0.00 \n",
            "--------------------------------------------------------------------\n",
            "Train on 95 samples, validate on 5 samples\n",
            "Epoch 1/1\n",
            "95/95 [==============================] - 54s 570ms/step - loss: 11.6031 - categorical_accuracy: 0.6000 - val_loss: 12.0134 - val_categorical_accuracy: 0.6000\n",
            "Iteration: 0, batch 0\n",
            "Train on 95 samples, validate on 5 samples\n",
            "Epoch 1/1\n",
            "95/95 [==============================] - 43s 454ms/step - loss: 11.2661 - categorical_accuracy: 0.5579 - val_loss: 10.9643 - val_categorical_accuracy: 0.2000\n",
            "Iteration: 0, batch 1\n",
            "Train on 95 samples, validate on 5 samples\n",
            "Epoch 1/1\n",
            "95/95 [==============================] - 43s 457ms/step - loss: 10.9339 - categorical_accuracy: 0.4526 - val_loss: 10.6249 - val_categorical_accuracy: 0.6000\n",
            "Iteration: 0, batch 2\n",
            "--------------------------------------------------------------------\n",
            "Current accuracy on training sets: 0.54 \n",
            "--------------------------------------------------------------------\n",
            "Train on 95 samples, validate on 5 samples\n",
            "Epoch 1/1\n",
            "95/95 [==============================] - 43s 457ms/step - loss: 10.3696 - categorical_accuracy: 0.6947 - val_loss: 10.3184 - val_categorical_accuracy: 0.6000\n",
            "Iteration: 1, batch 0\n",
            "Train on 95 samples, validate on 5 samples\n",
            "Epoch 1/1\n",
            "95/95 [==============================] - 43s 457ms/step - loss: 10.0505 - categorical_accuracy: 0.6526 - val_loss: 10.5062 - val_categorical_accuracy: 0.2000\n",
            "Iteration: 1, batch 1\n",
            "Train on 95 samples, validate on 5 samples\n",
            "Epoch 1/1\n",
            "95/95 [==============================] - 43s 457ms/step - loss: 9.7907 - categorical_accuracy: 0.5684 - val_loss: 9.2612 - val_categorical_accuracy: 0.8000\n",
            "Iteration: 1, batch 2\n",
            "--------------------------------------------------------------------\n",
            "Current accuracy on training sets: 0.64 \n",
            "--------------------------------------------------------------------\n",
            "Train on 95 samples, validate on 5 samples\n",
            "Epoch 1/1\n",
            "95/95 [==============================] - 43s 457ms/step - loss: 9.2835 - categorical_accuracy: 0.7053 - val_loss: 9.2097 - val_categorical_accuracy: 0.4000\n",
            "Iteration: 2, batch 0\n",
            "Train on 95 samples, validate on 5 samples\n",
            "Epoch 1/1\n",
            "95/95 [==============================] - 43s 457ms/step - loss: 8.8527 - categorical_accuracy: 0.6526 - val_loss: 9.8886 - val_categorical_accuracy: 0.2000\n",
            "Iteration: 2, batch 1\n",
            "Train on 95 samples, validate on 5 samples\n",
            "Epoch 1/1\n",
            "95/95 [==============================] - 43s 456ms/step - loss: 8.7798 - categorical_accuracy: 0.5895 - val_loss: 8.1960 - val_categorical_accuracy: 0.6000\n",
            "Iteration: 2, batch 2\n",
            "--------------------------------------------------------------------\n",
            "Current accuracy on training sets: 0.65 \n",
            "--------------------------------------------------------------------\n",
            "Train on 95 samples, validate on 5 samples\n",
            "Epoch 1/1\n",
            "95/95 [==============================] - 43s 457ms/step - loss: 8.2128 - categorical_accuracy: 0.6316 - val_loss: 8.2744 - val_categorical_accuracy: 0.6000\n",
            "Iteration: 3, batch 0\n",
            "Train on 95 samples, validate on 5 samples\n",
            "Epoch 1/1\n",
            "95/95 [==============================] - 43s 457ms/step - loss: 7.7972 - categorical_accuracy: 0.7263 - val_loss: 8.4307 - val_categorical_accuracy: 0.2000\n",
            "Iteration: 3, batch 1\n",
            "Train on 95 samples, validate on 5 samples\n",
            "Epoch 1/1\n",
            "95/95 [==============================] - 43s 456ms/step - loss: 7.8093 - categorical_accuracy: 0.5474 - val_loss: 7.3037 - val_categorical_accuracy: 0.6000\n",
            "Iteration: 3, batch 2\n",
            "--------------------------------------------------------------------\n",
            "Current accuracy on training sets: 0.64 \n",
            "--------------------------------------------------------------------\n",
            "Train on 95 samples, validate on 5 samples\n",
            "Epoch 1/1\n",
            "95/95 [==============================] - 43s 456ms/step - loss: 7.3384 - categorical_accuracy: 0.6105 - val_loss: 7.3156 - val_categorical_accuracy: 0.0000e+00\n",
            "Iteration: 4, batch 0\n",
            "Train on 95 samples, validate on 5 samples\n",
            "Epoch 1/1\n",
            "95/95 [==============================] - 43s 456ms/step - loss: 6.8936 - categorical_accuracy: 0.7053 - val_loss: 7.8335 - val_categorical_accuracy: 0.2000\n",
            "Iteration: 4, batch 1\n",
            "Train on 95 samples, validate on 5 samples\n",
            "Epoch 1/1\n",
            "95/95 [==============================] - 43s 457ms/step - loss: 6.7155 - categorical_accuracy: 0.6211 - val_loss: 6.3984 - val_categorical_accuracy: 1.0000\n",
            "Iteration: 4, batch 2\n",
            "--------------------------------------------------------------------\n",
            "Current accuracy on training sets: 0.65 \n",
            "--------------------------------------------------------------------\n",
            "Train on 95 samples, validate on 5 samples\n",
            "Epoch 1/1\n",
            "95/95 [==============================] - 43s 457ms/step - loss: 6.4172 - categorical_accuracy: 0.7474 - val_loss: 6.7209 - val_categorical_accuracy: 0.4000\n",
            "Iteration: 5, batch 0\n",
            "Train on 95 samples, validate on 5 samples\n",
            "Epoch 1/1\n",
            "95/95 [==============================] - 43s 457ms/step - loss: 5.9686 - categorical_accuracy: 0.7368 - val_loss: 9.3077 - val_categorical_accuracy: 0.2000\n",
            "Iteration: 5, batch 1\n",
            "Train on 95 samples, validate on 5 samples\n",
            "Epoch 1/1\n",
            "23/95 [======>.......................] - ETA: 32s - loss: 5.9927 - categorical_accuracy: 0.8261"
          ],
          "name": "stdout"
        }
      ]
    },
    {
      "cell_type": "markdown",
      "metadata": {
        "id": "bqR1BW3olOa7",
        "colab_type": "text"
      },
      "source": [
        "**Test our model on dbatch 5, see how it does essentially**"
      ]
    },
    {
      "cell_type": "code",
      "metadata": {
        "id": "cG-I8lBHgqHb",
        "colab_type": "code",
        "colab": {}
      },
      "source": [
        "# file_name = '64x_100'"
      ],
      "execution_count": 0,
      "outputs": []
    },
    {
      "cell_type": "code",
      "metadata": {
        "id": "g49bHJEIGwes",
        "colab_type": "code",
        "outputId": "9666b83f-bdf5-4917-8d35-fce5aea6bdb9",
        "colab": {
          "base_uri": "https://localhost:8080/",
          "height": 50
        }
      },
      "source": [
        "# load our pickle batch of data\n",
        "with open('all_mprage_grappa/processed_brains_aug_64x/batch4', 'rb') as f: # also 'total_slices_all.pkl' ## RENAMED 5 TO 7, TESTING IT\n",
        "  total_slices, total_slices_info = pickle.load(f) # stored_batches/total_slices_batch5\n",
        "  \n",
        "# load our model\n",
        "print (\"Filename: %s\" % file_name)\n",
        "print (\"Shape of slices: %s \" % (np.shape(total_slices),))\n",
        "model = load_model('all_mprage_grappa/z_tests/models/64x/model_'+file_name+'.h5')\n",
        "\n",
        "# get corresponding y values\n",
        "y_values = get_y_values(total_slices_info)"
      ],
      "execution_count": 0,
      "outputs": [
        {
          "output_type": "stream",
          "text": [
            "Filename: 64x_110\n",
            "Shape of slices: (58, 128, 128, 128, 1) \n"
          ],
          "name": "stdout"
        }
      ]
    },
    {
      "cell_type": "code",
      "metadata": {
        "id": "qm5doQyZGxXZ",
        "colab_type": "code",
        "outputId": "00598567-439a-489b-92bf-d306c57a627f",
        "colab": {
          "base_uri": "https://localhost:8080/",
          "height": 521
        }
      },
      "source": [
        "## Build function to load and build score on the fly then aggregate\n",
        "divider = np.shape(total_slices)[0]/2\n",
        "\n",
        "# Split into smaller chunks so our GPU can handle it\n",
        "sub_arrays = np.array_split(total_slices, divider)\n",
        "sub_y_values = np.array_split(y_values, divider)\n",
        "\n",
        "score_sum = []\n",
        "acc_sum = []\n",
        "# run through model and test\n",
        "for i in range(len(sub_arrays)):\n",
        "  sub_array = sub_arrays[i]\n",
        "  sub_y_value = sub_y_values[i]\n",
        "\n",
        "  # got our scoring metric off the back of this too, all in one notebook\n",
        "  if len(sub_y_value) == 1:\n",
        "    sub_y_value = np.array([sub_y_value[0], sub_y_value[0]])\n",
        "  score, acc = model.evaluate(sub_array, sub_y_value)\n",
        "  score_sum.append(score)\n",
        "  acc_sum.append(acc)\n",
        "  \n",
        "# get average values\n",
        "mean_score = np.mean(score_sum)\n",
        "mean_acc = np.mean(acc_sum)\n",
        "\n",
        "print (\"Test Score: %f, Test Accuracy: %f\" % (mean_score, mean_acc))"
      ],
      "execution_count": 0,
      "outputs": [
        {
          "output_type": "stream",
          "text": [
            "2/2 [==============================] - 1s 422ms/step\n",
            "2/2 [==============================] - 0s 45ms/step\n",
            "2/2 [==============================] - 0s 44ms/step\n",
            "2/2 [==============================] - 0s 39ms/step\n",
            "2/2 [==============================] - 0s 35ms/step\n",
            "2/2 [==============================] - 0s 36ms/step\n",
            "2/2 [==============================] - 0s 34ms/step\n",
            "2/2 [==============================] - 0s 35ms/step\n",
            "2/2 [==============================] - 0s 35ms/step\n",
            "2/2 [==============================] - 0s 34ms/step\n",
            "2/2 [==============================] - 0s 35ms/step\n",
            "2/2 [==============================] - 0s 35ms/step\n",
            "2/2 [==============================] - 0s 35ms/step\n",
            "2/2 [==============================] - 0s 36ms/step\n",
            "2/2 [==============================] - 0s 35ms/step\n",
            "2/2 [==============================] - 0s 36ms/step\n",
            "2/2 [==============================] - 0s 34ms/step\n",
            "2/2 [==============================] - 0s 35ms/step\n",
            "2/2 [==============================] - 0s 34ms/step\n",
            "2/2 [==============================] - 0s 35ms/step\n",
            "2/2 [==============================] - 0s 34ms/step\n",
            "2/2 [==============================] - 0s 35ms/step\n",
            "2/2 [==============================] - 0s 35ms/step\n",
            "2/2 [==============================] - 0s 35ms/step\n",
            "2/2 [==============================] - 0s 35ms/step\n",
            "2/2 [==============================] - 0s 35ms/step\n",
            "2/2 [==============================] - 0s 36ms/step\n",
            "2/2 [==============================] - 0s 34ms/step\n",
            "2/2 [==============================] - 0s 36ms/step\n",
            "Test Score: 4.317551, Test Accuracy: 0.500000\n"
          ],
          "name": "stdout"
        }
      ]
    },
    {
      "cell_type": "code",
      "metadata": {
        "id": "TOjvvSEgDK-W",
        "colab_type": "code",
        "colab": {}
      },
      "source": [
        "## Get the metrics and plot some graphs\n",
        "metrics_df = pd.read_csv('all_mprage_grappa/z_tests/metrics/64x/metric'+file_name+'.csv', header=None)\n",
        "\n",
        "# relabel headers\n",
        "metrics_df.columns = ['val_loss', 'val_acc', 'train_loss', 'train_acc']\n",
        "\n",
        "# aggregate so we have the averages of each batch (trains on 1 now and tests on 1)\n",
        "batch_mean_df = metrics_df.groupby(np.arange(len(metrics_df))//3).mean()\n",
        "\n",
        "# only want to take the last number of epochs we trained for\n",
        "batch_mean_df = batch_mean_df.tail(30)\n",
        "\n",
        "# get the final output (model at end)\n",
        "batch_mean_df.iloc[-1,:]"
      ],
      "execution_count": 0,
      "outputs": []
    },
    {
      "cell_type": "code",
      "metadata": {
        "id": "FOF4rPJkD1Ui",
        "colab_type": "code",
        "colab": {}
      },
      "source": [
        "# plotting the accuracy\n",
        "plt.plot(batch_mean_df.val_acc.values, label='val_acc', ls='-')\n",
        "plt.plot(batch_mean_df.train_acc.values, label='train_acc', ls='-.')\n",
        "\n",
        "plt.xlabel('Epochs')\n",
        "plt.ylabel('Accuracy')\n",
        "plt.title('Accuracy ')\n",
        "\n",
        "plt.legend(loc='best')\n",
        "\n",
        "plt.show()"
      ],
      "execution_count": 0,
      "outputs": []
    },
    {
      "cell_type": "code",
      "metadata": {
        "id": "g0TPnWJ3D4Y0",
        "colab_type": "code",
        "colab": {}
      },
      "source": [
        "# plotting the loss\n",
        "plt.plot(batch_mean_df.val_loss.values, label='val_loss', ls='-')\n",
        "plt.plot(batch_mean_df.train_loss.values, label='train_loss', ls='-.')\n",
        "plt.xlabel('Epochs')\n",
        "plt.ylabel('Loss')\n",
        "plt.title('Loss')\n",
        "\n",
        "plt.legend(loc='best')\n",
        "plt.show()"
      ],
      "execution_count": 0,
      "outputs": []
    },
    {
      "cell_type": "markdown",
      "metadata": {
        "id": "kGD9UHOpGzEb",
        "colab_type": "text"
      },
      "source": [
        "**Visualise brainz**"
      ]
    },
    {
      "cell_type": "code",
      "metadata": {
        "id": "uSavmE3wGqqk",
        "colab_type": "code",
        "colab": {}
      },
      "source": [
        "slice_axials = total_slices[20]\n",
        "\n",
        "# test slice\n",
        "\n",
        "from ipywidgets import interact, interactive, fixed, interact_manual\n",
        "import ipywidgets as widgets # interactive plots\n",
        "import matplotlib.pyplot as plt\n",
        "%matplotlib inline\n",
        "\n",
        "slice_ex = slice_axials[:,:,:,0]\n",
        "def g(i): # basic slideshow plot to get an idea of the effectiveness of the mask itself\n",
        "    plt.figure(figsize=(15,8)) # make plot larger\n",
        "    plt.imshow(slice_ex[i])\n",
        "    plt.show()\n",
        "    return None\n",
        "\n",
        "interact(g, i=widgets.IntSlider(min=0,max=(len(slice_ex)-1),step=1,value=65)); # plots our axial view, this is it\n",
        "# img_slices, slice_info = process_slice(all_slices)"
      ],
      "execution_count": 0,
      "outputs": []
    },
    {
      "cell_type": "markdown",
      "metadata": {
        "id": "BX0Riw3r43Mq",
        "colab_type": "text"
      },
      "source": [
        "**Refactor our brainscans so that they are cubey**"
      ]
    },
    {
      "cell_type": "code",
      "metadata": {
        "id": "i5ahPvEmH3rr",
        "colab_type": "code",
        "colab": {}
      },
      "source": [
        "# load our pickle batch of data\n",
        "with open('stored_batches/total_slices_batch0.pkl', 'rb') as f: # also 'total_slices_all.pkl' ## RENAMED 5 TO 7, TESTING IT\n",
        "  total_slices, total_slices_info = pickle.load(f) "
      ],
      "execution_count": 0,
      "outputs": []
    },
    {
      "cell_type": "code",
      "metadata": {
        "id": "qiCZKPXC46Vx",
        "colab_type": "code",
        "colab": {}
      },
      "source": [
        "slice_axials = total_slices[20]\n",
        "\n",
        "# test slice\n",
        "\n",
        "from ipywidgets import interact, interactive, fixed, interact_manual\n",
        "import ipywidgets as widgets # interactive plots\n",
        "import matplotlib.pyplot as plt\n",
        "%matplotlib inline\n",
        "\n",
        "slice_ex = slice_axials[25:180, 25:180, 10:170, 0] # what we will chunk out of each one of those\n",
        "\n",
        "print (np.shape(slice_ex))\n",
        "def g(i): # basic slideshow plot to get an idea of the effectiveness of the mask itself\n",
        "    plt.figure(figsize=(15,8)) # make plot larger\n",
        "    plt.imshow(slice_ex[i], cmap='gray')\n",
        "    plt.show()\n",
        "    return None\n",
        "\n",
        "interact(g, i=widgets.IntSlider(min=0,max=(len(slice_ex)-1),step=1,value=65)); # plots our axial view, this is it\n",
        "# img_slices, slice_info = process_slice(all_slices)"
      ],
      "execution_count": 0,
      "outputs": []
    },
    {
      "cell_type": "code",
      "metadata": {
        "id": "PHm2ajwa5QQp",
        "colab_type": "code",
        "colab": {}
      },
      "source": [
        ""
      ],
      "execution_count": 0,
      "outputs": []
    }
  ]
}