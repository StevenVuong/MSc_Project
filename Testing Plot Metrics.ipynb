{
 "cells": [
  {
   "cell_type": "code",
   "execution_count": 7,
   "metadata": {},
   "outputs": [],
   "source": [
    "# standard imports\n",
    "import pandas as pd\n",
    "import numpy as np\n",
    "import matplotlib.pyplot as plt\n",
    "%matplotlib inline\n",
    "import os\n",
    "import pickle\n",
    "from sklearn.model_selection import train_test_split\n",
    "import seaborn as sns\n",
    "\n",
    "# imports for keras model\n",
    "from keras.models import Sequential\n",
    "from keras.layers.core import Dense, Dropout, Activation, Flatten\n",
    "from keras.layers.convolutional import Convolution3D, MaxPooling3D, Convolution1D\n",
    "from keras.layers.normalization import BatchNormalization\n",
    "from keras.optimizers import SGD, RMSprop, Adam\n",
    "from keras.utils import np_utils, generic_utils\n",
    "from keras.layers import LeakyReLU\n",
    "from keras import regularizers"
   ]
  },
  {
   "cell_type": "markdown",
   "metadata": {},
   "source": [
    "##### Port to our downloads"
   ]
  },
  {
   "cell_type": "code",
   "execution_count": 8,
   "metadata": {},
   "outputs": [],
   "source": [
    "os.chdir('C:\\\\Users\\\\steve\\\\Downloads')"
   ]
  },
  {
   "cell_type": "markdown",
   "metadata": {},
   "source": [
    "##### Load the dataframe and slices"
   ]
  },
  {
   "cell_type": "code",
   "execution_count": 9,
   "metadata": {},
   "outputs": [],
   "source": [
    "patient_df = pd.read_pickle('processed_patient_df.pkl')\n",
    "\n",
    "with open('total_slices_all.pkl', 'rb') as f:\n",
    "    total_slices, total_slices_info = pickle.load(f)"
   ]
  },
  {
   "cell_type": "code",
   "execution_count": 10,
   "metadata": {},
   "outputs": [
    {
     "data": {
      "text/plain": [
       "(102, 200, 200, 160, 1)"
      ]
     },
     "execution_count": 10,
     "metadata": {},
     "output_type": "execute_result"
    }
   ],
   "source": [
    "np.shape(total_slices)"
   ]
  },
  {
   "cell_type": "code",
   "execution_count": 11,
   "metadata": {},
   "outputs": [
    {
     "data": {
      "text/html": [
       "<div>\n",
       "<style scoped>\n",
       "    .dataframe tbody tr th:only-of-type {\n",
       "        vertical-align: middle;\n",
       "    }\n",
       "\n",
       "    .dataframe tbody tr th {\n",
       "        vertical-align: top;\n",
       "    }\n",
       "\n",
       "    .dataframe thead th {\n",
       "        text-align: right;\n",
       "    }\n",
       "</style>\n",
       "<table border=\"1\" class=\"dataframe\">\n",
       "  <thead>\n",
       "    <tr style=\"text-align: right;\">\n",
       "      <th></th>\n",
       "      <th>Image Data ID</th>\n",
       "      <th>Subject</th>\n",
       "      <th>Group</th>\n",
       "      <th>Sex</th>\n",
       "      <th>Age</th>\n",
       "      <th>Visit</th>\n",
       "      <th>Modality</th>\n",
       "      <th>Description</th>\n",
       "      <th>Type</th>\n",
       "      <th>Acq Date</th>\n",
       "      <th>Format</th>\n",
       "      <th>Downloaded</th>\n",
       "    </tr>\n",
       "  </thead>\n",
       "  <tbody>\n",
       "    <tr>\n",
       "      <th>197</th>\n",
       "      <td>353477</td>\n",
       "      <td>3750</td>\n",
       "      <td>0</td>\n",
       "      <td>M</td>\n",
       "      <td>54</td>\n",
       "      <td>5</td>\n",
       "      <td>MRI</td>\n",
       "      <td>MPRAGE GRAPPA</td>\n",
       "      <td>Original</td>\n",
       "      <td>10/10/2012</td>\n",
       "      <td>DCM</td>\n",
       "      <td>NaN</td>\n",
       "    </tr>\n",
       "    <tr>\n",
       "      <th>198</th>\n",
       "      <td>368584</td>\n",
       "      <td>3638</td>\n",
       "      <td>1</td>\n",
       "      <td>M</td>\n",
       "      <td>66</td>\n",
       "      <td>1</td>\n",
       "      <td>MRI</td>\n",
       "      <td>SAG T1 3D MPRAGE</td>\n",
       "      <td>Original</td>\n",
       "      <td>4/02/2013</td>\n",
       "      <td>DCM</td>\n",
       "      <td>NaN</td>\n",
       "    </tr>\n",
       "    <tr>\n",
       "      <th>199</th>\n",
       "      <td>363979</td>\n",
       "      <td>3637</td>\n",
       "      <td>0</td>\n",
       "      <td>M</td>\n",
       "      <td>57</td>\n",
       "      <td>1</td>\n",
       "      <td>MRI</td>\n",
       "      <td>SAG T1 3D MPRAGE</td>\n",
       "      <td>Original</td>\n",
       "      <td>2/27/2013</td>\n",
       "      <td>DCM</td>\n",
       "      <td>NaN</td>\n",
       "    </tr>\n",
       "    <tr>\n",
       "      <th>200</th>\n",
       "      <td>362046</td>\n",
       "      <td>3636</td>\n",
       "      <td>0</td>\n",
       "      <td>M</td>\n",
       "      <td>64</td>\n",
       "      <td>1</td>\n",
       "      <td>MRI</td>\n",
       "      <td>SAG T1 3D MPRAGE</td>\n",
       "      <td>Original</td>\n",
       "      <td>2/22/2013</td>\n",
       "      <td>DCM</td>\n",
       "      <td>NaN</td>\n",
       "    </tr>\n",
       "    <tr>\n",
       "      <th>201</th>\n",
       "      <td>362045</td>\n",
       "      <td>3635</td>\n",
       "      <td>0</td>\n",
       "      <td>M</td>\n",
       "      <td>57</td>\n",
       "      <td>1</td>\n",
       "      <td>MRI</td>\n",
       "      <td>SAG T1 3D MPRAGE</td>\n",
       "      <td>Original</td>\n",
       "      <td>2/07/2013</td>\n",
       "      <td>DCM</td>\n",
       "      <td>NaN</td>\n",
       "    </tr>\n",
       "  </tbody>\n",
       "</table>\n",
       "</div>"
      ],
      "text/plain": [
       "     Image Data ID  Subject  Group Sex  Age  Visit Modality       Description  \\\n",
       "197         353477     3750      0   M   54      5      MRI     MPRAGE GRAPPA   \n",
       "198         368584     3638      1   M   66      1      MRI  SAG T1 3D MPRAGE   \n",
       "199         363979     3637      0   M   57      1      MRI  SAG T1 3D MPRAGE   \n",
       "200         362046     3636      0   M   64      1      MRI  SAG T1 3D MPRAGE   \n",
       "201         362045     3635      0   M   57      1      MRI  SAG T1 3D MPRAGE   \n",
       "\n",
       "         Type    Acq Date Format Downloaded  \n",
       "197  Original  10/10/2012    DCM        NaN  \n",
       "198  Original   4/02/2013    DCM        NaN  \n",
       "199  Original   2/27/2013    DCM        NaN  \n",
       "200  Original   2/22/2013    DCM        NaN  \n",
       "201  Original   2/07/2013    DCM        NaN  "
      ]
     },
     "execution_count": 11,
     "metadata": {},
     "output_type": "execute_result"
    }
   ],
   "source": [
    "# establish control and pd df's\n",
    "df_control = patient_df[patient_df.Group == 0] \n",
    "df_pd = patient_df[patient_df.Group == 1] \n",
    "\n",
    "patient_df.head()"
   ]
  },
  {
   "cell_type": "markdown",
   "metadata": {},
   "source": [
    "##### Split into training and test set"
   ]
  },
  {
   "cell_type": "code",
   "execution_count": 12,
   "metadata": {},
   "outputs": [
    {
     "name": "stdout",
     "output_type": "stream",
     "text": [
      "50.0% Control and 50.0% PD\n"
     ]
    }
   ],
   "source": [
    "from keras.utils import to_categorical\n",
    "\n",
    "def get_y_values(total_slices_info):\n",
    "  \n",
    "  y_values = [s[2] for s in total_slices_info]\n",
    "\n",
    "  # convert to 'keras friendly outputs'\n",
    "  y_values = np.array(to_categorical(y_values, 2))\n",
    "  \n",
    "  return y_values\n",
    "\n",
    "y_values = get_y_values(total_slices_info)\n",
    "\n",
    "# print distribution of the array\n",
    "num_controls = np.unique(y_values, return_counts=True)[1][0]\n",
    "num_pd = np.unique(y_values, return_counts=True)[1][1]\n",
    "\n",
    "pct_controls = (num_controls/ np.sum([num_controls, num_pd])) * 100\n",
    "pct_pd = (num_pd / np.sum([num_controls, num_pd])) * 100\n",
    "print (\"%s%% Control and %s%% PD\" % (pct_controls, pct_pd))"
   ]
  },
  {
   "cell_type": "code",
   "execution_count": 13,
   "metadata": {},
   "outputs": [
    {
     "data": {
      "text/plain": [
       "(102, 200, 200, 160, 1)"
      ]
     },
     "execution_count": 13,
     "metadata": {},
     "output_type": "execute_result"
    }
   ],
   "source": [
    "from sklearn.model_selection import train_test_split\n",
    "\n",
    "# split into training and test set\n",
    "X_train, X_test, y_train, y_test = train_test_split(total_slices, y_values, test_size=0.2, shuffle=True)\n",
    "\n",
    "np.shape(total_slices) # how many y-outputs"
   ]
  },
  {
   "cell_type": "markdown",
   "metadata": {},
   "source": [
    "##### Create model architecture"
   ]
  },
  {
   "cell_type": "code",
   "execution_count": 14,
   "metadata": {},
   "outputs": [],
   "source": [
    "# compile our model\n",
    "model = Sequential()\n",
    "\n",
    "model.add(Convolution3D(filters=8, kernel_size=2, padding='same', \n",
    "                        input_shape=(200,200,160,1), kernel_regularizer=regularizers.l2(0.05),\n",
    "                       use_bias = True)) # padding on first one only?\n",
    "model.add(LeakyReLU(alpha=0.01)) # set to 0.01\n",
    "model.add(MaxPooling3D(pool_size=2)) # pool_size=2\n",
    "## model.add(BatchNormalization(momentum=0.99)) # something to consider next level, moving mean and variance\n",
    "\n",
    "model.add(Convolution3D(filters=16, kernel_size=2))\n",
    "model.add(LeakyReLU(alpha=0.01)) \n",
    "model.add(MaxPooling3D(pool_size=2))\n",
    "## model.add(BatchNormalization(momentum=0.99))\n",
    "\n",
    "model.add(Convolution3D(filters=32, kernel_size=3))\n",
    "model.add(LeakyReLU())\n",
    "model.add(MaxPooling3D(pool_size=2))\n",
    "## model.add(BatchNormalization(momentum=0.99))\n",
    "\n",
    "model.add(Convolution3D(filters=64, kernel_size=3))\n",
    "model.add(LeakyReLU(alpha=0.01))\n",
    "model.add(MaxPooling3D(pool_size=2))\n",
    "## model.add(BatchNormalization(momentum=0.99))\n",
    "\n",
    "model.add(Convolution3D(filters=128, kernel_size=2))\n",
    "model.add(LeakyReLU(alpha=0.01))\n",
    "model.add(MaxPooling3D(pool_size=2))\n",
    "## model.add(BatchNormalization(momentum=0.99))\n",
    "\n",
    "model.add(Convolution3D(filters=256, kernel_size=2))\n",
    "model.add(LeakyReLU(alpha=0.01))\n",
    "model.add(MaxPooling3D(pool_size=2))\n",
    "## model.add(BatchNormalization(momentum=0.99))\n",
    "\n",
    "model.add(Flatten())\n",
    "# model.add(Dropout(0.45)) # add dropout to prevent overfitting\n",
    "model.add(Dense(512))\n",
    "model.add(LeakyReLU(alpha=0.01))\n",
    "\n",
    "# model.add(Dropout(0.2))\n",
    "model.add(Dense(2, activation='softmax'))\n",
    "\n",
    "model.compile(optimizer=Adam(lr=0.00005), loss='categorical_crossentropy',metrics = ['accuracy']) # metrics=['categorical_accuracy']\n",
    "          \n",
    "# experiment with literally everything?... Random Search with optimisers"
   ]
  },
  {
   "cell_type": "markdown",
   "metadata": {},
   "source": [
    "##### Running the model"
   ]
  },
  {
   "cell_type": "code",
   "execution_count": null,
   "metadata": {},
   "outputs": [
    {
     "name": "stdout",
     "output_type": "stream",
     "text": [
      "WARNING:tensorflow:From C:\\Users\\steve\\Anaconda3\\lib\\site-packages\\tensorflow\\python\\ops\\math_ops.py:3066: to_int32 (from tensorflow.python.ops.math_ops) is deprecated and will be removed in a future version.\n",
      "Instructions for updating:\n",
      "Use tf.cast instead.\n",
      "Train on 64 samples, validate on 17 samples\n",
      "Epoch 1/12\n",
      " 5/64 [=>............................] - ETA: 31:18 - loss: 0.0760 - acc: 1.0000"
     ]
    }
   ],
   "source": [
    "for run in range(1):\n",
    "    hist = model.fit(x=X_train, y=y_train, batch_size=5, epochs=1, verbose=1,\n",
    "              validation_split=0.2, shuffle=True)"
   ]
  },
  {
   "cell_type": "code",
   "execution_count": null,
   "metadata": {},
   "outputs": [],
   "source": []
  }
 ],
 "metadata": {
  "kernelspec": {
   "display_name": "Python 3",
   "language": "python",
   "name": "python3"
  },
  "language_info": {
   "codemirror_mode": {
    "name": "ipython",
    "version": 3
   },
   "file_extension": ".py",
   "mimetype": "text/x-python",
   "name": "python",
   "nbconvert_exporter": "python",
   "pygments_lexer": "ipython3",
   "version": "3.7.3"
  }
 },
 "nbformat": 4,
 "nbformat_minor": 2
}
