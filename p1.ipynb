{
  "nbformat": 4,
  "nbformat_minor": 0,
  "metadata": {
    "colab": {
      "name": "p1.ipynb",
      "version": "0.3.2",
      "provenance": [],
      "collapsed_sections": [],
      "include_colab_link": true
    },
    "kernelspec": {
      "name": "python3",
      "display_name": "Python 3"
    },
    "accelerator": "GPU"
  },
  "cells": [
    {
      "cell_type": "markdown",
      "metadata": {
        "id": "view-in-github",
        "colab_type": "text"
      },
      "source": [
        "<a href=\"https://colab.research.google.com/github/StevenVuong/MSc_Project/blob/master/p1.ipynb\" target=\"_parent\"><img src=\"https://colab.research.google.com/assets/colab-badge.svg\" alt=\"Open In Colab\"/></a>"
      ]
    },
    {
      "cell_type": "markdown",
      "metadata": {
        "id": "aAh48NlVUffX",
        "colab_type": "text"
      },
      "source": [
        "**This Notebook contains the script to clean the dataframe of the CSV file to get the number of subjects which are valid entries**"
      ]
    },
    {
      "cell_type": "code",
      "metadata": {
        "id": "t6jjEUtYUbA2",
        "colab_type": "code",
        "outputId": "33752c3a-9d5c-4fa9-b5eb-80aea5b35abf",
        "colab": {
          "base_uri": "https://localhost:8080/",
          "height": 622
        }
      },
      "source": [
        "# install dependencies\n",
        "!pip install deepbrain; # semi-colon to hide the output\n",
        "!pip install pydicom;"
      ],
      "execution_count": 1,
      "outputs": [
        {
          "output_type": "stream",
          "text": [
            "Requirement already satisfied: deepbrain in /usr/local/lib/python3.6/dist-packages (0.1)\n",
            "Requirement already satisfied: nibabel in /usr/local/lib/python3.6/dist-packages (from deepbrain) (2.3.3)\n",
            "Requirement already satisfied: tensorflow in /usr/local/lib/python3.6/dist-packages (from deepbrain) (1.13.1)\n",
            "Requirement already satisfied: scikit-image in /usr/local/lib/python3.6/dist-packages (from deepbrain) (0.15.0)\n",
            "Requirement already satisfied: six>=1.3 in /usr/local/lib/python3.6/dist-packages (from nibabel->deepbrain) (1.12.0)\n",
            "Requirement already satisfied: bz2file in /usr/local/lib/python3.6/dist-packages (from nibabel->deepbrain) (0.98)\n",
            "Requirement already satisfied: numpy>=1.7.1 in /usr/local/lib/python3.6/dist-packages (from nibabel->deepbrain) (1.16.4)\n",
            "Requirement already satisfied: tensorflow-estimator<1.14.0rc0,>=1.13.0 in /usr/local/lib/python3.6/dist-packages (from tensorflow->deepbrain) (1.13.0)\n",
            "Requirement already satisfied: gast>=0.2.0 in /usr/local/lib/python3.6/dist-packages (from tensorflow->deepbrain) (0.2.2)\n",
            "Requirement already satisfied: wheel>=0.26 in /usr/local/lib/python3.6/dist-packages (from tensorflow->deepbrain) (0.33.4)\n",
            "Requirement already satisfied: grpcio>=1.8.6 in /usr/local/lib/python3.6/dist-packages (from tensorflow->deepbrain) (1.15.0)\n",
            "Requirement already satisfied: astor>=0.6.0 in /usr/local/lib/python3.6/dist-packages (from tensorflow->deepbrain) (0.8.0)\n",
            "Requirement already satisfied: termcolor>=1.1.0 in /usr/local/lib/python3.6/dist-packages (from tensorflow->deepbrain) (1.1.0)\n",
            "Requirement already satisfied: absl-py>=0.1.6 in /usr/local/lib/python3.6/dist-packages (from tensorflow->deepbrain) (0.7.1)\n",
            "Requirement already satisfied: protobuf>=3.6.1 in /usr/local/lib/python3.6/dist-packages (from tensorflow->deepbrain) (3.7.1)\n",
            "Requirement already satisfied: keras-preprocessing>=1.0.5 in /usr/local/lib/python3.6/dist-packages (from tensorflow->deepbrain) (1.0.9)\n",
            "Requirement already satisfied: tensorboard<1.14.0,>=1.13.0 in /usr/local/lib/python3.6/dist-packages (from tensorflow->deepbrain) (1.13.1)\n",
            "Requirement already satisfied: keras-applications>=1.0.6 in /usr/local/lib/python3.6/dist-packages (from tensorflow->deepbrain) (1.0.7)\n",
            "Requirement already satisfied: pillow>=4.3.0 in /usr/local/lib/python3.6/dist-packages (from scikit-image->deepbrain) (4.3.0)\n",
            "Requirement already satisfied: matplotlib!=3.0.0,>=2.0.0 in /usr/local/lib/python3.6/dist-packages (from scikit-image->deepbrain) (3.0.3)\n",
            "Requirement already satisfied: imageio>=2.0.1 in /usr/local/lib/python3.6/dist-packages (from scikit-image->deepbrain) (2.4.1)\n",
            "Requirement already satisfied: PyWavelets>=0.4.0 in /usr/local/lib/python3.6/dist-packages (from scikit-image->deepbrain) (1.0.3)\n",
            "Requirement already satisfied: scipy>=0.17.0 in /usr/local/lib/python3.6/dist-packages (from scikit-image->deepbrain) (1.3.0)\n",
            "Requirement already satisfied: networkx>=2.0 in /usr/local/lib/python3.6/dist-packages (from scikit-image->deepbrain) (2.3)\n",
            "Requirement already satisfied: mock>=2.0.0 in /usr/local/lib/python3.6/dist-packages (from tensorflow-estimator<1.14.0rc0,>=1.13.0->tensorflow->deepbrain) (3.0.5)\n",
            "Requirement already satisfied: setuptools in /usr/local/lib/python3.6/dist-packages (from protobuf>=3.6.1->tensorflow->deepbrain) (41.0.1)\n",
            "Requirement already satisfied: markdown>=2.6.8 in /usr/local/lib/python3.6/dist-packages (from tensorboard<1.14.0,>=1.13.0->tensorflow->deepbrain) (3.1.1)\n",
            "Requirement already satisfied: werkzeug>=0.11.15 in /usr/local/lib/python3.6/dist-packages (from tensorboard<1.14.0,>=1.13.0->tensorflow->deepbrain) (0.15.4)\n",
            "Requirement already satisfied: h5py in /usr/local/lib/python3.6/dist-packages (from keras-applications>=1.0.6->tensorflow->deepbrain) (2.8.0)\n",
            "Requirement already satisfied: olefile in /usr/local/lib/python3.6/dist-packages (from pillow>=4.3.0->scikit-image->deepbrain) (0.46)\n",
            "Requirement already satisfied: pyparsing!=2.0.4,!=2.1.2,!=2.1.6,>=2.0.1 in /usr/local/lib/python3.6/dist-packages (from matplotlib!=3.0.0,>=2.0.0->scikit-image->deepbrain) (2.4.0)\n",
            "Requirement already satisfied: python-dateutil>=2.1 in /usr/local/lib/python3.6/dist-packages (from matplotlib!=3.0.0,>=2.0.0->scikit-image->deepbrain) (2.5.3)\n",
            "Requirement already satisfied: kiwisolver>=1.0.1 in /usr/local/lib/python3.6/dist-packages (from matplotlib!=3.0.0,>=2.0.0->scikit-image->deepbrain) (1.1.0)\n",
            "Requirement already satisfied: cycler>=0.10 in /usr/local/lib/python3.6/dist-packages (from matplotlib!=3.0.0,>=2.0.0->scikit-image->deepbrain) (0.10.0)\n",
            "Requirement already satisfied: decorator>=4.3.0 in /usr/local/lib/python3.6/dist-packages (from networkx>=2.0->scikit-image->deepbrain) (4.4.0)\n",
            "Requirement already satisfied: pydicom in /usr/local/lib/python3.6/dist-packages (1.2.2)\n"
          ],
          "name": "stdout"
        }
      ]
    },
    {
      "cell_type": "code",
      "metadata": {
        "id": "yXS10DENUpM9",
        "colab_type": "code",
        "colab": {}
      },
      "source": [
        "import pandas as pd\n",
        "import numpy as np\n",
        "import matplotlib.pyplot as plt\n",
        "%matplotlib inline\n",
        "import os\n",
        "import pydicom\n",
        "import pickle\n",
        "from deepbrain import Extractor\n",
        "from sklearn.model_selection import train_test_split\n",
        "import nibabel as nb"
      ],
      "execution_count": 0,
      "outputs": []
    },
    {
      "cell_type": "code",
      "metadata": {
        "id": "IDxk4nSQUqYR",
        "colab_type": "code",
        "outputId": "9711f780-ac21-456e-da64-7ffa4a46571a",
        "colab": {
          "base_uri": "https://localhost:8080/",
          "height": 50
        }
      },
      "source": [
        "from google.colab import drive\n",
        "\n",
        "# mount google drive into google colab\n",
        "drive.mount('/content/gdrive')\n",
        "\n",
        "os.chdir('/content')\n",
        "\n",
        "# go to where the data is\n",
        "print (os.listdir())\n",
        "os.chdir('gdrive/My Drive/msc_project')"
      ],
      "execution_count": 3,
      "outputs": [
        {
          "output_type": "stream",
          "text": [
            "Drive already mounted at /content/gdrive; to attempt to forcibly remount, call drive.mount(\"/content/gdrive\", force_remount=True).\n",
            "['.config', 'gdrive', 'sample_data']\n"
          ],
          "name": "stdout"
        }
      ]
    },
    {
      "cell_type": "markdown",
      "metadata": {
        "id": "HZZ9z2LEU4GM",
        "colab_type": "text"
      },
      "source": [
        "**Load Dataframe and change name tags for Gen Cohort and Controls**"
      ]
    },
    {
      "cell_type": "code",
      "metadata": {
        "id": "ZV_KAtypUr5l",
        "colab_type": "code",
        "outputId": "b765df89-9df8-4d54-b6fc-b00c47252a5d",
        "colab": {
          "base_uri": "https://localhost:8080/",
          "height": 212
        }
      },
      "source": [
        "# https://www.kaggle.com/sentdex/first-pass-through-data-w-3d-convnet\n",
        "patients_file_dir = 'T1_SAG_SIEMEN_3T_CLEAN_TRY2'\n",
        "\n",
        "patients = os.listdir(patients_file_dir) # get all patients ID's in scan\n",
        "patient_df = pd.read_csv('T1_SAG_SIEMEN_3T_CLEAN_5_29_2019.csv') # get dataframe too to cross reference\n",
        "\n",
        "# Map GenCohort to regular PD and Controls\n",
        "patient_df['Group'] = patient_df['Group'].replace({'GenCohort PD':'PD', 'GenCohort Unaff':'Control'})\n",
        "\n",
        "# map control to 0 and pd to 1\n",
        "patient_df['Group'] = patient_df['Group'].replace({'Control':0, 'PD':1})\n",
        "\n",
        "print (\"There are %d number of patients prior to processing\" % len(patient_df))\n",
        "patient_df.head()"
      ],
      "execution_count": 4,
      "outputs": [
        {
          "output_type": "stream",
          "text": [
            "There are 381 number of patients prior to processing\n"
          ],
          "name": "stdout"
        },
        {
          "output_type": "execute_result",
          "data": {
            "text/html": [
              "<div>\n",
              "<style scoped>\n",
              "    .dataframe tbody tr th:only-of-type {\n",
              "        vertical-align: middle;\n",
              "    }\n",
              "\n",
              "    .dataframe tbody tr th {\n",
              "        vertical-align: top;\n",
              "    }\n",
              "\n",
              "    .dataframe thead th {\n",
              "        text-align: right;\n",
              "    }\n",
              "</style>\n",
              "<table border=\"1\" class=\"dataframe\">\n",
              "  <thead>\n",
              "    <tr style=\"text-align: right;\">\n",
              "      <th></th>\n",
              "      <th>Image Data ID</th>\n",
              "      <th>Subject</th>\n",
              "      <th>Group</th>\n",
              "      <th>Sex</th>\n",
              "      <th>Age</th>\n",
              "      <th>Visit</th>\n",
              "      <th>Modality</th>\n",
              "      <th>Description</th>\n",
              "      <th>Type</th>\n",
              "      <th>Acq Date</th>\n",
              "      <th>Format</th>\n",
              "      <th>Downloaded</th>\n",
              "    </tr>\n",
              "  </thead>\n",
              "  <tbody>\n",
              "    <tr>\n",
              "      <th>0</th>\n",
              "      <td>1130198</td>\n",
              "      <td>75422</td>\n",
              "      <td>0</td>\n",
              "      <td>M</td>\n",
              "      <td>73</td>\n",
              "      <td>1</td>\n",
              "      <td>MRI</td>\n",
              "      <td>MPRAGE GRAPPA</td>\n",
              "      <td>Original</td>\n",
              "      <td>11/13/2018</td>\n",
              "      <td>DCM</td>\n",
              "      <td>5/07/2019</td>\n",
              "    </tr>\n",
              "    <tr>\n",
              "      <th>1</th>\n",
              "      <td>1130190</td>\n",
              "      <td>75414</td>\n",
              "      <td>0</td>\n",
              "      <td>F</td>\n",
              "      <td>73</td>\n",
              "      <td>1</td>\n",
              "      <td>MRI</td>\n",
              "      <td>Sag MPRAGE GRAPPA</td>\n",
              "      <td>Original</td>\n",
              "      <td>12/13/2018</td>\n",
              "      <td>DCM</td>\n",
              "      <td>4/24/2019</td>\n",
              "    </tr>\n",
              "    <tr>\n",
              "      <th>2</th>\n",
              "      <td>1130191</td>\n",
              "      <td>75414</td>\n",
              "      <td>0</td>\n",
              "      <td>F</td>\n",
              "      <td>73</td>\n",
              "      <td>1</td>\n",
              "      <td>MRI</td>\n",
              "      <td>Sag MPRAGE GRAPPA</td>\n",
              "      <td>Original</td>\n",
              "      <td>12/13/2018</td>\n",
              "      <td>DCM</td>\n",
              "      <td>4/24/2019</td>\n",
              "    </tr>\n",
              "    <tr>\n",
              "      <th>3</th>\n",
              "      <td>1125041</td>\n",
              "      <td>74375</td>\n",
              "      <td>0</td>\n",
              "      <td>F</td>\n",
              "      <td>59</td>\n",
              "      <td>1</td>\n",
              "      <td>MRI</td>\n",
              "      <td>MPRAGE_GRAPPA</td>\n",
              "      <td>Original</td>\n",
              "      <td>9/06/2018</td>\n",
              "      <td>DCM</td>\n",
              "      <td>4/24/2019</td>\n",
              "    </tr>\n",
              "    <tr>\n",
              "      <th>4</th>\n",
              "      <td>1003469</td>\n",
              "      <td>72138</td>\n",
              "      <td>0</td>\n",
              "      <td>F</td>\n",
              "      <td>55</td>\n",
              "      <td>1</td>\n",
              "      <td>MRI</td>\n",
              "      <td>MPRAGE GRAPPA</td>\n",
              "      <td>Original</td>\n",
              "      <td>2/19/2018</td>\n",
              "      <td>DCM</td>\n",
              "      <td>4/24/2019</td>\n",
              "    </tr>\n",
              "  </tbody>\n",
              "</table>\n",
              "</div>"
            ],
            "text/plain": [
              "   Image Data ID  Subject  Group Sex  ...      Type    Acq Date Format Downloaded\n",
              "0        1130198    75422      0   M  ...  Original  11/13/2018    DCM  5/07/2019\n",
              "1        1130190    75414      0   F  ...  Original  12/13/2018    DCM  4/24/2019\n",
              "2        1130191    75414      0   F  ...  Original  12/13/2018    DCM  4/24/2019\n",
              "3        1125041    74375      0   F  ...  Original   9/06/2018    DCM  4/24/2019\n",
              "4        1003469    72138      0   F  ...  Original   2/19/2018    DCM  4/24/2019\n",
              "\n",
              "[5 rows x 12 columns]"
            ]
          },
          "metadata": {
            "tags": []
          },
          "execution_count": 4
        }
      ]
    },
    {
      "cell_type": "code",
      "metadata": {
        "id": "MiC0ESZSU7Yn",
        "colab_type": "code",
        "outputId": "ffc321f3-6e52-496f-f6d3-88837a16d103",
        "colab": {
          "base_uri": "https://localhost:8080/",
          "height": 34
        }
      },
      "source": [
        "def get_grappa_dir(path):\n",
        "  # get the file ending with 'GRAPPA', would need to accomodate this for grappa also\n",
        "  returning_path = None\n",
        "  for next_path in os.listdir(path):\n",
        "    last_item = next_path.split(\"_\")[-1]\n",
        "    acceptable_last_items = ['GRAPPA', 'MPRAGE', 'SAG', 'ND', '2']\n",
        "    if (last_item in acceptable_last_items): # for the t1 weighted\n",
        "      returning_path = next_path\n",
        "      return returning_path\n",
        "    else: # some print statements to debug\n",
        "      print (\"NOT ACCEPTABLE: %s \" % last_item)\n",
        "      print (\"Path: %s \" % (path+next_path))\n",
        "\n",
        "def get_dcm_s(path):\n",
        "  # get the path beginning with S, so doesn't clash with GZ File\n",
        "  for next_path in os.listdir(path):\n",
        "    if (next_path[0] == 'S'):\n",
        "      return next_path\n",
        "\n",
        "def get_path_to_patient(patient):\n",
        "  path = None\n",
        "  try:\n",
        "    # label = patient_df.get_value(patient, 'Subject') # cannot go by patient, must get the ID\n",
        "    path = cwd + '/' + patients_file_dir + '/' + str(patient) # get to the GRAPPA \n",
        "    path = path + '/' + get_grappa_dir(path)\n",
        "    path = path + '/' + os.listdir(path)[-1] # get the most recent scan for patient\n",
        "    path = path + '/' + get_dcm_s(path)\n",
        "  except Exception as e:\n",
        "    print (\"No path found for patient %s: %s\" % (str(patient),str(e)))\n",
        "    \n",
        "  return path\n",
        "    \n",
        "def get_no_scans(patient_ids):\n",
        "  '''Return patient list which have no scans'''\n",
        "  no_scan_list = []\n",
        "  \n",
        "  for patient_id in patient_ids:\n",
        "    \n",
        "    patient_path = get_path_to_patient(patient_id)\n",
        "    \n",
        "    dcm_filepath = os.listdir(patient_path)\n",
        "\n",
        "    if len(dcm_filepath) == 0:\n",
        "      no_scan_list.append(patient_id)\n",
        "    \n",
        "  return no_scan_list\n",
        "  \n",
        "cwd = os.getcwd()\n",
        "print (cwd)\n",
        "\n",
        "def check_patients_exist(patient_ids):\n",
        "  '''Check patient number is stored in files, otherwise remove from df'''\n",
        "  to_remove_list = []\n",
        "  \n",
        "  path_to = cwd + '/' + patients_file_dir\n",
        "  p_list = os.listdir(path_to)\n",
        "  reference_list = patient_ids.values\n",
        "\n",
        "  for patients in p_list:\n",
        "    patients = int(patients)\n",
        "    if patients not in reference_list: # if file is not in list of our csv file\n",
        "      to_remove_list.append(patients)\n",
        "  \n",
        "  return to_remove_list\n",
        "\n",
        "def check_img_size(patient_ids):\n",
        "  '''check first image size of each patient, must meet size of [15:175, 30:230, 30:230]'''\n",
        "  mismatched_patients = []\n",
        "  \n",
        "  for patient_id in patient_ids: # loop through patients, get shape, if not match, discard\n",
        "    # get path to dcm\n",
        "    path = get_path_to_patient(patient_id)\n",
        "    dcm_files = os.listdir(path)\n",
        "    \n",
        "    random_dcm = dcm_files[0]\n",
        "    num_files = len(os.listdir(path))\n",
        "    \n",
        "    path_dcm = path + '/' + random_dcm\n",
        "    \n",
        "    # check which have less than 160 scans\n",
        "    if (num_files <160):\n",
        "      mismatched_patients.append(patient_id)\n",
        "      \n",
        "    # check if any images have dimensions less than (240, 240)    \n",
        "    random_dcm_shape = np.shape(pydicom.read_file(path_dcm).pixel_array)\n",
        "    \n",
        "    if (random_dcm_shape[0] < 240 or random_dcm_shape[1] < 240):\n",
        "      mismatched_patients.append(patient_id)\n",
        "      \n",
        "  return mismatched_patients"
      ],
      "execution_count": 5,
      "outputs": [
        {
          "output_type": "stream",
          "text": [
            "/content/gdrive/My Drive/msc_project\n"
          ],
          "name": "stdout"
        }
      ]
    },
    {
      "cell_type": "markdown",
      "metadata": {
        "id": "n0uCMjndVEOe",
        "colab_type": "text"
      },
      "source": [
        "**Clean up Dataframe**"
      ]
    },
    {
      "cell_type": "code",
      "metadata": {
        "id": "rs1b0MqCVBDV",
        "colab_type": "code",
        "colab": {}
      },
      "source": [
        "# remove missing patients\n",
        "patient_ids = patient_df['Subject']\n",
        "patients_absent = check_patients_exist(patient_ids) # check if patient numbers are there\n",
        "patient_df = patient_df[~patient_df['Subject'].isin(patients_absent)]\n",
        "\n",
        "# remove empty folders\n",
        "patient_ids = patient_df['Subject']\n",
        "patients_missing_scans = get_no_scans(patient_ids) # get empty folders\n",
        "patient_df = patient_df[~patient_df['Subject'].isin(patients_missing_scans)]\n",
        "\n",
        "# get id's now of patients with bad image size\n",
        "patient_ids = patient_df['Subject']\n",
        "patients_wrong_imgsize = check_img_size(patient_ids)\n",
        "patient_df = patient_df[~patient_df['Subject'].isin(patients_wrong_imgsize)] # what we get now should be okay\n",
        "\n",
        "# finally, drop duplicated subject ID's (we grab all the multiple images from later on when we open it's file)\n",
        "patient_df = patient_df.drop_duplicates('Subject', keep='last')"
      ],
      "execution_count": 0,
      "outputs": []
    },
    {
      "cell_type": "code",
      "metadata": {
        "id": "3Sn1roleVjmc",
        "colab_type": "code",
        "outputId": "98b02afd-5245-4387-8d99-b4a85fdd5fa0",
        "colab": {
          "base_uri": "https://localhost:8080/",
          "height": 212
        }
      },
      "source": [
        "print (\"There are %d number of patients after processing\" % len(patient_df))\n",
        "patient_df.head()"
      ],
      "execution_count": 7,
      "outputs": [
        {
          "output_type": "stream",
          "text": [
            "There are 351 number of patients after processing\n"
          ],
          "name": "stdout"
        },
        {
          "output_type": "execute_result",
          "data": {
            "text/html": [
              "<div>\n",
              "<style scoped>\n",
              "    .dataframe tbody tr th:only-of-type {\n",
              "        vertical-align: middle;\n",
              "    }\n",
              "\n",
              "    .dataframe tbody tr th {\n",
              "        vertical-align: top;\n",
              "    }\n",
              "\n",
              "    .dataframe thead th {\n",
              "        text-align: right;\n",
              "    }\n",
              "</style>\n",
              "<table border=\"1\" class=\"dataframe\">\n",
              "  <thead>\n",
              "    <tr style=\"text-align: right;\">\n",
              "      <th></th>\n",
              "      <th>Image Data ID</th>\n",
              "      <th>Subject</th>\n",
              "      <th>Group</th>\n",
              "      <th>Sex</th>\n",
              "      <th>Age</th>\n",
              "      <th>Visit</th>\n",
              "      <th>Modality</th>\n",
              "      <th>Description</th>\n",
              "      <th>Type</th>\n",
              "      <th>Acq Date</th>\n",
              "      <th>Format</th>\n",
              "      <th>Downloaded</th>\n",
              "    </tr>\n",
              "  </thead>\n",
              "  <tbody>\n",
              "    <tr>\n",
              "      <th>0</th>\n",
              "      <td>1130198</td>\n",
              "      <td>75422</td>\n",
              "      <td>0</td>\n",
              "      <td>M</td>\n",
              "      <td>73</td>\n",
              "      <td>1</td>\n",
              "      <td>MRI</td>\n",
              "      <td>MPRAGE GRAPPA</td>\n",
              "      <td>Original</td>\n",
              "      <td>11/13/2018</td>\n",
              "      <td>DCM</td>\n",
              "      <td>5/07/2019</td>\n",
              "    </tr>\n",
              "    <tr>\n",
              "      <th>2</th>\n",
              "      <td>1130191</td>\n",
              "      <td>75414</td>\n",
              "      <td>0</td>\n",
              "      <td>F</td>\n",
              "      <td>73</td>\n",
              "      <td>1</td>\n",
              "      <td>MRI</td>\n",
              "      <td>Sag MPRAGE GRAPPA</td>\n",
              "      <td>Original</td>\n",
              "      <td>12/13/2018</td>\n",
              "      <td>DCM</td>\n",
              "      <td>4/24/2019</td>\n",
              "    </tr>\n",
              "    <tr>\n",
              "      <th>3</th>\n",
              "      <td>1125041</td>\n",
              "      <td>74375</td>\n",
              "      <td>0</td>\n",
              "      <td>F</td>\n",
              "      <td>59</td>\n",
              "      <td>1</td>\n",
              "      <td>MRI</td>\n",
              "      <td>MPRAGE_GRAPPA</td>\n",
              "      <td>Original</td>\n",
              "      <td>9/06/2018</td>\n",
              "      <td>DCM</td>\n",
              "      <td>4/24/2019</td>\n",
              "    </tr>\n",
              "    <tr>\n",
              "      <th>4</th>\n",
              "      <td>1003469</td>\n",
              "      <td>72138</td>\n",
              "      <td>0</td>\n",
              "      <td>F</td>\n",
              "      <td>55</td>\n",
              "      <td>1</td>\n",
              "      <td>MRI</td>\n",
              "      <td>MPRAGE GRAPPA</td>\n",
              "      <td>Original</td>\n",
              "      <td>2/19/2018</td>\n",
              "      <td>DCM</td>\n",
              "      <td>4/24/2019</td>\n",
              "    </tr>\n",
              "    <tr>\n",
              "      <th>5</th>\n",
              "      <td>1119693</td>\n",
              "      <td>71935</td>\n",
              "      <td>1</td>\n",
              "      <td>M</td>\n",
              "      <td>66</td>\n",
              "      <td>1</td>\n",
              "      <td>MRI</td>\n",
              "      <td>MPRAGE GRAPPA</td>\n",
              "      <td>Original</td>\n",
              "      <td>4/03/2018</td>\n",
              "      <td>DCM</td>\n",
              "      <td>4/24/2019</td>\n",
              "    </tr>\n",
              "  </tbody>\n",
              "</table>\n",
              "</div>"
            ],
            "text/plain": [
              "   Image Data ID  Subject  Group Sex  ...      Type    Acq Date Format Downloaded\n",
              "0        1130198    75422      0   M  ...  Original  11/13/2018    DCM  5/07/2019\n",
              "2        1130191    75414      0   F  ...  Original  12/13/2018    DCM  4/24/2019\n",
              "3        1125041    74375      0   F  ...  Original   9/06/2018    DCM  4/24/2019\n",
              "4        1003469    72138      0   F  ...  Original   2/19/2018    DCM  4/24/2019\n",
              "5        1119693    71935      1   M  ...  Original   4/03/2018    DCM  4/24/2019\n",
              "\n",
              "[5 rows x 12 columns]"
            ]
          },
          "metadata": {
            "tags": []
          },
          "execution_count": 7
        }
      ]
    },
    {
      "cell_type": "markdown",
      "metadata": {
        "id": "sI6TMr38VcSB",
        "colab_type": "text"
      },
      "source": [
        "**Save df as a pickle file**"
      ]
    },
    {
      "cell_type": "code",
      "metadata": {
        "id": "K_dcDxgYVGrU",
        "colab_type": "code",
        "colab": {}
      },
      "source": [
        "patient_df.to_pickle('processed_patient_df_TRY2.pkl')"
      ],
      "execution_count": 0,
      "outputs": []
    },
    {
      "cell_type": "code",
      "metadata": {
        "id": "j5lmgQPdXR3z",
        "colab_type": "code",
        "colab": {}
      },
      "source": [
        ""
      ],
      "execution_count": 0,
      "outputs": []
    }
  ]
}