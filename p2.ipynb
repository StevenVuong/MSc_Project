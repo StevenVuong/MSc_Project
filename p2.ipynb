{
  "nbformat": 4,
  "nbformat_minor": 0,
  "metadata": {
    "colab": {
      "name": "p2.ipynb",
      "version": "0.3.2",
      "provenance": [],
      "collapsed_sections": [],
      "include_colab_link": true
    },
    "kernelspec": {
      "name": "python3",
      "display_name": "Python 3"
    },
    "accelerator": "GPU"
  },
  "cells": [
    {
      "cell_type": "markdown",
      "metadata": {
        "id": "view-in-github",
        "colab_type": "text"
      },
      "source": [
        "<a href=\"https://colab.research.google.com/github/StevenVuong/MSc_Project/blob/master/p2.ipynb\" target=\"_parent\"><img src=\"https://colab.research.google.com/assets/colab-badge.svg\" alt=\"Open In Colab\"/></a>"
      ]
    },
    {
      "cell_type": "markdown",
      "metadata": {
        "id": "x0Rxng2XV9U4",
        "colab_type": "text"
      },
      "source": [
        "**This notebook is concerned with loading all the DCM files into an array and storing them accordingly**"
      ]
    },
    {
      "cell_type": "code",
      "metadata": {
        "id": "X4q59BekUfPP",
        "colab_type": "code",
        "outputId": "df1c27bf-7b20-46d9-9f3c-669e76f981e5",
        "colab": {
          "base_uri": "https://localhost:8080/",
          "height": 756
        }
      },
      "source": [
        "# install dependencies\n",
        "!pip install deepbrain; # semi-colon to hide the output\n",
        "!pip install pydicom;"
      ],
      "execution_count": 0,
      "outputs": [
        {
          "output_type": "stream",
          "text": [
            "Collecting deepbrain\n",
            "\u001b[?25l  Downloading https://files.pythonhosted.org/packages/61/e4/1f4f6c483dd9c5c1e0e38193b3c7ade8beb13c24c90bab593ca545c7da92/deepbrain-0.1-py3-none-any.whl (677kB)\n",
            "\u001b[K     |████████████████████████████████| 686kB 3.4MB/s \n",
            "\u001b[?25hRequirement already satisfied: scikit-image in /usr/local/lib/python3.6/dist-packages (from deepbrain) (0.15.0)\n",
            "Requirement already satisfied: tensorflow in /usr/local/lib/python3.6/dist-packages (from deepbrain) (1.13.1)\n",
            "Requirement already satisfied: nibabel in /usr/local/lib/python3.6/dist-packages (from deepbrain) (2.3.3)\n",
            "Requirement already satisfied: networkx>=2.0 in /usr/local/lib/python3.6/dist-packages (from scikit-image->deepbrain) (2.3)\n",
            "Requirement already satisfied: matplotlib!=3.0.0,>=2.0.0 in /usr/local/lib/python3.6/dist-packages (from scikit-image->deepbrain) (3.0.3)\n",
            "Requirement already satisfied: pillow>=4.3.0 in /usr/local/lib/python3.6/dist-packages (from scikit-image->deepbrain) (4.3.0)\n",
            "Requirement already satisfied: imageio>=2.0.1 in /usr/local/lib/python3.6/dist-packages (from scikit-image->deepbrain) (2.4.1)\n",
            "Requirement already satisfied: PyWavelets>=0.4.0 in /usr/local/lib/python3.6/dist-packages (from scikit-image->deepbrain) (1.0.3)\n",
            "Requirement already satisfied: scipy>=0.17.0 in /usr/local/lib/python3.6/dist-packages (from scikit-image->deepbrain) (1.3.0)\n",
            "Requirement already satisfied: protobuf>=3.6.1 in /usr/local/lib/python3.6/dist-packages (from tensorflow->deepbrain) (3.7.1)\n",
            "Requirement already satisfied: termcolor>=1.1.0 in /usr/local/lib/python3.6/dist-packages (from tensorflow->deepbrain) (1.1.0)\n",
            "Requirement already satisfied: gast>=0.2.0 in /usr/local/lib/python3.6/dist-packages (from tensorflow->deepbrain) (0.2.2)\n",
            "Requirement already satisfied: absl-py>=0.1.6 in /usr/local/lib/python3.6/dist-packages (from tensorflow->deepbrain) (0.7.1)\n",
            "Requirement already satisfied: astor>=0.6.0 in /usr/local/lib/python3.6/dist-packages (from tensorflow->deepbrain) (0.8.0)\n",
            "Requirement already satisfied: grpcio>=1.8.6 in /usr/local/lib/python3.6/dist-packages (from tensorflow->deepbrain) (1.15.0)\n",
            "Requirement already satisfied: numpy>=1.13.3 in /usr/local/lib/python3.6/dist-packages (from tensorflow->deepbrain) (1.16.4)\n",
            "Requirement already satisfied: tensorboard<1.14.0,>=1.13.0 in /usr/local/lib/python3.6/dist-packages (from tensorflow->deepbrain) (1.13.1)\n",
            "Requirement already satisfied: six>=1.10.0 in /usr/local/lib/python3.6/dist-packages (from tensorflow->deepbrain) (1.12.0)\n",
            "Requirement already satisfied: tensorflow-estimator<1.14.0rc0,>=1.13.0 in /usr/local/lib/python3.6/dist-packages (from tensorflow->deepbrain) (1.13.0)\n",
            "Requirement already satisfied: keras-preprocessing>=1.0.5 in /usr/local/lib/python3.6/dist-packages (from tensorflow->deepbrain) (1.0.9)\n",
            "Requirement already satisfied: keras-applications>=1.0.6 in /usr/local/lib/python3.6/dist-packages (from tensorflow->deepbrain) (1.0.7)\n",
            "Requirement already satisfied: wheel>=0.26 in /usr/local/lib/python3.6/dist-packages (from tensorflow->deepbrain) (0.33.4)\n",
            "Requirement already satisfied: bz2file in /usr/local/lib/python3.6/dist-packages (from nibabel->deepbrain) (0.98)\n",
            "Requirement already satisfied: decorator>=4.3.0 in /usr/local/lib/python3.6/dist-packages (from networkx>=2.0->scikit-image->deepbrain) (4.4.0)\n",
            "Requirement already satisfied: pyparsing!=2.0.4,!=2.1.2,!=2.1.6,>=2.0.1 in /usr/local/lib/python3.6/dist-packages (from matplotlib!=3.0.0,>=2.0.0->scikit-image->deepbrain) (2.4.0)\n",
            "Requirement already satisfied: python-dateutil>=2.1 in /usr/local/lib/python3.6/dist-packages (from matplotlib!=3.0.0,>=2.0.0->scikit-image->deepbrain) (2.5.3)\n",
            "Requirement already satisfied: kiwisolver>=1.0.1 in /usr/local/lib/python3.6/dist-packages (from matplotlib!=3.0.0,>=2.0.0->scikit-image->deepbrain) (1.1.0)\n",
            "Requirement already satisfied: cycler>=0.10 in /usr/local/lib/python3.6/dist-packages (from matplotlib!=3.0.0,>=2.0.0->scikit-image->deepbrain) (0.10.0)\n",
            "Requirement already satisfied: olefile in /usr/local/lib/python3.6/dist-packages (from pillow>=4.3.0->scikit-image->deepbrain) (0.46)\n",
            "Requirement already satisfied: setuptools in /usr/local/lib/python3.6/dist-packages (from protobuf>=3.6.1->tensorflow->deepbrain) (41.0.1)\n",
            "Requirement already satisfied: werkzeug>=0.11.15 in /usr/local/lib/python3.6/dist-packages (from tensorboard<1.14.0,>=1.13.0->tensorflow->deepbrain) (0.15.4)\n",
            "Requirement already satisfied: markdown>=2.6.8 in /usr/local/lib/python3.6/dist-packages (from tensorboard<1.14.0,>=1.13.0->tensorflow->deepbrain) (3.1.1)\n",
            "Requirement already satisfied: mock>=2.0.0 in /usr/local/lib/python3.6/dist-packages (from tensorflow-estimator<1.14.0rc0,>=1.13.0->tensorflow->deepbrain) (3.0.5)\n",
            "Requirement already satisfied: h5py in /usr/local/lib/python3.6/dist-packages (from keras-applications>=1.0.6->tensorflow->deepbrain) (2.8.0)\n",
            "Installing collected packages: deepbrain\n",
            "Successfully installed deepbrain-0.1\n",
            "Collecting pydicom\n",
            "\u001b[?25l  Downloading https://files.pythonhosted.org/packages/43/88/d3c419ab2e753e7651510882a53219373e78fb55294cb247dffd3934ea55/pydicom-1.2.2-py2.py3-none-any.whl (7.0MB)\n",
            "\u001b[K     |████████████████████████████████| 7.0MB 3.3MB/s \n",
            "\u001b[?25hInstalling collected packages: pydicom\n",
            "Successfully installed pydicom-1.2.2\n"
          ],
          "name": "stdout"
        }
      ]
    },
    {
      "cell_type": "code",
      "metadata": {
        "id": "8H5E3l9vXjEb",
        "colab_type": "code",
        "colab": {}
      },
      "source": [
        "import pandas as pd\n",
        "import numpy as np\n",
        "import matplotlib.pyplot as plt\n",
        "%matplotlib inline\n",
        "import os\n",
        "import pydicom\n",
        "import pickle\n",
        "from deepbrain import Extractor\n",
        "from sklearn.model_selection import train_test_split\n",
        "import nibabel as nb"
      ],
      "execution_count": 0,
      "outputs": []
    },
    {
      "cell_type": "code",
      "metadata": {
        "id": "EvkbPuFwXoQI",
        "colab_type": "code",
        "outputId": "f4a2d53d-d56b-473d-8a7c-26e68a995147",
        "colab": {
          "base_uri": "https://localhost:8080/",
          "height": 50
        }
      },
      "source": [
        "from google.colab import drive\n",
        "\n",
        "# mount google drive into google colab\n",
        "drive.mount('/content/gdrive')\n",
        "\n",
        "os.chdir('/content')\n",
        "\n",
        "# go to where the data is\n",
        "print (os.listdir())\n",
        "os.chdir('gdrive/My Drive/msc_project')"
      ],
      "execution_count": 0,
      "outputs": [
        {
          "output_type": "stream",
          "text": [
            "Drive already mounted at /content/gdrive; to attempt to forcibly remount, call drive.mount(\"/content/gdrive\", force_remount=True).\n",
            "['.config', 'gdrive', 'sample_data']\n"
          ],
          "name": "stdout"
        }
      ]
    },
    {
      "cell_type": "markdown",
      "metadata": {
        "id": "yb2ttBSsZy20",
        "colab_type": "text"
      },
      "source": [
        "**Load Dataframe and select subsample of patients to load**"
      ]
    },
    {
      "cell_type": "code",
      "metadata": {
        "id": "Tc2AQWPWV2nj",
        "colab_type": "code",
        "outputId": "30779d95-5f28-4d4f-9c24-7314321b00e6",
        "colab": {
          "base_uri": "https://localhost:8080/",
          "height": 195
        }
      },
      "source": [
        "# load the data frame pickle file\n",
        "patient_df = pd.read_pickle('processed_patient_df.pkl')\n",
        "patient_df.head()"
      ],
      "execution_count": 0,
      "outputs": [
        {
          "output_type": "execute_result",
          "data": {
            "text/html": [
              "<div>\n",
              "<style scoped>\n",
              "    .dataframe tbody tr th:only-of-type {\n",
              "        vertical-align: middle;\n",
              "    }\n",
              "\n",
              "    .dataframe tbody tr th {\n",
              "        vertical-align: top;\n",
              "    }\n",
              "\n",
              "    .dataframe thead th {\n",
              "        text-align: right;\n",
              "    }\n",
              "</style>\n",
              "<table border=\"1\" class=\"dataframe\">\n",
              "  <thead>\n",
              "    <tr style=\"text-align: right;\">\n",
              "      <th></th>\n",
              "      <th>Image Data ID</th>\n",
              "      <th>Subject</th>\n",
              "      <th>Group</th>\n",
              "      <th>Sex</th>\n",
              "      <th>Age</th>\n",
              "      <th>Visit</th>\n",
              "      <th>Modality</th>\n",
              "      <th>Description</th>\n",
              "      <th>Type</th>\n",
              "      <th>Acq Date</th>\n",
              "      <th>Format</th>\n",
              "      <th>Downloaded</th>\n",
              "    </tr>\n",
              "  </thead>\n",
              "  <tbody>\n",
              "    <tr>\n",
              "      <th>197</th>\n",
              "      <td>353477</td>\n",
              "      <td>3750</td>\n",
              "      <td>0</td>\n",
              "      <td>M</td>\n",
              "      <td>54</td>\n",
              "      <td>5</td>\n",
              "      <td>MRI</td>\n",
              "      <td>MPRAGE GRAPPA</td>\n",
              "      <td>Original</td>\n",
              "      <td>10/10/2012</td>\n",
              "      <td>DCM</td>\n",
              "      <td>NaN</td>\n",
              "    </tr>\n",
              "    <tr>\n",
              "      <th>198</th>\n",
              "      <td>368584</td>\n",
              "      <td>3638</td>\n",
              "      <td>1</td>\n",
              "      <td>M</td>\n",
              "      <td>66</td>\n",
              "      <td>1</td>\n",
              "      <td>MRI</td>\n",
              "      <td>SAG T1 3D MPRAGE</td>\n",
              "      <td>Original</td>\n",
              "      <td>4/02/2013</td>\n",
              "      <td>DCM</td>\n",
              "      <td>NaN</td>\n",
              "    </tr>\n",
              "    <tr>\n",
              "      <th>199</th>\n",
              "      <td>363979</td>\n",
              "      <td>3637</td>\n",
              "      <td>0</td>\n",
              "      <td>M</td>\n",
              "      <td>57</td>\n",
              "      <td>1</td>\n",
              "      <td>MRI</td>\n",
              "      <td>SAG T1 3D MPRAGE</td>\n",
              "      <td>Original</td>\n",
              "      <td>2/27/2013</td>\n",
              "      <td>DCM</td>\n",
              "      <td>NaN</td>\n",
              "    </tr>\n",
              "    <tr>\n",
              "      <th>200</th>\n",
              "      <td>362046</td>\n",
              "      <td>3636</td>\n",
              "      <td>0</td>\n",
              "      <td>M</td>\n",
              "      <td>64</td>\n",
              "      <td>1</td>\n",
              "      <td>MRI</td>\n",
              "      <td>SAG T1 3D MPRAGE</td>\n",
              "      <td>Original</td>\n",
              "      <td>2/22/2013</td>\n",
              "      <td>DCM</td>\n",
              "      <td>NaN</td>\n",
              "    </tr>\n",
              "    <tr>\n",
              "      <th>201</th>\n",
              "      <td>362045</td>\n",
              "      <td>3635</td>\n",
              "      <td>0</td>\n",
              "      <td>M</td>\n",
              "      <td>57</td>\n",
              "      <td>1</td>\n",
              "      <td>MRI</td>\n",
              "      <td>SAG T1 3D MPRAGE</td>\n",
              "      <td>Original</td>\n",
              "      <td>2/07/2013</td>\n",
              "      <td>DCM</td>\n",
              "      <td>NaN</td>\n",
              "    </tr>\n",
              "  </tbody>\n",
              "</table>\n",
              "</div>"
            ],
            "text/plain": [
              "     Image Data ID  Subject  Group Sex  ...      Type    Acq Date Format Downloaded\n",
              "197         353477     3750      0   M  ...  Original  10/10/2012    DCM        NaN\n",
              "198         368584     3638      1   M  ...  Original   4/02/2013    DCM        NaN\n",
              "199         363979     3637      0   M  ...  Original   2/27/2013    DCM        NaN\n",
              "200         362046     3636      0   M  ...  Original   2/22/2013    DCM        NaN\n",
              "201         362045     3635      0   M  ...  Original   2/07/2013    DCM        NaN\n",
              "\n",
              "[5 rows x 12 columns]"
            ]
          },
          "metadata": {
            "tags": []
          },
          "execution_count": 4
        }
      ]
    },
    {
      "cell_type": "markdown",
      "metadata": {
        "id": "cHUItOb-Z2Ih",
        "colab_type": "text"
      },
      "source": [
        "**Functions to define grab the corresponding patient files into an array**"
      ]
    },
    {
      "cell_type": "code",
      "metadata": {
        "id": "5BiGDQJlasQl",
        "colab_type": "code",
        "colab": {}
      },
      "source": [
        "cwd = os.getcwd()\n",
        "patients_file_dir = 'T1_SAG_SIEMEN_3T_CLEAN'"
      ],
      "execution_count": 0,
      "outputs": []
    },
    {
      "cell_type": "code",
      "metadata": {
        "id": "IuEJ1pHjaXXs",
        "colab_type": "code",
        "colab": {}
      },
      "source": [
        "def get_grappa_dir(path):\n",
        "  # get the file ending with 'GRAPPA', would need to accomodate this for grappa also\n",
        "  returning_path = None\n",
        "  for next_path in os.listdir(path):\n",
        "    last_item = next_path.split(\"_\")[-1]\n",
        "    acceptable_last_items = ['GRAPPA', 'MPRAGE', 'SAG', 'ND']\n",
        "    if (last_item in acceptable_last_items): # for the t1 weighted\n",
        "      returning_path = next_path\n",
        "      return returning_path\n",
        "    else: # some print statements to debug\n",
        "      print (\"NOT ACCEPTABLE: %s \" % last_item)\n",
        "      print (\"Path: %s \" % next_path)\n",
        "\n",
        "def get_dcm_s(path):\n",
        "  # get the path beginning with S, so doesn't clash with GZ File\n",
        "  for next_path in os.listdir(path):\n",
        "    if (next_path[0] == 'S'):\n",
        "      return next_path\n",
        "\n",
        "def get_path_to_patient(patient):\n",
        "  path = None\n",
        "  paths = [] # list of all dated scans for the patient\n",
        "  try:\n",
        "    # label = patient_df.get_value(patient, 'Subject') # cannot go by patient, must get the ID\n",
        "    path = cwd + '/' + patients_file_dir + '/' + str(patient) # get to the GRAPPA \n",
        "    path = path + '/' + get_grappa_dir(path)\n",
        "    \n",
        "    # check for multiple patient paths, add all to list\n",
        "    for scan_id in os.listdir(path):\n",
        "      path_scan = path + '/' + scan_id\n",
        "      path_scan = path_scan + '/' +get_dcm_s(path_scan)\n",
        "      paths.append(path_scan)\n",
        "      \n",
        "  except Exception as e:\n",
        "    print (\"No path found for patient %s: %s\" % (str(patient),str(e)))\n",
        "    \n",
        "  return paths"
      ],
      "execution_count": 0,
      "outputs": []
    },
    {
      "cell_type": "code",
      "metadata": {
        "id": "kyz9ze0sZO4i",
        "colab_type": "code",
        "colab": {}
      },
      "source": [
        "def get_img_no(path):\n",
        "# get the image identification numberm any image will do for this so take first\n",
        "  image_number = None\n",
        "  example_file = os.listdir(path)[0]\n",
        "  image_number = int(example_file.split(\"_\")[-1][1:-4]) # index to get the ID\n",
        "   \n",
        "  return image_number\n",
        "\n",
        "def filename_sort(filename):\n",
        "    \n",
        "    # split by underlines and delimiter\n",
        "    split_line = filename.split(\"_\")\n",
        "    int_return = int(split_line[-3])\n",
        "    \n",
        "    return int_return\n",
        "  \n",
        "def get_slices(patient):\n",
        "  '''For any given patient, returns the slices for them'''\n",
        "  try:\n",
        "    paths = get_path_to_patient(patient)\n",
        "    all_slices = []\n",
        "    all_info = []\n",
        "    for path in paths:\n",
        "      \n",
        "      dcm_files = os.listdir(path) # path where dcm files are\n",
        "      \n",
        "      # get information related around the image\n",
        "      image_number = get_img_no(path)\n",
        "      image_row = patient_df_sample.loc[patient_df_sample['Image Data ID'] == int(image_number)] # relate to df\n",
        "      \n",
        "      if (image_row.empty == True):\n",
        "        # Pulls from the larger data frame\n",
        "        image_row =  patient_df.loc[patient_df['Image Data ID'] == int(image_number)]\n",
        "      \n",
        "      image_sex = image_row.Sex.values[0]\n",
        "      image_group = image_row.Group.values[0]\n",
        "      image_age = image_row.Age.values[0]\n",
        "\n",
        "      # create image object and append to total info\n",
        "      image_info = [image_number, image_sex, image_group, image_age]\n",
        "\n",
        "      # print (\"Sex: %s, Age: %s, Group: %s \" % (image_sex, image_age, image_group))\n",
        "\n",
        "      # sort dcm files in order\n",
        "      dcm_files = sorted(dcm_files, key=lambda filename: filename_sort(filename)) # some have length 3\n",
        "\n",
        "      slices = []\n",
        "      # loop through slices and build the array\n",
        "      for dcm_file in dcm_files:\n",
        "        path_to_file = path + '/' + dcm_file\n",
        "        slices.append(pydicom.read_file(path_to_file).pixel_array)\n",
        "      slices = np.array(slices)[15:175, :, :]\n",
        "      \n",
        "      # add all the information about slices and information\n",
        "      all_slices.append(slices)\n",
        "      all_info.append(image_info)\n",
        "    \n",
        "    return all_slices, all_info\n",
        " \n",
        "  except Exception as e:\n",
        "    print (\"No File Found: %s\" % str(e))\n",
        "    \n",
        "def process_slice(total_slice):\n",
        "  # deal with mixed slice information\n",
        "  slices = total_slice[0]\n",
        "  \n",
        "  # transform into axial view\n",
        "  slice_axial = slices.transpose((1,2,0))\n",
        "  \n",
        "  # initialise skull stripper\n",
        "  ext = Extractor()\n",
        "\n",
        "  # get probability of part of image being brain tissue or not\n",
        "  prob = ext.run(slice_axial)\n",
        "  mask = prob > 1e-3 # mask can be obtained as:\n",
        "  slice_axial[~mask] = 0 # apply mask\n",
        "  \n",
        "  slice_axial = slice_axial[30:230, 30:230, :] # trim blank ones\n",
        "  \n",
        "  # flip images and add to total processed arrays\n",
        "  flipped_slices = np.array([np.flip(sl,1) for sl in slice_axial])\n",
        "  \n",
        "  # expand dimensions to meet input requirements\n",
        "  slice_axial = np.expand_dims(slice_axial, axis=4)\n",
        "  flipped_slices = np.expand_dims(flipped_slices, axis=4)\n",
        "  \n",
        "  return slice_axial, flipped_slices, total_slice[1]"
      ],
      "execution_count": 0,
      "outputs": []
    },
    {
      "cell_type": "code",
      "metadata": {
        "id": "xfkpV2z8V8_G",
        "colab_type": "code",
        "colab": {}
      },
      "source": [
        "# get the sample of patients we want to use \n",
        "patient_df_sample = patient_df.sample(5)\n",
        "\n",
        "# load those patients and put them into an array\n",
        "# get the y-values for the corresponding array\n",
        "# save the file in one big numpy array (including multiple images per same patient (treated independently))\n",
        "patient_df_sample_id = patient_df_sample['Subject'].values"
      ],
      "execution_count": 0,
      "outputs": []
    },
    {
      "cell_type": "code",
      "metadata": {
        "id": "5C0F1w49Z79t",
        "colab_type": "code",
        "outputId": "cf22e55e-2eba-4d47-ab0c-e0b51cb56824",
        "colab": {
          "base_uri": "https://localhost:8080/",
          "height": 121
        }
      },
      "source": [
        "total_slices = []\n",
        "total_slices_info = []\n",
        "\n",
        "# loop through, put slices and info into one giant array\n",
        "for patient_id in patient_df_sample_id:\n",
        "  \n",
        "  slices_array, image_info_array = get_slices(patient_id) # grab slices for a patient\n",
        "  \n",
        "  for i in range(len(slices_array)): # reference from larger array\n",
        "    slices = slices_array[i]\n",
        "    image_info = image_info_array[i]\n",
        "    \n",
        "    # process each slice\n",
        "    slice_axial, flipped_slices, sl_info = process_slice([slices, image_info]) \n",
        "  \n",
        "    total_slices.append(slice_axial)\n",
        "    total_slices.append(flipped_slices)\n",
        "    total_slices_info.append(sl_info)\n",
        "    total_slices_info.append(sl_info)\n",
        "\n",
        "# turn both into a numpy array\n",
        "total_slices = np.array(total_slices)\n",
        "total_slices_info = np.array(total_slices_info)"
      ],
      "execution_count": 0,
      "outputs": [
        {
          "output_type": "stream",
          "text": [
            "WARNING:tensorflow:From /usr/local/lib/python3.6/dist-packages/deepbrain/extractor.py:19: FastGFile.__init__ (from tensorflow.python.platform.gfile) is deprecated and will be removed in a future version.\n",
            "Instructions for updating:\n",
            "Use tf.gfile.GFile.\n"
          ],
          "name": "stdout"
        },
        {
          "output_type": "stream",
          "text": [
            "/usr/local/lib/python3.6/dist-packages/ipykernel_launcher.py:84: DeprecationWarning: Both axis > a.ndim and axis < -a.ndim - 1 are deprecated and will raise an AxisError in the future.\n",
            "/usr/local/lib/python3.6/dist-packages/ipykernel_launcher.py:85: DeprecationWarning: Both axis > a.ndim and axis < -a.ndim - 1 are deprecated and will raise an AxisError in the future.\n"
          ],
          "name": "stderr"
        }
      ]
    },
    {
      "cell_type": "markdown",
      "metadata": {
        "id": "ReXkqi1ngf3K",
        "colab_type": "text"
      },
      "source": [
        "**Save total slices array and slice info into one giant array**"
      ]
    },
    {
      "cell_type": "code",
      "metadata": {
        "id": "MhawaXEant1U",
        "colab_type": "code",
        "colab": {}
      },
      "source": [
        "with open('total_slices_all.pkl', 'wb') as f:\n",
        "    pickle.dump([total_slices, total_slices_info], f)"
      ],
      "execution_count": 0,
      "outputs": []
    },
    {
      "cell_type": "markdown",
      "metadata": {
        "id": "4LKFqEeNDTMw",
        "colab_type": "text"
      },
      "source": [
        "**Put in one giant function**"
      ]
    },
    {
      "cell_type": "code",
      "metadata": {
        "id": "pLVMhB7OETAD",
        "colab_type": "code",
        "colab": {}
      },
      "source": [
        "def process_multitudes(batch_size, num_batches):\n",
        "  '''Process to get multiple random batches'''\n",
        "  for n_batch in range(num_batches):\n",
        "\n",
        "    # randomly select samples \n",
        "    patient_df_sample = patient_df.sample(batch_size)\n",
        "\n",
        "    # load those patients and put them into an array\n",
        "    patient_df_sample_id = patient_df_sample['Subject'].values\n",
        "    \n",
        "    # to store the arrays\n",
        "    total_slices = []\n",
        "    total_slices_info = []\n",
        "\n",
        "    # loop through, put slices in the sample and info into one giant array\n",
        "    for patient_id in patient_df_sample_id:\n",
        "\n",
        "      slices_array, image_info_array = get_slices(patient_id) # grab slices for a patient\n",
        "\n",
        "      for i in range(len(slices_array)): # reference from larger array\n",
        "        slices = slices_array[i]\n",
        "        image_info = image_info_array[i]\n",
        "\n",
        "        # process each slice\n",
        "        slice_axial, flipped_slices, sl_info = process_slice([slices, image_info]) \n",
        "\n",
        "        total_slices.append(slice_axial)\n",
        "        total_slices.append(flipped_slices)\n",
        "        total_slices_info.append(sl_info)\n",
        "        total_slices_info.append(sl_info)\n",
        "\n",
        "    # turn both into a numpy array\n",
        "    total_slices = np.array(total_slices)\n",
        "    total_slices_info = np.array(total_slices_info)\n",
        "    \n",
        "    # store the file\n",
        "    file_name = ('stored_batches/total_slices_batch' + str(n_batch) + '.pkl')\n",
        "    with open(file_name, 'wb') as f:\n",
        "      pickle.dump([total_slices, total_slices_info], f)\n",
        "    "
      ],
      "execution_count": 0,
      "outputs": []
    },
    {
      "cell_type": "code",
      "metadata": {
        "id": "SdQAnLglFmNg",
        "colab_type": "code",
        "outputId": "1f4e246c-066f-43c1-c15d-1f764d622743",
        "colab": {
          "base_uri": "https://localhost:8080/",
          "height": 70
        }
      },
      "source": [
        "# run the function with 10 batch sizes of 50\n",
        "process_multitudes(2, 5)"
      ],
      "execution_count": 0,
      "outputs": [
        {
          "output_type": "stream",
          "text": [
            "/usr/local/lib/python3.6/dist-packages/ipykernel_launcher.py:84: DeprecationWarning: Both axis > a.ndim and axis < -a.ndim - 1 are deprecated and will raise an AxisError in the future.\n",
            "/usr/local/lib/python3.6/dist-packages/ipykernel_launcher.py:85: DeprecationWarning: Both axis > a.ndim and axis < -a.ndim - 1 are deprecated and will raise an AxisError in the future.\n"
          ],
          "name": "stderr"
        }
      ]
    },
    {
      "cell_type": "markdown",
      "metadata": {
        "id": "9DZkKgbsuBzU",
        "colab_type": "text"
      },
      "source": [
        "**Test Slice showing an image post-processing**"
      ]
    },
    {
      "cell_type": "code",
      "metadata": {
        "id": "nyuYmNSFZlvV",
        "colab_type": "code",
        "colab": {}
      },
      "source": [
        "# test slice\n",
        "\n",
        "from ipywidgets import interact, interactive, fixed, interact_manual\n",
        "import ipywidgets as widgets # interactive plots\n",
        "import matplotlib.pyplot as plt\n",
        "%matplotlib inline\n",
        "\n",
        "slice_ex = total_slices[0,:,:,:,0]\n",
        "def g(i): # basic slideshow plot to get an idea of the effectiveness of the mask itself\n",
        "    plt.figure(figsize=(15,8)) # make plot larger\n",
        "    plt.imshow(slice_ex[i])\n",
        "    plt.show()\n",
        "    return None\n",
        "  \n",
        "interact(g, i=widgets.IntSlider(min=0,max=(len(slice_ex)-1),step=1,value=65)); # plots our axial view, this is it"
      ],
      "execution_count": 0,
      "outputs": []
    },
    {
      "cell_type": "code",
      "metadata": {
        "id": "0g1OQPWceUtA",
        "colab_type": "code",
        "colab": {}
      },
      "source": [
        ""
      ],
      "execution_count": 0,
      "outputs": []
    }
  ]
}