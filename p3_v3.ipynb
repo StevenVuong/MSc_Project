{
  "nbformat": 4,
  "nbformat_minor": 0,
  "metadata": {
    "colab": {
      "name": "p3_v3.ipynb",
      "version": "0.3.2",
      "provenance": [],
      "collapsed_sections": [],
      "include_colab_link": true
    },
    "kernelspec": {
      "name": "python3",
      "display_name": "Python 3"
    },
    "accelerator": "TPU"
  },
  "cells": [
    {
      "cell_type": "markdown",
      "metadata": {
        "id": "view-in-github",
        "colab_type": "text"
      },
      "source": [
        "<a href=\"https://colab.research.google.com/github/StevenVuong/MSc_Project/blob/master/p3_v3.ipynb\" target=\"_parent\"><img src=\"https://colab.research.google.com/assets/colab-badge.svg\" alt=\"Open In Colab\"/></a>"
      ]
    },
    {
      "cell_type": "markdown",
      "metadata": {
        "id": "rpFNZMnps6BR",
        "colab_type": "text"
      },
      "source": [
        "**This notebook aims to modularise some of the input functions in P3 to suit the databse**"
      ]
    },
    {
      "cell_type": "code",
      "metadata": {
        "id": "4OlDI_tKs8Dc",
        "colab_type": "code",
        "colab": {
          "base_uri": "https://localhost:8080/",
          "height": 34
        },
        "outputId": "05b57eab-b963-46ee-ce2f-eb3a5ddcf14a"
      },
      "source": [
        "# Standard imports\n",
        "import pandas as pd\n",
        "import numpy as np\n",
        "import matplotlib.pyplot as plt\n",
        "%matplotlib inline\n",
        "import os\n",
        "import pickle\n",
        "import seaborn as sns\n",
        "\n",
        "# deep learning imports\n",
        "from keras.models import Sequential, load_model\n",
        "from keras.layers.core import Dense, Dropout, Activation, Flatten\n",
        "from keras.layers.convolutional import Convolution3D, MaxPooling3D, Convolution1D\n",
        "from keras.layers.normalization import BatchNormalization\n",
        "from keras.optimizers import SGD, RMSprop, Adam\n",
        "from keras.utils import np_utils, generic_utils, to_categorical\n",
        "from keras.layers import LeakyReLU\n",
        "from keras import regularizers\n",
        "\n",
        "# to split our dataset\n",
        "from sklearn.model_selection import train_test_split\n",
        "from sklearn.metrics import accuracy_score\n",
        "\n",
        "# to mount our drive\n",
        "from google.colab import drive"
      ],
      "execution_count": 1,
      "outputs": [
        {
          "output_type": "stream",
          "text": [
            "Using TensorFlow backend.\n"
          ],
          "name": "stderr"
        }
      ]
    },
    {
      "cell_type": "code",
      "metadata": {
        "id": "KrFa1HXSs9JO",
        "colab_type": "code",
        "colab": {
          "base_uri": "https://localhost:8080/",
          "height": 50
        },
        "outputId": "976f1819-0ff5-4ddf-f55e-e2c1cfc2b6bf"
      },
      "source": [
        "# mount google drive\n",
        "drive.mount('/content/gdrive')\n",
        "\n",
        "os.chdir('/content')\n",
        "\n",
        "# go to where the data is\n",
        "print (os.listdir())\n",
        "os.chdir('gdrive/My Drive/msc_project')"
      ],
      "execution_count": 2,
      "outputs": [
        {
          "output_type": "stream",
          "text": [
            "Drive already mounted at /content/gdrive; to attempt to forcibly remount, call drive.mount(\"/content/gdrive\", force_remount=True).\n",
            "['.config', 'gdrive', 'sample_data']\n"
          ],
          "name": "stdout"
        }
      ]
    },
    {
      "cell_type": "markdown",
      "metadata": {
        "id": "3p8YYPoGtCbi",
        "colab_type": "text"
      },
      "source": [
        "**Load our dataframe**"
      ]
    },
    {
      "cell_type": "code",
      "metadata": {
        "id": "52fJRiLHs-VF",
        "colab_type": "code",
        "colab": {}
      },
      "source": [
        "patient_df = pd.read_pickle('processed_patient_df_TRY2.pkl')"
      ],
      "execution_count": 0,
      "outputs": []
    },
    {
      "cell_type": "code",
      "metadata": {
        "id": "KOjHqucntEtD",
        "colab_type": "code",
        "colab": {
          "base_uri": "https://localhost:8080/",
          "height": 195
        },
        "outputId": "9664b97e-bd3c-4d70-9be6-f10c863566aa"
      },
      "source": [
        "# establish control and pd df's\n",
        "df_control = patient_df[patient_df.Group == 0] \n",
        "df_pd = patient_df[patient_df.Group == 1] \n",
        "\n",
        "patient_df.head()"
      ],
      "execution_count": 4,
      "outputs": [
        {
          "output_type": "execute_result",
          "data": {
            "text/html": [
              "<div>\n",
              "<style scoped>\n",
              "    .dataframe tbody tr th:only-of-type {\n",
              "        vertical-align: middle;\n",
              "    }\n",
              "\n",
              "    .dataframe tbody tr th {\n",
              "        vertical-align: top;\n",
              "    }\n",
              "\n",
              "    .dataframe thead th {\n",
              "        text-align: right;\n",
              "    }\n",
              "</style>\n",
              "<table border=\"1\" class=\"dataframe\">\n",
              "  <thead>\n",
              "    <tr style=\"text-align: right;\">\n",
              "      <th></th>\n",
              "      <th>Image Data ID</th>\n",
              "      <th>Subject</th>\n",
              "      <th>Group</th>\n",
              "      <th>Sex</th>\n",
              "      <th>Age</th>\n",
              "      <th>Visit</th>\n",
              "      <th>Modality</th>\n",
              "      <th>Description</th>\n",
              "      <th>Type</th>\n",
              "      <th>Acq Date</th>\n",
              "      <th>Format</th>\n",
              "      <th>Downloaded</th>\n",
              "    </tr>\n",
              "  </thead>\n",
              "  <tbody>\n",
              "    <tr>\n",
              "      <th>0</th>\n",
              "      <td>1130198</td>\n",
              "      <td>75422</td>\n",
              "      <td>0</td>\n",
              "      <td>M</td>\n",
              "      <td>73</td>\n",
              "      <td>1</td>\n",
              "      <td>MRI</td>\n",
              "      <td>MPRAGE GRAPPA</td>\n",
              "      <td>Original</td>\n",
              "      <td>11/13/2018</td>\n",
              "      <td>DCM</td>\n",
              "      <td>5/07/2019</td>\n",
              "    </tr>\n",
              "    <tr>\n",
              "      <th>2</th>\n",
              "      <td>1130191</td>\n",
              "      <td>75414</td>\n",
              "      <td>0</td>\n",
              "      <td>F</td>\n",
              "      <td>73</td>\n",
              "      <td>1</td>\n",
              "      <td>MRI</td>\n",
              "      <td>Sag MPRAGE GRAPPA</td>\n",
              "      <td>Original</td>\n",
              "      <td>12/13/2018</td>\n",
              "      <td>DCM</td>\n",
              "      <td>4/24/2019</td>\n",
              "    </tr>\n",
              "    <tr>\n",
              "      <th>3</th>\n",
              "      <td>1125041</td>\n",
              "      <td>74375</td>\n",
              "      <td>0</td>\n",
              "      <td>F</td>\n",
              "      <td>59</td>\n",
              "      <td>1</td>\n",
              "      <td>MRI</td>\n",
              "      <td>MPRAGE_GRAPPA</td>\n",
              "      <td>Original</td>\n",
              "      <td>9/06/2018</td>\n",
              "      <td>DCM</td>\n",
              "      <td>4/24/2019</td>\n",
              "    </tr>\n",
              "    <tr>\n",
              "      <th>4</th>\n",
              "      <td>1003469</td>\n",
              "      <td>72138</td>\n",
              "      <td>0</td>\n",
              "      <td>F</td>\n",
              "      <td>55</td>\n",
              "      <td>1</td>\n",
              "      <td>MRI</td>\n",
              "      <td>MPRAGE GRAPPA</td>\n",
              "      <td>Original</td>\n",
              "      <td>2/19/2018</td>\n",
              "      <td>DCM</td>\n",
              "      <td>4/24/2019</td>\n",
              "    </tr>\n",
              "    <tr>\n",
              "      <th>5</th>\n",
              "      <td>1119693</td>\n",
              "      <td>71935</td>\n",
              "      <td>1</td>\n",
              "      <td>M</td>\n",
              "      <td>66</td>\n",
              "      <td>1</td>\n",
              "      <td>MRI</td>\n",
              "      <td>MPRAGE GRAPPA</td>\n",
              "      <td>Original</td>\n",
              "      <td>4/03/2018</td>\n",
              "      <td>DCM</td>\n",
              "      <td>4/24/2019</td>\n",
              "    </tr>\n",
              "  </tbody>\n",
              "</table>\n",
              "</div>"
            ],
            "text/plain": [
              "   Image Data ID  Subject  Group Sex  ...      Type    Acq Date Format Downloaded\n",
              "0        1130198    75422      0   M  ...  Original  11/13/2018    DCM  5/07/2019\n",
              "2        1130191    75414      0   F  ...  Original  12/13/2018    DCM  4/24/2019\n",
              "3        1125041    74375      0   F  ...  Original   9/06/2018    DCM  4/24/2019\n",
              "4        1003469    72138      0   F  ...  Original   2/19/2018    DCM  4/24/2019\n",
              "5        1119693    71935      1   M  ...  Original   4/03/2018    DCM  4/24/2019\n",
              "\n",
              "[5 rows x 12 columns]"
            ]
          },
          "metadata": {
            "tags": []
          },
          "execution_count": 4
        }
      ]
    },
    {
      "cell_type": "markdown",
      "metadata": {
        "id": "dw2oOqvEtHGS",
        "colab_type": "text"
      },
      "source": [
        "**Load our file**"
      ]
    },
    {
      "cell_type": "code",
      "metadata": {
        "id": "LcadXFs_tF1l",
        "colab_type": "code",
        "colab": {}
      },
      "source": [
        "# for each set of training data in our pickle\n",
        "# load\n",
        "# process\n",
        "# train our model in this\n",
        "# 100 Test, 15% of 600 Validation, 85% of 600 Training. 700 Slices in total\n",
        "# Save our model, tweak and evaluate etc.."
      ],
      "execution_count": 0,
      "outputs": []
    },
    {
      "cell_type": "code",
      "metadata": {
        "id": "P-ZJ9UM_tIeK",
        "colab_type": "code",
        "colab": {}
      },
      "source": [
        "# gets our y-values and converts to keras, one hot encoded outputs\n",
        "def get_y_values(total_slices_info):\n",
        "  \n",
        "  y_values = [s[2] for s in total_slices_info]\n",
        "\n",
        "  y_values = np.array(to_categorical(y_values, 2))\n",
        "  \n",
        "  return y_values"
      ],
      "execution_count": 0,
      "outputs": []
    },
    {
      "cell_type": "code",
      "metadata": {
        "id": "arx4szpvtJio",
        "colab_type": "code",
        "colab": {}
      },
      "source": [
        "def initialise_model():\n",
        "\n",
        "  # compile our model\n",
        "  model = Sequential()\n",
        "\n",
        "  model.add(Convolution3D(filters=8, kernel_size=2, padding='same', input_shape=(200,200,160,1)))\n",
        "            #,kernel_regularizer=regularizers.l2(0.05),use_bias = True)) # padding on first one only?\n",
        "  model.add(LeakyReLU(alpha=0.01)) # set to 0.01\n",
        "  model.add(MaxPooling3D(pool_size=2)) # pool_size=2\n",
        "  ## model.add(BatchNormalization(momentum=0.99)) # something to consider next level, moving mean and variance\n",
        "\n",
        "  model.add(Convolution3D(filters=16, kernel_size=2))\n",
        "  model.add(LeakyReLU(alpha=0.01)) \n",
        "  model.add(MaxPooling3D(pool_size=2))\n",
        "  ## model.add(BatchNormalization(momentum=0.99))\n",
        "\n",
        "  model.add(Convolution3D(filters=32, kernel_size=3))\n",
        "  model.add(LeakyReLU())\n",
        "  model.add(MaxPooling3D(pool_size=2))\n",
        "  ## model.add(BatchNormalization(momentum=0.99))\n",
        "\n",
        "  model.add(Convolution3D(filters=64, kernel_size=3))\n",
        "  model.add(LeakyReLU(alpha=0.01))\n",
        "  model.add(MaxPooling3D(pool_size=2))\n",
        "  ## model.add(BatchNormalization(momentum=0.99))\n",
        "\n",
        "  model.add(Convolution3D(filters=128, kernel_size=2))\n",
        "  model.add(LeakyReLU(alpha=0.01))\n",
        "  model.add(MaxPooling3D(pool_size=2))\n",
        "  ## model.add(BatchNormalization(momentum=0.99))\n",
        "\n",
        "  model.add(Convolution3D(filters=256, kernel_size=2))\n",
        "  model.add(LeakyReLU(alpha=0.01))\n",
        "  model.add(MaxPooling3D(pool_size=2))\n",
        "  ## model.add(BatchNormalization(momentum=0.99))\n",
        "\n",
        "  model.add(Flatten())\n",
        "  # model.add(Dropout(0.45)) # add dropout to prevent overfitting\n",
        "  model.add(Dense(512))\n",
        "  model.add(LeakyReLU(alpha=0.01))\n",
        "\n",
        "  # model.add(Dropout(0.2))\n",
        "  model.add(Dense(2, activation='softmax'))\n",
        "\n",
        "  model.compile(optimizer=Adam(lr=0.00005), loss='categorical_crossentropy',metrics = ['accuracy']) # metrics=['categorical_accuracy']\n",
        "\n",
        "  # experiment with literally everything?... Random Search with optimisers\n",
        "            \n",
        "  return model"
      ],
      "execution_count": 0,
      "outputs": []
    },
    {
      "cell_type": "code",
      "metadata": {
        "id": "o0oIxZjLtLBr",
        "colab_type": "code",
        "colab": {
          "base_uri": "https://localhost:8080/",
          "height": 138
        },
        "outputId": "c4109ad3-5754-43e1-d7ed-df74752dcdf5"
      },
      "source": [
        "# train on all, perhaps have different conditions for when we reach our last one\n",
        "total_slices_train = os.listdir('stored_batches')\n",
        "\n",
        "# Initialise Model!\n",
        "# model = initialise_model()\n",
        "\n",
        "# Load Model (If not this, then must initialise)\n",
        "model = load_model('my_model_1.h5')\n",
        "\n",
        "# initialise what we want to plot out later\n",
        "history_array = []\n",
        "score_array = []\n",
        "\n",
        "num_iterations = 2 # number of times we want to loop it\n",
        "for iteration in range(num_iterations):\n",
        "  \n",
        "  # load and fit our model for our instances\n",
        "  for tsf in total_slices_train:\n",
        "    pkl_path = 'stored_batches/'+tsf\n",
        "  \n",
        "    # load pickle file\n",
        "    with open(pkl_path, 'rb') as f:\n",
        "      total_slices, total_slices_info = pickle.load(f)\n",
        "\n",
        "    # convert to numpy array\n",
        "    total_slices = np.array(total_slices)\n",
        "\n",
        "    # process y-values\n",
        "    y_values = get_y_values(total_slices_info)\n",
        "    \n",
        "    # split into training and test set\n",
        "    X_train, X_test, y_train, y_test = train_test_split(total_slices, y_values, test_size=0.1, shuffle=True)\n",
        "\n",
        "    # fit our model ## can play with batch size\n",
        "    hist = model.fit(x=X_train, y=y_train, batch_size=1, epochs=1, verbose=1, validation_split=0.2, shuffle=True)\n",
        "    history_array.append(hist)\n",
        "    \n",
        "    # evaluate our model\n",
        "    score = model.evaluate(X_test, y_test, verbose=1)\n",
        "    score_array.append(score)\n",
        "    \n",
        "    print (\"For iteration: %d, batch %s, Loss: %f, Accuracy: %f \" % (iteration, tsf[-5], score[0], score[1]))\n",
        "    \n",
        "    # test on the fly, need to modify to split to training and test"
      ],
      "execution_count": 0,
      "outputs": [
        {
          "output_type": "stream",
          "text": [
            "WARNING:tensorflow:From /usr/local/lib/python3.6/dist-packages/tensorflow/python/framework/op_def_library.py:263: colocate_with (from tensorflow.python.framework.ops) is deprecated and will be removed in a future version.\n",
            "Instructions for updating:\n",
            "Colocations handled automatically by placer.\n",
            "WARNING:tensorflow:From /usr/local/lib/python3.6/dist-packages/tensorflow/python/ops/math_ops.py:3066: to_int32 (from tensorflow.python.ops.math_ops) is deprecated and will be removed in a future version.\n",
            "Instructions for updating:\n",
            "Use tf.cast instead.\n"
          ],
          "name": "stdout"
        }
      ]
    },
    {
      "cell_type": "code",
      "metadata": {
        "id": "uzR2z5_YtcqT",
        "colab_type": "code",
        "colab": {}
      },
      "source": [
        "# save the model to use in future\n",
        "model.save('my_model_1.h5', overwrite=True)  # creates a HDF5 file 'my_model.h5'"
      ],
      "execution_count": 0,
      "outputs": []
    },
    {
      "cell_type": "markdown",
      "metadata": {
        "id": "JivUPuZW2-Jd",
        "colab_type": "text"
      },
      "source": [
        "**Need script of how well our model does. Can plot the train accuracy, test accuracy and validation accuracy at once**"
      ]
    },
    {
      "cell_type": "code",
      "metadata": {
        "id": "5qqZbon37d9e",
        "colab_type": "code",
        "colab": {}
      },
      "source": [
        "pickle.dump( [history_array, score_array], open( \"model_1_records.pkl\", \"wb\" ) )"
      ],
      "execution_count": 0,
      "outputs": []
    },
    {
      "cell_type": "code",
      "metadata": {
        "id": "O0hK5H357m_A",
        "colab_type": "code",
        "colab": {}
      },
      "source": [
        ""
      ],
      "execution_count": 0,
      "outputs": []
    }
  ]
}