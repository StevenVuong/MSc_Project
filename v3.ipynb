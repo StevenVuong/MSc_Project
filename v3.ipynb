{
  "nbformat": 4,
  "nbformat_minor": 0,
  "metadata": {
    "colab": {
      "name": "v3.ipynb",
      "version": "0.3.2",
      "provenance": [],
      "collapsed_sections": [],
      "include_colab_link": true
    },
    "kernelspec": {
      "name": "python3",
      "display_name": "Python 3"
    },
    "accelerator": "GPU"
  },
  "cells": [
    {
      "cell_type": "markdown",
      "metadata": {
        "id": "view-in-github",
        "colab_type": "text"
      },
      "source": [
        "<a href=\"https://colab.research.google.com/github/StevenVuong/MSc_Project/blob/master/v3.ipynb\" target=\"_parent\"><img src=\"https://colab.research.google.com/assets/colab-badge.svg\" alt=\"Open In Colab\"/></a>"
      ]
    },
    {
      "cell_type": "code",
      "metadata": {
        "id": "xMtiAm8dsTZX",
        "colab_type": "code",
        "outputId": "ce9ec7ee-bc6b-4445-9520-638eb984d001",
        "colab": {
          "base_uri": "https://localhost:8080/",
          "height": 756
        }
      },
      "source": [
        "# install dependencies\n",
        "!pip install deepbrain; # semi-colon to hide the output\n",
        "!pip install pydicom;"
      ],
      "execution_count": 1,
      "outputs": [
        {
          "output_type": "stream",
          "text": [
            "Collecting deepbrain\n",
            "\u001b[?25l  Downloading https://files.pythonhosted.org/packages/61/e4/1f4f6c483dd9c5c1e0e38193b3c7ade8beb13c24c90bab593ca545c7da92/deepbrain-0.1-py3-none-any.whl (677kB)\n",
            "\u001b[K     |████████████████████████████████| 686kB 9.8MB/s \n",
            "\u001b[?25hRequirement already satisfied: scikit-image in /usr/local/lib/python3.6/dist-packages (from deepbrain) (0.15.0)\n",
            "Requirement already satisfied: tensorflow in /usr/local/lib/python3.6/dist-packages (from deepbrain) (1.13.1)\n",
            "Requirement already satisfied: nibabel in /usr/local/lib/python3.6/dist-packages (from deepbrain) (2.3.3)\n",
            "Requirement already satisfied: imageio>=2.0.1 in /usr/local/lib/python3.6/dist-packages (from scikit-image->deepbrain) (2.4.1)\n",
            "Requirement already satisfied: matplotlib!=3.0.0,>=2.0.0 in /usr/local/lib/python3.6/dist-packages (from scikit-image->deepbrain) (3.0.3)\n",
            "Requirement already satisfied: networkx>=2.0 in /usr/local/lib/python3.6/dist-packages (from scikit-image->deepbrain) (2.3)\n",
            "Requirement already satisfied: PyWavelets>=0.4.0 in /usr/local/lib/python3.6/dist-packages (from scikit-image->deepbrain) (1.0.3)\n",
            "Requirement already satisfied: pillow>=4.3.0 in /usr/local/lib/python3.6/dist-packages (from scikit-image->deepbrain) (4.3.0)\n",
            "Requirement already satisfied: scipy>=0.17.0 in /usr/local/lib/python3.6/dist-packages (from scikit-image->deepbrain) (1.3.0)\n",
            "Requirement already satisfied: termcolor>=1.1.0 in /usr/local/lib/python3.6/dist-packages (from tensorflow->deepbrain) (1.1.0)\n",
            "Requirement already satisfied: keras-preprocessing>=1.0.5 in /usr/local/lib/python3.6/dist-packages (from tensorflow->deepbrain) (1.0.9)\n",
            "Requirement already satisfied: tensorboard<1.14.0,>=1.13.0 in /usr/local/lib/python3.6/dist-packages (from tensorflow->deepbrain) (1.13.1)\n",
            "Requirement already satisfied: six>=1.10.0 in /usr/local/lib/python3.6/dist-packages (from tensorflow->deepbrain) (1.12.0)\n",
            "Requirement already satisfied: numpy>=1.13.3 in /usr/local/lib/python3.6/dist-packages (from tensorflow->deepbrain) (1.16.4)\n",
            "Requirement already satisfied: keras-applications>=1.0.6 in /usr/local/lib/python3.6/dist-packages (from tensorflow->deepbrain) (1.0.7)\n",
            "Requirement already satisfied: tensorflow-estimator<1.14.0rc0,>=1.13.0 in /usr/local/lib/python3.6/dist-packages (from tensorflow->deepbrain) (1.13.0)\n",
            "Requirement already satisfied: wheel>=0.26 in /usr/local/lib/python3.6/dist-packages (from tensorflow->deepbrain) (0.33.4)\n",
            "Requirement already satisfied: grpcio>=1.8.6 in /usr/local/lib/python3.6/dist-packages (from tensorflow->deepbrain) (1.15.0)\n",
            "Requirement already satisfied: astor>=0.6.0 in /usr/local/lib/python3.6/dist-packages (from tensorflow->deepbrain) (0.8.0)\n",
            "Requirement already satisfied: gast>=0.2.0 in /usr/local/lib/python3.6/dist-packages (from tensorflow->deepbrain) (0.2.2)\n",
            "Requirement already satisfied: protobuf>=3.6.1 in /usr/local/lib/python3.6/dist-packages (from tensorflow->deepbrain) (3.7.1)\n",
            "Requirement already satisfied: absl-py>=0.1.6 in /usr/local/lib/python3.6/dist-packages (from tensorflow->deepbrain) (0.7.1)\n",
            "Requirement already satisfied: bz2file in /usr/local/lib/python3.6/dist-packages (from nibabel->deepbrain) (0.98)\n",
            "Requirement already satisfied: kiwisolver>=1.0.1 in /usr/local/lib/python3.6/dist-packages (from matplotlib!=3.0.0,>=2.0.0->scikit-image->deepbrain) (1.1.0)\n",
            "Requirement already satisfied: python-dateutil>=2.1 in /usr/local/lib/python3.6/dist-packages (from matplotlib!=3.0.0,>=2.0.0->scikit-image->deepbrain) (2.5.3)\n",
            "Requirement already satisfied: pyparsing!=2.0.4,!=2.1.2,!=2.1.6,>=2.0.1 in /usr/local/lib/python3.6/dist-packages (from matplotlib!=3.0.0,>=2.0.0->scikit-image->deepbrain) (2.4.0)\n",
            "Requirement already satisfied: cycler>=0.10 in /usr/local/lib/python3.6/dist-packages (from matplotlib!=3.0.0,>=2.0.0->scikit-image->deepbrain) (0.10.0)\n",
            "Requirement already satisfied: decorator>=4.3.0 in /usr/local/lib/python3.6/dist-packages (from networkx>=2.0->scikit-image->deepbrain) (4.4.0)\n",
            "Requirement already satisfied: olefile in /usr/local/lib/python3.6/dist-packages (from pillow>=4.3.0->scikit-image->deepbrain) (0.46)\n",
            "Requirement already satisfied: werkzeug>=0.11.15 in /usr/local/lib/python3.6/dist-packages (from tensorboard<1.14.0,>=1.13.0->tensorflow->deepbrain) (0.15.4)\n",
            "Requirement already satisfied: markdown>=2.6.8 in /usr/local/lib/python3.6/dist-packages (from tensorboard<1.14.0,>=1.13.0->tensorflow->deepbrain) (3.1.1)\n",
            "Requirement already satisfied: h5py in /usr/local/lib/python3.6/dist-packages (from keras-applications>=1.0.6->tensorflow->deepbrain) (2.8.0)\n",
            "Requirement already satisfied: mock>=2.0.0 in /usr/local/lib/python3.6/dist-packages (from tensorflow-estimator<1.14.0rc0,>=1.13.0->tensorflow->deepbrain) (3.0.5)\n",
            "Requirement already satisfied: setuptools in /usr/local/lib/python3.6/dist-packages (from protobuf>=3.6.1->tensorflow->deepbrain) (41.0.1)\n",
            "Installing collected packages: deepbrain\n",
            "Successfully installed deepbrain-0.1\n",
            "Collecting pydicom\n",
            "\u001b[?25l  Downloading https://files.pythonhosted.org/packages/43/88/d3c419ab2e753e7651510882a53219373e78fb55294cb247dffd3934ea55/pydicom-1.2.2-py2.py3-none-any.whl (7.0MB)\n",
            "\u001b[K     |████████████████████████████████| 7.0MB 8.0MB/s \n",
            "\u001b[?25hInstalling collected packages: pydicom\n",
            "Successfully installed pydicom-1.2.2\n"
          ],
          "name": "stdout"
        }
      ]
    },
    {
      "cell_type": "code",
      "metadata": {
        "id": "-vThwOxSsZcG",
        "colab_type": "code",
        "outputId": "4fd6b0a4-bbb3-465b-e397-50e40aa2aab7",
        "colab": {
          "base_uri": "https://localhost:8080/",
          "height": 121
        }
      },
      "source": [
        "from google.colab import drive\n",
        "\n",
        "# mount google drive into google colab\n",
        "drive.mount('/content/gdrive')"
      ],
      "execution_count": 2,
      "outputs": [
        {
          "output_type": "stream",
          "text": [
            "Go to this URL in a browser: https://accounts.google.com/o/oauth2/auth?client_id=947318989803-6bn6qk8qdgf4n4g3pfee6491hc0brc4i.apps.googleusercontent.com&redirect_uri=urn%3Aietf%3Awg%3Aoauth%3A2.0%3Aoob&scope=email%20https%3A%2F%2Fwww.googleapis.com%2Fauth%2Fdocs.test%20https%3A%2F%2Fwww.googleapis.com%2Fauth%2Fdrive%20https%3A%2F%2Fwww.googleapis.com%2Fauth%2Fdrive.photos.readonly%20https%3A%2F%2Fwww.googleapis.com%2Fauth%2Fpeopleapi.readonly&response_type=code\n",
            "\n",
            "Enter your authorization code:\n",
            "··········\n",
            "Mounted at /content/gdrive\n"
          ],
          "name": "stdout"
        }
      ]
    },
    {
      "cell_type": "code",
      "metadata": {
        "id": "xDPKsjxlsZvm",
        "colab_type": "code",
        "outputId": "44fc4df6-cba3-4db0-820c-bd8aeb3a2b63",
        "colab": {
          "base_uri": "https://localhost:8080/",
          "height": 101
        }
      },
      "source": [
        "import os\n",
        "    \n",
        "# go to where the data is\n",
        "print (os.listdir())\n",
        "os.chdir('gdrive/My Drive/msc_project')\n",
        "os.listdir()"
      ],
      "execution_count": 3,
      "outputs": [
        {
          "output_type": "stream",
          "text": [
            "['.config', 'gdrive', 'sample_data']\n"
          ],
          "name": "stdout"
        },
        {
          "output_type": "execute_result",
          "data": {
            "text/plain": [
              "['t1_scan',\n",
              " 'T1_SAG_SIEMEN_3T_CLEAN_5_29_2019.csv',\n",
              " 'T1_SAG_SIEMEN_3T_CLEAN_1',\n",
              " 'T1_SAG_SIEMEN_3T_CLEAN_5_29_2019.gsheet']"
            ]
          },
          "metadata": {
            "tags": []
          },
          "execution_count": 3
        }
      ]
    },
    {
      "cell_type": "code",
      "metadata": {
        "id": "u_Rz2-kfsp1i",
        "colab_type": "code",
        "outputId": "109ae0d6-2ad4-4598-eedf-74c7eb2f0e9f",
        "colab": {
          "base_uri": "https://localhost:8080/",
          "height": 195
        }
      },
      "source": [
        "import pandas as pd\n",
        "# https://www.kaggle.com/sentdex/first-pass-through-data-w-3d-convnet\n",
        "patients = os.listdir('T1_SAG_SIEMEN_3T_CLEAN_1') # get all patients ID's in scan\n",
        "patient_df = pd.read_csv('T1_SAG_SIEMEN_3T_CLEAN_5_29_2019.csv') # get dataframe too to cross reference\n",
        "\n",
        "patient_df.head() # so we have a dataframe of our patients' data"
      ],
      "execution_count": 4,
      "outputs": [
        {
          "output_type": "execute_result",
          "data": {
            "text/html": [
              "<div>\n",
              "<style scoped>\n",
              "    .dataframe tbody tr th:only-of-type {\n",
              "        vertical-align: middle;\n",
              "    }\n",
              "\n",
              "    .dataframe tbody tr th {\n",
              "        vertical-align: top;\n",
              "    }\n",
              "\n",
              "    .dataframe thead th {\n",
              "        text-align: right;\n",
              "    }\n",
              "</style>\n",
              "<table border=\"1\" class=\"dataframe\">\n",
              "  <thead>\n",
              "    <tr style=\"text-align: right;\">\n",
              "      <th></th>\n",
              "      <th>Image Data ID</th>\n",
              "      <th>Subject</th>\n",
              "      <th>Group</th>\n",
              "      <th>Sex</th>\n",
              "      <th>Age</th>\n",
              "      <th>Visit</th>\n",
              "      <th>Modality</th>\n",
              "      <th>Description</th>\n",
              "      <th>Type</th>\n",
              "      <th>Acq Date</th>\n",
              "      <th>Format</th>\n",
              "      <th>Downloaded</th>\n",
              "    </tr>\n",
              "  </thead>\n",
              "  <tbody>\n",
              "    <tr>\n",
              "      <th>0</th>\n",
              "      <td>1130198</td>\n",
              "      <td>75422</td>\n",
              "      <td>GenCohort Unaff</td>\n",
              "      <td>M</td>\n",
              "      <td>73</td>\n",
              "      <td>1</td>\n",
              "      <td>MRI</td>\n",
              "      <td>MPRAGE GRAPPA</td>\n",
              "      <td>Original</td>\n",
              "      <td>11/13/2018</td>\n",
              "      <td>DCM</td>\n",
              "      <td>5/07/2019</td>\n",
              "    </tr>\n",
              "    <tr>\n",
              "      <th>1</th>\n",
              "      <td>1130190</td>\n",
              "      <td>75414</td>\n",
              "      <td>GenCohort Unaff</td>\n",
              "      <td>F</td>\n",
              "      <td>73</td>\n",
              "      <td>1</td>\n",
              "      <td>MRI</td>\n",
              "      <td>Sag MPRAGE GRAPPA</td>\n",
              "      <td>Original</td>\n",
              "      <td>12/13/2018</td>\n",
              "      <td>DCM</td>\n",
              "      <td>4/24/2019</td>\n",
              "    </tr>\n",
              "    <tr>\n",
              "      <th>2</th>\n",
              "      <td>1130191</td>\n",
              "      <td>75414</td>\n",
              "      <td>GenCohort Unaff</td>\n",
              "      <td>F</td>\n",
              "      <td>73</td>\n",
              "      <td>1</td>\n",
              "      <td>MRI</td>\n",
              "      <td>Sag MPRAGE GRAPPA</td>\n",
              "      <td>Original</td>\n",
              "      <td>12/13/2018</td>\n",
              "      <td>DCM</td>\n",
              "      <td>4/24/2019</td>\n",
              "    </tr>\n",
              "    <tr>\n",
              "      <th>3</th>\n",
              "      <td>1125041</td>\n",
              "      <td>74375</td>\n",
              "      <td>GenCohort Unaff</td>\n",
              "      <td>F</td>\n",
              "      <td>59</td>\n",
              "      <td>1</td>\n",
              "      <td>MRI</td>\n",
              "      <td>MPRAGE_GRAPPA</td>\n",
              "      <td>Original</td>\n",
              "      <td>9/06/2018</td>\n",
              "      <td>DCM</td>\n",
              "      <td>4/24/2019</td>\n",
              "    </tr>\n",
              "    <tr>\n",
              "      <th>4</th>\n",
              "      <td>1003469</td>\n",
              "      <td>72138</td>\n",
              "      <td>GenCohort Unaff</td>\n",
              "      <td>F</td>\n",
              "      <td>55</td>\n",
              "      <td>1</td>\n",
              "      <td>MRI</td>\n",
              "      <td>MPRAGE GRAPPA</td>\n",
              "      <td>Original</td>\n",
              "      <td>2/19/2018</td>\n",
              "      <td>DCM</td>\n",
              "      <td>4/24/2019</td>\n",
              "    </tr>\n",
              "  </tbody>\n",
              "</table>\n",
              "</div>"
            ],
            "text/plain": [
              "   Image Data ID  Subject            Group  ...    Acq Date  Format  Downloaded\n",
              "0        1130198    75422  GenCohort Unaff  ...  11/13/2018     DCM   5/07/2019\n",
              "1        1130190    75414  GenCohort Unaff  ...  12/13/2018     DCM   4/24/2019\n",
              "2        1130191    75414  GenCohort Unaff  ...  12/13/2018     DCM   4/24/2019\n",
              "3        1125041    74375  GenCohort Unaff  ...   9/06/2018     DCM   4/24/2019\n",
              "4        1003469    72138  GenCohort Unaff  ...   2/19/2018     DCM   4/24/2019\n",
              "\n",
              "[5 rows x 12 columns]"
            ]
          },
          "metadata": {
            "tags": []
          },
          "execution_count": 4
        }
      ]
    },
    {
      "cell_type": "code",
      "metadata": {
        "id": "12VGP3E9Cplw",
        "colab_type": "code",
        "colab": {}
      },
      "source": [
        "# Map GenCohort to regular PD and Controls\n",
        "patient_df['Group'] = patient_df['Group'].replace({'GenCohort PD':'PD', 'GenCohort Unaff':'Control'})"
      ],
      "execution_count": 0,
      "outputs": []
    },
    {
      "cell_type": "code",
      "metadata": {
        "id": "qTxaWLyMviqi",
        "colab_type": "code",
        "colab": {}
      },
      "source": [
        "def get_grappa_dir(path):\n",
        "  # get the file ending with 'GRAPPA', would need to accomodate this for grappa also\n",
        "  for next_path in os.listdir(path):\n",
        "    if (next_path.split(\"_\")[-1] == 'GRAPPA'): # for the t1 weighted\n",
        "      return next_path"
      ],
      "execution_count": 0,
      "outputs": []
    },
    {
      "cell_type": "code",
      "metadata": {
        "id": "y4smr-Q1y5td",
        "colab_type": "code",
        "colab": {}
      },
      "source": [
        "def get_dcm_s(path):\n",
        "  # get the path beginning with S, so doesn't clash with GZ File\n",
        "  for next_path in os.listdir(path):\n",
        "    if (next_path[0] == 'S'):\n",
        "      return next_path"
      ],
      "execution_count": 0,
      "outputs": []
    },
    {
      "cell_type": "code",
      "metadata": {
        "id": "W13cQHKlcER1",
        "colab_type": "code",
        "colab": {}
      },
      "source": [
        "def get_img_no(path):\n",
        "  # get the image identification numberm any image will do for this so take first\n",
        "  image_number = None\n",
        "  for image_file in os.listdir(path):\n",
        "    image_number = int(image_file.split(\"_\")[-1][1:-4]) # index to get the ID\n",
        "   \n",
        "  return image_number"
      ],
      "execution_count": 0,
      "outputs": []
    },
    {
      "cell_type": "code",
      "metadata": {
        "id": "kJaXNmXjigRu",
        "colab_type": "code",
        "colab": {}
      },
      "source": [
        "def filename_sort(filename):\n",
        "    \n",
        "    # split by underlines and delimiter\n",
        "    split_line = filename.split(\"_\")\n",
        "    int_return = int(split_line[-3])\n",
        "    \n",
        "    return int_return"
      ],
      "execution_count": 0,
      "outputs": []
    },
    {
      "cell_type": "code",
      "metadata": {
        "id": "ZjlKpUkxtEM8",
        "colab_type": "code",
        "outputId": "c95fce45-1edc-4149-e00e-73fae5e749b5",
        "colab": {
          "base_uri": "https://localhost:8080/",
          "height": 487
        }
      },
      "source": [
        "import pydicom\n",
        "import numpy as np\n",
        "\n",
        "cwd = os.getcwd()\n",
        "print (\"Current Working Dir: %s \" % cwd)\n",
        "\n",
        "total_slices = [] # build all the slices\n",
        "\n",
        "for patient in patients[:15]:\n",
        "  try:\n",
        "    # label = patient_df.get_value(patient, 'Subject') # cannot go by patient, must get the ID\n",
        "    path = cwd + '/' + 'T1_SAG_SIEMEN_3T_CLEAN_1/' + patient # get to the GRAPPA \n",
        "    path = path + '/' + get_grappa_dir(path)\n",
        "    path = path + '/' + os.listdir(path)[-1] # get the most recent scan for patient\n",
        "    path = path + '/' + get_dcm_s(path)\n",
        "\n",
        "    # get information related around the image\n",
        "    image_number = get_img_no(path)\n",
        "    image_row = patient_df.loc[patient_df['Image Data ID'] == image_number] # relate to df\n",
        "    image_sex = image_row.Sex.values[0]\n",
        "    image_group = image_row.Group.values[0]\n",
        "    image_age = image_row.Age.values[0]\n",
        "\n",
        "    # create image object and append to total info\n",
        "    image_info = [image_number, image_sex, image_group, image_age]\n",
        "\n",
        "    print (\"Sex: %s, Age: %s, Group: %s \" % (image_sex, image_age, image_group))\n",
        "\n",
        "    # get files and sort them in order\n",
        "    dcm_files = os.listdir(path)\n",
        "    dcm_files = sorted(dcm_files, key=lambda filename: filename_sort(filename)) # some have length 3\n",
        "\n",
        "    slices = []\n",
        "    # loop through slices and build the array\n",
        "    for dcm_file in dcm_files:\n",
        "      path_to_file = path + '/' + dcm_file\n",
        "      slices.append(pydicom.read_file(path_to_file).pixel_array)\n",
        "    slices = np.array(slices)[15:175, :, :]\n",
        "    total_slices.append([slices, image_info])\n",
        "\n",
        "    print (np.shape(slices)) # each patient has different number of slices, trim it to [15:175, 30:230, 30:230]\n",
        " \n",
        "  except Exception as e:\n",
        "    print (\"No File Found: %s\" % str(e))"
      ],
      "execution_count": 10,
      "outputs": [
        {
          "output_type": "stream",
          "text": [
            "Current Working Dir: /content/gdrive/My Drive/msc_project \n",
            "Sex: F, Age: 50, Group: PD \n",
            "(160, 256, 240)\n",
            "Sex: M, Age: 53, Group: PD \n",
            "(160, 256, 240)\n",
            "Sex: M, Age: 56, Group: PD \n",
            "(160, 256, 240)\n",
            "Sex: M, Age: 44, Group: PD \n",
            "(160, 256, 240)\n",
            "Sex: M, Age: 64, Group: PD \n",
            "(160, 256, 240)\n",
            "Sex: M, Age: 56, Group: PD \n",
            "(160, 256, 240)\n",
            "No File Found: must be str, not NoneType\n",
            "Sex: M, Age: 79, Group: Control \n",
            "(160, 256, 240)\n",
            "Sex: M, Age: 65, Group: Control \n",
            "(160, 256, 240)\n",
            "Sex: F, Age: 62, Group: PD \n",
            "(160, 256, 240)\n",
            "Sex: F, Age: 54, Group: PD \n",
            "(160, 256, 256)\n",
            "Sex: M, Age: 38, Group: PD \n",
            "(160, 256, 240)\n",
            "Sex: M, Age: 68, Group: PD \n",
            "(160, 256, 240)\n",
            "No File Found: must be str, not NoneType\n",
            "No File Found: must be str, not NoneType\n"
          ],
          "name": "stdout"
        }
      ]
    },
    {
      "cell_type": "code",
      "metadata": {
        "id": "7Aw3M48BuCvj",
        "colab_type": "code",
        "outputId": "f2fabb3e-9f7e-49cf-e1ba-3834e897e424",
        "colab": {
          "base_uri": "https://localhost:8080/",
          "height": 490
        }
      },
      "source": [
        "from deepbrain import Extractor\n",
        "import nibabel as nb\n",
        "\n",
        "total_slices_processed = []\n",
        "slice_info = []\n",
        "\n",
        "for total_slice in total_slices:\n",
        "  # deal with mixed slice information\n",
        "  slices = total_slice[0]\n",
        "  slice_info.append(total_slice[1])\n",
        "  \n",
        "  # transform into axial view\n",
        "  slice_axial = slices.transpose((1,2,0))\n",
        "  \n",
        "  # initialise skull stripper\n",
        "  ext = Extractor()\n",
        "\n",
        "  # get probability of part of image being brain tissue or not\n",
        "  prob = ext.run(slice_axial)\n",
        "  mask = prob > 1e-3 # mask can be obtained as:\n",
        "  slice_axial[~mask] = 0 # apply mask\n",
        "  \n",
        "  slice_axial = slice_axial[30:230, 30:230, :] # trim blank ones\n",
        "  total_slices_processed.append(slice_axial) # add original\n",
        "  \n",
        "  # flip images and add to total processed arrays\n",
        "  flipped_slices = [np.flip(sl,1) for sl in slice_axial]\n",
        "  total_slices_processed.append(flipped_slices)\n",
        "  slice_info.append(total_slice[1]) # add info twice\n",
        "    \n",
        "  print (\"Regular Shape: %s \" % (np.shape(slice_axial), ))\n",
        "  print (\"Flipped Shape: %s \" % (np.shape(flipped_slices), ))"
      ],
      "execution_count": 11,
      "outputs": [
        {
          "output_type": "stream",
          "text": [
            "WARNING:tensorflow:From /usr/local/lib/python3.6/dist-packages/deepbrain/extractor.py:19: FastGFile.__init__ (from tensorflow.python.platform.gfile) is deprecated and will be removed in a future version.\n",
            "Instructions for updating:\n",
            "Use tf.gfile.GFile.\n",
            "Regular Shape: (200, 200, 160) \n",
            "Flipped Shape: (200, 200, 160) \n",
            "Regular Shape: (200, 200, 160) \n",
            "Flipped Shape: (200, 200, 160) \n",
            "Regular Shape: (200, 200, 160) \n",
            "Flipped Shape: (200, 200, 160) \n",
            "Regular Shape: (200, 200, 160) \n",
            "Flipped Shape: (200, 200, 160) \n",
            "Regular Shape: (200, 200, 160) \n",
            "Flipped Shape: (200, 200, 160) \n",
            "Regular Shape: (200, 200, 160) \n",
            "Flipped Shape: (200, 200, 160) \n",
            "Regular Shape: (200, 200, 160) \n",
            "Flipped Shape: (200, 200, 160) \n",
            "Regular Shape: (200, 200, 160) \n",
            "Flipped Shape: (200, 200, 160) \n",
            "Regular Shape: (200, 200, 160) \n",
            "Flipped Shape: (200, 200, 160) \n",
            "Regular Shape: (200, 200, 160) \n",
            "Flipped Shape: (200, 200, 160) \n",
            "Regular Shape: (200, 200, 160) \n",
            "Flipped Shape: (200, 200, 160) \n",
            "Regular Shape: (200, 200, 160) \n",
            "Flipped Shape: (200, 200, 160) \n"
          ],
          "name": "stdout"
        }
      ]
    },
    {
      "cell_type": "code",
      "metadata": {
        "id": "2f2Eu3iV2Lws",
        "colab_type": "code",
        "outputId": "7f6061c8-60d2-4c4a-c228-fea6de6210be",
        "colab": {
          "base_uri": "https://localhost:8080/",
          "height": 34
        }
      },
      "source": [
        "total_slices_processed = np.array(total_slices_processed) # turn into array\n",
        "total_slices_processed = np.expand_dims(total_slices_processed, axis=4) # expand dimensions\n",
        "\n",
        "np.shape(total_slices_processed)"
      ],
      "execution_count": 12,
      "outputs": [
        {
          "output_type": "execute_result",
          "data": {
            "text/plain": [
              "(24, 200, 200, 160, 1)"
            ]
          },
          "metadata": {
            "tags": []
          },
          "execution_count": 12
        }
      ]
    },
    {
      "cell_type": "code",
      "metadata": {
        "id": "6hZTuCRnAiUz",
        "colab_type": "code",
        "colab": {}
      },
      "source": [
        "# need to build the y-data set (PD or Healthy)\n",
        "# then split into test and training set\n",
        "# then try run through a basic model"
      ],
      "execution_count": 0,
      "outputs": []
    },
    {
      "cell_type": "code",
      "metadata": {
        "id": "HUTUGaL3Ku3t",
        "colab_type": "code",
        "outputId": "bd92bd11-8040-4119-f443-189842da75b0",
        "colab": {
          "base_uri": "https://localhost:8080/",
          "height": 437
        }
      },
      "source": [
        "from keras.utils import to_categorical\n",
        "\n",
        "# build y-outputs\n",
        "diagnosis = [s[2] for s in slice_info] # we got our y-values\n",
        "diagnosis = [1 if s=='PD' else s for s in diagnosis]\n",
        "diagnosis = [0 if s=='Control' else s for s in diagnosis]\n",
        "\n",
        "y_output = to_categorical(diagnosis, 2) # convert to something categorical with keras util\n",
        "y_output = np.array(y_output)\n",
        "\n",
        "print (y_output)"
      ],
      "execution_count": 14,
      "outputs": [
        {
          "output_type": "stream",
          "text": [
            "[[0. 1.]\n",
            " [0. 1.]\n",
            " [0. 1.]\n",
            " [0. 1.]\n",
            " [0. 1.]\n",
            " [0. 1.]\n",
            " [0. 1.]\n",
            " [0. 1.]\n",
            " [0. 1.]\n",
            " [0. 1.]\n",
            " [0. 1.]\n",
            " [0. 1.]\n",
            " [1. 0.]\n",
            " [1. 0.]\n",
            " [1. 0.]\n",
            " [1. 0.]\n",
            " [0. 1.]\n",
            " [0. 1.]\n",
            " [0. 1.]\n",
            " [0. 1.]\n",
            " [0. 1.]\n",
            " [0. 1.]\n",
            " [0. 1.]\n",
            " [0. 1.]]\n"
          ],
          "name": "stdout"
        },
        {
          "output_type": "stream",
          "text": [
            "Using TensorFlow backend.\n"
          ],
          "name": "stderr"
        }
      ]
    },
    {
      "cell_type": "code",
      "metadata": {
        "id": "KxElWmE4SbU7",
        "colab_type": "code",
        "outputId": "573fbf7b-e490-470d-d44b-e3bae51f4974",
        "colab": {
          "base_uri": "https://localhost:8080/",
          "height": 34
        }
      },
      "source": [
        "from sklearn.model_selection import train_test_split\n",
        "\n",
        "# split into training and test set\n",
        "X_train, X_test, y_train, y_test = train_test_split(total_slices_processed, y_output, test_size=0.2, shuffle=True)\n",
        "\n",
        "np.shape(X_train)"
      ],
      "execution_count": 15,
      "outputs": [
        {
          "output_type": "execute_result",
          "data": {
            "text/plain": [
              "(19, 200, 200, 160, 1)"
            ]
          },
          "metadata": {
            "tags": []
          },
          "execution_count": 15
        }
      ]
    },
    {
      "cell_type": "code",
      "metadata": {
        "id": "fQKeVRq-Uowv",
        "colab_type": "code",
        "colab": {}
      },
      "source": [
        "from keras.models import Sequential\n",
        "from keras.layers.core import Dense, Dropout, Activation, Flatten\n",
        "from keras.layers.convolutional import Convolution3D, MaxPooling3D\n",
        "from keras.optimizers import SGD, RMSprop, Adam\n",
        "from keras.utils import np_utils, generic_utils\n",
        "from keras.layers import LeakyReLU"
      ],
      "execution_count": 0,
      "outputs": []
    },
    {
      "cell_type": "code",
      "metadata": {
        "id": "NjXpitscUqMu",
        "colab_type": "code",
        "colab": {}
      },
      "source": [
        "model = Sequential()\n",
        "\n",
        "model.add(Convolution3D(filters=8, kernel_size=4, strides=1, \n",
        "                        padding='same', input_shape=(200,200,160,1))) # or should activation be linear?\n",
        "model.add(LeakyReLU(alpha=0.01)) # set to 0.01\n",
        "model.add(MaxPooling3D())\n",
        "\n",
        "model.add(Convolution3D(filters=16, kernel_size=4, strides=1, \n",
        "                        padding='same'))\n",
        "model.add(LeakyReLU(alpha=0.01)) \n",
        "model.add(MaxPooling3D())\n",
        "\n",
        "model.add(Convolution3D(filters=32, kernel_size=4, strides=1, \n",
        "                        padding='same'))\n",
        "model.add(LeakyReLU(alpha=0.01))\n",
        "model.add(MaxPooling3D())\n",
        "\n",
        "model.add(Convolution3D(filters=64, kernel_size=4, strides=1, \n",
        "                        padding='same'))\n",
        "model.add(LeakyReLU(alpha=0.01))\n",
        "model.add(MaxPooling3D())\n",
        "\n",
        "model.add(Convolution3D(filters=128, kernel_size=4, strides=1, \n",
        "                        padding='same'))\n",
        "model.add(LeakyReLU(alpha=0.01))\n",
        "model.add(MaxPooling3D())\n",
        "\n",
        "model.add(Convolution3D(filters=256, kernel_size=4, strides=1, \n",
        "                        padding='same'))\n",
        "model.add(LeakyReLU(alpha=0.01))\n",
        "model.add(MaxPooling3D())\n",
        "\n",
        "model.add(Flatten())\n",
        "\n",
        "model.add(Dense(1024, activation='linear'))\n",
        "model.add(LeakyReLU(alpha=0.01))\n",
        "\n",
        "model.add(Dense(2, activation='softmax'))\n",
        "\n",
        "model.compile(optimizer=Adam(lr=0.00005), loss='categorical_crossentropy',metrics = ['categorical_accuracy']) # metrics=['categorical_accuracy']"
      ],
      "execution_count": 0,
      "outputs": []
    },
    {
      "cell_type": "code",
      "metadata": {
        "id": "aiAHKsHu60Zd",
        "colab_type": "code",
        "outputId": "1dfc4c7d-df7c-4e6b-fcd9-7aa06d3f2ff9",
        "colab": {
          "base_uri": "https://localhost:8080/",
          "height": 890
        }
      },
      "source": [
        "print (model.summary())"
      ],
      "execution_count": 24,
      "outputs": [
        {
          "output_type": "stream",
          "text": [
            "_________________________________________________________________\n",
            "Layer (type)                 Output Shape              Param #   \n",
            "=================================================================\n",
            "conv3d_13 (Conv3D)           (None, 200, 200, 160, 8)  520       \n",
            "_________________________________________________________________\n",
            "leaky_re_lu_15 (LeakyReLU)   (None, 200, 200, 160, 8)  0         \n",
            "_________________________________________________________________\n",
            "max_pooling3d_13 (MaxPooling (None, 100, 100, 80, 8)   0         \n",
            "_________________________________________________________________\n",
            "conv3d_14 (Conv3D)           (None, 100, 100, 80, 16)  8208      \n",
            "_________________________________________________________________\n",
            "leaky_re_lu_16 (LeakyReLU)   (None, 100, 100, 80, 16)  0         \n",
            "_________________________________________________________________\n",
            "max_pooling3d_14 (MaxPooling (None, 50, 50, 40, 16)    0         \n",
            "_________________________________________________________________\n",
            "conv3d_15 (Conv3D)           (None, 50, 50, 40, 32)    32800     \n",
            "_________________________________________________________________\n",
            "leaky_re_lu_17 (LeakyReLU)   (None, 50, 50, 40, 32)    0         \n",
            "_________________________________________________________________\n",
            "max_pooling3d_15 (MaxPooling (None, 25, 25, 20, 32)    0         \n",
            "_________________________________________________________________\n",
            "conv3d_16 (Conv3D)           (None, 25, 25, 20, 64)    131136    \n",
            "_________________________________________________________________\n",
            "leaky_re_lu_18 (LeakyReLU)   (None, 25, 25, 20, 64)    0         \n",
            "_________________________________________________________________\n",
            "max_pooling3d_16 (MaxPooling (None, 12, 12, 10, 64)    0         \n",
            "_________________________________________________________________\n",
            "conv3d_17 (Conv3D)           (None, 12, 12, 10, 128)   524416    \n",
            "_________________________________________________________________\n",
            "leaky_re_lu_19 (LeakyReLU)   (None, 12, 12, 10, 128)   0         \n",
            "_________________________________________________________________\n",
            "max_pooling3d_17 (MaxPooling (None, 6, 6, 5, 128)      0         \n",
            "_________________________________________________________________\n",
            "conv3d_18 (Conv3D)           (None, 6, 6, 5, 256)      2097408   \n",
            "_________________________________________________________________\n",
            "leaky_re_lu_20 (LeakyReLU)   (None, 6, 6, 5, 256)      0         \n",
            "_________________________________________________________________\n",
            "max_pooling3d_18 (MaxPooling (None, 3, 3, 2, 256)      0         \n",
            "_________________________________________________________________\n",
            "flatten_3 (Flatten)          (None, 4608)              0         \n",
            "_________________________________________________________________\n",
            "dense_5 (Dense)              (None, 1024)              4719616   \n",
            "_________________________________________________________________\n",
            "leaky_re_lu_21 (LeakyReLU)   (None, 1024)              0         \n",
            "_________________________________________________________________\n",
            "dense_6 (Dense)              (None, 2)                 2050      \n",
            "=================================================================\n",
            "Total params: 7,516,154\n",
            "Trainable params: 7,516,154\n",
            "Non-trainable params: 0\n",
            "_________________________________________________________________\n",
            "None\n"
          ],
          "name": "stdout"
        }
      ]
    },
    {
      "cell_type": "code",
      "metadata": {
        "id": "cPrbqZh7FNqh",
        "colab_type": "code",
        "outputId": "ae0aa3ef-07ed-481d-c701-f0442e5e0dd1",
        "colab": {
          "base_uri": "https://localhost:8080/",
          "height": 2050
        }
      },
      "source": [
        "model.fit(x=X_train, y=y_train, batch_size=10, epochs=100, verbose=1,\n",
        "          validation_data=(X_test, y_test), shuffle=True)"
      ],
      "execution_count": 25,
      "outputs": [
        {
          "output_type": "stream",
          "text": [
            "Train on 19 samples, validate on 5 samples\n",
            "Epoch 1/100\n",
            "19/19 [==============================] - 4s 227ms/step - loss: 4.4717 - categorical_accuracy: 0.4737 - val_loss: 1.1921e-07 - val_categorical_accuracy: 1.0000\n",
            "Epoch 2/100\n",
            "19/19 [==============================] - 3s 166ms/step - loss: 3.3933 - categorical_accuracy: 0.7895 - val_loss: 1.1921e-07 - val_categorical_accuracy: 1.0000\n",
            "Epoch 3/100\n",
            "19/19 [==============================] - 3s 167ms/step - loss: 3.3933 - categorical_accuracy: 0.7895 - val_loss: 1.1921e-07 - val_categorical_accuracy: 1.0000\n",
            "Epoch 4/100\n",
            "19/19 [==============================] - 3s 168ms/step - loss: 3.3933 - categorical_accuracy: 0.7895 - val_loss: 1.1921e-07 - val_categorical_accuracy: 1.0000\n",
            "Epoch 5/100\n",
            "19/19 [==============================] - 3s 169ms/step - loss: 3.3933 - categorical_accuracy: 0.7895 - val_loss: 1.1921e-07 - val_categorical_accuracy: 1.0000\n",
            "Epoch 6/100\n",
            "19/19 [==============================] - 3s 170ms/step - loss: 3.3933 - categorical_accuracy: 0.7895 - val_loss: 1.1921e-07 - val_categorical_accuracy: 1.0000\n",
            "Epoch 7/100\n",
            "19/19 [==============================] - 3s 170ms/step - loss: 3.3933 - categorical_accuracy: 0.7895 - val_loss: 1.1921e-07 - val_categorical_accuracy: 1.0000\n",
            "Epoch 8/100\n",
            "19/19 [==============================] - 3s 171ms/step - loss: 3.3933 - categorical_accuracy: 0.7895 - val_loss: 1.1921e-07 - val_categorical_accuracy: 1.0000\n",
            "Epoch 9/100\n",
            "19/19 [==============================] - 3s 170ms/step - loss: 3.3933 - categorical_accuracy: 0.7895 - val_loss: 1.1921e-07 - val_categorical_accuracy: 1.0000\n",
            "Epoch 10/100\n",
            "19/19 [==============================] - 3s 171ms/step - loss: 3.3933 - categorical_accuracy: 0.7895 - val_loss: 1.1921e-07 - val_categorical_accuracy: 1.0000\n",
            "Epoch 11/100\n",
            "19/19 [==============================] - 3s 171ms/step - loss: 3.3933 - categorical_accuracy: 0.7895 - val_loss: 1.1921e-07 - val_categorical_accuracy: 1.0000\n",
            "Epoch 12/100\n",
            "19/19 [==============================] - 3s 170ms/step - loss: 3.3933 - categorical_accuracy: 0.7895 - val_loss: 1.1921e-07 - val_categorical_accuracy: 1.0000\n",
            "Epoch 13/100\n",
            "19/19 [==============================] - 3s 169ms/step - loss: 3.3933 - categorical_accuracy: 0.7895 - val_loss: 1.1921e-07 - val_categorical_accuracy: 1.0000\n",
            "Epoch 14/100\n",
            "19/19 [==============================] - 3s 169ms/step - loss: 3.3933 - categorical_accuracy: 0.7895 - val_loss: 1.1921e-07 - val_categorical_accuracy: 1.0000\n",
            "Epoch 15/100\n",
            "19/19 [==============================] - 3s 169ms/step - loss: 3.3933 - categorical_accuracy: 0.7895 - val_loss: 1.1921e-07 - val_categorical_accuracy: 1.0000\n",
            "Epoch 16/100\n",
            "19/19 [==============================] - 3s 168ms/step - loss: 3.3933 - categorical_accuracy: 0.7895 - val_loss: 1.1921e-07 - val_categorical_accuracy: 1.0000\n",
            "Epoch 17/100\n",
            "19/19 [==============================] - 3s 168ms/step - loss: 3.3933 - categorical_accuracy: 0.7895 - val_loss: 1.1921e-07 - val_categorical_accuracy: 1.0000\n",
            "Epoch 18/100\n",
            "19/19 [==============================] - 3s 167ms/step - loss: 3.3933 - categorical_accuracy: 0.7895 - val_loss: 1.1921e-07 - val_categorical_accuracy: 1.0000\n",
            "Epoch 19/100\n",
            "19/19 [==============================] - 3s 167ms/step - loss: 3.3933 - categorical_accuracy: 0.7895 - val_loss: 1.1921e-07 - val_categorical_accuracy: 1.0000\n",
            "Epoch 20/100\n",
            "19/19 [==============================] - 3s 167ms/step - loss: 3.3933 - categorical_accuracy: 0.7895 - val_loss: 1.1921e-07 - val_categorical_accuracy: 1.0000\n",
            "Epoch 21/100\n",
            "19/19 [==============================] - 3s 166ms/step - loss: 3.3933 - categorical_accuracy: 0.7895 - val_loss: 1.1921e-07 - val_categorical_accuracy: 1.0000\n",
            "Epoch 22/100\n",
            "19/19 [==============================] - 3s 166ms/step - loss: 3.3933 - categorical_accuracy: 0.7895 - val_loss: 1.1921e-07 - val_categorical_accuracy: 1.0000\n",
            "Epoch 23/100\n",
            "19/19 [==============================] - 3s 166ms/step - loss: 3.3933 - categorical_accuracy: 0.7895 - val_loss: 1.1921e-07 - val_categorical_accuracy: 1.0000\n",
            "Epoch 24/100\n",
            "19/19 [==============================] - 3s 166ms/step - loss: 3.3933 - categorical_accuracy: 0.7895 - val_loss: 1.1921e-07 - val_categorical_accuracy: 1.0000\n",
            "Epoch 25/100\n",
            "19/19 [==============================] - 3s 166ms/step - loss: 3.3933 - categorical_accuracy: 0.7895 - val_loss: 1.1921e-07 - val_categorical_accuracy: 1.0000\n",
            "Epoch 26/100\n",
            "19/19 [==============================] - 3s 166ms/step - loss: 3.3933 - categorical_accuracy: 0.7895 - val_loss: 1.1921e-07 - val_categorical_accuracy: 1.0000\n",
            "Epoch 27/100\n",
            "19/19 [==============================] - 3s 167ms/step - loss: 3.3933 - categorical_accuracy: 0.7895 - val_loss: 1.1921e-07 - val_categorical_accuracy: 1.0000\n",
            "Epoch 28/100\n",
            "19/19 [==============================] - 3s 167ms/step - loss: 3.3933 - categorical_accuracy: 0.7895 - val_loss: 1.1921e-07 - val_categorical_accuracy: 1.0000\n",
            "Epoch 29/100\n",
            "19/19 [==============================] - 3s 167ms/step - loss: 3.3933 - categorical_accuracy: 0.7895 - val_loss: 1.1921e-07 - val_categorical_accuracy: 1.0000\n",
            "Epoch 30/100\n",
            "19/19 [==============================] - 3s 168ms/step - loss: 3.3933 - categorical_accuracy: 0.7895 - val_loss: 1.1921e-07 - val_categorical_accuracy: 1.0000\n",
            "Epoch 31/100\n",
            "19/19 [==============================] - 3s 168ms/step - loss: 3.3933 - categorical_accuracy: 0.7895 - val_loss: 1.1921e-07 - val_categorical_accuracy: 1.0000\n",
            "Epoch 32/100\n",
            "19/19 [==============================] - 3s 168ms/step - loss: 3.3933 - categorical_accuracy: 0.7895 - val_loss: 1.1921e-07 - val_categorical_accuracy: 1.0000\n",
            "Epoch 33/100\n",
            "19/19 [==============================] - 3s 167ms/step - loss: 3.3933 - categorical_accuracy: 0.7895 - val_loss: 1.1921e-07 - val_categorical_accuracy: 1.0000\n",
            "Epoch 34/100\n",
            "19/19 [==============================] - 3s 168ms/step - loss: 3.3933 - categorical_accuracy: 0.7895 - val_loss: 1.1921e-07 - val_categorical_accuracy: 1.0000\n",
            "Epoch 35/100\n",
            "19/19 [==============================] - 3s 168ms/step - loss: 3.3933 - categorical_accuracy: 0.7895 - val_loss: 1.1921e-07 - val_categorical_accuracy: 1.0000\n",
            "Epoch 36/100\n",
            "19/19 [==============================] - 3s 168ms/step - loss: 3.3933 - categorical_accuracy: 0.7895 - val_loss: 1.1921e-07 - val_categorical_accuracy: 1.0000\n",
            "Epoch 37/100\n",
            "19/19 [==============================] - 3s 168ms/step - loss: 3.3933 - categorical_accuracy: 0.7895 - val_loss: 1.1921e-07 - val_categorical_accuracy: 1.0000\n",
            "Epoch 38/100\n",
            "19/19 [==============================] - 3s 168ms/step - loss: 3.3933 - categorical_accuracy: 0.7895 - val_loss: 1.1921e-07 - val_categorical_accuracy: 1.0000\n",
            "Epoch 39/100\n",
            "19/19 [==============================] - 3s 168ms/step - loss: 3.3933 - categorical_accuracy: 0.7895 - val_loss: 1.1921e-07 - val_categorical_accuracy: 1.0000\n",
            "Epoch 40/100\n",
            "19/19 [==============================] - 3s 168ms/step - loss: 3.3933 - categorical_accuracy: 0.7895 - val_loss: 1.1921e-07 - val_categorical_accuracy: 1.0000\n",
            "Epoch 41/100\n",
            "19/19 [==============================] - 3s 168ms/step - loss: 3.3933 - categorical_accuracy: 0.7895 - val_loss: 1.1921e-07 - val_categorical_accuracy: 1.0000\n",
            "Epoch 42/100\n",
            "19/19 [==============================] - 3s 169ms/step - loss: 3.3933 - categorical_accuracy: 0.7895 - val_loss: 1.1921e-07 - val_categorical_accuracy: 1.0000\n",
            "Epoch 43/100\n",
            "19/19 [==============================] - 3s 168ms/step - loss: 3.3933 - categorical_accuracy: 0.7895 - val_loss: 1.1921e-07 - val_categorical_accuracy: 1.0000\n",
            "Epoch 44/100\n",
            "19/19 [==============================] - 3s 167ms/step - loss: 3.3933 - categorical_accuracy: 0.7895 - val_loss: 1.1921e-07 - val_categorical_accuracy: 1.0000\n",
            "Epoch 45/100\n",
            "19/19 [==============================] - 3s 168ms/step - loss: 3.3933 - categorical_accuracy: 0.7895 - val_loss: 1.1921e-07 - val_categorical_accuracy: 1.0000\n",
            "Epoch 46/100\n",
            "19/19 [==============================] - 3s 167ms/step - loss: 3.3933 - categorical_accuracy: 0.7895 - val_loss: 1.1921e-07 - val_categorical_accuracy: 1.0000\n",
            "Epoch 47/100\n",
            "19/19 [==============================] - 3s 168ms/step - loss: 3.3933 - categorical_accuracy: 0.7895 - val_loss: 1.1921e-07 - val_categorical_accuracy: 1.0000\n",
            "Epoch 48/100\n",
            "19/19 [==============================] - 3s 168ms/step - loss: 3.3933 - categorical_accuracy: 0.7895 - val_loss: 1.1921e-07 - val_categorical_accuracy: 1.0000\n",
            "Epoch 49/100\n",
            "19/19 [==============================] - 3s 168ms/step - loss: 3.3933 - categorical_accuracy: 0.7895 - val_loss: 1.1921e-07 - val_categorical_accuracy: 1.0000\n",
            "Epoch 50/100\n",
            "19/19 [==============================] - 3s 168ms/step - loss: 3.3933 - categorical_accuracy: 0.7895 - val_loss: 1.1921e-07 - val_categorical_accuracy: 1.0000\n",
            "Epoch 51/100\n",
            "10/19 [==============>...............] - ETA: 1s - loss: 3.2236 - categorical_accuracy: 0.8000"
          ],
          "name": "stdout"
        },
        {
          "output_type": "error",
          "ename": "KeyboardInterrupt",
          "evalue": "ignored",
          "traceback": [
            "\u001b[0;31m---------------------------------------------------------------------------\u001b[0m",
            "\u001b[0;31mKeyboardInterrupt\u001b[0m                         Traceback (most recent call last)",
            "\u001b[0;32m<ipython-input-25-c2963b2030c9>\u001b[0m in \u001b[0;36m<module>\u001b[0;34m()\u001b[0m\n\u001b[1;32m      1\u001b[0m model.fit(x=X_train, y=y_train, batch_size=10, epochs=100, verbose=1,\n\u001b[0;32m----> 2\u001b[0;31m           validation_data=(X_test, y_test), shuffle=True)\n\u001b[0m",
            "\u001b[0;32m/usr/local/lib/python3.6/dist-packages/keras/engine/training.py\u001b[0m in \u001b[0;36mfit\u001b[0;34m(self, x, y, batch_size, epochs, verbose, callbacks, validation_split, validation_data, shuffle, class_weight, sample_weight, initial_epoch, steps_per_epoch, validation_steps, **kwargs)\u001b[0m\n\u001b[1;32m   1037\u001b[0m                                         \u001b[0minitial_epoch\u001b[0m\u001b[0;34m=\u001b[0m\u001b[0minitial_epoch\u001b[0m\u001b[0;34m,\u001b[0m\u001b[0;34m\u001b[0m\u001b[0;34m\u001b[0m\u001b[0m\n\u001b[1;32m   1038\u001b[0m                                         \u001b[0msteps_per_epoch\u001b[0m\u001b[0;34m=\u001b[0m\u001b[0msteps_per_epoch\u001b[0m\u001b[0;34m,\u001b[0m\u001b[0;34m\u001b[0m\u001b[0;34m\u001b[0m\u001b[0m\n\u001b[0;32m-> 1039\u001b[0;31m                                         validation_steps=validation_steps)\n\u001b[0m\u001b[1;32m   1040\u001b[0m \u001b[0;34m\u001b[0m\u001b[0m\n\u001b[1;32m   1041\u001b[0m     def evaluate(self, x=None, y=None,\n",
            "\u001b[0;32m/usr/local/lib/python3.6/dist-packages/keras/engine/training_arrays.py\u001b[0m in \u001b[0;36mfit_loop\u001b[0;34m(model, f, ins, out_labels, batch_size, epochs, verbose, callbacks, val_f, val_ins, shuffle, callback_metrics, initial_epoch, steps_per_epoch, validation_steps)\u001b[0m\n\u001b[1;32m    197\u001b[0m                     \u001b[0mins_batch\u001b[0m\u001b[0;34m[\u001b[0m\u001b[0mi\u001b[0m\u001b[0;34m]\u001b[0m \u001b[0;34m=\u001b[0m \u001b[0mins_batch\u001b[0m\u001b[0;34m[\u001b[0m\u001b[0mi\u001b[0m\u001b[0;34m]\u001b[0m\u001b[0;34m.\u001b[0m\u001b[0mtoarray\u001b[0m\u001b[0;34m(\u001b[0m\u001b[0;34m)\u001b[0m\u001b[0;34m\u001b[0m\u001b[0;34m\u001b[0m\u001b[0m\n\u001b[1;32m    198\u001b[0m \u001b[0;34m\u001b[0m\u001b[0m\n\u001b[0;32m--> 199\u001b[0;31m                 \u001b[0mouts\u001b[0m \u001b[0;34m=\u001b[0m \u001b[0mf\u001b[0m\u001b[0;34m(\u001b[0m\u001b[0mins_batch\u001b[0m\u001b[0;34m)\u001b[0m\u001b[0;34m\u001b[0m\u001b[0;34m\u001b[0m\u001b[0m\n\u001b[0m\u001b[1;32m    200\u001b[0m                 \u001b[0mouts\u001b[0m \u001b[0;34m=\u001b[0m \u001b[0mto_list\u001b[0m\u001b[0;34m(\u001b[0m\u001b[0mouts\u001b[0m\u001b[0;34m)\u001b[0m\u001b[0;34m\u001b[0m\u001b[0;34m\u001b[0m\u001b[0m\n\u001b[1;32m    201\u001b[0m                 \u001b[0;32mfor\u001b[0m \u001b[0ml\u001b[0m\u001b[0;34m,\u001b[0m \u001b[0mo\u001b[0m \u001b[0;32min\u001b[0m \u001b[0mzip\u001b[0m\u001b[0;34m(\u001b[0m\u001b[0mout_labels\u001b[0m\u001b[0;34m,\u001b[0m \u001b[0mouts\u001b[0m\u001b[0;34m)\u001b[0m\u001b[0;34m:\u001b[0m\u001b[0;34m\u001b[0m\u001b[0;34m\u001b[0m\u001b[0m\n",
            "\u001b[0;32m/usr/local/lib/python3.6/dist-packages/keras/backend/tensorflow_backend.py\u001b[0m in \u001b[0;36m__call__\u001b[0;34m(self, inputs)\u001b[0m\n\u001b[1;32m   2713\u001b[0m                 \u001b[0;32mreturn\u001b[0m \u001b[0mself\u001b[0m\u001b[0;34m.\u001b[0m\u001b[0m_legacy_call\u001b[0m\u001b[0;34m(\u001b[0m\u001b[0minputs\u001b[0m\u001b[0;34m)\u001b[0m\u001b[0;34m\u001b[0m\u001b[0;34m\u001b[0m\u001b[0m\n\u001b[1;32m   2714\u001b[0m \u001b[0;34m\u001b[0m\u001b[0m\n\u001b[0;32m-> 2715\u001b[0;31m             \u001b[0;32mreturn\u001b[0m \u001b[0mself\u001b[0m\u001b[0;34m.\u001b[0m\u001b[0m_call\u001b[0m\u001b[0;34m(\u001b[0m\u001b[0minputs\u001b[0m\u001b[0;34m)\u001b[0m\u001b[0;34m\u001b[0m\u001b[0;34m\u001b[0m\u001b[0m\n\u001b[0m\u001b[1;32m   2716\u001b[0m         \u001b[0;32melse\u001b[0m\u001b[0;34m:\u001b[0m\u001b[0;34m\u001b[0m\u001b[0;34m\u001b[0m\u001b[0m\n\u001b[1;32m   2717\u001b[0m             \u001b[0;32mif\u001b[0m \u001b[0mpy_any\u001b[0m\u001b[0;34m(\u001b[0m\u001b[0mis_tensor\u001b[0m\u001b[0;34m(\u001b[0m\u001b[0mx\u001b[0m\u001b[0;34m)\u001b[0m \u001b[0;32mfor\u001b[0m \u001b[0mx\u001b[0m \u001b[0;32min\u001b[0m \u001b[0minputs\u001b[0m\u001b[0;34m)\u001b[0m\u001b[0;34m:\u001b[0m\u001b[0;34m\u001b[0m\u001b[0;34m\u001b[0m\u001b[0m\n",
            "\u001b[0;32m/usr/local/lib/python3.6/dist-packages/keras/backend/tensorflow_backend.py\u001b[0m in \u001b[0;36m_call\u001b[0;34m(self, inputs)\u001b[0m\n\u001b[1;32m   2673\u001b[0m             \u001b[0mfetched\u001b[0m \u001b[0;34m=\u001b[0m \u001b[0mself\u001b[0m\u001b[0;34m.\u001b[0m\u001b[0m_callable_fn\u001b[0m\u001b[0;34m(\u001b[0m\u001b[0;34m*\u001b[0m\u001b[0marray_vals\u001b[0m\u001b[0;34m,\u001b[0m \u001b[0mrun_metadata\u001b[0m\u001b[0;34m=\u001b[0m\u001b[0mself\u001b[0m\u001b[0;34m.\u001b[0m\u001b[0mrun_metadata\u001b[0m\u001b[0;34m)\u001b[0m\u001b[0;34m\u001b[0m\u001b[0;34m\u001b[0m\u001b[0m\n\u001b[1;32m   2674\u001b[0m         \u001b[0;32melse\u001b[0m\u001b[0;34m:\u001b[0m\u001b[0;34m\u001b[0m\u001b[0;34m\u001b[0m\u001b[0m\n\u001b[0;32m-> 2675\u001b[0;31m             \u001b[0mfetched\u001b[0m \u001b[0;34m=\u001b[0m \u001b[0mself\u001b[0m\u001b[0;34m.\u001b[0m\u001b[0m_callable_fn\u001b[0m\u001b[0;34m(\u001b[0m\u001b[0;34m*\u001b[0m\u001b[0marray_vals\u001b[0m\u001b[0;34m)\u001b[0m\u001b[0;34m\u001b[0m\u001b[0;34m\u001b[0m\u001b[0m\n\u001b[0m\u001b[1;32m   2676\u001b[0m         \u001b[0;32mreturn\u001b[0m \u001b[0mfetched\u001b[0m\u001b[0;34m[\u001b[0m\u001b[0;34m:\u001b[0m\u001b[0mlen\u001b[0m\u001b[0;34m(\u001b[0m\u001b[0mself\u001b[0m\u001b[0;34m.\u001b[0m\u001b[0moutputs\u001b[0m\u001b[0;34m)\u001b[0m\u001b[0;34m]\u001b[0m\u001b[0;34m\u001b[0m\u001b[0;34m\u001b[0m\u001b[0m\n\u001b[1;32m   2677\u001b[0m \u001b[0;34m\u001b[0m\u001b[0m\n",
            "\u001b[0;32m/usr/local/lib/python3.6/dist-packages/tensorflow/python/client/session.py\u001b[0m in \u001b[0;36m__call__\u001b[0;34m(self, *args, **kwargs)\u001b[0m\n\u001b[1;32m   1437\u001b[0m           ret = tf_session.TF_SessionRunCallable(\n\u001b[1;32m   1438\u001b[0m               \u001b[0mself\u001b[0m\u001b[0;34m.\u001b[0m\u001b[0m_session\u001b[0m\u001b[0;34m.\u001b[0m\u001b[0m_session\u001b[0m\u001b[0;34m,\u001b[0m \u001b[0mself\u001b[0m\u001b[0;34m.\u001b[0m\u001b[0m_handle\u001b[0m\u001b[0;34m,\u001b[0m \u001b[0margs\u001b[0m\u001b[0;34m,\u001b[0m \u001b[0mstatus\u001b[0m\u001b[0;34m,\u001b[0m\u001b[0;34m\u001b[0m\u001b[0;34m\u001b[0m\u001b[0m\n\u001b[0;32m-> 1439\u001b[0;31m               run_metadata_ptr)\n\u001b[0m\u001b[1;32m   1440\u001b[0m         \u001b[0;32mif\u001b[0m \u001b[0mrun_metadata\u001b[0m\u001b[0;34m:\u001b[0m\u001b[0;34m\u001b[0m\u001b[0;34m\u001b[0m\u001b[0m\n\u001b[1;32m   1441\u001b[0m           \u001b[0mproto_data\u001b[0m \u001b[0;34m=\u001b[0m \u001b[0mtf_session\u001b[0m\u001b[0;34m.\u001b[0m\u001b[0mTF_GetBuffer\u001b[0m\u001b[0;34m(\u001b[0m\u001b[0mrun_metadata_ptr\u001b[0m\u001b[0;34m)\u001b[0m\u001b[0;34m\u001b[0m\u001b[0;34m\u001b[0m\u001b[0m\n",
            "\u001b[0;31mKeyboardInterrupt\u001b[0m: "
          ]
        }
      ]
    },
    {
      "cell_type": "code",
      "metadata": {
        "id": "M1H__27JiltF",
        "colab_type": "code",
        "colab": {}
      },
      "source": [
        "# https://github.com/MinhazPalasara/keras/blob/master/examples/shapes_3d_cnn.py\n",
        "score = model.evaluate(X_test, y_test, batch_size=None)\n",
        "print('Test score:', score[0])\n",
        "print('Test accuracy:', score[1])"
      ],
      "execution_count": 0,
      "outputs": []
    },
    {
      "cell_type": "code",
      "metadata": {
        "id": "flSVXwCCnz_S",
        "colab_type": "code",
        "colab": {}
      },
      "source": [
        "np.shape(np.squeeze(total_slices_processed, axis=4))"
      ],
      "execution_count": 0,
      "outputs": []
    },
    {
      "cell_type": "code",
      "metadata": {
        "id": "Q4IfnRuglX2K",
        "colab_type": "code",
        "colab": {}
      },
      "source": [
        "from ipywidgets import interact, interactive, fixed, interact_manual\n",
        "import ipywidgets as widgets # interactive plots\n",
        "import matplotlib.pyplot as plt\n",
        "%matplotlib inline\n",
        "\n",
        "total_slices_processed = np.squeeze(total_slices_processed, axis=4)\n",
        "def g(i): # basic slideshow plot to get an idea of the effectiveness of the mask itself\n",
        "    plt.figure(figsize=(15,8)) # make plot larger\n",
        "    plt.imshow(total_slices_processed[1][i])\n",
        "    plt.show()\n",
        "    return None\n",
        "  \n",
        "interact(g, i=widgets.IntSlider(min=0,max=(len(total_slices_processed[1])-1),step=1,value=65)); # plots our axial view, this is it"
      ],
      "execution_count": 0,
      "outputs": []
    },
    {
      "cell_type": "code",
      "metadata": {
        "id": "bHNUj5XQs-0L",
        "colab_type": "code",
        "colab": {}
      },
      "source": [
        ""
      ],
      "execution_count": 0,
      "outputs": []
    }
  ]
}