{
  "nbformat": 4,
  "nbformat_minor": 0,
  "metadata": {
    "colab": {
      "name": "v3.ipynb",
      "version": "0.3.2",
      "provenance": [],
      "collapsed_sections": [],
      "include_colab_link": true
    },
    "kernelspec": {
      "name": "python3",
      "display_name": "Python 3"
    }
  },
  "cells": [
    {
      "cell_type": "markdown",
      "metadata": {
        "id": "view-in-github",
        "colab_type": "text"
      },
      "source": [
        "<a href=\"https://colab.research.google.com/github/StevenVuong/MSc_Project/blob/master/v3.ipynb\" target=\"_parent\"><img src=\"https://colab.research.google.com/assets/colab-badge.svg\" alt=\"Open In Colab\"/></a>"
      ]
    },
    {
      "cell_type": "code",
      "metadata": {
        "id": "xMtiAm8dsTZX",
        "colab_type": "code",
        "colab": {
          "base_uri": "https://localhost:8080/",
          "height": 756
        },
        "outputId": "c8b4e670-bebb-450b-87fe-5ee12a8c1fa5"
      },
      "source": [
        "# install dependencies\n",
        "!pip install deepbrain\n",
        "!pip install pydicom"
      ],
      "execution_count": 1,
      "outputs": [
        {
          "output_type": "stream",
          "text": [
            "Collecting deepbrain\n",
            "\u001b[?25l  Downloading https://files.pythonhosted.org/packages/61/e4/1f4f6c483dd9c5c1e0e38193b3c7ade8beb13c24c90bab593ca545c7da92/deepbrain-0.1-py3-none-any.whl (677kB)\n",
            "\u001b[K     |████████████████████████████████| 686kB 4.8MB/s \n",
            "\u001b[?25hRequirement already satisfied: scikit-image in /usr/local/lib/python3.6/dist-packages (from deepbrain) (0.15.0)\n",
            "Requirement already satisfied: tensorflow in /usr/local/lib/python3.6/dist-packages (from deepbrain) (1.13.1)\n",
            "Requirement already satisfied: nibabel in /usr/local/lib/python3.6/dist-packages (from deepbrain) (2.3.3)\n",
            "Requirement already satisfied: pillow>=4.3.0 in /usr/local/lib/python3.6/dist-packages (from scikit-image->deepbrain) (4.3.0)\n",
            "Requirement already satisfied: networkx>=2.0 in /usr/local/lib/python3.6/dist-packages (from scikit-image->deepbrain) (2.3)\n",
            "Requirement already satisfied: matplotlib!=3.0.0,>=2.0.0 in /usr/local/lib/python3.6/dist-packages (from scikit-image->deepbrain) (3.0.3)\n",
            "Requirement already satisfied: imageio>=2.0.1 in /usr/local/lib/python3.6/dist-packages (from scikit-image->deepbrain) (2.4.1)\n",
            "Requirement already satisfied: PyWavelets>=0.4.0 in /usr/local/lib/python3.6/dist-packages (from scikit-image->deepbrain) (1.0.3)\n",
            "Requirement already satisfied: scipy>=0.17.0 in /usr/local/lib/python3.6/dist-packages (from scikit-image->deepbrain) (1.3.0)\n",
            "Requirement already satisfied: numpy>=1.13.3 in /usr/local/lib/python3.6/dist-packages (from tensorflow->deepbrain) (1.16.3)\n",
            "Requirement already satisfied: astor>=0.6.0 in /usr/local/lib/python3.6/dist-packages (from tensorflow->deepbrain) (0.8.0)\n",
            "Requirement already satisfied: absl-py>=0.1.6 in /usr/local/lib/python3.6/dist-packages (from tensorflow->deepbrain) (0.7.1)\n",
            "Requirement already satisfied: protobuf>=3.6.1 in /usr/local/lib/python3.6/dist-packages (from tensorflow->deepbrain) (3.7.1)\n",
            "Requirement already satisfied: tensorboard<1.14.0,>=1.13.0 in /usr/local/lib/python3.6/dist-packages (from tensorflow->deepbrain) (1.13.1)\n",
            "Requirement already satisfied: keras-preprocessing>=1.0.5 in /usr/local/lib/python3.6/dist-packages (from tensorflow->deepbrain) (1.0.9)\n",
            "Requirement already satisfied: termcolor>=1.1.0 in /usr/local/lib/python3.6/dist-packages (from tensorflow->deepbrain) (1.1.0)\n",
            "Requirement already satisfied: gast>=0.2.0 in /usr/local/lib/python3.6/dist-packages (from tensorflow->deepbrain) (0.2.2)\n",
            "Requirement already satisfied: grpcio>=1.8.6 in /usr/local/lib/python3.6/dist-packages (from tensorflow->deepbrain) (1.15.0)\n",
            "Requirement already satisfied: keras-applications>=1.0.6 in /usr/local/lib/python3.6/dist-packages (from tensorflow->deepbrain) (1.0.7)\n",
            "Requirement already satisfied: wheel>=0.26 in /usr/local/lib/python3.6/dist-packages (from tensorflow->deepbrain) (0.33.4)\n",
            "Requirement already satisfied: six>=1.10.0 in /usr/local/lib/python3.6/dist-packages (from tensorflow->deepbrain) (1.12.0)\n",
            "Requirement already satisfied: tensorflow-estimator<1.14.0rc0,>=1.13.0 in /usr/local/lib/python3.6/dist-packages (from tensorflow->deepbrain) (1.13.0)\n",
            "Requirement already satisfied: bz2file in /usr/local/lib/python3.6/dist-packages (from nibabel->deepbrain) (0.98)\n",
            "Requirement already satisfied: olefile in /usr/local/lib/python3.6/dist-packages (from pillow>=4.3.0->scikit-image->deepbrain) (0.46)\n",
            "Requirement already satisfied: decorator>=4.3.0 in /usr/local/lib/python3.6/dist-packages (from networkx>=2.0->scikit-image->deepbrain) (4.4.0)\n",
            "Requirement already satisfied: python-dateutil>=2.1 in /usr/local/lib/python3.6/dist-packages (from matplotlib!=3.0.0,>=2.0.0->scikit-image->deepbrain) (2.5.3)\n",
            "Requirement already satisfied: pyparsing!=2.0.4,!=2.1.2,!=2.1.6,>=2.0.1 in /usr/local/lib/python3.6/dist-packages (from matplotlib!=3.0.0,>=2.0.0->scikit-image->deepbrain) (2.4.0)\n",
            "Requirement already satisfied: kiwisolver>=1.0.1 in /usr/local/lib/python3.6/dist-packages (from matplotlib!=3.0.0,>=2.0.0->scikit-image->deepbrain) (1.1.0)\n",
            "Requirement already satisfied: cycler>=0.10 in /usr/local/lib/python3.6/dist-packages (from matplotlib!=3.0.0,>=2.0.0->scikit-image->deepbrain) (0.10.0)\n",
            "Requirement already satisfied: setuptools in /usr/local/lib/python3.6/dist-packages (from protobuf>=3.6.1->tensorflow->deepbrain) (41.0.1)\n",
            "Requirement already satisfied: werkzeug>=0.11.15 in /usr/local/lib/python3.6/dist-packages (from tensorboard<1.14.0,>=1.13.0->tensorflow->deepbrain) (0.15.4)\n",
            "Requirement already satisfied: markdown>=2.6.8 in /usr/local/lib/python3.6/dist-packages (from tensorboard<1.14.0,>=1.13.0->tensorflow->deepbrain) (3.1.1)\n",
            "Requirement already satisfied: h5py in /usr/local/lib/python3.6/dist-packages (from keras-applications>=1.0.6->tensorflow->deepbrain) (2.8.0)\n",
            "Requirement already satisfied: mock>=2.0.0 in /usr/local/lib/python3.6/dist-packages (from tensorflow-estimator<1.14.0rc0,>=1.13.0->tensorflow->deepbrain) (3.0.5)\n",
            "Installing collected packages: deepbrain\n",
            "Successfully installed deepbrain-0.1\n",
            "Collecting pydicom\n",
            "\u001b[?25l  Downloading https://files.pythonhosted.org/packages/43/88/d3c419ab2e753e7651510882a53219373e78fb55294cb247dffd3934ea55/pydicom-1.2.2-py2.py3-none-any.whl (7.0MB)\n",
            "\u001b[K     |████████████████████████████████| 7.0MB 4.3MB/s \n",
            "\u001b[?25hInstalling collected packages: pydicom\n",
            "Successfully installed pydicom-1.2.2\n"
          ],
          "name": "stdout"
        }
      ]
    },
    {
      "cell_type": "code",
      "metadata": {
        "id": "-vThwOxSsZcG",
        "colab_type": "code",
        "colab": {
          "base_uri": "https://localhost:8080/",
          "height": 121
        },
        "outputId": "5eda166f-a21e-4f65-863c-7627018d92e3"
      },
      "source": [
        "from google.colab import drive\n",
        "\n",
        "# mount google drive into google colab\n",
        "drive.mount('/content/gdrive')"
      ],
      "execution_count": 2,
      "outputs": [
        {
          "output_type": "stream",
          "text": [
            "Go to this URL in a browser: https://accounts.google.com/o/oauth2/auth?client_id=947318989803-6bn6qk8qdgf4n4g3pfee6491hc0brc4i.apps.googleusercontent.com&redirect_uri=urn%3Aietf%3Awg%3Aoauth%3A2.0%3Aoob&scope=email%20https%3A%2F%2Fwww.googleapis.com%2Fauth%2Fdocs.test%20https%3A%2F%2Fwww.googleapis.com%2Fauth%2Fdrive%20https%3A%2F%2Fwww.googleapis.com%2Fauth%2Fdrive.photos.readonly%20https%3A%2F%2Fwww.googleapis.com%2Fauth%2Fpeopleapi.readonly&response_type=code\n",
            "\n",
            "Enter your authorization code:\n",
            "··········\n",
            "Mounted at /content/gdrive\n"
          ],
          "name": "stdout"
        }
      ]
    },
    {
      "cell_type": "code",
      "metadata": {
        "id": "xDPKsjxlsZvm",
        "colab_type": "code",
        "colab": {
          "base_uri": "https://localhost:8080/",
          "height": 101
        },
        "outputId": "b130c571-8dd3-43d1-c73a-180351c8101d"
      },
      "source": [
        "import os\n",
        "\n",
        "# go to where the data is\n",
        "print (os.listdir())\n",
        "os.chdir('gdrive/My Drive/msc_project')\n",
        "os.listdir()"
      ],
      "execution_count": 3,
      "outputs": [
        {
          "output_type": "stream",
          "text": [
            "['.config', 'gdrive', 'sample_data']\n"
          ],
          "name": "stdout"
        },
        {
          "output_type": "execute_result",
          "data": {
            "text/plain": [
              "['t1_scan',\n",
              " 'T1_SAG_SIEMEN_3T_CLEAN_5_29_2019.csv',\n",
              " 'T1_SAG_SIEMEN_3T_CLEAN_1',\n",
              " 'T1_SAG_SIEMEN_3T_CLEAN_5_29_2019.gsheet']"
            ]
          },
          "metadata": {
            "tags": []
          },
          "execution_count": 3
        }
      ]
    },
    {
      "cell_type": "code",
      "metadata": {
        "id": "u_Rz2-kfsp1i",
        "colab_type": "code",
        "colab": {
          "base_uri": "https://localhost:8080/",
          "height": 195
        },
        "outputId": "83767909-fe6f-47e4-ce2f-eceb90ce10c0"
      },
      "source": [
        "import pandas as pd\n",
        "\n",
        "patients = os.listdir('T1_SAG_SIEMEN_3T_CLEAN_1') # get all patients ID's in scan\n",
        "patient_df = pd.read_csv('T1_SAG_SIEMEN_3T_CLEAN_5_29_2019.csv') # get dataframe too to cross reference\n",
        "\n",
        "patient_df.head() # so we have a dataframe of our patients' data"
      ],
      "execution_count": 4,
      "outputs": [
        {
          "output_type": "execute_result",
          "data": {
            "text/html": [
              "<div>\n",
              "<style scoped>\n",
              "    .dataframe tbody tr th:only-of-type {\n",
              "        vertical-align: middle;\n",
              "    }\n",
              "\n",
              "    .dataframe tbody tr th {\n",
              "        vertical-align: top;\n",
              "    }\n",
              "\n",
              "    .dataframe thead th {\n",
              "        text-align: right;\n",
              "    }\n",
              "</style>\n",
              "<table border=\"1\" class=\"dataframe\">\n",
              "  <thead>\n",
              "    <tr style=\"text-align: right;\">\n",
              "      <th></th>\n",
              "      <th>Image Data ID</th>\n",
              "      <th>Subject</th>\n",
              "      <th>Group</th>\n",
              "      <th>Sex</th>\n",
              "      <th>Age</th>\n",
              "      <th>Visit</th>\n",
              "      <th>Modality</th>\n",
              "      <th>Description</th>\n",
              "      <th>Type</th>\n",
              "      <th>Acq Date</th>\n",
              "      <th>Format</th>\n",
              "      <th>Downloaded</th>\n",
              "    </tr>\n",
              "  </thead>\n",
              "  <tbody>\n",
              "    <tr>\n",
              "      <th>0</th>\n",
              "      <td>1130198</td>\n",
              "      <td>75422</td>\n",
              "      <td>GenCohort Unaff</td>\n",
              "      <td>M</td>\n",
              "      <td>73</td>\n",
              "      <td>1</td>\n",
              "      <td>MRI</td>\n",
              "      <td>MPRAGE GRAPPA</td>\n",
              "      <td>Original</td>\n",
              "      <td>11/13/2018</td>\n",
              "      <td>DCM</td>\n",
              "      <td>5/07/2019</td>\n",
              "    </tr>\n",
              "    <tr>\n",
              "      <th>1</th>\n",
              "      <td>1130190</td>\n",
              "      <td>75414</td>\n",
              "      <td>GenCohort Unaff</td>\n",
              "      <td>F</td>\n",
              "      <td>73</td>\n",
              "      <td>1</td>\n",
              "      <td>MRI</td>\n",
              "      <td>Sag MPRAGE GRAPPA</td>\n",
              "      <td>Original</td>\n",
              "      <td>12/13/2018</td>\n",
              "      <td>DCM</td>\n",
              "      <td>4/24/2019</td>\n",
              "    </tr>\n",
              "    <tr>\n",
              "      <th>2</th>\n",
              "      <td>1130191</td>\n",
              "      <td>75414</td>\n",
              "      <td>GenCohort Unaff</td>\n",
              "      <td>F</td>\n",
              "      <td>73</td>\n",
              "      <td>1</td>\n",
              "      <td>MRI</td>\n",
              "      <td>Sag MPRAGE GRAPPA</td>\n",
              "      <td>Original</td>\n",
              "      <td>12/13/2018</td>\n",
              "      <td>DCM</td>\n",
              "      <td>4/24/2019</td>\n",
              "    </tr>\n",
              "    <tr>\n",
              "      <th>3</th>\n",
              "      <td>1125041</td>\n",
              "      <td>74375</td>\n",
              "      <td>GenCohort Unaff</td>\n",
              "      <td>F</td>\n",
              "      <td>59</td>\n",
              "      <td>1</td>\n",
              "      <td>MRI</td>\n",
              "      <td>MPRAGE_GRAPPA</td>\n",
              "      <td>Original</td>\n",
              "      <td>9/06/2018</td>\n",
              "      <td>DCM</td>\n",
              "      <td>4/24/2019</td>\n",
              "    </tr>\n",
              "    <tr>\n",
              "      <th>4</th>\n",
              "      <td>1003469</td>\n",
              "      <td>72138</td>\n",
              "      <td>GenCohort Unaff</td>\n",
              "      <td>F</td>\n",
              "      <td>55</td>\n",
              "      <td>1</td>\n",
              "      <td>MRI</td>\n",
              "      <td>MPRAGE GRAPPA</td>\n",
              "      <td>Original</td>\n",
              "      <td>2/19/2018</td>\n",
              "      <td>DCM</td>\n",
              "      <td>4/24/2019</td>\n",
              "    </tr>\n",
              "  </tbody>\n",
              "</table>\n",
              "</div>"
            ],
            "text/plain": [
              "   Image Data ID  Subject            Group  ...    Acq Date  Format  Downloaded\n",
              "0        1130198    75422  GenCohort Unaff  ...  11/13/2018     DCM   5/07/2019\n",
              "1        1130190    75414  GenCohort Unaff  ...  12/13/2018     DCM   4/24/2019\n",
              "2        1130191    75414  GenCohort Unaff  ...  12/13/2018     DCM   4/24/2019\n",
              "3        1125041    74375  GenCohort Unaff  ...   9/06/2018     DCM   4/24/2019\n",
              "4        1003469    72138  GenCohort Unaff  ...   2/19/2018     DCM   4/24/2019\n",
              "\n",
              "[5 rows x 12 columns]"
            ]
          },
          "metadata": {
            "tags": []
          },
          "execution_count": 4
        }
      ]
    },
    {
      "cell_type": "code",
      "metadata": {
        "id": "qTxaWLyMviqi",
        "colab_type": "code",
        "colab": {}
      },
      "source": [
        "def get_grappa_dir(path):\n",
        "  # get the file ending with 'GRAPPA', would need to accomodate this for grappa also\n",
        "  for next_path in os.listdir(path):\n",
        "    if (next_path.split(\"_\")[-1] == 'GRAPPA'): # for the t1 weighted\n",
        "      return next_path"
      ],
      "execution_count": 0,
      "outputs": []
    },
    {
      "cell_type": "code",
      "metadata": {
        "id": "y4smr-Q1y5td",
        "colab_type": "code",
        "colab": {}
      },
      "source": [
        "def get_dcm_s(path):\n",
        "  # get the path beginning with S, so doesn't clash with GZ File\n",
        "  for next_path in os.listdir(path):\n",
        "    if (next_path[0] == 'S'):\n",
        "      return next_path"
      ],
      "execution_count": 0,
      "outputs": []
    },
    {
      "cell_type": "code",
      "metadata": {
        "id": "W13cQHKlcER1",
        "colab_type": "code",
        "colab": {}
      },
      "source": [
        "def get_img_no(path):\n",
        "  # get the image identification numberm any image will do for this so take first\n",
        "  image_number = None\n",
        "  for image_file in os.listdir(path):\n",
        "    image_number = int(image_file.split(\"_\")[-1][1:-4]) # index to get the ID\n",
        "   \n",
        "  return image_number"
      ],
      "execution_count": 0,
      "outputs": []
    },
    {
      "cell_type": "code",
      "metadata": {
        "id": "ZjlKpUkxtEM8",
        "colab_type": "code",
        "colab": {
          "base_uri": "https://localhost:8080/",
          "height": 299
        },
        "outputId": "12f995cb-3595-4289-ed6d-8e18fa59148a"
      },
      "source": [
        "import pydicom\n",
        "import numpy as np\n",
        "\n",
        "cwd = os.getcwd()\n",
        "print (\"Current Working Dir: %s \" % cwd)\n",
        "\n",
        "for patient in patients[:2]:\n",
        "  # label = patient_df.get_value(patient, 'Subject') # cannot go by patient, must get the ID\n",
        "  path = cwd + '/' + 'T1_SAG_SIEMEN_3T_CLEAN_1/' + patient # get to the GRAPPA \n",
        "  path = path + '/' + get_grappa_dir(path)\n",
        "  path = path + '/' + os.listdir(path)[-1] # get the most recent scan for patient\n",
        "  path = path + '/' + get_dcm_s(path)\n",
        "  \n",
        "  # get information related around the image\n",
        "  image_number = get_img_no(path)\n",
        "  image_row = patient_df.loc[patient_df['Image Data ID'] == image_number] # relate to df\n",
        "  image_sex = image_row.Sex.values[0]\n",
        "  image_group = image_row.Group.values[0]\n",
        "  image_age = image_row.Age.values[0]\n",
        "  \n",
        "  print (image_sex)\n",
        "  print (image_age)\n",
        "  print (os.listdir(path))\n",
        "  \n",
        "  dcm_files = os.listdir(path)\n",
        "  slices = []\n",
        "  # loop through slices and build the array\n",
        "  for dcm_file in dcm_files:\n",
        "    path_to_file = path + '/' + dcm_file\n",
        "    slices.append(pydicom.read_file(path_to_file).pixel_array)\n",
        "  slices = np.array(slices)\n",
        "  print (np.shape(slices))"
      ],
      "execution_count": 51,
      "outputs": [
        {
          "output_type": "stream",
          "text": [
            "Current Working Dir: /content/gdrive/My Drive/msc_project \n",
            "F\n",
            "50\n",
            "['PPMI_3108_MR_MPRAGE_GRAPPA__br_raw_20110502103125381_163_S107265_I232161.dcm', 'PPMI_3108_MR_MPRAGE_GRAPPA__br_raw_20110502103125272_169_S107265_I232161.dcm', 'PPMI_3108_MR_MPRAGE_GRAPPA__br_raw_20110502103125225_170_S107265_I232161.dcm', 'PPMI_3108_MR_MPRAGE_GRAPPA__br_raw_20110502103125506_138_S107265_I232161.dcm', 'PPMI_3108_MR_MPRAGE_GRAPPA__br_raw_20110502103125787_166_S107265_I232161.dcm', 'PPMI_3108_MR_MPRAGE_GRAPPA__br_raw_20110502103125819_167_S107265_I232161.dcm', 'PPMI_3108_MR_MPRAGE_GRAPPA__br_raw_20110502103125850_164_S107265_I232161.dcm', 'PPMI_3108_MR_MPRAGE_GRAPPA__br_raw_20110502103125897_165_S107265_I232161.dcm', 'PPMI_3108_MR_MPRAGE_GRAPPA__br_raw_20110502103125350_168_S107265_I232161.dcm', 'PPMI_3108_MR_MPRAGE_GRAPPA__br_raw_20110502103125319_139_S107265_I232161.dcm', 'PPMI_3108_MR_MPRAGE_GRAPPA__br_raw_20110502103126412_171_S107265_I232161.dcm', 'PPMI_3108_MR_MPRAGE_GRAPPA__br_raw_20110502103126631_173_S107265_I232161.dcm', 'PPMI_3108_MR_MPRAGE_GRAPPA__br_raw_20110502103126678_172_S107265_I232161.dcm', 'PPMI_3108_MR_MPRAGE_GRAPPA__br_raw_20110502103128959_144_S107265_I232161.dcm', 'PPMI_3108_MR_MPRAGE_GRAPPA__br_raw_20110502103130256_152_S107265_I232161.dcm', 'PPMI_3108_MR_MPRAGE_GRAPPA__br_raw_20110502103126741_174_S107265_I232161.dcm', 'PPMI_3108_MR_MPRAGE_GRAPPA__br_raw_20110502103126850_175_S107265_I232161.dcm', 'PPMI_3108_MR_MPRAGE_GRAPPA__br_raw_20110502103128928_145_S107265_I232161.dcm', 'PPMI_3108_MR_MPRAGE_GRAPPA__br_raw_20110502103128756_147_S107265_I232161.dcm', 'PPMI_3108_MR_MPRAGE_GRAPPA__br_raw_20110502103126881_176_S107265_I232161.dcm', 'PPMI_3108_MR_MPRAGE_GRAPPA__br_raw_20110502103128881_146_S107265_I232161.dcm', 'PPMI_3108_MR_MPRAGE_GRAPPA__br_raw_20110502103126928_140_S107265_I232161.dcm', 'PPMI_3108_MR_MPRAGE_GRAPPA__br_raw_20110502103130584_137_S107265_I232161.dcm', 'PPMI_3108_MR_MPRAGE_GRAPPA__br_raw_20110502103130616_151_S107265_I232161.dcm', 'PPMI_3108_MR_MPRAGE_GRAPPA__br_raw_20110502103130834_150_S107265_I232161.dcm', 'PPMI_3108_MR_MPRAGE_GRAPPA__br_raw_20110502103130866_149_S107265_I232161.dcm', 'PPMI_3108_MR_MPRAGE_GRAPPA__br_raw_20110502103130913_148_S107265_I232161.dcm', 'PPMI_3108_MR_MPRAGE_GRAPPA__br_raw_20110502103130944_155_S107265_I232161.dcm', 'PPMI_3108_MR_MPRAGE_GRAPPA__br_raw_20110502103131053_154_S107265_I232161.dcm', 'PPMI_3108_MR_MPRAGE_GRAPPA__br_raw_20110502103132038_160_S107265_I232161.dcm', 'PPMI_3108_MR_MPRAGE_GRAPPA__br_raw_20110502103132272_122_S107265_I232161.dcm', 'PPMI_3108_MR_MPRAGE_GRAPPA__br_raw_20110502103131381_158_S107265_I232161.dcm', 'PPMI_3108_MR_MPRAGE_GRAPPA__br_raw_20110502103131163_156_S107265_I232161.dcm', 'PPMI_3108_MR_MPRAGE_GRAPPA__br_raw_20110502103131116_157_S107265_I232161.dcm', 'PPMI_3108_MR_MPRAGE_GRAPPA__br_raw_20110502103131413_161_S107265_I232161.dcm', 'PPMI_3108_MR_MPRAGE_GRAPPA__br_raw_20110502103131256_162_S107265_I232161.dcm', 'PPMI_3108_MR_MPRAGE_GRAPPA__br_raw_20110502103131288_159_S107265_I232161.dcm', 'PPMI_3108_MR_MPRAGE_GRAPPA__br_raw_20110502103131209_153_S107265_I232161.dcm', 'PPMI_3108_MR_MPRAGE_GRAPPA__br_raw_20110502103132522_123_S107265_I232161.dcm', 'PPMI_3108_MR_MPRAGE_GRAPPA__br_raw_20110502103132553_126_S107265_I232161.dcm', 'PPMI_3108_MR_MPRAGE_GRAPPA__br_raw_20110502103132600_125_S107265_I232161.dcm', 'PPMI_3108_MR_MPRAGE_GRAPPA__br_raw_20110502103132631_95_S107265_I232161.dcm', 'PPMI_3108_MR_MPRAGE_GRAPPA__br_raw_20110502103132663_124_S107265_I232161.dcm', 'PPMI_3108_MR_MPRAGE_GRAPPA__br_raw_20110502103132709_130_S107265_I232161.dcm', 'PPMI_3108_MR_MPRAGE_GRAPPA__br_raw_20110502103132803_129_S107265_I232161.dcm', 'PPMI_3108_MR_MPRAGE_GRAPPA__br_raw_20110502103133381_141_S107265_I232161.dcm', 'PPMI_3108_MR_MPRAGE_GRAPPA__br_raw_20110502103133413_135_S107265_I232161.dcm', 'PPMI_3108_MR_MPRAGE_GRAPPA__br_raw_20110502103133272_132_S107265_I232161.dcm', 'PPMI_3108_MR_MPRAGE_GRAPPA__br_raw_20110502103133116_131_S107265_I232161.dcm', 'PPMI_3108_MR_MPRAGE_GRAPPA__br_raw_20110502103132881_127_S107265_I232161.dcm', 'PPMI_3108_MR_MPRAGE_GRAPPA__br_raw_20110502103132834_128_S107265_I232161.dcm', 'PPMI_3108_MR_MPRAGE_GRAPPA__br_raw_20110502103133225_133_S107265_I232161.dcm', 'PPMI_3108_MR_MPRAGE_GRAPPA__br_raw_20110502103133303_134_S107265_I232161.dcm', 'PPMI_3108_MR_MPRAGE_GRAPPA__br_raw_20110502103133491_142_S107265_I232161.dcm', 'PPMI_3108_MR_MPRAGE_GRAPPA__br_raw_20110502103133538_136_S107265_I232161.dcm', 'PPMI_3108_MR_MPRAGE_GRAPPA__br_raw_20110502103133569_143_S107265_I232161.dcm', 'PPMI_3108_MR_MPRAGE_GRAPPA__br_raw_20110502103140335_7_S107265_I232161.dcm', 'PPMI_3108_MR_MPRAGE_GRAPPA__br_raw_20110502103140647_1_S107265_I232161.dcm', 'PPMI_3108_MR_MPRAGE_GRAPPA__br_raw_20110502103133350_96_S107265_I232161.dcm', 'PPMI_3108_MR_MPRAGE_GRAPPA__br_raw_20110502103140678_5_S107265_I232161.dcm', 'PPMI_3108_MR_MPRAGE_GRAPPA__br_raw_20110502103140803_3_S107265_I232161.dcm', 'PPMI_3108_MR_MPRAGE_GRAPPA__br_raw_20110502103140835_2_S107265_I232161.dcm', 'PPMI_3108_MR_MPRAGE_GRAPPA__br_raw_20110502103147991_15_S107265_I232161.dcm', 'PPMI_3108_MR_MPRAGE_GRAPPA__br_raw_20110502103148116_14_S107265_I232161.dcm', 'PPMI_3108_MR_MPRAGE_GRAPPA__br_raw_20110502103148147_17_S107265_I232161.dcm', 'PPMI_3108_MR_MPRAGE_GRAPPA__br_raw_20110502103140882_4_S107265_I232161.dcm', 'PPMI_3108_MR_MPRAGE_GRAPPA__br_raw_20110502103140913_6_S107265_I232161.dcm', 'PPMI_3108_MR_MPRAGE_GRAPPA__br_raw_20110502103140944_8_S107265_I232161.dcm', 'PPMI_3108_MR_MPRAGE_GRAPPA__br_raw_20110502103147819_16_S107265_I232161.dcm', 'PPMI_3108_MR_MPRAGE_GRAPPA__br_raw_20110502103147600_19_S107265_I232161.dcm', 'PPMI_3108_MR_MPRAGE_GRAPPA__br_raw_20110502103147413_20_S107265_I232161.dcm', 'PPMI_3108_MR_MPRAGE_GRAPPA__br_raw_20110502103140991_9_S107265_I232161.dcm', 'PPMI_3108_MR_MPRAGE_GRAPPA__br_raw_20110502103148194_11_S107265_I232161.dcm', 'PPMI_3108_MR_MPRAGE_GRAPPA__br_raw_20110502103148225_10_S107265_I232161.dcm', 'PPMI_3108_MR_MPRAGE_GRAPPA__br_raw_20110502103148288_12_S107265_I232161.dcm', 'PPMI_3108_MR_MPRAGE_GRAPPA__br_raw_20110502103148335_13_S107265_I232161.dcm', 'PPMI_3108_MR_MPRAGE_GRAPPA__br_raw_20110502103148366_115_S107265_I232161.dcm', 'PPMI_3108_MR_MPRAGE_GRAPPA__br_raw_20110502103148413_116_S107265_I232161.dcm', 'PPMI_3108_MR_MPRAGE_GRAPPA__br_raw_20110502103148444_113_S107265_I232161.dcm', 'PPMI_3108_MR_MPRAGE_GRAPPA__br_raw_20110502103149366_101_S107265_I232161.dcm', 'PPMI_3108_MR_MPRAGE_GRAPPA__br_raw_20110502103149397_93_S107265_I232161.dcm', 'PPMI_3108_MR_MPRAGE_GRAPPA__br_raw_20110502103149429_99_S107265_I232161.dcm', 'PPMI_3108_MR_MPRAGE_GRAPPA__br_raw_20110502103149132_120_S107265_I232161.dcm', 'PPMI_3108_MR_MPRAGE_GRAPPA__br_raw_20110502103148976_114_S107265_I232161.dcm', 'PPMI_3108_MR_MPRAGE_GRAPPA__br_raw_20110502103149335_102_S107265_I232161.dcm', 'PPMI_3108_MR_MPRAGE_GRAPPA__br_raw_20110502103149085_119_S107265_I232161.dcm', 'PPMI_3108_MR_MPRAGE_GRAPPA__br_raw_20110502103149288_112_S107265_I232161.dcm', 'PPMI_3108_MR_MPRAGE_GRAPPA__br_raw_20110502103149194_118_S107265_I232161.dcm', 'PPMI_3108_MR_MPRAGE_GRAPPA__br_raw_20110502103149163_117_S107265_I232161.dcm', 'PPMI_3108_MR_MPRAGE_GRAPPA__br_raw_20110502103149476_97_S107265_I232161.dcm', 'PPMI_3108_MR_MPRAGE_GRAPPA__br_raw_20110502103150194_98_S107265_I232161.dcm', 'PPMI_3108_MR_MPRAGE_GRAPPA__br_raw_20110502103150429_92_S107265_I232161.dcm', 'PPMI_3108_MR_MPRAGE_GRAPPA__br_raw_20110502103150679_94_S107265_I232161.dcm', 'PPMI_3108_MR_MPRAGE_GRAPPA__br_raw_20110502103150929_89_S107265_I232161.dcm', 'PPMI_3108_MR_MPRAGE_GRAPPA__br_raw_20110502103151163_88_S107265_I232161.dcm', 'PPMI_3108_MR_MPRAGE_GRAPPA__br_raw_20110502103154069_121_S107265_I232161.dcm', 'PPMI_3108_MR_MPRAGE_GRAPPA__br_raw_20110502103155007_109_S107265_I232161.dcm', 'PPMI_3108_MR_MPRAGE_GRAPPA__br_raw_20110502103155054_90_S107265_I232161.dcm', 'PPMI_3108_MR_MPRAGE_GRAPPA__br_raw_20110502103155085_87_S107265_I232161.dcm', 'PPMI_3108_MR_MPRAGE_GRAPPA__br_raw_20110502103154773_105_S107265_I232161.dcm', 'PPMI_3108_MR_MPRAGE_GRAPPA__br_raw_20110502103154694_103_S107265_I232161.dcm', 'PPMI_3108_MR_MPRAGE_GRAPPA__br_raw_20110502103154663_100_S107265_I232161.dcm', 'PPMI_3108_MR_MPRAGE_GRAPPA__br_raw_20110502103154898_104_S107265_I232161.dcm', 'PPMI_3108_MR_MPRAGE_GRAPPA__br_raw_20110502103154741_106_S107265_I232161.dcm', 'PPMI_3108_MR_MPRAGE_GRAPPA__br_raw_20110502103154976_108_S107265_I232161.dcm', 'PPMI_3108_MR_MPRAGE_GRAPPA__br_raw_20110502103154929_107_S107265_I232161.dcm', 'PPMI_3108_MR_MPRAGE_GRAPPA__br_raw_20110502103155132_91_S107265_I232161.dcm', 'PPMI_3108_MR_MPRAGE_GRAPPA__br_raw_20110502103155163_83_S107265_I232161.dcm', 'PPMI_3108_MR_MPRAGE_GRAPPA__br_raw_20110502103155194_84_S107265_I232161.dcm', 'PPMI_3108_MR_MPRAGE_GRAPPA__br_raw_20110502103155429_86_S107265_I232161.dcm', 'PPMI_3108_MR_MPRAGE_GRAPPA__br_raw_20110502103155554_85_S107265_I232161.dcm', 'PPMI_3108_MR_MPRAGE_GRAPPA__br_raw_20110502103155601_80_S107265_I232161.dcm', 'PPMI_3108_MR_MPRAGE_GRAPPA__br_raw_20110502103155835_81_S107265_I232161.dcm', 'PPMI_3108_MR_MPRAGE_GRAPPA__br_raw_20110502103155866_82_S107265_I232161.dcm', 'PPMI_3108_MR_MPRAGE_GRAPPA__br_raw_20110502103156288_72_S107265_I232161.dcm', 'PPMI_3108_MR_MPRAGE_GRAPPA__br_raw_20110502103156319_74_S107265_I232161.dcm', 'PPMI_3108_MR_MPRAGE_GRAPPA__br_raw_20110502103155944_111_S107265_I232161.dcm', 'PPMI_3108_MR_MPRAGE_GRAPPA__br_raw_20110502103155976_110_S107265_I232161.dcm', 'PPMI_3108_MR_MPRAGE_GRAPPA__br_raw_20110502103156085_77_S107265_I232161.dcm', 'PPMI_3108_MR_MPRAGE_GRAPPA__br_raw_20110502103156054_79_S107265_I232161.dcm', 'PPMI_3108_MR_MPRAGE_GRAPPA__br_raw_20110502103156132_76_S107265_I232161.dcm', 'PPMI_3108_MR_MPRAGE_GRAPPA__br_raw_20110502103156023_78_S107265_I232161.dcm', 'PPMI_3108_MR_MPRAGE_GRAPPA__br_raw_20110502103156366_75_S107265_I232161.dcm', 'PPMI_3108_MR_MPRAGE_GRAPPA__br_raw_20110502103156398_71_S107265_I232161.dcm', 'PPMI_3108_MR_MPRAGE_GRAPPA__br_raw_20110502103156429_73_S107265_I232161.dcm', 'PPMI_3108_MR_MPRAGE_GRAPPA__br_raw_20110502103156476_59_S107265_I232161.dcm', 'PPMI_3108_MR_MPRAGE_GRAPPA__br_raw_20110502103156694_67_S107265_I232161.dcm', 'PPMI_3108_MR_MPRAGE_GRAPPA__br_raw_20110502103156741_69_S107265_I232161.dcm', 'PPMI_3108_MR_MPRAGE_GRAPPA__br_raw_20110502103156257_57_S107265_I232161.dcm', 'PPMI_3108_MR_MPRAGE_GRAPPA__br_raw_20110502103156773_68_S107265_I232161.dcm', 'PPMI_3108_MR_MPRAGE_GRAPPA__br_raw_20110502103157023_70_S107265_I232161.dcm', 'PPMI_3108_MR_MPRAGE_GRAPPA__br_raw_20110502103157054_62_S107265_I232161.dcm', 'PPMI_3108_MR_MPRAGE_GRAPPA__br_raw_20110502103201413_58_S107265_I232161.dcm', 'PPMI_3108_MR_MPRAGE_GRAPPA__br_raw_20110502103201851_53_S107265_I232161.dcm', 'PPMI_3108_MR_MPRAGE_GRAPPA__br_raw_20110502103200820_61_S107265_I232161.dcm', 'PPMI_3108_MR_MPRAGE_GRAPPA__br_raw_20110502103201335_60_S107265_I232161.dcm', 'PPMI_3108_MR_MPRAGE_GRAPPA__br_raw_20110502103157101_63_S107265_I232161.dcm', 'PPMI_3108_MR_MPRAGE_GRAPPA__br_raw_20110502103157132_64_S107265_I232161.dcm', 'PPMI_3108_MR_MPRAGE_GRAPPA__br_raw_20110502103157554_66_S107265_I232161.dcm', 'PPMI_3108_MR_MPRAGE_GRAPPA__br_raw_20110502103202570_56_S107265_I232161.dcm', 'PPMI_3108_MR_MPRAGE_GRAPPA__br_raw_20110502103203445_54_S107265_I232161.dcm', 'PPMI_3108_MR_MPRAGE_GRAPPA__br_raw_20110502103204335_52_S107265_I232161.dcm', 'PPMI_3108_MR_MPRAGE_GRAPPA__br_raw_20110502103205023_49_S107265_I232161.dcm', 'PPMI_3108_MR_MPRAGE_GRAPPA__br_raw_20110502103201382_55_S107265_I232161.dcm', 'PPMI_3108_MR_MPRAGE_GRAPPA__br_raw_20110502103157523_65_S107265_I232161.dcm', 'PPMI_3108_MR_MPRAGE_GRAPPA__br_raw_20110502103205882_51_S107265_I232161.dcm', 'PPMI_3108_MR_MPRAGE_GRAPPA__br_raw_20110502103207351_31_S107265_I232161.dcm', 'PPMI_3108_MR_MPRAGE_GRAPPA__br_raw_20110502103210398_43_S107265_I232161.dcm', 'PPMI_3108_MR_MPRAGE_GRAPPA__br_raw_20110502103211101_42_S107265_I232161.dcm', 'PPMI_3108_MR_MPRAGE_GRAPPA__br_raw_20110502103207429_50_S107265_I232161.dcm', 'PPMI_3108_MR_MPRAGE_GRAPPA__br_raw_20110502103207382_48_S107265_I232161.dcm', 'PPMI_3108_MR_MPRAGE_GRAPPA__br_raw_20110502103208648_47_S107265_I232161.dcm', 'PPMI_3108_MR_MPRAGE_GRAPPA__br_raw_20110502103208382_45_S107265_I232161.dcm', 'PPMI_3108_MR_MPRAGE_GRAPPA__br_raw_20110502103208601_46_S107265_I232161.dcm', 'PPMI_3108_MR_MPRAGE_GRAPPA__br_raw_20110502103209242_41_S107265_I232161.dcm', 'PPMI_3108_MR_MPRAGE_GRAPPA__br_raw_20110502103207460_44_S107265_I232161.dcm', 'PPMI_3108_MR_MPRAGE_GRAPPA__br_raw_20110502103213570_32_S107265_I232161.dcm', 'PPMI_3108_MR_MPRAGE_GRAPPA__br_raw_20110502103213601_37_S107265_I232161.dcm', 'PPMI_3108_MR_MPRAGE_GRAPPA__br_raw_20110502103213632_33_S107265_I232161.dcm', 'PPMI_3108_MR_MPRAGE_GRAPPA__br_raw_20110502103213679_35_S107265_I232161.dcm', 'PPMI_3108_MR_MPRAGE_GRAPPA__br_raw_20110502103214039_39_S107265_I232161.dcm', 'PPMI_3108_MR_MPRAGE_GRAPPA__br_raw_20110502103214492_40_S107265_I232161.dcm', 'PPMI_3108_MR_MPRAGE_GRAPPA__br_raw_20110502103220711_24_S107265_I232161.dcm', 'PPMI_3108_MR_MPRAGE_GRAPPA__br_raw_20110502103220976_25_S107265_I232161.dcm', 'PPMI_3108_MR_MPRAGE_GRAPPA__br_raw_20110502103214804_36_S107265_I232161.dcm', 'PPMI_3108_MR_MPRAGE_GRAPPA__br_raw_20110502103219617_30_S107265_I232161.dcm', 'PPMI_3108_MR_MPRAGE_GRAPPA__br_raw_20110502103218758_34_S107265_I232161.dcm', 'PPMI_3108_MR_MPRAGE_GRAPPA__br_raw_20110502103215054_38_S107265_I232161.dcm', 'PPMI_3108_MR_MPRAGE_GRAPPA__br_raw_20110502103220336_22_S107265_I232161.dcm', 'PPMI_3108_MR_MPRAGE_GRAPPA__br_raw_20110502103221992_26_S107265_I232161.dcm', 'PPMI_3108_MR_MPRAGE_GRAPPA__br_raw_20110502103222648_27_S107265_I232161.dcm', 'PPMI_3108_MR_MPRAGE_GRAPPA__br_raw_20110502103220679_23_S107265_I232161.dcm', 'PPMI_3108_MR_MPRAGE_GRAPPA__br_raw_20110502103220648_21_S107265_I232161.dcm', 'PPMI_3108_MR_MPRAGE_GRAPPA__br_raw_20110502103222867_29_S107265_I232161.dcm', 'PPMI_3108_MR_MPRAGE_GRAPPA__br_raw_20110502103222898_28_S107265_I232161.dcm', 'PPMI_3108_MR_MPRAGE_GRAPPA__br_raw_20110502103228227_18_S107265_I232161.dcm']\n"
          ],
          "name": "stdout"
        },
        {
          "output_type": "error",
          "ename": "NameError",
          "evalue": "ignored",
          "traceback": [
            "\u001b[0;31m---------------------------------------------------------------------------\u001b[0m",
            "\u001b[0;31mNameError\u001b[0m                                 Traceback (most recent call last)",
            "\u001b[0;32m<ipython-input-51-2e04315e1015>\u001b[0m in \u001b[0;36m<module>\u001b[0;34m()\u001b[0m\n\u001b[1;32m     28\u001b[0m     \u001b[0mpath_to_file\u001b[0m \u001b[0;34m=\u001b[0m \u001b[0mpath\u001b[0m \u001b[0;34m+\u001b[0m \u001b[0;34m'/'\u001b[0m \u001b[0;34m+\u001b[0m \u001b[0mdcm_file\u001b[0m\u001b[0;34m\u001b[0m\u001b[0;34m\u001b[0m\u001b[0m\n\u001b[1;32m     29\u001b[0m     \u001b[0mslices\u001b[0m\u001b[0;34m.\u001b[0m\u001b[0mappend\u001b[0m\u001b[0;34m(\u001b[0m\u001b[0mpydicom\u001b[0m\u001b[0;34m.\u001b[0m\u001b[0mread_file\u001b[0m\u001b[0;34m(\u001b[0m\u001b[0mpath_to_file\u001b[0m\u001b[0;34m)\u001b[0m\u001b[0;34m.\u001b[0m\u001b[0mpixel_array\u001b[0m\u001b[0;34m)\u001b[0m\u001b[0;34m\u001b[0m\u001b[0;34m\u001b[0m\u001b[0m\n\u001b[0;32m---> 30\u001b[0;31m   \u001b[0mslices\u001b[0m \u001b[0;34m=\u001b[0m \u001b[0mnp\u001b[0m\u001b[0;34m.\u001b[0m\u001b[0marray\u001b[0m\u001b[0;34m(\u001b[0m\u001b[0mslices\u001b[0m\u001b[0;34m)\u001b[0m\u001b[0;34m\u001b[0m\u001b[0;34m\u001b[0m\u001b[0m\n\u001b[0m\u001b[1;32m     31\u001b[0m   \u001b[0mprint\u001b[0m \u001b[0;34m(\u001b[0m\u001b[0mnp\u001b[0m\u001b[0;34m.\u001b[0m\u001b[0mshape\u001b[0m\u001b[0;34m(\u001b[0m\u001b[0mslices\u001b[0m\u001b[0;34m)\u001b[0m\u001b[0;34m)\u001b[0m\u001b[0;34m\u001b[0m\u001b[0;34m\u001b[0m\u001b[0m\n",
            "\u001b[0;31mNameError\u001b[0m: name 'np' is not defined"
          ]
        }
      ]
    },
    {
      "cell_type": "code",
      "metadata": {
        "id": "7Aw3M48BuCvj",
        "colab_type": "code",
        "colab": {}
      },
      "source": [
        ""
      ],
      "execution_count": 0,
      "outputs": []
    }
  ]
}