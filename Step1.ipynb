{
  "nbformat": 4,
  "nbformat_minor": 0,
  "metadata": {
    "colab": {
      "name": "Step1.ipynb",
      "version": "0.3.2",
      "provenance": [],
      "collapsed_sections": [],
      "include_colab_link": true
    },
    "kernelspec": {
      "name": "python3",
      "display_name": "Python 3"
    },
    "accelerator": "GPU"
  },
  "cells": [
    {
      "cell_type": "markdown",
      "metadata": {
        "id": "view-in-github",
        "colab_type": "text"
      },
      "source": [
        "<a href=\"https://colab.research.google.com/github/StevenVuong/MSc_Project/blob/master/Step1.ipynb\" target=\"_parent\"><img src=\"https://colab.research.google.com/assets/colab-badge.svg\" alt=\"Open In Colab\"/></a>"
      ]
    },
    {
      "cell_type": "markdown",
      "metadata": {
        "id": "M4jBokTW0nON",
        "colab_type": "text"
      },
      "source": [
        "**This Notebook contains the script to clean the dataframe of the CSV file to get the number of subjects which are valid entries**"
      ]
    },
    {
      "cell_type": "code",
      "metadata": {
        "id": "hDVDZIbM0jGr",
        "colab_type": "code",
        "outputId": "45494015-e9d0-48d6-e063-e8f04f8093f0",
        "colab": {
          "base_uri": "https://localhost:8080/",
          "height": 622
        }
      },
      "source": [
        "# install dependencies\n",
        "!pip install deepbrain; # semi-colon to hide the output\n",
        "!pip install pydicom;"
      ],
      "execution_count": 1,
      "outputs": [
        {
          "output_type": "stream",
          "text": [
            "Requirement already satisfied: deepbrain in /usr/local/lib/python3.6/dist-packages (0.1)\n",
            "Requirement already satisfied: tensorflow in /usr/local/lib/python3.6/dist-packages (from deepbrain) (1.13.1)\n",
            "Requirement already satisfied: scikit-image in /usr/local/lib/python3.6/dist-packages (from deepbrain) (0.15.0)\n",
            "Requirement already satisfied: nibabel in /usr/local/lib/python3.6/dist-packages (from deepbrain) (2.3.3)\n",
            "Requirement already satisfied: six>=1.10.0 in /usr/local/lib/python3.6/dist-packages (from tensorflow->deepbrain) (1.12.0)\n",
            "Requirement already satisfied: tensorflow-estimator<1.14.0rc0,>=1.13.0 in /usr/local/lib/python3.6/dist-packages (from tensorflow->deepbrain) (1.13.0)\n",
            "Requirement already satisfied: tensorboard<1.14.0,>=1.13.0 in /usr/local/lib/python3.6/dist-packages (from tensorflow->deepbrain) (1.13.1)\n",
            "Requirement already satisfied: grpcio>=1.8.6 in /usr/local/lib/python3.6/dist-packages (from tensorflow->deepbrain) (1.15.0)\n",
            "Requirement already satisfied: absl-py>=0.1.6 in /usr/local/lib/python3.6/dist-packages (from tensorflow->deepbrain) (0.7.1)\n",
            "Requirement already satisfied: gast>=0.2.0 in /usr/local/lib/python3.6/dist-packages (from tensorflow->deepbrain) (0.2.2)\n",
            "Requirement already satisfied: keras-preprocessing>=1.0.5 in /usr/local/lib/python3.6/dist-packages (from tensorflow->deepbrain) (1.1.0)\n",
            "Requirement already satisfied: termcolor>=1.1.0 in /usr/local/lib/python3.6/dist-packages (from tensorflow->deepbrain) (1.1.0)\n",
            "Requirement already satisfied: astor>=0.6.0 in /usr/local/lib/python3.6/dist-packages (from tensorflow->deepbrain) (0.8.0)\n",
            "Requirement already satisfied: keras-applications>=1.0.6 in /usr/local/lib/python3.6/dist-packages (from tensorflow->deepbrain) (1.0.8)\n",
            "Requirement already satisfied: numpy>=1.13.3 in /usr/local/lib/python3.6/dist-packages (from tensorflow->deepbrain) (1.16.4)\n",
            "Requirement already satisfied: wheel>=0.26 in /usr/local/lib/python3.6/dist-packages (from tensorflow->deepbrain) (0.33.4)\n",
            "Requirement already satisfied: protobuf>=3.6.1 in /usr/local/lib/python3.6/dist-packages (from tensorflow->deepbrain) (3.7.1)\n",
            "Requirement already satisfied: scipy>=0.17.0 in /usr/local/lib/python3.6/dist-packages (from scikit-image->deepbrain) (1.3.0)\n",
            "Requirement already satisfied: matplotlib!=3.0.0,>=2.0.0 in /usr/local/lib/python3.6/dist-packages (from scikit-image->deepbrain) (3.0.3)\n",
            "Requirement already satisfied: imageio>=2.0.1 in /usr/local/lib/python3.6/dist-packages (from scikit-image->deepbrain) (2.4.1)\n",
            "Requirement already satisfied: pillow>=4.3.0 in /usr/local/lib/python3.6/dist-packages (from scikit-image->deepbrain) (4.3.0)\n",
            "Requirement already satisfied: PyWavelets>=0.4.0 in /usr/local/lib/python3.6/dist-packages (from scikit-image->deepbrain) (1.0.3)\n",
            "Requirement already satisfied: networkx>=2.0 in /usr/local/lib/python3.6/dist-packages (from scikit-image->deepbrain) (2.3)\n",
            "Requirement already satisfied: bz2file in /usr/local/lib/python3.6/dist-packages (from nibabel->deepbrain) (0.98)\n",
            "Requirement already satisfied: mock>=2.0.0 in /usr/local/lib/python3.6/dist-packages (from tensorflow-estimator<1.14.0rc0,>=1.13.0->tensorflow->deepbrain) (3.0.5)\n",
            "Requirement already satisfied: markdown>=2.6.8 in /usr/local/lib/python3.6/dist-packages (from tensorboard<1.14.0,>=1.13.0->tensorflow->deepbrain) (3.1.1)\n",
            "Requirement already satisfied: werkzeug>=0.11.15 in /usr/local/lib/python3.6/dist-packages (from tensorboard<1.14.0,>=1.13.0->tensorflow->deepbrain) (0.15.4)\n",
            "Requirement already satisfied: h5py in /usr/local/lib/python3.6/dist-packages (from keras-applications>=1.0.6->tensorflow->deepbrain) (2.8.0)\n",
            "Requirement already satisfied: setuptools in /usr/local/lib/python3.6/dist-packages (from protobuf>=3.6.1->tensorflow->deepbrain) (41.0.1)\n",
            "Requirement already satisfied: pyparsing!=2.0.4,!=2.1.2,!=2.1.6,>=2.0.1 in /usr/local/lib/python3.6/dist-packages (from matplotlib!=3.0.0,>=2.0.0->scikit-image->deepbrain) (2.4.0)\n",
            "Requirement already satisfied: kiwisolver>=1.0.1 in /usr/local/lib/python3.6/dist-packages (from matplotlib!=3.0.0,>=2.0.0->scikit-image->deepbrain) (1.1.0)\n",
            "Requirement already satisfied: python-dateutil>=2.1 in /usr/local/lib/python3.6/dist-packages (from matplotlib!=3.0.0,>=2.0.0->scikit-image->deepbrain) (2.5.3)\n",
            "Requirement already satisfied: cycler>=0.10 in /usr/local/lib/python3.6/dist-packages (from matplotlib!=3.0.0,>=2.0.0->scikit-image->deepbrain) (0.10.0)\n",
            "Requirement already satisfied: olefile in /usr/local/lib/python3.6/dist-packages (from pillow>=4.3.0->scikit-image->deepbrain) (0.46)\n",
            "Requirement already satisfied: decorator>=4.3.0 in /usr/local/lib/python3.6/dist-packages (from networkx>=2.0->scikit-image->deepbrain) (4.4.0)\n",
            "Requirement already satisfied: pydicom in /usr/local/lib/python3.6/dist-packages (1.2.2)\n"
          ],
          "name": "stdout"
        }
      ]
    },
    {
      "cell_type": "code",
      "metadata": {
        "id": "mBPlxRsS0nu8",
        "colab_type": "code",
        "colab": {}
      },
      "source": [
        "# import necessary libraries\n",
        "import pandas as pd\n",
        "import numpy as np\n",
        "import matplotlib.pyplot as plt\n",
        "import os\n",
        "import pickle\n",
        "%matplotlib inline\n",
        "\n",
        "import pydicom\n",
        "import nibabel as nb\n",
        "from deepbrain import Extractor\n",
        "from sklearn.model_selection import train_test_split\n",
        "from google.colab import drive"
      ],
      "execution_count": 0,
      "outputs": []
    },
    {
      "cell_type": "code",
      "metadata": {
        "id": "TUrympaf04C-",
        "colab_type": "code",
        "outputId": "85d47068-25b7-456d-c2a1-a4eeab113ddd",
        "colab": {
          "base_uri": "https://localhost:8080/",
          "height": 50
        }
      },
      "source": [
        "# mount google drive into google colab\n",
        "drive.mount('/content/gdrive')\n",
        "\n",
        "os.chdir('/content')\n",
        "\n",
        "# go to where we will be working\n",
        "print (os.listdir())\n",
        "os.chdir('gdrive/My Drive/msc_project/all_mprage_grappa')"
      ],
      "execution_count": 3,
      "outputs": [
        {
          "output_type": "stream",
          "text": [
            "Drive already mounted at /content/gdrive; to attempt to forcibly remount, call drive.mount(\"/content/gdrive\", force_remount=True).\n",
            "['.config', 'gdrive', 'sample_data']\n"
          ],
          "name": "stdout"
        }
      ]
    },
    {
      "cell_type": "markdown",
      "metadata": {
        "id": "iksuT3Ki1W4C",
        "colab_type": "text"
      },
      "source": [
        "**Load Dataframe**"
      ]
    },
    {
      "cell_type": "code",
      "metadata": {
        "id": "-OCDiJHH1eLj",
        "colab_type": "code",
        "colab": {
          "base_uri": "https://localhost:8080/",
          "height": 212
        },
        "outputId": "94d98364-06c8-481d-a6b6-a2de5807248c"
      },
      "source": [
        "# load dataframe\n",
        "patients_file_dir = 'raw_brainscans'\n",
        "\n",
        "# import in patients\n",
        "patients = os.listdir(patients_file_dir) # get all patients ID's in scan\n",
        "patient_df = pd.read_csv('t1_mprage_grappa_ONLY.csv') # get dataframe too to cross reference\n",
        "\n",
        "# map control to 0 and pd to 1\n",
        "patient_df['Group'] = patient_df['Group'].replace({'Control':0, 'PD':1})\n",
        "\n",
        "print (\"There are %d number of patients prior to processing\" % len(patient_df))\n",
        "patient_df.head()"
      ],
      "execution_count": 4,
      "outputs": [
        {
          "output_type": "stream",
          "text": [
            "There are 259 number of patients prior to processing\n"
          ],
          "name": "stdout"
        },
        {
          "output_type": "execute_result",
          "data": {
            "text/html": [
              "<div>\n",
              "<style scoped>\n",
              "    .dataframe tbody tr th:only-of-type {\n",
              "        vertical-align: middle;\n",
              "    }\n",
              "\n",
              "    .dataframe tbody tr th {\n",
              "        vertical-align: top;\n",
              "    }\n",
              "\n",
              "    .dataframe thead th {\n",
              "        text-align: right;\n",
              "    }\n",
              "</style>\n",
              "<table border=\"1\" class=\"dataframe\">\n",
              "  <thead>\n",
              "    <tr style=\"text-align: right;\">\n",
              "      <th></th>\n",
              "      <th>Image Data ID</th>\n",
              "      <th>Subject</th>\n",
              "      <th>Group</th>\n",
              "      <th>Sex</th>\n",
              "      <th>Age</th>\n",
              "      <th>Visit</th>\n",
              "      <th>Modality</th>\n",
              "      <th>Description</th>\n",
              "      <th>Type</th>\n",
              "      <th>Acq Date</th>\n",
              "      <th>Format</th>\n",
              "      <th>Downloaded</th>\n",
              "    </tr>\n",
              "  </thead>\n",
              "  <tbody>\n",
              "    <tr>\n",
              "      <th>0</th>\n",
              "      <td>367385</td>\n",
              "      <td>4032</td>\n",
              "      <td>0</td>\n",
              "      <td>M</td>\n",
              "      <td>68</td>\n",
              "      <td>1</td>\n",
              "      <td>MRI</td>\n",
              "      <td>MPRAGE GRAPPA</td>\n",
              "      <td>Original</td>\n",
              "      <td>2/05/2013</td>\n",
              "      <td>DCM</td>\n",
              "      <td>5/29/2019</td>\n",
              "    </tr>\n",
              "    <tr>\n",
              "      <th>1</th>\n",
              "      <td>417044</td>\n",
              "      <td>4032</td>\n",
              "      <td>0</td>\n",
              "      <td>M</td>\n",
              "      <td>69</td>\n",
              "      <td>5</td>\n",
              "      <td>MRI</td>\n",
              "      <td>MPRAGE GRAPPA</td>\n",
              "      <td>Original</td>\n",
              "      <td>2/20/2014</td>\n",
              "      <td>DCM</td>\n",
              "      <td>NaN</td>\n",
              "    </tr>\n",
              "    <tr>\n",
              "      <th>2</th>\n",
              "      <td>365287</td>\n",
              "      <td>4018</td>\n",
              "      <td>0</td>\n",
              "      <td>M</td>\n",
              "      <td>65</td>\n",
              "      <td>5</td>\n",
              "      <td>MRI</td>\n",
              "      <td>MPRAGE GRAPPA</td>\n",
              "      <td>Original</td>\n",
              "      <td>2/27/2013</td>\n",
              "      <td>DCM</td>\n",
              "      <td>NaN</td>\n",
              "    </tr>\n",
              "    <tr>\n",
              "      <th>3</th>\n",
              "      <td>334563</td>\n",
              "      <td>4018</td>\n",
              "      <td>0</td>\n",
              "      <td>M</td>\n",
              "      <td>64</td>\n",
              "      <td>1</td>\n",
              "      <td>MRI</td>\n",
              "      <td>MPRAGE GRAPPA</td>\n",
              "      <td>Original</td>\n",
              "      <td>2/13/2012</td>\n",
              "      <td>DCM</td>\n",
              "      <td>5/29/2019</td>\n",
              "    </tr>\n",
              "    <tr>\n",
              "      <th>4</th>\n",
              "      <td>340891</td>\n",
              "      <td>4010</td>\n",
              "      <td>0</td>\n",
              "      <td>M</td>\n",
              "      <td>43</td>\n",
              "      <td>5</td>\n",
              "      <td>MRI</td>\n",
              "      <td>MPRAGE GRAPPA</td>\n",
              "      <td>Original</td>\n",
              "      <td>9/28/2012</td>\n",
              "      <td>DCM</td>\n",
              "      <td>NaN</td>\n",
              "    </tr>\n",
              "  </tbody>\n",
              "</table>\n",
              "</div>"
            ],
            "text/plain": [
              "   Image Data ID  Subject  Group Sex  ...      Type   Acq Date Format Downloaded\n",
              "0         367385     4032      0   M  ...  Original  2/05/2013    DCM  5/29/2019\n",
              "1         417044     4032      0   M  ...  Original  2/20/2014    DCM        NaN\n",
              "2         365287     4018      0   M  ...  Original  2/27/2013    DCM        NaN\n",
              "3         334563     4018      0   M  ...  Original  2/13/2012    DCM  5/29/2019\n",
              "4         340891     4010      0   M  ...  Original  9/28/2012    DCM        NaN\n",
              "\n",
              "[5 rows x 12 columns]"
            ]
          },
          "metadata": {
            "tags": []
          },
          "execution_count": 4
        }
      ]
    },
    {
      "cell_type": "markdown",
      "metadata": {
        "id": "OzWlnK9-KJ_u",
        "colab_type": "text"
      },
      "source": [
        "**Functions to load up image file**"
      ]
    },
    {
      "cell_type": "code",
      "metadata": {
        "id": "nzx-UkCn2DaO",
        "colab_type": "code",
        "colab": {}
      },
      "source": [
        "def get_grappa_dir(path):\n",
        "  # get the file ending with 'GRAPPA', would need to accomodate this for grappa also\n",
        "  returning_path = None\n",
        "  for next_path in os.listdir(path):\n",
        "    last_item = next_path.split(\"_\")[-1]\n",
        "    acceptable_last_items = ['GRAPPA']\n",
        "    if (last_item in acceptable_last_items): # for the t1 weighted\n",
        "      returning_path = next_path\n",
        "      return returning_path\n",
        "    else: # some print statements to debug\n",
        "      print (\"NOT ACCEPTABLE: %s \" % last_item)\n",
        "      print (\"Path: %s \" % (path+next_path))"
      ],
      "execution_count": 0,
      "outputs": []
    },
    {
      "cell_type": "code",
      "metadata": {
        "id": "ZgTRBtCt2PXN",
        "colab_type": "code",
        "colab": {}
      },
      "source": [
        "def get_dcm_s(path):\n",
        "  # get the path beginning with S, so doesn't clash with GZ File\n",
        "  for next_path in os.listdir(path):\n",
        "    if (next_path[0] == 'S'):\n",
        "      return next_path"
      ],
      "execution_count": 0,
      "outputs": []
    },
    {
      "cell_type": "code",
      "metadata": {
        "id": "2d_Rr7iE2RSx",
        "colab_type": "code",
        "colab": {}
      },
      "source": [
        "cwd = os.getcwd()\n",
        "def get_path_to_patient(patient):\n",
        "  path = None\n",
        "  paths = [] # list of all dated scans for the patient\n",
        "  try:\n",
        "    # label = patient_df.get_value(patient, 'Subject') # cannot go by patient, must get the ID\n",
        "    path = cwd + '/' + patients_file_dir + '/' + str(patient) # get to the GRAPPA \n",
        "    path = path + '/' + get_grappa_dir(path)\n",
        "    \n",
        "    # check for multiple patient paths, add all to list\n",
        "    for scan_id in os.listdir(path):\n",
        "      path_scan = path + '/' + scan_id\n",
        "      path_scan = path_scan + '/' +get_dcm_s(path_scan)\n",
        "      paths.append(path_scan)\n",
        "      \n",
        "  except Exception as e:\n",
        "    print (\"No path found for patient %s: %s\" % (str(patient),str(e)))\n",
        "    \n",
        "  return paths"
      ],
      "execution_count": 0,
      "outputs": []
    },
    {
      "cell_type": "code",
      "metadata": {
        "id": "3kZiCiKr2WbZ",
        "colab_type": "code",
        "colab": {}
      },
      "source": [
        "def get_img_no(path):\n",
        "# get the image identification numberm any image will do for this so take first\n",
        "  image_number = None\n",
        "  example_file = os.listdir(path)[0]\n",
        "  image_number = int(example_file.split(\"_\")[-1][1:-4]) # index to get the ID\n",
        "   \n",
        "  return image_number"
      ],
      "execution_count": 0,
      "outputs": []
    },
    {
      "cell_type": "code",
      "metadata": {
        "id": "p2r6vUR33m1E",
        "colab_type": "code",
        "colab": {}
      },
      "source": [
        "def filename_sort(filename):\n",
        "    \n",
        "    # split by underlines and delimiter\n",
        "    split_line = filename.split(\"_\")\n",
        "    int_return = int(split_line[-3])\n",
        "    \n",
        "    return int_return"
      ],
      "execution_count": 0,
      "outputs": []
    },
    {
      "cell_type": "code",
      "metadata": {
        "id": "5giHnxQT3o1e",
        "colab_type": "code",
        "colab": {}
      },
      "source": [
        "def get_slices(patient):\n",
        "  '''For any given patient, returns the slices for them'''\n",
        "  try:\n",
        "    paths = get_path_to_patient(patient) # Should return multiple paths\n",
        "    all_slices = []\n",
        "    all_info = []\n",
        "    for path in paths:\n",
        "      \n",
        "      dcm_files = os.listdir(path) # path to dcm files\n",
        "      # get information related around the image\n",
        "      image_number = get_img_no(path)\n",
        "      image_row = patient_df.loc[patient_df['Image Data ID'] == int(image_number)] # relate to df\n",
        "      # retrieve more info on patient\n",
        "      image_sex = image_row.Sex.values[0]\n",
        "      image_group = image_row.Group.values[0]\n",
        "      image_age = image_row.Age.values[0]\n",
        "\n",
        "      # create patient info list and append to total info\n",
        "      image_info = [image_number, image_sex, image_group, image_age]\n",
        "\n",
        "      # sort dcm files in order\n",
        "      dcm_files = sorted(dcm_files, key=lambda filename: filename_sort(filename)) # some have length 3\n",
        "\n",
        "      slices = []\n",
        "      # loop through slices and build the array\n",
        "      for dcm_file in dcm_files:\n",
        "        path_to_file = path + '/' + dcm_file\n",
        "        slices.append(pydicom.read_file(path_to_file).pixel_array)\n",
        "      slices = np.array(slices)\n",
        "      \n",
        "      # then add to our growing array\n",
        "      all_slices.append(slices)\n",
        "      all_info.append(image_info)\n",
        "    \n",
        "    return all_slices, all_info\n",
        " \n",
        "  except Exception as e:\n",
        "    print (\"No File Found: %s\" % str(e))"
      ],
      "execution_count": 0,
      "outputs": []
    },
    {
      "cell_type": "code",
      "metadata": {
        "id": "mEQRnPte3vb9",
        "colab_type": "code",
        "colab": {}
      },
      "source": [
        "def process_slices(slices):\n",
        "  '''Remove the skull from our slice, expand and remove blanks'''\n",
        "  \n",
        "  # check shape is correct\n",
        "  if (np.shape(slices) == (176, 256, 240)):\n",
        "    \n",
        "    # transform to axial view\n",
        "    slices_axial = slices.transpose((1,2,0)) # question this\n",
        "    \n",
        "    # initialise skull stripper\n",
        "    ext = Extractor()\n",
        "    \n",
        "    # get probability of part of image being brain tissue or not\n",
        "    prob = ext.run(slices_axial)\n",
        "    mask = prob > 1e-3 # mask can be obtained as:\n",
        "    slices_axial[~mask] = 0 # apply mask\n",
        "    \n",
        "    # expand dimensions to meet input requirements\n",
        "    slices_axial = np.expand_dims(slices_axial, axis=4)\n",
        "    \n",
        "    # index to reduce size and 'trim the fat' essentially\n",
        "    slices_axial = slices_axial[35:195,50:210,10:170]\n",
        "    \n",
        "    # flip images and add to total processed arrays\n",
        "    flipped_slices = np.array([np.flip(sl,1) for sl in slices_axial]) # if we wanted flipped slices\n",
        "    \n",
        "    return slices_axial, flipped_slices\n",
        "  \n",
        "  else:\n",
        "    return None, None"
      ],
      "execution_count": 0,
      "outputs": []
    },
    {
      "cell_type": "markdown",
      "metadata": {
        "id": "dTxNbW50KOfH",
        "colab_type": "text"
      },
      "source": [
        "**Load up and process image files (Put in one giant function)**"
      ]
    },
    {
      "cell_type": "code",
      "metadata": {
        "id": "_rcR2yCnSiXU",
        "colab_type": "code",
        "colab": {
          "base_uri": "https://localhost:8080/",
          "height": 168
        },
        "outputId": "adb2cf39-5ad7-4720-824b-b168838a72ba"
      },
      "source": [
        "# get unique patient id's\n",
        "patient_ids = patient_df['Subject']\n",
        "unique_patient_ids = np.unique(patient_ids.values)\n",
        "\n",
        "# shuffle the unique patient id's\n",
        "np.random.shuffle(unique_patient_ids)\n",
        "print (unique_patient_ids)"
      ],
      "execution_count": 22,
      "outputs": [
        {
          "output_type": "stream",
          "text": [
            "[3321 3157 3314 3768 3125 3176 3806 3320 3327 3178 3565 3174 3107 3114\n",
            " 3372 3179 3569 3803 3316 3111 3358 3105 3305 3366 3756 3817 3350 3809\n",
            " 3325 3173 3765 3122 3571 3118 3116 3365 3353 3554 3389 3373 3106 3123\n",
            " 3168 3360 3131 3759 3184 3172 3132 3369 3769 3357 3354 3161 3113 3322\n",
            " 3375 3175 3813 3150 3368 3181 3108 3171 4018 3805 3570 3572 3332 3380\n",
            " 3160 3767 3555 3374 3359 3378 3311 3779 3134 3364 3124 3154 3115 3377\n",
            " 3308 3371 3811 3361 3166 3182 4032 3309 3816 3367 3750 3127 3390 3300\n",
            " 3120 3151 3351 3128 4004 3355 3104 3126 3563 4010 3551 3352 3112 3328\n",
            " 3318 3165 3130 3301 3812 3307 3310 3804 3102 3129 3807 3119 3169]\n"
          ],
          "name": "stdout"
        }
      ]
    },
    {
      "cell_type": "code",
      "metadata": {
        "id": "ooWq5nFaQw7u",
        "colab_type": "code",
        "colab": {}
      },
      "source": [
        "total_slices = []\n",
        "total_slices_info = []\n",
        "\n",
        "# loop through, put slices and info into one giant array\n",
        "for patient_id in unique_patient_ids:\n",
        "  \n",
        "  slices_array, image_info_array = get_slices(patient_id) # grab slices for a patient\n",
        "  \n",
        "  # loop through all the scans a patient may have had\n",
        "  for i in range(len(slices_array)): # reference from larger array\n",
        "    slices = slices_array[i]\n",
        "    image_info = image_info_array[i]\n",
        "    \n",
        "    if slices is not None:\n",
        "      # process each slice (problem is this process step)\n",
        "      slice_axial, flipped_slice = process_slices(slices) \n",
        "    \n",
        "      if slice_axial is not None:\n",
        "        # add to our total array only if match shape\n",
        "        if np.shape(slice_axial) == (160, 160, 160, 1): \n",
        "          total_slices.append(slice_axial)\n",
        "          total_slices.append(flipped_slice)\n",
        "          total_slices_info.append(image_info)\n",
        "          total_slices_info.append(image_info)\n",
        "\n",
        "  print (len(total_slices))\n",
        "    \n",
        "# turn into numpy arrays\n",
        "total_slices = np.array(total_slices)\n",
        "total_slices_info = np.array(total_slices_info)\n",
        "    \n",
        "## Saving our dataset\n",
        "# If total_slices and total_slices_info is too large, break into 7 chunks and save\n",
        "for i in range(4):\n",
        "  j = 100 * i\n",
        "  k = 100 * (i+1)\n",
        "  \n",
        "  # create file and separate slices and information\n",
        "  batch_name = ('processed_brains_aug/batch' + str(i) + '.pkl')\n",
        "  batch_slice = total_slices[j: k]\n",
        "  batch_info = total_slices_info[j: k]\n",
        "  \n",
        "  # save \n",
        "  with open(batch_name, 'wb') as f:\n",
        "    pickle.dump([batch_slice, batch_info], f)\n",
        "    "
      ],
      "execution_count": 0,
      "outputs": []
    },
    {
      "cell_type": "code",
      "metadata": {
        "id": "nKV3gc3TTJoD",
        "colab_type": "code",
        "colab": {}
      },
      "source": [
        "np.shape(total_slices) ## must check for none's whilst loading"
      ],
      "execution_count": 0,
      "outputs": []
    },
    {
      "cell_type": "markdown",
      "metadata": {
        "id": "cqsGVbs0O9wD",
        "colab_type": "text"
      },
      "source": [
        "***Slice sample***"
      ]
    },
    {
      "cell_type": "code",
      "metadata": {
        "id": "rK7-MSf7Ghew",
        "colab_type": "code",
        "colab": {}
      },
      "source": [
        "# sample slice\n",
        "all_slices, all_info = get_slices(3320)\n",
        "slices = all_slices[0]\n",
        "slice_axials, flipped_slice = process_slices(slices)\n",
        "np.shape(flipped_slice) # new final shape is (160, 160, 160), try this now.."
      ],
      "execution_count": 0,
      "outputs": []
    },
    {
      "cell_type": "code",
      "metadata": {
        "id": "vBbetgiW3yeC",
        "colab_type": "code",
        "colab": {}
      },
      "source": [
        "  # test slice\n",
        "\n",
        "  from ipywidgets import interact, interactive, fixed, interact_manual\n",
        "  import ipywidgets as widgets # interactive plots\n",
        "  import matplotlib.pyplot as plt\n",
        "  %matplotlib inline\n",
        "\n",
        "  slice_ex = slice_axials[:,:,:,0]\n",
        "  def g(i): # basic slideshow plot to get an idea of the effectiveness of the mask itself\n",
        "      plt.figure(figsize=(15,8)) # make plot larger\n",
        "      plt.imshow(slice_ex[i])\n",
        "      plt.show()\n",
        "      return None\n",
        "\n",
        "  interact(g, i=widgets.IntSlider(min=0,max=(len(slice_ex)-1),step=1,value=65)); # plots our axial view, this is it\n",
        "  # img_slices, slice_info = process_slice(all_slices)"
      ],
      "execution_count": 0,
      "outputs": []
    },
    {
      "cell_type": "code",
      "metadata": {
        "id": "HFtJvENk9x9I",
        "colab_type": "code",
        "colab": {}
      },
      "source": [
        ""
      ],
      "execution_count": 0,
      "outputs": []
    }
  ]
}