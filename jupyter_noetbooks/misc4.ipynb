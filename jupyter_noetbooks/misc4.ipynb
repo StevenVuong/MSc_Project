{
  "nbformat": 4,
  "nbformat_minor": 0,
  "metadata": {
    "colab": {
      "name": "misc4.ipynb",
      "version": "0.3.2",
      "provenance": [],
      "collapsed_sections": [],
      "include_colab_link": true
    },
    "kernelspec": {
      "name": "python3",
      "display_name": "Python 3"
    }
  },
  "cells": [
    {
      "cell_type": "markdown",
      "metadata": {
        "id": "view-in-github",
        "colab_type": "text"
      },
      "source": [
        "<a href=\"https://colab.research.google.com/github/StevenVuong/MSc_Project/blob/master/misc4.ipynb\" target=\"_parent\"><img src=\"https://colab.research.google.com/assets/colab-badge.svg\" alt=\"Open In Colab\"/></a>"
      ]
    },
    {
      "cell_type": "code",
      "metadata": {
        "id": "phCX6MQGZhIo",
        "colab_type": "code",
        "colab": {}
      },
      "source": [
        "# ALL THE IMPORTS\n",
        "import pandas as pd\n",
        "import numpy as np\n",
        "import matplotlib.pyplot as plt\n",
        "import seaborn as sns\n",
        "%matplotlib inline\n",
        "\n",
        "# other imports to handle files\n",
        "import os\n",
        "import pickle\n",
        "import csv\n",
        "\n",
        "# deep learning imports\n",
        "from keras.models import Sequential, load_model\n",
        "from keras.layers.core import Dense, Dropout, Activation, Flatten\n",
        "from keras.layers.convolutional import Convolution3D, MaxPooling3D, Convolution1D\n",
        "from keras.layers.normalization import BatchNormalization\n",
        "from keras.optimizers import SGD, RMSprop, Adam\n",
        "from keras.utils import np_utils, generic_utils, to_categorical\n",
        "from keras.layers import LeakyReLU\n",
        "from keras import regularizers\n",
        "\n",
        "# to split our dataset\n",
        "from sklearn.model_selection import train_test_split\n",
        "from sklearn.metrics import accuracy_score\n",
        "from sklearn.metrics import confusion_matrix\n",
        "\n",
        "# to mount our drive\n",
        "from google.colab import drive"
      ],
      "execution_count": 0,
      "outputs": []
    },
    {
      "cell_type": "code",
      "metadata": {
        "id": "JyPfp-uMZpmP",
        "colab_type": "code",
        "colab": {
          "base_uri": "https://localhost:8080/",
          "height": 50
        },
        "outputId": "ae16cddb-2640-485e-fde0-146b5d85f98e"
      },
      "source": [
        "# MOUNT THE STORAGE\n",
        "drive.mount('/content/gdrive')\n",
        "\n",
        "os.chdir('/content')\n",
        "\n",
        "# go to where we will be working\n",
        "print (os.listdir())\n",
        "os.chdir('gdrive/My Drive/msc_project/')"
      ],
      "execution_count": 28,
      "outputs": [
        {
          "output_type": "stream",
          "text": [
            "Drive already mounted at /content/gdrive; to attempt to forcibly remount, call drive.mount(\"/content/gdrive\", force_remount=True).\n",
            "['.config', 'gdrive', 'sample_data']\n"
          ],
          "name": "stdout"
        }
      ]
    },
    {
      "cell_type": "markdown",
      "metadata": {
        "id": "tYrjxWsZT_3-",
        "colab_type": "text"
      },
      "source": [
        "**Purpose of this notebook is to create metrics for our final presentation/graphs of everything we might need etc..**"
      ]
    },
    {
      "cell_type": "code",
      "metadata": {
        "id": "WLn_BT_dT9lY",
        "colab_type": "code",
        "colab": {}
      },
      "source": [
        "# https://stackoverflow.com/questions/50920908/get-confusion-matrix-from-a-keras-multiclass-model\n",
        "# Build confusion matrices for train and test data\n",
        "# 3d is in Step3, need to run metrics on 4th batch of processed_brains_aug\n",
        "# 2d is in misc3, need to run prediction metrics on 4th batch of processed_brains_aug also\n",
        "# age/sex is in misc2 and runs off the larger dataset, pulling from the Control CSV."
      ],
      "execution_count": 0,
      "outputs": []
    },
    {
      "cell_type": "markdown",
      "metadata": {
        "id": "ymtRZ5q8UuxR",
        "colab_type": "text"
      },
      "source": [
        "Best models so far:\n",
        "-  74.138% on the 3D brainscans, model 80\n",
        "-  100% on the 2D brainscans(slice86), model keep100\n",
        "-  76.667% on the Age/Sex values, each have a deep learning model\n",
        "  \n",
        "\n",
        "Metrics to present:\n",
        " <br>\n",
        "-  Final accuracy and losses\n",
        "-  Graphs of training accuracy and losses\n",
        "-  Confusion Matrices\n",
        "-  Deep learning architecture diagrams\n",
        "-  Distrubition of population, age/sex\n",
        "\n",
        "\n",
        "Information to gather:\n",
        "<br>\n",
        "-  Quality of each of the samples, where they came from. Distribution, sizes etc.."
      ]
    },
    {
      "cell_type": "code",
      "metadata": {
        "id": "qCICmfj3Uq9R",
        "colab_type": "code",
        "colab": {}
      },
      "source": [
        "## Architecture Diagrams http://alexlenail.me/NN-SVG/AlexNet.html"
      ],
      "execution_count": 0,
      "outputs": []
    },
    {
      "cell_type": "markdown",
      "metadata": {
        "id": "3F301IK_69Qv",
        "colab_type": "text"
      },
      "source": [
        " Attempt at confusion matrix here**\n",
        " <br>\n",
        "Logic:\n",
        "-  Load model, load the data for both train and test\n",
        "-  Get true values, get predicted values for both train and test\n",
        "-  Convert back to binary\n",
        "-  Input into confusion matrix"
      ]
    },
    {
      "cell_type": "code",
      "metadata": {
        "id": "V0kPqG0W7q22",
        "colab_type": "code",
        "colab": {}
      },
      "source": [
        "def to_binary(cat_array):\n",
        "  '''Function to convert categorical back to binary values'''\n",
        "  binary_output_array = []\n",
        "  for i in range(len(cat_array)):\n",
        "    binary_output_array.append(np.argmax(cat_array[i]))\n",
        "    \n",
        "  binary_output_array = np.array(binary_output_array)\n",
        "  return binary_output_array"
      ],
      "execution_count": 0,
      "outputs": []
    },
    {
      "cell_type": "code",
      "metadata": {
        "id": "bUf1GgsIahiP",
        "colab_type": "code",
        "colab": {}
      },
      "source": [
        "def get_86_slice(ts):\n",
        "  '''Gets the 86th slice and return this'''\n",
        "  returned_array = []\n",
        "  for ax_slice in total_slices:\n",
        "    returned_array.append(ax_slice[86,:,:,0])\n",
        "    \n",
        "  returned_array = np.array(returned_array)\n",
        "  return returned_array"
      ],
      "execution_count": 0,
      "outputs": []
    },
    {
      "cell_type": "code",
      "metadata": {
        "id": "CrJdEvV6ddwF",
        "colab_type": "code",
        "colab": {}
      },
      "source": [
        "# gets our y-values and converts to keras, one hot encoded outputs\n",
        "def get_y_values(total_slices_info):\n",
        "  \n",
        "  y_values = [s[2] for s in total_slices_info]\n",
        "\n",
        "  y_values = np.array(to_categorical(y_values, 2))\n",
        "  \n",
        "  return y_values"
      ],
      "execution_count": 0,
      "outputs": []
    },
    {
      "cell_type": "markdown",
      "metadata": {
        "id": "Ty33gGPSbSKp",
        "colab_type": "text"
      },
      "source": [
        "**BELOW IS FOR OUR 2D BRAINSCANS**"
      ]
    },
    {
      "cell_type": "code",
      "metadata": {
        "id": "YfFiIzt474Nf",
        "colab_type": "code",
        "colab": {}
      },
      "source": [
        "## Load our model, start with 100% accuracy model on the 2d scans\n",
        "model_2dscans = pickle.load( open( \"all_mprage_grappa/z_tests/keep_models/100Model(2dscans).pkl\", \"rb\" ) )"
      ],
      "execution_count": 0,
      "outputs": []
    },
    {
      "cell_type": "code",
      "metadata": {
        "id": "NktO-uHeZWwY",
        "colab_type": "code",
        "colab": {
          "base_uri": "https://localhost:8080/",
          "height": 34
        },
        "outputId": "684f5205-199f-4e77-abd4-bee0364e2eb5"
      },
      "source": [
        "## RUNNING THROUGH TRAINING DATA ##\n",
        "## Loop through all our total slices and accumulate all the total slices info\n",
        "training_batch_f = os.listdir('all_mprage_grappa/processed_brains_aug/')[:3]\n",
        "print (training_batch_f)\n",
        "\n",
        "# initialise our set of predicted outputs\n",
        "y_train_real = []\n",
        "y_train_preds = [] \n",
        "patient_train_info = []\n",
        "# Just loop through once because we want to predict using our model only\n",
        "for tbf in training_batch_f:\n",
        "  with open('all_mprage_grappa/processed_brains_aug/'+tbf, 'rb') as f:\n",
        "    total_slices, total_slices_info = pickle.load(f) \n",
        "\n",
        "  # get y values and process each slice\n",
        "  y_values = get_y_values(total_slices_info)\n",
        "  slices_86 = get_86_slice(total_slices) # get 86th slice\n",
        "  slices_86 = np.expand_dims(slices_86, axis=3)\n",
        "\n",
        "  # append patient information\n",
        "  patient_train_info.extend(total_slices_info)\n",
        "\n",
        "  # Make predictions on our slices\n",
        "  train_predict = model_2dscans.predict(x=slices_86)\n",
        "  y_train_preds.extend(train_predict)\n",
        "  y_train_real.extend(y_values)\n",
        "      \n",
        "# set of batches that we will predict\n",
        "patient_train_info = np.array(patient_train_info)\n",
        "y_train_preds = np.array(y_train_preds)\n",
        "y_train_real = np.array(y_train_real)"
      ],
      "execution_count": 98,
      "outputs": [
        {
          "output_type": "stream",
          "text": [
            "['dbatch0.pkl', 'dbatch1.pkl', 'dbatch2.pkl']\n"
          ],
          "name": "stdout"
        }
      ]
    },
    {
      "cell_type": "code",
      "metadata": {
        "id": "uniwQq6qGe44",
        "colab_type": "code",
        "colab": {
          "base_uri": "https://localhost:8080/",
          "height": 34
        },
        "outputId": "21dd0399-3183-40e8-984a-59ea6c2bfd06"
      },
      "source": [
        "np.shape(patient_train_info)"
      ],
      "execution_count": 99,
      "outputs": [
        {
          "output_type": "execute_result",
          "data": {
            "text/plain": [
              "(300, 4)"
            ]
          },
          "metadata": {
            "tags": []
          },
          "execution_count": 99
        }
      ]
    },
    {
      "cell_type": "code",
      "metadata": {
        "id": "JhBYYZy2euuK",
        "colab_type": "code",
        "colab": {}
      },
      "source": [
        "## RUNNING THROUGH TEST DATA ##\n",
        "with open('all_mprage_grappa/processed_brains_aug/dbatch3.pkl', 'rb') as f:\n",
        "  total_slices, total_slices_info = pickle.load(f) \n",
        "\n",
        "# get y values and process each slice\n",
        "y_values = get_y_values(total_slices_info)\n",
        "slices_86 = get_86_slice(total_slices) # get 86th slice\n",
        "slices_86 = np.expand_dims(slices_86, axis=3)\n",
        "\n",
        "# Turn into numpy arrays\n",
        "y_test_preds = np.array(model_2dscans.predict(x=slices_86))\n",
        "y_test_real = np.array(y_values)\n",
        "patient_test_info = np.array(total_slices_info)"
      ],
      "execution_count": 0,
      "outputs": []
    },
    {
      "cell_type": "code",
      "metadata": {
        "id": "a-QzC4j6Hh5T",
        "colab_type": "code",
        "colab": {
          "base_uri": "https://localhost:8080/",
          "height": 195
        },
        "outputId": "b9b741a5-93c0-407a-8e78-375d46a4e1d0"
      },
      "source": [
        "# turn into a dataframe\n",
        "train_df = pd.DataFrame(patient_train_info)\n",
        "train_df.columns=['ImageID', 'Gender', 'Group', 'Age']\n",
        "train_df = train_df[::2] # take every second row (Because we have duplicates)\n",
        "\n",
        "# turn age to integers\n",
        "train_df['Age'] = train_df['Age'].astype(int)\n",
        "\n",
        "train_df.head()"
      ],
      "execution_count": 100,
      "outputs": [
        {
          "output_type": "execute_result",
          "data": {
            "text/html": [
              "<div>\n",
              "<style scoped>\n",
              "    .dataframe tbody tr th:only-of-type {\n",
              "        vertical-align: middle;\n",
              "    }\n",
              "\n",
              "    .dataframe tbody tr th {\n",
              "        vertical-align: top;\n",
              "    }\n",
              "\n",
              "    .dataframe thead th {\n",
              "        text-align: right;\n",
              "    }\n",
              "</style>\n",
              "<table border=\"1\" class=\"dataframe\">\n",
              "  <thead>\n",
              "    <tr style=\"text-align: right;\">\n",
              "      <th></th>\n",
              "      <th>ImageID</th>\n",
              "      <th>Gender</th>\n",
              "      <th>Group</th>\n",
              "      <th>Age</th>\n",
              "    </tr>\n",
              "  </thead>\n",
              "  <tbody>\n",
              "    <tr>\n",
              "      <th>0</th>\n",
              "      <td>440184</td>\n",
              "      <td>F</td>\n",
              "      <td>1</td>\n",
              "      <td>56</td>\n",
              "    </tr>\n",
              "    <tr>\n",
              "      <th>2</th>\n",
              "      <td>417039</td>\n",
              "      <td>M</td>\n",
              "      <td>0</td>\n",
              "      <td>73</td>\n",
              "    </tr>\n",
              "    <tr>\n",
              "      <th>4</th>\n",
              "      <td>344401</td>\n",
              "      <td>M</td>\n",
              "      <td>0</td>\n",
              "      <td>68</td>\n",
              "    </tr>\n",
              "    <tr>\n",
              "      <th>6</th>\n",
              "      <td>269591</td>\n",
              "      <td>M</td>\n",
              "      <td>0</td>\n",
              "      <td>67</td>\n",
              "    </tr>\n",
              "    <tr>\n",
              "      <th>8</th>\n",
              "      <td>397621</td>\n",
              "      <td>M</td>\n",
              "      <td>1</td>\n",
              "      <td>63</td>\n",
              "    </tr>\n",
              "  </tbody>\n",
              "</table>\n",
              "</div>"
            ],
            "text/plain": [
              "  ImageID Gender Group  Age\n",
              "0  440184      F     1   56\n",
              "2  417039      M     0   73\n",
              "4  344401      M     0   68\n",
              "6  269591      M     0   67\n",
              "8  397621      M     1   63"
            ]
          },
          "metadata": {
            "tags": []
          },
          "execution_count": 100
        }
      ]
    },
    {
      "cell_type": "code",
      "metadata": {
        "id": "m4f6O_CVMnvG",
        "colab_type": "code",
        "colab": {
          "base_uri": "https://localhost:8080/",
          "height": 34
        },
        "outputId": "96dba5d8-ed0b-41b5-b17c-c5fbb8a965c6"
      },
      "source": [
        "# count number with PD and number of controls, 0 is Control, 1 is PD\n",
        "np.unique(train_df.Group, return_counts=True) # 337 patients"
      ],
      "execution_count": 101,
      "outputs": [
        {
          "output_type": "execute_result",
          "data": {
            "text/plain": [
              "(array(['0', '1'], dtype=object), array([63, 87]))"
            ]
          },
          "metadata": {
            "tags": []
          },
          "execution_count": 101
        }
      ]
    },
    {
      "cell_type": "code",
      "metadata": {
        "id": "YhEkLpwSMvXs",
        "colab_type": "code",
        "colab": {}
      },
      "source": [
        "# establish control and pd df's\n",
        "df_control = train_df[train_df.Group == '0'] # for control, keep duplicate subject n.o's\n",
        "df_pd = train_df[train_df.Group == '1'] # so we keep duplicates for both groups anyhow"
      ],
      "execution_count": 0,
      "outputs": []
    },
    {
      "cell_type": "code",
      "metadata": {
        "id": "TNJkYse8M90-",
        "colab_type": "code",
        "colab": {
          "base_uri": "https://localhost:8080/",
          "height": 50
        },
        "outputId": "7651e094-4e25-479b-ebd6-a03f5c012364"
      },
      "source": [
        "print (\"Number of control patients: %d \" % len(df_control))\n",
        "print (\"Number of PD patients: %d \" % len(df_pd))"
      ],
      "execution_count": 103,
      "outputs": [
        {
          "output_type": "stream",
          "text": [
            "Number of control patients: 63 \n",
            "Number of PD patients: 87 \n"
          ],
          "name": "stdout"
        }
      ]
    },
    {
      "cell_type": "code",
      "metadata": {
        "id": "5cI5wyL6NFpD",
        "colab_type": "code",
        "colab": {
          "base_uri": "https://localhost:8080/",
          "height": 295
        },
        "outputId": "6ccd9d19-f0a3-40b5-b61e-82bb9ef10ea7"
      },
      "source": [
        "# seaborn distribution plot\n",
        "sns.distplot(df_control.Age, rug=False, label='0')\n",
        "sns.distplot(df_pd.Age, rug=False, label='1')\n",
        "plt.title('Distribution Plot of Age')\n",
        "plt.legend()\n",
        "plt.show() # pd has a slightly older distribution than control"
      ],
      "execution_count": 104,
      "outputs": [
        {
          "output_type": "display_data",
          "data": {
            "image/png": "[encoded data removed]",
            "text/plain": [
              "<Figure size 432x288 with 1 Axes>"
            ]
          },
          "metadata": {
            "tags": []
          }
        }
      ]
    },
    {
      "cell_type": "code",
      "metadata": {
        "id": "r1SBzPZrNgWp",
        "colab_type": "code",
        "colab": {
          "base_uri": "https://localhost:8080/",
          "height": 295
        },
        "outputId": "26893fa7-d723-42ce-eca4-01b41d929ee7"
      },
      "source": [
        "# plot for the ages\n",
        "plt.hist(df_pd.Age, align='mid', alpha=0.25, color='r', label='pd', bins=10)\n",
        "plt.hist(df_control.Age, align='mid', alpha=0.25, color='b', label='control', bins=10)\n",
        "plt.legend(loc='upper left')\n",
        "\n",
        "# set labels\n",
        "plt.ylabel('Frequency')\n",
        "plt.xlabel('Age')\n",
        "plt.title('Frequency of Ages')\n",
        "\n",
        "# set ticks\n",
        "plt.xticks(np.arange(min(df_control.Age), max(df_control.Age)+1, 5.0))\n",
        "plt.show()"
      ],
      "execution_count": 105,
      "outputs": [
        {
          "output_type": "display_data",
          "data": {
            "image/png": "[encoded data removed]",
            "text/plain": [
              "<Figure size 432x288 with 1 Axes>"
            ]
          },
          "metadata": {
            "tags": []
          }
        }
      ]
    },
    {
      "cell_type": "code",
      "metadata": {
        "id": "PeVqsW4ZNowR",
        "colab_type": "code",
        "colab": {
          "base_uri": "https://localhost:8080/",
          "height": 283
        },
        "outputId": "f4142e65-3e3d-474e-a4c7-a5738be331f5"
      },
      "source": [
        "# some boxplots\n",
        "ax = sns.boxplot(x=\"Group\", y=\"Age\", data=train_df)"
      ],
      "execution_count": 106,
      "outputs": [
        {
          "output_type": "display_data",
          "data": {
            "image/png": "[encoded data removed]",
            "text/plain": [
              "<Figure size 432x288 with 1 Axes>"
            ]
          },
          "metadata": {
            "tags": []
          }
        }
      ]
    },
    {
      "cell_type": "code",
      "metadata": {
        "id": "2cj5gm_MNxRJ",
        "colab_type": "code",
        "colab": {
          "base_uri": "https://localhost:8080/",
          "height": 84
        },
        "outputId": "2bde6b52-ef36-4451-d995-fc921201296d"
      },
      "source": [
        "print (\"For Control:\")\n",
        "print (np.unique(df_control.Gender.values, return_counts=True))\n",
        "print (\"For PD\")\n",
        "print (np.unique(df_pd.Gender.values, return_counts=True)) # very visible from results males are more likely to get pd.."
      ],
      "execution_count": 107,
      "outputs": [
        {
          "output_type": "stream",
          "text": [
            "For Control:\n",
            "(array(['F', 'M'], dtype=object), array([20, 43]))\n",
            "For PD\n",
            "(array(['F', 'M'], dtype=object), array([29, 58]))\n"
          ],
          "name": "stdout"
        }
      ]
    },
    {
      "cell_type": "code",
      "metadata": {
        "id": "UTMTZXDXOFVJ",
        "colab_type": "code",
        "colab": {
          "base_uri": "https://localhost:8080/",
          "height": 50
        },
        "outputId": "ce14a9f8-2dc3-445d-c181-482d7470c04e"
      },
      "source": [
        "# Turn to binary outputs\n",
        "y_test_preds_binary = to_binary(y_test_preds)\n",
        "y_test_real_binary = to_binary(y_test_real)\n",
        "\n",
        "# MAKE CONFUSION MATRIX, can also do the same for train data\n",
        "confusion_matrix(y_test_real_binary, y_test_preds_binary)"
      ],
      "execution_count": 110,
      "outputs": [
        {
          "output_type": "execute_result",
          "data": {
            "text/plain": [
              "array([[36,  0],\n",
              "       [ 0, 46]])"
            ]
          },
          "metadata": {
            "tags": []
          },
          "execution_count": 110
        }
      ]
    },
    {
      "cell_type": "code",
      "metadata": {
        "id": "PfPLnyd3c5xA",
        "colab_type": "code",
        "colab": {}
      },
      "source": [
        "## Then test with /dbatch3.pkl"
      ],
      "execution_count": 0,
      "outputs": []
    },
    {
      "cell_type": "markdown",
      "metadata": {
        "id": "v_dD10bybU59",
        "colab_type": "text"
      },
      "source": [
        "**BELOW IS FOR OUR 3D BRAINSCANS**"
      ]
    },
    {
      "cell_type": "code",
      "metadata": {
        "id": "XFqaKbhnbW5f",
        "colab_type": "code",
        "colab": {}
      },
      "source": [
        ""
      ],
      "execution_count": 0,
      "outputs": []
    },
    {
      "cell_type": "markdown",
      "metadata": {
        "id": "EQ-TfLoybXbw",
        "colab_type": "text"
      },
      "source": [
        "**BELOW IS FOR OUR AGE/SEX MODEL**"
      ]
    },
    {
      "cell_type": "code",
      "metadata": {
        "id": "bUlGaSvbbaVK",
        "colab_type": "code",
        "colab": {}
      },
      "source": [
        ""
      ],
      "execution_count": 0,
      "outputs": []
    }
  ]
}