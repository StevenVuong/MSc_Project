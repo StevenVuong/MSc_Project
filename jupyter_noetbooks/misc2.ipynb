{
  "nbformat": 4,
  "nbformat_minor": 0,
  "metadata": {
    "colab": {
      "name": "misc2.ipynb",
      "version": "0.3.2",
      "provenance": [],
      "collapsed_sections": [],
      "include_colab_link": true
    },
    "kernelspec": {
      "name": "python3",
      "display_name": "Python 3"
    },
    "accelerator": "TPU"
  },
  "cells": [
    {
      "cell_type": "markdown",
      "metadata": {
        "id": "view-in-github",
        "colab_type": "text"
      },
      "source": [
        "<a href=\"https://colab.research.google.com/github/StevenVuong/MSc_Project/blob/master/misc2.ipynb\" target=\"_parent\"><img src=\"https://colab.research.google.com/assets/colab-badge.svg\" alt=\"Open In Colab\"/></a>"
      ]
    },
    {
      "cell_type": "markdown",
      "metadata": {
        "id": "NdzBN1AhkB8-",
        "colab_type": "text"
      },
      "source": [
        "**Goal: Build a joint deeplearning model which trains on ages and genders, to classify that of the fifth batch.** \n",
        "**Then ensemble this with deep learning prediction outputs of our best model to get the final classification**"
      ]
    },
    {
      "cell_type": "code",
      "metadata": {
        "id": "HffPUoiMkAb4",
        "colab_type": "code",
        "colab": {}
      },
      "source": [
        "# Standard imports\n",
        "import pandas as pd\n",
        "import numpy as np\n",
        "import matplotlib.pyplot as plt\n",
        "import seaborn as sns\n",
        "%matplotlib inline\n",
        "\n",
        "# other imports to handle files\n",
        "import os\n",
        "import pickle\n",
        "import csv\n",
        "\n",
        "# deep learning imports\n",
        "from keras.models import Sequential, load_model, Model\n",
        "from keras.layers.core import Dense, Dropout, Activation, Flatten\n",
        "from keras.layers.convolutional import Convolution3D, MaxPooling3D, Convolution1D\n",
        "from keras.layers.normalization import BatchNormalization\n",
        "from keras.optimizers import SGD, RMSprop, Adam\n",
        "from keras.utils import np_utils, generic_utils, to_categorical\n",
        "from keras.layers import LeakyReLU, Input, ReLU, concatenate\n",
        "from keras import regularizers\n",
        "\n",
        "# to split our dataset\n",
        "from sklearn.model_selection import train_test_split\n",
        "from sklearn.metrics import accuracy_score, confusion_matrix\n",
        "\n",
        "# to mount our drive\n",
        "from google.colab import drive"
      ],
      "execution_count": 0,
      "outputs": []
    },
    {
      "cell_type": "code",
      "metadata": {
        "id": "vJGlXqK7j8vD",
        "colab_type": "code",
        "outputId": "06519bd6-49d6-42c5-c1da-5567a587b23c",
        "colab": {
          "base_uri": "https://localhost:8080/",
          "height": 50
        }
      },
      "source": [
        "# mount google drive into google colab\n",
        "drive.mount('/content/gdrive')\n",
        "\n",
        "os.chdir('/content')\n",
        "\n",
        "# go to where we will be working\n",
        "print (os.listdir())\n",
        "os.chdir('gdrive/My Drive/msc_project/')"
      ],
      "execution_count": 28,
      "outputs": [
        {
          "output_type": "stream",
          "text": [
            "Drive already mounted at /content/gdrive; to attempt to forcibly remount, call drive.mount(\"/content/gdrive\", force_remount=True).\n",
            "['.config', 'gdrive', 'sample_data']\n"
          ],
          "name": "stdout"
        }
      ]
    },
    {
      "cell_type": "markdown",
      "metadata": {
        "id": "YzRqVyvgomjT",
        "colab_type": "text"
      },
      "source": [
        "**Run through our batches and train our model after building it**"
      ]
    },
    {
      "cell_type": "code",
      "metadata": {
        "id": "nrA5vdtKpcqi",
        "colab_type": "code",
        "outputId": "0d927135-da07-4653-d4bb-a62129881143",
        "colab": {
          "base_uri": "https://localhost:8080/",
          "height": 50
        }
      },
      "source": [
        "## Loop through all our total slices and accumulate all the total slices info\n",
        "training_batch_f = os.listdir('all_mprage_grappa/processed_brains_aug')[:3]\n",
        "print (training_batch_f)\n",
        "\n",
        "# build ultima total slices info\n",
        "tsi_ultima = []\n",
        "\n",
        "# load the pickle (train with 0 to 6)\n",
        "for tbf in training_batch_f:\n",
        "  with open('all_mprage_grappa/processed_brains_aug/'+tbf, 'rb') as f:\n",
        "    total_slices, total_slices_info = pickle.load(f) # stored_batches/total_slices_batch5\n",
        "    \n",
        "    tsi_ultima.extend(total_slices_info)\n",
        "    \n",
        "print (np.shape(tsi_ultima))"
      ],
      "execution_count": 29,
      "outputs": [
        {
          "output_type": "stream",
          "text": [
            "['dbatch0.pkl', 'dbatch1.pkl', 'dbatch2.pkl']\n",
            "(300, 4)\n"
          ],
          "name": "stdout"
        }
      ]
    },
    {
      "cell_type": "code",
      "metadata": {
        "id": "6I8sh1rCrmME",
        "colab_type": "code",
        "outputId": "1b976da3-48d8-4a0c-ddf4-1607df96e765",
        "colab": {
          "base_uri": "https://localhost:8080/",
          "height": 34
        }
      },
      "source": [
        "np.shape(tsi_ultima) # use this to train"
      ],
      "execution_count": 30,
      "outputs": [
        {
          "output_type": "execute_result",
          "data": {
            "text/plain": [
              "(300, 4)"
            ]
          },
          "metadata": {
            "tags": []
          },
          "execution_count": 30
        }
      ]
    },
    {
      "cell_type": "code",
      "metadata": {
        "id": "qE9O2hmGkBmb",
        "colab_type": "code",
        "colab": {}
      },
      "source": [
        "def get_classification(total_slices_info):\n",
        "    '''get information of patient from total slices info'''\n",
        "    classif = [s[2] for s in total_slices_info]\n",
        "    classif = np.array(to_categorical(classif, 2))\n",
        "    \n",
        "    # now do the same for the sex, 'F' is 0, 'M' is 1\n",
        "    sex = [s[1] for s in total_slices_info]\n",
        "    for i in range(len(sex)):\n",
        "        if sex[i] == 'F':\n",
        "            sex[i] = 0\n",
        "        if sex[i] == 'M':\n",
        "            sex[i] = 1\n",
        "    sex = np.array(to_categorical(sex, 2))\n",
        "    \n",
        "    # finally for age, one hot encode ages 0 to 100 (101 classes then)\n",
        "    ages = [s[3] for s in total_slices_info]\n",
        "    ages = np.array(to_categorical(ages, 101))\n",
        "    \n",
        "    return classif, sex, ages\n",
        "\n",
        "y_train, sex_train, ages_train = get_classification(tsi_ultima)"
      ],
      "execution_count": 0,
      "outputs": []
    },
    {
      "cell_type": "code",
      "metadata": {
        "id": "zGfmbPdP52xt",
        "colab_type": "code",
        "colab": {
          "base_uri": "https://localhost:8080/",
          "height": 34
        },
        "outputId": "e9418b96-a162-43d8-ac91-ef772399a12c"
      },
      "source": [
        "def larger_info_dataset(df_path):\n",
        "  '''Get the info from any given dataframe'''\n",
        "  ## Get the classification of the y-values, sex and ages from a dataframe instead\n",
        "  big_boi_df = pd.read_csv(df_path)\n",
        "\n",
        "  # remove duplicate subject ids\n",
        "  big_boi_df = big_boi_df.drop_duplicates(subset='Subject', keep='first')\n",
        "\n",
        "  # map groups, control to 0, pd to 1. Also do this for sex, M is 1, F is 0\n",
        "  big_boi_df = big_boi_df.replace({'Group': {'Control': 0, 'PD': 1}, 'Sex': {'M':1, 'F':0}})\n",
        "\n",
        "  # split into training and test sets\n",
        "  train_df, test_df = train_test_split(big_boi_df, test_size=0.10)\n",
        "\n",
        "  print (\"Train Size: %d, Test Size: %d\" % (len(train_df), len(test_df)))\n",
        "\n",
        "  # get the values for train\n",
        "  ages_train = np.array(to_categorical(train_df['Age'].values,101))\n",
        "  sex_train = np.array(to_categorical(train_df['Sex'].values, 2))\n",
        "  y_train = np.array(to_categorical(train_df['Group'].values, 2))\n",
        "\n",
        "  # get the values for test\n",
        "  ages_test = np.array(to_categorical(test_df['Age'].values,101))\n",
        "  sex_test = np.array(to_categorical(test_df['Sex'].values, 2))\n",
        "  y_test = np.array(to_categorical(test_df['Group'].values, 2))\n",
        "  \n",
        "  return [ages_train, sex_train, y_train, ages_test, sex_test, y_test]\n",
        "\n",
        "ages_train, sex_train, y_train, ages_test, sex_test, y_test = larger_info_dataset('all_mprage_grappa/Control_PD_6_21_2019.csv')"
      ],
      "execution_count": 87,
      "outputs": [
        {
          "output_type": "stream",
          "text": [
            "Train Size: 536, Test Size: 60\n"
          ],
          "name": "stdout"
        }
      ]
    },
    {
      "cell_type": "code",
      "metadata": {
        "id": "YWqqxB8ypBgL",
        "colab_type": "code",
        "colab": {}
      },
      "source": [
        "def create_mlp(dim, regress=False):\n",
        "    '''Create our MLP network'''\n",
        "    model = Sequential()\n",
        "    model.add(Dense(8, input_dim=dim, activation=\"relu\"))\n",
        "    model.add(Dense(2, activation=\"relu\"))\n",
        " \n",
        "    # check to see if the regression node should be added\n",
        "    if regress:\n",
        "        model.add(Dense(1, activation=\"linear\"))\n",
        " \n",
        "    # return our model\n",
        "    return model"
      ],
      "execution_count": 0,
      "outputs": []
    },
    {
      "cell_type": "code",
      "metadata": {
        "id": "bGyH7DU5NOwb",
        "colab_type": "code",
        "colab": {}
      },
      "source": [
        "def get_metrics(hist):\n",
        "  ''' Function to get our metrics from history and score as inputs'''\n",
        "\n",
        "  # actually obtain our metrics\n",
        "  val_loss = hist.history['val_loss'][0]\n",
        "  val_acc = hist.history['val_categorical_accuracy'][0]\n",
        "  train_loss = hist.history['loss'][0]\n",
        "  train_acc = hist.history['categorical_accuracy'][0]\n",
        "\n",
        "  # put everything into one array\n",
        "  return [val_loss, val_acc, train_loss, train_acc]"
      ],
      "execution_count": 0,
      "outputs": []
    },
    {
      "cell_type": "code",
      "metadata": {
        "id": "uqqiKz9VSlrX",
        "colab_type": "code",
        "colab": {}
      },
      "source": [
        "def to_binary(cat_array):\n",
        "  '''Function to convert categorical back to binary values'''\n",
        "  binary_output_array = []\n",
        "  for i in range(len(cat_array)):\n",
        "    binary_output_array.append(np.argmax(cat_array[i]))\n",
        "    \n",
        "  binary_output_array = np.array(binary_output_array)\n",
        "  return binary_output_array"
      ],
      "execution_count": 0,
      "outputs": []
    },
    {
      "cell_type": "code",
      "metadata": {
        "id": "1OS2QxNNpHaP",
        "colab_type": "code",
        "colab": {}
      },
      "source": [
        "# creds: https://www.puzzlr.org/the-keras-functional-api-five-simple-examples/\n",
        "# Create MLP models\n",
        "mlp_sex = create_mlp(sex_train.shape[1], regress=False)\n",
        "mlp_age = create_mlp(ages_train.shape[1], regress=False)\n",
        "\n",
        "# create the input to our final set of layers as the *output* of both\n",
        "# the MLP and CNN\n",
        "combined_input = concatenate([mlp_sex.output, mlp_age.output])\n",
        "\n",
        "# our final FC layer head will have two dense layers, the final one\n",
        "# being our regression head\n",
        "x = Dense(8, activation=\"relu\")(combined_input)\n",
        "x = Dense(2, activation=\"sigmoid\")(x)\n",
        "\n",
        "# our final model will accept categorical/numerical data on the MLP\n",
        "# input and images on the CNN input, outputting a single value (the\n",
        "# predicted price of the house)\n",
        "as_model = Model(inputs=[mlp_sex.input, mlp_age.input], outputs=x)"
      ],
      "execution_count": 0,
      "outputs": []
    },
    {
      "cell_type": "code",
      "metadata": {
        "id": "d7wNgZ89trZc",
        "colab_type": "code",
        "outputId": "b27d3f5b-0c88-4f15-ca6d-47f35b28bda1",
        "colab": {
          "base_uri": "https://localhost:8080/",
          "height": 16850
        }
      },
      "source": [
        "# compile our model\n",
        "as_model.compile(loss=\"categorical_crossentropy\", optimizer=Adam(lr=1e-3, decay=1e-3 / 200), \n",
        "              metrics = ['categorical_accuracy']) # decay in Adam..\n",
        "\n",
        "# train the model\n",
        "print(\"training model...\")\n",
        "history = as_model.fit([sex_train, ages_train], y_train, validation_split=0.1, epochs=500, batch_size=150)"
      ],
      "execution_count": 92,
      "outputs": [
        {
          "output_type": "stream",
          "text": [
            "training model...\n",
            "Train on 482 samples, validate on 54 samples\n",
            "Epoch 1/500\n",
            "482/482 [==============================] - 2s 4ms/step - loss: 0.7269 - categorical_accuracy: 0.3216 - val_loss: 0.7218 - val_categorical_accuracy: 0.3148\n",
            "Epoch 2/500\n",
            "482/482 [==============================] - 0s 30us/step - loss: 0.7211 - categorical_accuracy: 0.3216 - val_loss: 0.7163 - val_categorical_accuracy: 0.3148\n",
            "Epoch 3/500\n",
            "482/482 [==============================] - 0s 36us/step - loss: 0.7157 - categorical_accuracy: 0.3216 - val_loss: 0.7111 - val_categorical_accuracy: 0.3148\n",
            "Epoch 4/500\n",
            "482/482 [==============================] - 0s 33us/step - loss: 0.7106 - categorical_accuracy: 0.3216 - val_loss: 0.7065 - val_categorical_accuracy: 0.3148\n",
            "Epoch 5/500\n",
            "482/482 [==============================] - 0s 35us/step - loss: 0.7058 - categorical_accuracy: 0.3216 - val_loss: 0.7022 - val_categorical_accuracy: 0.3148\n",
            "Epoch 6/500\n",
            "482/482 [==============================] - 0s 33us/step - loss: 0.7015 - categorical_accuracy: 0.3216 - val_loss: 0.6982 - val_categorical_accuracy: 0.3148\n",
            "Epoch 7/500\n",
            "482/482 [==============================] - 0s 33us/step - loss: 0.6975 - categorical_accuracy: 0.3216 - val_loss: 0.6945 - val_categorical_accuracy: 0.3148\n",
            "Epoch 8/500\n",
            "482/482 [==============================] - 0s 31us/step - loss: 0.6938 - categorical_accuracy: 0.4772 - val_loss: 0.6910 - val_categorical_accuracy: 0.7037\n",
            "Epoch 9/500\n",
            "482/482 [==============================] - 0s 34us/step - loss: 0.6907 - categorical_accuracy: 0.6577 - val_loss: 0.6881 - val_categorical_accuracy: 0.6667\n",
            "Epoch 10/500\n",
            "482/482 [==============================] - 0s 28us/step - loss: 0.6880 - categorical_accuracy: 0.6763 - val_loss: 0.6861 - val_categorical_accuracy: 0.6852\n",
            "Epoch 11/500\n",
            "482/482 [==============================] - 0s 31us/step - loss: 0.6861 - categorical_accuracy: 0.6784 - val_loss: 0.6849 - val_categorical_accuracy: 0.6852\n",
            "Epoch 12/500\n",
            "482/482 [==============================] - 0s 29us/step - loss: 0.6847 - categorical_accuracy: 0.6784 - val_loss: 0.6837 - val_categorical_accuracy: 0.6852\n",
            "Epoch 13/500\n",
            "482/482 [==============================] - 0s 29us/step - loss: 0.6836 - categorical_accuracy: 0.6784 - val_loss: 0.6825 - val_categorical_accuracy: 0.6852\n",
            "Epoch 14/500\n",
            "482/482 [==============================] - 0s 38us/step - loss: 0.6825 - categorical_accuracy: 0.6784 - val_loss: 0.6813 - val_categorical_accuracy: 0.6852\n",
            "Epoch 15/500\n",
            "482/482 [==============================] - 0s 32us/step - loss: 0.6814 - categorical_accuracy: 0.6784 - val_loss: 0.6801 - val_categorical_accuracy: 0.6852\n",
            "Epoch 16/500\n",
            "482/482 [==============================] - 0s 36us/step - loss: 0.6804 - categorical_accuracy: 0.6784 - val_loss: 0.6791 - val_categorical_accuracy: 0.6852\n",
            "Epoch 17/500\n",
            "482/482 [==============================] - 0s 33us/step - loss: 0.6795 - categorical_accuracy: 0.6784 - val_loss: 0.6783 - val_categorical_accuracy: 0.6852\n",
            "Epoch 18/500\n",
            "482/482 [==============================] - 0s 33us/step - loss: 0.6786 - categorical_accuracy: 0.6784 - val_loss: 0.6774 - val_categorical_accuracy: 0.6852\n",
            "Epoch 19/500\n",
            "482/482 [==============================] - 0s 28us/step - loss: 0.6777 - categorical_accuracy: 0.6784 - val_loss: 0.6764 - val_categorical_accuracy: 0.6852\n",
            "Epoch 20/500\n",
            "482/482 [==============================] - 0s 29us/step - loss: 0.6768 - categorical_accuracy: 0.6784 - val_loss: 0.6754 - val_categorical_accuracy: 0.6852\n",
            "Epoch 21/500\n",
            "482/482 [==============================] - 0s 28us/step - loss: 0.6758 - categorical_accuracy: 0.6784 - val_loss: 0.6744 - val_categorical_accuracy: 0.6852\n",
            "Epoch 22/500\n",
            "482/482 [==============================] - 0s 35us/step - loss: 0.6748 - categorical_accuracy: 0.6784 - val_loss: 0.6735 - val_categorical_accuracy: 0.6852\n",
            "Epoch 23/500\n",
            "482/482 [==============================] - 0s 28us/step - loss: 0.6738 - categorical_accuracy: 0.6784 - val_loss: 0.6724 - val_categorical_accuracy: 0.6852\n",
            "Epoch 24/500\n",
            "482/482 [==============================] - 0s 30us/step - loss: 0.6727 - categorical_accuracy: 0.6784 - val_loss: 0.6714 - val_categorical_accuracy: 0.6852\n",
            "Epoch 25/500\n",
            "482/482 [==============================] - 0s 30us/step - loss: 0.6717 - categorical_accuracy: 0.6784 - val_loss: 0.6704 - val_categorical_accuracy: 0.6852\n",
            "Epoch 26/500\n",
            "482/482 [==============================] - 0s 32us/step - loss: 0.6707 - categorical_accuracy: 0.6784 - val_loss: 0.6692 - val_categorical_accuracy: 0.6852\n",
            "Epoch 27/500\n",
            "482/482 [==============================] - 0s 36us/step - loss: 0.6695 - categorical_accuracy: 0.6784 - val_loss: 0.6680 - val_categorical_accuracy: 0.6852\n",
            "Epoch 28/500\n",
            "482/482 [==============================] - 0s 27us/step - loss: 0.6683 - categorical_accuracy: 0.6784 - val_loss: 0.6668 - val_categorical_accuracy: 0.6852\n",
            "Epoch 29/500\n",
            "482/482 [==============================] - 0s 44us/step - loss: 0.6671 - categorical_accuracy: 0.6784 - val_loss: 0.6656 - val_categorical_accuracy: 0.6852\n",
            "Epoch 30/500\n",
            "482/482 [==============================] - 0s 28us/step - loss: 0.6660 - categorical_accuracy: 0.6784 - val_loss: 0.6644 - val_categorical_accuracy: 0.6852\n",
            "Epoch 31/500\n",
            "482/482 [==============================] - 0s 29us/step - loss: 0.6648 - categorical_accuracy: 0.6784 - val_loss: 0.6632 - val_categorical_accuracy: 0.6852\n",
            "Epoch 32/500\n",
            "482/482 [==============================] - 0s 30us/step - loss: 0.6636 - categorical_accuracy: 0.6784 - val_loss: 0.6620 - val_categorical_accuracy: 0.6852\n",
            "Epoch 33/500\n",
            "482/482 [==============================] - 0s 29us/step - loss: 0.6624 - categorical_accuracy: 0.6784 - val_loss: 0.6607 - val_categorical_accuracy: 0.6852\n",
            "Epoch 34/500\n",
            "482/482 [==============================] - 0s 32us/step - loss: 0.6611 - categorical_accuracy: 0.6784 - val_loss: 0.6594 - val_categorical_accuracy: 0.6852\n",
            "Epoch 35/500\n",
            "482/482 [==============================] - 0s 25us/step - loss: 0.6597 - categorical_accuracy: 0.6784 - val_loss: 0.6581 - val_categorical_accuracy: 0.6852\n",
            "Epoch 36/500\n",
            "482/482 [==============================] - 0s 40us/step - loss: 0.6584 - categorical_accuracy: 0.6784 - val_loss: 0.6567 - val_categorical_accuracy: 0.6852\n",
            "Epoch 37/500\n",
            "482/482 [==============================] - 0s 30us/step - loss: 0.6571 - categorical_accuracy: 0.6784 - val_loss: 0.6553 - val_categorical_accuracy: 0.6852\n",
            "Epoch 38/500\n",
            "482/482 [==============================] - 0s 31us/step - loss: 0.6559 - categorical_accuracy: 0.6784 - val_loss: 0.6539 - val_categorical_accuracy: 0.6852\n",
            "Epoch 39/500\n",
            "482/482 [==============================] - 0s 25us/step - loss: 0.6544 - categorical_accuracy: 0.6784 - val_loss: 0.6526 - val_categorical_accuracy: 0.6852\n",
            "Epoch 40/500\n",
            "482/482 [==============================] - 0s 32us/step - loss: 0.6531 - categorical_accuracy: 0.6784 - val_loss: 0.6512 - val_categorical_accuracy: 0.6852\n",
            "Epoch 41/500\n",
            "482/482 [==============================] - 0s 34us/step - loss: 0.6514 - categorical_accuracy: 0.6784 - val_loss: 0.6498 - val_categorical_accuracy: 0.6852\n",
            "Epoch 42/500\n",
            "482/482 [==============================] - 0s 30us/step - loss: 0.6500 - categorical_accuracy: 0.6784 - val_loss: 0.6485 - val_categorical_accuracy: 0.6852\n",
            "Epoch 43/500\n",
            "482/482 [==============================] - 0s 31us/step - loss: 0.6486 - categorical_accuracy: 0.6784 - val_loss: 0.6471 - val_categorical_accuracy: 0.6852\n",
            "Epoch 44/500\n",
            "482/482 [==============================] - 0s 33us/step - loss: 0.6470 - categorical_accuracy: 0.6784 - val_loss: 0.6458 - val_categorical_accuracy: 0.6852\n",
            "Epoch 45/500\n",
            "482/482 [==============================] - 0s 39us/step - loss: 0.6453 - categorical_accuracy: 0.6784 - val_loss: 0.6446 - val_categorical_accuracy: 0.6852\n",
            "Epoch 46/500\n",
            "482/482 [==============================] - 0s 33us/step - loss: 0.6438 - categorical_accuracy: 0.6784 - val_loss: 0.6432 - val_categorical_accuracy: 0.6852\n",
            "Epoch 47/500\n",
            "482/482 [==============================] - 0s 28us/step - loss: 0.6421 - categorical_accuracy: 0.6784 - val_loss: 0.6419 - val_categorical_accuracy: 0.6852\n",
            "Epoch 48/500\n",
            "482/482 [==============================] - 0s 29us/step - loss: 0.6401 - categorical_accuracy: 0.6784 - val_loss: 0.6408 - val_categorical_accuracy: 0.6852\n",
            "Epoch 49/500\n",
            "482/482 [==============================] - 0s 34us/step - loss: 0.6386 - categorical_accuracy: 0.6784 - val_loss: 0.6397 - val_categorical_accuracy: 0.6852\n",
            "Epoch 50/500\n",
            "482/482 [==============================] - 0s 28us/step - loss: 0.6369 - categorical_accuracy: 0.6784 - val_loss: 0.6388 - val_categorical_accuracy: 0.6852\n",
            "Epoch 51/500\n",
            "482/482 [==============================] - 0s 32us/step - loss: 0.6353 - categorical_accuracy: 0.6784 - val_loss: 0.6379 - val_categorical_accuracy: 0.6852\n",
            "Epoch 52/500\n",
            "482/482 [==============================] - 0s 28us/step - loss: 0.6335 - categorical_accuracy: 0.6784 - val_loss: 0.6372 - val_categorical_accuracy: 0.6852\n",
            "Epoch 53/500\n",
            "482/482 [==============================] - 0s 35us/step - loss: 0.6320 - categorical_accuracy: 0.6784 - val_loss: 0.6363 - val_categorical_accuracy: 0.6852\n",
            "Epoch 54/500\n",
            "482/482 [==============================] - 0s 27us/step - loss: 0.6304 - categorical_accuracy: 0.6784 - val_loss: 0.6356 - val_categorical_accuracy: 0.6852\n",
            "Epoch 55/500\n",
            "482/482 [==============================] - 0s 34us/step - loss: 0.6287 - categorical_accuracy: 0.6784 - val_loss: 0.6351 - val_categorical_accuracy: 0.6852\n",
            "Epoch 56/500\n",
            "482/482 [==============================] - 0s 32us/step - loss: 0.6276 - categorical_accuracy: 0.6784 - val_loss: 0.6348 - val_categorical_accuracy: 0.6852\n",
            "Epoch 57/500\n",
            "482/482 [==============================] - 0s 30us/step - loss: 0.6259 - categorical_accuracy: 0.6784 - val_loss: 0.6347 - val_categorical_accuracy: 0.6852\n",
            "Epoch 58/500\n",
            "482/482 [==============================] - 0s 35us/step - loss: 0.6247 - categorical_accuracy: 0.6784 - val_loss: 0.6348 - val_categorical_accuracy: 0.6852\n",
            "Epoch 59/500\n",
            "482/482 [==============================] - 0s 39us/step - loss: 0.6238 - categorical_accuracy: 0.6784 - val_loss: 0.6351 - val_categorical_accuracy: 0.6852\n",
            "Epoch 60/500\n",
            "482/482 [==============================] - 0s 30us/step - loss: 0.6223 - categorical_accuracy: 0.6784 - val_loss: 0.6356 - val_categorical_accuracy: 0.6852\n",
            "Epoch 61/500\n",
            "482/482 [==============================] - 0s 28us/step - loss: 0.6214 - categorical_accuracy: 0.6784 - val_loss: 0.6366 - val_categorical_accuracy: 0.6852\n",
            "Epoch 62/500\n",
            "482/482 [==============================] - 0s 29us/step - loss: 0.6207 - categorical_accuracy: 0.6784 - val_loss: 0.6379 - val_categorical_accuracy: 0.6852\n",
            "Epoch 63/500\n",
            "482/482 [==============================] - 0s 40us/step - loss: 0.6197 - categorical_accuracy: 0.6784 - val_loss: 0.6392 - val_categorical_accuracy: 0.6852\n",
            "Epoch 64/500\n",
            "482/482 [==============================] - 0s 39us/step - loss: 0.6191 - categorical_accuracy: 0.6784 - val_loss: 0.6402 - val_categorical_accuracy: 0.6852\n",
            "Epoch 65/500\n",
            "482/482 [==============================] - 0s 33us/step - loss: 0.6184 - categorical_accuracy: 0.6784 - val_loss: 0.6413 - val_categorical_accuracy: 0.6852\n",
            "Epoch 66/500\n",
            "482/482 [==============================] - 0s 42us/step - loss: 0.6178 - categorical_accuracy: 0.6784 - val_loss: 0.6424 - val_categorical_accuracy: 0.6852\n",
            "Epoch 67/500\n",
            "482/482 [==============================] - 0s 47us/step - loss: 0.6172 - categorical_accuracy: 0.6784 - val_loss: 0.6436 - val_categorical_accuracy: 0.6852\n",
            "Epoch 68/500\n",
            "482/482 [==============================] - 0s 27us/step - loss: 0.6164 - categorical_accuracy: 0.6784 - val_loss: 0.6445 - val_categorical_accuracy: 0.6852\n",
            "Epoch 69/500\n",
            "482/482 [==============================] - 0s 33us/step - loss: 0.6158 - categorical_accuracy: 0.6784 - val_loss: 0.6457 - val_categorical_accuracy: 0.6852\n",
            "Epoch 70/500\n",
            "482/482 [==============================] - 0s 35us/step - loss: 0.6152 - categorical_accuracy: 0.6784 - val_loss: 0.6470 - val_categorical_accuracy: 0.6852\n",
            "Epoch 71/500\n",
            "482/482 [==============================] - 0s 30us/step - loss: 0.6145 - categorical_accuracy: 0.6784 - val_loss: 0.6484 - val_categorical_accuracy: 0.6852\n",
            "Epoch 72/500\n",
            "482/482 [==============================] - 0s 28us/step - loss: 0.6138 - categorical_accuracy: 0.6784 - val_loss: 0.6497 - val_categorical_accuracy: 0.6852\n",
            "Epoch 73/500\n",
            "482/482 [==============================] - 0s 31us/step - loss: 0.6132 - categorical_accuracy: 0.6784 - val_loss: 0.6510 - val_categorical_accuracy: 0.6852\n",
            "Epoch 74/500\n",
            "482/482 [==============================] - 0s 29us/step - loss: 0.6127 - categorical_accuracy: 0.6784 - val_loss: 0.6527 - val_categorical_accuracy: 0.6852\n",
            "Epoch 75/500\n",
            "482/482 [==============================] - 0s 34us/step - loss: 0.6120 - categorical_accuracy: 0.6784 - val_loss: 0.6543 - val_categorical_accuracy: 0.6852\n",
            "Epoch 76/500\n",
            "482/482 [==============================] - 0s 31us/step - loss: 0.6114 - categorical_accuracy: 0.6784 - val_loss: 0.6559 - val_categorical_accuracy: 0.6852\n",
            "Epoch 77/500\n",
            "482/482 [==============================] - 0s 35us/step - loss: 0.6108 - categorical_accuracy: 0.6784 - val_loss: 0.6573 - val_categorical_accuracy: 0.6852\n",
            "Epoch 78/500\n",
            "482/482 [==============================] - 0s 39us/step - loss: 0.6102 - categorical_accuracy: 0.6784 - val_loss: 0.6579 - val_categorical_accuracy: 0.6852\n",
            "Epoch 79/500\n",
            "482/482 [==============================] - 0s 34us/step - loss: 0.6097 - categorical_accuracy: 0.6784 - val_loss: 0.6584 - val_categorical_accuracy: 0.6852\n",
            "Epoch 80/500\n",
            "482/482 [==============================] - 0s 31us/step - loss: 0.6093 - categorical_accuracy: 0.6784 - val_loss: 0.6590 - val_categorical_accuracy: 0.6852\n",
            "Epoch 81/500\n",
            "482/482 [==============================] - 0s 29us/step - loss: 0.6088 - categorical_accuracy: 0.6784 - val_loss: 0.6599 - val_categorical_accuracy: 0.6852\n",
            "Epoch 82/500\n",
            "482/482 [==============================] - 0s 30us/step - loss: 0.6083 - categorical_accuracy: 0.6784 - val_loss: 0.6613 - val_categorical_accuracy: 0.6852\n",
            "Epoch 83/500\n",
            "482/482 [==============================] - 0s 32us/step - loss: 0.6078 - categorical_accuracy: 0.6784 - val_loss: 0.6632 - val_categorical_accuracy: 0.6852\n",
            "Epoch 84/500\n",
            "482/482 [==============================] - 0s 31us/step - loss: 0.6072 - categorical_accuracy: 0.6784 - val_loss: 0.6651 - val_categorical_accuracy: 0.6852\n",
            "Epoch 85/500\n",
            "482/482 [==============================] - 0s 28us/step - loss: 0.6070 - categorical_accuracy: 0.6784 - val_loss: 0.6674 - val_categorical_accuracy: 0.6852\n",
            "Epoch 86/500\n",
            "482/482 [==============================] - 0s 28us/step - loss: 0.6063 - categorical_accuracy: 0.6784 - val_loss: 0.6687 - val_categorical_accuracy: 0.6852\n",
            "Epoch 87/500\n",
            "482/482 [==============================] - 0s 31us/step - loss: 0.6058 - categorical_accuracy: 0.6784 - val_loss: 0.6703 - val_categorical_accuracy: 0.6852\n",
            "Epoch 88/500\n",
            "482/482 [==============================] - 0s 30us/step - loss: 0.6053 - categorical_accuracy: 0.6784 - val_loss: 0.6716 - val_categorical_accuracy: 0.6852\n",
            "Epoch 89/500\n",
            "482/482 [==============================] - 0s 28us/step - loss: 0.6048 - categorical_accuracy: 0.6784 - val_loss: 0.6734 - val_categorical_accuracy: 0.6852\n",
            "Epoch 90/500\n",
            "482/482 [==============================] - 0s 26us/step - loss: 0.6043 - categorical_accuracy: 0.6784 - val_loss: 0.6756 - val_categorical_accuracy: 0.6852\n",
            "Epoch 91/500\n",
            "482/482 [==============================] - 0s 27us/step - loss: 0.6039 - categorical_accuracy: 0.6784 - val_loss: 0.6774 - val_categorical_accuracy: 0.6852\n",
            "Epoch 92/500\n",
            "482/482 [==============================] - 0s 27us/step - loss: 0.6038 - categorical_accuracy: 0.6784 - val_loss: 0.6795 - val_categorical_accuracy: 0.6852\n",
            "Epoch 93/500\n",
            "482/482 [==============================] - 0s 33us/step - loss: 0.6031 - categorical_accuracy: 0.6784 - val_loss: 0.6800 - val_categorical_accuracy: 0.6852\n",
            "Epoch 94/500\n",
            "482/482 [==============================] - 0s 29us/step - loss: 0.6028 - categorical_accuracy: 0.6784 - val_loss: 0.6805 - val_categorical_accuracy: 0.6852\n",
            "Epoch 95/500\n",
            "482/482 [==============================] - 0s 26us/step - loss: 0.6024 - categorical_accuracy: 0.6784 - val_loss: 0.6807 - val_categorical_accuracy: 0.6852\n",
            "Epoch 96/500\n",
            "482/482 [==============================] - 0s 30us/step - loss: 0.6020 - categorical_accuracy: 0.6784 - val_loss: 0.6823 - val_categorical_accuracy: 0.6852\n",
            "Epoch 97/500\n",
            "482/482 [==============================] - 0s 31us/step - loss: 0.6016 - categorical_accuracy: 0.6784 - val_loss: 0.6841 - val_categorical_accuracy: 0.6852\n",
            "Epoch 98/500\n",
            "482/482 [==============================] - 0s 30us/step - loss: 0.6012 - categorical_accuracy: 0.6784 - val_loss: 0.6862 - val_categorical_accuracy: 0.6852\n",
            "Epoch 99/500\n",
            "482/482 [==============================] - 0s 28us/step - loss: 0.6007 - categorical_accuracy: 0.6784 - val_loss: 0.6879 - val_categorical_accuracy: 0.6852\n",
            "Epoch 100/500\n",
            "482/482 [==============================] - 0s 27us/step - loss: 0.6004 - categorical_accuracy: 0.6784 - val_loss: 0.6895 - val_categorical_accuracy: 0.6852\n",
            "Epoch 101/500\n",
            "482/482 [==============================] - 0s 28us/step - loss: 0.6000 - categorical_accuracy: 0.6784 - val_loss: 0.6907 - val_categorical_accuracy: 0.6852\n",
            "Epoch 102/500\n",
            "482/482 [==============================] - 0s 30us/step - loss: 0.5996 - categorical_accuracy: 0.6784 - val_loss: 0.6922 - val_categorical_accuracy: 0.6852\n",
            "Epoch 103/500\n",
            "482/482 [==============================] - 0s 26us/step - loss: 0.5992 - categorical_accuracy: 0.6784 - val_loss: 0.6944 - val_categorical_accuracy: 0.6852\n",
            "Epoch 104/500\n",
            "482/482 [==============================] - 0s 31us/step - loss: 0.5988 - categorical_accuracy: 0.6784 - val_loss: 0.6961 - val_categorical_accuracy: 0.6852\n",
            "Epoch 105/500\n",
            "482/482 [==============================] - 0s 27us/step - loss: 0.5984 - categorical_accuracy: 0.6784 - val_loss: 0.6978 - val_categorical_accuracy: 0.6852\n",
            "Epoch 106/500\n",
            "482/482 [==============================] - 0s 28us/step - loss: 0.5980 - categorical_accuracy: 0.6784 - val_loss: 0.6994 - val_categorical_accuracy: 0.6852\n",
            "Epoch 107/500\n",
            "482/482 [==============================] - 0s 26us/step - loss: 0.5977 - categorical_accuracy: 0.6784 - val_loss: 0.7019 - val_categorical_accuracy: 0.6852\n",
            "Epoch 108/500\n",
            "482/482 [==============================] - 0s 25us/step - loss: 0.5973 - categorical_accuracy: 0.6784 - val_loss: 0.7035 - val_categorical_accuracy: 0.6852\n",
            "Epoch 109/500\n",
            "482/482 [==============================] - 0s 33us/step - loss: 0.5971 - categorical_accuracy: 0.6784 - val_loss: 0.7048 - val_categorical_accuracy: 0.6852\n",
            "Epoch 110/500\n",
            "482/482 [==============================] - 0s 53us/step - loss: 0.5968 - categorical_accuracy: 0.6784 - val_loss: 0.7074 - val_categorical_accuracy: 0.6852\n",
            "Epoch 111/500\n",
            "482/482 [==============================] - 0s 45us/step - loss: 0.5964 - categorical_accuracy: 0.6784 - val_loss: 0.7089 - val_categorical_accuracy: 0.6852\n",
            "Epoch 112/500\n",
            "482/482 [==============================] - 0s 32us/step - loss: 0.5962 - categorical_accuracy: 0.6784 - val_loss: 0.7105 - val_categorical_accuracy: 0.6852\n",
            "Epoch 113/500\n",
            "482/482 [==============================] - 0s 32us/step - loss: 0.5959 - categorical_accuracy: 0.6784 - val_loss: 0.7124 - val_categorical_accuracy: 0.6852\n",
            "Epoch 114/500\n",
            "482/482 [==============================] - 0s 29us/step - loss: 0.5956 - categorical_accuracy: 0.6784 - val_loss: 0.7139 - val_categorical_accuracy: 0.6852\n",
            "Epoch 115/500\n",
            "482/482 [==============================] - 0s 29us/step - loss: 0.5953 - categorical_accuracy: 0.6784 - val_loss: 0.7155 - val_categorical_accuracy: 0.6852\n",
            "Epoch 116/500\n",
            "482/482 [==============================] - 0s 29us/step - loss: 0.5951 - categorical_accuracy: 0.6784 - val_loss: 0.7171 - val_categorical_accuracy: 0.6852\n",
            "Epoch 117/500\n",
            "482/482 [==============================] - 0s 36us/step - loss: 0.5948 - categorical_accuracy: 0.6784 - val_loss: 0.7186 - val_categorical_accuracy: 0.6852\n",
            "Epoch 118/500\n",
            "482/482 [==============================] - 0s 35us/step - loss: 0.5946 - categorical_accuracy: 0.6784 - val_loss: 0.7194 - val_categorical_accuracy: 0.6852\n",
            "Epoch 119/500\n",
            "482/482 [==============================] - 0s 31us/step - loss: 0.5944 - categorical_accuracy: 0.6784 - val_loss: 0.7214 - val_categorical_accuracy: 0.6852\n",
            "Epoch 120/500\n",
            "482/482 [==============================] - 0s 28us/step - loss: 0.5942 - categorical_accuracy: 0.6784 - val_loss: 0.7225 - val_categorical_accuracy: 0.6852\n",
            "Epoch 121/500\n",
            "482/482 [==============================] - 0s 31us/step - loss: 0.5939 - categorical_accuracy: 0.6784 - val_loss: 0.7230 - val_categorical_accuracy: 0.6852\n",
            "Epoch 122/500\n",
            "482/482 [==============================] - 0s 30us/step - loss: 0.5937 - categorical_accuracy: 0.6784 - val_loss: 0.7235 - val_categorical_accuracy: 0.6852\n",
            "Epoch 123/500\n",
            "482/482 [==============================] - 0s 30us/step - loss: 0.5935 - categorical_accuracy: 0.6784 - val_loss: 0.7240 - val_categorical_accuracy: 0.6852\n",
            "Epoch 124/500\n",
            "482/482 [==============================] - 0s 38us/step - loss: 0.5933 - categorical_accuracy: 0.6784 - val_loss: 0.7251 - val_categorical_accuracy: 0.6852\n",
            "Epoch 125/500\n",
            "482/482 [==============================] - 0s 30us/step - loss: 0.5931 - categorical_accuracy: 0.6784 - val_loss: 0.7273 - val_categorical_accuracy: 0.6852\n",
            "Epoch 126/500\n",
            "482/482 [==============================] - 0s 32us/step - loss: 0.5929 - categorical_accuracy: 0.6784 - val_loss: 0.7286 - val_categorical_accuracy: 0.6852\n",
            "Epoch 127/500\n",
            "482/482 [==============================] - 0s 33us/step - loss: 0.5926 - categorical_accuracy: 0.6784 - val_loss: 0.7305 - val_categorical_accuracy: 0.6852\n",
            "Epoch 128/500\n",
            "482/482 [==============================] - 0s 36us/step - loss: 0.5924 - categorical_accuracy: 0.6784 - val_loss: 0.7330 - val_categorical_accuracy: 0.6852\n",
            "Epoch 129/500\n",
            "482/482 [==============================] - 0s 36us/step - loss: 0.5922 - categorical_accuracy: 0.6784 - val_loss: 0.7349 - val_categorical_accuracy: 0.6852\n",
            "Epoch 130/500\n",
            "482/482 [==============================] - 0s 35us/step - loss: 0.5919 - categorical_accuracy: 0.6784 - val_loss: 0.7367 - val_categorical_accuracy: 0.6852\n",
            "Epoch 131/500\n",
            "482/482 [==============================] - 0s 35us/step - loss: 0.5918 - categorical_accuracy: 0.6784 - val_loss: 0.7385 - val_categorical_accuracy: 0.6852\n",
            "Epoch 132/500\n",
            "482/482 [==============================] - 0s 34us/step - loss: 0.5915 - categorical_accuracy: 0.6784 - val_loss: 0.7401 - val_categorical_accuracy: 0.6852\n",
            "Epoch 133/500\n",
            "482/482 [==============================] - 0s 33us/step - loss: 0.5912 - categorical_accuracy: 0.6784 - val_loss: 0.7426 - val_categorical_accuracy: 0.6852\n",
            "Epoch 134/500\n",
            "482/482 [==============================] - 0s 31us/step - loss: 0.5910 - categorical_accuracy: 0.6784 - val_loss: 0.7448 - val_categorical_accuracy: 0.6852\n",
            "Epoch 135/500\n",
            "482/482 [==============================] - 0s 36us/step - loss: 0.5908 - categorical_accuracy: 0.6784 - val_loss: 0.7483 - val_categorical_accuracy: 0.6852\n",
            "Epoch 136/500\n",
            "482/482 [==============================] - 0s 33us/step - loss: 0.5906 - categorical_accuracy: 0.6784 - val_loss: 0.7517 - val_categorical_accuracy: 0.6852\n",
            "Epoch 137/500\n",
            "482/482 [==============================] - 0s 31us/step - loss: 0.5904 - categorical_accuracy: 0.6784 - val_loss: 0.7550 - val_categorical_accuracy: 0.6852\n",
            "Epoch 138/500\n",
            "482/482 [==============================] - 0s 31us/step - loss: 0.5902 - categorical_accuracy: 0.6784 - val_loss: 0.7578 - val_categorical_accuracy: 0.6852\n",
            "Epoch 139/500\n",
            "482/482 [==============================] - 0s 30us/step - loss: 0.5900 - categorical_accuracy: 0.6784 - val_loss: 0.7612 - val_categorical_accuracy: 0.6852\n",
            "Epoch 140/500\n",
            "482/482 [==============================] - 0s 31us/step - loss: 0.5899 - categorical_accuracy: 0.6784 - val_loss: 0.7625 - val_categorical_accuracy: 0.6852\n",
            "Epoch 141/500\n",
            "482/482 [==============================] - 0s 29us/step - loss: 0.5897 - categorical_accuracy: 0.6784 - val_loss: 0.7613 - val_categorical_accuracy: 0.6852\n",
            "Epoch 142/500\n",
            "482/482 [==============================] - 0s 30us/step - loss: 0.5894 - categorical_accuracy: 0.6784 - val_loss: 0.7598 - val_categorical_accuracy: 0.6852\n",
            "Epoch 143/500\n",
            "482/482 [==============================] - 0s 32us/step - loss: 0.5893 - categorical_accuracy: 0.6784 - val_loss: 0.7588 - val_categorical_accuracy: 0.6852\n",
            "Epoch 144/500\n",
            "482/482 [==============================] - 0s 30us/step - loss: 0.5891 - categorical_accuracy: 0.6784 - val_loss: 0.7581 - val_categorical_accuracy: 0.6852\n",
            "Epoch 145/500\n",
            "482/482 [==============================] - 0s 37us/step - loss: 0.5890 - categorical_accuracy: 0.6784 - val_loss: 0.7570 - val_categorical_accuracy: 0.6852\n",
            "Epoch 146/500\n",
            "482/482 [==============================] - 0s 30us/step - loss: 0.5889 - categorical_accuracy: 0.6784 - val_loss: 0.7543 - val_categorical_accuracy: 0.6852\n",
            "Epoch 147/500\n",
            "482/482 [==============================] - 0s 31us/step - loss: 0.5888 - categorical_accuracy: 0.6784 - val_loss: 0.7531 - val_categorical_accuracy: 0.6852\n",
            "Epoch 148/500\n",
            "482/482 [==============================] - 0s 27us/step - loss: 0.5888 - categorical_accuracy: 0.6784 - val_loss: 0.7527 - val_categorical_accuracy: 0.6852\n",
            "Epoch 149/500\n",
            "482/482 [==============================] - 0s 29us/step - loss: 0.5887 - categorical_accuracy: 0.6784 - val_loss: 0.7537 - val_categorical_accuracy: 0.6852\n",
            "Epoch 150/500\n",
            "482/482 [==============================] - 0s 31us/step - loss: 0.5885 - categorical_accuracy: 0.6784 - val_loss: 0.7561 - val_categorical_accuracy: 0.6852\n",
            "Epoch 151/500\n",
            "482/482 [==============================] - 0s 30us/step - loss: 0.5882 - categorical_accuracy: 0.6784 - val_loss: 0.7596 - val_categorical_accuracy: 0.6852\n",
            "Epoch 152/500\n",
            "482/482 [==============================] - 0s 29us/step - loss: 0.5880 - categorical_accuracy: 0.6784 - val_loss: 0.7632 - val_categorical_accuracy: 0.6852\n",
            "Epoch 153/500\n",
            "482/482 [==============================] - 0s 33us/step - loss: 0.5876 - categorical_accuracy: 0.6784 - val_loss: 0.7666 - val_categorical_accuracy: 0.6852\n",
            "Epoch 154/500\n",
            "482/482 [==============================] - 0s 34us/step - loss: 0.5874 - categorical_accuracy: 0.6784 - val_loss: 0.7714 - val_categorical_accuracy: 0.6852\n",
            "Epoch 155/500\n",
            "482/482 [==============================] - 0s 36us/step - loss: 0.5873 - categorical_accuracy: 0.6784 - val_loss: 0.7754 - val_categorical_accuracy: 0.6852\n",
            "Epoch 156/500\n",
            "482/482 [==============================] - 0s 29us/step - loss: 0.5872 - categorical_accuracy: 0.6784 - val_loss: 0.7775 - val_categorical_accuracy: 0.6852\n",
            "Epoch 157/500\n",
            "482/482 [==============================] - 0s 34us/step - loss: 0.5870 - categorical_accuracy: 0.6784 - val_loss: 0.7771 - val_categorical_accuracy: 0.6852\n",
            "Epoch 158/500\n",
            "482/482 [==============================] - 0s 26us/step - loss: 0.5868 - categorical_accuracy: 0.6784 - val_loss: 0.7760 - val_categorical_accuracy: 0.6852\n",
            "Epoch 159/500\n",
            "482/482 [==============================] - 0s 31us/step - loss: 0.5867 - categorical_accuracy: 0.6784 - val_loss: 0.7732 - val_categorical_accuracy: 0.6852\n",
            "Epoch 160/500\n",
            "482/482 [==============================] - 0s 29us/step - loss: 0.5865 - categorical_accuracy: 0.6784 - val_loss: 0.7718 - val_categorical_accuracy: 0.6852\n",
            "Epoch 161/500\n",
            "482/482 [==============================] - 0s 28us/step - loss: 0.5865 - categorical_accuracy: 0.6784 - val_loss: 0.7708 - val_categorical_accuracy: 0.6852\n",
            "Epoch 162/500\n",
            "482/482 [==============================] - 0s 31us/step - loss: 0.5863 - categorical_accuracy: 0.6784 - val_loss: 0.7731 - val_categorical_accuracy: 0.6852\n",
            "Epoch 163/500\n",
            "482/482 [==============================] - 0s 38us/step - loss: 0.5861 - categorical_accuracy: 0.6784 - val_loss: 0.7754 - val_categorical_accuracy: 0.6852\n",
            "Epoch 164/500\n",
            "482/482 [==============================] - 0s 28us/step - loss: 0.5859 - categorical_accuracy: 0.6784 - val_loss: 0.7759 - val_categorical_accuracy: 0.6852\n",
            "Epoch 165/500\n",
            "482/482 [==============================] - 0s 29us/step - loss: 0.5858 - categorical_accuracy: 0.6784 - val_loss: 0.7760 - val_categorical_accuracy: 0.6852\n",
            "Epoch 166/500\n",
            "482/482 [==============================] - 0s 27us/step - loss: 0.5857 - categorical_accuracy: 0.6784 - val_loss: 0.7779 - val_categorical_accuracy: 0.6852\n",
            "Epoch 167/500\n",
            "482/482 [==============================] - 0s 50us/step - loss: 0.5855 - categorical_accuracy: 0.6784 - val_loss: 0.7799 - val_categorical_accuracy: 0.6852\n",
            "Epoch 168/500\n",
            "482/482 [==============================] - 0s 30us/step - loss: 0.5854 - categorical_accuracy: 0.6784 - val_loss: 0.7817 - val_categorical_accuracy: 0.6852\n",
            "Epoch 169/500\n",
            "482/482 [==============================] - 0s 29us/step - loss: 0.5854 - categorical_accuracy: 0.6784 - val_loss: 0.7835 - val_categorical_accuracy: 0.6852\n",
            "Epoch 170/500\n",
            "482/482 [==============================] - 0s 29us/step - loss: 0.5852 - categorical_accuracy: 0.6784 - val_loss: 0.7837 - val_categorical_accuracy: 0.6852\n",
            "Epoch 171/500\n",
            "482/482 [==============================] - 0s 29us/step - loss: 0.5851 - categorical_accuracy: 0.6784 - val_loss: 0.7852 - val_categorical_accuracy: 0.6852\n",
            "Epoch 172/500\n",
            "482/482 [==============================] - 0s 30us/step - loss: 0.5850 - categorical_accuracy: 0.6784 - val_loss: 0.7882 - val_categorical_accuracy: 0.6852\n",
            "Epoch 173/500\n",
            "482/482 [==============================] - 0s 29us/step - loss: 0.5849 - categorical_accuracy: 0.6784 - val_loss: 0.7904 - val_categorical_accuracy: 0.6852\n",
            "Epoch 174/500\n",
            "482/482 [==============================] - 0s 32us/step - loss: 0.5847 - categorical_accuracy: 0.6784 - val_loss: 0.7923 - val_categorical_accuracy: 0.6852\n",
            "Epoch 175/500\n",
            "482/482 [==============================] - 0s 28us/step - loss: 0.5846 - categorical_accuracy: 0.6784 - val_loss: 0.7952 - val_categorical_accuracy: 0.6852\n",
            "Epoch 176/500\n",
            "482/482 [==============================] - 0s 33us/step - loss: 0.5845 - categorical_accuracy: 0.6784 - val_loss: 0.7965 - val_categorical_accuracy: 0.6852\n",
            "Epoch 177/500\n",
            "482/482 [==============================] - 0s 34us/step - loss: 0.5844 - categorical_accuracy: 0.6784 - val_loss: 0.7985 - val_categorical_accuracy: 0.6852\n",
            "Epoch 178/500\n",
            "482/482 [==============================] - 0s 28us/step - loss: 0.5843 - categorical_accuracy: 0.6784 - val_loss: 0.8025 - val_categorical_accuracy: 0.6852\n",
            "Epoch 179/500\n",
            "482/482 [==============================] - 0s 35us/step - loss: 0.5843 - categorical_accuracy: 0.6784 - val_loss: 0.8069 - val_categorical_accuracy: 0.6852\n",
            "Epoch 180/500\n",
            "482/482 [==============================] - 0s 31us/step - loss: 0.5842 - categorical_accuracy: 0.6784 - val_loss: 0.8084 - val_categorical_accuracy: 0.6852\n",
            "Epoch 181/500\n",
            "482/482 [==============================] - 0s 50us/step - loss: 0.5841 - categorical_accuracy: 0.6784 - val_loss: 0.8084 - val_categorical_accuracy: 0.6852\n",
            "Epoch 182/500\n",
            "482/482 [==============================] - 0s 29us/step - loss: 0.5840 - categorical_accuracy: 0.6784 - val_loss: 0.8076 - val_categorical_accuracy: 0.6852\n",
            "Epoch 183/500\n",
            "482/482 [==============================] - 0s 28us/step - loss: 0.5839 - categorical_accuracy: 0.6784 - val_loss: 0.8069 - val_categorical_accuracy: 0.6852\n",
            "Epoch 184/500\n",
            "482/482 [==============================] - 0s 34us/step - loss: 0.5838 - categorical_accuracy: 0.6784 - val_loss: 0.8052 - val_categorical_accuracy: 0.6852\n",
            "Epoch 185/500\n",
            "482/482 [==============================] - 0s 29us/step - loss: 0.5836 - categorical_accuracy: 0.6784 - val_loss: 0.8055 - val_categorical_accuracy: 0.6852\n",
            "Epoch 186/500\n",
            "482/482 [==============================] - 0s 27us/step - loss: 0.5835 - categorical_accuracy: 0.6784 - val_loss: 0.8053 - val_categorical_accuracy: 0.6852\n",
            "Epoch 187/500\n",
            "482/482 [==============================] - 0s 29us/step - loss: 0.5834 - categorical_accuracy: 0.6784 - val_loss: 0.8028 - val_categorical_accuracy: 0.6852\n",
            "Epoch 188/500\n",
            "482/482 [==============================] - 0s 31us/step - loss: 0.5834 - categorical_accuracy: 0.6784 - val_loss: 0.8013 - val_categorical_accuracy: 0.6852\n",
            "Epoch 189/500\n",
            "482/482 [==============================] - 0s 23us/step - loss: 0.5833 - categorical_accuracy: 0.6784 - val_loss: 0.8004 - val_categorical_accuracy: 0.6852\n",
            "Epoch 190/500\n",
            "482/482 [==============================] - 0s 25us/step - loss: 0.5833 - categorical_accuracy: 0.6784 - val_loss: 0.7984 - val_categorical_accuracy: 0.6852\n",
            "Epoch 191/500\n",
            "482/482 [==============================] - 0s 29us/step - loss: 0.5833 - categorical_accuracy: 0.6784 - val_loss: 0.7981 - val_categorical_accuracy: 0.6852\n",
            "Epoch 192/500\n",
            "482/482 [==============================] - 0s 35us/step - loss: 0.5831 - categorical_accuracy: 0.6784 - val_loss: 0.7999 - val_categorical_accuracy: 0.6852\n",
            "Epoch 193/500\n",
            "482/482 [==============================] - 0s 31us/step - loss: 0.5831 - categorical_accuracy: 0.6784 - val_loss: 0.8022 - val_categorical_accuracy: 0.6852\n",
            "Epoch 194/500\n",
            "482/482 [==============================] - 0s 31us/step - loss: 0.5829 - categorical_accuracy: 0.6784 - val_loss: 0.8047 - val_categorical_accuracy: 0.6852\n",
            "Epoch 195/500\n",
            "482/482 [==============================] - 0s 28us/step - loss: 0.5829 - categorical_accuracy: 0.6784 - val_loss: 0.8081 - val_categorical_accuracy: 0.6852\n",
            "Epoch 196/500\n",
            "482/482 [==============================] - 0s 33us/step - loss: 0.5827 - categorical_accuracy: 0.6784 - val_loss: 0.8098 - val_categorical_accuracy: 0.6852\n",
            "Epoch 197/500\n",
            "482/482 [==============================] - 0s 28us/step - loss: 0.5826 - categorical_accuracy: 0.6784 - val_loss: 0.8114 - val_categorical_accuracy: 0.6852\n",
            "Epoch 198/500\n",
            "482/482 [==============================] - 0s 25us/step - loss: 0.5825 - categorical_accuracy: 0.6784 - val_loss: 0.8128 - val_categorical_accuracy: 0.6852\n",
            "Epoch 199/500\n",
            "482/482 [==============================] - 0s 29us/step - loss: 0.5824 - categorical_accuracy: 0.6784 - val_loss: 0.8152 - val_categorical_accuracy: 0.6852\n",
            "Epoch 200/500\n",
            "482/482 [==============================] - 0s 26us/step - loss: 0.5824 - categorical_accuracy: 0.6784 - val_loss: 0.8173 - val_categorical_accuracy: 0.6852\n",
            "Epoch 201/500\n",
            "482/482 [==============================] - 0s 29us/step - loss: 0.5823 - categorical_accuracy: 0.6784 - val_loss: 0.8179 - val_categorical_accuracy: 0.6852\n",
            "Epoch 202/500\n",
            "482/482 [==============================] - 0s 27us/step - loss: 0.5820 - categorical_accuracy: 0.6784 - val_loss: 0.8166 - val_categorical_accuracy: 0.6852\n",
            "Epoch 203/500\n",
            "482/482 [==============================] - 0s 31us/step - loss: 0.5821 - categorical_accuracy: 0.6784 - val_loss: 0.8133 - val_categorical_accuracy: 0.6852\n",
            "Epoch 204/500\n",
            "482/482 [==============================] - 0s 31us/step - loss: 0.5819 - categorical_accuracy: 0.6784 - val_loss: 0.8113 - val_categorical_accuracy: 0.6852\n",
            "Epoch 205/500\n",
            "482/482 [==============================] - 0s 30us/step - loss: 0.5818 - categorical_accuracy: 0.6784 - val_loss: 0.8078 - val_categorical_accuracy: 0.6852\n",
            "Epoch 206/500\n",
            "482/482 [==============================] - 0s 29us/step - loss: 0.5819 - categorical_accuracy: 0.6784 - val_loss: 0.8038 - val_categorical_accuracy: 0.6852\n",
            "Epoch 207/500\n",
            "482/482 [==============================] - 0s 25us/step - loss: 0.5819 - categorical_accuracy: 0.6784 - val_loss: 0.8037 - val_categorical_accuracy: 0.6852\n",
            "Epoch 208/500\n",
            "482/482 [==============================] - 0s 31us/step - loss: 0.5819 - categorical_accuracy: 0.6784 - val_loss: 0.8043 - val_categorical_accuracy: 0.6852\n",
            "Epoch 209/500\n",
            "482/482 [==============================] - 0s 27us/step - loss: 0.5817 - categorical_accuracy: 0.6784 - val_loss: 0.8068 - val_categorical_accuracy: 0.6852\n",
            "Epoch 210/500\n",
            "482/482 [==============================] - 0s 30us/step - loss: 0.5815 - categorical_accuracy: 0.6784 - val_loss: 0.8104 - val_categorical_accuracy: 0.6852\n",
            "Epoch 211/500\n",
            "482/482 [==============================] - 0s 31us/step - loss: 0.5813 - categorical_accuracy: 0.6784 - val_loss: 0.8155 - val_categorical_accuracy: 0.6852\n",
            "Epoch 212/500\n",
            "482/482 [==============================] - 0s 29us/step - loss: 0.5812 - categorical_accuracy: 0.6784 - val_loss: 0.8191 - val_categorical_accuracy: 0.6852\n",
            "Epoch 213/500\n",
            "482/482 [==============================] - 0s 41us/step - loss: 0.5811 - categorical_accuracy: 0.6784 - val_loss: 0.8213 - val_categorical_accuracy: 0.6852\n",
            "Epoch 214/500\n",
            "482/482 [==============================] - 0s 32us/step - loss: 0.5811 - categorical_accuracy: 0.6784 - val_loss: 0.8239 - val_categorical_accuracy: 0.6852\n",
            "Epoch 215/500\n",
            "482/482 [==============================] - 0s 32us/step - loss: 0.5810 - categorical_accuracy: 0.6784 - val_loss: 0.8244 - val_categorical_accuracy: 0.6852\n",
            "Epoch 216/500\n",
            "482/482 [==============================] - 0s 38us/step - loss: 0.5810 - categorical_accuracy: 0.6784 - val_loss: 0.8234 - val_categorical_accuracy: 0.6852\n",
            "Epoch 217/500\n",
            "482/482 [==============================] - 0s 27us/step - loss: 0.5808 - categorical_accuracy: 0.6784 - val_loss: 0.8234 - val_categorical_accuracy: 0.6852\n",
            "Epoch 218/500\n",
            "482/482 [==============================] - 0s 29us/step - loss: 0.5806 - categorical_accuracy: 0.6784 - val_loss: 0.8242 - val_categorical_accuracy: 0.6852\n",
            "Epoch 219/500\n",
            "482/482 [==============================] - 0s 26us/step - loss: 0.5805 - categorical_accuracy: 0.6784 - val_loss: 0.8232 - val_categorical_accuracy: 0.6852\n",
            "Epoch 220/500\n",
            "482/482 [==============================] - 0s 33us/step - loss: 0.5803 - categorical_accuracy: 0.6784 - val_loss: 0.8229 - val_categorical_accuracy: 0.6852\n",
            "Epoch 221/500\n",
            "482/482 [==============================] - 0s 36us/step - loss: 0.5803 - categorical_accuracy: 0.6784 - val_loss: 0.8218 - val_categorical_accuracy: 0.6852\n",
            "Epoch 222/500\n",
            "482/482 [==============================] - 0s 44us/step - loss: 0.5802 - categorical_accuracy: 0.6784 - val_loss: 0.8221 - val_categorical_accuracy: 0.6852\n",
            "Epoch 223/500\n",
            "482/482 [==============================] - 0s 31us/step - loss: 0.5801 - categorical_accuracy: 0.6784 - val_loss: 0.8229 - val_categorical_accuracy: 0.6852\n",
            "Epoch 224/500\n",
            "482/482 [==============================] - 0s 35us/step - loss: 0.5799 - categorical_accuracy: 0.6784 - val_loss: 0.8237 - val_categorical_accuracy: 0.6852\n",
            "Epoch 225/500\n",
            "482/482 [==============================] - 0s 31us/step - loss: 0.5798 - categorical_accuracy: 0.6784 - val_loss: 0.8270 - val_categorical_accuracy: 0.6852\n",
            "Epoch 226/500\n",
            "482/482 [==============================] - 0s 43us/step - loss: 0.5798 - categorical_accuracy: 0.6784 - val_loss: 0.8290 - val_categorical_accuracy: 0.6852\n",
            "Epoch 227/500\n",
            "482/482 [==============================] - 0s 29us/step - loss: 0.5797 - categorical_accuracy: 0.6784 - val_loss: 0.8301 - val_categorical_accuracy: 0.6852\n",
            "Epoch 228/500\n",
            "482/482 [==============================] - 0s 31us/step - loss: 0.5796 - categorical_accuracy: 0.6784 - val_loss: 0.8309 - val_categorical_accuracy: 0.6852\n",
            "Epoch 229/500\n",
            "482/482 [==============================] - 0s 34us/step - loss: 0.5795 - categorical_accuracy: 0.6784 - val_loss: 0.8328 - val_categorical_accuracy: 0.6852\n",
            "Epoch 230/500\n",
            "482/482 [==============================] - 0s 31us/step - loss: 0.5796 - categorical_accuracy: 0.6784 - val_loss: 0.8337 - val_categorical_accuracy: 0.6852\n",
            "Epoch 231/500\n",
            "482/482 [==============================] - 0s 29us/step - loss: 0.5794 - categorical_accuracy: 0.6784 - val_loss: 0.8314 - val_categorical_accuracy: 0.6852\n",
            "Epoch 232/500\n",
            "482/482 [==============================] - 0s 35us/step - loss: 0.5792 - categorical_accuracy: 0.6784 - val_loss: 0.8293 - val_categorical_accuracy: 0.6852\n",
            "Epoch 233/500\n",
            "482/482 [==============================] - 0s 34us/step - loss: 0.5789 - categorical_accuracy: 0.6784 - val_loss: 0.8274 - val_categorical_accuracy: 0.6852\n",
            "Epoch 234/500\n",
            "482/482 [==============================] - 0s 38us/step - loss: 0.5788 - categorical_accuracy: 0.6784 - val_loss: 0.8255 - val_categorical_accuracy: 0.6852\n",
            "Epoch 235/500\n",
            "482/482 [==============================] - 0s 34us/step - loss: 0.5786 - categorical_accuracy: 0.6784 - val_loss: 0.8229 - val_categorical_accuracy: 0.6852\n",
            "Epoch 236/500\n",
            "482/482 [==============================] - 0s 39us/step - loss: 0.5788 - categorical_accuracy: 0.6784 - val_loss: 0.8191 - val_categorical_accuracy: 0.6852\n",
            "Epoch 237/500\n",
            "482/482 [==============================] - 0s 30us/step - loss: 0.5787 - categorical_accuracy: 0.6784 - val_loss: 0.8187 - val_categorical_accuracy: 0.6852\n",
            "Epoch 238/500\n",
            "482/482 [==============================] - 0s 29us/step - loss: 0.5786 - categorical_accuracy: 0.6784 - val_loss: 0.8194 - val_categorical_accuracy: 0.6852\n",
            "Epoch 239/500\n",
            "482/482 [==============================] - 0s 28us/step - loss: 0.5785 - categorical_accuracy: 0.6784 - val_loss: 0.8209 - val_categorical_accuracy: 0.6852\n",
            "Epoch 240/500\n",
            "482/482 [==============================] - 0s 31us/step - loss: 0.5784 - categorical_accuracy: 0.6784 - val_loss: 0.8237 - val_categorical_accuracy: 0.6852\n",
            "Epoch 241/500\n",
            "482/482 [==============================] - 0s 31us/step - loss: 0.5782 - categorical_accuracy: 0.6784 - val_loss: 0.8256 - val_categorical_accuracy: 0.6852\n",
            "Epoch 242/500\n",
            "482/482 [==============================] - 0s 34us/step - loss: 0.5781 - categorical_accuracy: 0.6784 - val_loss: 0.8270 - val_categorical_accuracy: 0.6852\n",
            "Epoch 243/500\n",
            "482/482 [==============================] - 0s 29us/step - loss: 0.5780 - categorical_accuracy: 0.6784 - val_loss: 0.8281 - val_categorical_accuracy: 0.6852\n",
            "Epoch 244/500\n",
            "482/482 [==============================] - 0s 29us/step - loss: 0.5778 - categorical_accuracy: 0.6784 - val_loss: 0.8300 - val_categorical_accuracy: 0.6852\n",
            "Epoch 245/500\n",
            "482/482 [==============================] - 0s 27us/step - loss: 0.5779 - categorical_accuracy: 0.6784 - val_loss: 0.8315 - val_categorical_accuracy: 0.6852\n",
            "Epoch 246/500\n",
            "482/482 [==============================] - 0s 26us/step - loss: 0.5778 - categorical_accuracy: 0.6784 - val_loss: 0.8297 - val_categorical_accuracy: 0.6852\n",
            "Epoch 247/500\n",
            "482/482 [==============================] - 0s 31us/step - loss: 0.5778 - categorical_accuracy: 0.6784 - val_loss: 0.8307 - val_categorical_accuracy: 0.6852\n",
            "Epoch 248/500\n",
            "482/482 [==============================] - 0s 29us/step - loss: 0.5775 - categorical_accuracy: 0.6784 - val_loss: 0.8302 - val_categorical_accuracy: 0.6852\n",
            "Epoch 249/500\n",
            "482/482 [==============================] - 0s 36us/step - loss: 0.5775 - categorical_accuracy: 0.6784 - val_loss: 0.8293 - val_categorical_accuracy: 0.6852\n",
            "Epoch 250/500\n",
            "482/482 [==============================] - 0s 34us/step - loss: 0.5773 - categorical_accuracy: 0.6784 - val_loss: 0.8301 - val_categorical_accuracy: 0.6852\n",
            "Epoch 251/500\n",
            "482/482 [==============================] - 0s 40us/step - loss: 0.5772 - categorical_accuracy: 0.6784 - val_loss: 0.8311 - val_categorical_accuracy: 0.6852\n",
            "Epoch 252/500\n",
            "482/482 [==============================] - 0s 31us/step - loss: 0.5772 - categorical_accuracy: 0.6784 - val_loss: 0.8327 - val_categorical_accuracy: 0.6852\n",
            "Epoch 253/500\n",
            "482/482 [==============================] - 0s 36us/step - loss: 0.5771 - categorical_accuracy: 0.6784 - val_loss: 0.8321 - val_categorical_accuracy: 0.6852\n",
            "Epoch 254/500\n",
            "482/482 [==============================] - 0s 30us/step - loss: 0.5770 - categorical_accuracy: 0.6784 - val_loss: 0.8326 - val_categorical_accuracy: 0.6852\n",
            "Epoch 255/500\n",
            "482/482 [==============================] - 0s 32us/step - loss: 0.5769 - categorical_accuracy: 0.6784 - val_loss: 0.8314 - val_categorical_accuracy: 0.6852\n",
            "Epoch 256/500\n",
            "482/482 [==============================] - 0s 34us/step - loss: 0.5768 - categorical_accuracy: 0.6784 - val_loss: 0.8267 - val_categorical_accuracy: 0.6852\n",
            "Epoch 257/500\n",
            "482/482 [==============================] - 0s 42us/step - loss: 0.5766 - categorical_accuracy: 0.6784 - val_loss: 0.8244 - val_categorical_accuracy: 0.6852\n",
            "Epoch 258/500\n",
            "482/482 [==============================] - 0s 35us/step - loss: 0.5768 - categorical_accuracy: 0.6784 - val_loss: 0.8238 - val_categorical_accuracy: 0.6852\n",
            "Epoch 259/500\n",
            "482/482 [==============================] - 0s 35us/step - loss: 0.5767 - categorical_accuracy: 0.6784 - val_loss: 0.8250 - val_categorical_accuracy: 0.6852\n",
            "Epoch 260/500\n",
            "482/482 [==============================] - 0s 28us/step - loss: 0.5766 - categorical_accuracy: 0.6784 - val_loss: 0.8270 - val_categorical_accuracy: 0.6852\n",
            "Epoch 261/500\n",
            "482/482 [==============================] - 0s 36us/step - loss: 0.5765 - categorical_accuracy: 0.6784 - val_loss: 0.8296 - val_categorical_accuracy: 0.6852\n",
            "Epoch 262/500\n",
            "482/482 [==============================] - 0s 31us/step - loss: 0.5764 - categorical_accuracy: 0.6784 - val_loss: 0.8304 - val_categorical_accuracy: 0.6852\n",
            "Epoch 263/500\n",
            "482/482 [==============================] - 0s 44us/step - loss: 0.5763 - categorical_accuracy: 0.6784 - val_loss: 0.8327 - val_categorical_accuracy: 0.6852\n",
            "Epoch 264/500\n",
            "482/482 [==============================] - 0s 31us/step - loss: 0.5761 - categorical_accuracy: 0.6784 - val_loss: 0.8346 - val_categorical_accuracy: 0.6852\n",
            "Epoch 265/500\n",
            "482/482 [==============================] - 0s 35us/step - loss: 0.5761 - categorical_accuracy: 0.6784 - val_loss: 0.8374 - val_categorical_accuracy: 0.6852\n",
            "Epoch 266/500\n",
            "482/482 [==============================] - 0s 29us/step - loss: 0.5759 - categorical_accuracy: 0.6784 - val_loss: 0.8390 - val_categorical_accuracy: 0.6852\n",
            "Epoch 267/500\n",
            "482/482 [==============================] - 0s 35us/step - loss: 0.5759 - categorical_accuracy: 0.6784 - val_loss: 0.8409 - val_categorical_accuracy: 0.6852\n",
            "Epoch 268/500\n",
            "482/482 [==============================] - 0s 39us/step - loss: 0.5757 - categorical_accuracy: 0.6784 - val_loss: 0.8414 - val_categorical_accuracy: 0.6852\n",
            "Epoch 269/500\n",
            "482/482 [==============================] - 0s 37us/step - loss: 0.5757 - categorical_accuracy: 0.6784 - val_loss: 0.8406 - val_categorical_accuracy: 0.6852\n",
            "Epoch 270/500\n",
            "482/482 [==============================] - 0s 29us/step - loss: 0.5755 - categorical_accuracy: 0.6784 - val_loss: 0.8411 - val_categorical_accuracy: 0.6852\n",
            "Epoch 271/500\n",
            "482/482 [==============================] - 0s 36us/step - loss: 0.5754 - categorical_accuracy: 0.6784 - val_loss: 0.8382 - val_categorical_accuracy: 0.6852\n",
            "Epoch 272/500\n",
            "482/482 [==============================] - 0s 28us/step - loss: 0.5753 - categorical_accuracy: 0.6784 - val_loss: 0.8360 - val_categorical_accuracy: 0.6296\n",
            "Epoch 273/500\n",
            "482/482 [==============================] - 0s 39us/step - loss: 0.5753 - categorical_accuracy: 0.6680 - val_loss: 0.8352 - val_categorical_accuracy: 0.6296\n",
            "Epoch 274/500\n",
            "482/482 [==============================] - 0s 32us/step - loss: 0.5750 - categorical_accuracy: 0.6680 - val_loss: 0.8377 - val_categorical_accuracy: 0.6296\n",
            "Epoch 275/500\n",
            "482/482 [==============================] - 0s 33us/step - loss: 0.5749 - categorical_accuracy: 0.6680 - val_loss: 0.8394 - val_categorical_accuracy: 0.6852\n",
            "Epoch 276/500\n",
            "482/482 [==============================] - 0s 45us/step - loss: 0.5749 - categorical_accuracy: 0.6784 - val_loss: 0.8427 - val_categorical_accuracy: 0.6852\n",
            "Epoch 277/500\n",
            "482/482 [==============================] - 0s 34us/step - loss: 0.5748 - categorical_accuracy: 0.6784 - val_loss: 0.8434 - val_categorical_accuracy: 0.6852\n",
            "Epoch 278/500\n",
            "482/482 [==============================] - 0s 31us/step - loss: 0.5748 - categorical_accuracy: 0.6784 - val_loss: 0.8424 - val_categorical_accuracy: 0.6852\n",
            "Epoch 279/500\n",
            "482/482 [==============================] - 0s 33us/step - loss: 0.5746 - categorical_accuracy: 0.6826 - val_loss: 0.8412 - val_categorical_accuracy: 0.6296\n",
            "Epoch 280/500\n",
            "482/482 [==============================] - 0s 38us/step - loss: 0.5745 - categorical_accuracy: 0.6680 - val_loss: 0.8408 - val_categorical_accuracy: 0.6296\n",
            "Epoch 281/500\n",
            "482/482 [==============================] - 0s 41us/step - loss: 0.5744 - categorical_accuracy: 0.6680 - val_loss: 0.8374 - val_categorical_accuracy: 0.6296\n",
            "Epoch 282/500\n",
            "482/482 [==============================] - 0s 38us/step - loss: 0.5744 - categorical_accuracy: 0.6680 - val_loss: 0.8356 - val_categorical_accuracy: 0.6296\n",
            "Epoch 283/500\n",
            "482/482 [==============================] - 0s 48us/step - loss: 0.5744 - categorical_accuracy: 0.6680 - val_loss: 0.8332 - val_categorical_accuracy: 0.6296\n",
            "Epoch 284/500\n",
            "482/482 [==============================] - 0s 40us/step - loss: 0.5745 - categorical_accuracy: 0.6680 - val_loss: 0.8326 - val_categorical_accuracy: 0.6296\n",
            "Epoch 285/500\n",
            "482/482 [==============================] - 0s 32us/step - loss: 0.5743 - categorical_accuracy: 0.6680 - val_loss: 0.8340 - val_categorical_accuracy: 0.6296\n",
            "Epoch 286/500\n",
            "482/482 [==============================] - 0s 26us/step - loss: 0.5742 - categorical_accuracy: 0.6680 - val_loss: 0.8350 - val_categorical_accuracy: 0.6296\n",
            "Epoch 287/500\n",
            "482/482 [==============================] - 0s 31us/step - loss: 0.5739 - categorical_accuracy: 0.6680 - val_loss: 0.8394 - val_categorical_accuracy: 0.6296\n",
            "Epoch 288/500\n",
            "482/482 [==============================] - 0s 32us/step - loss: 0.5739 - categorical_accuracy: 0.6680 - val_loss: 0.8436 - val_categorical_accuracy: 0.6296\n",
            "Epoch 289/500\n",
            "482/482 [==============================] - 0s 39us/step - loss: 0.5737 - categorical_accuracy: 0.6701 - val_loss: 0.8442 - val_categorical_accuracy: 0.6296\n",
            "Epoch 290/500\n",
            "482/482 [==============================] - 0s 38us/step - loss: 0.5736 - categorical_accuracy: 0.6680 - val_loss: 0.8460 - val_categorical_accuracy: 0.6481\n",
            "Epoch 291/500\n",
            "482/482 [==============================] - 0s 40us/step - loss: 0.5734 - categorical_accuracy: 0.6701 - val_loss: 0.8477 - val_categorical_accuracy: 0.6481\n",
            "Epoch 292/500\n",
            "482/482 [==============================] - 0s 33us/step - loss: 0.5736 - categorical_accuracy: 0.6701 - val_loss: 0.8494 - val_categorical_accuracy: 0.6481\n",
            "Epoch 293/500\n",
            "482/482 [==============================] - 0s 34us/step - loss: 0.5733 - categorical_accuracy: 0.6701 - val_loss: 0.8473 - val_categorical_accuracy: 0.6481\n",
            "Epoch 294/500\n",
            "482/482 [==============================] - 0s 28us/step - loss: 0.5732 - categorical_accuracy: 0.6701 - val_loss: 0.8449 - val_categorical_accuracy: 0.6481\n",
            "Epoch 295/500\n",
            "482/482 [==============================] - 0s 28us/step - loss: 0.5731 - categorical_accuracy: 0.6701 - val_loss: 0.8430 - val_categorical_accuracy: 0.6481\n",
            "Epoch 296/500\n",
            "482/482 [==============================] - 0s 33us/step - loss: 0.5730 - categorical_accuracy: 0.6701 - val_loss: 0.8414 - val_categorical_accuracy: 0.6481\n",
            "Epoch 297/500\n",
            "482/482 [==============================] - 0s 29us/step - loss: 0.5729 - categorical_accuracy: 0.6701 - val_loss: 0.8426 - val_categorical_accuracy: 0.6481\n",
            "Epoch 298/500\n",
            "482/482 [==============================] - 0s 40us/step - loss: 0.5728 - categorical_accuracy: 0.6701 - val_loss: 0.8414 - val_categorical_accuracy: 0.6481\n",
            "Epoch 299/500\n",
            "482/482 [==============================] - 0s 36us/step - loss: 0.5725 - categorical_accuracy: 0.6722 - val_loss: 0.8374 - val_categorical_accuracy: 0.6481\n",
            "Epoch 300/500\n",
            "482/482 [==============================] - 0s 34us/step - loss: 0.5728 - categorical_accuracy: 0.6701 - val_loss: 0.8329 - val_categorical_accuracy: 0.6481\n",
            "Epoch 301/500\n",
            "482/482 [==============================] - 0s 29us/step - loss: 0.5727 - categorical_accuracy: 0.6701 - val_loss: 0.8293 - val_categorical_accuracy: 0.6481\n",
            "Epoch 302/500\n",
            "482/482 [==============================] - 0s 29us/step - loss: 0.5730 - categorical_accuracy: 0.6701 - val_loss: 0.8276 - val_categorical_accuracy: 0.6481\n",
            "Epoch 303/500\n",
            "482/482 [==============================] - 0s 28us/step - loss: 0.5730 - categorical_accuracy: 0.6701 - val_loss: 0.8278 - val_categorical_accuracy: 0.6481\n",
            "Epoch 304/500\n",
            "482/482 [==============================] - 0s 32us/step - loss: 0.5730 - categorical_accuracy: 0.6701 - val_loss: 0.8285 - val_categorical_accuracy: 0.6481\n",
            "Epoch 305/500\n",
            "482/482 [==============================] - 0s 30us/step - loss: 0.5730 - categorical_accuracy: 0.6701 - val_loss: 0.8320 - val_categorical_accuracy: 0.6481\n",
            "Epoch 306/500\n",
            "482/482 [==============================] - 0s 28us/step - loss: 0.5726 - categorical_accuracy: 0.6701 - val_loss: 0.8365 - val_categorical_accuracy: 0.6481\n",
            "Epoch 307/500\n",
            "482/482 [==============================] - 0s 32us/step - loss: 0.5722 - categorical_accuracy: 0.6701 - val_loss: 0.8395 - val_categorical_accuracy: 0.6481\n",
            "Epoch 308/500\n",
            "482/482 [==============================] - 0s 34us/step - loss: 0.5720 - categorical_accuracy: 0.6701 - val_loss: 0.8417 - val_categorical_accuracy: 0.6481\n",
            "Epoch 309/500\n",
            "482/482 [==============================] - 0s 33us/step - loss: 0.5719 - categorical_accuracy: 0.6701 - val_loss: 0.8430 - val_categorical_accuracy: 0.6481\n",
            "Epoch 310/500\n",
            "482/482 [==============================] - 0s 45us/step - loss: 0.5718 - categorical_accuracy: 0.6701 - val_loss: 0.8433 - val_categorical_accuracy: 0.6481\n",
            "Epoch 311/500\n",
            "482/482 [==============================] - 0s 35us/step - loss: 0.5716 - categorical_accuracy: 0.6701 - val_loss: 0.8439 - val_categorical_accuracy: 0.6481\n",
            "Epoch 312/500\n",
            "482/482 [==============================] - 0s 33us/step - loss: 0.5715 - categorical_accuracy: 0.6701 - val_loss: 0.8442 - val_categorical_accuracy: 0.6481\n",
            "Epoch 313/500\n",
            "482/482 [==============================] - 0s 33us/step - loss: 0.5714 - categorical_accuracy: 0.6701 - val_loss: 0.8446 - val_categorical_accuracy: 0.6481\n",
            "Epoch 314/500\n",
            "482/482 [==============================] - 0s 27us/step - loss: 0.5713 - categorical_accuracy: 0.6701 - val_loss: 0.8445 - val_categorical_accuracy: 0.6481\n",
            "Epoch 315/500\n",
            "482/482 [==============================] - 0s 32us/step - loss: 0.5713 - categorical_accuracy: 0.6701 - val_loss: 0.8437 - val_categorical_accuracy: 0.6481\n",
            "Epoch 316/500\n",
            "482/482 [==============================] - 0s 29us/step - loss: 0.5711 - categorical_accuracy: 0.6701 - val_loss: 0.8449 - val_categorical_accuracy: 0.6481\n",
            "Epoch 317/500\n",
            "482/482 [==============================] - 0s 29us/step - loss: 0.5711 - categorical_accuracy: 0.6701 - val_loss: 0.8450 - val_categorical_accuracy: 0.6481\n",
            "Epoch 318/500\n",
            "482/482 [==============================] - 0s 28us/step - loss: 0.5709 - categorical_accuracy: 0.6701 - val_loss: 0.8448 - val_categorical_accuracy: 0.6481\n",
            "Epoch 319/500\n",
            "482/482 [==============================] - 0s 28us/step - loss: 0.5708 - categorical_accuracy: 0.6743 - val_loss: 0.8458 - val_categorical_accuracy: 0.6481\n",
            "Epoch 320/500\n",
            "482/482 [==============================] - 0s 29us/step - loss: 0.5707 - categorical_accuracy: 0.6743 - val_loss: 0.8478 - val_categorical_accuracy: 0.6481\n",
            "Epoch 321/500\n",
            "482/482 [==============================] - 0s 27us/step - loss: 0.5706 - categorical_accuracy: 0.6743 - val_loss: 0.8498 - val_categorical_accuracy: 0.6481\n",
            "Epoch 322/500\n",
            "482/482 [==============================] - 0s 32us/step - loss: 0.5705 - categorical_accuracy: 0.6743 - val_loss: 0.8507 - val_categorical_accuracy: 0.6481\n",
            "Epoch 323/500\n",
            "482/482 [==============================] - 0s 29us/step - loss: 0.5704 - categorical_accuracy: 0.6743 - val_loss: 0.8518 - val_categorical_accuracy: 0.6481\n",
            "Epoch 324/500\n",
            "482/482 [==============================] - 0s 31us/step - loss: 0.5703 - categorical_accuracy: 0.6743 - val_loss: 0.8524 - val_categorical_accuracy: 0.6481\n",
            "Epoch 325/500\n",
            "482/482 [==============================] - 0s 28us/step - loss: 0.5703 - categorical_accuracy: 0.6743 - val_loss: 0.8521 - val_categorical_accuracy: 0.6481\n",
            "Epoch 326/500\n",
            "482/482 [==============================] - 0s 28us/step - loss: 0.5703 - categorical_accuracy: 0.6743 - val_loss: 0.8527 - val_categorical_accuracy: 0.6481\n",
            "Epoch 327/500\n",
            "482/482 [==============================] - 0s 31us/step - loss: 0.5703 - categorical_accuracy: 0.6743 - val_loss: 0.8545 - val_categorical_accuracy: 0.6481\n",
            "Epoch 328/500\n",
            "482/482 [==============================] - 0s 27us/step - loss: 0.5701 - categorical_accuracy: 0.6743 - val_loss: 0.8566 - val_categorical_accuracy: 0.6481\n",
            "Epoch 329/500\n",
            "482/482 [==============================] - 0s 33us/step - loss: 0.5701 - categorical_accuracy: 0.6743 - val_loss: 0.8577 - val_categorical_accuracy: 0.6481\n",
            "Epoch 330/500\n",
            "482/482 [==============================] - 0s 29us/step - loss: 0.5700 - categorical_accuracy: 0.6743 - val_loss: 0.8564 - val_categorical_accuracy: 0.6481\n",
            "Epoch 331/500\n",
            "482/482 [==============================] - 0s 27us/step - loss: 0.5698 - categorical_accuracy: 0.6743 - val_loss: 0.8558 - val_categorical_accuracy: 0.6481\n",
            "Epoch 332/500\n",
            "482/482 [==============================] - 0s 28us/step - loss: 0.5697 - categorical_accuracy: 0.6743 - val_loss: 0.8535 - val_categorical_accuracy: 0.6481\n",
            "Epoch 333/500\n",
            "482/482 [==============================] - 0s 28us/step - loss: 0.5696 - categorical_accuracy: 0.6743 - val_loss: 0.8500 - val_categorical_accuracy: 0.6481\n",
            "Epoch 334/500\n",
            "482/482 [==============================] - 0s 29us/step - loss: 0.5697 - categorical_accuracy: 0.6743 - val_loss: 0.8477 - val_categorical_accuracy: 0.6481\n",
            "Epoch 335/500\n",
            "482/482 [==============================] - 0s 32us/step - loss: 0.5696 - categorical_accuracy: 0.6743 - val_loss: 0.8481 - val_categorical_accuracy: 0.6481\n",
            "Epoch 336/500\n",
            "482/482 [==============================] - 0s 27us/step - loss: 0.5695 - categorical_accuracy: 0.6743 - val_loss: 0.8483 - val_categorical_accuracy: 0.6481\n",
            "Epoch 337/500\n",
            "482/482 [==============================] - 0s 27us/step - loss: 0.5694 - categorical_accuracy: 0.6743 - val_loss: 0.8478 - val_categorical_accuracy: 0.6481\n",
            "Epoch 338/500\n",
            "482/482 [==============================] - 0s 32us/step - loss: 0.5693 - categorical_accuracy: 0.6743 - val_loss: 0.8489 - val_categorical_accuracy: 0.6481\n",
            "Epoch 339/500\n",
            "482/482 [==============================] - 0s 27us/step - loss: 0.5693 - categorical_accuracy: 0.6743 - val_loss: 0.8505 - val_categorical_accuracy: 0.6481\n",
            "Epoch 340/500\n",
            "482/482 [==============================] - 0s 31us/step - loss: 0.5692 - categorical_accuracy: 0.6743 - val_loss: 0.8525 - val_categorical_accuracy: 0.6481\n",
            "Epoch 341/500\n",
            "482/482 [==============================] - 0s 30us/step - loss: 0.5690 - categorical_accuracy: 0.6743 - val_loss: 0.8531 - val_categorical_accuracy: 0.6481\n",
            "Epoch 342/500\n",
            "482/482 [==============================] - 0s 28us/step - loss: 0.5689 - categorical_accuracy: 0.6743 - val_loss: 0.8528 - val_categorical_accuracy: 0.6481\n",
            "Epoch 343/500\n",
            "482/482 [==============================] - 0s 35us/step - loss: 0.5688 - categorical_accuracy: 0.6743 - val_loss: 0.8507 - val_categorical_accuracy: 0.6481\n",
            "Epoch 344/500\n",
            "482/482 [==============================] - 0s 30us/step - loss: 0.5689 - categorical_accuracy: 0.6743 - val_loss: 0.8483 - val_categorical_accuracy: 0.6481\n",
            "Epoch 345/500\n",
            "482/482 [==============================] - 0s 28us/step - loss: 0.5689 - categorical_accuracy: 0.6743 - val_loss: 0.8472 - val_categorical_accuracy: 0.6481\n",
            "Epoch 346/500\n",
            "482/482 [==============================] - 0s 30us/step - loss: 0.5686 - categorical_accuracy: 0.6722 - val_loss: 0.8480 - val_categorical_accuracy: 0.6481\n",
            "Epoch 347/500\n",
            "482/482 [==============================] - 0s 29us/step - loss: 0.5686 - categorical_accuracy: 0.6743 - val_loss: 0.8507 - val_categorical_accuracy: 0.6481\n",
            "Epoch 348/500\n",
            "482/482 [==============================] - 0s 27us/step - loss: 0.5685 - categorical_accuracy: 0.6743 - val_loss: 0.8519 - val_categorical_accuracy: 0.6481\n",
            "Epoch 349/500\n",
            "482/482 [==============================] - 0s 28us/step - loss: 0.5683 - categorical_accuracy: 0.6743 - val_loss: 0.8510 - val_categorical_accuracy: 0.6481\n",
            "Epoch 350/500\n",
            "482/482 [==============================] - 0s 29us/step - loss: 0.5683 - categorical_accuracy: 0.6743 - val_loss: 0.8499 - val_categorical_accuracy: 0.6481\n",
            "Epoch 351/500\n",
            "482/482 [==============================] - 0s 28us/step - loss: 0.5682 - categorical_accuracy: 0.6722 - val_loss: 0.8506 - val_categorical_accuracy: 0.6481\n",
            "Epoch 352/500\n",
            "482/482 [==============================] - 0s 27us/step - loss: 0.5682 - categorical_accuracy: 0.6743 - val_loss: 0.8503 - val_categorical_accuracy: 0.6481\n",
            "Epoch 353/500\n",
            "482/482 [==============================] - 0s 27us/step - loss: 0.5681 - categorical_accuracy: 0.6743 - val_loss: 0.8503 - val_categorical_accuracy: 0.6481\n",
            "Epoch 354/500\n",
            "482/482 [==============================] - 0s 28us/step - loss: 0.5680 - categorical_accuracy: 0.6743 - val_loss: 0.8517 - val_categorical_accuracy: 0.6481\n",
            "Epoch 355/500\n",
            "482/482 [==============================] - 0s 28us/step - loss: 0.5679 - categorical_accuracy: 0.6743 - val_loss: 0.8536 - val_categorical_accuracy: 0.6481\n",
            "Epoch 356/500\n",
            "482/482 [==============================] - 0s 27us/step - loss: 0.5678 - categorical_accuracy: 0.6743 - val_loss: 0.8561 - val_categorical_accuracy: 0.6481\n",
            "Epoch 357/500\n",
            "482/482 [==============================] - 0s 36us/step - loss: 0.5678 - categorical_accuracy: 0.6743 - val_loss: 0.8577 - val_categorical_accuracy: 0.6481\n",
            "Epoch 358/500\n",
            "482/482 [==============================] - 0s 40us/step - loss: 0.5676 - categorical_accuracy: 0.6743 - val_loss: 0.8564 - val_categorical_accuracy: 0.6481\n",
            "Epoch 359/500\n",
            "482/482 [==============================] - 0s 46us/step - loss: 0.5676 - categorical_accuracy: 0.6743 - val_loss: 0.8526 - val_categorical_accuracy: 0.6481\n",
            "Epoch 360/500\n",
            "482/482 [==============================] - 0s 36us/step - loss: 0.5678 - categorical_accuracy: 0.6743 - val_loss: 0.8489 - val_categorical_accuracy: 0.6481\n",
            "Epoch 361/500\n",
            "482/482 [==============================] - 0s 26us/step - loss: 0.5676 - categorical_accuracy: 0.6743 - val_loss: 0.8482 - val_categorical_accuracy: 0.6481\n",
            "Epoch 362/500\n",
            "482/482 [==============================] - 0s 30us/step - loss: 0.5677 - categorical_accuracy: 0.6743 - val_loss: 0.8491 - val_categorical_accuracy: 0.6481\n",
            "Epoch 363/500\n",
            "482/482 [==============================] - 0s 28us/step - loss: 0.5675 - categorical_accuracy: 0.6743 - val_loss: 0.8511 - val_categorical_accuracy: 0.6481\n",
            "Epoch 364/500\n",
            "482/482 [==============================] - 0s 28us/step - loss: 0.5672 - categorical_accuracy: 0.6743 - val_loss: 0.8533 - val_categorical_accuracy: 0.6481\n",
            "Epoch 365/500\n",
            "482/482 [==============================] - 0s 28us/step - loss: 0.5672 - categorical_accuracy: 0.6743 - val_loss: 0.8540 - val_categorical_accuracy: 0.6481\n",
            "Epoch 366/500\n",
            "482/482 [==============================] - 0s 30us/step - loss: 0.5671 - categorical_accuracy: 0.6743 - val_loss: 0.8549 - val_categorical_accuracy: 0.6481\n",
            "Epoch 367/500\n",
            "482/482 [==============================] - 0s 30us/step - loss: 0.5670 - categorical_accuracy: 0.6743 - val_loss: 0.8533 - val_categorical_accuracy: 0.6481\n",
            "Epoch 368/500\n",
            "482/482 [==============================] - 0s 28us/step - loss: 0.5672 - categorical_accuracy: 0.6743 - val_loss: 0.8507 - val_categorical_accuracy: 0.6481\n",
            "Epoch 369/500\n",
            "482/482 [==============================] - 0s 34us/step - loss: 0.5671 - categorical_accuracy: 0.6743 - val_loss: 0.8504 - val_categorical_accuracy: 0.6481\n",
            "Epoch 370/500\n",
            "482/482 [==============================] - 0s 41us/step - loss: 0.5669 - categorical_accuracy: 0.6743 - val_loss: 0.8522 - val_categorical_accuracy: 0.6481\n",
            "Epoch 371/500\n",
            "482/482 [==============================] - 0s 33us/step - loss: 0.5667 - categorical_accuracy: 0.6743 - val_loss: 0.8562 - val_categorical_accuracy: 0.6481\n",
            "Epoch 372/500\n",
            "482/482 [==============================] - 0s 33us/step - loss: 0.5665 - categorical_accuracy: 0.6743 - val_loss: 0.8595 - val_categorical_accuracy: 0.6481\n",
            "Epoch 373/500\n",
            "482/482 [==============================] - 0s 33us/step - loss: 0.5668 - categorical_accuracy: 0.6743 - val_loss: 0.8629 - val_categorical_accuracy: 0.6481\n",
            "Epoch 374/500\n",
            "482/482 [==============================] - 0s 33us/step - loss: 0.5669 - categorical_accuracy: 0.6743 - val_loss: 0.8649 - val_categorical_accuracy: 0.6481\n",
            "Epoch 375/500\n",
            "482/482 [==============================] - 0s 32us/step - loss: 0.5670 - categorical_accuracy: 0.6743 - val_loss: 0.8638 - val_categorical_accuracy: 0.6481\n",
            "Epoch 376/500\n",
            "482/482 [==============================] - 0s 28us/step - loss: 0.5667 - categorical_accuracy: 0.6743 - val_loss: 0.8626 - val_categorical_accuracy: 0.6481\n",
            "Epoch 377/500\n",
            "482/482 [==============================] - 0s 26us/step - loss: 0.5667 - categorical_accuracy: 0.6743 - val_loss: 0.8607 - val_categorical_accuracy: 0.6481\n",
            "Epoch 378/500\n",
            "482/482 [==============================] - 0s 27us/step - loss: 0.5665 - categorical_accuracy: 0.6743 - val_loss: 0.8570 - val_categorical_accuracy: 0.6481\n",
            "Epoch 379/500\n",
            "482/482 [==============================] - 0s 30us/step - loss: 0.5665 - categorical_accuracy: 0.6743 - val_loss: 0.8559 - val_categorical_accuracy: 0.6481\n",
            "Epoch 380/500\n",
            "482/482 [==============================] - 0s 32us/step - loss: 0.5662 - categorical_accuracy: 0.6743 - val_loss: 0.8515 - val_categorical_accuracy: 0.6481\n",
            "Epoch 381/500\n",
            "482/482 [==============================] - 0s 26us/step - loss: 0.5660 - categorical_accuracy: 0.6743 - val_loss: 0.8490 - val_categorical_accuracy: 0.6481\n",
            "Epoch 382/500\n",
            "482/482 [==============================] - 0s 28us/step - loss: 0.5659 - categorical_accuracy: 0.6743 - val_loss: 0.8467 - val_categorical_accuracy: 0.6481\n",
            "Epoch 383/500\n",
            "482/482 [==============================] - 0s 31us/step - loss: 0.5659 - categorical_accuracy: 0.6743 - val_loss: 0.8450 - val_categorical_accuracy: 0.6481\n",
            "Epoch 384/500\n",
            "482/482 [==============================] - 0s 31us/step - loss: 0.5659 - categorical_accuracy: 0.6743 - val_loss: 0.8443 - val_categorical_accuracy: 0.6481\n",
            "Epoch 385/500\n",
            "482/482 [==============================] - 0s 33us/step - loss: 0.5657 - categorical_accuracy: 0.6826 - val_loss: 0.8452 - val_categorical_accuracy: 0.6481\n",
            "Epoch 386/500\n",
            "482/482 [==============================] - 0s 27us/step - loss: 0.5656 - categorical_accuracy: 0.6826 - val_loss: 0.8477 - val_categorical_accuracy: 0.6481\n",
            "Epoch 387/500\n",
            "482/482 [==============================] - 0s 30us/step - loss: 0.5654 - categorical_accuracy: 0.6826 - val_loss: 0.8509 - val_categorical_accuracy: 0.6481\n",
            "Epoch 388/500\n",
            "482/482 [==============================] - 0s 28us/step - loss: 0.5652 - categorical_accuracy: 0.6826 - val_loss: 0.8519 - val_categorical_accuracy: 0.6481\n",
            "Epoch 389/500\n",
            "482/482 [==============================] - 0s 28us/step - loss: 0.5651 - categorical_accuracy: 0.6826 - val_loss: 0.8519 - val_categorical_accuracy: 0.6481\n",
            "Epoch 390/500\n",
            "482/482 [==============================] - 0s 28us/step - loss: 0.5649 - categorical_accuracy: 0.6826 - val_loss: 0.8493 - val_categorical_accuracy: 0.6481\n",
            "Epoch 391/500\n",
            "482/482 [==============================] - 0s 32us/step - loss: 0.5650 - categorical_accuracy: 0.6826 - val_loss: 0.8489 - val_categorical_accuracy: 0.6481\n",
            "Epoch 392/500\n",
            "482/482 [==============================] - 0s 27us/step - loss: 0.5649 - categorical_accuracy: 0.6826 - val_loss: 0.8508 - val_categorical_accuracy: 0.6481\n",
            "Epoch 393/500\n",
            "482/482 [==============================] - 0s 26us/step - loss: 0.5646 - categorical_accuracy: 0.6826 - val_loss: 0.8538 - val_categorical_accuracy: 0.6481\n",
            "Epoch 394/500\n",
            "482/482 [==============================] - 0s 38us/step - loss: 0.5647 - categorical_accuracy: 0.6826 - val_loss: 0.8586 - val_categorical_accuracy: 0.6481\n",
            "Epoch 395/500\n",
            "482/482 [==============================] - 0s 30us/step - loss: 0.5642 - categorical_accuracy: 0.6826 - val_loss: 0.8626 - val_categorical_accuracy: 0.6481\n",
            "Epoch 396/500\n",
            "482/482 [==============================] - 0s 29us/step - loss: 0.5640 - categorical_accuracy: 0.6826 - val_loss: 0.8647 - val_categorical_accuracy: 0.6481\n",
            "Epoch 397/500\n",
            "482/482 [==============================] - 0s 26us/step - loss: 0.5639 - categorical_accuracy: 0.6826 - val_loss: 0.8675 - val_categorical_accuracy: 0.6481\n",
            "Epoch 398/500\n",
            "482/482 [==============================] - 0s 33us/step - loss: 0.5639 - categorical_accuracy: 0.6826 - val_loss: 0.8675 - val_categorical_accuracy: 0.6481\n",
            "Epoch 399/500\n",
            "482/482 [==============================] - 0s 27us/step - loss: 0.5634 - categorical_accuracy: 0.6867 - val_loss: 0.8656 - val_categorical_accuracy: 0.6481\n",
            "Epoch 400/500\n",
            "482/482 [==============================] - 0s 29us/step - loss: 0.5632 - categorical_accuracy: 0.6867 - val_loss: 0.8636 - val_categorical_accuracy: 0.6481\n",
            "Epoch 401/500\n",
            "482/482 [==============================] - 0s 26us/step - loss: 0.5630 - categorical_accuracy: 0.6867 - val_loss: 0.8635 - val_categorical_accuracy: 0.6481\n",
            "Epoch 402/500\n",
            "482/482 [==============================] - 0s 30us/step - loss: 0.5628 - categorical_accuracy: 0.6867 - val_loss: 0.8655 - val_categorical_accuracy: 0.6481\n",
            "Epoch 403/500\n",
            "482/482 [==============================] - 0s 26us/step - loss: 0.5626 - categorical_accuracy: 0.6867 - val_loss: 0.8657 - val_categorical_accuracy: 0.6481\n",
            "Epoch 404/500\n",
            "482/482 [==============================] - 0s 28us/step - loss: 0.5624 - categorical_accuracy: 0.6867 - val_loss: 0.8677 - val_categorical_accuracy: 0.6481\n",
            "Epoch 405/500\n",
            "482/482 [==============================] - 0s 33us/step - loss: 0.5623 - categorical_accuracy: 0.6867 - val_loss: 0.8715 - val_categorical_accuracy: 0.6481\n",
            "Epoch 406/500\n",
            "482/482 [==============================] - 0s 27us/step - loss: 0.5620 - categorical_accuracy: 0.6867 - val_loss: 0.8722 - val_categorical_accuracy: 0.6481\n",
            "Epoch 407/500\n",
            "482/482 [==============================] - 0s 27us/step - loss: 0.5618 - categorical_accuracy: 0.6867 - val_loss: 0.8720 - val_categorical_accuracy: 0.6481\n",
            "Epoch 408/500\n",
            "482/482 [==============================] - 0s 33us/step - loss: 0.5617 - categorical_accuracy: 0.6867 - val_loss: 0.8720 - val_categorical_accuracy: 0.6481\n",
            "Epoch 409/500\n",
            "482/482 [==============================] - 0s 44us/step - loss: 0.5615 - categorical_accuracy: 0.6867 - val_loss: 0.8736 - val_categorical_accuracy: 0.6481\n",
            "Epoch 410/500\n",
            "482/482 [==============================] - 0s 37us/step - loss: 0.5613 - categorical_accuracy: 0.6867 - val_loss: 0.8726 - val_categorical_accuracy: 0.6481\n",
            "Epoch 411/500\n",
            "482/482 [==============================] - 0s 28us/step - loss: 0.5604 - categorical_accuracy: 0.6867 - val_loss: 0.8721 - val_categorical_accuracy: 0.6481\n",
            "Epoch 412/500\n",
            "482/482 [==============================] - 0s 30us/step - loss: 0.5598 - categorical_accuracy: 0.6867 - val_loss: 0.8712 - val_categorical_accuracy: 0.6481\n",
            "Epoch 413/500\n",
            "482/482 [==============================] - 0s 37us/step - loss: 0.5590 - categorical_accuracy: 0.6867 - val_loss: 0.8707 - val_categorical_accuracy: 0.6481\n",
            "Epoch 414/500\n",
            "482/482 [==============================] - 0s 28us/step - loss: 0.5580 - categorical_accuracy: 0.6909 - val_loss: 0.8679 - val_categorical_accuracy: 0.6667\n",
            "Epoch 415/500\n",
            "482/482 [==============================] - 0s 33us/step - loss: 0.5574 - categorical_accuracy: 0.6929 - val_loss: 0.8656 - val_categorical_accuracy: 0.6852\n",
            "Epoch 416/500\n",
            "482/482 [==============================] - 0s 27us/step - loss: 0.5566 - categorical_accuracy: 0.6971 - val_loss: 0.8629 - val_categorical_accuracy: 0.6852\n",
            "Epoch 417/500\n",
            "482/482 [==============================] - 0s 28us/step - loss: 0.5558 - categorical_accuracy: 0.6971 - val_loss: 0.8634 - val_categorical_accuracy: 0.6667\n",
            "Epoch 418/500\n",
            "482/482 [==============================] - 0s 33us/step - loss: 0.5551 - categorical_accuracy: 0.6929 - val_loss: 0.8662 - val_categorical_accuracy: 0.6667\n",
            "Epoch 419/500\n",
            "482/482 [==============================] - 0s 27us/step - loss: 0.5544 - categorical_accuracy: 0.6929 - val_loss: 0.8695 - val_categorical_accuracy: 0.6667\n",
            "Epoch 420/500\n",
            "482/482 [==============================] - 0s 31us/step - loss: 0.5538 - categorical_accuracy: 0.6929 - val_loss: 0.8728 - val_categorical_accuracy: 0.6667\n",
            "Epoch 421/500\n",
            "482/482 [==============================] - 0s 30us/step - loss: 0.5533 - categorical_accuracy: 0.6929 - val_loss: 0.8730 - val_categorical_accuracy: 0.6667\n",
            "Epoch 422/500\n",
            "482/482 [==============================] - 0s 31us/step - loss: 0.5523 - categorical_accuracy: 0.6929 - val_loss: 0.8724 - val_categorical_accuracy: 0.6667\n",
            "Epoch 423/500\n",
            "482/482 [==============================] - 0s 29us/step - loss: 0.5517 - categorical_accuracy: 0.6929 - val_loss: 0.8734 - val_categorical_accuracy: 0.6667\n",
            "Epoch 424/500\n",
            "482/482 [==============================] - 0s 28us/step - loss: 0.5514 - categorical_accuracy: 0.6929 - val_loss: 0.8754 - val_categorical_accuracy: 0.6667\n",
            "Epoch 425/500\n",
            "482/482 [==============================] - 0s 30us/step - loss: 0.5510 - categorical_accuracy: 0.6929 - val_loss: 0.8731 - val_categorical_accuracy: 0.6667\n",
            "Epoch 426/500\n",
            "482/482 [==============================] - 0s 29us/step - loss: 0.5504 - categorical_accuracy: 0.6929 - val_loss: 0.8677 - val_categorical_accuracy: 0.6667\n",
            "Epoch 427/500\n",
            "482/482 [==============================] - 0s 27us/step - loss: 0.5498 - categorical_accuracy: 0.6929 - val_loss: 0.8628 - val_categorical_accuracy: 0.6667\n",
            "Epoch 428/500\n",
            "482/482 [==============================] - 0s 26us/step - loss: 0.5498 - categorical_accuracy: 0.6929 - val_loss: 0.8592 - val_categorical_accuracy: 0.6852\n",
            "Epoch 429/500\n",
            "482/482 [==============================] - 0s 35us/step - loss: 0.5494 - categorical_accuracy: 0.6950 - val_loss: 0.8584 - val_categorical_accuracy: 0.6667\n",
            "Epoch 430/500\n",
            "482/482 [==============================] - 0s 29us/step - loss: 0.5492 - categorical_accuracy: 0.6992 - val_loss: 0.8598 - val_categorical_accuracy: 0.6667\n",
            "Epoch 431/500\n",
            "482/482 [==============================] - 0s 26us/step - loss: 0.5490 - categorical_accuracy: 0.6992 - val_loss: 0.8639 - val_categorical_accuracy: 0.6667\n",
            "Epoch 432/500\n",
            "482/482 [==============================] - 0s 27us/step - loss: 0.5485 - categorical_accuracy: 0.6929 - val_loss: 0.8677 - val_categorical_accuracy: 0.6667\n",
            "Epoch 433/500\n",
            "482/482 [==============================] - 0s 28us/step - loss: 0.5486 - categorical_accuracy: 0.6929 - val_loss: 0.8723 - val_categorical_accuracy: 0.6667\n",
            "Epoch 434/500\n",
            "482/482 [==============================] - 0s 34us/step - loss: 0.5484 - categorical_accuracy: 0.6929 - val_loss: 0.8736 - val_categorical_accuracy: 0.6667\n",
            "Epoch 435/500\n",
            "482/482 [==============================] - 0s 26us/step - loss: 0.5480 - categorical_accuracy: 0.6929 - val_loss: 0.8739 - val_categorical_accuracy: 0.6667\n",
            "Epoch 436/500\n",
            "482/482 [==============================] - 0s 33us/step - loss: 0.5478 - categorical_accuracy: 0.6929 - val_loss: 0.8723 - val_categorical_accuracy: 0.6667\n",
            "Epoch 437/500\n",
            "482/482 [==============================] - 0s 31us/step - loss: 0.5477 - categorical_accuracy: 0.6929 - val_loss: 0.8701 - val_categorical_accuracy: 0.6667\n",
            "Epoch 438/500\n",
            "482/482 [==============================] - 0s 27us/step - loss: 0.5472 - categorical_accuracy: 0.6971 - val_loss: 0.8619 - val_categorical_accuracy: 0.6667\n",
            "Epoch 439/500\n",
            "482/482 [==============================] - 0s 30us/step - loss: 0.5467 - categorical_accuracy: 0.6992 - val_loss: 0.8568 - val_categorical_accuracy: 0.6667\n",
            "Epoch 440/500\n",
            "482/482 [==============================] - 0s 30us/step - loss: 0.5472 - categorical_accuracy: 0.6992 - val_loss: 0.8557 - val_categorical_accuracy: 0.6667\n",
            "Epoch 441/500\n",
            "482/482 [==============================] - 0s 31us/step - loss: 0.5466 - categorical_accuracy: 0.6992 - val_loss: 0.8580 - val_categorical_accuracy: 0.6667\n",
            "Epoch 442/500\n",
            "482/482 [==============================] - 0s 27us/step - loss: 0.5462 - categorical_accuracy: 0.6992 - val_loss: 0.8613 - val_categorical_accuracy: 0.6667\n",
            "Epoch 443/500\n",
            "482/482 [==============================] - 0s 26us/step - loss: 0.5460 - categorical_accuracy: 0.6992 - val_loss: 0.8651 - val_categorical_accuracy: 0.6667\n",
            "Epoch 444/500\n",
            "482/482 [==============================] - 0s 28us/step - loss: 0.5458 - categorical_accuracy: 0.6992 - val_loss: 0.8695 - val_categorical_accuracy: 0.6667\n",
            "Epoch 445/500\n",
            "482/482 [==============================] - 0s 32us/step - loss: 0.5457 - categorical_accuracy: 0.6992 - val_loss: 0.8740 - val_categorical_accuracy: 0.6667\n",
            "Epoch 446/500\n",
            "482/482 [==============================] - 0s 27us/step - loss: 0.5452 - categorical_accuracy: 0.6992 - val_loss: 0.8759 - val_categorical_accuracy: 0.6667\n",
            "Epoch 447/500\n",
            "482/482 [==============================] - 0s 31us/step - loss: 0.5450 - categorical_accuracy: 0.6992 - val_loss: 0.8760 - val_categorical_accuracy: 0.6667\n",
            "Epoch 448/500\n",
            "482/482 [==============================] - 0s 31us/step - loss: 0.5447 - categorical_accuracy: 0.6992 - val_loss: 0.8721 - val_categorical_accuracy: 0.6667\n",
            "Epoch 449/500\n",
            "482/482 [==============================] - 0s 29us/step - loss: 0.5444 - categorical_accuracy: 0.6992 - val_loss: 0.8700 - val_categorical_accuracy: 0.6667\n",
            "Epoch 450/500\n",
            "482/482 [==============================] - 0s 27us/step - loss: 0.5441 - categorical_accuracy: 0.6992 - val_loss: 0.8713 - val_categorical_accuracy: 0.6667\n",
            "Epoch 451/500\n",
            "482/482 [==============================] - 0s 33us/step - loss: 0.5439 - categorical_accuracy: 0.6992 - val_loss: 0.8720 - val_categorical_accuracy: 0.6667\n",
            "Epoch 452/500\n",
            "482/482 [==============================] - 0s 26us/step - loss: 0.5437 - categorical_accuracy: 0.7054 - val_loss: 0.8705 - val_categorical_accuracy: 0.6852\n",
            "Epoch 453/500\n",
            "482/482 [==============================] - 0s 25us/step - loss: 0.5436 - categorical_accuracy: 0.7033 - val_loss: 0.8677 - val_categorical_accuracy: 0.6852\n",
            "Epoch 454/500\n",
            "482/482 [==============================] - 0s 30us/step - loss: 0.5432 - categorical_accuracy: 0.7033 - val_loss: 0.8657 - val_categorical_accuracy: 0.6852\n",
            "Epoch 455/500\n",
            "482/482 [==============================] - 0s 35us/step - loss: 0.5435 - categorical_accuracy: 0.6992 - val_loss: 0.8653 - val_categorical_accuracy: 0.6667\n",
            "Epoch 456/500\n",
            "482/482 [==============================] - 0s 31us/step - loss: 0.5430 - categorical_accuracy: 0.7054 - val_loss: 0.8661 - val_categorical_accuracy: 0.6852\n",
            "Epoch 457/500\n",
            "482/482 [==============================] - 0s 36us/step - loss: 0.5429 - categorical_accuracy: 0.7033 - val_loss: 0.8630 - val_categorical_accuracy: 0.6852\n",
            "Epoch 458/500\n",
            "482/482 [==============================] - 0s 37us/step - loss: 0.5425 - categorical_accuracy: 0.7033 - val_loss: 0.8650 - val_categorical_accuracy: 0.6852\n",
            "Epoch 459/500\n",
            "482/482 [==============================] - 0s 29us/step - loss: 0.5424 - categorical_accuracy: 0.7033 - val_loss: 0.8701 - val_categorical_accuracy: 0.6852\n",
            "Epoch 460/500\n",
            "482/482 [==============================] - 0s 30us/step - loss: 0.5418 - categorical_accuracy: 0.7033 - val_loss: 0.8686 - val_categorical_accuracy: 0.6852\n",
            "Epoch 461/500\n",
            "482/482 [==============================] - 0s 36us/step - loss: 0.5417 - categorical_accuracy: 0.7178 - val_loss: 0.8649 - val_categorical_accuracy: 0.7037\n",
            "Epoch 462/500\n",
            "482/482 [==============================] - 0s 35us/step - loss: 0.5416 - categorical_accuracy: 0.7220 - val_loss: 0.8643 - val_categorical_accuracy: 0.7037\n",
            "Epoch 463/500\n",
            "482/482 [==============================] - 0s 31us/step - loss: 0.5414 - categorical_accuracy: 0.7220 - val_loss: 0.8645 - val_categorical_accuracy: 0.7037\n",
            "Epoch 464/500\n",
            "482/482 [==============================] - 0s 30us/step - loss: 0.5411 - categorical_accuracy: 0.7220 - val_loss: 0.8663 - val_categorical_accuracy: 0.7037\n",
            "Epoch 465/500\n",
            "482/482 [==============================] - 0s 33us/step - loss: 0.5409 - categorical_accuracy: 0.7220 - val_loss: 0.8696 - val_categorical_accuracy: 0.6852\n",
            "Epoch 466/500\n",
            "482/482 [==============================] - 0s 37us/step - loss: 0.5413 - categorical_accuracy: 0.7178 - val_loss: 0.8746 - val_categorical_accuracy: 0.7222\n",
            "Epoch 467/500\n",
            "482/482 [==============================] - 0s 36us/step - loss: 0.5410 - categorical_accuracy: 0.7158 - val_loss: 0.8743 - val_categorical_accuracy: 0.7037\n",
            "Epoch 468/500\n",
            "482/482 [==============================] - 0s 33us/step - loss: 0.5405 - categorical_accuracy: 0.7199 - val_loss: 0.8764 - val_categorical_accuracy: 0.7037\n",
            "Epoch 469/500\n",
            "482/482 [==============================] - 0s 33us/step - loss: 0.5399 - categorical_accuracy: 0.7199 - val_loss: 0.8767 - val_categorical_accuracy: 0.7037\n",
            "Epoch 470/500\n",
            "482/482 [==============================] - 0s 30us/step - loss: 0.5397 - categorical_accuracy: 0.7241 - val_loss: 0.8724 - val_categorical_accuracy: 0.7037\n",
            "Epoch 471/500\n",
            "482/482 [==============================] - 0s 29us/step - loss: 0.5392 - categorical_accuracy: 0.7241 - val_loss: 0.8725 - val_categorical_accuracy: 0.7037\n",
            "Epoch 472/500\n",
            "482/482 [==============================] - 0s 27us/step - loss: 0.5386 - categorical_accuracy: 0.7241 - val_loss: 0.8738 - val_categorical_accuracy: 0.7037\n",
            "Epoch 473/500\n",
            "482/482 [==============================] - 0s 32us/step - loss: 0.5384 - categorical_accuracy: 0.7241 - val_loss: 0.8744 - val_categorical_accuracy: 0.7037\n",
            "Epoch 474/500\n",
            "482/482 [==============================] - 0s 30us/step - loss: 0.5381 - categorical_accuracy: 0.7241 - val_loss: 0.8794 - val_categorical_accuracy: 0.7037\n",
            "Epoch 475/500\n",
            "482/482 [==============================] - 0s 25us/step - loss: 0.5381 - categorical_accuracy: 0.7199 - val_loss: 0.8807 - val_categorical_accuracy: 0.7037\n",
            "Epoch 476/500\n",
            "482/482 [==============================] - 0s 29us/step - loss: 0.5371 - categorical_accuracy: 0.7220 - val_loss: 0.8804 - val_categorical_accuracy: 0.7037\n",
            "Epoch 477/500\n",
            "482/482 [==============================] - 0s 32us/step - loss: 0.5371 - categorical_accuracy: 0.7220 - val_loss: 0.8795 - val_categorical_accuracy: 0.7037\n",
            "Epoch 478/500\n",
            "482/482 [==============================] - 0s 32us/step - loss: 0.5366 - categorical_accuracy: 0.7241 - val_loss: 0.8738 - val_categorical_accuracy: 0.7037\n",
            "Epoch 479/500\n",
            "482/482 [==============================] - 0s 30us/step - loss: 0.5369 - categorical_accuracy: 0.7241 - val_loss: 0.8698 - val_categorical_accuracy: 0.7037\n",
            "Epoch 480/500\n",
            "482/482 [==============================] - 0s 28us/step - loss: 0.5370 - categorical_accuracy: 0.7220 - val_loss: 0.8726 - val_categorical_accuracy: 0.7037\n",
            "Epoch 481/500\n",
            "482/482 [==============================] - 0s 27us/step - loss: 0.5373 - categorical_accuracy: 0.7199 - val_loss: 0.8751 - val_categorical_accuracy: 0.7037\n",
            "Epoch 482/500\n",
            "482/482 [==============================] - 0s 32us/step - loss: 0.5366 - categorical_accuracy: 0.7220 - val_loss: 0.8765 - val_categorical_accuracy: 0.7037\n",
            "Epoch 483/500\n",
            "482/482 [==============================] - 0s 32us/step - loss: 0.5360 - categorical_accuracy: 0.7241 - val_loss: 0.8761 - val_categorical_accuracy: 0.7037\n",
            "Epoch 484/500\n",
            "482/482 [==============================] - 0s 41us/step - loss: 0.5360 - categorical_accuracy: 0.7241 - val_loss: 0.8741 - val_categorical_accuracy: 0.7037\n",
            "Epoch 485/500\n",
            "482/482 [==============================] - 0s 39us/step - loss: 0.5358 - categorical_accuracy: 0.7199 - val_loss: 0.8715 - val_categorical_accuracy: 0.7037\n",
            "Epoch 486/500\n",
            "482/482 [==============================] - 0s 35us/step - loss: 0.5357 - categorical_accuracy: 0.7178 - val_loss: 0.8674 - val_categorical_accuracy: 0.7037\n",
            "Epoch 487/500\n",
            "482/482 [==============================] - 0s 33us/step - loss: 0.5357 - categorical_accuracy: 0.7178 - val_loss: 0.8664 - val_categorical_accuracy: 0.7037\n",
            "Epoch 488/500\n",
            "482/482 [==============================] - 0s 26us/step - loss: 0.5355 - categorical_accuracy: 0.7241 - val_loss: 0.8667 - val_categorical_accuracy: 0.7037\n",
            "Epoch 489/500\n",
            "482/482 [==============================] - 0s 41us/step - loss: 0.5355 - categorical_accuracy: 0.7241 - val_loss: 0.8712 - val_categorical_accuracy: 0.7037\n",
            "Epoch 490/500\n",
            "482/482 [==============================] - 0s 30us/step - loss: 0.5352 - categorical_accuracy: 0.7220 - val_loss: 0.8787 - val_categorical_accuracy: 0.7037\n",
            "Epoch 491/500\n",
            "482/482 [==============================] - 0s 29us/step - loss: 0.5350 - categorical_accuracy: 0.7220 - val_loss: 0.8865 - val_categorical_accuracy: 0.7037\n",
            "Epoch 492/500\n",
            "482/482 [==============================] - 0s 37us/step - loss: 0.5351 - categorical_accuracy: 0.7220 - val_loss: 0.8916 - val_categorical_accuracy: 0.7037\n",
            "Epoch 493/500\n",
            "482/482 [==============================] - 0s 50us/step - loss: 0.5350 - categorical_accuracy: 0.7261 - val_loss: 0.8905 - val_categorical_accuracy: 0.7037\n",
            "Epoch 494/500\n",
            "482/482 [==============================] - 0s 30us/step - loss: 0.5347 - categorical_accuracy: 0.7241 - val_loss: 0.8908 - val_categorical_accuracy: 0.7037\n",
            "Epoch 495/500\n",
            "482/482 [==============================] - 0s 30us/step - loss: 0.5346 - categorical_accuracy: 0.7241 - val_loss: 0.8941 - val_categorical_accuracy: 0.7037\n",
            "Epoch 496/500\n",
            "482/482 [==============================] - 0s 30us/step - loss: 0.5345 - categorical_accuracy: 0.7241 - val_loss: 0.8963 - val_categorical_accuracy: 0.7037\n",
            "Epoch 497/500\n",
            "482/482 [==============================] - 0s 38us/step - loss: 0.5343 - categorical_accuracy: 0.7241 - val_loss: 0.8980 - val_categorical_accuracy: 0.7037\n",
            "Epoch 498/500\n",
            "482/482 [==============================] - 0s 33us/step - loss: 0.5338 - categorical_accuracy: 0.7241 - val_loss: 0.8993 - val_categorical_accuracy: 0.7037\n",
            "Epoch 499/500\n",
            "482/482 [==============================] - 0s 31us/step - loss: 0.5345 - categorical_accuracy: 0.7220 - val_loss: 0.8987 - val_categorical_accuracy: 0.7037\n",
            "Epoch 500/500\n",
            "482/482 [==============================] - 0s 36us/step - loss: 0.5339 - categorical_accuracy: 0.7220 - val_loss: 0.8984 - val_categorical_accuracy: 0.7037\n"
          ],
          "name": "stdout"
        }
      ]
    },
    {
      "cell_type": "code",
      "metadata": {
        "id": "iLnxpNkCxFZ1",
        "colab_type": "code",
        "outputId": "669ce442-a7e2-4b26-b5bb-bb4698f5cdda",
        "colab": {
          "base_uri": "https://localhost:8080/",
          "height": 50
        }
      },
      "source": [
        "# test our model against the hidden one\n",
        "score, acc = as_model.evaluate([sex_test, ages_test], y_test)\n",
        "\n",
        "print (\"Score: %.2f, Accuracy: %f\" % (score, acc)) # just by running a deep learning model with the goddamn ages and gender, wtf"
      ],
      "execution_count": 93,
      "outputs": [
        {
          "output_type": "stream",
          "text": [
            "60/60 [==============================] - 0s 150us/step\n",
            "Score: 0.49, Accuracy: 0.783333\n"
          ],
          "name": "stdout"
        }
      ]
    },
    {
      "cell_type": "code",
      "metadata": {
        "id": "0p6xrWCyR0cO",
        "colab_type": "code",
        "colab": {
          "base_uri": "https://localhost:8080/",
          "height": 84
        },
        "outputId": "7a6cbe4f-bcad-490c-9693-07c406a6697b"
      },
      "source": [
        "## BUILD CONFUSION MATRIX\n",
        "y_train_preds = as_model.predict([sex_train, ages_train])\n",
        "y_train_real = y_train\n",
        "\n",
        "y_test_preds = as_model.predict([sex_test, ages_test])\n",
        "y_test_real = y_test\n",
        "\n",
        "# Turn to binary outputs\n",
        "y_train_preds_binary = to_binary(y_train_preds)\n",
        "y_train_real_binary = to_binary(y_train_real)\n",
        "\n",
        "y_test_preds_binary = to_binary(y_test_preds)\n",
        "y_test_real_binary = to_binary(y_test_real)\n",
        "\n",
        "# MAKE CONFUSION MATRIX, can also do the same for train data\n",
        "print (confusion_matrix(y_train_real_binary, y_train_preds_binary))\n",
        "print (confusion_matrix(y_test_real_binary, y_test_preds_binary))"
      ],
      "execution_count": 94,
      "outputs": [
        {
          "output_type": "stream",
          "text": [
            "[[ 34 138]\n",
            " [ 12 352]]\n",
            "[[ 4 10]\n",
            " [ 3 43]]\n"
          ],
          "name": "stdout"
        }
      ]
    },
    {
      "cell_type": "code",
      "metadata": {
        "id": "ysTchue5QU2i",
        "colab_type": "code",
        "outputId": "c0c35b92-57f3-427d-c8eb-60c77c49f73b",
        "colab": {
          "base_uri": "https://localhost:8080/",
          "height": 574
        }
      },
      "source": [
        "# Plot training & validation accuracy values\n",
        "plt.plot(history.history['categorical_accuracy'])\n",
        "plt.plot(history.history['val_categorical_accuracy'])\n",
        "plt.title('Model accuracy')\n",
        "plt.ylabel('Accuracy')\n",
        "plt.xlabel('Epoch')\n",
        "plt.legend(['Train', 'Val'], loc='upper left')\n",
        "# save\n",
        "# plt.savefig('all_mprage_grappa/z_tests/keep_models/as_model_plot_acc.png')\n",
        "plt.show()\n",
        "\n",
        "# Plot training & validation loss values\n",
        "plt.plot(history.history['loss'])\n",
        "plt.plot(history.history['val_loss'])\n",
        "plt.title('Model loss')\n",
        "plt.ylabel('Loss')\n",
        "plt.xlabel('Epoch')\n",
        "plt.legend(['Train', 'Val'], loc='upper left')\n",
        "# save\n",
        "# plt.savefig('all_mprage_grappa/z_tests/keep_models/as_model_plot_val.png')\n",
        "plt.show()"
      ],
      "execution_count": 95,
      "outputs": [
        {
          "output_type": "display_data",
          "data": {
            "image/png": "[encoded data removed]",
            "text/plain": [
              "<Figure size 432x288 with 1 Axes>"
            ]
          },
          "metadata": {
            "tags": []
          }
        },
        {
          "output_type": "display_data",
          "data": {
            "image/png": "[encoded data removed]",
            "text/plain": [
              "<Figure size 432x288 with 1 Axes>"
            ]
          },
          "metadata": {
            "tags": []
          }
        }
      ]
    },
    {
      "cell_type": "code",
      "metadata": {
        "id": "E4Esb6vfqURV",
        "colab_type": "code",
        "colab": {}
      },
      "source": [
        "# save our best model\n",
        "# pickle.dump( as_model, open( \"all_mprage_grappa/z_tests/keep_models/as_model.pkl\", \"wb\" ) )\n",
        "# load model\n",
        "# as_model = pickle.load( open( \"all_mprage_grappa/z_tests/keep_models/as_model.pkl\", \"rb\" ) )"
      ],
      "execution_count": 0,
      "outputs": []
    },
    {
      "cell_type": "markdown",
      "metadata": {
        "id": "aBO4xI1FbIR3",
        "colab_type": "text"
      },
      "source": [
        "**Testing our model with an independent batch of data**"
      ]
    },
    {
      "cell_type": "code",
      "metadata": {
        "id": "8ARhPhXtQWUk",
        "colab_type": "code",
        "colab": {}
      },
      "source": [
        "# load our pickle batch of data\n",
        "with open('all_mprage_grappa/processed_brains_aug/dbatch4.pkl', 'rb') as f: # also 'total_slices_all.pkl' ## RENAMED 5 TO 7, TESTING IT\n",
        "  total_slices_test, total_slices_info_test = pickle.load(f) # stored_batches/total_slices_batch5"
      ],
      "execution_count": 0,
      "outputs": []
    },
    {
      "cell_type": "code",
      "metadata": {
        "id": "4-x9fN2IfVqy",
        "colab_type": "code",
        "outputId": "64d54b7f-ff52-4ca7-ccef-a902427cf3f8",
        "colab": {
          "base_uri": "https://localhost:8080/",
          "height": 34
        }
      },
      "source": [
        "np.shape(total_slices_test)"
      ],
      "execution_count": 15,
      "outputs": [
        {
          "output_type": "execute_result",
          "data": {
            "text/plain": [
              "(58, 160, 160, 160, 1)"
            ]
          },
          "metadata": {
            "tags": []
          },
          "execution_count": 15
        }
      ]
    },
    {
      "cell_type": "code",
      "metadata": {
        "id": "iYjNw77Lt7nt",
        "colab_type": "code",
        "colab": {}
      },
      "source": [
        "# make the set an array\n",
        "total_slices_test = np.array(total_slices_test)\n",
        "\n",
        "# independent test\n",
        "y_test, sex_test, ages_test = get_classification(total_slices_info_test)"
      ],
      "execution_count": 0,
      "outputs": []
    },
    {
      "cell_type": "code",
      "metadata": {
        "id": "u_mFSZqfvBCK",
        "colab_type": "code",
        "outputId": "26ec20f0-3a41-45f1-fe8e-38b669f5ee47",
        "colab": {
          "base_uri": "https://localhost:8080/",
          "height": 50
        }
      },
      "source": [
        "# test our model against the independent set\n",
        "score, acc = as_model.evaluate([sex_test, ages_test], y_test)\n",
        "\n",
        "print (\"Score: %.2f, Accuracy: %f\" % (score, acc)) "
      ],
      "execution_count": 17,
      "outputs": [
        {
          "output_type": "stream",
          "text": [
            "58/58 [==============================] - 0s 103us/step\n",
            "Score: 0.73, Accuracy: 0.517241\n"
          ],
          "name": "stdout"
        }
      ]
    },
    {
      "cell_type": "markdown",
      "metadata": {
        "id": "VNCAXUfgbYIs",
        "colab_type": "text"
      },
      "source": [
        "**Make predictions with our as model**"
      ]
    },
    {
      "cell_type": "code",
      "metadata": {
        "id": "1kQ5Mrw5wsVp",
        "colab_type": "code",
        "colab": {}
      },
      "source": [
        "as_train_preds = as_model.predict([sex_train, ages_train]) # this is what we will feed into next model\n",
        "as_test_preds = as_model.predict([sex_test, ages_test]) # this is what we will use when testing"
      ],
      "execution_count": 0,
      "outputs": []
    },
    {
      "cell_type": "markdown",
      "metadata": {
        "id": "hA2N4vQ7yVEv",
        "colab_type": "text"
      },
      "source": [
        "**Next part, get predictions from model on ages and sex and predictions from images, feed into another deep NN to try to predict the output, then test accuracy**"
      ]
    },
    {
      "cell_type": "code",
      "metadata": {
        "id": "T3v84hoBy5AE",
        "colab_type": "code",
        "colab": {
          "base_uri": "https://localhost:8080/",
          "height": 87
        },
        "outputId": "6009a0d5-bc75-4e63-8d05-0e97fd4ecece"
      },
      "source": [
        "# ALTERNATIVELY: load our cnn_models\n",
        "cnn_model = load_model('all_mprage_grappa/stored_models/model4x/model40_aug_v0.h5') # take 040, best performing one so far"
      ],
      "execution_count": 19,
      "outputs": [
        {
          "output_type": "stream",
          "text": [
            "W0624 16:17:28.772655 139906754799488 deprecation.py:506] From /usr/local/lib/python3.6/dist-packages/keras/backend/tensorflow_backend.py:3445: calling dropout (from tensorflow.python.ops.nn_ops) with keep_prob is deprecated and will be removed in a future version.\n",
            "Instructions for updating:\n",
            "Please use `rate` instead of `keep_prob`. Rate should be set to `rate = 1 - keep_prob`.\n"
          ],
          "name": "stderr"
        }
      ]
    },
    {
      "cell_type": "code",
      "metadata": {
        "id": "DYHzkS1kxKWX",
        "colab_type": "code",
        "outputId": "b78c17d0-9493-4bdc-a25f-2736a612500c",
        "colab": {
          "base_uri": "https://localhost:8080/",
          "height": 50
        }
      },
      "source": [
        "#load batch slices, predict and aggregate scores\n",
        "cnn_train_preds = []\n",
        "\n",
        "# load the pickle (train with 0 to 3)\n",
        "print (training_batch_f)\n",
        "for tbf in training_batch_f:\n",
        "  with open('all_mprage_grappa/processed_brains_aug/'+tbf, 'rb') as f:\n",
        "    total_slices, total_slices_info = pickle.load(f) \n",
        "    # predict and aggregate\n",
        "    total_slices = np.array(total_slices)\n",
        "    \n",
        "    # split and predict, too many to handle otherwise and will crash\n",
        "    sub_arrays = np.array_split(total_slices, 50)\n",
        "    \n",
        "    for i in range(len(sub_arrays)):\n",
        "      \n",
        "      sub_array = sub_arrays[i]\n",
        "      cnn_prediction = cnn_model.predict(sub_array)\n",
        "      cnn_train_preds.extend(cnn_prediction)\n",
        "    \n",
        "print (np.shape(cnn_train_preds))"
      ],
      "execution_count": 20,
      "outputs": [
        {
          "output_type": "stream",
          "text": [
            "['dbatch0.pkl', 'dbatch1.pkl', 'dbatch2.pkl']\n",
            "(300, 2)\n"
          ],
          "name": "stdout"
        }
      ]
    },
    {
      "cell_type": "code",
      "metadata": {
        "id": "UU5fMHzOjWmq",
        "colab_type": "code",
        "colab": {}
      },
      "source": [
        "# also get the test predictions\n",
        "cnn_test_preds = cnn_model.predict(total_slices_test)"
      ],
      "execution_count": 0,
      "outputs": []
    },
    {
      "cell_type": "code",
      "metadata": {
        "id": "u0UzJCQti-pb",
        "colab_type": "code",
        "colab": {}
      },
      "source": [
        "## Save our preds (cause it takes ages to build)\n",
        "# pickle.dump( cnn_train_preds, open( \"all_mprage_grappa/z_tests/cnn_training_preds.pkl\", \"wb\" ) )\n",
        "# pickle.dump( cnn_test_preds, open( \"all_mprage_grappa/z_tests/cnn_test_preds.pkl\", \"wb\" ) )\n",
        "## load model\n",
        "cnn_train_preds = pickle.load( open( \"all_mprage_grappa/z_tests/cnn_training_preds.pkl\", \"rb\" ) )\n",
        "cnn_test_preds = pickle.load( open( \"all_mprage_grappa/z_tests/cnn_test_preds.pkl\", \"rb\" ) )"
      ],
      "execution_count": 0,
      "outputs": []
    },
    {
      "cell_type": "markdown",
      "metadata": {
        "id": "lPaXsBh1NzDc",
        "colab_type": "text"
      },
      "source": [
        "**Now make deep learning framework where we load our cnn train preds, our as train preds and aggregate**"
      ]
    },
    {
      "cell_type": "code",
      "metadata": {
        "id": "MJYsnoPcwwue",
        "colab_type": "code",
        "colab": {}
      },
      "source": [
        "def to_binary(cat_array):\n",
        "  '''Function to convert categorical back to binary values'''\n",
        "  binary_output_array = []\n",
        "  for i in range(len(cat_array)):\n",
        "    binary_output_array.append(np.argmax(cat_array[i]))\n",
        "    \n",
        "  binary_output_array = np.array(binary_output_array)\n",
        "  return binary_output_array"
      ],
      "execution_count": 0,
      "outputs": []
    },
    {
      "cell_type": "code",
      "metadata": {
        "id": "c3NgFPpkMq17",
        "colab_type": "code",
        "colab": {}
      },
      "source": [
        "# Create MLP models\n",
        "mlp_cnn = create_mlp(2, regress=False) # value of 1 for binary, 2 for categorical\n",
        "mlp_as = create_mlp(2, regress=False)\n",
        "\n",
        "# create the input to our final set of layers as the *output* of both\n",
        "# the MLP and CNN\n",
        "combined_input_two = concatenate([mlp_cnn.output, mlp_as.output])\n",
        "\n",
        "# our final FC layer head will have two dense layers, the final one\n",
        "# being our regression head\n",
        "z = Dense(8, activation=\"relu\")(combined_input_two)\n",
        "z = Dropout(0.2)(z)\n",
        "z = Dense(2, activation=\"sigmoid\")(z)\n",
        "\n",
        "# our final model will accept categorical/numerical data on the MLP\n",
        "# input and images on the CNN input, outputting a single value (the\n",
        "# predicted price of the house)\n",
        "combined_model = Model(inputs=[mlp_cnn.input, mlp_as.input], outputs=z)"
      ],
      "execution_count": 0,
      "outputs": []
    },
    {
      "cell_type": "code",
      "metadata": {
        "id": "SDKsn3mJSYNR",
        "colab_type": "code",
        "outputId": "58b20d60-4b23-43da-c18a-40da5afce28c",
        "colab": {
          "base_uri": "https://localhost:8080/",
          "height": 354
        }
      },
      "source": [
        "# compile our model\n",
        "combined_model.compile(loss=\"categorical_crossentropy\", optimizer=Adam(lr=1e-3, decay=1e-3 / 200), \n",
        "              metrics = ['categorical_accuracy']) # decay in Adam..\n",
        "\n",
        "# train the model\n",
        "print(\"training model...\")\n",
        "combined_model.fit([cnn_train_preds, as_train_preds], y_train, validation_split=0.1, epochs=200)"
      ],
      "execution_count": 25,
      "outputs": [
        {
          "output_type": "stream",
          "text": [
            "training model...\n"
          ],
          "name": "stdout"
        },
        {
          "output_type": "error",
          "ename": "ValueError",
          "evalue": "ignored",
          "traceback": [
            "\u001b[0;31m---------------------------------------------------------------------------\u001b[0m",
            "\u001b[0;31mValueError\u001b[0m                                Traceback (most recent call last)",
            "\u001b[0;32m<ipython-input-25-5763f0b74b4b>\u001b[0m in \u001b[0;36m<module>\u001b[0;34m()\u001b[0m\n\u001b[1;32m      4\u001b[0m \u001b[0;31m# train the model\u001b[0m\u001b[0;34m\u001b[0m\u001b[0;34m\u001b[0m\u001b[0;34m\u001b[0m\u001b[0m\n\u001b[1;32m      5\u001b[0m \u001b[0mprint\u001b[0m\u001b[0;34m(\u001b[0m\u001b[0;34m\"training model...\"\u001b[0m\u001b[0;34m)\u001b[0m\u001b[0;34m\u001b[0m\u001b[0;34m\u001b[0m\u001b[0m\n\u001b[0;32m----> 6\u001b[0;31m \u001b[0mcombined_model\u001b[0m\u001b[0;34m.\u001b[0m\u001b[0mfit\u001b[0m\u001b[0;34m(\u001b[0m\u001b[0;34m[\u001b[0m\u001b[0mcnn_train_preds\u001b[0m\u001b[0;34m,\u001b[0m \u001b[0mas_train_preds\u001b[0m\u001b[0;34m]\u001b[0m\u001b[0;34m,\u001b[0m \u001b[0my_train\u001b[0m\u001b[0;34m,\u001b[0m \u001b[0mvalidation_split\u001b[0m\u001b[0;34m=\u001b[0m\u001b[0;36m0.1\u001b[0m\u001b[0;34m,\u001b[0m \u001b[0mepochs\u001b[0m\u001b[0;34m=\u001b[0m\u001b[0;36m200\u001b[0m\u001b[0;34m)\u001b[0m\u001b[0;34m\u001b[0m\u001b[0;34m\u001b[0m\u001b[0m\n\u001b[0m",
            "\u001b[0;32m/usr/local/lib/python3.6/dist-packages/keras/engine/training.py\u001b[0m in \u001b[0;36mfit\u001b[0;34m(self, x, y, batch_size, epochs, verbose, callbacks, validation_split, validation_data, shuffle, class_weight, sample_weight, initial_epoch, steps_per_epoch, validation_steps, **kwargs)\u001b[0m\n\u001b[1;32m    950\u001b[0m             \u001b[0msample_weight\u001b[0m\u001b[0;34m=\u001b[0m\u001b[0msample_weight\u001b[0m\u001b[0;34m,\u001b[0m\u001b[0;34m\u001b[0m\u001b[0;34m\u001b[0m\u001b[0m\n\u001b[1;32m    951\u001b[0m             \u001b[0mclass_weight\u001b[0m\u001b[0;34m=\u001b[0m\u001b[0mclass_weight\u001b[0m\u001b[0;34m,\u001b[0m\u001b[0;34m\u001b[0m\u001b[0;34m\u001b[0m\u001b[0m\n\u001b[0;32m--> 952\u001b[0;31m             batch_size=batch_size)\n\u001b[0m\u001b[1;32m    953\u001b[0m         \u001b[0;31m# Prepare validation data.\u001b[0m\u001b[0;34m\u001b[0m\u001b[0;34m\u001b[0m\u001b[0;34m\u001b[0m\u001b[0m\n\u001b[1;32m    954\u001b[0m         \u001b[0mdo_validation\u001b[0m \u001b[0;34m=\u001b[0m \u001b[0;32mFalse\u001b[0m\u001b[0;34m\u001b[0m\u001b[0;34m\u001b[0m\u001b[0m\n",
            "\u001b[0;32m/usr/local/lib/python3.6/dist-packages/keras/engine/training.py\u001b[0m in \u001b[0;36m_standardize_user_data\u001b[0;34m(self, x, y, sample_weight, class_weight, check_array_lengths, batch_size)\u001b[0m\n\u001b[1;32m    802\u001b[0m             ]\n\u001b[1;32m    803\u001b[0m             \u001b[0;31m# Check that all arrays have the same length.\u001b[0m\u001b[0;34m\u001b[0m\u001b[0;34m\u001b[0m\u001b[0;34m\u001b[0m\u001b[0m\n\u001b[0;32m--> 804\u001b[0;31m             \u001b[0mcheck_array_length_consistency\u001b[0m\u001b[0;34m(\u001b[0m\u001b[0mx\u001b[0m\u001b[0;34m,\u001b[0m \u001b[0my\u001b[0m\u001b[0;34m,\u001b[0m \u001b[0msample_weights\u001b[0m\u001b[0;34m)\u001b[0m\u001b[0;34m\u001b[0m\u001b[0;34m\u001b[0m\u001b[0m\n\u001b[0m\u001b[1;32m    805\u001b[0m             \u001b[0;32mif\u001b[0m \u001b[0mself\u001b[0m\u001b[0;34m.\u001b[0m\u001b[0m_is_graph_network\u001b[0m\u001b[0;34m:\u001b[0m\u001b[0;34m\u001b[0m\u001b[0;34m\u001b[0m\u001b[0m\n\u001b[1;32m    806\u001b[0m                 \u001b[0;31m# Additional checks to avoid users mistakenly\u001b[0m\u001b[0;34m\u001b[0m\u001b[0;34m\u001b[0m\u001b[0;34m\u001b[0m\u001b[0m\n",
            "\u001b[0;32m/usr/local/lib/python3.6/dist-packages/keras/engine/training_utils.py\u001b[0m in \u001b[0;36mcheck_array_length_consistency\u001b[0;34m(inputs, targets, weights)\u001b[0m\n\u001b[1;32m    226\u001b[0m         raise ValueError('All input arrays (x) should have '\n\u001b[1;32m    227\u001b[0m                          \u001b[0;34m'the same number of samples. Got array shapes: '\u001b[0m \u001b[0;34m+\u001b[0m\u001b[0;34m\u001b[0m\u001b[0;34m\u001b[0m\u001b[0m\n\u001b[0;32m--> 228\u001b[0;31m                          str([x.shape for x in inputs]))\n\u001b[0m\u001b[1;32m    229\u001b[0m     \u001b[0;32mif\u001b[0m \u001b[0mlen\u001b[0m\u001b[0;34m(\u001b[0m\u001b[0mset_y\u001b[0m\u001b[0;34m)\u001b[0m \u001b[0;34m>\u001b[0m \u001b[0;36m1\u001b[0m\u001b[0;34m:\u001b[0m\u001b[0;34m\u001b[0m\u001b[0;34m\u001b[0m\u001b[0m\n\u001b[1;32m    230\u001b[0m         raise ValueError('All target arrays (y) should have '\n",
            "\u001b[0;31mValueError\u001b[0m: All input arrays (x) should have the same number of samples. Got array shapes: [(300, 2), (536, 2)]"
          ]
        }
      ]
    },
    {
      "cell_type": "code",
      "metadata": {
        "id": "xx-CqpxPUSPe",
        "colab_type": "code",
        "colab": {}
      },
      "source": [
        "# pickle.dump( combined_model, open( \"all_mprage_grappa/z_tests/combined_model_binary.pkl\", \"wb\" ) )"
      ],
      "execution_count": 0,
      "outputs": []
    },
    {
      "cell_type": "markdown",
      "metadata": {
        "id": "ENTzWL9pTTYR",
        "colab_type": "text"
      },
      "source": [
        "**Load last one and test it out**"
      ]
    },
    {
      "cell_type": "code",
      "metadata": {
        "id": "us7wRSU2S4rc",
        "colab_type": "code",
        "colab": {}
      },
      "source": [
        "# get predictions of cnn_model on test data\n",
        "# get predictions of as_model on test data\n",
        "# input these predictions into our combined_model\n",
        "# evaluate these against the actual y-value, pray it is not overfitted..."
      ],
      "execution_count": 0,
      "outputs": []
    },
    {
      "cell_type": "code",
      "metadata": {
        "id": "wsGbpSiXWamH",
        "colab_type": "code",
        "colab": {}
      },
      "source": [
        "cm_score, cm_acc = combined_model.evaluate([cnn_test_preds, as_preds_test], y_test)\n",
        "\n",
        "print (\"Combined model score: %.2f, and combined model accuracy: %.2f\" % (cm_score, cm_acc))"
      ],
      "execution_count": 0,
      "outputs": []
    },
    {
      "cell_type": "markdown",
      "metadata": {
        "id": "IRtf-HdCoJI0",
        "colab_type": "text"
      },
      "source": [
        "**Try: XGboosting the training predicted outputs**"
      ]
    },
    {
      "cell_type": "code",
      "metadata": {
        "id": "wZDlLxAzqkaP",
        "colab_type": "code",
        "colab": {}
      },
      "source": [
        "from xgboost import XGBClassifier\n",
        "from scipy.sparse import csr_matrix\n",
        "from sklearn.metrics import accuracy_score"
      ],
      "execution_count": 0,
      "outputs": []
    },
    {
      "cell_type": "code",
      "metadata": {
        "id": "IyBt5S9aw_Ta",
        "colab_type": "code",
        "colab": {}
      },
      "source": [
        "# convert everything to binary\n",
        "cnn_train_preds_binary = to_binary(cnn_train_preds)\n",
        "as_train_preds_binary = to_binary(as_preds_train)\n",
        "y_train_binary = to_binary(y_train)\n",
        "\n",
        "cnn_test_preds_binary = to_binary(cnn_preds_test)\n",
        "as_test_preds_binary = to_binary(as_preds_test)\n",
        "y_test_binary = to_binary(y_values_test)"
      ],
      "execution_count": 0,
      "outputs": []
    },
    {
      "cell_type": "code",
      "metadata": {
        "id": "p7vxZoNjxyo_",
        "colab_type": "code",
        "colab": {}
      },
      "source": [
        "np.shape(y_train_binary) # no worky"
      ],
      "execution_count": 0,
      "outputs": []
    },
    {
      "cell_type": "code",
      "metadata": {
        "id": "umVR6Q_esX_L",
        "colab_type": "code",
        "colab": {}
      },
      "source": [
        "# make into a matrix and input this into our space\n",
        "\n",
        "combined_zipped_train = list(zip(cnn_train_preds_binary, as_train_preds_binary))\n",
        "combined_zipped_train = np.array(combined_zipped_train)\n",
        "\n",
        "# fit model with training data\n",
        "xgb_model = XGBClassifier()\n",
        "xgb_model.fit(combined_zipped_train, y_train)"
      ],
      "execution_count": 0,
      "outputs": []
    },
    {
      "cell_type": "code",
      "metadata": {
        "id": "yrOAKOxjrZYE",
        "colab_type": "code",
        "colab": {}
      },
      "source": [
        "combined_zipped_test = list(zip(cnn_preds_test, as_preds_test))\n",
        "combined_zipped_test = np.array(combined_zipped_test)\n",
        "\n",
        "y_values_predictions = []\n",
        "for i in range(len(combined_zipped_test)):\n",
        "  cz_test_csr = csr_matrix(combined_zipped_test[i])\n",
        "  xgb_preds = xgb_model.predict(cz_test_csr)\n",
        "  y_values_predictions.append(xgb_preds)\n",
        "  \n",
        "y_values_predictions = np.array(y_values_predictions)"
      ],
      "execution_count": 0,
      "outputs": []
    },
    {
      "cell_type": "code",
      "metadata": {
        "id": "BbDhTUzOvcJG",
        "colab_type": "code",
        "colab": {}
      },
      "source": [
        "accuracy_score(y_values_test, y_values_predictions, normalize=True)"
      ],
      "execution_count": 0,
      "outputs": []
    },
    {
      "cell_type": "code",
      "metadata": {
        "id": "AIUzf6sUW73T",
        "colab_type": "code",
        "colab": {}
      },
      "source": [
        "cnn_train_preds # train with this as an input\n",
        "as_preds_train # another input\n",
        "y_train # ideal output\n",
        "\n",
        "#test\n",
        "cnn_preds_test\n",
        "as_preds_test\n",
        "y_values_test\n"
      ],
      "execution_count": 0,
      "outputs": []
    },
    {
      "cell_type": "code",
      "metadata": {
        "id": "Ag8O6PliZPPo",
        "colab_type": "code",
        "colab": {}
      },
      "source": [
        ""
      ],
      "execution_count": 0,
      "outputs": []
    },
    {
      "cell_type": "markdown",
      "metadata": {
        "id": "JyXxbK0vbB3B",
        "colab_type": "text"
      },
      "source": [
        "To try: reverse classification on each model and feed these in, see how our model holds up. Then do the same for our test and compare"
      ]
    },
    {
      "cell_type": "code",
      "metadata": {
        "id": "srl7AdZxbIaG",
        "colab_type": "code",
        "colab": {}
      },
      "source": [
        ""
      ],
      "execution_count": 0,
      "outputs": []
    }
  ]
}