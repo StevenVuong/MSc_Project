{
  "nbformat": 4,
  "nbformat_minor": 0,
  "metadata": {
    "colab": {
      "name": "Step 2.ipynb",
      "version": "0.3.2",
      "provenance": [],
      "collapsed_sections": [],
      "include_colab_link": true
    },
    "kernelspec": {
      "name": "python3",
      "display_name": "Python 3"
    },
    "accelerator": "GPU"
  },
  "cells": [
    {
      "cell_type": "markdown",
      "metadata": {
        "id": "view-in-github",
        "colab_type": "text"
      },
      "source": [
        "<a href=\"https://colab.research.google.com/github/StevenVuong/MSc_Project/blob/master/Step_2.ipynb\" target=\"_parent\"><img src=\"https://colab.research.google.com/assets/colab-badge.svg\" alt=\"Open In Colab\"/></a>"
      ]
    },
    {
      "cell_type": "markdown",
      "metadata": {
        "id": "LbyHDTsckJza",
        "colab_type": "text"
      },
      "source": [
        "**Processing should be done in this notebook, training the model**"
      ]
    },
    {
      "cell_type": "code",
      "metadata": {
        "id": "ZoF1f31WkApY",
        "colab_type": "code",
        "outputId": "5b2d1b81-4e00-4cd5-cb77-2e7cf35630c3",
        "colab": {
          "base_uri": "https://localhost:8080/",
          "height": 34
        }
      },
      "source": [
        "# Standard imports\n",
        "import pandas as pd\n",
        "import numpy as np\n",
        "import matplotlib.pyplot as plt\n",
        "import seaborn as sns\n",
        "%matplotlib inline\n",
        "\n",
        "# other imports to handle files\n",
        "import os\n",
        "import pickle\n",
        "import csv\n",
        "\n",
        "# deep learning imports\n",
        "from keras.models import Sequential, load_model\n",
        "from keras.layers.core import Dense, Dropout, Activation, Flatten\n",
        "from keras.layers.convolutional import Convolution3D, MaxPooling3D, Convolution1D\n",
        "from keras.layers.normalization import BatchNormalization\n",
        "from keras.optimizers import SGD, RMSprop, Adam\n",
        "from keras.utils import np_utils, generic_utils, to_categorical\n",
        "from keras.layers import LeakyReLU\n",
        "from keras import regularizers\n",
        "\n",
        "# to split our dataset\n",
        "from sklearn.model_selection import train_test_split\n",
        "from sklearn.metrics import accuracy_score\n",
        "\n",
        "# to mount our drive\n",
        "from google.colab import drive"
      ],
      "execution_count": 1,
      "outputs": [
        {
          "output_type": "stream",
          "text": [
            "Using TensorFlow backend.\n"
          ],
          "name": "stderr"
        }
      ]
    },
    {
      "cell_type": "code",
      "metadata": {
        "id": "8Dn-QWq5kHsa",
        "colab_type": "code",
        "outputId": "fe19af92-e988-4c54-feac-ea37f4448679",
        "colab": {
          "base_uri": "https://localhost:8080/",
          "height": 138
        }
      },
      "source": [
        "# mount google drive into google colab\n",
        "drive.mount('/content/gdrive')\n",
        "\n",
        "os.chdir('/content')\n",
        "\n",
        "# go to where we will be working\n",
        "print (os.listdir())\n",
        "os.chdir('gdrive/My Drive/msc_project/all_mprage_grappa')"
      ],
      "execution_count": 2,
      "outputs": [
        {
          "output_type": "stream",
          "text": [
            "Go to this URL in a browser: https://accounts.google.com/o/oauth2/auth?client_id=947318989803-6bn6qk8qdgf4n4g3pfee6491hc0brc4i.apps.googleusercontent.com&redirect_uri=urn%3Aietf%3Awg%3Aoauth%3A2.0%3Aoob&scope=email%20https%3A%2F%2Fwww.googleapis.com%2Fauth%2Fdocs.test%20https%3A%2F%2Fwww.googleapis.com%2Fauth%2Fdrive%20https%3A%2F%2Fwww.googleapis.com%2Fauth%2Fdrive.photos.readonly%20https%3A%2F%2Fwww.googleapis.com%2Fauth%2Fpeopleapi.readonly&response_type=code\n",
            "\n",
            "Enter your authorization code:\n",
            "··········\n",
            "Mounted at /content/gdrive\n",
            "['.config', 'gdrive', 'sample_data']\n"
          ],
          "name": "stdout"
        }
      ]
    },
    {
      "cell_type": "markdown",
      "metadata": {
        "id": "3rgruIswlvMv",
        "colab_type": "text"
      },
      "source": [
        "**Load our batches and build the model**"
      ]
    },
    {
      "cell_type": "code",
      "metadata": {
        "id": "gATeg_-pkWlw",
        "colab_type": "code",
        "colab": {}
      },
      "source": [
        "# gets our y-values and converts to keras, one hot encoded outputs\n",
        "def get_y_values(total_slices_info):\n",
        "  \n",
        "  y_values = [s[2] for s in total_slices_info]\n",
        "\n",
        "  y_values = np.array(to_categorical(y_values, 2))\n",
        "  \n",
        "  return y_values"
      ],
      "execution_count": 0,
      "outputs": []
    },
    {
      "cell_type": "code",
      "metadata": {
        "id": "qi8Pgw98mWgz",
        "colab_type": "code",
        "colab": {}
      },
      "source": [
        "def initialise_model():\n",
        "\n",
        "  # compile our model\n",
        "  model = Sequential()\n",
        "  \n",
        "  model.add(Convolution3D(filters=32, kernel_size=3, padding='same', strides=1, input_shape=(160,160,160,1),\n",
        "                          kernel_regularizer=regularizers.l2(0.005), bias_regularizer=regularizers.l2(0.005))) # padding on first one only?\n",
        "  model.add(LeakyReLU(alpha=0.20)) # set to 0.01\n",
        "  model.add(BatchNormalization(momentum=0.5))\n",
        "  model.add(MaxPooling3D(pool_size=2, strides=1, padding='same')) # pool_size=2\n",
        "  # could user he_norm kernel initializer?\n",
        "  \n",
        "  model.add(Convolution3D(filters=64, kernel_size=3, padding='same', strides=1,\n",
        "                          kernel_regularizer=regularizers.l2(0.005), bias_regularizer=regularizers.l2(0.005))) # padding on first one only?\n",
        "  model.add(LeakyReLU(alpha=0.20)) # set to 0.01\n",
        "  model.add(BatchNormalization(momentum=0.5))\n",
        "  model.add(MaxPooling3D(pool_size=2, strides=2, padding='same')) # pool_size=2\n",
        "  \n",
        "  model.add(Convolution3D(filters=128, kernel_size=3, padding='same', strides=2,\n",
        "                          kernel_regularizer=regularizers.l2(0.005), bias_regularizer=regularizers.l2(0.005))) # padding on first one only?\n",
        "  model.add(LeakyReLU(alpha=0.2)) # set to 0.01\n",
        "  model.add(BatchNormalization(momentum=0.5))\n",
        "  model.add(MaxPooling3D(pool_size=2, strides=2, padding='same')) # pool_size=2\n",
        "\n",
        "  model.add(Convolution3D(filters=256, kernel_size=3, padding='same', strides=2,\n",
        "                          kernel_regularizer=regularizers.l2(0.005), bias_regularizer=regularizers.l2(0.005))) # padding on first one only?\n",
        "  model.add(LeakyReLU(alpha=0.20)) # set to 0.01\n",
        "  model.add(BatchNormalization(momentum=0.5))\n",
        "  model.add(MaxPooling3D(pool_size=2, strides=2, padding='same')) # pool_size=2\n",
        "\n",
        "  model.add(Flatten())\n",
        "   \n",
        "  model.add(Dense(512, kernel_regularizer=regularizers.l2(0.005)))\n",
        "  model.add(LeakyReLU(alpha=0.2)) # set to 0.01\n",
        "  \n",
        "  model.add(Dropout(0.40)) # add dropout to prevent overfitting\n",
        "  \n",
        "  model.add(Dense(64, kernel_regularizer=regularizers.l2(0.005)))\n",
        "  model.add(LeakyReLU(alpha=0.2)) # set to 0.01\n",
        "  \n",
        "  model.add(Dropout(0.45)) # add dropout to prevent overfitting\n",
        "\n",
        "  model.add(Dense(2, activation='softmax'))\n",
        "\n",
        "  model.compile(optimizer=Adam(lr=0.001), loss='categorical_crossentropy',metrics = ['categorical_accuracy'])\n",
        "\n",
        "  return model"
      ],
      "execution_count": 0,
      "outputs": []
    },
    {
      "cell_type": "code",
      "metadata": {
        "id": "7xVngjzAmZ1S",
        "colab_type": "code",
        "outputId": "cba1e542-0586-43dc-ae7b-25c950dd7aed",
        "colab": {
          "base_uri": "https://localhost:8080/",
          "height": 941
        }
      },
      "source": [
        "# Initialise Model!\n",
        "model = initialise_model()\n",
        "model.summary()"
      ],
      "execution_count": 20,
      "outputs": [
        {
          "output_type": "stream",
          "text": [
            "_________________________________________________________________\n",
            "Layer (type)                 Output Shape              Param #   \n",
            "=================================================================\n",
            "conv3d_25 (Conv3D)           (None, 160, 160, 160, 32) 896       \n",
            "_________________________________________________________________\n",
            "leaky_re_lu_37 (LeakyReLU)   (None, 160, 160, 160, 32) 0         \n",
            "_________________________________________________________________\n",
            "batch_normalization_25 (Batc (None, 160, 160, 160, 32) 128       \n",
            "_________________________________________________________________\n",
            "max_pooling3d_25 (MaxPooling (None, 160, 160, 160, 32) 0         \n",
            "_________________________________________________________________\n",
            "conv3d_26 (Conv3D)           (None, 160, 160, 160, 64) 55360     \n",
            "_________________________________________________________________\n",
            "leaky_re_lu_38 (LeakyReLU)   (None, 160, 160, 160, 64) 0         \n",
            "_________________________________________________________________\n",
            "batch_normalization_26 (Batc (None, 160, 160, 160, 64) 256       \n",
            "_________________________________________________________________\n",
            "max_pooling3d_26 (MaxPooling (None, 80, 80, 80, 64)    0         \n",
            "_________________________________________________________________\n",
            "conv3d_27 (Conv3D)           (None, 40, 40, 40, 128)   221312    \n",
            "_________________________________________________________________\n",
            "leaky_re_lu_39 (LeakyReLU)   (None, 40, 40, 40, 128)   0         \n",
            "_________________________________________________________________\n",
            "batch_normalization_27 (Batc (None, 40, 40, 40, 128)   512       \n",
            "_________________________________________________________________\n",
            "max_pooling3d_27 (MaxPooling (None, 20, 20, 20, 128)   0         \n",
            "_________________________________________________________________\n",
            "conv3d_28 (Conv3D)           (None, 10, 10, 10, 256)   884992    \n",
            "_________________________________________________________________\n",
            "leaky_re_lu_40 (LeakyReLU)   (None, 10, 10, 10, 256)   0         \n",
            "_________________________________________________________________\n",
            "batch_normalization_28 (Batc (None, 10, 10, 10, 256)   1024      \n",
            "_________________________________________________________________\n",
            "max_pooling3d_28 (MaxPooling (None, 5, 5, 5, 256)      0         \n",
            "_________________________________________________________________\n",
            "flatten_7 (Flatten)          (None, 32000)             0         \n",
            "_________________________________________________________________\n",
            "dense_19 (Dense)             (None, 512)               16384512  \n",
            "_________________________________________________________________\n",
            "leaky_re_lu_41 (LeakyReLU)   (None, 512)               0         \n",
            "_________________________________________________________________\n",
            "dropout_13 (Dropout)         (None, 512)               0         \n",
            "_________________________________________________________________\n",
            "dense_20 (Dense)             (None, 64)                32832     \n",
            "_________________________________________________________________\n",
            "leaky_re_lu_42 (LeakyReLU)   (None, 64)                0         \n",
            "_________________________________________________________________\n",
            "dropout_14 (Dropout)         (None, 64)                0         \n",
            "_________________________________________________________________\n",
            "dense_21 (Dense)             (None, 2)                 130       \n",
            "=================================================================\n",
            "Total params: 17,581,954\n",
            "Trainable params: 17,580,994\n",
            "Non-trainable params: 960\n",
            "_________________________________________________________________\n"
          ],
          "name": "stdout"
        }
      ]
    },
    {
      "cell_type": "code",
      "metadata": {
        "id": "d6xTykx-mdMd",
        "colab_type": "code",
        "colab": {}
      },
      "source": [
        "def get_metrics(hist):\n",
        "  ''' Function to get our metrics from history and score as inputs'''\n",
        "\n",
        "  # actually obtain our metrics\n",
        "  val_loss = hist.history['val_loss'][0]\n",
        "  val_acc = hist.history['val_categorical_accuracy'][0]\n",
        "  train_loss = hist.history['loss'][0]\n",
        "  train_acc = hist.history['categorical_accuracy'][0]\n",
        "\n",
        "  # put everything into one array\n",
        "  return [val_loss, val_acc, train_loss, train_acc]"
      ],
      "execution_count": 0,
      "outputs": []
    },
    {
      "cell_type": "code",
      "metadata": {
        "id": "RoGsfBTwJZnG",
        "colab_type": "code",
        "colab": {}
      },
      "source": [
        "# https://stackoverflow.com/questions/4601373/better-way-to-shuffle-two-numpy-arrays-in-unison\n",
        "def unison_shuffled_copies(a, b):\n",
        "    assert len(a) == len(b)\n",
        "    p = np.random.permutation(len(a))\n",
        "    return a[p], b[p]"
      ],
      "execution_count": 0,
      "outputs": []
    },
    {
      "cell_type": "code",
      "metadata": {
        "id": "Ha5tDwx2Px-f",
        "colab_type": "code",
        "colab": {}
      },
      "source": [
        "def past_accuracies_fn(current_list, hist):\n",
        "  '''Check if we have hit 100 accuracy for our entire dataset.\n",
        "  If mean of 1, break, otherwise append to current list'''\n",
        "  current_list = np.array(current_list)\n",
        "\n",
        "  # only take 1 onward\n",
        "  current_list = np.append(current_list, hist.history['categorical_accuracy'][0])\n",
        "  current_list = current_list[1:]\n",
        "  return current_list "
      ],
      "execution_count": 0,
      "outputs": []
    },
    {
      "cell_type": "code",
      "metadata": {
        "id": "mxngidoAmawg",
        "colab_type": "code",
        "outputId": "a6ca6e2d-61d9-48ee-b494-ee88d3165b3f",
        "colab": {
          "base_uri": "https://localhost:8080/",
          "height": 269
        }
      },
      "source": [
        "ppath = 'processed_brains/processed_brains_aug' # where to get the batches from\n",
        "nname = '91_aug_v' # what to save as\n",
        "# train on all, perhaps have different conditions for when we reach our last one\n",
        "total_slices_train = os.listdir(ppath)[:4] # train on first 4, test on last one ###Need to update this\n",
        "\n",
        "# Initialise Model!\n",
        "model = initialise_model()\n",
        "\n",
        "# set number of repeats and iterations\n",
        "num_loopz = 1\n",
        "num_iterations = 100\n",
        "\n",
        "# stops when training accuracy is 1 across the board\n",
        "past_accuracies = np.zeros(3)\n",
        "break_at_100 = 'YES' # basic boolean switch\n",
        "\n",
        "for kk in range(num_loopz):\n",
        "  \n",
        "  file_name = (nname+str(kk)) ###filename, what we are changing\n",
        "  for iteration in range(num_iterations):\n",
        "    \n",
        "    # check if we have training accuracy of 100, if so, exit training loop\n",
        "    if ((np.mean(past_accuracies) == 1) and (break_at_100=='YES')):\n",
        "      print (\"Hit 100 on training accuracies\")\n",
        "      break\n",
        "      \n",
        "    print (\"--------------------------------------------------------------------\")\n",
        "    print (\"Current accuracy on training sets: %.2f \" % np.mean(past_accuracies))\n",
        "    print (\"--------------------------------------------------------------------\")\n",
        "\n",
        "    # load and fit our model for our instances\n",
        "    for tsf in total_slices_train:\n",
        "      pkl_path = ppath+'/'+tsf\n",
        "\n",
        "      # load pickle file\n",
        "      with open(pkl_path, 'rb') as f:\n",
        "        total_slices, total_slices_info = pickle.load(f)\n",
        "        \n",
        "        ## total_slices[:, 18:146,18:146,18:146, :] # to cut down to 128,128,128\n",
        "        \n",
        "      print (\"Iteration: %d, batch %s\" % (iteration, tsf[-5])) # print up here instead\n",
        "      \n",
        "      # Only take certain part of our slice\n",
        "\n",
        "      \n",
        "      # convert to numpy array\n",
        "      total_slices = np.array(total_slices)\n",
        "      # process y-values\n",
        "      y_values = get_y_values(total_slices_info)\n",
        "\n",
        "      # shuffle both of these\n",
        "      # total_slices, y_values = unison_shuffled_copies(total_slices, y_values)\n",
        "\n",
        "      # Run our model with validation of 5%\n",
        "      hist = model.fit(x=total_slices, y=y_values, batch_size = 1, epochs=1, verbose=1, shuffle=True,validation_split=0.05)\n",
        "      # add to running totals\n",
        "      past_accuracies = past_accuracies_fn(past_accuracies, hist) \n",
        "      # get metrics\n",
        "      metrics = get_metrics(hist)\n",
        "\n",
        "      # write to csv (want to append instead of overwrite)\n",
        "      with open('stored_metrics/metrics'+file_name+'.csv', 'a') as csvFile:\n",
        "          writer = csv.writer(csvFile)\n",
        "          writer.writerow(metrics)\n",
        "      csvFile.close()\n",
        "\n",
        "  # save the model as reference, incase we need the brain heatmap\n",
        "  model.save('stored_models/model'+file_name+'.h5', overwrite=True)  # saves as a hd5 file"
      ],
      "execution_count": 0,
      "outputs": [
        {
          "output_type": "stream",
          "text": [
            "--------------------------------------------------------------------\n",
            "Current accuracy on training sets: 0.00 \n",
            "--------------------------------------------------------------------\n",
            "Iteration: 0, batch 0\n",
            "Train on 95 samples, validate on 5 samples\n",
            "Epoch 1/1\n",
            "95/95 [==============================] - 121s 1s/step - loss: 11.2659 - categorical_accuracy: 0.6316 - val_loss: 10.9218 - val_categorical_accuracy: 0.6000\n",
            "Iteration: 0, batch 1\n",
            "Train on 95 samples, validate on 5 samples\n",
            "Epoch 1/1\n",
            "95/95 [==============================] - 107s 1s/step - loss: 10.9616 - categorical_accuracy: 0.5579 - val_loss: 16.1906 - val_categorical_accuracy: 0.2000\n",
            "Iteration: 0, batch 2\n",
            "Train on 95 samples, validate on 5 samples\n",
            "Epoch 1/1\n",
            "41/95 [===========>..................] - ETA: 59s - loss: 8.6227 - categorical_accuracy: 0.6585 "
          ],
          "name": "stdout"
        }
      ]
    },
    {
      "cell_type": "code",
      "metadata": {
        "id": "HpFB9HkBSQ6_",
        "colab_type": "code",
        "colab": {}
      },
      "source": [
        "    "
      ],
      "execution_count": 0,
      "outputs": []
    }
  ]
}