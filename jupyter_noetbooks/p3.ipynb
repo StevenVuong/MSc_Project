{
  "nbformat": 4,
  "nbformat_minor": 0,
  "metadata": {
    "colab": {
      "name": "p3.ipynb",
      "version": "0.3.2",
      "provenance": [],
      "collapsed_sections": [],
      "include_colab_link": true
    },
    "kernelspec": {
      "name": "python3",
      "display_name": "Python 3"
    },
    "accelerator": "GPU"
  },
  "cells": [
    {
      "cell_type": "markdown",
      "metadata": {
        "id": "view-in-github",
        "colab_type": "text"
      },
      "source": [
        "<a href=\"https://colab.research.google.com/github/StevenVuong/MSc_Project/blob/master/p3.ipynb\" target=\"_parent\"><img src=\"https://colab.research.google.com/assets/colab-badge.svg\" alt=\"Open In Colab\"/></a>"
      ]
    },
    {
      "cell_type": "markdown",
      "metadata": {
        "id": "EcuiN5_8q_e4",
        "colab_type": "text"
      },
      "source": [
        "**This notebook aims to bring together the df and loaded files to implement them in a Deep Learning Model**"
      ]
    },
    {
      "cell_type": "code",
      "metadata": {
        "id": "HRYoomKprOlj",
        "colab_type": "code",
        "colab": {}
      },
      "source": [
        "import pandas as pd\n",
        "import numpy as np\n",
        "import matplotlib.pyplot as plt\n",
        "%matplotlib inline\n",
        "import os\n",
        "import pickle\n",
        "from sklearn.model_selection import train_test_split\n",
        "import nibabel as nb\n",
        "import seaborn as sns"
      ],
      "execution_count": 0,
      "outputs": []
    },
    {
      "cell_type": "code",
      "metadata": {
        "id": "sOGUaJQYz0hb",
        "colab_type": "code",
        "colab": {}
      },
      "source": [
        "# imports for keras model\n",
        "from keras.models import Sequential\n",
        "from keras.layers.core import Dense, Dropout, Activation, Flatten\n",
        "from keras.layers.convolutional import Convolution3D, MaxPooling3D, Convolution1D\n",
        "from keras.layers.normalization import BatchNormalization\n",
        "from keras.optimizers import SGD, RMSprop, Adam\n",
        "from keras.utils import np_utils, generic_utils\n",
        "from keras.layers import LeakyReLU\n",
        "from keras import regularizers"
      ],
      "execution_count": 0,
      "outputs": []
    },
    {
      "cell_type": "code",
      "metadata": {
        "id": "Lcp0O27gq7rM",
        "colab_type": "code",
        "outputId": "8c5b636a-52f2-4cd4-fc8e-60a864016875",
        "colab": {
          "base_uri": "https://localhost:8080/",
          "height": 50
        }
      },
      "source": [
        "from google.colab import drive\n",
        "\n",
        "# mount google drive into google colab\n",
        "drive.mount('/content/gdrive')\n",
        "\n",
        "os.chdir('/content')\n",
        "\n",
        "# go to where the data is\n",
        "print (os.listdir())\n",
        "os.chdir('gdrive/My Drive/msc_project')"
      ],
      "execution_count": 20,
      "outputs": [
        {
          "output_type": "stream",
          "text": [
            "Drive already mounted at /content/gdrive; to attempt to forcibly remount, call drive.mount(\"/content/gdrive\", force_remount=True).\n",
            "['.config', 'gdrive', 'sample_data']\n"
          ],
          "name": "stdout"
        }
      ]
    },
    {
      "cell_type": "markdown",
      "metadata": {
        "id": "uNO8nIA0rr_J",
        "colab_type": "text"
      },
      "source": [
        "**Load Dataframe and Pickle**"
      ]
    },
    {
      "cell_type": "code",
      "metadata": {
        "id": "RpCBM2asrNEX",
        "colab_type": "code",
        "colab": {}
      },
      "source": [
        "patient_df = pd.read_pickle('processed_patient_df.pkl')\n",
        "\n",
        "with open('total_slices_all.pkl', 'rb') as f:\n",
        "    total_slices, total_slices_info = pickle.load(f)"
      ],
      "execution_count": 0,
      "outputs": []
    },
    {
      "cell_type": "code",
      "metadata": {
        "id": "jCiRNeynrCoT",
        "colab_type": "code",
        "colab": {
          "base_uri": "https://localhost:8080/",
          "height": 34
        },
        "outputId": "3064153e-d004-42c9-8c10-e0ae9894ad7a"
      },
      "source": [
        "np.shape(total_slices)"
      ],
      "execution_count": 22,
      "outputs": [
        {
          "output_type": "execute_result",
          "data": {
            "text/plain": [
              "(102, 200, 200, 160, 1)"
            ]
          },
          "metadata": {
            "tags": []
          },
          "execution_count": 22
        }
      ]
    },
    {
      "cell_type": "code",
      "metadata": {
        "id": "KSXrUcCsaZPB",
        "colab_type": "code",
        "outputId": "60c4b14b-a7e7-4f70-eaee-0b7746a2c8e1",
        "colab": {
          "base_uri": "https://localhost:8080/",
          "height": 195
        }
      },
      "source": [
        "# establish control and pd df's\n",
        "df_control = patient_df[patient_df.Group == 0] \n",
        "df_pd = patient_df[patient_df.Group == 1] \n",
        "\n",
        "patient_df.head()"
      ],
      "execution_count": 23,
      "outputs": [
        {
          "output_type": "execute_result",
          "data": {
            "text/html": [
              "<div>\n",
              "<style scoped>\n",
              "    .dataframe tbody tr th:only-of-type {\n",
              "        vertical-align: middle;\n",
              "    }\n",
              "\n",
              "    .dataframe tbody tr th {\n",
              "        vertical-align: top;\n",
              "    }\n",
              "\n",
              "    .dataframe thead th {\n",
              "        text-align: right;\n",
              "    }\n",
              "</style>\n",
              "<table border=\"1\" class=\"dataframe\">\n",
              "  <thead>\n",
              "    <tr style=\"text-align: right;\">\n",
              "      <th></th>\n",
              "      <th>Image Data ID</th>\n",
              "      <th>Subject</th>\n",
              "      <th>Group</th>\n",
              "      <th>Sex</th>\n",
              "      <th>Age</th>\n",
              "      <th>Visit</th>\n",
              "      <th>Modality</th>\n",
              "      <th>Description</th>\n",
              "      <th>Type</th>\n",
              "      <th>Acq Date</th>\n",
              "      <th>Format</th>\n",
              "      <th>Downloaded</th>\n",
              "    </tr>\n",
              "  </thead>\n",
              "  <tbody>\n",
              "    <tr>\n",
              "      <th>197</th>\n",
              "      <td>353477</td>\n",
              "      <td>3750</td>\n",
              "      <td>0</td>\n",
              "      <td>M</td>\n",
              "      <td>54</td>\n",
              "      <td>5</td>\n",
              "      <td>MRI</td>\n",
              "      <td>MPRAGE GRAPPA</td>\n",
              "      <td>Original</td>\n",
              "      <td>10/10/2012</td>\n",
              "      <td>DCM</td>\n",
              "      <td>NaN</td>\n",
              "    </tr>\n",
              "    <tr>\n",
              "      <th>198</th>\n",
              "      <td>368584</td>\n",
              "      <td>3638</td>\n",
              "      <td>1</td>\n",
              "      <td>M</td>\n",
              "      <td>66</td>\n",
              "      <td>1</td>\n",
              "      <td>MRI</td>\n",
              "      <td>SAG T1 3D MPRAGE</td>\n",
              "      <td>Original</td>\n",
              "      <td>4/02/2013</td>\n",
              "      <td>DCM</td>\n",
              "      <td>NaN</td>\n",
              "    </tr>\n",
              "    <tr>\n",
              "      <th>199</th>\n",
              "      <td>363979</td>\n",
              "      <td>3637</td>\n",
              "      <td>0</td>\n",
              "      <td>M</td>\n",
              "      <td>57</td>\n",
              "      <td>1</td>\n",
              "      <td>MRI</td>\n",
              "      <td>SAG T1 3D MPRAGE</td>\n",
              "      <td>Original</td>\n",
              "      <td>2/27/2013</td>\n",
              "      <td>DCM</td>\n",
              "      <td>NaN</td>\n",
              "    </tr>\n",
              "    <tr>\n",
              "      <th>200</th>\n",
              "      <td>362046</td>\n",
              "      <td>3636</td>\n",
              "      <td>0</td>\n",
              "      <td>M</td>\n",
              "      <td>64</td>\n",
              "      <td>1</td>\n",
              "      <td>MRI</td>\n",
              "      <td>SAG T1 3D MPRAGE</td>\n",
              "      <td>Original</td>\n",
              "      <td>2/22/2013</td>\n",
              "      <td>DCM</td>\n",
              "      <td>NaN</td>\n",
              "    </tr>\n",
              "    <tr>\n",
              "      <th>201</th>\n",
              "      <td>362045</td>\n",
              "      <td>3635</td>\n",
              "      <td>0</td>\n",
              "      <td>M</td>\n",
              "      <td>57</td>\n",
              "      <td>1</td>\n",
              "      <td>MRI</td>\n",
              "      <td>SAG T1 3D MPRAGE</td>\n",
              "      <td>Original</td>\n",
              "      <td>2/07/2013</td>\n",
              "      <td>DCM</td>\n",
              "      <td>NaN</td>\n",
              "    </tr>\n",
              "  </tbody>\n",
              "</table>\n",
              "</div>"
            ],
            "text/plain": [
              "     Image Data ID  Subject  Group Sex  ...      Type    Acq Date Format Downloaded\n",
              "197         353477     3750      0   M  ...  Original  10/10/2012    DCM        NaN\n",
              "198         368584     3638      1   M  ...  Original   4/02/2013    DCM        NaN\n",
              "199         363979     3637      0   M  ...  Original   2/27/2013    DCM        NaN\n",
              "200         362046     3636      0   M  ...  Original   2/22/2013    DCM        NaN\n",
              "201         362045     3635      0   M  ...  Original   2/07/2013    DCM        NaN\n",
              "\n",
              "[5 rows x 12 columns]"
            ]
          },
          "metadata": {
            "tags": []
          },
          "execution_count": 23
        }
      ]
    },
    {
      "cell_type": "markdown",
      "metadata": {
        "id": "USadebeguPrR",
        "colab_type": "text"
      },
      "source": [
        "**Split data into training and test set**"
      ]
    },
    {
      "cell_type": "code",
      "metadata": {
        "id": "VIcEIgKcuU1J",
        "colab_type": "code",
        "outputId": "f3d14221-68b3-4282-a922-17f5caf21323",
        "colab": {
          "base_uri": "https://localhost:8080/",
          "height": 34
        }
      },
      "source": [
        "from keras.utils import to_categorical\n",
        "\n",
        "def get_y_values(total_slices_info):\n",
        "  \n",
        "  y_values = [s[2] for s in total_slices_info]\n",
        "\n",
        "  # convert to 'keras friendly outputs'\n",
        "  y_values = np.array(to_categorical(y_values, 2))\n",
        "  \n",
        "  return y_values\n",
        "\n",
        "y_values = get_y_values(total_slices_info)\n",
        "\n",
        "# print distribution of the array\n",
        "num_controls = np.unique(y_values, return_counts=True)[1][0]\n",
        "num_pd = np.unique(y_values, return_counts=True)[1][1]\n",
        "\n",
        "pct_controls = (num_controls/ np.sum([num_controls, num_pd])) * 100\n",
        "pct_pd = (num_pd / np.sum([num_controls, num_pd])) * 100\n",
        "print (\"%s%% Control and %s%% PD\" % (pct_controls, pct_pd))"
      ],
      "execution_count": 24,
      "outputs": [
        {
          "output_type": "stream",
          "text": [
            "50.0% Control and 50.0% PD\n"
          ],
          "name": "stdout"
        }
      ]
    },
    {
      "cell_type": "code",
      "metadata": {
        "id": "auG6d1LMxD-M",
        "colab_type": "code",
        "outputId": "75b017aa-5606-47c4-c95a-573759955986",
        "colab": {
          "base_uri": "https://localhost:8080/",
          "height": 34
        }
      },
      "source": [
        "from sklearn.model_selection import train_test_split\n",
        "\n",
        "# split into training and test set\n",
        "X_train, X_test, y_train, y_test = train_test_split(total_slices, y_values, test_size=0.2, shuffle=True)\n",
        "\n",
        "np.shape(total_slices) # how many y-outputs"
      ],
      "execution_count": 18,
      "outputs": [
        {
          "output_type": "execute_result",
          "data": {
            "text/plain": [
              "(102, 200, 200, 160, 1)"
            ]
          },
          "metadata": {
            "tags": []
          },
          "execution_count": 18
        }
      ]
    },
    {
      "cell_type": "code",
      "metadata": {
        "id": "Cen3M2QpSw01",
        "colab_type": "code",
        "colab": {}
      },
      "source": [
        "# What if we train another model based on the age and sex and then later combined with the deep learning model. Triple deep learning. Total slices have an order with y-values\n",
        "# can predict on total slices and then use output into next NN, simple 3 layer architecture for final part to implement age and sex into our model"
      ],
      "execution_count": 0,
      "outputs": []
    },
    {
      "cell_type": "code",
      "metadata": {
        "id": "n0aTN-JSi_TL",
        "colab_type": "code",
        "colab": {
          "base_uri": "https://localhost:8080/",
          "height": 34
        },
        "outputId": "ad1ce277-de50-4ccd-9a9a-ede6f1c744ce"
      },
      "source": [
        "270/350"
      ],
      "execution_count": 7,
      "outputs": [
        {
          "output_type": "execute_result",
          "data": {
            "text/plain": [
              "0.7714285714285715"
            ]
          },
          "metadata": {
            "tags": []
          },
          "execution_count": 7
        }
      ]
    },
    {
      "cell_type": "markdown",
      "metadata": {
        "id": "q1wiMiOZz3CM",
        "colab_type": "text"
      },
      "source": [
        "**Model Architecture**\n",
        "Could potentially split data into chunks of 50 post processing (randomly sample 50 at a time and save that for our data set), train model with one epoch per chunk and save in batches, save, continue etc.. Then once that is done then validate on one chunk that is left out. Saving different parameters in our deep learning framework"
      ]
    },
    {
      "cell_type": "code",
      "metadata": {
        "id": "QDZ2ihEFhjkT",
        "colab_type": "code",
        "colab": {}
      },
      "source": [
        "# compile our model\n",
        "model = Sequential()\n",
        "\n",
        "model.add(Convolution3D(filters=8, kernel_size=2, padding='same', \n",
        "                        input_shape=(200,200,160,1), kernel_regularizer=regularizers.l2(0.05),\n",
        "                       use_bias = True) # padding on first one only?\n",
        "model.add(LeakyReLU(alpha=0.01)) # set to 0.01\n",
        "model.add(MaxPooling3D(pool_size=2)) # pool_size=2\n",
        "## model.add(BatchNormalization(momentum=0.99)) # something to consider next level, moving mean and variance\n",
        "\n",
        "model.add(Convolution3D(filters=16, kernel_size=2))\n",
        "model.add(LeakyReLU(alpha=0.01)) \n",
        "model.add(MaxPooling3D(pool_size=2))\n",
        "## model.add(BatchNormalization(momentum=0.99))\n",
        "\n",
        "model.add(Convolution3D(filters=32, kernel_size=3))\n",
        "model.add(LeakyReLU())\n",
        "model.add(MaxPooling3D(pool_size=2))\n",
        "## model.add(BatchNormalization(momentum=0.99))\n",
        "\n",
        "model.add(Convolution3D(filters=64, kernel_size=3))\n",
        "model.add(LeakyReLU(alpha=0.01))\n",
        "model.add(MaxPooling3D(pool_size=2))\n",
        "## model.add(BatchNormalization(momentum=0.99))\n",
        "\n",
        "model.add(Convolution3D(filters=128, kernel_size=2))\n",
        "model.add(LeakyReLU(alpha=0.01))\n",
        "model.add(MaxPooling3D(pool_size=2))\n",
        "## model.add(BatchNormalization(momentum=0.99))\n",
        "\n",
        "model.add(Convolution3D(filters=256, kernel_size=2))\n",
        "model.add(LeakyReLU(alpha=0.01))\n",
        "model.add(MaxPooling3D(pool_size=2))\n",
        "## model.add(BatchNormalization(momentum=0.99))\n",
        "\n",
        "model.add(Flatten())\n",
        "# model.add(Dropout(0.45)) # add dropout to prevent overfitting\n",
        "model.add(Dense(512))\n",
        "model.add(LeakyReLU(alpha=0.01))\n",
        "\n",
        "# model.add(Dropout(0.2))\n",
        "model.add(Dense(2, activation='softmax'))\n",
        "\n",
        "model.compile(optimizer=Adam(lr=0.00005), loss='categorical_crossentropy',metrics = ['accuracy']) # metrics=['categorical_accuracy']\n",
        "          \n",
        "# experiment with literally everything?... Random Search with optimisers"
      ],
      "execution_count": 0,
      "outputs": []
    },
    {
      "cell_type": "code",
      "metadata": {
        "id": "eVedtkSg1i4D",
        "colab_type": "code",
        "colab": {}
      },
      "source": [
        "# investigate what possible 'good' combinations are first..\n",
        "# model.summary()"
      ],
      "execution_count": 0,
      "outputs": []
    },
    {
      "cell_type": "markdown",
      "metadata": {
        "id": "9jxY5Wi_KYm4",
        "colab_type": "text"
      },
      "source": [
        "**RUNNING THE MODEL!**"
      ]
    },
    {
      "cell_type": "markdown",
      "metadata": {
        "id": "vF_A3_4LLC94",
        "colab_type": "text"
      },
      "source": [
        "-  First train with Just architecture\n",
        "-  Then add dropout layer"
      ]
    },
    {
      "cell_type": "code",
      "metadata": {
        "id": "4rCFD8VS1kMQ",
        "colab_type": "code",
        "outputId": "9b2cf8e6-cd75-4fb1-fbfa-198053782966",
        "colab": {
          "base_uri": "https://localhost:8080/",
          "height": 336
        }
      },
      "source": [
        "model.fit(x=X_train, y=y_train, batch_size=5, epochs=12, verbose=1,\n",
        "          validation_split=0.2, shuffle=True)"
      ],
      "execution_count": 0,
      "outputs": [
        {
          "output_type": "stream",
          "text": [
            "Train on 64 samples, validate on 17 samples\n",
            "Epoch 1/12\n",
            "64/64 [==============================] - 9s 135ms/step - loss: 3.4619 - acc: 0.7500 - val_loss: 6.6369 - val_acc: 0.5882\n",
            "Epoch 2/12\n",
            "64/64 [==============================] - 7s 114ms/step - loss: 3.5258 - acc: 0.7813 - val_loss: 6.6369 - val_acc: 0.5882\n",
            "Epoch 3/12\n",
            "64/64 [==============================] - 7s 115ms/step - loss: 3.5258 - acc: 0.7813 - val_loss: 6.6369 - val_acc: 0.5882\n",
            "Epoch 4/12\n",
            "64/64 [==============================] - 7s 115ms/step - loss: 3.5258 - acc: 0.7813 - val_loss: 6.6369 - val_acc: 0.5882\n",
            "Epoch 5/12\n",
            "64/64 [==============================] - 7s 115ms/step - loss: 3.5258 - acc: 0.7813 - val_loss: 6.6369 - val_acc: 0.5882\n",
            "Epoch 6/12\n",
            "64/64 [==============================] - 7s 115ms/step - loss: 3.5258 - acc: 0.7813 - val_loss: 6.6369 - val_acc: 0.5882\n",
            "Epoch 7/12\n",
            "64/64 [==============================] - 7s 115ms/step - loss: 3.5258 - acc: 0.7813 - val_loss: 6.6369 - val_acc: 0.5882\n",
            "Epoch 8/12\n",
            "64/64 [==============================] - 7s 114ms/step - loss: 3.5258 - acc: 0.7813 - val_loss: 6.6369 - val_acc: 0.5882\n",
            "Epoch 9/12\n",
            " 5/64 [=>............................] - ETA: 6s - loss: 3.2236 - acc: 0.8000"
          ],
          "name": "stdout"
        }
      ]
    },
    {
      "cell_type": "code",
      "metadata": {
        "id": "v7X-HuBJ3Vs7",
        "colab_type": "code",
        "colab": {}
      },
      "source": [
        "score = model.evaluate(X_test[:20], y_test[:20], verbose=1)\n",
        "print('Test score:', score[0])\n",
        "print('Test accuracy:', score[1])"
      ],
      "execution_count": 0,
      "outputs": []
    },
    {
      "cell_type": "markdown",
      "metadata": {
        "id": "KnCeYcBKMIHq",
        "colab_type": "text"
      },
      "source": [
        "-  Dropouts for dense layers do not seem to make a difference, actually makes the accuracy worse. What if we try to implement it in the middle of our architecture?\n",
        "-  Larger batch sizes seem to make a difference, up to 17, play about with this\n",
        "-  Accuracy on training set goes to 1, then lower on validation set.. Definitely overfitted.. To quite a large margin, 1 vs 0.47 on validation\n",
        "-  Beastly one has 95% accuracy, not consistent, shuffle is on so shouldn't make that much of a difference. Dropout doesn't seem to improve our results, try kernel initializer\n",
        "-  1024 on last dense increases accuracy on test to 0.947??! Instead of 512. Though more fitted to the training set, overfitted much more likely.. So take 3 and average as a method?"
      ]
    },
    {
      "cell_type": "code",
      "metadata": {
        "id": "IyqKXWl3NCRU",
        "colab_type": "code",
        "colab": {}
      },
      "source": [
        "from keras.models import load_model\n",
        "\n",
        "# load and run a saved model\n",
        "# model = load_model('my_model.h5') # such a beastly model here.."
      ],
      "execution_count": 0,
      "outputs": []
    },
    {
      "cell_type": "code",
      "metadata": {
        "id": "A0b-HANx4nei",
        "colab_type": "code",
        "colab": {}
      },
      "source": [
        "# save the model to use in future\n",
        "# model.save('my_model.h5', overwrite=True)  # creates a HDF5 file 'my_model.h5'"
      ],
      "execution_count": 0,
      "outputs": []
    },
    {
      "cell_type": "markdown",
      "metadata": {
        "id": "Axei2GR6Ixew",
        "colab_type": "text"
      },
      "source": [
        "Next Steps: (Once we ge tthe whole data set)\n",
        "-  Add age and gender to FC layers\n",
        "-  Add Normalisation\n",
        "-  Add Bias and Kernel Regularisation (coefficient 0.001)\n",
        "-  Add Dropout layers to last two layers (Keep coefficient of 0.45 and 0.5): http://www.jmlr.org/papers/volume15/srivastava14a/srivastava14a.pdf\n",
        "-  Momentum?\n",
        "-  Change architecture / layers /parameters, increase filters then decrease again"
      ]
    },
    {
      "cell_type": "markdown",
      "metadata": {
        "id": "LkCX2iluV-Nf",
        "colab_type": "text"
      },
      "source": [
        "**VISUALISATIONS**"
      ]
    },
    {
      "cell_type": "code",
      "metadata": {
        "id": "vZEUjHKHaWf3",
        "colab_type": "code",
        "outputId": "f2a35e4b-38fe-4b2e-9f4a-d74222b456b7",
        "colab": {
          "base_uri": "https://localhost:8080/",
          "height": 295
        }
      },
      "source": [
        "# seaborn distribution plot of Age\n",
        "sns.distplot(df_control.Age, rug=False, label='Control')\n",
        "sns.distplot(df_pd.Age, rug=False, label='PD')\n",
        "plt.title('Distribution Plot of Age')\n",
        "plt.legend()\n",
        "plt.show() # pd has a slightly older distribution than control"
      ],
      "execution_count": 0,
      "outputs": [
        {
          "output_type": "display_data",
          "data": {
            "image/png": "[encoded data removed]",
            "text/plain": [
              "<Figure size 432x288 with 1 Axes>"
            ]
          },
          "metadata": {
            "tags": []
          }
        }
      ]
    },
    {
      "cell_type": "code",
      "metadata": {
        "id": "NXvuy6ombvTr",
        "colab_type": "code",
        "outputId": "900c78cb-e8b3-47b1-d0c1-36cc89a6c369",
        "colab": {
          "base_uri": "https://localhost:8080/",
          "height": 295
        }
      },
      "source": [
        "# plot for the ages\n",
        "plt.hist(df_pd.Age, align='mid', alpha=0.25, color='r', label='pd', bins=10)\n",
        "plt.hist(df_control.Age, align='mid', alpha=0.25, color='b', label='control', bins=10)\n",
        "plt.legend(loc='upper left')\n",
        "\n",
        "# set labels\n",
        "plt.ylabel('Frequency')\n",
        "plt.xlabel('Age')\n",
        "plt.title('Frequency of Ages')\n",
        "\n",
        "# set ticks\n",
        "plt.xticks(np.arange(min(df_control.Age), max(df_control.Age)+1, 5.0))\n",
        "plt.show()"
      ],
      "execution_count": 0,
      "outputs": [
        {
          "output_type": "display_data",
          "data": {
            "image/png": "[encoded data removed]",
            "text/plain": [
              "<Figure size 432x288 with 1 Axes>"
            ]
          },
          "metadata": {
            "tags": []
          }
        }
      ]
    },
    {
      "cell_type": "code",
      "metadata": {
        "id": "pRNcDyxgbyB6",
        "colab_type": "code",
        "outputId": "f1052e8b-0de6-4ccb-8490-7db23a37cb31",
        "colab": {
          "base_uri": "https://localhost:8080/",
          "height": 300
        }
      },
      "source": [
        "# some boxplots\n",
        "sns.boxplot(x=\"Group\", y=\"Age\", data=patient_df)\n",
        "plt.legend()\n",
        "plt.xticks([0, 1], ['Control', 'PD'])\n",
        "\n",
        "plt.show()"
      ],
      "execution_count": 0,
      "outputs": [
        {
          "output_type": "stream",
          "text": [
            "No handles with labels found to put in legend.\n"
          ],
          "name": "stderr"
        },
        {
          "output_type": "display_data",
          "data": {
            "image/png": "[encoded data removed]",
            "text/plain": [
              "<Figure size 432x288 with 1 Axes>"
            ]
          },
          "metadata": {
            "tags": []
          }
        }
      ]
    },
    {
      "cell_type": "code",
      "metadata": {
        "id": "mOaWl-rDicJg",
        "colab_type": "code",
        "outputId": "1d733e78-54cf-4427-bce9-c1de855b3c59",
        "colab": {
          "base_uri": "https://localhost:8080/",
          "height": 84
        }
      },
      "source": [
        "## Gender Distributions\n",
        "print (\"For Control:\")\n",
        "print (np.unique(df_control.Sex.values, return_counts=True))\n",
        "print (\"For PD\")\n",
        "print (np.unique(df_pd.Sex.values, return_counts=True)) # very visible from results males are more likely to get pd.."
      ],
      "execution_count": 0,
      "outputs": [
        {
          "output_type": "stream",
          "text": [
            "For Control:\n",
            "(array(['F', 'M'], dtype=object), array([15, 41]))\n",
            "For PD\n",
            "(array(['F', 'M'], dtype=object), array([46, 79]))\n"
          ],
          "name": "stdout"
        }
      ]
    },
    {
      "cell_type": "code",
      "metadata": {
        "id": "9y6CbQIuWKWu",
        "colab_type": "code",
        "outputId": "ea8037ca-1ace-44cc-d4ed-92ea5bbaf117",
        "colab": {
          "base_uri": "https://localhost:8080/",
          "height": 2222
        }
      },
      "source": [
        "from IPython.display import SVG\n",
        "from keras.utils.vis_utils import model_to_dot\n",
        "\n",
        "SVG(model_to_dot(model).create(prog='dot', format='svg'))"
      ],
      "execution_count": 0,
      "outputs": [
        {
          "output_type": "execute_result",
          "data": {
            "text/plain": [
              "<IPython.core.display.SVG object>"
            ],
            "image/svg+xml": "<svg height=\"1651pt\" viewBox=\"0.00 0.00 229.00 1651.00\" width=\"229pt\" xmlns=\"http://www.w3.org/2000/svg\" xmlns:xlink=\"http://www.w3.org/1999/xlink\">\n<g class=\"graph\" id=\"graph0\" transform=\"scale(1 1) rotate(0) translate(4 1647)\">\n<title>G</title>\n<polygon fill=\"#ffffff\" points=\"-4,4 -4,-1647 225,-1647 225,4 -4,4\" stroke=\"transparent\"/>\n<!-- 140375196003296 -->\n<g class=\"node\" id=\"node1\">\n<title>140375196003296</title>\n<polygon fill=\"none\" points=\"44,-1533.5 44,-1569.5 177,-1569.5 177,-1533.5 44,-1533.5\" stroke=\"#000000\"/>\n<text fill=\"#000000\" font-family=\"Times,serif\" font-size=\"14.00\" text-anchor=\"middle\" x=\"110.5\" y=\"-1547.8\">conv3d_1: Conv3D</text>\n</g>\n<!-- 140375196003576 -->\n<g class=\"node\" id=\"node2\">\n<title>140375196003576</title>\n<polygon fill=\"none\" points=\"21.5,-1460.5 21.5,-1496.5 199.5,-1496.5 199.5,-1460.5 21.5,-1460.5\" stroke=\"#000000\"/>\n<text fill=\"#000000\" font-family=\"Times,serif\" font-size=\"14.00\" text-anchor=\"middle\" x=\"110.5\" y=\"-1474.8\">leaky_re_lu_1: LeakyReLU</text>\n</g>\n<!-- 140375196003296&#45;&gt;140375196003576 -->\n<g class=\"edge\" id=\"edge2\">\n<title>140375196003296-&gt;140375196003576</title>\n<path d=\"M110.5,-1533.4551C110.5,-1525.3828 110.5,-1515.6764 110.5,-1506.6817\" fill=\"none\" stroke=\"#000000\"/>\n<polygon fill=\"#000000\" points=\"114.0001,-1506.5903 110.5,-1496.5904 107.0001,-1506.5904 114.0001,-1506.5903\" stroke=\"#000000\"/>\n</g>\n<!-- 140374096561880 -->\n<g class=\"node\" id=\"node3\">\n<title>140374096561880</title>\n<polygon fill=\"none\" points=\"0,-1387.5 0,-1423.5 221,-1423.5 221,-1387.5 0,-1387.5\" stroke=\"#000000\"/>\n<text fill=\"#000000\" font-family=\"Times,serif\" font-size=\"14.00\" text-anchor=\"middle\" x=\"110.5\" y=\"-1401.8\">max_pooling3d_1: MaxPooling3D</text>\n</g>\n<!-- 140375196003576&#45;&gt;140374096561880 -->\n<g class=\"edge\" id=\"edge3\">\n<title>140375196003576-&gt;140374096561880</title>\n<path d=\"M110.5,-1460.4551C110.5,-1452.3828 110.5,-1442.6764 110.5,-1433.6817\" fill=\"none\" stroke=\"#000000\"/>\n<polygon fill=\"#000000\" points=\"114.0001,-1433.5903 110.5,-1423.5904 107.0001,-1433.5904 114.0001,-1433.5903\" stroke=\"#000000\"/>\n</g>\n<!-- 140374096561992 -->\n<g class=\"node\" id=\"node4\">\n<title>140374096561992</title>\n<polygon fill=\"none\" points=\"44,-1314.5 44,-1350.5 177,-1350.5 177,-1314.5 44,-1314.5\" stroke=\"#000000\"/>\n<text fill=\"#000000\" font-family=\"Times,serif\" font-size=\"14.00\" text-anchor=\"middle\" x=\"110.5\" y=\"-1328.8\">conv3d_2: Conv3D</text>\n</g>\n<!-- 140374096561880&#45;&gt;140374096561992 -->\n<g class=\"edge\" id=\"edge4\">\n<title>140374096561880-&gt;140374096561992</title>\n<path d=\"M110.5,-1387.4551C110.5,-1379.3828 110.5,-1369.6764 110.5,-1360.6817\" fill=\"none\" stroke=\"#000000\"/>\n<polygon fill=\"#000000\" points=\"114.0001,-1360.5903 110.5,-1350.5904 107.0001,-1360.5904 114.0001,-1360.5903\" stroke=\"#000000\"/>\n</g>\n<!-- 140374096609120 -->\n<g class=\"node\" id=\"node5\">\n<title>140374096609120</title>\n<polygon fill=\"none\" points=\"21.5,-1241.5 21.5,-1277.5 199.5,-1277.5 199.5,-1241.5 21.5,-1241.5\" stroke=\"#000000\"/>\n<text fill=\"#000000\" font-family=\"Times,serif\" font-size=\"14.00\" text-anchor=\"middle\" x=\"110.5\" y=\"-1255.8\">leaky_re_lu_2: LeakyReLU</text>\n</g>\n<!-- 140374096561992&#45;&gt;140374096609120 -->\n<g class=\"edge\" id=\"edge5\">\n<title>140374096561992-&gt;140374096609120</title>\n<path d=\"M110.5,-1314.4551C110.5,-1306.3828 110.5,-1296.6764 110.5,-1287.6817\" fill=\"none\" stroke=\"#000000\"/>\n<polygon fill=\"#000000\" points=\"114.0001,-1287.5903 110.5,-1277.5904 107.0001,-1287.5904 114.0001,-1287.5903\" stroke=\"#000000\"/>\n</g>\n<!-- 140374087830104 -->\n<g class=\"node\" id=\"node6\">\n<title>140374087830104</title>\n<polygon fill=\"none\" points=\"0,-1168.5 0,-1204.5 221,-1204.5 221,-1168.5 0,-1168.5\" stroke=\"#000000\"/>\n<text fill=\"#000000\" font-family=\"Times,serif\" font-size=\"14.00\" text-anchor=\"middle\" x=\"110.5\" y=\"-1182.8\">max_pooling3d_2: MaxPooling3D</text>\n</g>\n<!-- 140374096609120&#45;&gt;140374087830104 -->\n<g class=\"edge\" id=\"edge6\">\n<title>140374096609120-&gt;140374087830104</title>\n<path d=\"M110.5,-1241.4551C110.5,-1233.3828 110.5,-1223.6764 110.5,-1214.6817\" fill=\"none\" stroke=\"#000000\"/>\n<polygon fill=\"#000000\" points=\"114.0001,-1214.5903 110.5,-1204.5904 107.0001,-1214.5904 114.0001,-1214.5903\" stroke=\"#000000\"/>\n</g>\n<!-- 140374087830272 -->\n<g class=\"node\" id=\"node7\">\n<title>140374087830272</title>\n<polygon fill=\"none\" points=\"44,-1095.5 44,-1131.5 177,-1131.5 177,-1095.5 44,-1095.5\" stroke=\"#000000\"/>\n<text fill=\"#000000\" font-family=\"Times,serif\" font-size=\"14.00\" text-anchor=\"middle\" x=\"110.5\" y=\"-1109.8\">conv3d_3: Conv3D</text>\n</g>\n<!-- 140374087830104&#45;&gt;140374087830272 -->\n<g class=\"edge\" id=\"edge7\">\n<title>140374087830104-&gt;140374087830272</title>\n<path d=\"M110.5,-1168.4551C110.5,-1160.3828 110.5,-1150.6764 110.5,-1141.6817\" fill=\"none\" stroke=\"#000000\"/>\n<polygon fill=\"#000000\" points=\"114.0001,-1141.5903 110.5,-1131.5904 107.0001,-1141.5904 114.0001,-1141.5903\" stroke=\"#000000\"/>\n</g>\n<!-- 140374087936768 -->\n<g class=\"node\" id=\"node8\">\n<title>140374087936768</title>\n<polygon fill=\"none\" points=\"21.5,-1022.5 21.5,-1058.5 199.5,-1058.5 199.5,-1022.5 21.5,-1022.5\" stroke=\"#000000\"/>\n<text fill=\"#000000\" font-family=\"Times,serif\" font-size=\"14.00\" text-anchor=\"middle\" x=\"110.5\" y=\"-1036.8\">leaky_re_lu_3: LeakyReLU</text>\n</g>\n<!-- 140374087830272&#45;&gt;140374087936768 -->\n<g class=\"edge\" id=\"edge8\">\n<title>140374087830272-&gt;140374087936768</title>\n<path d=\"M110.5,-1095.4551C110.5,-1087.3828 110.5,-1077.6764 110.5,-1068.6817\" fill=\"none\" stroke=\"#000000\"/>\n<polygon fill=\"#000000\" points=\"114.0001,-1068.5903 110.5,-1058.5904 107.0001,-1068.5904 114.0001,-1068.5903\" stroke=\"#000000\"/>\n</g>\n<!-- 140374087937384 -->\n<g class=\"node\" id=\"node9\">\n<title>140374087937384</title>\n<polygon fill=\"none\" points=\"0,-949.5 0,-985.5 221,-985.5 221,-949.5 0,-949.5\" stroke=\"#000000\"/>\n<text fill=\"#000000\" font-family=\"Times,serif\" font-size=\"14.00\" text-anchor=\"middle\" x=\"110.5\" y=\"-963.8\">max_pooling3d_3: MaxPooling3D</text>\n</g>\n<!-- 140374087936768&#45;&gt;140374087937384 -->\n<g class=\"edge\" id=\"edge9\">\n<title>140374087936768-&gt;140374087937384</title>\n<path d=\"M110.5,-1022.4551C110.5,-1014.3828 110.5,-1004.6764 110.5,-995.6817\" fill=\"none\" stroke=\"#000000\"/>\n<polygon fill=\"#000000\" points=\"114.0001,-995.5903 110.5,-985.5904 107.0001,-995.5904 114.0001,-995.5903\" stroke=\"#000000\"/>\n</g>\n<!-- 140374087485928 -->\n<g class=\"node\" id=\"node10\">\n<title>140374087485928</title>\n<polygon fill=\"none\" points=\"44,-876.5 44,-912.5 177,-912.5 177,-876.5 44,-876.5\" stroke=\"#000000\"/>\n<text fill=\"#000000\" font-family=\"Times,serif\" font-size=\"14.00\" text-anchor=\"middle\" x=\"110.5\" y=\"-890.8\">conv3d_4: Conv3D</text>\n</g>\n<!-- 140374087937384&#45;&gt;140374087485928 -->\n<g class=\"edge\" id=\"edge10\">\n<title>140374087937384-&gt;140374087485928</title>\n<path d=\"M110.5,-949.4551C110.5,-941.3828 110.5,-931.6764 110.5,-922.6817\" fill=\"none\" stroke=\"#000000\"/>\n<polygon fill=\"#000000\" points=\"114.0001,-922.5903 110.5,-912.5904 107.0001,-922.5904 114.0001,-922.5903\" stroke=\"#000000\"/>\n</g>\n<!-- 140374087588104 -->\n<g class=\"node\" id=\"node11\">\n<title>140374087588104</title>\n<polygon fill=\"none\" points=\"21.5,-803.5 21.5,-839.5 199.5,-839.5 199.5,-803.5 21.5,-803.5\" stroke=\"#000000\"/>\n<text fill=\"#000000\" font-family=\"Times,serif\" font-size=\"14.00\" text-anchor=\"middle\" x=\"110.5\" y=\"-817.8\">leaky_re_lu_4: LeakyReLU</text>\n</g>\n<!-- 140374087485928&#45;&gt;140374087588104 -->\n<g class=\"edge\" id=\"edge11\">\n<title>140374087485928-&gt;140374087588104</title>\n<path d=\"M110.5,-876.4551C110.5,-868.3828 110.5,-858.6764 110.5,-849.6817\" fill=\"none\" stroke=\"#000000\"/>\n<polygon fill=\"#000000\" points=\"114.0001,-849.5903 110.5,-839.5904 107.0001,-849.5904 114.0001,-849.5903\" stroke=\"#000000\"/>\n</g>\n<!-- 140374087681808 -->\n<g class=\"node\" id=\"node12\">\n<title>140374087681808</title>\n<polygon fill=\"none\" points=\"0,-730.5 0,-766.5 221,-766.5 221,-730.5 0,-730.5\" stroke=\"#000000\"/>\n<text fill=\"#000000\" font-family=\"Times,serif\" font-size=\"14.00\" text-anchor=\"middle\" x=\"110.5\" y=\"-744.8\">max_pooling3d_4: MaxPooling3D</text>\n</g>\n<!-- 140374087588104&#45;&gt;140374087681808 -->\n<g class=\"edge\" id=\"edge12\">\n<title>140374087588104-&gt;140374087681808</title>\n<path d=\"M110.5,-803.4551C110.5,-795.3828 110.5,-785.6764 110.5,-776.6817\" fill=\"none\" stroke=\"#000000\"/>\n<polygon fill=\"#000000\" points=\"114.0001,-776.5903 110.5,-766.5904 107.0001,-776.5904 114.0001,-776.5903\" stroke=\"#000000\"/>\n</g>\n<!-- 140374087681976 -->\n<g class=\"node\" id=\"node13\">\n<title>140374087681976</title>\n<polygon fill=\"none\" points=\"44,-657.5 44,-693.5 177,-693.5 177,-657.5 44,-657.5\" stroke=\"#000000\"/>\n<text fill=\"#000000\" font-family=\"Times,serif\" font-size=\"14.00\" text-anchor=\"middle\" x=\"110.5\" y=\"-671.8\">conv3d_5: Conv3D</text>\n</g>\n<!-- 140374087681808&#45;&gt;140374087681976 -->\n<g class=\"edge\" id=\"edge13\">\n<title>140374087681808-&gt;140374087681976</title>\n<path d=\"M110.5,-730.4551C110.5,-722.3828 110.5,-712.6764 110.5,-703.6817\" fill=\"none\" stroke=\"#000000\"/>\n<polygon fill=\"#000000\" points=\"114.0001,-703.5903 110.5,-693.5904 107.0001,-703.5904 114.0001,-703.5903\" stroke=\"#000000\"/>\n</g>\n<!-- 140374087252400 -->\n<g class=\"node\" id=\"node14\">\n<title>140374087252400</title>\n<polygon fill=\"none\" points=\"21.5,-584.5 21.5,-620.5 199.5,-620.5 199.5,-584.5 21.5,-584.5\" stroke=\"#000000\"/>\n<text fill=\"#000000\" font-family=\"Times,serif\" font-size=\"14.00\" text-anchor=\"middle\" x=\"110.5\" y=\"-598.8\">leaky_re_lu_5: LeakyReLU</text>\n</g>\n<!-- 140374087681976&#45;&gt;140374087252400 -->\n<g class=\"edge\" id=\"edge14\">\n<title>140374087681976-&gt;140374087252400</title>\n<path d=\"M110.5,-657.4551C110.5,-649.3828 110.5,-639.6764 110.5,-630.6817\" fill=\"none\" stroke=\"#000000\"/>\n<polygon fill=\"#000000\" points=\"114.0001,-630.5903 110.5,-620.5904 107.0001,-630.5904 114.0001,-630.5903\" stroke=\"#000000\"/>\n</g>\n<!-- 140374087333200 -->\n<g class=\"node\" id=\"node15\">\n<title>140374087333200</title>\n<polygon fill=\"none\" points=\"0,-511.5 0,-547.5 221,-547.5 221,-511.5 0,-511.5\" stroke=\"#000000\"/>\n<text fill=\"#000000\" font-family=\"Times,serif\" font-size=\"14.00\" text-anchor=\"middle\" x=\"110.5\" y=\"-525.8\">max_pooling3d_5: MaxPooling3D</text>\n</g>\n<!-- 140374087252400&#45;&gt;140374087333200 -->\n<g class=\"edge\" id=\"edge15\">\n<title>140374087252400-&gt;140374087333200</title>\n<path d=\"M110.5,-584.4551C110.5,-576.3828 110.5,-566.6764 110.5,-557.6817\" fill=\"none\" stroke=\"#000000\"/>\n<polygon fill=\"#000000\" points=\"114.0001,-557.5903 110.5,-547.5904 107.0001,-557.5904 114.0001,-557.5903\" stroke=\"#000000\"/>\n</g>\n<!-- 140374087333368 -->\n<g class=\"node\" id=\"node16\">\n<title>140374087333368</title>\n<polygon fill=\"none\" points=\"44,-438.5 44,-474.5 177,-474.5 177,-438.5 44,-438.5\" stroke=\"#000000\"/>\n<text fill=\"#000000\" font-family=\"Times,serif\" font-size=\"14.00\" text-anchor=\"middle\" x=\"110.5\" y=\"-452.8\">conv3d_6: Conv3D</text>\n</g>\n<!-- 140374087333200&#45;&gt;140374087333368 -->\n<g class=\"edge\" id=\"edge16\">\n<title>140374087333200-&gt;140374087333368</title>\n<path d=\"M110.5,-511.4551C110.5,-503.3828 110.5,-493.6764 110.5,-484.6817\" fill=\"none\" stroke=\"#000000\"/>\n<polygon fill=\"#000000\" points=\"114.0001,-484.5903 110.5,-474.5904 107.0001,-484.5904 114.0001,-484.5903\" stroke=\"#000000\"/>\n</g>\n<!-- 140374087428080 -->\n<g class=\"node\" id=\"node17\">\n<title>140374087428080</title>\n<polygon fill=\"none\" points=\"21.5,-365.5 21.5,-401.5 199.5,-401.5 199.5,-365.5 21.5,-365.5\" stroke=\"#000000\"/>\n<text fill=\"#000000\" font-family=\"Times,serif\" font-size=\"14.00\" text-anchor=\"middle\" x=\"110.5\" y=\"-379.8\">leaky_re_lu_6: LeakyReLU</text>\n</g>\n<!-- 140374087333368&#45;&gt;140374087428080 -->\n<g class=\"edge\" id=\"edge17\">\n<title>140374087333368-&gt;140374087428080</title>\n<path d=\"M110.5,-438.4551C110.5,-430.3828 110.5,-420.6764 110.5,-411.6817\" fill=\"none\" stroke=\"#000000\"/>\n<polygon fill=\"#000000\" points=\"114.0001,-411.5903 110.5,-401.5904 107.0001,-411.5904 114.0001,-411.5903\" stroke=\"#000000\"/>\n</g>\n<!-- 140374087005072 -->\n<g class=\"node\" id=\"node18\">\n<title>140374087005072</title>\n<polygon fill=\"none\" points=\"0,-292.5 0,-328.5 221,-328.5 221,-292.5 0,-292.5\" stroke=\"#000000\"/>\n<text fill=\"#000000\" font-family=\"Times,serif\" font-size=\"14.00\" text-anchor=\"middle\" x=\"110.5\" y=\"-306.8\">max_pooling3d_6: MaxPooling3D</text>\n</g>\n<!-- 140374087428080&#45;&gt;140374087005072 -->\n<g class=\"edge\" id=\"edge18\">\n<title>140374087428080-&gt;140374087005072</title>\n<path d=\"M110.5,-365.4551C110.5,-357.3828 110.5,-347.6764 110.5,-338.6817\" fill=\"none\" stroke=\"#000000\"/>\n<polygon fill=\"#000000\" points=\"114.0001,-338.5903 110.5,-328.5904 107.0001,-338.5904 114.0001,-338.5903\" stroke=\"#000000\"/>\n</g>\n<!-- 140374087005240 -->\n<g class=\"node\" id=\"node19\">\n<title>140374087005240</title>\n<polygon fill=\"none\" points=\"54,-219.5 54,-255.5 167,-255.5 167,-219.5 54,-219.5\" stroke=\"#000000\"/>\n<text fill=\"#000000\" font-family=\"Times,serif\" font-size=\"14.00\" text-anchor=\"middle\" x=\"110.5\" y=\"-233.8\">flatten_1: Flatten</text>\n</g>\n<!-- 140374087005072&#45;&gt;140374087005240 -->\n<g class=\"edge\" id=\"edge19\">\n<title>140374087005072-&gt;140374087005240</title>\n<path d=\"M110.5,-292.4551C110.5,-284.3828 110.5,-274.6764 110.5,-265.6817\" fill=\"none\" stroke=\"#000000\"/>\n<polygon fill=\"#000000\" points=\"114.0001,-265.5903 110.5,-255.5904 107.0001,-265.5904 114.0001,-265.5903\" stroke=\"#000000\"/>\n</g>\n<!-- 140374087005128 -->\n<g class=\"node\" id=\"node20\">\n<title>140374087005128</title>\n<polygon fill=\"none\" points=\"57,-146.5 57,-182.5 164,-182.5 164,-146.5 57,-146.5\" stroke=\"#000000\"/>\n<text fill=\"#000000\" font-family=\"Times,serif\" font-size=\"14.00\" text-anchor=\"middle\" x=\"110.5\" y=\"-160.8\">dense_1: Dense</text>\n</g>\n<!-- 140374087005240&#45;&gt;140374087005128 -->\n<g class=\"edge\" id=\"edge20\">\n<title>140374087005240-&gt;140374087005128</title>\n<path d=\"M110.5,-219.4551C110.5,-211.3828 110.5,-201.6764 110.5,-192.6817\" fill=\"none\" stroke=\"#000000\"/>\n<polygon fill=\"#000000\" points=\"114.0001,-192.5903 110.5,-182.5904 107.0001,-192.5904 114.0001,-192.5903\" stroke=\"#000000\"/>\n</g>\n<!-- 140374087070608 -->\n<g class=\"node\" id=\"node21\">\n<title>140374087070608</title>\n<polygon fill=\"none\" points=\"21.5,-73.5 21.5,-109.5 199.5,-109.5 199.5,-73.5 21.5,-73.5\" stroke=\"#000000\"/>\n<text fill=\"#000000\" font-family=\"Times,serif\" font-size=\"14.00\" text-anchor=\"middle\" x=\"110.5\" y=\"-87.8\">leaky_re_lu_7: LeakyReLU</text>\n</g>\n<!-- 140374087005128&#45;&gt;140374087070608 -->\n<g class=\"edge\" id=\"edge21\">\n<title>140374087005128-&gt;140374087070608</title>\n<path d=\"M110.5,-146.4551C110.5,-138.3828 110.5,-128.6764 110.5,-119.6817\" fill=\"none\" stroke=\"#000000\"/>\n<polygon fill=\"#000000\" points=\"114.0001,-119.5903 110.5,-109.5904 107.0001,-119.5904 114.0001,-119.5903\" stroke=\"#000000\"/>\n</g>\n<!-- 140374087163976 -->\n<g class=\"node\" id=\"node22\">\n<title>140374087163976</title>\n<polygon fill=\"none\" points=\"57,-.5 57,-36.5 164,-36.5 164,-.5 57,-.5\" stroke=\"#000000\"/>\n<text fill=\"#000000\" font-family=\"Times,serif\" font-size=\"14.00\" text-anchor=\"middle\" x=\"110.5\" y=\"-14.8\">dense_2: Dense</text>\n</g>\n<!-- 140374087070608&#45;&gt;140374087163976 -->\n<g class=\"edge\" id=\"edge22\">\n<title>140374087070608-&gt;140374087163976</title>\n<path d=\"M110.5,-73.4551C110.5,-65.3828 110.5,-55.6764 110.5,-46.6817\" fill=\"none\" stroke=\"#000000\"/>\n<polygon fill=\"#000000\" points=\"114.0001,-46.5903 110.5,-36.5904 107.0001,-46.5904 114.0001,-46.5903\" stroke=\"#000000\"/>\n</g>\n<!-- 140374096561376 -->\n<g class=\"node\" id=\"node23\">\n<title>140374096561376</title>\n<polygon fill=\"none\" points=\"46,-1606.5 46,-1642.5 175,-1642.5 175,-1606.5 46,-1606.5\" stroke=\"#000000\"/>\n<text fill=\"#000000\" font-family=\"Times,serif\" font-size=\"14.00\" text-anchor=\"middle\" x=\"110.5\" y=\"-1620.8\">140374096561376</text>\n</g>\n<!-- 140374096561376&#45;&gt;140375196003296 -->\n<g class=\"edge\" id=\"edge1\">\n<title>140374096561376-&gt;140375196003296</title>\n<path d=\"M110.5,-1606.4551C110.5,-1598.3828 110.5,-1588.6764 110.5,-1579.6817\" fill=\"none\" stroke=\"#000000\"/>\n<polygon fill=\"#000000\" points=\"114.0001,-1579.5903 110.5,-1569.5904 107.0001,-1579.5904 114.0001,-1579.5903\" stroke=\"#000000\"/>\n</g>\n</g>\n</svg>"
          },
          "metadata": {
            "tags": []
          },
          "execution_count": 18
        }
      ]
    },
    {
      "cell_type": "code",
      "metadata": {
        "id": "xY9CNqRxWkRS",
        "colab_type": "code",
        "outputId": "980bc71b-d3a7-4e0b-98fd-7017ee1d9083",
        "colab": {
          "base_uri": "https://localhost:8080/",
          "height": 926
        }
      },
      "source": [
        "import matplotlib.pyplot as plt\n",
        "\n",
        "history = model.fit(X_train, y_train, validation_split=0.2, epochs=10, batch_size=5, verbose=1)\n",
        "\n",
        "# Plot training & validation accuracy values\n",
        "plt.plot(history.history['acc'])\n",
        "plt.plot(history.history['val_acc'])\n",
        "plt.title('Model accuracy')\n",
        "plt.ylabel('Accuracy')\n",
        "plt.xlabel('Epoch')\n",
        "plt.legend(['Train', 'Test'], loc='upper left')\n",
        "plt.show()\n",
        "\n",
        "# Plot training & validation loss values\n",
        "plt.plot(history.history['loss'])\n",
        "plt.plot(history.history['val_loss'])\n",
        "plt.title('Model loss')\n",
        "plt.ylabel('Loss')\n",
        "plt.xlabel('Epoch')\n",
        "plt.legend(['Train', 'Test'], loc='upper left')\n",
        "plt.show()"
      ],
      "execution_count": 0,
      "outputs": [
        {
          "output_type": "stream",
          "text": [
            "Train on 64 samples, validate on 17 samples\n",
            "Epoch 1/10\n",
            "64/64 [==============================] - 7s 114ms/step - loss: 0.1900 - acc: 0.9375 - val_loss: 2.4008 - val_acc: 0.4118\n",
            "Epoch 2/10\n",
            "64/64 [==============================] - 7s 113ms/step - loss: 0.1942 - acc: 0.9375 - val_loss: 0.7828 - val_acc: 0.5294\n",
            "Epoch 3/10\n",
            "64/64 [==============================] - 7s 114ms/step - loss: 0.1106 - acc: 0.9688 - val_loss: 2.0604 - val_acc: 0.4706\n",
            "Epoch 4/10\n",
            "64/64 [==============================] - 7s 115ms/step - loss: 0.0373 - acc: 1.0000 - val_loss: 1.3764 - val_acc: 0.4706\n",
            "Epoch 5/10\n",
            "64/64 [==============================] - 7s 115ms/step - loss: 0.0365 - acc: 1.0000 - val_loss: 1.6944 - val_acc: 0.4706\n",
            "Epoch 6/10\n",
            "64/64 [==============================] - 7s 115ms/step - loss: 0.0283 - acc: 1.0000 - val_loss: 1.7637 - val_acc: 0.4706\n",
            "Epoch 7/10\n",
            "64/64 [==============================] - 7s 114ms/step - loss: 0.0209 - acc: 1.0000 - val_loss: 1.7055 - val_acc: 0.4706\n",
            "Epoch 8/10\n",
            "64/64 [==============================] - 7s 114ms/step - loss: 0.0184 - acc: 1.0000 - val_loss: 1.9163 - val_acc: 0.4706\n",
            "Epoch 9/10\n",
            "64/64 [==============================] - 7s 114ms/step - loss: 0.0164 - acc: 1.0000 - val_loss: 1.8720 - val_acc: 0.4706\n",
            "Epoch 10/10\n",
            "64/64 [==============================] - 7s 114ms/step - loss: 0.0134 - acc: 1.0000 - val_loss: 1.8532 - val_acc: 0.4706\n"
          ],
          "name": "stdout"
        },
        {
          "output_type": "display_data",
          "data": {
            "image/png": "[encoded data removed]",
            "text/plain": [
              "<Figure size 432x288 with 1 Axes>"
            ]
          },
          "metadata": {
            "tags": []
          }
        },
        {
          "output_type": "display_data",
          "data": {
            "image/png": "[encoded data removed]",
            "text/plain": [
              "<Figure size 432x288 with 1 Axes>"
            ]
          },
          "metadata": {
            "tags": []
          }
        }
      ]
    },
    {
      "cell_type": "markdown",
      "metadata": {
        "id": "LUd1qiANF6hA",
        "colab_type": "text"
      },
      "source": [
        "**Build a NN that feeds in age and sex as inputs (two inputs), classifying to PD**"
      ]
    },
    {
      "cell_type": "code",
      "metadata": {
        "id": "mvvsGwnAMqpe",
        "colab_type": "code",
        "colab": {}
      },
      "source": [
        "# define function to get age and sex\n",
        "def get_age_sex(s):\n",
        "  sex = s[1]\n",
        "  age = s[3].astype(np.int)\n",
        "  return np.array((sex, age))\n",
        "\n",
        "# create age_sex array\n",
        "age_sex = np.array([get_age_sex(s) for s in total_slices_info])"
      ],
      "execution_count": 0,
      "outputs": []
    },
    {
      "cell_type": "code",
      "metadata": {
        "id": "7twDa7TdSC4B",
        "colab_type": "code",
        "colab": {}
      },
      "source": [
        "# get the new df\n",
        "patient_df = pd.read_pickle('processed_patient_df_TRY2.pkl')\n"
      ],
      "execution_count": 0,
      "outputs": []
    },
    {
      "cell_type": "code",
      "metadata": {
        "id": "VWfOTLj1Sq94",
        "colab_type": "code",
        "colab": {}
      },
      "source": [
        "# Get age and sex\n",
        "age_sex = patient_df[['Sex', 'Age']].values\n",
        "group = patient_df['Group'].values\n",
        "\n",
        "# build deep learning framework to classify\n"
      ],
      "execution_count": 0,
      "outputs": []
    },
    {
      "cell_type": "markdown",
      "metadata": {
        "id": "8mq8dH7INDFB",
        "colab_type": "text"
      },
      "source": [
        "**Put into one super class which we can load our data (overwrite), fit and continue**"
      ]
    },
    {
      "cell_type": "code",
      "metadata": {
        "id": "7UlFkbFuKcER",
        "colab_type": "code",
        "colab": {}
      },
      "source": [
        "from keras.models import load_model\n",
        "num_epochs = 3\n",
        "batch_size = 10\n",
        "\n",
        "batches_path = os.getcwd() + '/stored_batches'\n",
        "\n",
        "for batch_pkl in os.listdir(batches_path):\n",
        "  batch_pkl_path = batches_path + '/' + batch_pkl\n",
        "  \n",
        "  # load up the batch\n",
        "  with open(batch_pkl_path, 'rb') as f:\n",
        "    total_slices, total_slices_info = pickle.load(f)\n",
        "    \n",
        "  # get the corresponding y-values\n",
        "  y_values = get_y_values(total_slices_info)\n",
        "  \n",
        "  # split into training and test set\n",
        "  X_train, X_test, y_train, y_test = train_test_split(total_slices, y_values, test_size=0.2, shuffle=True)\n",
        "  \n",
        "  # fit to our existing model\n",
        "  model.fit(x=X_train, y=y_train, batch_size=batch_size, epochs=num_epochs, verbose=1, # can modify batch size and epochs\n",
        "          validation_data=(X_test, y_test), shuffle=True)\n",
        "\n",
        "# creates a file and saves it (architecture, weights, optimizer)\n",
        "model.save('my_model.h5', overwrite=True)  # creates a HDF5 file 'my_model.h5'\n",
        "# model = load_model('my_model.h5')"
      ],
      "execution_count": 0,
      "outputs": []
    }
  ]
}