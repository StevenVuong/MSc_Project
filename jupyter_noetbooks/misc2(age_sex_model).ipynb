{
  "nbformat": 4,
  "nbformat_minor": 0,
  "metadata": {
    "colab": {
      "name": "misc2(age_sex_model).ipynb",
      "version": "0.3.2",
      "provenance": [],
      "collapsed_sections": [],
      "include_colab_link": true
    },
    "kernelspec": {
      "name": "python3",
      "display_name": "Python 3"
    },
    "accelerator": "TPU"
  },
  "cells": [
    {
      "cell_type": "markdown",
      "metadata": {
        "id": "view-in-github",
        "colab_type": "text"
      },
      "source": [
        "<a href=\"https://colab.research.google.com/github/StevenVuong/MSc_Project/blob/master/misc2(age_sex_model).ipynb\" target=\"_parent\"><img src=\"https://colab.research.google.com/assets/colab-badge.svg\" alt=\"Open In Colab\"/></a>"
      ]
    },
    {
      "cell_type": "markdown",
      "metadata": {
        "id": "NdzBN1AhkB8-",
        "colab_type": "text"
      },
      "source": [
        "**Goal: Build a joint deeplearning model which trains on ages and genders, to classify that of the fifth batch.** \n",
        "**Then ensemble this with deep learning prediction outputs of our best model to get the final classification**"
      ]
    },
    {
      "cell_type": "code",
      "metadata": {
        "id": "HffPUoiMkAb4",
        "colab_type": "code",
        "colab": {
          "base_uri": "https://localhost:8080/",
          "height": 34
        },
        "outputId": "f325a825-5f89-4c5a-ebf7-b6bbb0a629f3"
      },
      "source": [
        "# Standard imports\n",
        "import pandas as pd\n",
        "import numpy as np\n",
        "import matplotlib.pyplot as plt\n",
        "import seaborn as sns\n",
        "%matplotlib inline\n",
        "\n",
        "# other imports to handle files\n",
        "import os\n",
        "import pickle\n",
        "import csv\n",
        "\n",
        "# deep learning imports\n",
        "from keras.models import Sequential, load_model, Model\n",
        "from keras.layers.core import Dense, Dropout, Activation, Flatten\n",
        "from keras.layers.convolutional import Convolution3D, MaxPooling3D, Convolution1D\n",
        "from keras.layers.normalization import BatchNormalization\n",
        "from keras.optimizers import SGD, RMSprop, Adam\n",
        "from keras.utils import np_utils, generic_utils, to_categorical\n",
        "from keras.layers import LeakyReLU, Input, ReLU, concatenate\n",
        "from keras import regularizers\n",
        "\n",
        "# to split our dataset\n",
        "from sklearn.model_selection import train_test_split\n",
        "from sklearn.metrics import accuracy_score, confusion_matrix\n",
        "\n",
        "# to mount our drive\n",
        "from google.colab import drive"
      ],
      "execution_count": 1,
      "outputs": [
        {
          "output_type": "stream",
          "text": [
            "Using TensorFlow backend.\n"
          ],
          "name": "stderr"
        }
      ]
    },
    {
      "cell_type": "code",
      "metadata": {
        "id": "vJGlXqK7j8vD",
        "colab_type": "code",
        "outputId": "9885dc27-dce9-42b5-bb23-9987eb3f9b52",
        "colab": {
          "base_uri": "https://localhost:8080/",
          "height": 51
        }
      },
      "source": [
        "# mount google drive into google colab\n",
        "drive.mount('/content/gdrive')\n",
        "\n",
        "os.chdir('/content')\n",
        "\n",
        "# go to where we will be working\n",
        "print (os.listdir())\n",
        "os.chdir('gdrive/My Drive/msc_project/')"
      ],
      "execution_count": 2,
      "outputs": [
        {
          "output_type": "stream",
          "text": [
            "Drive already mounted at /content/gdrive; to attempt to forcibly remount, call drive.mount(\"/content/gdrive\", force_remount=True).\n",
            "['.config', 'gdrive', 'sample_data']\n"
          ],
          "name": "stdout"
        }
      ]
    },
    {
      "cell_type": "markdown",
      "metadata": {
        "id": "YzRqVyvgomjT",
        "colab_type": "text"
      },
      "source": [
        "**Run through our batches and train our model after building it**"
      ]
    },
    {
      "cell_type": "code",
      "metadata": {
        "id": "nrA5vdtKpcqi",
        "colab_type": "code",
        "outputId": "af64be32-d1bc-4ad7-d427-66241afc6a7c",
        "colab": {
          "base_uri": "https://localhost:8080/",
          "height": 51
        }
      },
      "source": [
        "## Loop through all our total slices and accumulate all the total slices info\n",
        "training_batch_f = os.listdir('all_mprage_grappa/processed_brains/processed_brains_aug')[:3]\n",
        "print (training_batch_f)\n",
        "\n",
        "# build ultima total slices info\n",
        "tsi_ultima = []\n",
        "\n",
        "# load the pickle (train with 0 to 6)\n",
        "for tbf in training_batch_f:\n",
        "  with open('all_mprage_grappa/processed_brains/processed_brains_aug/'+tbf, 'rb') as f:\n",
        "    total_slices, total_slices_info = pickle.load(f) # stored_batches/total_slices_batch5\n",
        "    \n",
        "    tsi_ultima.extend(total_slices_info)\n",
        "    \n",
        "print (np.shape(tsi_ultima))"
      ],
      "execution_count": 4,
      "outputs": [
        {
          "output_type": "stream",
          "text": [
            "['dbatch0.pkl', 'dbatch1.pkl', 'dbatch2.pkl']\n",
            "(300, 4)\n"
          ],
          "name": "stdout"
        }
      ]
    },
    {
      "cell_type": "code",
      "metadata": {
        "id": "6I8sh1rCrmME",
        "colab_type": "code",
        "outputId": "e8244022-653b-4dd8-ce6c-090c9c55fc26",
        "colab": {
          "base_uri": "https://localhost:8080/",
          "height": 34
        }
      },
      "source": [
        "np.shape(tsi_ultima) # use this to train"
      ],
      "execution_count": 5,
      "outputs": [
        {
          "output_type": "execute_result",
          "data": {
            "text/plain": [
              "(300, 4)"
            ]
          },
          "metadata": {
            "tags": []
          },
          "execution_count": 5
        }
      ]
    },
    {
      "cell_type": "code",
      "metadata": {
        "id": "qE9O2hmGkBmb",
        "colab_type": "code",
        "colab": {}
      },
      "source": [
        "def get_classification(total_slices_info):\n",
        "    '''get information of patient from total slices info'''\n",
        "    classif = [s[2] for s in total_slices_info]\n",
        "    classif = np.array(to_categorical(classif, 2))\n",
        "    \n",
        "    # now do the same for the sex, 'F' is 0, 'M' is 1\n",
        "    sex = [s[1] for s in total_slices_info]\n",
        "    for i in range(len(sex)):\n",
        "        if sex[i] == 'F':\n",
        "            sex[i] = 0\n",
        "        if sex[i] == 'M':\n",
        "            sex[i] = 1\n",
        "    sex = np.array(to_categorical(sex, 2))\n",
        "    \n",
        "    # finally for age, one hot encode ages 0 to 100 (101 classes then)\n",
        "    ages = [s[3] for s in total_slices_info]\n",
        "    ages = np.array(to_categorical(ages, 101))\n",
        "    \n",
        "    return classif, sex, ages\n",
        "\n",
        "y_train, sex_train, ages_train = get_classification(tsi_ultima)"
      ],
      "execution_count": 0,
      "outputs": []
    },
    {
      "cell_type": "code",
      "metadata": {
        "id": "zGfmbPdP52xt",
        "colab_type": "code",
        "outputId": "68b3e24d-5432-4665-c051-d6442edc1d5a",
        "colab": {
          "base_uri": "https://localhost:8080/",
          "height": 34
        }
      },
      "source": [
        "def larger_info_dataset(df_path):\n",
        "  '''Get the info from any given dataframe'''\n",
        "  ## Get the classification of the y-values, sex and ages from a dataframe instead\n",
        "  big_boi_df = pd.read_csv(df_path)\n",
        "\n",
        "  # remove duplicate subject ids\n",
        "  big_boi_df = big_boi_df.drop_duplicates(subset='Subject', keep='first')\n",
        "\n",
        "  # map groups, control to 0, pd to 1. Also do this for sex, M is 1, F is 0\n",
        "  big_boi_df = big_boi_df.replace({'Group': {'Control': 0, 'PD': 1}, 'Sex': {'M':1, 'F':0}})\n",
        "\n",
        "  # split into training and test sets\n",
        "  train_df, test_df = train_test_split(big_boi_df, test_size=0.10)\n",
        "\n",
        "  print (\"Train Size: %d, Test Size: %d\" % (len(train_df), len(test_df)))\n",
        "\n",
        "  # get the values for train\n",
        "  ages_train = np.array(to_categorical(train_df['Age'].values,101))\n",
        "  sex_train = np.array(to_categorical(train_df['Sex'].values, 2))\n",
        "  y_train = np.array(to_categorical(train_df['Group'].values, 2))\n",
        "\n",
        "  # get the values for test\n",
        "  ages_test = np.array(to_categorical(test_df['Age'].values,101))\n",
        "  sex_test = np.array(to_categorical(test_df['Sex'].values, 2))\n",
        "  y_test = np.array(to_categorical(test_df['Group'].values, 2))\n",
        "  \n",
        "  return [ages_train, sex_train, y_train, ages_test, sex_test, y_test, big_boi_df]\n",
        "\n",
        "ages_train, sex_train, y_train, ages_test, sex_test, y_test, big_boi_df = larger_info_dataset('all_mprage_grappa/Control_PD_6_21_2019.csv')"
      ],
      "execution_count": 31,
      "outputs": [
        {
          "output_type": "stream",
          "text": [
            "Train Size: 536, Test Size: 60\n"
          ],
          "name": "stdout"
        }
      ]
    },
    {
      "cell_type": "code",
      "metadata": {
        "id": "oR2mKH_7iVWG",
        "colab_type": "code",
        "colab": {
          "base_uri": "https://localhost:8080/",
          "height": 163
        },
        "outputId": "7f1a1725-74b5-421f-cf1b-a321e552798e"
      },
      "source": [
        "np.unique(to_binary(sex_train), return_counts=True)"
      ],
      "execution_count": 8,
      "outputs": [
        {
          "output_type": "error",
          "ename": "NameError",
          "evalue": "ignored",
          "traceback": [
            "\u001b[0;31m---------------------------------------------------------------------------\u001b[0m",
            "\u001b[0;31mNameError\u001b[0m                                 Traceback (most recent call last)",
            "\u001b[0;32m<ipython-input-8-bee93582da9c>\u001b[0m in \u001b[0;36m<module>\u001b[0;34m()\u001b[0m\n\u001b[0;32m----> 1\u001b[0;31m \u001b[0mnp\u001b[0m\u001b[0;34m.\u001b[0m\u001b[0munique\u001b[0m\u001b[0;34m(\u001b[0m\u001b[0mto_binary\u001b[0m\u001b[0;34m(\u001b[0m\u001b[0msex_train\u001b[0m\u001b[0;34m)\u001b[0m\u001b[0;34m,\u001b[0m \u001b[0mreturn_counts\u001b[0m\u001b[0;34m=\u001b[0m\u001b[0;32mTrue\u001b[0m\u001b[0;34m)\u001b[0m\u001b[0;34m\u001b[0m\u001b[0;34m\u001b[0m\u001b[0m\n\u001b[0m",
            "\u001b[0;31mNameError\u001b[0m: name 'to_binary' is not defined"
          ]
        }
      ]
    },
    {
      "cell_type": "code",
      "metadata": {
        "id": "Co7OHkQ3ZwCy",
        "colab_type": "code",
        "colab": {}
      },
      "source": [
        "big_boi_df.head()"
      ],
      "execution_count": 0,
      "outputs": []
    },
    {
      "cell_type": "code",
      "metadata": {
        "id": "A4S4W_NhZod5",
        "colab_type": "code",
        "colab": {
          "base_uri": "https://localhost:8080/",
          "height": 295
        },
        "outputId": "60008384-2f71-4645-cc3b-683fedf34aa2"
      },
      "source": [
        "# plot for the ages\n",
        "pd_df = big_boi_df[big_boi_df['Group'] == 1]\n",
        "control_df =  big_boi_df[big_boi_df['Group'] == 0]\n",
        "\n",
        "plt.hist(pd_df.Age, align='mid', alpha=0.25, color='r', label='pd', bins=10)\n",
        "plt.hist(control_df.Age, align='mid', alpha=0.25, color='b', label='control', bins=10)\n",
        "plt.legend(loc='upper left')\n",
        "\n",
        "# set labels\n",
        "plt.ylabel('Frequency')\n",
        "plt.xlabel('Age')\n",
        "plt.title('Frequency of Ages')\n",
        "\n",
        "# set ticks\n",
        "plt.xticks(np.arange(min(big_boi_df.Age), max(big_boi_df.Age)+1, 5.0))\n",
        "# plt.savefig('figures/age_sex_ageFreq.png')\n",
        "plt.show()"
      ],
      "execution_count": 35,
      "outputs": [
        {
          "output_type": "display_data",
          "data": {
            "image/png": "[encoded data removed]",
            "text/plain": [
              "<Figure size 432x288 with 1 Axes>"
            ]
          },
          "metadata": {
            "tags": []
          }
        }
      ]
    },
    {
      "cell_type": "code",
      "metadata": {
        "id": "trYdaA7idT9s",
        "colab_type": "code",
        "colab": {
          "base_uri": "https://localhost:8080/",
          "height": 34
        },
        "outputId": "68cb7576-a639-4db9-930a-1b6a52a8be47"
      },
      "source": [
        "os.getcwd()"
      ],
      "execution_count": 30,
      "outputs": [
        {
          "output_type": "execute_result",
          "data": {
            "text/plain": [
              "'/content/gdrive/My Drive/msc_project'"
            ]
          },
          "metadata": {
            "tags": []
          },
          "execution_count": 30
        }
      ]
    },
    {
      "cell_type": "code",
      "metadata": {
        "id": "1WQbJqmsbzhB",
        "colab_type": "code",
        "colab": {
          "base_uri": "https://localhost:8080/",
          "height": 295
        },
        "outputId": "3dc3409a-11a8-4af1-d7b5-07c72d872fee"
      },
      "source": [
        "# some boxplots\n",
        "ax = sns.boxplot(x=\"Group\", y=\"Age\", data=big_boi_df)\n",
        "ax.set_xticklabels(['control', 'pd'])\n",
        "plt.title(\"Age Class Distribution\")\n",
        "# plt.savefig('figures/age_sex_boxplot.png')\n",
        "plt.show()"
      ],
      "execution_count": 36,
      "outputs": [
        {
          "output_type": "display_data",
          "data": {
            "image/png": "[encoded data removed]",
            "text/plain": [
              "<Figure size 432x288 with 1 Axes>"
            ]
          },
          "metadata": {
            "tags": []
          }
        }
      ]
    },
    {
      "cell_type": "code",
      "metadata": {
        "id": "YWqqxB8ypBgL",
        "colab_type": "code",
        "colab": {}
      },
      "source": [
        "def create_mlp(dim, regress=False):\n",
        "    '''Create our MLP network'''\n",
        "    model = Sequential()\n",
        "    model.add(Dense(8, input_dim=dim, activation=\"relu\"))\n",
        "    model.add(Dense(2, activation=\"relu\"))\n",
        " \n",
        "    # check to see if the regression node should be added\n",
        "    if regress:\n",
        "        model.add(Dense(1, activation=\"linear\"))\n",
        " \n",
        "    # return our model\n",
        "    return model"
      ],
      "execution_count": 0,
      "outputs": []
    },
    {
      "cell_type": "code",
      "metadata": {
        "id": "bGyH7DU5NOwb",
        "colab_type": "code",
        "colab": {}
      },
      "source": [
        "def get_metrics(hist):\n",
        "  ''' Function to get our metrics from history and score as inputs'''\n",
        "\n",
        "  # actually obtain our metrics\n",
        "  val_loss = hist.history['val_loss'][0]\n",
        "  val_acc = hist.history['val_categorical_accuracy'][0]\n",
        "  train_loss = hist.history['loss'][0]\n",
        "  train_acc = hist.history['categorical_accuracy'][0]\n",
        "\n",
        "  # put everything into one array\n",
        "  return [val_loss, val_acc, train_loss, train_acc]"
      ],
      "execution_count": 0,
      "outputs": []
    },
    {
      "cell_type": "code",
      "metadata": {
        "id": "uqqiKz9VSlrX",
        "colab_type": "code",
        "colab": {}
      },
      "source": [
        "def to_binary(cat_array):\n",
        "  '''Function to convert categorical back to binary values'''\n",
        "  binary_output_array = []\n",
        "  for i in range(len(cat_array)):\n",
        "    binary_output_array.append(np.argmax(cat_array[i]))\n",
        "    \n",
        "  binary_output_array = np.array(binary_output_array)\n",
        "  return binary_output_array"
      ],
      "execution_count": 0,
      "outputs": []
    },
    {
      "cell_type": "code",
      "metadata": {
        "id": "1OS2QxNNpHaP",
        "colab_type": "code",
        "colab": {
          "base_uri": "https://localhost:8080/",
          "height": 156
        },
        "outputId": "2636f066-8160-4cf1-beb5-01b1d73a097e"
      },
      "source": [
        "# creds: https://www.puzzlr.org/the-keras-functional-api-five-simple-examples/\n",
        "# Create MLP models\n",
        "mlp_sex = create_mlp(sex_train.shape[1], regress=False)\n",
        "mlp_age = create_mlp(ages_train.shape[1], regress=False)\n",
        "\n",
        "# create the input to our final set of layers as the *output* of both\n",
        "# the MLP and CNN\n",
        "combined_input = concatenate([mlp_sex.output, mlp_age.output])\n",
        "\n",
        "# our final FC layer head will have two dense layers, the final one\n",
        "# being our regression head\n",
        "x = Dense(8, activation=\"relu\")(combined_input)\n",
        "x = Dense(2, activation=\"sigmoid\")(x)\n",
        "\n",
        "# our final model will accept categorical/numerical data on the MLP\n",
        "# input and images on the CNN input, outputting a single value (the\n",
        "# predicted price of the house)\n",
        "as_model = Model(inputs=[mlp_sex.input, mlp_age.input], outputs=x)"
      ],
      "execution_count": 39,
      "outputs": [
        {
          "output_type": "stream",
          "text": [
            "WARNING: Logging before flag parsing goes to stderr.\n",
            "W0729 07:33:50.713662 140320275679104 deprecation_wrapper.py:119] From /usr/local/lib/python3.6/dist-packages/keras/backend/tensorflow_backend.py:74: The name tf.get_default_graph is deprecated. Please use tf.compat.v1.get_default_graph instead.\n",
            "\n",
            "W0729 07:33:50.769603 140320275679104 deprecation_wrapper.py:119] From /usr/local/lib/python3.6/dist-packages/keras/backend/tensorflow_backend.py:517: The name tf.placeholder is deprecated. Please use tf.compat.v1.placeholder instead.\n",
            "\n",
            "W0729 07:33:50.779481 140320275679104 deprecation_wrapper.py:119] From /usr/local/lib/python3.6/dist-packages/keras/backend/tensorflow_backend.py:4138: The name tf.random_uniform is deprecated. Please use tf.random.uniform instead.\n",
            "\n"
          ],
          "name": "stderr"
        }
      ]
    },
    {
      "cell_type": "code",
      "metadata": {
        "id": "oJ9eUwAMpmj8",
        "colab_type": "code",
        "colab": {
          "base_uri": "https://localhost:8080/",
          "height": 459
        },
        "outputId": "a20914aa-2b63-43cd-eb78-612909000a02"
      },
      "source": [
        "as_model.summary()"
      ],
      "execution_count": 40,
      "outputs": [
        {
          "output_type": "stream",
          "text": [
            "__________________________________________________________________________________________________\n",
            "Layer (type)                    Output Shape         Param #     Connected to                     \n",
            "==================================================================================================\n",
            "dense_1_input (InputLayer)      (None, 2)            0                                            \n",
            "__________________________________________________________________________________________________\n",
            "dense_3_input (InputLayer)      (None, 101)          0                                            \n",
            "__________________________________________________________________________________________________\n",
            "dense_1 (Dense)                 (None, 8)            24          dense_1_input[0][0]              \n",
            "__________________________________________________________________________________________________\n",
            "dense_3 (Dense)                 (None, 8)            816         dense_3_input[0][0]              \n",
            "__________________________________________________________________________________________________\n",
            "dense_2 (Dense)                 (None, 2)            18          dense_1[0][0]                    \n",
            "__________________________________________________________________________________________________\n",
            "dense_4 (Dense)                 (None, 2)            18          dense_3[0][0]                    \n",
            "__________________________________________________________________________________________________\n",
            "concatenate_1 (Concatenate)     (None, 4)            0           dense_2[0][0]                    \n",
            "                                                                 dense_4[0][0]                    \n",
            "__________________________________________________________________________________________________\n",
            "dense_5 (Dense)                 (None, 8)            40          concatenate_1[0][0]              \n",
            "__________________________________________________________________________________________________\n",
            "dense_6 (Dense)                 (None, 2)            18          dense_5[0][0]                    \n",
            "==================================================================================================\n",
            "Total params: 934\n",
            "Trainable params: 934\n",
            "Non-trainable params: 0\n",
            "__________________________________________________________________________________________________\n"
          ],
          "name": "stdout"
        }
      ]
    },
    {
      "cell_type": "code",
      "metadata": {
        "id": "d7wNgZ89trZc",
        "colab_type": "code",
        "outputId": "0180cf4d-c11b-402c-f4c2-20c8fb0ce257",
        "colab": {
          "base_uri": "https://localhost:8080/",
          "height": 1000
        }
      },
      "source": [
        "# compile our model\n",
        "as_model.compile(loss=\"categorical_crossentropy\", optimizer=Adam(lr=1e-3, decay=1e-3 / 200), \n",
        "              metrics = ['categorical_accuracy']) # decay in Adam..\n",
        "\n",
        "# train the model\n",
        "print(\"training model...\")\n",
        "history = as_model.fit([sex_train, ages_train], y_train, validation_split=0.1, epochs=500, batch_size=150)"
      ],
      "execution_count": 33,
      "outputs": [
        {
          "output_type": "stream",
          "text": [
            "training model...\n",
            "Train on 482 samples, validate on 54 samples\n",
            "Epoch 1/500\n",
            "482/482 [==============================] - 1s 3ms/step - loss: 0.5457 - categorical_accuracy: 0.7365 - val_loss: 0.6237 - val_categorical_accuracy: 0.6111\n",
            "Epoch 2/500\n",
            "482/482 [==============================] - 0s 36us/step - loss: 0.5430 - categorical_accuracy: 0.7365 - val_loss: 0.6281 - val_categorical_accuracy: 0.6111\n",
            "Epoch 3/500\n",
            "482/482 [==============================] - 0s 29us/step - loss: 0.5433 - categorical_accuracy: 0.7365 - val_loss: 0.6345 - val_categorical_accuracy: 0.6111\n",
            "Epoch 4/500\n",
            "482/482 [==============================] - 0s 34us/step - loss: 0.5425 - categorical_accuracy: 0.7365 - val_loss: 0.6427 - val_categorical_accuracy: 0.6111\n",
            "Epoch 5/500\n",
            "482/482 [==============================] - 0s 31us/step - loss: 0.5411 - categorical_accuracy: 0.7365 - val_loss: 0.6494 - val_categorical_accuracy: 0.6111\n",
            "Epoch 6/500\n",
            "482/482 [==============================] - 0s 29us/step - loss: 0.5406 - categorical_accuracy: 0.7365 - val_loss: 0.6537 - val_categorical_accuracy: 0.6111\n",
            "Epoch 7/500\n",
            "482/482 [==============================] - 0s 30us/step - loss: 0.5396 - categorical_accuracy: 0.7365 - val_loss: 0.6550 - val_categorical_accuracy: 0.6111\n",
            "Epoch 8/500\n",
            "482/482 [==============================] - 0s 30us/step - loss: 0.5399 - categorical_accuracy: 0.7365 - val_loss: 0.6529 - val_categorical_accuracy: 0.6111\n",
            "Epoch 9/500\n",
            "482/482 [==============================] - 0s 28us/step - loss: 0.5388 - categorical_accuracy: 0.7365 - val_loss: 0.6550 - val_categorical_accuracy: 0.6111\n",
            "Epoch 10/500\n",
            "482/482 [==============================] - 0s 36us/step - loss: 0.5381 - categorical_accuracy: 0.7365 - val_loss: 0.6562 - val_categorical_accuracy: 0.6111\n",
            "Epoch 11/500\n",
            "482/482 [==============================] - 0s 37us/step - loss: 0.5375 - categorical_accuracy: 0.7365 - val_loss: 0.6551 - val_categorical_accuracy: 0.6111\n",
            "Epoch 12/500\n",
            "482/482 [==============================] - 0s 34us/step - loss: 0.5369 - categorical_accuracy: 0.7365 - val_loss: 0.6563 - val_categorical_accuracy: 0.6111\n",
            "Epoch 13/500\n",
            "482/482 [==============================] - 0s 50us/step - loss: 0.5367 - categorical_accuracy: 0.7365 - val_loss: 0.6566 - val_categorical_accuracy: 0.6111\n",
            "Epoch 14/500\n",
            "482/482 [==============================] - 0s 36us/step - loss: 0.5362 - categorical_accuracy: 0.7365 - val_loss: 0.6594 - val_categorical_accuracy: 0.6111\n",
            "Epoch 15/500\n",
            "482/482 [==============================] - 0s 39us/step - loss: 0.5359 - categorical_accuracy: 0.7365 - val_loss: 0.6641 - val_categorical_accuracy: 0.6111\n",
            "Epoch 16/500\n",
            "482/482 [==============================] - 0s 34us/step - loss: 0.5353 - categorical_accuracy: 0.7365 - val_loss: 0.6656 - val_categorical_accuracy: 0.6111\n",
            "Epoch 17/500\n",
            "482/482 [==============================] - 0s 31us/step - loss: 0.5351 - categorical_accuracy: 0.7386 - val_loss: 0.6679 - val_categorical_accuracy: 0.6111\n",
            "Epoch 18/500\n",
            "482/482 [==============================] - 0s 31us/step - loss: 0.5348 - categorical_accuracy: 0.7365 - val_loss: 0.6669 - val_categorical_accuracy: 0.6111\n",
            "Epoch 19/500\n",
            "482/482 [==============================] - 0s 32us/step - loss: 0.5344 - categorical_accuracy: 0.7365 - val_loss: 0.6728 - val_categorical_accuracy: 0.6111\n",
            "Epoch 20/500\n",
            "482/482 [==============================] - 0s 33us/step - loss: 0.5332 - categorical_accuracy: 0.7365 - val_loss: 0.6790 - val_categorical_accuracy: 0.6111\n",
            "Epoch 21/500\n",
            "482/482 [==============================] - 0s 36us/step - loss: 0.5333 - categorical_accuracy: 0.7365 - val_loss: 0.6849 - val_categorical_accuracy: 0.6111\n",
            "Epoch 22/500\n",
            "482/482 [==============================] - 0s 34us/step - loss: 0.5332 - categorical_accuracy: 0.7365 - val_loss: 0.6922 - val_categorical_accuracy: 0.6111\n",
            "Epoch 23/500\n",
            "482/482 [==============================] - 0s 41us/step - loss: 0.5333 - categorical_accuracy: 0.7365 - val_loss: 0.6972 - val_categorical_accuracy: 0.6111\n",
            "Epoch 24/500\n",
            "482/482 [==============================] - 0s 35us/step - loss: 0.5330 - categorical_accuracy: 0.7365 - val_loss: 0.6979 - val_categorical_accuracy: 0.6111\n",
            "Epoch 25/500\n",
            "482/482 [==============================] - 0s 28us/step - loss: 0.5328 - categorical_accuracy: 0.7365 - val_loss: 0.6952 - val_categorical_accuracy: 0.6111\n",
            "Epoch 26/500\n",
            "482/482 [==============================] - 0s 33us/step - loss: 0.5329 - categorical_accuracy: 0.7365 - val_loss: 0.6921 - val_categorical_accuracy: 0.6111\n",
            "Epoch 27/500\n",
            "482/482 [==============================] - 0s 31us/step - loss: 0.5318 - categorical_accuracy: 0.7365 - val_loss: 0.6888 - val_categorical_accuracy: 0.6111\n",
            "Epoch 28/500\n",
            "482/482 [==============================] - 0s 30us/step - loss: 0.5322 - categorical_accuracy: 0.7365 - val_loss: 0.6902 - val_categorical_accuracy: 0.6111\n",
            "Epoch 29/500\n",
            "482/482 [==============================] - 0s 35us/step - loss: 0.5309 - categorical_accuracy: 0.7365 - val_loss: 0.6934 - val_categorical_accuracy: 0.6111\n",
            "Epoch 30/500\n",
            "482/482 [==============================] - 0s 36us/step - loss: 0.5313 - categorical_accuracy: 0.7344 - val_loss: 0.6950 - val_categorical_accuracy: 0.6111\n",
            "Epoch 31/500\n",
            "482/482 [==============================] - 0s 35us/step - loss: 0.5307 - categorical_accuracy: 0.7386 - val_loss: 0.6995 - val_categorical_accuracy: 0.6111\n",
            "Epoch 32/500\n",
            "482/482 [==============================] - 0s 37us/step - loss: 0.5305 - categorical_accuracy: 0.7365 - val_loss: 0.7021 - val_categorical_accuracy: 0.6111\n",
            "Epoch 33/500\n",
            "482/482 [==============================] - 0s 41us/step - loss: 0.5300 - categorical_accuracy: 0.7365 - val_loss: 0.7008 - val_categorical_accuracy: 0.6111\n",
            "Epoch 34/500\n",
            "482/482 [==============================] - 0s 32us/step - loss: 0.5296 - categorical_accuracy: 0.7365 - val_loss: 0.7003 - val_categorical_accuracy: 0.6111\n",
            "Epoch 35/500\n",
            "482/482 [==============================] - 0s 30us/step - loss: 0.5299 - categorical_accuracy: 0.7365 - val_loss: 0.6986 - val_categorical_accuracy: 0.6111\n",
            "Epoch 36/500\n",
            "482/482 [==============================] - 0s 32us/step - loss: 0.5303 - categorical_accuracy: 0.7365 - val_loss: 0.6979 - val_categorical_accuracy: 0.6111\n",
            "Epoch 37/500\n",
            "482/482 [==============================] - 0s 37us/step - loss: 0.5301 - categorical_accuracy: 0.7365 - val_loss: 0.6997 - val_categorical_accuracy: 0.6111\n",
            "Epoch 38/500\n",
            "482/482 [==============================] - 0s 34us/step - loss: 0.5291 - categorical_accuracy: 0.7365 - val_loss: 0.6995 - val_categorical_accuracy: 0.6111\n",
            "Epoch 39/500\n",
            "482/482 [==============================] - 0s 42us/step - loss: 0.5289 - categorical_accuracy: 0.7365 - val_loss: 0.6999 - val_categorical_accuracy: 0.6111\n",
            "Epoch 40/500\n",
            "482/482 [==============================] - 0s 34us/step - loss: 0.5293 - categorical_accuracy: 0.7386 - val_loss: 0.7032 - val_categorical_accuracy: 0.6111\n",
            "Epoch 41/500\n",
            "482/482 [==============================] - 0s 31us/step - loss: 0.5297 - categorical_accuracy: 0.7365 - val_loss: 0.7072 - val_categorical_accuracy: 0.6111\n",
            "Epoch 42/500\n",
            "482/482 [==============================] - 0s 34us/step - loss: 0.5292 - categorical_accuracy: 0.7386 - val_loss: 0.7127 - val_categorical_accuracy: 0.6111\n",
            "Epoch 43/500\n",
            "482/482 [==============================] - 0s 40us/step - loss: 0.5289 - categorical_accuracy: 0.7365 - val_loss: 0.7161 - val_categorical_accuracy: 0.6111\n",
            "Epoch 44/500\n",
            "482/482 [==============================] - 0s 37us/step - loss: 0.5285 - categorical_accuracy: 0.7365 - val_loss: 0.7162 - val_categorical_accuracy: 0.6111\n",
            "Epoch 45/500\n",
            "482/482 [==============================] - 0s 31us/step - loss: 0.5284 - categorical_accuracy: 0.7365 - val_loss: 0.7169 - val_categorical_accuracy: 0.6111\n",
            "Epoch 46/500\n",
            "482/482 [==============================] - 0s 26us/step - loss: 0.5286 - categorical_accuracy: 0.7365 - val_loss: 0.7166 - val_categorical_accuracy: 0.6111\n",
            "Epoch 47/500\n",
            "482/482 [==============================] - 0s 31us/step - loss: 0.5284 - categorical_accuracy: 0.7365 - val_loss: 0.7142 - val_categorical_accuracy: 0.6111\n",
            "Epoch 48/500\n",
            "482/482 [==============================] - 0s 37us/step - loss: 0.5279 - categorical_accuracy: 0.7365 - val_loss: 0.7135 - val_categorical_accuracy: 0.6111\n",
            "Epoch 49/500\n",
            "482/482 [==============================] - 0s 25us/step - loss: 0.5274 - categorical_accuracy: 0.7365 - val_loss: 0.7138 - val_categorical_accuracy: 0.6111\n",
            "Epoch 50/500\n",
            "482/482 [==============================] - 0s 30us/step - loss: 0.5276 - categorical_accuracy: 0.7365 - val_loss: 0.7137 - val_categorical_accuracy: 0.6111\n",
            "Epoch 51/500\n",
            "482/482 [==============================] - 0s 34us/step - loss: 0.5273 - categorical_accuracy: 0.7365 - val_loss: 0.7128 - val_categorical_accuracy: 0.6111\n",
            "Epoch 52/500\n",
            "482/482 [==============================] - 0s 29us/step - loss: 0.5274 - categorical_accuracy: 0.7365 - val_loss: 0.7122 - val_categorical_accuracy: 0.6111\n",
            "Epoch 53/500\n",
            "482/482 [==============================] - 0s 31us/step - loss: 0.5277 - categorical_accuracy: 0.7365 - val_loss: 0.7117 - val_categorical_accuracy: 0.6111\n",
            "Epoch 54/500\n",
            "482/482 [==============================] - 0s 38us/step - loss: 0.5274 - categorical_accuracy: 0.7365 - val_loss: 0.7130 - val_categorical_accuracy: 0.6111\n",
            "Epoch 55/500\n",
            "482/482 [==============================] - 0s 33us/step - loss: 0.5275 - categorical_accuracy: 0.7365 - val_loss: 0.7189 - val_categorical_accuracy: 0.6111\n",
            "Epoch 56/500\n",
            "482/482 [==============================] - 0s 32us/step - loss: 0.5271 - categorical_accuracy: 0.7365 - val_loss: 0.7217 - val_categorical_accuracy: 0.6111\n",
            "Epoch 57/500\n",
            "482/482 [==============================] - 0s 30us/step - loss: 0.5274 - categorical_accuracy: 0.7365 - val_loss: 0.7262 - val_categorical_accuracy: 0.6111\n",
            "Epoch 58/500\n",
            "482/482 [==============================] - 0s 30us/step - loss: 0.5270 - categorical_accuracy: 0.7365 - val_loss: 0.7314 - val_categorical_accuracy: 0.6111\n",
            "Epoch 59/500\n",
            "482/482 [==============================] - 0s 32us/step - loss: 0.5263 - categorical_accuracy: 0.7365 - val_loss: 0.7335 - val_categorical_accuracy: 0.6111\n",
            "Epoch 60/500\n",
            "482/482 [==============================] - 0s 37us/step - loss: 0.5260 - categorical_accuracy: 0.7365 - val_loss: 0.7328 - val_categorical_accuracy: 0.6111\n",
            "Epoch 61/500\n",
            "482/482 [==============================] - 0s 31us/step - loss: 0.5270 - categorical_accuracy: 0.7365 - val_loss: 0.7331 - val_categorical_accuracy: 0.5926\n",
            "Epoch 62/500\n",
            "482/482 [==============================] - 0s 35us/step - loss: 0.5282 - categorical_accuracy: 0.7344 - val_loss: 0.7309 - val_categorical_accuracy: 0.5926\n",
            "Epoch 63/500\n",
            "482/482 [==============================] - 0s 36us/step - loss: 0.5278 - categorical_accuracy: 0.7344 - val_loss: 0.7311 - val_categorical_accuracy: 0.5926\n",
            "Epoch 64/500\n",
            "482/482 [==============================] - 0s 33us/step - loss: 0.5265 - categorical_accuracy: 0.7386 - val_loss: 0.7329 - val_categorical_accuracy: 0.6111\n",
            "Epoch 65/500\n",
            "482/482 [==============================] - 0s 36us/step - loss: 0.5254 - categorical_accuracy: 0.7365 - val_loss: 0.7346 - val_categorical_accuracy: 0.6111\n",
            "Epoch 66/500\n",
            "482/482 [==============================] - 0s 31us/step - loss: 0.5261 - categorical_accuracy: 0.7365 - val_loss: 0.7356 - val_categorical_accuracy: 0.6111\n",
            "Epoch 67/500\n",
            "482/482 [==============================] - 0s 33us/step - loss: 0.5272 - categorical_accuracy: 0.7365 - val_loss: 0.7314 - val_categorical_accuracy: 0.6111\n",
            "Epoch 68/500\n",
            "482/482 [==============================] - 0s 29us/step - loss: 0.5280 - categorical_accuracy: 0.7365 - val_loss: 0.7293 - val_categorical_accuracy: 0.6111\n",
            "Epoch 69/500\n",
            "482/482 [==============================] - 0s 36us/step - loss: 0.5267 - categorical_accuracy: 0.7365 - val_loss: 0.7279 - val_categorical_accuracy: 0.6111\n",
            "Epoch 70/500\n",
            "482/482 [==============================] - 0s 32us/step - loss: 0.5251 - categorical_accuracy: 0.7365 - val_loss: 0.7266 - val_categorical_accuracy: 0.6111\n",
            "Epoch 71/500\n",
            "482/482 [==============================] - 0s 41us/step - loss: 0.5271 - categorical_accuracy: 0.7324 - val_loss: 0.7282 - val_categorical_accuracy: 0.5926\n",
            "Epoch 72/500\n",
            "482/482 [==============================] - 0s 36us/step - loss: 0.5279 - categorical_accuracy: 0.7344 - val_loss: 0.7312 - val_categorical_accuracy: 0.5926\n",
            "Epoch 73/500\n",
            "482/482 [==============================] - 0s 46us/step - loss: 0.5269 - categorical_accuracy: 0.7344 - val_loss: 0.7345 - val_categorical_accuracy: 0.6111\n",
            "Epoch 74/500\n",
            "482/482 [==============================] - 0s 28us/step - loss: 0.5256 - categorical_accuracy: 0.7365 - val_loss: 0.7380 - val_categorical_accuracy: 0.6111\n",
            "Epoch 75/500\n",
            "482/482 [==============================] - 0s 33us/step - loss: 0.5247 - categorical_accuracy: 0.7344 - val_loss: 0.7425 - val_categorical_accuracy: 0.6111\n",
            "Epoch 76/500\n",
            "482/482 [==============================] - 0s 47us/step - loss: 0.5246 - categorical_accuracy: 0.7365 - val_loss: 0.7460 - val_categorical_accuracy: 0.6111\n",
            "Epoch 77/500\n",
            "482/482 [==============================] - 0s 38us/step - loss: 0.5256 - categorical_accuracy: 0.7365 - val_loss: 0.7515 - val_categorical_accuracy: 0.6111\n",
            "Epoch 78/500\n",
            "482/482 [==============================] - 0s 35us/step - loss: 0.5262 - categorical_accuracy: 0.7365 - val_loss: 0.7499 - val_categorical_accuracy: 0.6111\n",
            "Epoch 79/500\n",
            "482/482 [==============================] - 0s 39us/step - loss: 0.5249 - categorical_accuracy: 0.7365 - val_loss: 0.7441 - val_categorical_accuracy: 0.6111\n",
            "Epoch 80/500\n",
            "482/482 [==============================] - 0s 37us/step - loss: 0.5240 - categorical_accuracy: 0.7365 - val_loss: 0.7385 - val_categorical_accuracy: 0.6111\n",
            "Epoch 81/500\n",
            "482/482 [==============================] - 0s 34us/step - loss: 0.5242 - categorical_accuracy: 0.7365 - val_loss: 0.7361 - val_categorical_accuracy: 0.6111\n",
            "Epoch 82/500\n",
            "482/482 [==============================] - 0s 38us/step - loss: 0.5254 - categorical_accuracy: 0.7365 - val_loss: 0.7370 - val_categorical_accuracy: 0.6111\n",
            "Epoch 83/500\n",
            "482/482 [==============================] - 0s 32us/step - loss: 0.5249 - categorical_accuracy: 0.7365 - val_loss: 0.7408 - val_categorical_accuracy: 0.6111\n",
            "Epoch 84/500\n",
            "482/482 [==============================] - 0s 29us/step - loss: 0.5249 - categorical_accuracy: 0.7365 - val_loss: 0.7438 - val_categorical_accuracy: 0.6111\n",
            "Epoch 85/500\n",
            "482/482 [==============================] - 0s 33us/step - loss: 0.5245 - categorical_accuracy: 0.7365 - val_loss: 0.7463 - val_categorical_accuracy: 0.6111\n",
            "Epoch 86/500\n",
            "482/482 [==============================] - 0s 27us/step - loss: 0.5243 - categorical_accuracy: 0.7344 - val_loss: 0.7457 - val_categorical_accuracy: 0.6111\n",
            "Epoch 87/500\n",
            "482/482 [==============================] - 0s 30us/step - loss: 0.5239 - categorical_accuracy: 0.7365 - val_loss: 0.7452 - val_categorical_accuracy: 0.6111\n",
            "Epoch 88/500\n",
            "482/482 [==============================] - 0s 40us/step - loss: 0.5242 - categorical_accuracy: 0.7365 - val_loss: 0.7441 - val_categorical_accuracy: 0.6111\n",
            "Epoch 89/500\n",
            "482/482 [==============================] - 0s 30us/step - loss: 0.5244 - categorical_accuracy: 0.7365 - val_loss: 0.7441 - val_categorical_accuracy: 0.6111\n",
            "Epoch 90/500\n",
            "482/482 [==============================] - 0s 42us/step - loss: 0.5243 - categorical_accuracy: 0.7365 - val_loss: 0.7444 - val_categorical_accuracy: 0.6111\n",
            "Epoch 91/500\n",
            "482/482 [==============================] - 0s 33us/step - loss: 0.5239 - categorical_accuracy: 0.7365 - val_loss: 0.7459 - val_categorical_accuracy: 0.6111\n",
            "Epoch 92/500\n",
            "482/482 [==============================] - 0s 33us/step - loss: 0.5238 - categorical_accuracy: 0.7365 - val_loss: 0.7467 - val_categorical_accuracy: 0.6111\n",
            "Epoch 93/500\n",
            "482/482 [==============================] - 0s 36us/step - loss: 0.5241 - categorical_accuracy: 0.7365 - val_loss: 0.7499 - val_categorical_accuracy: 0.6111\n",
            "Epoch 94/500\n",
            "482/482 [==============================] - 0s 39us/step - loss: 0.5236 - categorical_accuracy: 0.7365 - val_loss: 0.7521 - val_categorical_accuracy: 0.6111\n",
            "Epoch 95/500\n",
            "482/482 [==============================] - 0s 36us/step - loss: 0.5233 - categorical_accuracy: 0.7365 - val_loss: 0.7543 - val_categorical_accuracy: 0.6111\n",
            "Epoch 96/500\n",
            "482/482 [==============================] - 0s 30us/step - loss: 0.5234 - categorical_accuracy: 0.7344 - val_loss: 0.7554 - val_categorical_accuracy: 0.6111\n",
            "Epoch 97/500\n",
            "482/482 [==============================] - 0s 29us/step - loss: 0.5237 - categorical_accuracy: 0.7365 - val_loss: 0.7573 - val_categorical_accuracy: 0.6111\n",
            "Epoch 98/500\n",
            "482/482 [==============================] - 0s 32us/step - loss: 0.5233 - categorical_accuracy: 0.7365 - val_loss: 0.7602 - val_categorical_accuracy: 0.6111\n",
            "Epoch 99/500\n",
            "482/482 [==============================] - 0s 32us/step - loss: 0.5236 - categorical_accuracy: 0.7365 - val_loss: 0.7630 - val_categorical_accuracy: 0.6111\n",
            "Epoch 100/500\n",
            "482/482 [==============================] - 0s 37us/step - loss: 0.5236 - categorical_accuracy: 0.7365 - val_loss: 0.7662 - val_categorical_accuracy: 0.6111\n",
            "Epoch 101/500\n",
            "482/482 [==============================] - 0s 35us/step - loss: 0.5236 - categorical_accuracy: 0.7365 - val_loss: 0.7690 - val_categorical_accuracy: 0.6111\n",
            "Epoch 102/500\n",
            "482/482 [==============================] - 0s 33us/step - loss: 0.5234 - categorical_accuracy: 0.7365 - val_loss: 0.7686 - val_categorical_accuracy: 0.6111\n",
            "Epoch 103/500\n",
            "482/482 [==============================] - 0s 32us/step - loss: 0.5230 - categorical_accuracy: 0.7365 - val_loss: 0.7671 - val_categorical_accuracy: 0.6111\n",
            "Epoch 104/500\n",
            "482/482 [==============================] - 0s 36us/step - loss: 0.5229 - categorical_accuracy: 0.7365 - val_loss: 0.7643 - val_categorical_accuracy: 0.6111\n",
            "Epoch 105/500\n",
            "482/482 [==============================] - 0s 37us/step - loss: 0.5225 - categorical_accuracy: 0.7365 - val_loss: 0.7630 - val_categorical_accuracy: 0.6111\n",
            "Epoch 106/500\n",
            "482/482 [==============================] - 0s 39us/step - loss: 0.5224 - categorical_accuracy: 0.7365 - val_loss: 0.7613 - val_categorical_accuracy: 0.6111\n",
            "Epoch 107/500\n",
            "482/482 [==============================] - 0s 38us/step - loss: 0.5226 - categorical_accuracy: 0.7365 - val_loss: 0.7577 - val_categorical_accuracy: 0.6111\n",
            "Epoch 108/500\n",
            "482/482 [==============================] - 0s 30us/step - loss: 0.5223 - categorical_accuracy: 0.7365 - val_loss: 0.7571 - val_categorical_accuracy: 0.6111\n",
            "Epoch 109/500\n",
            "482/482 [==============================] - 0s 29us/step - loss: 0.5222 - categorical_accuracy: 0.7365 - val_loss: 0.7582 - val_categorical_accuracy: 0.5741\n",
            "Epoch 110/500\n",
            "482/482 [==============================] - 0s 38us/step - loss: 0.5232 - categorical_accuracy: 0.7344 - val_loss: 0.7595 - val_categorical_accuracy: 0.5741\n",
            "Epoch 111/500\n",
            "482/482 [==============================] - 0s 34us/step - loss: 0.5227 - categorical_accuracy: 0.7365 - val_loss: 0.7558 - val_categorical_accuracy: 0.6111\n",
            "Epoch 112/500\n",
            "482/482 [==============================] - 0s 33us/step - loss: 0.5219 - categorical_accuracy: 0.7365 - val_loss: 0.7540 - val_categorical_accuracy: 0.6111\n",
            "Epoch 113/500\n",
            "482/482 [==============================] - 0s 42us/step - loss: 0.5219 - categorical_accuracy: 0.7365 - val_loss: 0.7530 - val_categorical_accuracy: 0.6111\n",
            "Epoch 114/500\n",
            "482/482 [==============================] - 0s 37us/step - loss: 0.5219 - categorical_accuracy: 0.7365 - val_loss: 0.7533 - val_categorical_accuracy: 0.6111\n",
            "Epoch 115/500\n",
            "482/482 [==============================] - 0s 32us/step - loss: 0.5223 - categorical_accuracy: 0.7365 - val_loss: 0.7556 - val_categorical_accuracy: 0.6111\n",
            "Epoch 116/500\n",
            "482/482 [==============================] - 0s 45us/step - loss: 0.5217 - categorical_accuracy: 0.7365 - val_loss: 0.7558 - val_categorical_accuracy: 0.6111\n",
            "Epoch 117/500\n",
            "482/482 [==============================] - 0s 52us/step - loss: 0.5214 - categorical_accuracy: 0.7365 - val_loss: 0.7585 - val_categorical_accuracy: 0.6111\n",
            "Epoch 118/500\n",
            "482/482 [==============================] - 0s 37us/step - loss: 0.5213 - categorical_accuracy: 0.7365 - val_loss: 0.7616 - val_categorical_accuracy: 0.6111\n",
            "Epoch 119/500\n",
            "482/482 [==============================] - 0s 30us/step - loss: 0.5209 - categorical_accuracy: 0.7365 - val_loss: 0.7677 - val_categorical_accuracy: 0.6111\n",
            "Epoch 120/500\n",
            "482/482 [==============================] - 0s 31us/step - loss: 0.5210 - categorical_accuracy: 0.7365 - val_loss: 0.7749 - val_categorical_accuracy: 0.6111\n",
            "Epoch 121/500\n",
            "482/482 [==============================] - 0s 29us/step - loss: 0.5212 - categorical_accuracy: 0.7365 - val_loss: 0.7796 - val_categorical_accuracy: 0.6111\n",
            "Epoch 122/500\n",
            "482/482 [==============================] - 0s 35us/step - loss: 0.5214 - categorical_accuracy: 0.7365 - val_loss: 0.7822 - val_categorical_accuracy: 0.6111\n",
            "Epoch 123/500\n",
            "482/482 [==============================] - 0s 37us/step - loss: 0.5212 - categorical_accuracy: 0.7365 - val_loss: 0.7809 - val_categorical_accuracy: 0.6111\n",
            "Epoch 124/500\n",
            "482/482 [==============================] - 0s 41us/step - loss: 0.5212 - categorical_accuracy: 0.7365 - val_loss: 0.7779 - val_categorical_accuracy: 0.6111\n",
            "Epoch 125/500\n",
            "482/482 [==============================] - 0s 34us/step - loss: 0.5208 - categorical_accuracy: 0.7365 - val_loss: 0.7767 - val_categorical_accuracy: 0.6111\n",
            "Epoch 126/500\n",
            "482/482 [==============================] - 0s 44us/step - loss: 0.5214 - categorical_accuracy: 0.7365 - val_loss: 0.7751 - val_categorical_accuracy: 0.6111\n",
            "Epoch 127/500\n",
            "482/482 [==============================] - 0s 42us/step - loss: 0.5207 - categorical_accuracy: 0.7365 - val_loss: 0.7737 - val_categorical_accuracy: 0.6111\n",
            "Epoch 128/500\n",
            "482/482 [==============================] - 0s 40us/step - loss: 0.5205 - categorical_accuracy: 0.7365 - val_loss: 0.7721 - val_categorical_accuracy: 0.6111\n",
            "Epoch 129/500\n",
            "482/482 [==============================] - 0s 30us/step - loss: 0.5202 - categorical_accuracy: 0.7365 - val_loss: 0.7724 - val_categorical_accuracy: 0.6111\n",
            "Epoch 130/500\n",
            "482/482 [==============================] - 0s 43us/step - loss: 0.5201 - categorical_accuracy: 0.7365 - val_loss: 0.7707 - val_categorical_accuracy: 0.6111\n",
            "Epoch 131/500\n",
            "482/482 [==============================] - 0s 32us/step - loss: 0.5200 - categorical_accuracy: 0.7365 - val_loss: 0.7695 - val_categorical_accuracy: 0.6111\n",
            "Epoch 132/500\n",
            "482/482 [==============================] - 0s 32us/step - loss: 0.5200 - categorical_accuracy: 0.7407 - val_loss: 0.7678 - val_categorical_accuracy: 0.6111\n",
            "Epoch 133/500\n",
            "482/482 [==============================] - 0s 29us/step - loss: 0.5202 - categorical_accuracy: 0.7365 - val_loss: 0.7664 - val_categorical_accuracy: 0.6111\n",
            "Epoch 134/500\n",
            "482/482 [==============================] - 0s 36us/step - loss: 0.5200 - categorical_accuracy: 0.7365 - val_loss: 0.7661 - val_categorical_accuracy: 0.6111\n",
            "Epoch 135/500\n",
            "482/482 [==============================] - 0s 43us/step - loss: 0.5197 - categorical_accuracy: 0.7386 - val_loss: 0.7652 - val_categorical_accuracy: 0.6111\n",
            "Epoch 136/500\n",
            "482/482 [==============================] - 0s 39us/step - loss: 0.5195 - categorical_accuracy: 0.7365 - val_loss: 0.7657 - val_categorical_accuracy: 0.6111\n",
            "Epoch 137/500\n",
            "482/482 [==============================] - 0s 47us/step - loss: 0.5196 - categorical_accuracy: 0.7365 - val_loss: 0.7692 - val_categorical_accuracy: 0.6111\n",
            "Epoch 138/500\n",
            "482/482 [==============================] - 0s 33us/step - loss: 0.5201 - categorical_accuracy: 0.7365 - val_loss: 0.7716 - val_categorical_accuracy: 0.6111\n",
            "Epoch 139/500\n",
            "482/482 [==============================] - 0s 28us/step - loss: 0.5198 - categorical_accuracy: 0.7365 - val_loss: 0.7724 - val_categorical_accuracy: 0.6111\n",
            "Epoch 140/500\n",
            "482/482 [==============================] - 0s 30us/step - loss: 0.5192 - categorical_accuracy: 0.7365 - val_loss: 0.7751 - val_categorical_accuracy: 0.6111\n",
            "Epoch 141/500\n",
            "482/482 [==============================] - 0s 31us/step - loss: 0.5208 - categorical_accuracy: 0.7365 - val_loss: 0.7783 - val_categorical_accuracy: 0.5741\n",
            "Epoch 142/500\n",
            "482/482 [==============================] - 0s 31us/step - loss: 0.5207 - categorical_accuracy: 0.7344 - val_loss: 0.7775 - val_categorical_accuracy: 0.5741\n",
            "Epoch 143/500\n",
            "482/482 [==============================] - 0s 29us/step - loss: 0.5204 - categorical_accuracy: 0.7344 - val_loss: 0.7755 - val_categorical_accuracy: 0.6111\n",
            "Epoch 144/500\n",
            "482/482 [==============================] - 0s 34us/step - loss: 0.5201 - categorical_accuracy: 0.7365 - val_loss: 0.7737 - val_categorical_accuracy: 0.6111\n",
            "Epoch 145/500\n",
            "482/482 [==============================] - 0s 25us/step - loss: 0.5195 - categorical_accuracy: 0.7324 - val_loss: 0.7728 - val_categorical_accuracy: 0.6111\n",
            "Epoch 146/500\n",
            "482/482 [==============================] - 0s 32us/step - loss: 0.5197 - categorical_accuracy: 0.7365 - val_loss: 0.7708 - val_categorical_accuracy: 0.6111\n",
            "Epoch 147/500\n",
            "482/482 [==============================] - 0s 31us/step - loss: 0.5194 - categorical_accuracy: 0.7365 - val_loss: 0.7673 - val_categorical_accuracy: 0.6111\n",
            "Epoch 148/500\n",
            "482/482 [==============================] - 0s 32us/step - loss: 0.5193 - categorical_accuracy: 0.7344 - val_loss: 0.7669 - val_categorical_accuracy: 0.6111\n",
            "Epoch 149/500\n",
            "482/482 [==============================] - 0s 29us/step - loss: 0.5192 - categorical_accuracy: 0.7365 - val_loss: 0.7669 - val_categorical_accuracy: 0.6111\n",
            "Epoch 150/500\n",
            "482/482 [==============================] - 0s 34us/step - loss: 0.5190 - categorical_accuracy: 0.7365 - val_loss: 0.7667 - val_categorical_accuracy: 0.6111\n",
            "Epoch 151/500\n",
            "482/482 [==============================] - 0s 32us/step - loss: 0.5190 - categorical_accuracy: 0.7365 - val_loss: 0.7649 - val_categorical_accuracy: 0.6111\n",
            "Epoch 152/500\n",
            "482/482 [==============================] - 0s 31us/step - loss: 0.5195 - categorical_accuracy: 0.7365 - val_loss: 0.7623 - val_categorical_accuracy: 0.6111\n",
            "Epoch 153/500\n",
            "482/482 [==============================] - 0s 31us/step - loss: 0.5195 - categorical_accuracy: 0.7365 - val_loss: 0.7628 - val_categorical_accuracy: 0.6111\n",
            "Epoch 154/500\n",
            "482/482 [==============================] - 0s 33us/step - loss: 0.5193 - categorical_accuracy: 0.7365 - val_loss: 0.7646 - val_categorical_accuracy: 0.6111\n",
            "Epoch 155/500\n",
            "482/482 [==============================] - 0s 36us/step - loss: 0.5196 - categorical_accuracy: 0.7365 - val_loss: 0.7648 - val_categorical_accuracy: 0.6111\n",
            "Epoch 156/500\n",
            "482/482 [==============================] - 0s 32us/step - loss: 0.5200 - categorical_accuracy: 0.7365 - val_loss: 0.7652 - val_categorical_accuracy: 0.6111\n",
            "Epoch 157/500\n",
            "482/482 [==============================] - 0s 30us/step - loss: 0.5199 - categorical_accuracy: 0.7365 - val_loss: 0.7669 - val_categorical_accuracy: 0.6111\n",
            "Epoch 158/500\n",
            "482/482 [==============================] - 0s 29us/step - loss: 0.5195 - categorical_accuracy: 0.7365 - val_loss: 0.7681 - val_categorical_accuracy: 0.6111\n",
            "Epoch 159/500\n",
            "482/482 [==============================] - 0s 40us/step - loss: 0.5191 - categorical_accuracy: 0.7365 - val_loss: 0.7716 - val_categorical_accuracy: 0.6111\n",
            "Epoch 160/500\n",
            "482/482 [==============================] - 0s 31us/step - loss: 0.5185 - categorical_accuracy: 0.7365 - val_loss: 0.7731 - val_categorical_accuracy: 0.6111\n",
            "Epoch 161/500\n",
            "482/482 [==============================] - 0s 33us/step - loss: 0.5184 - categorical_accuracy: 0.7365 - val_loss: 0.7744 - val_categorical_accuracy: 0.6111\n",
            "Epoch 162/500\n",
            "482/482 [==============================] - 0s 29us/step - loss: 0.5183 - categorical_accuracy: 0.7365 - val_loss: 0.7743 - val_categorical_accuracy: 0.6111\n",
            "Epoch 163/500\n",
            "482/482 [==============================] - 0s 30us/step - loss: 0.5181 - categorical_accuracy: 0.7365 - val_loss: 0.7742 - val_categorical_accuracy: 0.6111\n",
            "Epoch 164/500\n",
            "482/482 [==============================] - 0s 28us/step - loss: 0.5181 - categorical_accuracy: 0.7365 - val_loss: 0.7735 - val_categorical_accuracy: 0.6111\n",
            "Epoch 165/500\n",
            "482/482 [==============================] - 0s 29us/step - loss: 0.5187 - categorical_accuracy: 0.7365 - val_loss: 0.7725 - val_categorical_accuracy: 0.6111\n",
            "Epoch 166/500\n",
            "482/482 [==============================] - 0s 30us/step - loss: 0.5182 - categorical_accuracy: 0.7365 - val_loss: 0.7739 - val_categorical_accuracy: 0.6111\n",
            "Epoch 167/500\n",
            "482/482 [==============================] - 0s 29us/step - loss: 0.5182 - categorical_accuracy: 0.7365 - val_loss: 0.7751 - val_categorical_accuracy: 0.6111\n",
            "Epoch 168/500\n",
            "482/482 [==============================] - 0s 34us/step - loss: 0.5181 - categorical_accuracy: 0.7365 - val_loss: 0.7764 - val_categorical_accuracy: 0.6111\n",
            "Epoch 169/500\n",
            "482/482 [==============================] - 0s 34us/step - loss: 0.5179 - categorical_accuracy: 0.7365 - val_loss: 0.7757 - val_categorical_accuracy: 0.6111\n",
            "Epoch 170/500\n",
            "482/482 [==============================] - 0s 26us/step - loss: 0.5178 - categorical_accuracy: 0.7365 - val_loss: 0.7758 - val_categorical_accuracy: 0.6111\n",
            "Epoch 171/500\n",
            "482/482 [==============================] - 0s 27us/step - loss: 0.5184 - categorical_accuracy: 0.7365 - val_loss: 0.7748 - val_categorical_accuracy: 0.6111\n",
            "Epoch 172/500\n",
            "482/482 [==============================] - 0s 48us/step - loss: 0.5183 - categorical_accuracy: 0.7365 - val_loss: 0.7729 - val_categorical_accuracy: 0.6111\n",
            "Epoch 173/500\n",
            "482/482 [==============================] - 0s 33us/step - loss: 0.5181 - categorical_accuracy: 0.7365 - val_loss: 0.7714 - val_categorical_accuracy: 0.6111\n",
            "Epoch 174/500\n",
            "482/482 [==============================] - 0s 25us/step - loss: 0.5188 - categorical_accuracy: 0.7365 - val_loss: 0.7717 - val_categorical_accuracy: 0.6111\n",
            "Epoch 175/500\n",
            "482/482 [==============================] - 0s 26us/step - loss: 0.5187 - categorical_accuracy: 0.7365 - val_loss: 0.7730 - val_categorical_accuracy: 0.6111\n",
            "Epoch 176/500\n",
            "482/482 [==============================] - 0s 29us/step - loss: 0.5186 - categorical_accuracy: 0.7365 - val_loss: 0.7747 - val_categorical_accuracy: 0.6111\n",
            "Epoch 177/500\n",
            "482/482 [==============================] - 0s 33us/step - loss: 0.5181 - categorical_accuracy: 0.7365 - val_loss: 0.7763 - val_categorical_accuracy: 0.6111\n",
            "Epoch 178/500\n",
            "482/482 [==============================] - 0s 31us/step - loss: 0.5183 - categorical_accuracy: 0.7344 - val_loss: 0.7772 - val_categorical_accuracy: 0.6111\n",
            "Epoch 179/500\n",
            "482/482 [==============================] - 0s 29us/step - loss: 0.5181 - categorical_accuracy: 0.7365 - val_loss: 0.7785 - val_categorical_accuracy: 0.6111\n",
            "Epoch 180/500\n",
            "482/482 [==============================] - 0s 27us/step - loss: 0.5184 - categorical_accuracy: 0.7365 - val_loss: 0.7797 - val_categorical_accuracy: 0.6111\n",
            "Epoch 181/500\n",
            "482/482 [==============================] - 0s 32us/step - loss: 0.5183 - categorical_accuracy: 0.7365 - val_loss: 0.7821 - val_categorical_accuracy: 0.6111\n",
            "Epoch 182/500\n",
            "482/482 [==============================] - 0s 31us/step - loss: 0.5190 - categorical_accuracy: 0.7365 - val_loss: 0.7866 - val_categorical_accuracy: 0.6111\n",
            "Epoch 183/500\n",
            "482/482 [==============================] - 0s 37us/step - loss: 0.5193 - categorical_accuracy: 0.7365 - val_loss: 0.7919 - val_categorical_accuracy: 0.6111\n",
            "Epoch 184/500\n",
            "482/482 [==============================] - 0s 29us/step - loss: 0.5183 - categorical_accuracy: 0.7365 - val_loss: 0.7940 - val_categorical_accuracy: 0.6111\n",
            "Epoch 185/500\n",
            "482/482 [==============================] - 0s 34us/step - loss: 0.5173 - categorical_accuracy: 0.7365 - val_loss: 0.7923 - val_categorical_accuracy: 0.6111\n",
            "Epoch 186/500\n",
            "482/482 [==============================] - 0s 37us/step - loss: 0.5180 - categorical_accuracy: 0.7324 - val_loss: 0.7893 - val_categorical_accuracy: 0.6111\n",
            "Epoch 187/500\n",
            "482/482 [==============================] - 0s 29us/step - loss: 0.5196 - categorical_accuracy: 0.7324 - val_loss: 0.7856 - val_categorical_accuracy: 0.6111\n",
            "Epoch 188/500\n",
            "482/482 [==============================] - 0s 30us/step - loss: 0.5193 - categorical_accuracy: 0.7365 - val_loss: 0.7847 - val_categorical_accuracy: 0.6111\n",
            "Epoch 189/500\n",
            "482/482 [==============================] - 0s 28us/step - loss: 0.5184 - categorical_accuracy: 0.7365 - val_loss: 0.7861 - val_categorical_accuracy: 0.6111\n",
            "Epoch 190/500\n",
            "482/482 [==============================] - 0s 33us/step - loss: 0.5180 - categorical_accuracy: 0.7365 - val_loss: 0.7871 - val_categorical_accuracy: 0.6111\n",
            "Epoch 191/500\n",
            "482/482 [==============================] - 0s 30us/step - loss: 0.5179 - categorical_accuracy: 0.7365 - val_loss: 0.7893 - val_categorical_accuracy: 0.6111\n",
            "Epoch 192/500\n",
            "482/482 [==============================] - 0s 27us/step - loss: 0.5183 - categorical_accuracy: 0.7365 - val_loss: 0.7916 - val_categorical_accuracy: 0.6111\n",
            "Epoch 193/500\n",
            "482/482 [==============================] - 0s 28us/step - loss: 0.5188 - categorical_accuracy: 0.7344 - val_loss: 0.7939 - val_categorical_accuracy: 0.5741\n",
            "Epoch 194/500\n",
            "482/482 [==============================] - 0s 35us/step - loss: 0.5188 - categorical_accuracy: 0.7365 - val_loss: 0.7919 - val_categorical_accuracy: 0.6111\n",
            "Epoch 195/500\n",
            "482/482 [==============================] - 0s 32us/step - loss: 0.5181 - categorical_accuracy: 0.7365 - val_loss: 0.7877 - val_categorical_accuracy: 0.6111\n",
            "Epoch 196/500\n",
            "482/482 [==============================] - 0s 33us/step - loss: 0.5176 - categorical_accuracy: 0.7365 - val_loss: 0.7840 - val_categorical_accuracy: 0.6111\n",
            "Epoch 197/500\n",
            "482/482 [==============================] - 0s 33us/step - loss: 0.5173 - categorical_accuracy: 0.7344 - val_loss: 0.7820 - val_categorical_accuracy: 0.6111\n",
            "Epoch 198/500\n",
            "482/482 [==============================] - 0s 32us/step - loss: 0.5176 - categorical_accuracy: 0.7365 - val_loss: 0.7834 - val_categorical_accuracy: 0.6111\n",
            "Epoch 199/500\n",
            "482/482 [==============================] - 0s 37us/step - loss: 0.5170 - categorical_accuracy: 0.7344 - val_loss: 0.7858 - val_categorical_accuracy: 0.6111\n",
            "Epoch 200/500\n",
            "482/482 [==============================] - 0s 36us/step - loss: 0.5171 - categorical_accuracy: 0.7365 - val_loss: 0.7892 - val_categorical_accuracy: 0.6111\n",
            "Epoch 201/500\n",
            "482/482 [==============================] - 0s 30us/step - loss: 0.5179 - categorical_accuracy: 0.7344 - val_loss: 0.7948 - val_categorical_accuracy: 0.6111\n",
            "Epoch 202/500\n",
            "482/482 [==============================] - 0s 35us/step - loss: 0.5176 - categorical_accuracy: 0.7365 - val_loss: 0.7975 - val_categorical_accuracy: 0.6111\n",
            "Epoch 203/500\n",
            "482/482 [==============================] - 0s 31us/step - loss: 0.5171 - categorical_accuracy: 0.7386 - val_loss: 0.7994 - val_categorical_accuracy: 0.6111\n",
            "Epoch 204/500\n",
            "482/482 [==============================] - 0s 32us/step - loss: 0.5172 - categorical_accuracy: 0.7365 - val_loss: 0.7994 - val_categorical_accuracy: 0.6111\n",
            "Epoch 205/500\n",
            "482/482 [==============================] - 0s 37us/step - loss: 0.5173 - categorical_accuracy: 0.7365 - val_loss: 0.7999 - val_categorical_accuracy: 0.6111\n",
            "Epoch 206/500\n",
            "482/482 [==============================] - 0s 39us/step - loss: 0.5170 - categorical_accuracy: 0.7344 - val_loss: 0.8033 - val_categorical_accuracy: 0.6111\n",
            "Epoch 207/500\n",
            "482/482 [==============================] - 0s 36us/step - loss: 0.5176 - categorical_accuracy: 0.7365 - val_loss: 0.8032 - val_categorical_accuracy: 0.6111\n",
            "Epoch 208/500\n",
            "482/482 [==============================] - 0s 32us/step - loss: 0.5172 - categorical_accuracy: 0.7344 - val_loss: 0.8024 - val_categorical_accuracy: 0.6111\n",
            "Epoch 209/500\n",
            "482/482 [==============================] - 0s 32us/step - loss: 0.5167 - categorical_accuracy: 0.7365 - val_loss: 0.8017 - val_categorical_accuracy: 0.6111\n",
            "Epoch 210/500\n",
            "482/482 [==============================] - 0s 32us/step - loss: 0.5170 - categorical_accuracy: 0.7365 - val_loss: 0.8019 - val_categorical_accuracy: 0.6111\n",
            "Epoch 211/500\n",
            "482/482 [==============================] - 0s 29us/step - loss: 0.5172 - categorical_accuracy: 0.7365 - val_loss: 0.7993 - val_categorical_accuracy: 0.6111\n",
            "Epoch 212/500\n",
            "482/482 [==============================] - 0s 34us/step - loss: 0.5173 - categorical_accuracy: 0.7365 - val_loss: 0.7991 - val_categorical_accuracy: 0.6111\n",
            "Epoch 213/500\n",
            "482/482 [==============================] - 0s 44us/step - loss: 0.5175 - categorical_accuracy: 0.7365 - val_loss: 0.7986 - val_categorical_accuracy: 0.6111\n",
            "Epoch 214/500\n",
            "482/482 [==============================] - 0s 32us/step - loss: 0.5173 - categorical_accuracy: 0.7365 - val_loss: 0.7953 - val_categorical_accuracy: 0.6111\n",
            "Epoch 215/500\n",
            "482/482 [==============================] - 0s 30us/step - loss: 0.5171 - categorical_accuracy: 0.7365 - val_loss: 0.7916 - val_categorical_accuracy: 0.6111\n",
            "Epoch 216/500\n",
            "482/482 [==============================] - 0s 33us/step - loss: 0.5172 - categorical_accuracy: 0.7365 - val_loss: 0.7898 - val_categorical_accuracy: 0.6111\n",
            "Epoch 217/500\n",
            "482/482 [==============================] - 0s 36us/step - loss: 0.5170 - categorical_accuracy: 0.7365 - val_loss: 0.7920 - val_categorical_accuracy: 0.6111\n",
            "Epoch 218/500\n",
            "482/482 [==============================] - 0s 31us/step - loss: 0.5178 - categorical_accuracy: 0.7365 - val_loss: 0.7940 - val_categorical_accuracy: 0.5741\n",
            "Epoch 219/500\n",
            "482/482 [==============================] - 0s 41us/step - loss: 0.5186 - categorical_accuracy: 0.7365 - val_loss: 0.7936 - val_categorical_accuracy: 0.5741\n",
            "Epoch 220/500\n",
            "482/482 [==============================] - 0s 32us/step - loss: 0.5183 - categorical_accuracy: 0.7386 - val_loss: 0.7949 - val_categorical_accuracy: 0.6111\n",
            "Epoch 221/500\n",
            "482/482 [==============================] - 0s 34us/step - loss: 0.5174 - categorical_accuracy: 0.7365 - val_loss: 0.7972 - val_categorical_accuracy: 0.6111\n",
            "Epoch 222/500\n",
            "482/482 [==============================] - 0s 31us/step - loss: 0.5177 - categorical_accuracy: 0.7365 - val_loss: 0.8012 - val_categorical_accuracy: 0.6111\n",
            "Epoch 223/500\n",
            "482/482 [==============================] - 0s 37us/step - loss: 0.5173 - categorical_accuracy: 0.7365 - val_loss: 0.8038 - val_categorical_accuracy: 0.6111\n",
            "Epoch 224/500\n",
            "482/482 [==============================] - 0s 33us/step - loss: 0.5174 - categorical_accuracy: 0.7365 - val_loss: 0.8040 - val_categorical_accuracy: 0.6111\n",
            "Epoch 225/500\n",
            "482/482 [==============================] - 0s 37us/step - loss: 0.5174 - categorical_accuracy: 0.7365 - val_loss: 0.8020 - val_categorical_accuracy: 0.6111\n",
            "Epoch 226/500\n",
            "482/482 [==============================] - 0s 38us/step - loss: 0.5165 - categorical_accuracy: 0.7365 - val_loss: 0.8011 - val_categorical_accuracy: 0.6111\n",
            "Epoch 227/500\n",
            "482/482 [==============================] - 0s 41us/step - loss: 0.5167 - categorical_accuracy: 0.7365 - val_loss: 0.8018 - val_categorical_accuracy: 0.6111\n",
            "Epoch 228/500\n",
            "482/482 [==============================] - 0s 30us/step - loss: 0.5168 - categorical_accuracy: 0.7365 - val_loss: 0.8030 - val_categorical_accuracy: 0.6111\n",
            "Epoch 229/500\n",
            "482/482 [==============================] - 0s 57us/step - loss: 0.5165 - categorical_accuracy: 0.7365 - val_loss: 0.8034 - val_categorical_accuracy: 0.6111\n",
            "Epoch 230/500\n",
            "482/482 [==============================] - 0s 36us/step - loss: 0.5166 - categorical_accuracy: 0.7365 - val_loss: 0.8046 - val_categorical_accuracy: 0.6111\n",
            "Epoch 231/500\n",
            "482/482 [==============================] - 0s 36us/step - loss: 0.5168 - categorical_accuracy: 0.7365 - val_loss: 0.8046 - val_categorical_accuracy: 0.6111\n",
            "Epoch 232/500\n",
            "482/482 [==============================] - 0s 35us/step - loss: 0.5171 - categorical_accuracy: 0.7365 - val_loss: 0.8047 - val_categorical_accuracy: 0.6111\n",
            "Epoch 233/500\n",
            "482/482 [==============================] - 0s 40us/step - loss: 0.5173 - categorical_accuracy: 0.7365 - val_loss: 0.8052 - val_categorical_accuracy: 0.6111\n",
            "Epoch 234/500\n",
            "482/482 [==============================] - 0s 36us/step - loss: 0.5173 - categorical_accuracy: 0.7386 - val_loss: 0.8055 - val_categorical_accuracy: 0.6111\n",
            "Epoch 235/500\n",
            "482/482 [==============================] - 0s 32us/step - loss: 0.5165 - categorical_accuracy: 0.7365 - val_loss: 0.8053 - val_categorical_accuracy: 0.6111\n",
            "Epoch 236/500\n",
            "482/482 [==============================] - 0s 27us/step - loss: 0.5167 - categorical_accuracy: 0.7365 - val_loss: 0.8054 - val_categorical_accuracy: 0.6111\n",
            "Epoch 237/500\n",
            "482/482 [==============================] - 0s 31us/step - loss: 0.5168 - categorical_accuracy: 0.7365 - val_loss: 0.8047 - val_categorical_accuracy: 0.6111\n",
            "Epoch 238/500\n",
            "482/482 [==============================] - 0s 34us/step - loss: 0.5168 - categorical_accuracy: 0.7365 - val_loss: 0.8044 - val_categorical_accuracy: 0.6111\n",
            "Epoch 239/500\n",
            "482/482 [==============================] - 0s 29us/step - loss: 0.5171 - categorical_accuracy: 0.7365 - val_loss: 0.8072 - val_categorical_accuracy: 0.6111\n",
            "Epoch 240/500\n",
            "482/482 [==============================] - 0s 31us/step - loss: 0.5169 - categorical_accuracy: 0.7365 - val_loss: 0.8083 - val_categorical_accuracy: 0.6111\n",
            "Epoch 241/500\n",
            "482/482 [==============================] - 0s 29us/step - loss: 0.5170 - categorical_accuracy: 0.7365 - val_loss: 0.8106 - val_categorical_accuracy: 0.6111\n",
            "Epoch 242/500\n",
            "482/482 [==============================] - 0s 31us/step - loss: 0.5172 - categorical_accuracy: 0.7324 - val_loss: 0.8105 - val_categorical_accuracy: 0.6111\n",
            "Epoch 243/500\n",
            "482/482 [==============================] - 0s 31us/step - loss: 0.5168 - categorical_accuracy: 0.7386 - val_loss: 0.8113 - val_categorical_accuracy: 0.6111\n",
            "Epoch 244/500\n",
            "482/482 [==============================] - 0s 38us/step - loss: 0.5166 - categorical_accuracy: 0.7365 - val_loss: 0.8086 - val_categorical_accuracy: 0.6111\n",
            "Epoch 245/500\n",
            "482/482 [==============================] - 0s 47us/step - loss: 0.5166 - categorical_accuracy: 0.7365 - val_loss: 0.8072 - val_categorical_accuracy: 0.6111\n",
            "Epoch 246/500\n",
            "482/482 [==============================] - 0s 40us/step - loss: 0.5172 - categorical_accuracy: 0.7365 - val_loss: 0.8057 - val_categorical_accuracy: 0.6111\n",
            "Epoch 247/500\n",
            "482/482 [==============================] - 0s 37us/step - loss: 0.5190 - categorical_accuracy: 0.7365 - val_loss: 0.8045 - val_categorical_accuracy: 0.6111\n",
            "Epoch 248/500\n",
            "482/482 [==============================] - 0s 37us/step - loss: 0.5192 - categorical_accuracy: 0.7365 - val_loss: 0.8067 - val_categorical_accuracy: 0.6111\n",
            "Epoch 249/500\n",
            "482/482 [==============================] - 0s 40us/step - loss: 0.5182 - categorical_accuracy: 0.7365 - val_loss: 0.8092 - val_categorical_accuracy: 0.6111\n",
            "Epoch 250/500\n",
            "482/482 [==============================] - 0s 34us/step - loss: 0.5167 - categorical_accuracy: 0.7365 - val_loss: 0.8115 - val_categorical_accuracy: 0.6111\n",
            "Epoch 251/500\n",
            "482/482 [==============================] - 0s 29us/step - loss: 0.5164 - categorical_accuracy: 0.7365 - val_loss: 0.8144 - val_categorical_accuracy: 0.6111\n",
            "Epoch 252/500\n",
            "482/482 [==============================] - 0s 27us/step - loss: 0.5181 - categorical_accuracy: 0.7344 - val_loss: 0.8204 - val_categorical_accuracy: 0.6111\n",
            "Epoch 253/500\n",
            "482/482 [==============================] - 0s 43us/step - loss: 0.5180 - categorical_accuracy: 0.7344 - val_loss: 0.8224 - val_categorical_accuracy: 0.6111\n",
            "Epoch 254/500\n",
            "482/482 [==============================] - 0s 30us/step - loss: 0.5172 - categorical_accuracy: 0.7365 - val_loss: 0.8208 - val_categorical_accuracy: 0.6111\n",
            "Epoch 255/500\n",
            "482/482 [==============================] - 0s 40us/step - loss: 0.5169 - categorical_accuracy: 0.7365 - val_loss: 0.8192 - val_categorical_accuracy: 0.6111\n",
            "Epoch 256/500\n",
            "482/482 [==============================] - 0s 35us/step - loss: 0.5168 - categorical_accuracy: 0.7365 - val_loss: 0.8143 - val_categorical_accuracy: 0.6111\n",
            "Epoch 257/500\n",
            "482/482 [==============================] - 0s 29us/step - loss: 0.5168 - categorical_accuracy: 0.7365 - val_loss: 0.8103 - val_categorical_accuracy: 0.6111\n",
            "Epoch 258/500\n",
            "482/482 [==============================] - 0s 29us/step - loss: 0.5169 - categorical_accuracy: 0.7365 - val_loss: 0.8072 - val_categorical_accuracy: 0.6111\n",
            "Epoch 259/500\n",
            "482/482 [==============================] - 0s 31us/step - loss: 0.5170 - categorical_accuracy: 0.7365 - val_loss: 0.8063 - val_categorical_accuracy: 0.6111\n",
            "Epoch 260/500\n",
            "482/482 [==============================] - 0s 47us/step - loss: 0.5171 - categorical_accuracy: 0.7365 - val_loss: 0.8019 - val_categorical_accuracy: 0.6111\n",
            "Epoch 261/500\n",
            "482/482 [==============================] - 0s 31us/step - loss: 0.5175 - categorical_accuracy: 0.7365 - val_loss: 0.8021 - val_categorical_accuracy: 0.6111\n",
            "Epoch 262/500\n",
            "482/482 [==============================] - 0s 30us/step - loss: 0.5173 - categorical_accuracy: 0.7365 - val_loss: 0.8018 - val_categorical_accuracy: 0.6111\n",
            "Epoch 263/500\n",
            "482/482 [==============================] - 0s 26us/step - loss: 0.5169 - categorical_accuracy: 0.7365 - val_loss: 0.8012 - val_categorical_accuracy: 0.6111\n",
            "Epoch 264/500\n",
            "482/482 [==============================] - 0s 34us/step - loss: 0.5170 - categorical_accuracy: 0.7365 - val_loss: 0.8023 - val_categorical_accuracy: 0.6111\n",
            "Epoch 265/500\n",
            "482/482 [==============================] - 0s 38us/step - loss: 0.5170 - categorical_accuracy: 0.7365 - val_loss: 0.8024 - val_categorical_accuracy: 0.6111\n",
            "Epoch 266/500\n",
            "482/482 [==============================] - 0s 36us/step - loss: 0.5168 - categorical_accuracy: 0.7365 - val_loss: 0.8050 - val_categorical_accuracy: 0.6111\n",
            "Epoch 267/500\n",
            "482/482 [==============================] - 0s 34us/step - loss: 0.5165 - categorical_accuracy: 0.7365 - val_loss: 0.8102 - val_categorical_accuracy: 0.6111\n",
            "Epoch 268/500\n",
            "482/482 [==============================] - 0s 28us/step - loss: 0.5164 - categorical_accuracy: 0.7365 - val_loss: 0.8144 - val_categorical_accuracy: 0.6111\n",
            "Epoch 269/500\n",
            "482/482 [==============================] - 0s 30us/step - loss: 0.5163 - categorical_accuracy: 0.7365 - val_loss: 0.8178 - val_categorical_accuracy: 0.6111\n",
            "Epoch 270/500\n",
            "482/482 [==============================] - 0s 30us/step - loss: 0.5162 - categorical_accuracy: 0.7386 - val_loss: 0.8220 - val_categorical_accuracy: 0.6111\n",
            "Epoch 271/500\n",
            "482/482 [==============================] - 0s 40us/step - loss: 0.5165 - categorical_accuracy: 0.7365 - val_loss: 0.8256 - val_categorical_accuracy: 0.6111\n",
            "Epoch 272/500\n",
            "482/482 [==============================] - 0s 35us/step - loss: 0.5168 - categorical_accuracy: 0.7365 - val_loss: 0.8251 - val_categorical_accuracy: 0.6111\n",
            "Epoch 273/500\n",
            "482/482 [==============================] - 0s 32us/step - loss: 0.5163 - categorical_accuracy: 0.7365 - val_loss: 0.8229 - val_categorical_accuracy: 0.6111\n",
            "Epoch 274/500\n",
            "482/482 [==============================] - 0s 32us/step - loss: 0.5164 - categorical_accuracy: 0.7365 - val_loss: 0.8180 - val_categorical_accuracy: 0.6111\n",
            "Epoch 275/500\n",
            "482/482 [==============================] - 0s 28us/step - loss: 0.5164 - categorical_accuracy: 0.7365 - val_loss: 0.8152 - val_categorical_accuracy: 0.6111\n",
            "Epoch 276/500\n",
            "482/482 [==============================] - 0s 39us/step - loss: 0.5168 - categorical_accuracy: 0.7365 - val_loss: 0.8144 - val_categorical_accuracy: 0.6111\n",
            "Epoch 277/500\n",
            "482/482 [==============================] - 0s 32us/step - loss: 0.5167 - categorical_accuracy: 0.7365 - val_loss: 0.8151 - val_categorical_accuracy: 0.6111\n",
            "Epoch 278/500\n",
            "482/482 [==============================] - 0s 33us/step - loss: 0.5164 - categorical_accuracy: 0.7365 - val_loss: 0.8137 - val_categorical_accuracy: 0.6111\n",
            "Epoch 279/500\n",
            "482/482 [==============================] - 0s 28us/step - loss: 0.5160 - categorical_accuracy: 0.7365 - val_loss: 0.8133 - val_categorical_accuracy: 0.6111\n",
            "Epoch 280/500\n",
            "482/482 [==============================] - 0s 34us/step - loss: 0.5171 - categorical_accuracy: 0.7324 - val_loss: 0.8150 - val_categorical_accuracy: 0.5741\n",
            "Epoch 281/500\n",
            "482/482 [==============================] - 0s 35us/step - loss: 0.5181 - categorical_accuracy: 0.7344 - val_loss: 0.8151 - val_categorical_accuracy: 0.5741\n",
            "Epoch 282/500\n",
            "482/482 [==============================] - 0s 38us/step - loss: 0.5184 - categorical_accuracy: 0.7344 - val_loss: 0.8142 - val_categorical_accuracy: 0.6111\n",
            "Epoch 283/500\n",
            "482/482 [==============================] - 0s 37us/step - loss: 0.5173 - categorical_accuracy: 0.7365 - val_loss: 0.8141 - val_categorical_accuracy: 0.6111\n",
            "Epoch 284/500\n",
            "482/482 [==============================] - 0s 42us/step - loss: 0.5169 - categorical_accuracy: 0.7365 - val_loss: 0.8133 - val_categorical_accuracy: 0.6111\n",
            "Epoch 285/500\n",
            "482/482 [==============================] - 0s 34us/step - loss: 0.5163 - categorical_accuracy: 0.7365 - val_loss: 0.8140 - val_categorical_accuracy: 0.6111\n",
            "Epoch 286/500\n",
            "482/482 [==============================] - 0s 32us/step - loss: 0.5163 - categorical_accuracy: 0.7365 - val_loss: 0.8171 - val_categorical_accuracy: 0.6111\n",
            "Epoch 287/500\n",
            "482/482 [==============================] - 0s 35us/step - loss: 0.5161 - categorical_accuracy: 0.7365 - val_loss: 0.8192 - val_categorical_accuracy: 0.6111\n",
            "Epoch 288/500\n",
            "482/482 [==============================] - 0s 32us/step - loss: 0.5163 - categorical_accuracy: 0.7365 - val_loss: 0.8210 - val_categorical_accuracy: 0.6111\n",
            "Epoch 289/500\n",
            "482/482 [==============================] - 0s 32us/step - loss: 0.5161 - categorical_accuracy: 0.7365 - val_loss: 0.8196 - val_categorical_accuracy: 0.6111\n",
            "Epoch 290/500\n",
            "482/482 [==============================] - 0s 38us/step - loss: 0.5161 - categorical_accuracy: 0.7365 - val_loss: 0.8177 - val_categorical_accuracy: 0.6111\n",
            "Epoch 291/500\n",
            "482/482 [==============================] - 0s 32us/step - loss: 0.5161 - categorical_accuracy: 0.7344 - val_loss: 0.8166 - val_categorical_accuracy: 0.6111\n",
            "Epoch 292/500\n",
            "482/482 [==============================] - 0s 34us/step - loss: 0.5164 - categorical_accuracy: 0.7365 - val_loss: 0.8171 - val_categorical_accuracy: 0.6111\n",
            "Epoch 293/500\n",
            "482/482 [==============================] - 0s 37us/step - loss: 0.5166 - categorical_accuracy: 0.7365 - val_loss: 0.8171 - val_categorical_accuracy: 0.6111\n",
            "Epoch 294/500\n",
            "482/482 [==============================] - 0s 39us/step - loss: 0.5162 - categorical_accuracy: 0.7365 - val_loss: 0.8190 - val_categorical_accuracy: 0.6111\n",
            "Epoch 295/500\n",
            "482/482 [==============================] - 0s 39us/step - loss: 0.5158 - categorical_accuracy: 0.7365 - val_loss: 0.8208 - val_categorical_accuracy: 0.6111\n",
            "Epoch 296/500\n",
            "482/482 [==============================] - 0s 41us/step - loss: 0.5162 - categorical_accuracy: 0.7365 - val_loss: 0.8212 - val_categorical_accuracy: 0.6111\n",
            "Epoch 297/500\n",
            "482/482 [==============================] - 0s 35us/step - loss: 0.5164 - categorical_accuracy: 0.7365 - val_loss: 0.8203 - val_categorical_accuracy: 0.6111\n",
            "Epoch 298/500\n",
            "482/482 [==============================] - 0s 34us/step - loss: 0.5165 - categorical_accuracy: 0.7365 - val_loss: 0.8179 - val_categorical_accuracy: 0.6111\n",
            "Epoch 299/500\n",
            "482/482 [==============================] - 0s 44us/step - loss: 0.5163 - categorical_accuracy: 0.7365 - val_loss: 0.8151 - val_categorical_accuracy: 0.6111\n",
            "Epoch 300/500\n",
            "482/482 [==============================] - 0s 39us/step - loss: 0.5164 - categorical_accuracy: 0.7365 - val_loss: 0.8151 - val_categorical_accuracy: 0.6111\n",
            "Epoch 301/500\n",
            "482/482 [==============================] - 0s 30us/step - loss: 0.5173 - categorical_accuracy: 0.7365 - val_loss: 0.8134 - val_categorical_accuracy: 0.6111\n",
            "Epoch 302/500\n",
            "482/482 [==============================] - 0s 39us/step - loss: 0.5172 - categorical_accuracy: 0.7365 - val_loss: 0.8156 - val_categorical_accuracy: 0.6111\n",
            "Epoch 303/500\n",
            "482/482 [==============================] - 0s 32us/step - loss: 0.5168 - categorical_accuracy: 0.7365 - val_loss: 0.8180 - val_categorical_accuracy: 0.6111\n",
            "Epoch 304/500\n",
            "482/482 [==============================] - 0s 36us/step - loss: 0.5164 - categorical_accuracy: 0.7365 - val_loss: 0.8193 - val_categorical_accuracy: 0.6111\n",
            "Epoch 305/500\n",
            "482/482 [==============================] - 0s 38us/step - loss: 0.5168 - categorical_accuracy: 0.7365 - val_loss: 0.8214 - val_categorical_accuracy: 0.6111\n",
            "Epoch 306/500\n",
            "482/482 [==============================] - 0s 43us/step - loss: 0.5171 - categorical_accuracy: 0.7365 - val_loss: 0.8219 - val_categorical_accuracy: 0.6111\n",
            "Epoch 307/500\n",
            "482/482 [==============================] - 0s 50us/step - loss: 0.5170 - categorical_accuracy: 0.7365 - val_loss: 0.8226 - val_categorical_accuracy: 0.6111\n",
            "Epoch 308/500\n",
            "482/482 [==============================] - 0s 42us/step - loss: 0.5166 - categorical_accuracy: 0.7365 - val_loss: 0.8217 - val_categorical_accuracy: 0.6111\n",
            "Epoch 309/500\n",
            "482/482 [==============================] - 0s 35us/step - loss: 0.5159 - categorical_accuracy: 0.7365 - val_loss: 0.8221 - val_categorical_accuracy: 0.6111\n",
            "Epoch 310/500\n",
            "482/482 [==============================] - 0s 29us/step - loss: 0.5161 - categorical_accuracy: 0.7365 - val_loss: 0.8226 - val_categorical_accuracy: 0.5741\n",
            "Epoch 311/500\n",
            "482/482 [==============================] - 0s 43us/step - loss: 0.5166 - categorical_accuracy: 0.7344 - val_loss: 0.8250 - val_categorical_accuracy: 0.5741\n",
            "Epoch 312/500\n",
            "482/482 [==============================] - 0s 32us/step - loss: 0.5168 - categorical_accuracy: 0.7344 - val_loss: 0.8274 - val_categorical_accuracy: 0.5741\n",
            "Epoch 313/500\n",
            "482/482 [==============================] - 0s 34us/step - loss: 0.5165 - categorical_accuracy: 0.7344 - val_loss: 0.8280 - val_categorical_accuracy: 0.5741\n",
            "Epoch 314/500\n",
            "482/482 [==============================] - 0s 37us/step - loss: 0.5164 - categorical_accuracy: 0.7324 - val_loss: 0.8292 - val_categorical_accuracy: 0.6111\n",
            "Epoch 315/500\n",
            "482/482 [==============================] - 0s 37us/step - loss: 0.5159 - categorical_accuracy: 0.7365 - val_loss: 0.8311 - val_categorical_accuracy: 0.6111\n",
            "Epoch 316/500\n",
            "482/482 [==============================] - 0s 50us/step - loss: 0.5160 - categorical_accuracy: 0.7365 - val_loss: 0.8310 - val_categorical_accuracy: 0.6111\n",
            "Epoch 317/500\n",
            "482/482 [==============================] - 0s 34us/step - loss: 0.5161 - categorical_accuracy: 0.7365 - val_loss: 0.8309 - val_categorical_accuracy: 0.6111\n",
            "Epoch 318/500\n",
            "482/482 [==============================] - 0s 40us/step - loss: 0.5162 - categorical_accuracy: 0.7365 - val_loss: 0.8302 - val_categorical_accuracy: 0.6111\n",
            "Epoch 319/500\n",
            "482/482 [==============================] - 0s 43us/step - loss: 0.5159 - categorical_accuracy: 0.7365 - val_loss: 0.8270 - val_categorical_accuracy: 0.6111\n",
            "Epoch 320/500\n",
            "482/482 [==============================] - 0s 33us/step - loss: 0.5161 - categorical_accuracy: 0.7365 - val_loss: 0.8257 - val_categorical_accuracy: 0.6111\n",
            "Epoch 321/500\n",
            "482/482 [==============================] - 0s 34us/step - loss: 0.5164 - categorical_accuracy: 0.7365 - val_loss: 0.8226 - val_categorical_accuracy: 0.6111\n",
            "Epoch 322/500\n",
            "482/482 [==============================] - 0s 35us/step - loss: 0.5163 - categorical_accuracy: 0.7365 - val_loss: 0.8214 - val_categorical_accuracy: 0.6111\n",
            "Epoch 323/500\n",
            "482/482 [==============================] - 0s 30us/step - loss: 0.5162 - categorical_accuracy: 0.7365 - val_loss: 0.8222 - val_categorical_accuracy: 0.6111\n",
            "Epoch 324/500\n",
            "482/482 [==============================] - 0s 49us/step - loss: 0.5161 - categorical_accuracy: 0.7365 - val_loss: 0.8246 - val_categorical_accuracy: 0.6111\n",
            "Epoch 325/500\n",
            "482/482 [==============================] - 0s 37us/step - loss: 0.5162 - categorical_accuracy: 0.7365 - val_loss: 0.8245 - val_categorical_accuracy: 0.6111\n",
            "Epoch 326/500\n",
            "482/482 [==============================] - 0s 35us/step - loss: 0.5159 - categorical_accuracy: 0.7365 - val_loss: 0.8244 - val_categorical_accuracy: 0.6111\n",
            "Epoch 327/500\n",
            "482/482 [==============================] - 0s 45us/step - loss: 0.5159 - categorical_accuracy: 0.7365 - val_loss: 0.8229 - val_categorical_accuracy: 0.6111\n",
            "Epoch 328/500\n",
            "482/482 [==============================] - 0s 33us/step - loss: 0.5162 - categorical_accuracy: 0.7365 - val_loss: 0.8219 - val_categorical_accuracy: 0.6111\n",
            "Epoch 329/500\n",
            "482/482 [==============================] - 0s 47us/step - loss: 0.5166 - categorical_accuracy: 0.7386 - val_loss: 0.8213 - val_categorical_accuracy: 0.6111\n",
            "Epoch 330/500\n",
            "482/482 [==============================] - 0s 33us/step - loss: 0.5165 - categorical_accuracy: 0.7365 - val_loss: 0.8242 - val_categorical_accuracy: 0.6111\n",
            "Epoch 331/500\n",
            "482/482 [==============================] - 0s 33us/step - loss: 0.5159 - categorical_accuracy: 0.7365 - val_loss: 0.8261 - val_categorical_accuracy: 0.6111\n",
            "Epoch 332/500\n",
            "482/482 [==============================] - 0s 34us/step - loss: 0.5157 - categorical_accuracy: 0.7365 - val_loss: 0.8284 - val_categorical_accuracy: 0.6111\n",
            "Epoch 333/500\n",
            "482/482 [==============================] - 0s 44us/step - loss: 0.5160 - categorical_accuracy: 0.7365 - val_loss: 0.8305 - val_categorical_accuracy: 0.6111\n",
            "Epoch 334/500\n",
            "482/482 [==============================] - 0s 37us/step - loss: 0.5160 - categorical_accuracy: 0.7365 - val_loss: 0.8289 - val_categorical_accuracy: 0.6111\n",
            "Epoch 335/500\n",
            "482/482 [==============================] - 0s 33us/step - loss: 0.5160 - categorical_accuracy: 0.7365 - val_loss: 0.8250 - val_categorical_accuracy: 0.6111\n",
            "Epoch 336/500\n",
            "482/482 [==============================] - 0s 44us/step - loss: 0.5158 - categorical_accuracy: 0.7365 - val_loss: 0.8228 - val_categorical_accuracy: 0.6111\n",
            "Epoch 337/500\n",
            "482/482 [==============================] - 0s 31us/step - loss: 0.5162 - categorical_accuracy: 0.7365 - val_loss: 0.8198 - val_categorical_accuracy: 0.6111\n",
            "Epoch 338/500\n",
            "482/482 [==============================] - 0s 41us/step - loss: 0.5158 - categorical_accuracy: 0.7365 - val_loss: 0.8213 - val_categorical_accuracy: 0.6111\n",
            "Epoch 339/500\n",
            "482/482 [==============================] - 0s 34us/step - loss: 0.5164 - categorical_accuracy: 0.7365 - val_loss: 0.8254 - val_categorical_accuracy: 0.6111\n",
            "Epoch 340/500\n",
            "482/482 [==============================] - 0s 35us/step - loss: 0.5161 - categorical_accuracy: 0.7365 - val_loss: 0.8278 - val_categorical_accuracy: 0.6111\n",
            "Epoch 341/500\n",
            "482/482 [==============================] - 0s 41us/step - loss: 0.5159 - categorical_accuracy: 0.7365 - val_loss: 0.8269 - val_categorical_accuracy: 0.6111\n",
            "Epoch 342/500\n",
            "482/482 [==============================] - 0s 33us/step - loss: 0.5157 - categorical_accuracy: 0.7365 - val_loss: 0.8282 - val_categorical_accuracy: 0.6111\n",
            "Epoch 343/500\n",
            "482/482 [==============================] - 0s 40us/step - loss: 0.5155 - categorical_accuracy: 0.7365 - val_loss: 0.8302 - val_categorical_accuracy: 0.5741\n",
            "Epoch 344/500\n",
            "482/482 [==============================] - 0s 40us/step - loss: 0.5159 - categorical_accuracy: 0.7344 - val_loss: 0.8326 - val_categorical_accuracy: 0.5741\n",
            "Epoch 345/500\n",
            "482/482 [==============================] - 0s 41us/step - loss: 0.5168 - categorical_accuracy: 0.7344 - val_loss: 0.8336 - val_categorical_accuracy: 0.5741\n",
            "Epoch 346/500\n",
            "482/482 [==============================] - 0s 46us/step - loss: 0.5164 - categorical_accuracy: 0.7344 - val_loss: 0.8315 - val_categorical_accuracy: 0.5741\n",
            "Epoch 347/500\n",
            "482/482 [==============================] - 0s 35us/step - loss: 0.5160 - categorical_accuracy: 0.7386 - val_loss: 0.8304 - val_categorical_accuracy: 0.6111\n",
            "Epoch 348/500\n",
            "482/482 [==============================] - 0s 37us/step - loss: 0.5157 - categorical_accuracy: 0.7365 - val_loss: 0.8312 - val_categorical_accuracy: 0.6111\n",
            "Epoch 349/500\n",
            "482/482 [==============================] - 0s 36us/step - loss: 0.5154 - categorical_accuracy: 0.7365 - val_loss: 0.8348 - val_categorical_accuracy: 0.6111\n",
            "Epoch 350/500\n",
            "482/482 [==============================] - 0s 31us/step - loss: 0.5156 - categorical_accuracy: 0.7365 - val_loss: 0.8376 - val_categorical_accuracy: 0.6111\n",
            "Epoch 351/500\n",
            "482/482 [==============================] - 0s 42us/step - loss: 0.5160 - categorical_accuracy: 0.7344 - val_loss: 0.8378 - val_categorical_accuracy: 0.6111\n",
            "Epoch 352/500\n",
            "482/482 [==============================] - 0s 37us/step - loss: 0.5158 - categorical_accuracy: 0.7365 - val_loss: 0.8368 - val_categorical_accuracy: 0.6111\n",
            "Epoch 353/500\n",
            "482/482 [==============================] - 0s 30us/step - loss: 0.5156 - categorical_accuracy: 0.7365 - val_loss: 0.8337 - val_categorical_accuracy: 0.6111\n",
            "Epoch 354/500\n",
            "482/482 [==============================] - 0s 37us/step - loss: 0.5152 - categorical_accuracy: 0.7365 - val_loss: 0.8321 - val_categorical_accuracy: 0.6111\n",
            "Epoch 355/500\n",
            "482/482 [==============================] - 0s 35us/step - loss: 0.5157 - categorical_accuracy: 0.7365 - val_loss: 0.8328 - val_categorical_accuracy: 0.6111\n",
            "Epoch 356/500\n",
            "482/482 [==============================] - 0s 38us/step - loss: 0.5164 - categorical_accuracy: 0.7365 - val_loss: 0.8341 - val_categorical_accuracy: 0.5741\n",
            "Epoch 357/500\n",
            "482/482 [==============================] - 0s 37us/step - loss: 0.5173 - categorical_accuracy: 0.7344 - val_loss: 0.8348 - val_categorical_accuracy: 0.5741\n",
            "Epoch 358/500\n",
            "482/482 [==============================] - 0s 37us/step - loss: 0.5174 - categorical_accuracy: 0.7344 - val_loss: 0.8347 - val_categorical_accuracy: 0.5741\n",
            "Epoch 359/500\n",
            "482/482 [==============================] - 0s 39us/step - loss: 0.5170 - categorical_accuracy: 0.7324 - val_loss: 0.8335 - val_categorical_accuracy: 0.6111\n",
            "Epoch 360/500\n",
            "482/482 [==============================] - 0s 39us/step - loss: 0.5156 - categorical_accuracy: 0.7386 - val_loss: 0.8356 - val_categorical_accuracy: 0.6111\n",
            "Epoch 361/500\n",
            "482/482 [==============================] - 0s 52us/step - loss: 0.5159 - categorical_accuracy: 0.7365 - val_loss: 0.8358 - val_categorical_accuracy: 0.6111\n",
            "Epoch 362/500\n",
            "482/482 [==============================] - 0s 34us/step - loss: 0.5156 - categorical_accuracy: 0.7365 - val_loss: 0.8363 - val_categorical_accuracy: 0.6111\n",
            "Epoch 363/500\n",
            "482/482 [==============================] - 0s 39us/step - loss: 0.5159 - categorical_accuracy: 0.7365 - val_loss: 0.8358 - val_categorical_accuracy: 0.6111\n",
            "Epoch 364/500\n",
            "482/482 [==============================] - 0s 33us/step - loss: 0.5162 - categorical_accuracy: 0.7365 - val_loss: 0.8339 - val_categorical_accuracy: 0.6111\n",
            "Epoch 365/500\n",
            "482/482 [==============================] - 0s 31us/step - loss: 0.5162 - categorical_accuracy: 0.7365 - val_loss: 0.8329 - val_categorical_accuracy: 0.6111\n",
            "Epoch 366/500\n",
            "482/482 [==============================] - 0s 34us/step - loss: 0.5157 - categorical_accuracy: 0.7365 - val_loss: 0.8309 - val_categorical_accuracy: 0.6111\n",
            "Epoch 367/500\n",
            "482/482 [==============================] - 0s 31us/step - loss: 0.5154 - categorical_accuracy: 0.7365 - val_loss: 0.8273 - val_categorical_accuracy: 0.6111\n",
            "Epoch 368/500\n",
            "482/482 [==============================] - 0s 39us/step - loss: 0.5168 - categorical_accuracy: 0.7344 - val_loss: 0.8239 - val_categorical_accuracy: 0.6111\n",
            "Epoch 369/500\n",
            "482/482 [==============================] - 0s 38us/step - loss: 0.5173 - categorical_accuracy: 0.7365 - val_loss: 0.8216 - val_categorical_accuracy: 0.6111\n",
            "Epoch 370/500\n",
            "482/482 [==============================] - 0s 56us/step - loss: 0.5167 - categorical_accuracy: 0.7365 - val_loss: 0.8231 - val_categorical_accuracy: 0.6111\n",
            "Epoch 371/500\n",
            "482/482 [==============================] - 0s 33us/step - loss: 0.5164 - categorical_accuracy: 0.7324 - val_loss: 0.8264 - val_categorical_accuracy: 0.6111\n",
            "Epoch 372/500\n",
            "482/482 [==============================] - 0s 41us/step - loss: 0.5160 - categorical_accuracy: 0.7365 - val_loss: 0.8301 - val_categorical_accuracy: 0.6111\n",
            "Epoch 373/500\n",
            "482/482 [==============================] - 0s 34us/step - loss: 0.5158 - categorical_accuracy: 0.7365 - val_loss: 0.8309 - val_categorical_accuracy: 0.6111\n",
            "Epoch 374/500\n",
            "482/482 [==============================] - 0s 36us/step - loss: 0.5159 - categorical_accuracy: 0.7365 - val_loss: 0.8310 - val_categorical_accuracy: 0.6111\n",
            "Epoch 375/500\n",
            "482/482 [==============================] - 0s 35us/step - loss: 0.5159 - categorical_accuracy: 0.7365 - val_loss: 0.8280 - val_categorical_accuracy: 0.6111\n",
            "Epoch 376/500\n",
            "482/482 [==============================] - 0s 31us/step - loss: 0.5163 - categorical_accuracy: 0.7365 - val_loss: 0.8262 - val_categorical_accuracy: 0.6111\n",
            "Epoch 377/500\n",
            "482/482 [==============================] - 0s 34us/step - loss: 0.5166 - categorical_accuracy: 0.7365 - val_loss: 0.8282 - val_categorical_accuracy: 0.6111\n",
            "Epoch 378/500\n",
            "482/482 [==============================] - 0s 34us/step - loss: 0.5156 - categorical_accuracy: 0.7365 - val_loss: 0.8279 - val_categorical_accuracy: 0.6111\n",
            "Epoch 379/500\n",
            "482/482 [==============================] - 0s 39us/step - loss: 0.5156 - categorical_accuracy: 0.7365 - val_loss: 0.8298 - val_categorical_accuracy: 0.6111\n",
            "Epoch 380/500\n",
            "482/482 [==============================] - 0s 60us/step - loss: 0.5155 - categorical_accuracy: 0.7365 - val_loss: 0.8309 - val_categorical_accuracy: 0.6111\n",
            "Epoch 381/500\n",
            "482/482 [==============================] - 0s 35us/step - loss: 0.5156 - categorical_accuracy: 0.7365 - val_loss: 0.8317 - val_categorical_accuracy: 0.6111\n",
            "Epoch 382/500\n",
            "482/482 [==============================] - 0s 40us/step - loss: 0.5154 - categorical_accuracy: 0.7365 - val_loss: 0.8349 - val_categorical_accuracy: 0.6111\n",
            "Epoch 383/500\n",
            "482/482 [==============================] - 0s 34us/step - loss: 0.5154 - categorical_accuracy: 0.7386 - val_loss: 0.8358 - val_categorical_accuracy: 0.6111\n",
            "Epoch 384/500\n",
            "482/482 [==============================] - 0s 32us/step - loss: 0.5154 - categorical_accuracy: 0.7365 - val_loss: 0.8384 - val_categorical_accuracy: 0.6111\n",
            "Epoch 385/500\n",
            "482/482 [==============================] - 0s 29us/step - loss: 0.5154 - categorical_accuracy: 0.7365 - val_loss: 0.8401 - val_categorical_accuracy: 0.6111\n",
            "Epoch 386/500\n",
            "482/482 [==============================] - 0s 29us/step - loss: 0.5155 - categorical_accuracy: 0.7365 - val_loss: 0.8437 - val_categorical_accuracy: 0.6111\n",
            "Epoch 387/500\n",
            "482/482 [==============================] - 0s 43us/step - loss: 0.5154 - categorical_accuracy: 0.7365 - val_loss: 0.8447 - val_categorical_accuracy: 0.6111\n",
            "Epoch 388/500\n",
            "482/482 [==============================] - 0s 39us/step - loss: 0.5155 - categorical_accuracy: 0.7324 - val_loss: 0.8457 - val_categorical_accuracy: 0.6111\n",
            "Epoch 389/500\n",
            "482/482 [==============================] - 0s 37us/step - loss: 0.5158 - categorical_accuracy: 0.7365 - val_loss: 0.8455 - val_categorical_accuracy: 0.6111\n",
            "Epoch 390/500\n",
            "482/482 [==============================] - 0s 52us/step - loss: 0.5159 - categorical_accuracy: 0.7365 - val_loss: 0.8450 - val_categorical_accuracy: 0.6111\n",
            "Epoch 391/500\n",
            "482/482 [==============================] - 0s 37us/step - loss: 0.5158 - categorical_accuracy: 0.7365 - val_loss: 0.8454 - val_categorical_accuracy: 0.6111\n",
            "Epoch 392/500\n",
            "482/482 [==============================] - 0s 35us/step - loss: 0.5156 - categorical_accuracy: 0.7365 - val_loss: 0.8458 - val_categorical_accuracy: 0.6111\n",
            "Epoch 393/500\n",
            "482/482 [==============================] - 0s 39us/step - loss: 0.5156 - categorical_accuracy: 0.7365 - val_loss: 0.8456 - val_categorical_accuracy: 0.6111\n",
            "Epoch 394/500\n",
            "482/482 [==============================] - 0s 36us/step - loss: 0.5157 - categorical_accuracy: 0.7365 - val_loss: 0.8464 - val_categorical_accuracy: 0.6111\n",
            "Epoch 395/500\n",
            "482/482 [==============================] - 0s 35us/step - loss: 0.5156 - categorical_accuracy: 0.7365 - val_loss: 0.8479 - val_categorical_accuracy: 0.6111\n",
            "Epoch 396/500\n",
            "482/482 [==============================] - 0s 29us/step - loss: 0.5161 - categorical_accuracy: 0.7365 - val_loss: 0.8462 - val_categorical_accuracy: 0.6111\n",
            "Epoch 397/500\n",
            "482/482 [==============================] - 0s 31us/step - loss: 0.5163 - categorical_accuracy: 0.7365 - val_loss: 0.8461 - val_categorical_accuracy: 0.6111\n",
            "Epoch 398/500\n",
            "482/482 [==============================] - 0s 32us/step - loss: 0.5167 - categorical_accuracy: 0.7365 - val_loss: 0.8442 - val_categorical_accuracy: 0.6111\n",
            "Epoch 399/500\n",
            "482/482 [==============================] - 0s 43us/step - loss: 0.5165 - categorical_accuracy: 0.7365 - val_loss: 0.8421 - val_categorical_accuracy: 0.6111\n",
            "Epoch 400/500\n",
            "482/482 [==============================] - 0s 34us/step - loss: 0.5162 - categorical_accuracy: 0.7365 - val_loss: 0.8368 - val_categorical_accuracy: 0.6111\n",
            "Epoch 401/500\n",
            "482/482 [==============================] - 0s 45us/step - loss: 0.5156 - categorical_accuracy: 0.7365 - val_loss: 0.8317 - val_categorical_accuracy: 0.6111\n",
            "Epoch 402/500\n",
            "482/482 [==============================] - 0s 36us/step - loss: 0.5153 - categorical_accuracy: 0.7365 - val_loss: 0.8280 - val_categorical_accuracy: 0.6111\n",
            "Epoch 403/500\n",
            "482/482 [==============================] - 0s 38us/step - loss: 0.5155 - categorical_accuracy: 0.7365 - val_loss: 0.8266 - val_categorical_accuracy: 0.6111\n",
            "Epoch 404/500\n",
            "482/482 [==============================] - 0s 28us/step - loss: 0.5157 - categorical_accuracy: 0.7365 - val_loss: 0.8253 - val_categorical_accuracy: 0.6111\n",
            "Epoch 405/500\n",
            "482/482 [==============================] - 0s 32us/step - loss: 0.5159 - categorical_accuracy: 0.7365 - val_loss: 0.8240 - val_categorical_accuracy: 0.6111\n",
            "Epoch 406/500\n",
            "482/482 [==============================] - 0s 31us/step - loss: 0.5163 - categorical_accuracy: 0.7365 - val_loss: 0.8249 - val_categorical_accuracy: 0.6111\n",
            "Epoch 407/500\n",
            "482/482 [==============================] - 0s 35us/step - loss: 0.5157 - categorical_accuracy: 0.7365 - val_loss: 0.8260 - val_categorical_accuracy: 0.6111\n",
            "Epoch 408/500\n",
            "482/482 [==============================] - 0s 55us/step - loss: 0.5158 - categorical_accuracy: 0.7365 - val_loss: 0.8286 - val_categorical_accuracy: 0.6111\n",
            "Epoch 409/500\n",
            "482/482 [==============================] - 0s 36us/step - loss: 0.5153 - categorical_accuracy: 0.7365 - val_loss: 0.8294 - val_categorical_accuracy: 0.6111\n",
            "Epoch 410/500\n",
            "482/482 [==============================] - 0s 37us/step - loss: 0.5151 - categorical_accuracy: 0.7365 - val_loss: 0.8309 - val_categorical_accuracy: 0.6111\n",
            "Epoch 411/500\n",
            "482/482 [==============================] - 0s 39us/step - loss: 0.5154 - categorical_accuracy: 0.7365 - val_loss: 0.8313 - val_categorical_accuracy: 0.6111\n",
            "Epoch 412/500\n",
            "482/482 [==============================] - 0s 41us/step - loss: 0.5159 - categorical_accuracy: 0.7324 - val_loss: 0.8348 - val_categorical_accuracy: 0.5741\n",
            "Epoch 413/500\n",
            "482/482 [==============================] - 0s 32us/step - loss: 0.5163 - categorical_accuracy: 0.7344 - val_loss: 0.8377 - val_categorical_accuracy: 0.5741\n",
            "Epoch 414/500\n",
            "482/482 [==============================] - 0s 33us/step - loss: 0.5168 - categorical_accuracy: 0.7324 - val_loss: 0.8376 - val_categorical_accuracy: 0.5741\n",
            "Epoch 415/500\n",
            "482/482 [==============================] - 0s 34us/step - loss: 0.5169 - categorical_accuracy: 0.7324 - val_loss: 0.8360 - val_categorical_accuracy: 0.5741\n",
            "Epoch 416/500\n",
            "482/482 [==============================] - 0s 35us/step - loss: 0.5160 - categorical_accuracy: 0.7324 - val_loss: 0.8333 - val_categorical_accuracy: 0.5741\n",
            "Epoch 417/500\n",
            "482/482 [==============================] - 0s 38us/step - loss: 0.5156 - categorical_accuracy: 0.7344 - val_loss: 0.8309 - val_categorical_accuracy: 0.6111\n",
            "Epoch 418/500\n",
            "482/482 [==============================] - 0s 27us/step - loss: 0.5155 - categorical_accuracy: 0.7365 - val_loss: 0.8305 - val_categorical_accuracy: 0.6111\n",
            "Epoch 419/500\n",
            "482/482 [==============================] - 0s 36us/step - loss: 0.5154 - categorical_accuracy: 0.7365 - val_loss: 0.8317 - val_categorical_accuracy: 0.6111\n",
            "Epoch 420/500\n",
            "482/482 [==============================] - 0s 32us/step - loss: 0.5153 - categorical_accuracy: 0.7365 - val_loss: 0.8314 - val_categorical_accuracy: 0.6111\n",
            "Epoch 421/500\n",
            "482/482 [==============================] - 0s 35us/step - loss: 0.5153 - categorical_accuracy: 0.7365 - val_loss: 0.8334 - val_categorical_accuracy: 0.6111\n",
            "Epoch 422/500\n",
            "482/482 [==============================] - 0s 33us/step - loss: 0.5158 - categorical_accuracy: 0.7365 - val_loss: 0.8340 - val_categorical_accuracy: 0.6111\n",
            "Epoch 423/500\n",
            "482/482 [==============================] - 0s 39us/step - loss: 0.5155 - categorical_accuracy: 0.7365 - val_loss: 0.8370 - val_categorical_accuracy: 0.6111\n",
            "Epoch 424/500\n",
            "482/482 [==============================] - 0s 33us/step - loss: 0.5152 - categorical_accuracy: 0.7365 - val_loss: 0.8379 - val_categorical_accuracy: 0.6111\n",
            "Epoch 425/500\n",
            "482/482 [==============================] - 0s 36us/step - loss: 0.5150 - categorical_accuracy: 0.7365 - val_loss: 0.8354 - val_categorical_accuracy: 0.6111\n",
            "Epoch 426/500\n",
            "482/482 [==============================] - 0s 33us/step - loss: 0.5154 - categorical_accuracy: 0.7365 - val_loss: 0.8330 - val_categorical_accuracy: 0.6111\n",
            "Epoch 427/500\n",
            "482/482 [==============================] - 0s 35us/step - loss: 0.5154 - categorical_accuracy: 0.7344 - val_loss: 0.8326 - val_categorical_accuracy: 0.6111\n",
            "Epoch 428/500\n",
            "482/482 [==============================] - 0s 35us/step - loss: 0.5152 - categorical_accuracy: 0.7365 - val_loss: 0.8342 - val_categorical_accuracy: 0.6111\n",
            "Epoch 429/500\n",
            "482/482 [==============================] - 0s 36us/step - loss: 0.5156 - categorical_accuracy: 0.7365 - val_loss: 0.8379 - val_categorical_accuracy: 0.6111\n",
            "Epoch 430/500\n",
            "482/482 [==============================] - 0s 45us/step - loss: 0.5154 - categorical_accuracy: 0.7365 - val_loss: 0.8435 - val_categorical_accuracy: 0.6111\n",
            "Epoch 431/500\n",
            "482/482 [==============================] - 0s 49us/step - loss: 0.5160 - categorical_accuracy: 0.7365 - val_loss: 0.8479 - val_categorical_accuracy: 0.6111\n",
            "Epoch 432/500\n",
            "482/482 [==============================] - 0s 36us/step - loss: 0.5158 - categorical_accuracy: 0.7365 - val_loss: 0.8494 - val_categorical_accuracy: 0.6111\n",
            "Epoch 433/500\n",
            "482/482 [==============================] - 0s 31us/step - loss: 0.5156 - categorical_accuracy: 0.7365 - val_loss: 0.8521 - val_categorical_accuracy: 0.6111\n",
            "Epoch 434/500\n",
            "482/482 [==============================] - 0s 32us/step - loss: 0.5154 - categorical_accuracy: 0.7365 - val_loss: 0.8554 - val_categorical_accuracy: 0.6111\n",
            "Epoch 435/500\n",
            "482/482 [==============================] - 0s 39us/step - loss: 0.5156 - categorical_accuracy: 0.7365 - val_loss: 0.8574 - val_categorical_accuracy: 0.6111\n",
            "Epoch 436/500\n",
            "482/482 [==============================] - 0s 38us/step - loss: 0.5157 - categorical_accuracy: 0.7365 - val_loss: 0.8571 - val_categorical_accuracy: 0.6111\n",
            "Epoch 437/500\n",
            "482/482 [==============================] - 0s 49us/step - loss: 0.5157 - categorical_accuracy: 0.7365 - val_loss: 0.8533 - val_categorical_accuracy: 0.6111\n",
            "Epoch 438/500\n",
            "482/482 [==============================] - 0s 40us/step - loss: 0.5162 - categorical_accuracy: 0.7365 - val_loss: 0.8503 - val_categorical_accuracy: 0.6111\n",
            "Epoch 439/500\n",
            "482/482 [==============================] - 0s 40us/step - loss: 0.5153 - categorical_accuracy: 0.7365 - val_loss: 0.8464 - val_categorical_accuracy: 0.6111\n",
            "Epoch 440/500\n",
            "482/482 [==============================] - 0s 41us/step - loss: 0.5152 - categorical_accuracy: 0.7365 - val_loss: 0.8411 - val_categorical_accuracy: 0.6111\n",
            "Epoch 441/500\n",
            "482/482 [==============================] - 0s 36us/step - loss: 0.5152 - categorical_accuracy: 0.7365 - val_loss: 0.8389 - val_categorical_accuracy: 0.6111\n",
            "Epoch 442/500\n",
            "482/482 [==============================] - 0s 40us/step - loss: 0.5155 - categorical_accuracy: 0.7365 - val_loss: 0.8372 - val_categorical_accuracy: 0.6111\n",
            "Epoch 443/500\n",
            "482/482 [==============================] - 0s 36us/step - loss: 0.5153 - categorical_accuracy: 0.7365 - val_loss: 0.8299 - val_categorical_accuracy: 0.6111\n",
            "Epoch 444/500\n",
            "482/482 [==============================] - 0s 39us/step - loss: 0.5151 - categorical_accuracy: 0.7365 - val_loss: 0.8271 - val_categorical_accuracy: 0.6111\n",
            "Epoch 445/500\n",
            "482/482 [==============================] - 0s 37us/step - loss: 0.5154 - categorical_accuracy: 0.7365 - val_loss: 0.8294 - val_categorical_accuracy: 0.6111\n",
            "Epoch 446/500\n",
            "482/482 [==============================] - 0s 36us/step - loss: 0.5155 - categorical_accuracy: 0.7365 - val_loss: 0.8352 - val_categorical_accuracy: 0.6111\n",
            "Epoch 447/500\n",
            "482/482 [==============================] - 0s 39us/step - loss: 0.5151 - categorical_accuracy: 0.7365 - val_loss: 0.8381 - val_categorical_accuracy: 0.6111\n",
            "Epoch 448/500\n",
            "482/482 [==============================] - 0s 35us/step - loss: 0.5148 - categorical_accuracy: 0.7365 - val_loss: 0.8389 - val_categorical_accuracy: 0.6111\n",
            "Epoch 449/500\n",
            "482/482 [==============================] - 0s 48us/step - loss: 0.5152 - categorical_accuracy: 0.7365 - val_loss: 0.8377 - val_categorical_accuracy: 0.6111\n",
            "Epoch 450/500\n",
            "482/482 [==============================] - 0s 32us/step - loss: 0.5159 - categorical_accuracy: 0.7344 - val_loss: 0.8335 - val_categorical_accuracy: 0.6111\n",
            "Epoch 451/500\n",
            "482/482 [==============================] - 0s 34us/step - loss: 0.5151 - categorical_accuracy: 0.7365 - val_loss: 0.8328 - val_categorical_accuracy: 0.6111\n",
            "Epoch 452/500\n",
            "482/482 [==============================] - 0s 40us/step - loss: 0.5150 - categorical_accuracy: 0.7365 - val_loss: 0.8353 - val_categorical_accuracy: 0.6111\n",
            "Epoch 453/500\n",
            "482/482 [==============================] - 0s 34us/step - loss: 0.5148 - categorical_accuracy: 0.7365 - val_loss: 0.8377 - val_categorical_accuracy: 0.6111\n",
            "Epoch 454/500\n",
            "482/482 [==============================] - 0s 38us/step - loss: 0.5153 - categorical_accuracy: 0.7365 - val_loss: 0.8392 - val_categorical_accuracy: 0.6111\n",
            "Epoch 455/500\n",
            "482/482 [==============================] - 0s 37us/step - loss: 0.5155 - categorical_accuracy: 0.7365 - val_loss: 0.8411 - val_categorical_accuracy: 0.6111\n",
            "Epoch 456/500\n",
            "482/482 [==============================] - 0s 37us/step - loss: 0.5156 - categorical_accuracy: 0.7324 - val_loss: 0.8424 - val_categorical_accuracy: 0.6111\n",
            "Epoch 457/500\n",
            "482/482 [==============================] - 0s 44us/step - loss: 0.5149 - categorical_accuracy: 0.7365 - val_loss: 0.8446 - val_categorical_accuracy: 0.6111\n",
            "Epoch 458/500\n",
            "482/482 [==============================] - 0s 32us/step - loss: 0.5152 - categorical_accuracy: 0.7365 - val_loss: 0.8478 - val_categorical_accuracy: 0.6111\n",
            "Epoch 459/500\n",
            "482/482 [==============================] - 0s 30us/step - loss: 0.5152 - categorical_accuracy: 0.7365 - val_loss: 0.8485 - val_categorical_accuracy: 0.6111\n",
            "Epoch 460/500\n",
            "482/482 [==============================] - 0s 38us/step - loss: 0.5152 - categorical_accuracy: 0.7365 - val_loss: 0.8487 - val_categorical_accuracy: 0.6111\n",
            "Epoch 461/500\n",
            "482/482 [==============================] - 0s 46us/step - loss: 0.5153 - categorical_accuracy: 0.7365 - val_loss: 0.8461 - val_categorical_accuracy: 0.6111\n",
            "Epoch 462/500\n",
            "482/482 [==============================] - 0s 38us/step - loss: 0.5151 - categorical_accuracy: 0.7365 - val_loss: 0.8432 - val_categorical_accuracy: 0.6111\n",
            "Epoch 463/500\n",
            "482/482 [==============================] - 0s 38us/step - loss: 0.5150 - categorical_accuracy: 0.7365 - val_loss: 0.8404 - val_categorical_accuracy: 0.6111\n",
            "Epoch 464/500\n",
            "482/482 [==============================] - 0s 33us/step - loss: 0.5151 - categorical_accuracy: 0.7365 - val_loss: 0.8400 - val_categorical_accuracy: 0.6111\n",
            "Epoch 465/500\n",
            "482/482 [==============================] - 0s 37us/step - loss: 0.5153 - categorical_accuracy: 0.7365 - val_loss: 0.8371 - val_categorical_accuracy: 0.6111\n",
            "Epoch 466/500\n",
            "482/482 [==============================] - 0s 41us/step - loss: 0.5156 - categorical_accuracy: 0.7365 - val_loss: 0.8338 - val_categorical_accuracy: 0.6111\n",
            "Epoch 467/500\n",
            "482/482 [==============================] - 0s 33us/step - loss: 0.5161 - categorical_accuracy: 0.7365 - val_loss: 0.8315 - val_categorical_accuracy: 0.6111\n",
            "Epoch 468/500\n",
            "482/482 [==============================] - 0s 30us/step - loss: 0.5152 - categorical_accuracy: 0.7344 - val_loss: 0.8303 - val_categorical_accuracy: 0.6111\n",
            "Epoch 469/500\n",
            "482/482 [==============================] - 0s 32us/step - loss: 0.5150 - categorical_accuracy: 0.7365 - val_loss: 0.8332 - val_categorical_accuracy: 0.6111\n",
            "Epoch 470/500\n",
            "482/482 [==============================] - 0s 34us/step - loss: 0.5152 - categorical_accuracy: 0.7344 - val_loss: 0.8378 - val_categorical_accuracy: 0.6111\n",
            "Epoch 471/500\n",
            "482/482 [==============================] - 0s 33us/step - loss: 0.5151 - categorical_accuracy: 0.7365 - val_loss: 0.8413 - val_categorical_accuracy: 0.6111\n",
            "Epoch 472/500\n",
            "482/482 [==============================] - 0s 26us/step - loss: 0.5151 - categorical_accuracy: 0.7365 - val_loss: 0.8446 - val_categorical_accuracy: 0.6111\n",
            "Epoch 473/500\n",
            "482/482 [==============================] - 0s 35us/step - loss: 0.5147 - categorical_accuracy: 0.7365 - val_loss: 0.8502 - val_categorical_accuracy: 0.6111\n",
            "Epoch 474/500\n",
            "482/482 [==============================] - 0s 30us/step - loss: 0.5148 - categorical_accuracy: 0.7365 - val_loss: 0.8579 - val_categorical_accuracy: 0.6111\n",
            "Epoch 475/500\n",
            "482/482 [==============================] - 0s 36us/step - loss: 0.5153 - categorical_accuracy: 0.7365 - val_loss: 0.8619 - val_categorical_accuracy: 0.6111\n",
            "Epoch 476/500\n",
            "482/482 [==============================] - 0s 40us/step - loss: 0.5155 - categorical_accuracy: 0.7365 - val_loss: 0.8650 - val_categorical_accuracy: 0.6111\n",
            "Epoch 477/500\n",
            "482/482 [==============================] - 0s 46us/step - loss: 0.5156 - categorical_accuracy: 0.7365 - val_loss: 0.8653 - val_categorical_accuracy: 0.6111\n",
            "Epoch 478/500\n",
            "482/482 [==============================] - 0s 38us/step - loss: 0.5153 - categorical_accuracy: 0.7386 - val_loss: 0.8609 - val_categorical_accuracy: 0.6111\n",
            "Epoch 479/500\n",
            "482/482 [==============================] - 0s 33us/step - loss: 0.5150 - categorical_accuracy: 0.7365 - val_loss: 0.8531 - val_categorical_accuracy: 0.6111\n",
            "Epoch 480/500\n",
            "482/482 [==============================] - 0s 37us/step - loss: 0.5144 - categorical_accuracy: 0.7365 - val_loss: 0.8453 - val_categorical_accuracy: 0.6111\n",
            "Epoch 481/500\n",
            "482/482 [==============================] - 0s 32us/step - loss: 0.5149 - categorical_accuracy: 0.7365 - val_loss: 0.8361 - val_categorical_accuracy: 0.6111\n",
            "Epoch 482/500\n",
            "482/482 [==============================] - 0s 50us/step - loss: 0.5154 - categorical_accuracy: 0.7365 - val_loss: 0.8317 - val_categorical_accuracy: 0.6111\n",
            "Epoch 483/500\n",
            "482/482 [==============================] - 0s 43us/step - loss: 0.5157 - categorical_accuracy: 0.7365 - val_loss: 0.8304 - val_categorical_accuracy: 0.6111\n",
            "Epoch 484/500\n",
            "482/482 [==============================] - 0s 31us/step - loss: 0.5157 - categorical_accuracy: 0.7365 - val_loss: 0.8285 - val_categorical_accuracy: 0.6111\n",
            "Epoch 485/500\n",
            "482/482 [==============================] - 0s 37us/step - loss: 0.5156 - categorical_accuracy: 0.7344 - val_loss: 0.8263 - val_categorical_accuracy: 0.6111\n",
            "Epoch 486/500\n",
            "482/482 [==============================] - 0s 27us/step - loss: 0.5154 - categorical_accuracy: 0.7365 - val_loss: 0.8273 - val_categorical_accuracy: 0.6111\n",
            "Epoch 487/500\n",
            "482/482 [==============================] - 0s 35us/step - loss: 0.5161 - categorical_accuracy: 0.7365 - val_loss: 0.8322 - val_categorical_accuracy: 0.6111\n",
            "Epoch 488/500\n",
            "482/482 [==============================] - 0s 39us/step - loss: 0.5159 - categorical_accuracy: 0.7365 - val_loss: 0.8383 - val_categorical_accuracy: 0.6111\n",
            "Epoch 489/500\n",
            "482/482 [==============================] - 0s 34us/step - loss: 0.5159 - categorical_accuracy: 0.7365 - val_loss: 0.8435 - val_categorical_accuracy: 0.6111\n",
            "Epoch 490/500\n",
            "482/482 [==============================] - 0s 36us/step - loss: 0.5152 - categorical_accuracy: 0.7365 - val_loss: 0.8454 - val_categorical_accuracy: 0.6111\n",
            "Epoch 491/500\n",
            "482/482 [==============================] - 0s 45us/step - loss: 0.5157 - categorical_accuracy: 0.7365 - val_loss: 0.8483 - val_categorical_accuracy: 0.6111\n",
            "Epoch 492/500\n",
            "482/482 [==============================] - 0s 41us/step - loss: 0.5148 - categorical_accuracy: 0.7365 - val_loss: 0.8485 - val_categorical_accuracy: 0.6111\n",
            "Epoch 493/500\n",
            "482/482 [==============================] - 0s 45us/step - loss: 0.5149 - categorical_accuracy: 0.7365 - val_loss: 0.8473 - val_categorical_accuracy: 0.6111\n",
            "Epoch 494/500\n",
            "482/482 [==============================] - 0s 47us/step - loss: 0.5149 - categorical_accuracy: 0.7365 - val_loss: 0.8464 - val_categorical_accuracy: 0.6111\n",
            "Epoch 495/500\n",
            "482/482 [==============================] - 0s 36us/step - loss: 0.5151 - categorical_accuracy: 0.7365 - val_loss: 0.8435 - val_categorical_accuracy: 0.6111\n",
            "Epoch 496/500\n",
            "482/482 [==============================] - 0s 37us/step - loss: 0.5148 - categorical_accuracy: 0.7365 - val_loss: 0.8405 - val_categorical_accuracy: 0.6111\n",
            "Epoch 497/500\n",
            "482/482 [==============================] - 0s 35us/step - loss: 0.5148 - categorical_accuracy: 0.7365 - val_loss: 0.8387 - val_categorical_accuracy: 0.6111\n",
            "Epoch 498/500\n",
            "482/482 [==============================] - 0s 34us/step - loss: 0.5150 - categorical_accuracy: 0.7365 - val_loss: 0.8379 - val_categorical_accuracy: 0.6111\n",
            "Epoch 499/500\n",
            "482/482 [==============================] - 0s 28us/step - loss: 0.5152 - categorical_accuracy: 0.7365 - val_loss: 0.8387 - val_categorical_accuracy: 0.6111\n",
            "Epoch 500/500\n",
            "482/482 [==============================] - 0s 35us/step - loss: 0.5155 - categorical_accuracy: 0.7365 - val_loss: 0.8381 - val_categorical_accuracy: 0.6111\n"
          ],
          "name": "stdout"
        }
      ]
    },
    {
      "cell_type": "code",
      "metadata": {
        "id": "iLnxpNkCxFZ1",
        "colab_type": "code",
        "outputId": "414a3a58-7c8b-4efe-ea24-5086f1dc85a9",
        "colab": {
          "base_uri": "https://localhost:8080/",
          "height": 51
        }
      },
      "source": [
        "# test our model against the hidden one\n",
        "score, acc = as_model.evaluate([sex_test, ages_test], y_test)\n",
        "\n",
        "print (\"Score: %.2f, Accuracy: %f\" % (score, acc)) # just by running a deep learning model with the goddamn ages and gender, wtf"
      ],
      "execution_count": 35,
      "outputs": [
        {
          "output_type": "stream",
          "text": [
            "60/60 [==============================] - 0s 151us/step\n",
            "Score: 0.81, Accuracy: 0.816667\n"
          ],
          "name": "stdout"
        }
      ]
    },
    {
      "cell_type": "code",
      "metadata": {
        "id": "0p6xrWCyR0cO",
        "colab_type": "code",
        "outputId": "a110362f-1800-4fb8-bd90-ed26930756a3",
        "colab": {
          "base_uri": "https://localhost:8080/",
          "height": 85
        }
      },
      "source": [
        "## BUILD CONFUSION MATRIX\n",
        "y_train_preds = as_model.predict([sex_train, ages_train])\n",
        "y_train_real = y_train\n",
        "\n",
        "y_test_preds = as_model.predict([sex_test, ages_test])\n",
        "y_test_real = y_test\n",
        "\n",
        "# Turn to binary outputs\n",
        "y_train_preds_binary = to_binary(y_train_preds)\n",
        "y_train_real_binary = to_binary(y_train_real)\n",
        "\n",
        "y_test_preds_binary = to_binary(y_test_preds)\n",
        "y_test_real_binary = to_binary(y_test_real)\n",
        "\n",
        "# MAKE CONFUSION MATRIX, can also do the same for train data\n",
        "print (confusion_matrix(y_train_real_binary, y_train_preds_binary))\n",
        "print (confusion_matrix(y_test_real_binary, y_test_preds_binary))"
      ],
      "execution_count": 36,
      "outputs": [
        {
          "output_type": "stream",
          "text": [
            "[[ 49 128]\n",
            " [ 20 339]]\n",
            "[[ 1  8]\n",
            " [ 3 48]]\n"
          ],
          "name": "stdout"
        }
      ]
    },
    {
      "cell_type": "code",
      "metadata": {
        "id": "ysTchue5QU2i",
        "colab_type": "code",
        "outputId": "7c72cb20-2f9e-4327-938e-c11cf4c1af66",
        "colab": {
          "base_uri": "https://localhost:8080/",
          "height": 573
        }
      },
      "source": [
        "# Plot training & validation accuracy values\n",
        "plt.plot(history.history['val_categorical_accuracy'])\n",
        "plt.plot(history.history['categorical_accuracy'])\n",
        "plt.title('Accuracy')\n",
        "plt.ylabel('Accuracy')\n",
        "plt.xlabel('Epoch')\n",
        "plt.legend(['val_acc', 'train_acc'], loc='best')\n",
        "# save\n",
        "plt.savefig('all_mprage_grappa/z_tests/keep_models/as_model_plot_acc.png')\n",
        "plt.show()\n",
        "\n",
        "# Plot training & validation loss values\n",
        "plt.plot(history.history['val_loss'])\n",
        "plt.plot(history.history['loss'])\n",
        "plt.title('Loss')\n",
        "plt.ylabel('Loss')\n",
        "plt.xlabel('Epoch')\n",
        "plt.legend(['val_loss', 'train_loss'], loc='best')\n",
        "# save\n",
        "plt.savefig('all_mprage_grappa/z_tests/keep_models/as_model_plot_val.png')\n",
        "plt.show()"
      ],
      "execution_count": 40,
      "outputs": [
        {
          "output_type": "display_data",
          "data": {
            "image/png": "[encoded data removed]",
            "text/plain": [
              "<Figure size 432x288 with 1 Axes>"
            ]
          },
          "metadata": {
            "tags": []
          }
        },
        {
          "output_type": "display_data",
          "data": {
            "image/png": "[encoded data removed]",
            "text/plain": [
              "<Figure size 432x288 with 1 Axes>"
            ]
          },
          "metadata": {
            "tags": []
          }
        }
      ]
    },
    {
      "cell_type": "code",
      "metadata": {
        "id": "E4Esb6vfqURV",
        "colab_type": "code",
        "colab": {}
      },
      "source": [
        "# save our best model\n",
        "pickle.dump( as_model, open( \"all_mprage_grappa/z_tests/keep_models/as_model.pkl\", \"wb\" ) )\n",
        "# load model\n",
        "# as_model = pickle.load( open( \"all_mprage_grappa/z_tests/keep_models/as_model.pkl\", \"rb\" ) )"
      ],
      "execution_count": 0,
      "outputs": []
    },
    {
      "cell_type": "markdown",
      "metadata": {
        "id": "aBO4xI1FbIR3",
        "colab_type": "text"
      },
      "source": [
        "**Testing our model with an independent batch of data**"
      ]
    },
    {
      "cell_type": "code",
      "metadata": {
        "id": "8ARhPhXtQWUk",
        "colab_type": "code",
        "colab": {}
      },
      "source": [
        "# load our pickle batch of data\n",
        "with open('all_mprage_grappa/processed_brains_aug/dbatch4.pkl', 'rb') as f: # also 'total_slices_all.pkl' ## RENAMED 5 TO 7, TESTING IT\n",
        "  total_slices_test, total_slices_info_test = pickle.load(f) # stored_batches/total_slices_batch5"
      ],
      "execution_count": 0,
      "outputs": []
    },
    {
      "cell_type": "code",
      "metadata": {
        "id": "4-x9fN2IfVqy",
        "colab_type": "code",
        "outputId": "64d54b7f-ff52-4ca7-ccef-a902427cf3f8",
        "colab": {
          "base_uri": "https://localhost:8080/",
          "height": 34
        }
      },
      "source": [
        "np.shape(total_slices_test)"
      ],
      "execution_count": 0,
      "outputs": [
        {
          "output_type": "execute_result",
          "data": {
            "text/plain": [
              "(58, 160, 160, 160, 1)"
            ]
          },
          "metadata": {
            "tags": []
          },
          "execution_count": 15
        }
      ]
    },
    {
      "cell_type": "code",
      "metadata": {
        "id": "iYjNw77Lt7nt",
        "colab_type": "code",
        "colab": {}
      },
      "source": [
        "# make the set an array\n",
        "total_slices_test = np.array(total_slices_test)\n",
        "\n",
        "# independent test\n",
        "y_test, sex_test, ages_test = get_classification(total_slices_info_test)"
      ],
      "execution_count": 0,
      "outputs": []
    },
    {
      "cell_type": "code",
      "metadata": {
        "id": "u_mFSZqfvBCK",
        "colab_type": "code",
        "outputId": "26ec20f0-3a41-45f1-fe8e-38b669f5ee47",
        "colab": {
          "base_uri": "https://localhost:8080/",
          "height": 50
        }
      },
      "source": [
        "# test our model against the independent set\n",
        "score, acc = as_model.evaluate([sex_test, ages_test], y_test)\n",
        "\n",
        "print (\"Score: %.2f, Accuracy: %f\" % (score, acc)) "
      ],
      "execution_count": 0,
      "outputs": [
        {
          "output_type": "stream",
          "text": [
            "58/58 [==============================] - 0s 103us/step\n",
            "Score: 0.73, Accuracy: 0.517241\n"
          ],
          "name": "stdout"
        }
      ]
    },
    {
      "cell_type": "markdown",
      "metadata": {
        "id": "VNCAXUfgbYIs",
        "colab_type": "text"
      },
      "source": [
        "**Make predictions with our as model**"
      ]
    },
    {
      "cell_type": "code",
      "metadata": {
        "id": "1kQ5Mrw5wsVp",
        "colab_type": "code",
        "colab": {}
      },
      "source": [
        "as_train_preds = as_model.predict([sex_train, ages_train]) # this is what we will feed into next model\n",
        "as_test_preds = as_model.predict([sex_test, ages_test]) # this is what we will use when testing"
      ],
      "execution_count": 0,
      "outputs": []
    },
    {
      "cell_type": "markdown",
      "metadata": {
        "id": "hA2N4vQ7yVEv",
        "colab_type": "text"
      },
      "source": [
        "**Next part, get predictions from model on ages and sex and predictions from images, feed into another deep NN to try to predict the output, then test accuracy**"
      ]
    },
    {
      "cell_type": "code",
      "metadata": {
        "id": "T3v84hoBy5AE",
        "colab_type": "code",
        "outputId": "6009a0d5-bc75-4e63-8d05-0e97fd4ecece",
        "colab": {
          "base_uri": "https://localhost:8080/",
          "height": 87
        }
      },
      "source": [
        "# ALTERNATIVELY: load our cnn_models\n",
        "cnn_model = load_model('all_mprage_grappa/stored_models/model4x/model40_aug_v0.h5') # take 040, best performing one so far"
      ],
      "execution_count": 0,
      "outputs": [
        {
          "output_type": "stream",
          "text": [
            "W0624 16:17:28.772655 139906754799488 deprecation.py:506] From /usr/local/lib/python3.6/dist-packages/keras/backend/tensorflow_backend.py:3445: calling dropout (from tensorflow.python.ops.nn_ops) with keep_prob is deprecated and will be removed in a future version.\n",
            "Instructions for updating:\n",
            "Please use `rate` instead of `keep_prob`. Rate should be set to `rate = 1 - keep_prob`.\n"
          ],
          "name": "stderr"
        }
      ]
    },
    {
      "cell_type": "code",
      "metadata": {
        "id": "DYHzkS1kxKWX",
        "colab_type": "code",
        "outputId": "b78c17d0-9493-4bdc-a25f-2736a612500c",
        "colab": {
          "base_uri": "https://localhost:8080/",
          "height": 50
        }
      },
      "source": [
        "#load batch slices, predict and aggregate scores\n",
        "cnn_train_preds = []\n",
        "\n",
        "# load the pickle (train with 0 to 3)\n",
        "print (training_batch_f)\n",
        "for tbf in training_batch_f:\n",
        "  with open('all_mprage_grappa/processed_brains_aug/'+tbf, 'rb') as f:\n",
        "    total_slices, total_slices_info = pickle.load(f) \n",
        "    # predict and aggregate\n",
        "    total_slices = np.array(total_slices)\n",
        "    \n",
        "    # split and predict, too many to handle otherwise and will crash\n",
        "    sub_arrays = np.array_split(total_slices, 50)\n",
        "    \n",
        "    for i in range(len(sub_arrays)):\n",
        "      \n",
        "      sub_array = sub_arrays[i]\n",
        "      cnn_prediction = cnn_model.predict(sub_array)\n",
        "      cnn_train_preds.extend(cnn_prediction)\n",
        "    \n",
        "print (np.shape(cnn_train_preds))"
      ],
      "execution_count": 0,
      "outputs": [
        {
          "output_type": "stream",
          "text": [
            "['dbatch0.pkl', 'dbatch1.pkl', 'dbatch2.pkl']\n",
            "(300, 2)\n"
          ],
          "name": "stdout"
        }
      ]
    },
    {
      "cell_type": "code",
      "metadata": {
        "id": "UU5fMHzOjWmq",
        "colab_type": "code",
        "colab": {}
      },
      "source": [
        "# also get the test predictions\n",
        "cnn_test_preds = cnn_model.predict(total_slices_test)"
      ],
      "execution_count": 0,
      "outputs": []
    },
    {
      "cell_type": "code",
      "metadata": {
        "id": "u0UzJCQti-pb",
        "colab_type": "code",
        "colab": {}
      },
      "source": [
        "## Save our preds (cause it takes ages to build)\n",
        "# pickle.dump( cnn_train_preds, open( \"all_mprage_grappa/z_tests/cnn_training_preds.pkl\", \"wb\" ) )\n",
        "# pickle.dump( cnn_test_preds, open( \"all_mprage_grappa/z_tests/cnn_test_preds.pkl\", \"wb\" ) )\n",
        "## load model\n",
        "cnn_train_preds = pickle.load( open( \"all_mprage_grappa/z_tests/cnn_training_preds.pkl\", \"rb\" ) )\n",
        "cnn_test_preds = pickle.load( open( \"all_mprage_grappa/z_tests/cnn_test_preds.pkl\", \"rb\" ) )"
      ],
      "execution_count": 0,
      "outputs": []
    },
    {
      "cell_type": "markdown",
      "metadata": {
        "id": "lPaXsBh1NzDc",
        "colab_type": "text"
      },
      "source": [
        "**Now make deep learning framework where we load our cnn train preds, our as train preds and aggregate**"
      ]
    },
    {
      "cell_type": "code",
      "metadata": {
        "id": "MJYsnoPcwwue",
        "colab_type": "code",
        "colab": {}
      },
      "source": [
        "def to_binary(cat_array):\n",
        "  '''Function to convert categorical back to binary values'''\n",
        "  binary_output_array = []\n",
        "  for i in range(len(cat_array)):\n",
        "    binary_output_array.append(np.argmax(cat_array[i]))\n",
        "    \n",
        "  binary_output_array = np.array(binary_output_array)\n",
        "  return binary_output_array"
      ],
      "execution_count": 0,
      "outputs": []
    },
    {
      "cell_type": "code",
      "metadata": {
        "id": "c3NgFPpkMq17",
        "colab_type": "code",
        "colab": {}
      },
      "source": [
        "# Create MLP models\n",
        "mlp_cnn = create_mlp(2, regress=False) # value of 1 for binary, 2 for categorical\n",
        "mlp_as = create_mlp(2, regress=False)\n",
        "\n",
        "# create the input to our final set of layers as the *output* of both\n",
        "# the MLP and CNN\n",
        "combined_input_two = concatenate([mlp_cnn.output, mlp_as.output])\n",
        "\n",
        "# our final FC layer head will have two dense layers, the final one\n",
        "# being our regression head\n",
        "z = Dense(8, activation=\"relu\")(combined_input_two)\n",
        "z = Dropout(0.2)(z)\n",
        "z = Dense(2, activation=\"sigmoid\")(z)\n",
        "\n",
        "# our final model will accept categorical/numerical data on the MLP\n",
        "# input and images on the CNN input, outputting a single value (the\n",
        "# predicted price of the house)\n",
        "combined_model = Model(inputs=[mlp_cnn.input, mlp_as.input], outputs=z)"
      ],
      "execution_count": 0,
      "outputs": []
    },
    {
      "cell_type": "code",
      "metadata": {
        "id": "SDKsn3mJSYNR",
        "colab_type": "code",
        "outputId": "58b20d60-4b23-43da-c18a-40da5afce28c",
        "colab": {
          "base_uri": "https://localhost:8080/",
          "height": 354
        }
      },
      "source": [
        "# compile our model\n",
        "combined_model.compile(loss=\"categorical_crossentropy\", optimizer=Adam(lr=1e-3, decay=1e-3 / 200), \n",
        "              metrics = ['categorical_accuracy']) # decay in Adam..\n",
        "\n",
        "# train the model\n",
        "print(\"training model...\")\n",
        "combined_model.fit([cnn_train_preds, as_train_preds], y_train, validation_split=0.1, epochs=200)"
      ],
      "execution_count": 0,
      "outputs": [
        {
          "output_type": "stream",
          "text": [
            "training model...\n"
          ],
          "name": "stdout"
        },
        {
          "output_type": "error",
          "ename": "ValueError",
          "evalue": "ignored",
          "traceback": [
            "\u001b[0;31m---------------------------------------------------------------------------\u001b[0m",
            "\u001b[0;31mValueError\u001b[0m                                Traceback (most recent call last)",
            "\u001b[0;32m<ipython-input-25-5763f0b74b4b>\u001b[0m in \u001b[0;36m<module>\u001b[0;34m()\u001b[0m\n\u001b[1;32m      4\u001b[0m \u001b[0;31m# train the model\u001b[0m\u001b[0;34m\u001b[0m\u001b[0;34m\u001b[0m\u001b[0;34m\u001b[0m\u001b[0m\n\u001b[1;32m      5\u001b[0m \u001b[0mprint\u001b[0m\u001b[0;34m(\u001b[0m\u001b[0;34m\"training model...\"\u001b[0m\u001b[0;34m)\u001b[0m\u001b[0;34m\u001b[0m\u001b[0;34m\u001b[0m\u001b[0m\n\u001b[0;32m----> 6\u001b[0;31m \u001b[0mcombined_model\u001b[0m\u001b[0;34m.\u001b[0m\u001b[0mfit\u001b[0m\u001b[0;34m(\u001b[0m\u001b[0;34m[\u001b[0m\u001b[0mcnn_train_preds\u001b[0m\u001b[0;34m,\u001b[0m \u001b[0mas_train_preds\u001b[0m\u001b[0;34m]\u001b[0m\u001b[0;34m,\u001b[0m \u001b[0my_train\u001b[0m\u001b[0;34m,\u001b[0m \u001b[0mvalidation_split\u001b[0m\u001b[0;34m=\u001b[0m\u001b[0;36m0.1\u001b[0m\u001b[0;34m,\u001b[0m \u001b[0mepochs\u001b[0m\u001b[0;34m=\u001b[0m\u001b[0;36m200\u001b[0m\u001b[0;34m)\u001b[0m\u001b[0;34m\u001b[0m\u001b[0;34m\u001b[0m\u001b[0m\n\u001b[0m",
            "\u001b[0;32m/usr/local/lib/python3.6/dist-packages/keras/engine/training.py\u001b[0m in \u001b[0;36mfit\u001b[0;34m(self, x, y, batch_size, epochs, verbose, callbacks, validation_split, validation_data, shuffle, class_weight, sample_weight, initial_epoch, steps_per_epoch, validation_steps, **kwargs)\u001b[0m\n\u001b[1;32m    950\u001b[0m             \u001b[0msample_weight\u001b[0m\u001b[0;34m=\u001b[0m\u001b[0msample_weight\u001b[0m\u001b[0;34m,\u001b[0m\u001b[0;34m\u001b[0m\u001b[0;34m\u001b[0m\u001b[0m\n\u001b[1;32m    951\u001b[0m             \u001b[0mclass_weight\u001b[0m\u001b[0;34m=\u001b[0m\u001b[0mclass_weight\u001b[0m\u001b[0;34m,\u001b[0m\u001b[0;34m\u001b[0m\u001b[0;34m\u001b[0m\u001b[0m\n\u001b[0;32m--> 952\u001b[0;31m             batch_size=batch_size)\n\u001b[0m\u001b[1;32m    953\u001b[0m         \u001b[0;31m# Prepare validation data.\u001b[0m\u001b[0;34m\u001b[0m\u001b[0;34m\u001b[0m\u001b[0;34m\u001b[0m\u001b[0m\n\u001b[1;32m    954\u001b[0m         \u001b[0mdo_validation\u001b[0m \u001b[0;34m=\u001b[0m \u001b[0;32mFalse\u001b[0m\u001b[0;34m\u001b[0m\u001b[0;34m\u001b[0m\u001b[0m\n",
            "\u001b[0;32m/usr/local/lib/python3.6/dist-packages/keras/engine/training.py\u001b[0m in \u001b[0;36m_standardize_user_data\u001b[0;34m(self, x, y, sample_weight, class_weight, check_array_lengths, batch_size)\u001b[0m\n\u001b[1;32m    802\u001b[0m             ]\n\u001b[1;32m    803\u001b[0m             \u001b[0;31m# Check that all arrays have the same length.\u001b[0m\u001b[0;34m\u001b[0m\u001b[0;34m\u001b[0m\u001b[0;34m\u001b[0m\u001b[0m\n\u001b[0;32m--> 804\u001b[0;31m             \u001b[0mcheck_array_length_consistency\u001b[0m\u001b[0;34m(\u001b[0m\u001b[0mx\u001b[0m\u001b[0;34m,\u001b[0m \u001b[0my\u001b[0m\u001b[0;34m,\u001b[0m \u001b[0msample_weights\u001b[0m\u001b[0;34m)\u001b[0m\u001b[0;34m\u001b[0m\u001b[0;34m\u001b[0m\u001b[0m\n\u001b[0m\u001b[1;32m    805\u001b[0m             \u001b[0;32mif\u001b[0m \u001b[0mself\u001b[0m\u001b[0;34m.\u001b[0m\u001b[0m_is_graph_network\u001b[0m\u001b[0;34m:\u001b[0m\u001b[0;34m\u001b[0m\u001b[0;34m\u001b[0m\u001b[0m\n\u001b[1;32m    806\u001b[0m                 \u001b[0;31m# Additional checks to avoid users mistakenly\u001b[0m\u001b[0;34m\u001b[0m\u001b[0;34m\u001b[0m\u001b[0;34m\u001b[0m\u001b[0m\n",
            "\u001b[0;32m/usr/local/lib/python3.6/dist-packages/keras/engine/training_utils.py\u001b[0m in \u001b[0;36mcheck_array_length_consistency\u001b[0;34m(inputs, targets, weights)\u001b[0m\n\u001b[1;32m    226\u001b[0m         raise ValueError('All input arrays (x) should have '\n\u001b[1;32m    227\u001b[0m                          \u001b[0;34m'the same number of samples. Got array shapes: '\u001b[0m \u001b[0;34m+\u001b[0m\u001b[0;34m\u001b[0m\u001b[0;34m\u001b[0m\u001b[0m\n\u001b[0;32m--> 228\u001b[0;31m                          str([x.shape for x in inputs]))\n\u001b[0m\u001b[1;32m    229\u001b[0m     \u001b[0;32mif\u001b[0m \u001b[0mlen\u001b[0m\u001b[0;34m(\u001b[0m\u001b[0mset_y\u001b[0m\u001b[0;34m)\u001b[0m \u001b[0;34m>\u001b[0m \u001b[0;36m1\u001b[0m\u001b[0;34m:\u001b[0m\u001b[0;34m\u001b[0m\u001b[0;34m\u001b[0m\u001b[0m\n\u001b[1;32m    230\u001b[0m         raise ValueError('All target arrays (y) should have '\n",
            "\u001b[0;31mValueError\u001b[0m: All input arrays (x) should have the same number of samples. Got array shapes: [(300, 2), (536, 2)]"
          ]
        }
      ]
    },
    {
      "cell_type": "code",
      "metadata": {
        "id": "xx-CqpxPUSPe",
        "colab_type": "code",
        "colab": {}
      },
      "source": [
        "# pickle.dump( combined_model, open( \"all_mprage_grappa/z_tests/combined_model_binary.pkl\", \"wb\" ) )"
      ],
      "execution_count": 0,
      "outputs": []
    },
    {
      "cell_type": "markdown",
      "metadata": {
        "id": "ENTzWL9pTTYR",
        "colab_type": "text"
      },
      "source": [
        "**Load last one and test it out**"
      ]
    },
    {
      "cell_type": "code",
      "metadata": {
        "id": "us7wRSU2S4rc",
        "colab_type": "code",
        "colab": {}
      },
      "source": [
        "# get predictions of cnn_model on test data\n",
        "# get predictions of as_model on test data\n",
        "# input these predictions into our combined_model\n",
        "# evaluate these against the actual y-value, pray it is not overfitted..."
      ],
      "execution_count": 0,
      "outputs": []
    },
    {
      "cell_type": "code",
      "metadata": {
        "id": "wsGbpSiXWamH",
        "colab_type": "code",
        "colab": {}
      },
      "source": [
        "cm_score, cm_acc = combined_model.evaluate([cnn_test_preds, as_preds_test], y_test)\n",
        "\n",
        "print (\"Combined model score: %.2f, and combined model accuracy: %.2f\" % (cm_score, cm_acc))"
      ],
      "execution_count": 0,
      "outputs": []
    },
    {
      "cell_type": "markdown",
      "metadata": {
        "id": "IRtf-HdCoJI0",
        "colab_type": "text"
      },
      "source": [
        "**Try: XGboosting the training predicted outputs**"
      ]
    },
    {
      "cell_type": "code",
      "metadata": {
        "id": "wZDlLxAzqkaP",
        "colab_type": "code",
        "colab": {}
      },
      "source": [
        "from xgboost import XGBClassifier\n",
        "from scipy.sparse import csr_matrix\n",
        "from sklearn.metrics import accuracy_score"
      ],
      "execution_count": 0,
      "outputs": []
    },
    {
      "cell_type": "code",
      "metadata": {
        "id": "IyBt5S9aw_Ta",
        "colab_type": "code",
        "colab": {}
      },
      "source": [
        "# convert everything to binary\n",
        "cnn_train_preds_binary = to_binary(cnn_train_preds)\n",
        "as_train_preds_binary = to_binary(as_preds_train)\n",
        "y_train_binary = to_binary(y_train)\n",
        "\n",
        "cnn_test_preds_binary = to_binary(cnn_preds_test)\n",
        "as_test_preds_binary = to_binary(as_preds_test)\n",
        "y_test_binary = to_binary(y_values_test)"
      ],
      "execution_count": 0,
      "outputs": []
    },
    {
      "cell_type": "code",
      "metadata": {
        "id": "p7vxZoNjxyo_",
        "colab_type": "code",
        "colab": {}
      },
      "source": [
        "np.shape(y_train_binary) # no worky"
      ],
      "execution_count": 0,
      "outputs": []
    },
    {
      "cell_type": "code",
      "metadata": {
        "id": "umVR6Q_esX_L",
        "colab_type": "code",
        "colab": {}
      },
      "source": [
        "# make into a matrix and input this into our space\n",
        "\n",
        "combined_zipped_train = list(zip(cnn_train_preds_binary, as_train_preds_binary))\n",
        "combined_zipped_train = np.array(combined_zipped_train)\n",
        "\n",
        "# fit model with training data\n",
        "xgb_model = XGBClassifier()\n",
        "xgb_model.fit(combined_zipped_train, y_train)"
      ],
      "execution_count": 0,
      "outputs": []
    },
    {
      "cell_type": "code",
      "metadata": {
        "id": "yrOAKOxjrZYE",
        "colab_type": "code",
        "colab": {}
      },
      "source": [
        "combined_zipped_test = list(zip(cnn_preds_test, as_preds_test))\n",
        "combined_zipped_test = np.array(combined_zipped_test)\n",
        "\n",
        "y_values_predictions = []\n",
        "for i in range(len(combined_zipped_test)):\n",
        "  cz_test_csr = csr_matrix(combined_zipped_test[i])\n",
        "  xgb_preds = xgb_model.predict(cz_test_csr)\n",
        "  y_values_predictions.append(xgb_preds)\n",
        "  \n",
        "y_values_predictions = np.array(y_values_predictions)"
      ],
      "execution_count": 0,
      "outputs": []
    },
    {
      "cell_type": "code",
      "metadata": {
        "id": "BbDhTUzOvcJG",
        "colab_type": "code",
        "colab": {}
      },
      "source": [
        "accuracy_score(y_values_test, y_values_predictions, normalize=True)"
      ],
      "execution_count": 0,
      "outputs": []
    },
    {
      "cell_type": "code",
      "metadata": {
        "id": "AIUzf6sUW73T",
        "colab_type": "code",
        "colab": {}
      },
      "source": [
        "cnn_train_preds # train with this as an input\n",
        "as_preds_train # another input\n",
        "y_train # ideal output\n",
        "\n",
        "#test\n",
        "cnn_preds_test\n",
        "as_preds_test\n",
        "y_values_test\n"
      ],
      "execution_count": 0,
      "outputs": []
    },
    {
      "cell_type": "code",
      "metadata": {
        "id": "Ag8O6PliZPPo",
        "colab_type": "code",
        "colab": {}
      },
      "source": [
        ""
      ],
      "execution_count": 0,
      "outputs": []
    },
    {
      "cell_type": "markdown",
      "metadata": {
        "id": "JyXxbK0vbB3B",
        "colab_type": "text"
      },
      "source": [
        "To try: reverse classification on each model and feed these in, see how our model holds up. Then do the same for our test and compare"
      ]
    },
    {
      "cell_type": "code",
      "metadata": {
        "id": "srl7AdZxbIaG",
        "colab_type": "code",
        "colab": {}
      },
      "source": [
        ""
      ],
      "execution_count": 0,
      "outputs": []
    }
  ]
}