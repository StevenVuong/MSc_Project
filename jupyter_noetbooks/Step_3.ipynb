{
  "nbformat": 4,
  "nbformat_minor": 0,
  "metadata": {
    "colab": {
      "name": "Step 3.ipynb",
      "version": "0.3.2",
      "provenance": [],
      "collapsed_sections": [],
      "include_colab_link": true
    },
    "kernelspec": {
      "name": "python3",
      "display_name": "Python 3"
    },
    "accelerator": "TPU"
  },
  "cells": [
    {
      "cell_type": "markdown",
      "metadata": {
        "id": "view-in-github",
        "colab_type": "text"
      },
      "source": [
        "<a href=\"https://colab.research.google.com/github/StevenVuong/MSc_Project/blob/master/Step_3.ipynb\" target=\"_parent\"><img src=\"https://colab.research.google.com/assets/colab-badge.svg\" alt=\"Open In Colab\"/></a>"
      ]
    },
    {
      "cell_type": "markdown",
      "metadata": {
        "id": "bbY9q9o17l1b",
        "colab_type": "text"
      },
      "source": [
        "**This notebook is for analytics**"
      ]
    },
    {
      "cell_type": "code",
      "metadata": {
        "id": "lFgIgPxR7kTD",
        "colab_type": "code",
        "colab": {}
      },
      "source": [
        "# standard imports\n",
        "import os\n",
        "import pandas as pd\n",
        "import numpy as np\n",
        "import matplotlib.pyplot as plt\n",
        "import seaborn as sns\n",
        "import pickle\n",
        "\n",
        "%matplotlib inline\n",
        "\n",
        "# to mount our drive\n",
        "from google.colab import drive\n",
        "\n",
        "# import keras stuff\n",
        "from keras.models import Sequential, load_model\n",
        "from keras.layers.core import Dense, Dropout, Activation, Flatten\n",
        "from keras.layers.convolutional import Convolution3D, MaxPooling3D, Convolution1D\n",
        "from keras.layers.normalization import BatchNormalization\n",
        "from keras.optimizers import SGD, RMSprop, Adam\n",
        "from keras.utils import np_utils, generic_utils, to_categorical\n",
        "from keras.layers import LeakyReLU\n",
        "from keras import regularizers\n",
        "\n",
        "# to test our dataset\n",
        "from sklearn.metrics import accuracy_score\n",
        "from sklearn.model_selection import train_test_split"
      ],
      "execution_count": 0,
      "outputs": []
    },
    {
      "cell_type": "code",
      "metadata": {
        "id": "FYzck96k7qkd",
        "colab_type": "code",
        "outputId": "56e85e0c-359c-4d55-c02e-1e0ab04c17b4",
        "colab": {
          "base_uri": "https://localhost:8080/",
          "height": 50
        }
      },
      "source": [
        "# mount google drive\n",
        "drive.mount('/content/gdrive')\n",
        "\n",
        "os.chdir('/content')\n",
        "\n",
        "# go to where the data is\n",
        "print (os.listdir())\n",
        "os.chdir('gdrive/My Drive/msc_project/all_mprage_grappa')"
      ],
      "execution_count": 17,
      "outputs": [
        {
          "output_type": "stream",
          "text": [
            "Drive already mounted at /content/gdrive; to attempt to forcibly remount, call drive.mount(\"/content/gdrive\", force_remount=True).\n",
            "['.config', 'gdrive', 'sample_data']\n"
          ],
          "name": "stdout"
        }
      ]
    },
    {
      "cell_type": "markdown",
      "metadata": {
        "id": "3MxFYHbK7160",
        "colab_type": "text"
      },
      "source": [
        "**Get our dataframe**"
      ]
    },
    {
      "cell_type": "code",
      "metadata": {
        "id": "vrAh1PhE7uRg",
        "colab_type": "code",
        "colab": {}
      },
      "source": [
        "stored_name = '81_aug_v0'"
      ],
      "execution_count": 0,
      "outputs": []
    },
    {
      "cell_type": "code",
      "metadata": {
        "id": "CbxO9mG-8382",
        "colab_type": "code",
        "outputId": "bd664261-c1aa-4aee-d992-33eb71095f23",
        "colab": {
          "base_uri": "https://localhost:8080/",
          "height": 195
        }
      },
      "source": [
        "# read metrics file, format: [val_loss,val_acc, train_loss, train_acc, test_loss, test_acc]\n",
        "metrics_df = pd.read_csv('stored_metrics/metrics' +stored_name+'.csv', header=None)\n",
        "\n",
        "# relabel headers\n",
        "metrics_df.columns = ['val_loss', 'val_acc', 'train_loss', 'train_acc']\n",
        "metrics_df.head()"
      ],
      "execution_count": 43,
      "outputs": [
        {
          "output_type": "execute_result",
          "data": {
            "text/html": [
              "<div>\n",
              "<style scoped>\n",
              "    .dataframe tbody tr th:only-of-type {\n",
              "        vertical-align: middle;\n",
              "    }\n",
              "\n",
              "    .dataframe tbody tr th {\n",
              "        vertical-align: top;\n",
              "    }\n",
              "\n",
              "    .dataframe thead th {\n",
              "        text-align: right;\n",
              "    }\n",
              "</style>\n",
              "<table border=\"1\" class=\"dataframe\">\n",
              "  <thead>\n",
              "    <tr style=\"text-align: right;\">\n",
              "      <th></th>\n",
              "      <th>val_loss</th>\n",
              "      <th>val_acc</th>\n",
              "      <th>train_loss</th>\n",
              "      <th>train_acc</th>\n",
              "    </tr>\n",
              "  </thead>\n",
              "  <tbody>\n",
              "    <tr>\n",
              "      <th>0</th>\n",
              "      <td>20.266012</td>\n",
              "      <td>0.4</td>\n",
              "      <td>22.314920</td>\n",
              "      <td>0.347368</td>\n",
              "    </tr>\n",
              "    <tr>\n",
              "      <th>1</th>\n",
              "      <td>12.495169</td>\n",
              "      <td>0.8</td>\n",
              "      <td>18.892511</td>\n",
              "      <td>0.442105</td>\n",
              "    </tr>\n",
              "    <tr>\n",
              "      <th>2</th>\n",
              "      <td>17.931848</td>\n",
              "      <td>0.4</td>\n",
              "      <td>17.745290</td>\n",
              "      <td>0.442105</td>\n",
              "    </tr>\n",
              "    <tr>\n",
              "      <th>3</th>\n",
              "      <td>17.108027</td>\n",
              "      <td>0.4</td>\n",
              "      <td>18.189911</td>\n",
              "      <td>0.357895</td>\n",
              "    </tr>\n",
              "    <tr>\n",
              "      <th>4</th>\n",
              "      <td>9.971733</td>\n",
              "      <td>0.8</td>\n",
              "      <td>16.078833</td>\n",
              "      <td>0.442105</td>\n",
              "    </tr>\n",
              "  </tbody>\n",
              "</table>\n",
              "</div>"
            ],
            "text/plain": [
              "    val_loss  val_acc  train_loss  train_acc\n",
              "0  20.266012      0.4   22.314920   0.347368\n",
              "1  12.495169      0.8   18.892511   0.442105\n",
              "2  17.931848      0.4   17.745290   0.442105\n",
              "3  17.108027      0.4   18.189911   0.357895\n",
              "4   9.971733      0.8   16.078833   0.442105"
            ]
          },
          "metadata": {
            "tags": []
          },
          "execution_count": 43
        }
      ]
    },
    {
      "cell_type": "code",
      "metadata": {
        "id": "pyuRXkpr844k",
        "colab_type": "code",
        "colab": {}
      },
      "source": [
        "# aggregate so we have the averages of each batch (trains on 1 now and tests on 1)\n",
        "batch_mean_df = metrics_df.groupby(np.arange(len(metrics_df))//3).mean()\n",
        "\n",
        "# only want to take the last number of epochs we trained for\n",
        "# now adjusted to 30 because we cut training short\n",
        "batch_mean_df = batch_mean_df.tail(30)"
      ],
      "execution_count": 0,
      "outputs": []
    },
    {
      "cell_type": "code",
      "metadata": {
        "id": "pxYtJzE89FRY",
        "colab_type": "code",
        "outputId": "eee317d5-b5b6-477b-82ac-2a81cd75686b",
        "colab": {
          "base_uri": "https://localhost:8080/",
          "height": 101
        }
      },
      "source": [
        "# get the final output (model at end)\n",
        "batch_mean_df.iloc[-1,:]"
      ],
      "execution_count": 45,
      "outputs": [
        {
          "output_type": "execute_result",
          "data": {
            "text/plain": [
              "val_loss      4.849306\n",
              "val_acc       0.600000\n",
              "train_loss    1.460280\n",
              "train_acc     0.997368\n",
              "Name: 16, dtype: float64"
            ]
          },
          "metadata": {
            "tags": []
          },
          "execution_count": 45
        }
      ]
    },
    {
      "cell_type": "markdown",
      "metadata": {
        "id": "n9ExYzLv9IW0",
        "colab_type": "text"
      },
      "source": [
        "**Plot noise and loss for train/test sets** "
      ]
    },
    {
      "cell_type": "code",
      "metadata": {
        "id": "AQ6FWkcU9HPE",
        "colab_type": "code",
        "outputId": "3a7ec15b-bc3e-43dd-ac32-b0977631e79e",
        "colab": {
          "base_uri": "https://localhost:8080/",
          "height": 295
        }
      },
      "source": [
        "# plotting the accuracy\n",
        "plt.plot(batch_mean_df.val_acc.values, label='val_acc', ls='-')\n",
        "plt.plot(batch_mean_df.train_acc.values, label='train_acc', ls='-.')\n",
        "\n",
        "plt.xlabel('Epochs')\n",
        "plt.ylabel('Accuracy')\n",
        "plt.title('Accuracy ')\n",
        "\n",
        "plt.legend(loc='best')\n",
        "\n",
        "plt.show()"
      ],
      "execution_count": 46,
      "outputs": [
        {
          "output_type": "display_data",
          "data": {
            "image/png": "[encoded data removed]",
            "text/plain": [
              "<Figure size 432x288 with 1 Axes>"
            ]
          },
          "metadata": {
            "tags": []
          }
        }
      ]
    },
    {
      "cell_type": "code",
      "metadata": {
        "id": "tU0GuN0v9Rh0",
        "colab_type": "code",
        "outputId": "c3592008-3fa2-4b7e-9ed5-33ff15c21ab0",
        "colab": {
          "base_uri": "https://localhost:8080/",
          "height": 295
        }
      },
      "source": [
        "# plotting the loss\n",
        "plt.plot(batch_mean_df.val_loss.values, label='val_loss', ls='-')\n",
        "plt.plot(batch_mean_df.train_loss.values, label='train_loss', ls='-.')\n",
        "plt.xlabel('Epochs')\n",
        "plt.ylabel('Loss')\n",
        "plt.title('Loss')\n",
        "\n",
        "plt.legend(loc='best')\n",
        "plt.show()"
      ],
      "execution_count": 47,
      "outputs": [
        {
          "output_type": "display_data",
          "data": {
            "image/png": "[encoded data removed]",
            "text/plain": [
              "<Figure size 432x288 with 1 Axes>"
            ]
          },
          "metadata": {
            "tags": []
          }
        }
      ]
    },
    {
      "cell_type": "markdown",
      "metadata": {
        "id": "WNCFBGcz9T-J",
        "colab_type": "text"
      },
      "source": [
        "**Load the model with the final dataset**"
      ]
    },
    {
      "cell_type": "code",
      "metadata": {
        "id": "yS7cSo1A9St_",
        "colab_type": "code",
        "colab": {}
      },
      "source": [
        "# load our pickle batch of data\n",
        "with open('processed_brains_aug/dbatch4.pkl', 'rb') as f: # also 'total_slices_all.pkl' ## RENAMED 5 TO 7, TESTING IT\n",
        "  total_slices, total_slices_info = pickle.load(f) # stored_batches/total_slices_batch5\n",
        "  \n",
        "# load our model\n",
        "model = load_model('stored_models/model'+stored_name+'.h5')\n",
        "# model = load_model('stored_models/model7x/model79_aug_v0.h5') # need to go over again and redo accuracy metrics"
      ],
      "execution_count": 0,
      "outputs": []
    },
    {
      "cell_type": "code",
      "metadata": {
        "id": "TJ0z2Trb_jhC",
        "colab_type": "code",
        "colab": {}
      },
      "source": [
        "# gets our y-values and converts to keras, one hot encoded outputs\n",
        "def get_y_values(total_slices_info):\n",
        "  \n",
        "  y_values = [s[2] for s in total_slices_info]\n",
        "\n",
        "  y_values = np.array(to_categorical(y_values, 2))\n",
        "  \n",
        "  return y_values"
      ],
      "execution_count": 0,
      "outputs": []
    },
    {
      "cell_type": "code",
      "metadata": {
        "id": "w5CEIOf__lCz",
        "colab_type": "code",
        "outputId": "4582ac33-e7ce-4394-9675-bd1ca903e648",
        "colab": {
          "base_uri": "https://localhost:8080/",
          "height": 34
        }
      },
      "source": [
        "np.unique([s[2] for s in total_slices_info], return_counts=True) # look at distribution of patients\n",
        "# so 55.2% is random, we want better than that for our classifier"
      ],
      "execution_count": 76,
      "outputs": [
        {
          "output_type": "execute_result",
          "data": {
            "text/plain": [
              "(array(['0', '1'], dtype='<U1'), array([32, 26]))"
            ]
          },
          "metadata": {
            "tags": []
          },
          "execution_count": 76
        }
      ]
    },
    {
      "cell_type": "code",
      "metadata": {
        "id": "ttI7uyer_mIp",
        "colab_type": "code",
        "colab": {}
      },
      "source": [
        "# get y values\n",
        "y_values = get_y_values(total_slices_info)\n",
        "\n",
        "# turn into a numpy array\n",
        "total_slices = np.array(total_slices)"
      ],
      "execution_count": 0,
      "outputs": []
    },
    {
      "cell_type": "code",
      "metadata": {
        "id": "grXj7mFu3CS7",
        "colab_type": "code",
        "colab": {
          "base_uri": "https://localhost:8080/",
          "height": 34
        },
        "outputId": "d265624c-8fb2-4804-a630-7d35839f2b24"
      },
      "source": [
        "np.shape(total_slices)"
      ],
      "execution_count": 78,
      "outputs": [
        {
          "output_type": "execute_result",
          "data": {
            "text/plain": [
              "(58, 160, 160, 160, 1)"
            ]
          },
          "metadata": {
            "tags": []
          },
          "execution_count": 78
        }
      ]
    },
    {
      "cell_type": "code",
      "metadata": {
        "id": "amY722ym_oT9",
        "colab_type": "code",
        "outputId": "9856572a-a33f-4c52-d4c4-2e3359a39c0e",
        "colab": {
          "base_uri": "https://localhost:8080/",
          "height": 521
        }
      },
      "source": [
        "## Build function to load and build score on the fly then aggregate\n",
        "\n",
        "# Split into smaller chunks so our GPU can handle it\n",
        "sub_arrays = np.split(total_slices, 29)\n",
        "sub_y_values = np.split(y_values, 29)\n",
        "\n",
        "score_sum = []\n",
        "acc_sum = []\n",
        "# run through model and test\n",
        "for i in range(len(sub_arrays)):\n",
        "  sub_array = sub_arrays[i]\n",
        "  sub_y_value = sub_y_values[i]\n",
        "  \n",
        "  score, acc = model.evaluate(sub_array, sub_y_value)\n",
        "  score_sum.append(score)\n",
        "  acc_sum.append(acc)\n",
        "  \n",
        "# get average values\n",
        "mean_score = np.mean(score_sum)\n",
        "mean_acc = np.mean(acc_sum)\n",
        "\n",
        "print (\"The mean score of the model: %f, The mean accuracy of the model: %f\" % (mean_score, mean_acc))"
      ],
      "execution_count": 79,
      "outputs": [
        {
          "output_type": "stream",
          "text": [
            "2/2 [==============================] - 26s 13s/step\n",
            "2/2 [==============================] - 22s 11s/step\n",
            "2/2 [==============================] - 21s 10s/step\n",
            "2/2 [==============================] - 21s 10s/step\n",
            "2/2 [==============================] - 21s 10s/step\n",
            "2/2 [==============================] - 21s 10s/step\n",
            "2/2 [==============================] - 21s 10s/step\n",
            "2/2 [==============================] - 21s 10s/step\n",
            "2/2 [==============================] - 21s 10s/step\n",
            "2/2 [==============================] - 21s 10s/step\n",
            "2/2 [==============================] - 21s 10s/step\n",
            "2/2 [==============================] - 21s 10s/step\n",
            "2/2 [==============================] - 21s 10s/step\n",
            "2/2 [==============================] - 21s 10s/step\n",
            "2/2 [==============================] - 21s 10s/step\n",
            "2/2 [==============================] - 21s 10s/step\n",
            "2/2 [==============================] - 21s 10s/step\n",
            "2/2 [==============================] - 21s 10s/step\n",
            "2/2 [==============================] - 21s 10s/step\n",
            "2/2 [==============================] - 21s 10s/step\n",
            "2/2 [==============================] - 21s 10s/step\n",
            "2/2 [==============================] - 21s 10s/step\n",
            "2/2 [==============================] - 21s 10s/step\n",
            "2/2 [==============================] - 21s 10s/step\n",
            "2/2 [==============================] - 21s 10s/step\n",
            "2/2 [==============================] - 21s 10s/step\n",
            "2/2 [==============================] - 21s 10s/step\n",
            "2/2 [==============================] - 21s 10s/step\n",
            "2/2 [==============================] - 21s 10s/step\n",
            "The mean score of the model: 4.838846, The mean accuracy of the model: 0.551724\n"
          ],
          "name": "stdout"
        }
      ]
    },
    {
      "cell_type": "code",
      "metadata": {
        "id": "4TRAReUiwKCG",
        "colab_type": "code",
        "colab": {}
      },
      "source": [
        ""
      ],
      "execution_count": 0,
      "outputs": []
    }
  ]
}