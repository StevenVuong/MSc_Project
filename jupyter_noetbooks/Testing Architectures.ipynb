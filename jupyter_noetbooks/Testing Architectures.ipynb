{
 "cells": [
  {
   "cell_type": "markdown",
   "metadata": {},
   "source": [
    "**This notebook we will try to create a model that accepts multiple inputs**"
   ]
  },
  {
   "cell_type": "code",
   "execution_count": 1,
   "metadata": {},
   "outputs": [
    {
     "name": "stderr",
     "output_type": "stream",
     "text": [
      "Using TensorFlow backend.\n"
     ]
    }
   ],
   "source": [
    "# Standard imports\n",
    "import pandas as pd\n",
    "import numpy as np\n",
    "import matplotlib.pyplot as plt\n",
    "import seaborn as sns\n",
    "%matplotlib inline\n",
    "\n",
    "# other imports to handle files\n",
    "import os\n",
    "import pickle\n",
    "import csv\n",
    "\n",
    "# deep learning imports\n",
    "from keras.models import Sequential, load_model, Model\n",
    "from keras.layers.core import Dense, Dropout, Activation, Flatten\n",
    "from keras.layers.convolutional import Convolution3D, MaxPooling3D, Convolution1D\n",
    "from keras.layers.normalization import BatchNormalization\n",
    "from keras.optimizers import SGD, RMSprop, Adam\n",
    "from keras.utils import np_utils, generic_utils, to_categorical\n",
    "from keras.layers import LeakyReLU, Input, ReLU, concatenate\n",
    "from keras import regularizers\n",
    "\n",
    "from sklearn.model_selection import train_test_split"
   ]
  },
  {
   "cell_type": "code",
   "execution_count": 2,
   "metadata": {},
   "outputs": [],
   "source": [
    "# change to directories with brainscans\n",
    "os.chdir('C://Users//steve//Downloads/stored_processed_scans/processed_brains_aug/')\n",
    "\n",
    "# load a set of brainscans to use\n",
    "with open('dbatch0.pkl', 'rb') as f: # also 'total_slices_all.pkl' ## RENAMED 5 TO 7, TESTING IT\n",
    "    total_slices, total_slices_info = pickle.load(f) # stored_batches/total_slices_batch5"
   ]
  },
  {
   "cell_type": "code",
   "execution_count": 13,
   "metadata": {},
   "outputs": [],
   "source": [
    "def get_classification(total_slices_info):\n",
    "    '''get information of patient'''\n",
    "    classif = [s[2] for s in total_slices_info]\n",
    "    classif = np.array(to_categorical(classif, 2))\n",
    "    \n",
    "    # now do the same for the sex, 'F' is 0, 'M' is 1\n",
    "    sex = [s[1] for s in total_slices_info]\n",
    "    for i in range(len(sex)):\n",
    "        if sex[i] == 'F':\n",
    "            sex[i] = 0\n",
    "        if sex[i] == 'M':\n",
    "            sex[i] = 1\n",
    "    sex = np.array(to_categorical(sex, 2))\n",
    "    \n",
    "    # finally for age, one hot encode ages 0 to 100 (101 classes then)\n",
    "    ages = [s[3] for s in total_slices_info]\n",
    "    ages = np.array(to_categorical(ages, 101))\n",
    "    \n",
    "    return classif, sex, ages\n",
    "\n",
    "y_values, sex, ages = get_classification(total_slices_info)"
   ]
  },
  {
   "cell_type": "code",
   "execution_count": 62,
   "metadata": {},
   "outputs": [],
   "source": [
    "# creds: https://stackoverflow.com/questions/3674409/how-to-split-partition-a-dataset-into-training-and-test-datasets-for-e-g-cros\n",
    "\n",
    "# split all 3 arrays into training and test sets\n",
    "num_random = np.random.rand(len(y_values))\n",
    "indices = np.random.permutation(y_values.shape[0])\n",
    "training_idx, test_idx = indices[:90], indices[10:]\n",
    "\n",
    "y_val_train, y_val_test = y_values[training_idx,:], y_values[test_idx,:]\n",
    "sex_train, sex_test = sex[training_idx,:], sex[test_idx,:]\n",
    "ages_train, ages_test = ages[training_idx,:], ages[test_idx,:]"
   ]
  },
  {
   "cell_type": "code",
   "execution_count": 45,
   "metadata": {},
   "outputs": [],
   "source": [
    "def create_mlp(dim, regress=False):\n",
    "    # define our MLP network\n",
    "    model = Sequential()\n",
    "    model.add(Dense(8, input_dim=dim, activation=\"relu\"))\n",
    "    model.add(Dense(2, activation=\"relu\"))\n",
    " \n",
    "    # check to see if the regression node should be added\n",
    "    if regress:\n",
    "        model.add(Dense(1, activation=\"linear\"))\n",
    " \n",
    "    # return our model\n",
    "    return model"
   ]
  },
  {
   "cell_type": "code",
   "execution_count": 46,
   "metadata": {},
   "outputs": [],
   "source": [
    "# Create MLP models\n",
    "mlp_sex = create_mlp(sex.shape[1], regress=False)\n",
    "mlp_age = create_mlp(ages.shape[1], regress=False)\n",
    "\n",
    "# create the input to our final set of layers as the *output* of both\n",
    "# the MLP and CNN\n",
    "combined_input = concatenate([mlp_sex.output, mlp_age.output])\n",
    "\n",
    "# our final FC layer head will have two dense layers, the final one\n",
    "# being our regression head\n",
    "x = Dense(4, activation=\"relu\")(combined_input)\n",
    "x = Dense(2, activation=\"sigmoid\")(x)\n",
    "\n",
    "# our final model will accept categorical/numerical data on the MLP\n",
    "# input and images on the CNN input, outputting a single value (the\n",
    "# predicted price of the house)\n",
    "model = Model(inputs=[mlp_sex.input, mlp_age.input], outputs=x)"
   ]
  },
  {
   "cell_type": "code",
   "execution_count": null,
   "metadata": {},
   "outputs": [],
   "source": [
    "# compile our model\n",
    "model.compile(loss=\"categorical_crossentropy\", optimizer=Adam(lr=1e-3, decay=1e-3 / 200), \n",
    "              metrics = ['categorical_accuracy']) # decay in Adam..\n",
    "\n",
    "# train the model\n",
    "print(\"training model...\")\n",
    "model.fit(\n",
    "    [sex_train, ages_train], y_val_train,\n",
    "    validation_split=0.1,\n",
    "    epochs=200, batch_size=25)"
   ]
  },
  {
   "cell_type": "code",
   "execution_count": 64,
   "metadata": {},
   "outputs": [
    {
     "name": "stdout",
     "output_type": "stream",
     "text": [
      "90/90 [==============================] - 0s 113us/step\n"
     ]
    }
   ],
   "source": [
    "# make predictions now\n",
    "score, acc = model.evaluate([sex_test, ages_test], y_val_test)\n",
    "\n",
    "# soooooooo this model is freakin powerful"
   ]
  },
  {
   "cell_type": "code",
   "execution_count": 88,
   "metadata": {},
   "outputs": [
    {
     "data": {
      "text/plain": [
       "0.8111111164093018"
      ]
     },
     "execution_count": 88,
     "metadata": {},
     "output_type": "execute_result"
    }
   ],
   "source": [
    "acc\n",
    "# 81.1% can be our baseline, can see how it does when we average it across all the batches we want to train with \n",
    "# and test against an entire batch"
   ]
  },
  {
   "cell_type": "code",
   "execution_count": null,
   "metadata": {},
   "outputs": [],
   "source": [
    "model.summary()"
   ]
  },
  {
   "cell_type": "markdown",
   "metadata": {},
   "source": [
    "***Above is fantastic, now ensemble with some cnn outputs***"
   ]
  },
  {
   "cell_type": "code",
   "execution_count": 91,
   "metadata": {},
   "outputs": [
    {
     "data": {
      "text/plain": [
       "160"
      ]
     },
     "execution_count": 91,
     "metadata": {},
     "output_type": "execute_result"
    }
   ],
   "source": [
    "# try this again here\n",
    "model_cnn = initialise_cnn()\n",
    "\n",
    "# combine again\n",
    "combined_input2 = concatenate()"
   ]
  },
  {
   "cell_type": "code",
   "execution_count": 89,
   "metadata": {},
   "outputs": [],
   "source": [
    "def initialise_cnn():\n",
    "\n",
    "    # compile our model\n",
    "    model = Sequential()\n",
    "\n",
    "    model.add(Convolution3D(filters=16, kernel_size=3, padding='same', strides=1, input_shape=(160,160,160,1),\n",
    "                          kernel_regularizer=regularizers.l2(0.005), bias_regularizer=regularizers.l2(0.005))) # padding on first one only?\n",
    "    model.add(LeakyReLU(alpha=0.20)) # set to 0.01\n",
    "    model.add(BatchNormalization(momentum=0.5))\n",
    "    # could user he_norm kernel initializer?\n",
    "    model.add(MaxPooling3D(pool_size=2, strides=2)) # pool_size=2\n",
    "\n",
    "    model.add(Convolution3D(filters=32, kernel_size=3, padding='same', strides=1,\n",
    "                          kernel_regularizer=regularizers.l2(0.005), bias_regularizer=regularizers.l2(0.005))) # padding on first one only?\n",
    "    model.add(LeakyReLU(alpha=0.20)) # set to 0.01\n",
    "    model.add(BatchNormalization(momentum=0.5))\n",
    "    # could user he_norm kernel initializer?\n",
    "    model.add(MaxPooling3D(pool_size=2, strides=2)) # pool_size=2\n",
    "\n",
    "    model.add(Convolution3D(filters=64, kernel_size=3, padding='same', strides=1,\n",
    "                          kernel_regularizer=regularizers.l2(0.005), bias_regularizer=regularizers.l2(0.005))) # padding on first one only?\n",
    "    model.add(LeakyReLU(alpha=0.20)) # set to 0.01\n",
    "    model.add(BatchNormalization(momentum=0.5))\n",
    "    # could user he_norm kernel initializer?\n",
    "    model.add(MaxPooling3D(pool_size=2, strides=2)) # pool_size=2\n",
    "\n",
    "    model.add(Convolution3D(filters=128, kernel_size=3, padding='same', strides=2,\n",
    "                          kernel_regularizer=regularizers.l2(0.005), bias_regularizer=regularizers.l2(0.005))) # padding on first one only?\n",
    "    model.add(LeakyReLU(alpha=0.20)) # set to 0.01\n",
    "    model.add(BatchNormalization(momentum=0.5))\n",
    "    # could user he_norm kernel initializer?\n",
    "    model.add(MaxPooling3D(pool_size=2, strides=2)) # pool_size=2\n",
    "\n",
    "    model.add(Convolution3D(filters=256, kernel_size=3, padding='same', strides=2,\n",
    "                          kernel_regularizer=regularizers.l2(0.005), bias_regularizer=regularizers.l2(0.005))) # padding on first one only?\n",
    "    model.add(LeakyReLU(alpha=0.20)) # set to 0.01\n",
    "    model.add(BatchNormalization(momentum=0.5))\n",
    "    # could user he_norm kernel initializer?\n",
    "    model.add(MaxPooling3D(pool_size=2, strides=2)) # pool_size=2\n",
    "\n",
    "    model.add(Flatten())\n",
    "\n",
    "    model.add(Dense(512, kernel_regularizer=regularizers.l2(0.005)))\n",
    "    model.add(LeakyReLU(alpha=0.2)) # set to 0.01\n",
    "\n",
    "    model.add(Dropout(0.20)) # add dropout to prevent overfitting\n",
    "\n",
    "    model.add(Dense(64, kernel_regularizer=regularizers.l2(0.005)))\n",
    "    model.add(LeakyReLU(alpha=0.2)) # set to 0.01\n",
    "\n",
    "    model.add(Dropout(0.35)) # add dropout to prevent overfitting\n",
    "\n",
    "    model.add(Dense(2, activation='softmax'))\n",
    "\n",
    "    model.compile(optimizer=Adam(lr=0.0001), loss='categorical_crossentropy',metrics = ['categorical_accuracy'])\n",
    "\n",
    "    return model"
   ]
  },
  {
   "cell_type": "code",
   "execution_count": 90,
   "metadata": {},
   "outputs": [
    {
     "name": "stdout",
     "output_type": "stream",
     "text": [
      "_________________________________________________________________\n",
      "Layer (type)                 Output Shape              Param #   \n",
      "=================================================================\n",
      "conv3d_53 (Conv3D)           (None, 160, 160, 160, 16) 448       \n",
      "_________________________________________________________________\n",
      "leaky_re_lu_63 (LeakyReLU)   (None, 160, 160, 160, 16) 0         \n",
      "_________________________________________________________________\n",
      "batch_normalization_53 (Batc (None, 160, 160, 160, 16) 64        \n",
      "_________________________________________________________________\n",
      "max_pooling3d_53 (MaxPooling (None, 80, 80, 80, 16)    0         \n",
      "_________________________________________________________________\n",
      "conv3d_54 (Conv3D)           (None, 80, 80, 80, 32)    13856     \n",
      "_________________________________________________________________\n",
      "leaky_re_lu_64 (LeakyReLU)   (None, 80, 80, 80, 32)    0         \n",
      "_________________________________________________________________\n",
      "batch_normalization_54 (Batc (None, 80, 80, 80, 32)    128       \n",
      "_________________________________________________________________\n",
      "max_pooling3d_54 (MaxPooling (None, 40, 40, 40, 32)    0         \n",
      "_________________________________________________________________\n",
      "conv3d_55 (Conv3D)           (None, 40, 40, 40, 64)    55360     \n",
      "_________________________________________________________________\n",
      "leaky_re_lu_65 (LeakyReLU)   (None, 40, 40, 40, 64)    0         \n",
      "_________________________________________________________________\n",
      "batch_normalization_55 (Batc (None, 40, 40, 40, 64)    256       \n",
      "_________________________________________________________________\n",
      "max_pooling3d_55 (MaxPooling (None, 20, 20, 20, 64)    0         \n",
      "_________________________________________________________________\n",
      "conv3d_56 (Conv3D)           (None, 10, 10, 10, 128)   221312    \n",
      "_________________________________________________________________\n",
      "leaky_re_lu_66 (LeakyReLU)   (None, 10, 10, 10, 128)   0         \n",
      "_________________________________________________________________\n",
      "batch_normalization_56 (Batc (None, 10, 10, 10, 128)   512       \n",
      "_________________________________________________________________\n",
      "max_pooling3d_56 (MaxPooling (None, 5, 5, 5, 128)      0         \n",
      "_________________________________________________________________\n",
      "conv3d_57 (Conv3D)           (None, 3, 3, 3, 256)      884992    \n",
      "_________________________________________________________________\n",
      "leaky_re_lu_67 (LeakyReLU)   (None, 3, 3, 3, 256)      0         \n",
      "_________________________________________________________________\n",
      "batch_normalization_57 (Batc (None, 3, 3, 3, 256)      1024      \n",
      "_________________________________________________________________\n",
      "max_pooling3d_57 (MaxPooling (None, 1, 1, 1, 256)      0         \n",
      "_________________________________________________________________\n",
      "flatten_6 (Flatten)          (None, 256)               0         \n",
      "_________________________________________________________________\n",
      "dense_88 (Dense)             (None, 512)               131584    \n",
      "_________________________________________________________________\n",
      "leaky_re_lu_68 (LeakyReLU)   (None, 512)               0         \n",
      "_________________________________________________________________\n",
      "dropout_11 (Dropout)         (None, 512)               0         \n",
      "_________________________________________________________________\n",
      "dense_89 (Dense)             (None, 64)                32832     \n",
      "_________________________________________________________________\n",
      "leaky_re_lu_69 (LeakyReLU)   (None, 64)                0         \n",
      "_________________________________________________________________\n",
      "dropout_12 (Dropout)         (None, 64)                0         \n",
      "_________________________________________________________________\n",
      "dense_90 (Dense)             (None, 2)                 130       \n",
      "=================================================================\n",
      "Total params: 1,342,498\n",
      "Trainable params: 1,341,506\n",
      "Non-trainable params: 992\n",
      "_________________________________________________________________\n"
     ]
    }
   ],
   "source": [
    "model_cnn = initialise_cnn()\n",
    "model_cnn.summary()"
   ]
  },
  {
   "cell_type": "code",
   "execution_count": null,
   "metadata": {},
   "outputs": [],
   "source": []
  }
 ],
 "metadata": {
  "kernelspec": {
   "display_name": "Python 3",
   "language": "python",
   "name": "python3"
  },
  "language_info": {
   "codemirror_mode": {
    "name": "ipython",
    "version": 3
   },
   "file_extension": ".py",
   "mimetype": "text/x-python",
   "name": "python",
   "nbconvert_exporter": "python",
   "pygments_lexer": "ipython3",
   "version": "3.7.3"
  }
 },
 "nbformat": 4,
 "nbformat_minor": 2
}
