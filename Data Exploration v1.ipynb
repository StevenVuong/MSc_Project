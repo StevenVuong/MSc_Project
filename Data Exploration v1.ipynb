{
 "cells": [
  {
   "cell_type": "code",
   "execution_count": 1,
   "metadata": {},
   "outputs": [],
   "source": [
    "import numpy as np\n",
    "import pandas as pd\n",
    "import seaborn as sns\n",
    "import matplotlib.pyplot as plt\n",
    "\n",
    "%matplotlib inline"
   ]
  },
  {
   "cell_type": "code",
   "execution_count": null,
   "metadata": {},
   "outputs": [],
   "source": [
    "os.chdir('C:\\\\Users\\\\steve\\\\OneDrive\\\\Data Science MSc\\\\MSc Project') # make sure we start right"
   ]
  },
  {
   "cell_type": "markdown",
   "metadata": {},
   "source": [
    "##### Exploring the Data"
   ]
  },
  {
   "cell_type": "code",
   "execution_count": 41,
   "metadata": {},
   "outputs": [
    {
     "data": {
      "text/html": [
       "<div>\n",
       "<style scoped>\n",
       "    .dataframe tbody tr th:only-of-type {\n",
       "        vertical-align: middle;\n",
       "    }\n",
       "\n",
       "    .dataframe tbody tr th {\n",
       "        vertical-align: top;\n",
       "    }\n",
       "\n",
       "    .dataframe thead th {\n",
       "        text-align: right;\n",
       "    }\n",
       "</style>\n",
       "<table border=\"1\" class=\"dataframe\">\n",
       "  <thead>\n",
       "    <tr style=\"text-align: right;\">\n",
       "      <th></th>\n",
       "      <th>Image Data ID</th>\n",
       "      <th>Subject</th>\n",
       "      <th>Group</th>\n",
       "      <th>Sex</th>\n",
       "      <th>Age</th>\n",
       "      <th>Visit</th>\n",
       "      <th>Modality</th>\n",
       "      <th>Description</th>\n",
       "      <th>Type</th>\n",
       "      <th>Acq Date</th>\n",
       "      <th>Format</th>\n",
       "      <th>Downloaded</th>\n",
       "    </tr>\n",
       "  </thead>\n",
       "  <tbody>\n",
       "    <tr>\n",
       "      <th>726</th>\n",
       "      <td>226399</td>\n",
       "      <td>3104</td>\n",
       "      <td>Control</td>\n",
       "      <td>M</td>\n",
       "      <td>72</td>\n",
       "      <td>1</td>\n",
       "      <td>MRI</td>\n",
       "      <td>Axial PD-T2 TSE</td>\n",
       "      <td>Original</td>\n",
       "      <td>2/14/2011</td>\n",
       "      <td>DCM</td>\n",
       "      <td>NaN</td>\n",
       "    </tr>\n",
       "    <tr>\n",
       "      <th>727</th>\n",
       "      <td>301554</td>\n",
       "      <td>3104</td>\n",
       "      <td>Control</td>\n",
       "      <td>M</td>\n",
       "      <td>73</td>\n",
       "      <td>5</td>\n",
       "      <td>MRI</td>\n",
       "      <td>Axial PD-T2 TSE</td>\n",
       "      <td>Original</td>\n",
       "      <td>4/20/2012</td>\n",
       "      <td>DCM</td>\n",
       "      <td>NaN</td>\n",
       "    </tr>\n",
       "    <tr>\n",
       "      <th>728</th>\n",
       "      <td>226366</td>\n",
       "      <td>3102</td>\n",
       "      <td>PD</td>\n",
       "      <td>M</td>\n",
       "      <td>64</td>\n",
       "      <td>1</td>\n",
       "      <td>MRI</td>\n",
       "      <td>Axial PD-T2 TSE</td>\n",
       "      <td>Original</td>\n",
       "      <td>11/23/2010</td>\n",
       "      <td>DCM</td>\n",
       "      <td>NaN</td>\n",
       "    </tr>\n",
       "    <tr>\n",
       "      <th>729</th>\n",
       "      <td>378210</td>\n",
       "      <td>3102</td>\n",
       "      <td>PD</td>\n",
       "      <td>M</td>\n",
       "      <td>66</td>\n",
       "      <td>7</td>\n",
       "      <td>MRI</td>\n",
       "      <td>Axial PD-T2 TSE FS</td>\n",
       "      <td>Original</td>\n",
       "      <td>02/06/2013</td>\n",
       "      <td>DCM</td>\n",
       "      <td>NaN</td>\n",
       "    </tr>\n",
       "    <tr>\n",
       "      <th>730</th>\n",
       "      <td>353457</td>\n",
       "      <td>3102</td>\n",
       "      <td>PD</td>\n",
       "      <td>M</td>\n",
       "      <td>65</td>\n",
       "      <td>21</td>\n",
       "      <td>MRI</td>\n",
       "      <td>Axial PD-T2 TSE</td>\n",
       "      <td>Original</td>\n",
       "      <td>11/21/2011</td>\n",
       "      <td>DCM</td>\n",
       "      <td>NaN</td>\n",
       "    </tr>\n",
       "  </tbody>\n",
       "</table>\n",
       "</div>"
      ],
      "text/plain": [
       "     Image Data ID  Subject    Group Sex  Age  Visit Modality  \\\n",
       "726         226399     3104  Control   M   72      1      MRI   \n",
       "727         301554     3104  Control   M   73      5      MRI   \n",
       "728         226366     3102       PD   M   64      1      MRI   \n",
       "729         378210     3102       PD   M   66      7      MRI   \n",
       "730         353457     3102       PD   M   65     21      MRI   \n",
       "\n",
       "            Description      Type    Acq Date Format  Downloaded  \n",
       "726     Axial PD-T2 TSE  Original   2/14/2011    DCM         NaN  \n",
       "727     Axial PD-T2 TSE  Original   4/20/2012    DCM         NaN  \n",
       "728     Axial PD-T2 TSE  Original  11/23/2010    DCM         NaN  \n",
       "729  Axial PD-T2 TSE FS  Original  02/06/2013    DCM         NaN  \n",
       "730     Axial PD-T2 TSE  Original  11/21/2011    DCM         NaN  "
      ]
     },
     "execution_count": 41,
     "metadata": {},
     "output_type": "execute_result"
    }
   ],
   "source": [
    "df = pd.read_csv('THIS_IS_IT.csv')\n",
    "df.tail()"
   ]
  },
  {
   "cell_type": "code",
   "execution_count": 42,
   "metadata": {},
   "outputs": [
    {
     "data": {
      "text/plain": [
       "(array(['AXIAL PD-T2 TSE FS', 'Axial PD-T2 TSE', 'Axial PD-T2 TSE FS',\n",
       "        'Axial PD-T2 TSE_AC PC line', 'Axial PD-T2 TSE_AC/PC line',\n",
       "        'Axial PD-T2-FS TSE', 'T2'], dtype=object),\n",
       " array([ 33, 292, 356,   2,  24,  23,   1], dtype=int64))"
      ]
     },
     "execution_count": 42,
     "metadata": {},
     "output_type": "execute_result"
    }
   ],
   "source": [
    "descriptions_array = df.Description.values\n",
    "np.unique(descriptions_array, return_counts=True) \n",
    "# so most is Axial PD-T2 TSE and Axial PD-T2 TSE FS\n",
    "# leaves us with either 292 or 356, try to find the difference"
   ]
  },
  {
   "cell_type": "code",
   "execution_count": 43,
   "metadata": {},
   "outputs": [],
   "source": [
    "# looks like a bunch of Axial PD-T2 TSE are mislabelled or slightly different, change these\n",
    "dscrptn = df['Description'].replace({'Axial PD-T2-FS TSE':'Axial PD-T2 TSE FS', 'AXIAL PD-T2 TSE FS':'Axial PD-T2 TSE FS', \n",
    "                           'Axial PD-T2 TSE_AC PC line':'Axial PD-T2 TSE_AC/PC line'})\n",
    "\n",
    "df['Description'] = dscrptn"
   ]
  },
  {
   "cell_type": "code",
   "execution_count": 44,
   "metadata": {},
   "outputs": [
    {
     "data": {
      "text/plain": [
       "(array(['Axial PD-T2 TSE', 'Axial PD-T2 TSE FS',\n",
       "        'Axial PD-T2 TSE_AC/PC line', 'T2'], dtype=object),\n",
       " array([292, 412,  26,   1], dtype=int64))"
      ]
     },
     "execution_count": 44,
     "metadata": {},
     "output_type": "execute_result"
    }
   ],
   "source": [
    "np.unique(df.Description.values, return_counts=True) \n",
    "# looks about right. Now need to decide on TSE vs TSE FS\n",
    "# well FS has more data, let's try to find something more substantial though"
   ]
  },
  {
   "cell_type": "code",
   "execution_count": 45,
   "metadata": {},
   "outputs": [],
   "source": [
    "# find an example of a TSE and a TSE FS and try to find the difference"
   ]
  },
  {
   "cell_type": "code",
   "execution_count": 46,
   "metadata": {},
   "outputs": [],
   "source": [
    "tse_fs_test_id = 377981\n",
    "tse_nofs_test_id = 226399"
   ]
  },
  {
   "cell_type": "markdown",
   "metadata": {},
   "source": [
    "##### Changing working directory to access the images"
   ]
  },
  {
   "cell_type": "code",
   "execution_count": 48,
   "metadata": {},
   "outputs": [],
   "source": [
    "# have to dive into the file system to do that.. (on AWS have it all accessed on the bucketz)\n",
    "import os"
   ]
  },
  {
   "cell_type": "code",
   "execution_count": 56,
   "metadata": {},
   "outputs": [
    {
     "data": {
      "text/plain": [
       "'C:\\\\Users\\\\steve\\\\OneDrive\\\\Data Science MSc\\\\MSc Project'"
      ]
     },
     "execution_count": 56,
     "metadata": {},
     "output_type": "execute_result"
    }
   ],
   "source": [
    "os.getcwd()"
   ]
  },
  {
   "cell_type": "code",
   "execution_count": 61,
   "metadata": {},
   "outputs": [],
   "source": [
    "os.chdir('C:\\\\Users\\\\steve\\Downloads')"
   ]
  },
  {
   "cell_type": "code",
   "execution_count": 62,
   "metadata": {},
   "outputs": [
    {
     "data": {
      "text/plain": [
       "['.ipynb_checkpoints',\n",
       " 'Allianz Sales Checklist - compliance.pdf',\n",
       " 'Anaconda3-2019.03-Windows-x86_64.exe',\n",
       " 'CIEC_summer',\n",
       " 'desktop.ini',\n",
       " 'G Adventures - Checkout_files',\n",
       " 'game.of.thrones.s08e06.720p.web.h264-memento[eztv].mkv',\n",
       " 'gimp-2.10.10-setup.exe',\n",
       " 'Git-2.21.0-64-bit.exe',\n",
       " 'GoogleVoiceAndVideoSetup.exe',\n",
       " 'Hardique Manilal cv.docx',\n",
       " 'lightworks_v14.5.0_full_64bit_setup.exe',\n",
       " 'nail-shapes.png',\n",
       " 'NordVPNSetup.exe',\n",
       " \"Notes on Trieu's FYP.docx\",\n",
       " 'Pictures - Shortcut.lnk',\n",
       " 'PPMI_THIS_IS_IT',\n",
       " 'putty-64bit-0.71-installer.msi',\n",
       " 'python-3.7.3.exe',\n",
       " 'Screenshot_2019-04-16 e Vision Exam Timetable.png',\n",
       " 'TableauDesktop-64bit-2019-1-3.exe',\n",
       " 'THIS_IS_IT.csv',\n",
       " 'THIS_IS_IT.zip',\n",
       " '_temp_matlab_R2019a_win64']"
      ]
     },
     "execution_count": 62,
     "metadata": {},
     "output_type": "execute_result"
    }
   ],
   "source": [
    "os.listdir()"
   ]
  },
  {
   "cell_type": "code",
   "execution_count": null,
   "metadata": {},
   "outputs": [],
   "source": []
  }
 ],
 "metadata": {
  "kernelspec": {
   "display_name": "Python 3",
   "language": "python",
   "name": "python3"
  },
  "language_info": {
   "codemirror_mode": {
    "name": "ipython",
    "version": 3
   },
   "file_extension": ".py",
   "mimetype": "text/x-python",
   "name": "python",
   "nbconvert_exporter": "python",
   "pygments_lexer": "ipython3",
   "version": "3.7.3"
  }
 },
 "nbformat": 4,
 "nbformat_minor": 2
}
