{
 "cells": [
  {
   "cell_type": "code",
   "execution_count": 1,
   "metadata": {},
   "outputs": [],
   "source": [
    "import numpy as np\n",
    "import pandas as pd\n",
    "import seaborn as sns\n",
    "import matplotlib.pyplot as plt\n",
    "import os\n",
    "import pydicom\n",
    "\n",
    "%matplotlib inline"
   ]
  },
  {
   "cell_type": "code",
   "execution_count": 2,
   "metadata": {},
   "outputs": [],
   "source": [
    "os.chdir('C:\\\\Users\\\\steve\\\\OneDrive\\\\Data Science MSc\\\\MSc Project') # get to the right directory"
   ]
  },
  {
   "cell_type": "markdown",
   "metadata": {},
   "source": [
    "##### Exploring the Data"
   ]
  },
  {
   "cell_type": "code",
   "execution_count": 3,
   "metadata": {},
   "outputs": [
    {
     "data": {
      "text/html": [
       "<div>\n",
       "<style scoped>\n",
       "    .dataframe tbody tr th:only-of-type {\n",
       "        vertical-align: middle;\n",
       "    }\n",
       "\n",
       "    .dataframe tbody tr th {\n",
       "        vertical-align: top;\n",
       "    }\n",
       "\n",
       "    .dataframe thead th {\n",
       "        text-align: right;\n",
       "    }\n",
       "</style>\n",
       "<table border=\"1\" class=\"dataframe\">\n",
       "  <thead>\n",
       "    <tr style=\"text-align: right;\">\n",
       "      <th></th>\n",
       "      <th>Image Data ID</th>\n",
       "      <th>Subject</th>\n",
       "      <th>Group</th>\n",
       "      <th>Sex</th>\n",
       "      <th>Age</th>\n",
       "      <th>Visit</th>\n",
       "      <th>Modality</th>\n",
       "      <th>Description</th>\n",
       "      <th>Type</th>\n",
       "      <th>Acq Date</th>\n",
       "      <th>Format</th>\n",
       "      <th>Downloaded</th>\n",
       "    </tr>\n",
       "  </thead>\n",
       "  <tbody>\n",
       "    <tr>\n",
       "      <th>0</th>\n",
       "      <td>377981</td>\n",
       "      <td>4139</td>\n",
       "      <td>Control</td>\n",
       "      <td>M</td>\n",
       "      <td>81</td>\n",
       "      <td>1</td>\n",
       "      <td>MRI</td>\n",
       "      <td>Axial PD-T2 TSE FS</td>\n",
       "      <td>Original</td>\n",
       "      <td>04/09/2013</td>\n",
       "      <td>DCM</td>\n",
       "      <td>NaN</td>\n",
       "    </tr>\n",
       "    <tr>\n",
       "      <th>1</th>\n",
       "      <td>436432</td>\n",
       "      <td>4136</td>\n",
       "      <td>PD</td>\n",
       "      <td>M</td>\n",
       "      <td>57</td>\n",
       "      <td>5</td>\n",
       "      <td>MRI</td>\n",
       "      <td>Axial PD-T2 TSE FS</td>\n",
       "      <td>Original</td>\n",
       "      <td>05/06/2014</td>\n",
       "      <td>DCM</td>\n",
       "      <td>NaN</td>\n",
       "    </tr>\n",
       "    <tr>\n",
       "      <th>2</th>\n",
       "      <td>377973</td>\n",
       "      <td>4136</td>\n",
       "      <td>PD</td>\n",
       "      <td>M</td>\n",
       "      <td>56</td>\n",
       "      <td>1</td>\n",
       "      <td>MRI</td>\n",
       "      <td>Axial PD-T2 TSE FS</td>\n",
       "      <td>Original</td>\n",
       "      <td>2/28/2013</td>\n",
       "      <td>DCM</td>\n",
       "      <td>NaN</td>\n",
       "    </tr>\n",
       "    <tr>\n",
       "      <th>3</th>\n",
       "      <td>377952</td>\n",
       "      <td>4135</td>\n",
       "      <td>PD</td>\n",
       "      <td>M</td>\n",
       "      <td>67</td>\n",
       "      <td>1</td>\n",
       "      <td>MRI</td>\n",
       "      <td>Axial PD-T2 TSE FS</td>\n",
       "      <td>Original</td>\n",
       "      <td>03/01/2013</td>\n",
       "      <td>DCM</td>\n",
       "      <td>NaN</td>\n",
       "    </tr>\n",
       "    <tr>\n",
       "      <th>4</th>\n",
       "      <td>377945</td>\n",
       "      <td>4085</td>\n",
       "      <td>Control</td>\n",
       "      <td>M</td>\n",
       "      <td>67</td>\n",
       "      <td>1</td>\n",
       "      <td>MRI</td>\n",
       "      <td>Axial PD-T2 TSE FS</td>\n",
       "      <td>Original</td>\n",
       "      <td>04/08/2013</td>\n",
       "      <td>DCM</td>\n",
       "      <td>NaN</td>\n",
       "    </tr>\n",
       "  </tbody>\n",
       "</table>\n",
       "</div>"
      ],
      "text/plain": [
       "   Image Data ID  Subject    Group Sex  Age  Visit Modality  \\\n",
       "0         377981     4139  Control   M   81      1      MRI   \n",
       "1         436432     4136       PD   M   57      5      MRI   \n",
       "2         377973     4136       PD   M   56      1      MRI   \n",
       "3         377952     4135       PD   M   67      1      MRI   \n",
       "4         377945     4085  Control   M   67      1      MRI   \n",
       "\n",
       "          Description      Type    Acq Date Format  Downloaded  \n",
       "0  Axial PD-T2 TSE FS  Original  04/09/2013    DCM         NaN  \n",
       "1  Axial PD-T2 TSE FS  Original  05/06/2014    DCM         NaN  \n",
       "2  Axial PD-T2 TSE FS  Original   2/28/2013    DCM         NaN  \n",
       "3  Axial PD-T2 TSE FS  Original  03/01/2013    DCM         NaN  \n",
       "4  Axial PD-T2 TSE FS  Original  04/08/2013    DCM         NaN  "
      ]
     },
     "execution_count": 3,
     "metadata": {},
     "output_type": "execute_result"
    }
   ],
   "source": [
    "# import data and show head\n",
    "df = pd.read_csv('THIS_IS_IT.csv')\n",
    "df.head()"
   ]
  },
  {
   "cell_type": "code",
   "execution_count": 4,
   "metadata": {},
   "outputs": [
    {
     "data": {
      "text/plain": [
       "(array(['AXIAL PD-T2 TSE FS', 'Axial PD-T2 TSE', 'Axial PD-T2 TSE FS',\n",
       "        'Axial PD-T2 TSE_AC PC line', 'Axial PD-T2 TSE_AC/PC line',\n",
       "        'Axial PD-T2-FS TSE', 'T2'], dtype=object),\n",
       " array([ 33, 292, 356,   2,  24,  23,   1], dtype=int64))"
      ]
     },
     "execution_count": 4,
     "metadata": {},
     "output_type": "execute_result"
    }
   ],
   "source": [
    "descriptions_array = df.Description.values\n",
    "np.unique(descriptions_array, return_counts=True) "
   ]
  },
  {
   "cell_type": "markdown",
   "metadata": {},
   "source": [
    "So we can see that the majority is Axial PD-T2 TSE and Axial PD-T2 TSE FS, leaving us with 292 or 356. "
   ]
  },
  {
   "cell_type": "code",
   "execution_count": 5,
   "metadata": {},
   "outputs": [],
   "source": [
    "# looks like a bunch of Axial PD-T2 TSE are mislabelled or slightly different, change these\n",
    "dscrptn = df['Description'].replace({'Axial PD-T2-FS TSE':'Axial PD-T2 TSE FS', 'AXIAL PD-T2 TSE FS':'Axial PD-T2 TSE FS', \n",
    "                           'Axial PD-T2 TSE_AC PC line':'Axial PD-T2 TSE_AC/PC line'})\n",
    "\n",
    "df['Description'] = dscrptn"
   ]
  },
  {
   "cell_type": "code",
   "execution_count": 6,
   "metadata": {},
   "outputs": [
    {
     "data": {
      "text/plain": [
       "(array(['Axial PD-T2 TSE', 'Axial PD-T2 TSE FS',\n",
       "        'Axial PD-T2 TSE_AC/PC line', 'T2'], dtype=object),\n",
       " array([292, 412,  26,   1], dtype=int64))"
      ]
     },
     "execution_count": 6,
     "metadata": {},
     "output_type": "execute_result"
    }
   ],
   "source": [
    "np.unique(df.Description.values, return_counts=True) "
   ]
  },
  {
   "cell_type": "markdown",
   "metadata": {},
   "source": [
    "Looks about right, decide to go with TSE FS as this has more data. Looks like many patients had both scans."
   ]
  },
  {
   "cell_type": "code",
   "execution_count": 75,
   "metadata": {},
   "outputs": [
    {
     "name": "stdout",
     "output_type": "stream",
     "text": [
      "412\n"
     ]
    },
    {
     "data": {
      "text/html": [
       "<div>\n",
       "<style scoped>\n",
       "    .dataframe tbody tr th:only-of-type {\n",
       "        vertical-align: middle;\n",
       "    }\n",
       "\n",
       "    .dataframe tbody tr th {\n",
       "        vertical-align: top;\n",
       "    }\n",
       "\n",
       "    .dataframe thead th {\n",
       "        text-align: right;\n",
       "    }\n",
       "</style>\n",
       "<table border=\"1\" class=\"dataframe\">\n",
       "  <thead>\n",
       "    <tr style=\"text-align: right;\">\n",
       "      <th></th>\n",
       "      <th>Image Data ID</th>\n",
       "      <th>Subject</th>\n",
       "      <th>Group</th>\n",
       "      <th>Sex</th>\n",
       "      <th>Age</th>\n",
       "      <th>Visit</th>\n",
       "      <th>Modality</th>\n",
       "      <th>Description</th>\n",
       "      <th>Type</th>\n",
       "      <th>Acq Date</th>\n",
       "      <th>Format</th>\n",
       "      <th>Downloaded</th>\n",
       "    </tr>\n",
       "  </thead>\n",
       "  <tbody>\n",
       "    <tr>\n",
       "      <th>0</th>\n",
       "      <td>377981</td>\n",
       "      <td>4139</td>\n",
       "      <td>Control</td>\n",
       "      <td>M</td>\n",
       "      <td>81</td>\n",
       "      <td>1</td>\n",
       "      <td>MRI</td>\n",
       "      <td>Axial PD-T2 TSE FS</td>\n",
       "      <td>Original</td>\n",
       "      <td>04/09/2013</td>\n",
       "      <td>DCM</td>\n",
       "      <td>NaN</td>\n",
       "    </tr>\n",
       "    <tr>\n",
       "      <th>1</th>\n",
       "      <td>436432</td>\n",
       "      <td>4136</td>\n",
       "      <td>PD</td>\n",
       "      <td>M</td>\n",
       "      <td>57</td>\n",
       "      <td>5</td>\n",
       "      <td>MRI</td>\n",
       "      <td>Axial PD-T2 TSE FS</td>\n",
       "      <td>Original</td>\n",
       "      <td>05/06/2014</td>\n",
       "      <td>DCM</td>\n",
       "      <td>NaN</td>\n",
       "    </tr>\n",
       "    <tr>\n",
       "      <th>2</th>\n",
       "      <td>377973</td>\n",
       "      <td>4136</td>\n",
       "      <td>PD</td>\n",
       "      <td>M</td>\n",
       "      <td>56</td>\n",
       "      <td>1</td>\n",
       "      <td>MRI</td>\n",
       "      <td>Axial PD-T2 TSE FS</td>\n",
       "      <td>Original</td>\n",
       "      <td>2/28/2013</td>\n",
       "      <td>DCM</td>\n",
       "      <td>NaN</td>\n",
       "    </tr>\n",
       "    <tr>\n",
       "      <th>3</th>\n",
       "      <td>377952</td>\n",
       "      <td>4135</td>\n",
       "      <td>PD</td>\n",
       "      <td>M</td>\n",
       "      <td>67</td>\n",
       "      <td>1</td>\n",
       "      <td>MRI</td>\n",
       "      <td>Axial PD-T2 TSE FS</td>\n",
       "      <td>Original</td>\n",
       "      <td>03/01/2013</td>\n",
       "      <td>DCM</td>\n",
       "      <td>NaN</td>\n",
       "    </tr>\n",
       "    <tr>\n",
       "      <th>4</th>\n",
       "      <td>377945</td>\n",
       "      <td>4085</td>\n",
       "      <td>Control</td>\n",
       "      <td>M</td>\n",
       "      <td>67</td>\n",
       "      <td>1</td>\n",
       "      <td>MRI</td>\n",
       "      <td>Axial PD-T2 TSE FS</td>\n",
       "      <td>Original</td>\n",
       "      <td>04/08/2013</td>\n",
       "      <td>DCM</td>\n",
       "      <td>NaN</td>\n",
       "    </tr>\n",
       "  </tbody>\n",
       "</table>\n",
       "</div>"
      ],
      "text/plain": [
       "   Image Data ID  Subject    Group Sex  Age  Visit Modality  \\\n",
       "0         377981     4139  Control   M   81      1      MRI   \n",
       "1         436432     4136       PD   M   57      5      MRI   \n",
       "2         377973     4136       PD   M   56      1      MRI   \n",
       "3         377952     4135       PD   M   67      1      MRI   \n",
       "4         377945     4085  Control   M   67      1      MRI   \n",
       "\n",
       "          Description      Type    Acq Date Format  Downloaded  \n",
       "0  Axial PD-T2 TSE FS  Original  04/09/2013    DCM         NaN  \n",
       "1  Axial PD-T2 TSE FS  Original  05/06/2014    DCM         NaN  \n",
       "2  Axial PD-T2 TSE FS  Original   2/28/2013    DCM         NaN  \n",
       "3  Axial PD-T2 TSE FS  Original  03/01/2013    DCM         NaN  \n",
       "4  Axial PD-T2 TSE FS  Original  04/08/2013    DCM         NaN  "
      ]
     },
     "execution_count": 75,
     "metadata": {},
     "output_type": "execute_result"
    }
   ],
   "source": [
    "df2 = df[df['Description']=='Axial PD-T2 TSE FS']\n",
    "print (len(df2))\n",
    "df2.head()"
   ]
  },
  {
   "cell_type": "code",
   "execution_count": 8,
   "metadata": {},
   "outputs": [
    {
     "name": "stderr",
     "output_type": "stream",
     "text": [
      "C:\\Users\\steve\\Anaconda3\\lib\\site-packages\\ipykernel_launcher.py:2: SettingWithCopyWarning: \n",
      "A value is trying to be set on a copy of a slice from a DataFrame.\n",
      "Try using .loc[row_indexer,col_indexer] = value instead\n",
      "\n",
      "See the caveats in the documentation: http://pandas.pydata.org/pandas-docs/stable/indexing.html#indexing-view-versus-copy\n",
      "  \n"
     ]
    }
   ],
   "source": [
    "# Change the object type to dates for date\n",
    "df2['Acq Date'] = pd.to_datetime(df2['Acq Date'], format='%d/%M/%Y')"
   ]
  },
  {
   "cell_type": "code",
   "execution_count": 9,
   "metadata": {},
   "outputs": [
    {
     "name": "stdout",
     "output_type": "stream",
     "text": [
      "<class 'pandas.core.frame.DataFrame'>\n",
      "Int64Index: 412 entries, 0 to 729\n",
      "Data columns (total 12 columns):\n",
      "Image Data ID    412 non-null int64\n",
      "Subject          412 non-null int64\n",
      "Group            412 non-null object\n",
      "Sex              412 non-null object\n",
      "Age              412 non-null int64\n",
      "Visit            412 non-null int64\n",
      "Modality         412 non-null object\n",
      "Description      412 non-null object\n",
      "Type             412 non-null object\n",
      "Acq Date         412 non-null datetime64[ns]\n",
      "Format           412 non-null object\n",
      "Downloaded       0 non-null float64\n",
      "dtypes: datetime64[ns](1), float64(1), int64(4), object(6)\n",
      "memory usage: 41.8+ KB\n"
     ]
    }
   ],
   "source": [
    "df2.info() # just get understanding of types of data"
   ]
  },
  {
   "cell_type": "code",
   "execution_count": 10,
   "metadata": {},
   "outputs": [
    {
     "data": {
      "text/plain": [
       "(array(['Control', 'PD'], dtype=object), array([ 50, 362], dtype=int64))"
      ]
     },
     "execution_count": 10,
     "metadata": {},
     "output_type": "execute_result"
    }
   ],
   "source": [
    "# count number with PD and number of controls\n",
    "np.unique(df2.Group, return_counts=True)"
   ]
  },
  {
   "cell_type": "code",
   "execution_count": 11,
   "metadata": {},
   "outputs": [],
   "source": [
    "# So keep only one scan per patient and use the most recent scans\n",
    "df3 = df2.sort_values('Acq Date').drop_duplicates('Subject',keep='last')"
   ]
  },
  {
   "cell_type": "code",
   "execution_count": 12,
   "metadata": {},
   "outputs": [
    {
     "data": {
      "text/plain": [
       "(array(['Control', 'PD'], dtype=object), array([ 36, 154], dtype=int64))"
      ]
     },
     "execution_count": 12,
     "metadata": {},
     "output_type": "execute_result"
    }
   ],
   "source": [
    "# count number with PD and number of controls\n",
    "np.unique(df3.Group, return_counts=True)"
   ]
  },
  {
   "cell_type": "markdown",
   "metadata": {},
   "source": [
    "We can see that some patients have multiple scans and different dates. Treat these as independent occurances. \n",
    "<br>\n",
    "Plan:\n",
    "-  Get all subject ID's\n",
    "-  Search these folders, if more than 1 subfolder, take the second which will be the TSE FS files\n",
    "-  Then each scan subfolder is treated as an independent case (important to mention) as we have 412 patients but 729 scans i.e. some patients had more than one scan over time. Balance this out by just selecting one image per patient\n",
    "    -  By one image per patient, it is meant that the last image is selected for classification, so we should have 412 images overall, balancing out the ratio slightly. Select the last one\n",
    "    -  Problem with selecting the last one however is that it is the latest scan (most recent one), meaning it is more likely to be later stage PD in development. Meaning we may have a harder time diagnosing those with early stages of PD\n",
    "    -  Way to go around this would be to train with the earliest stage of a classifier or use another MRI data source set"
   ]
  },
  {
   "cell_type": "code",
   "execution_count": 13,
   "metadata": {},
   "outputs": [],
   "source": [
    "# establish control and pd df's\n",
    "df_control = df2[df2.Group == 'Control'] # for control, keep duplicate subject n.o's\n",
    "df_pd = df3[df3.Group == 'PD'] "
   ]
  },
  {
   "cell_type": "code",
   "execution_count": 14,
   "metadata": {},
   "outputs": [
    {
     "name": "stdout",
     "output_type": "stream",
     "text": [
      "Number of control patients: 50 \n",
      "Number of PD patients: 154 \n"
     ]
    }
   ],
   "source": [
    "print (\"Number of control patients: %d \" % len(df_control))\n",
    "print (\"Number of PD patients: %d \" % len(df_pd))"
   ]
  },
  {
   "cell_type": "code",
   "execution_count": 15,
   "metadata": {},
   "outputs": [
    {
     "data": {
      "image/png": "[encoded data removed]",
      "text/plain": [
       "<Figure size 432x288 with 1 Axes>"
      ]
     },
     "metadata": {
      "needs_background": "light"
     },
     "output_type": "display_data"
    }
   ],
   "source": [
    "# seaborn distribution plot\n",
    "sns.distplot(df_control.Age, rug=False, label='Control')\n",
    "sns.distplot(df_pd.Age, rug=False, label='PD')\n",
    "plt.title('Distribution Plot of Age')\n",
    "plt.legend()\n",
    "plt.show()"
   ]
  },
  {
   "cell_type": "code",
   "execution_count": 16,
   "metadata": {},
   "outputs": [
    {
     "data": {
      "image/png": "[encoded data removed]",
      "text/plain": [
       "<Figure size 432x288 with 1 Axes>"
      ]
     },
     "metadata": {
      "needs_background": "light"
     },
     "output_type": "display_data"
    }
   ],
   "source": [
    "# plot for the ages\n",
    "plt.hist(df_pd.Age, align='mid', alpha=0.25, color='r', label='pd', bins=10)\n",
    "plt.hist(df_control.Age, align='mid', alpha=0.25, color='b', label='control', bins=10)\n",
    "plt.legend(loc='upper left')\n",
    "\n",
    "# set labels\n",
    "plt.ylabel('Frequency')\n",
    "plt.xlabel('Age')\n",
    "plt.title('Frequency of Ages')\n",
    "\n",
    "# set ticks\n",
    "plt.xticks(np.arange(min(df_control.Age), max(df_control.Age)+1, 5.0))\n",
    "plt.show()"
   ]
  },
  {
   "cell_type": "markdown",
   "metadata": {},
   "source": [
    "What can happen if we have too many PD compared to control? Without balancing (by only allowing one scan per patient, we reduce the ratio from 7:1 between PD to Control to about 1:5. If we just do this method for PD patients only, we can set the ratio to about 1:3 (which is what we will go with) so we have a balanced set to train as possible. Though it means we only have 204 instances to train with."
   ]
  },
  {
   "cell_type": "code",
   "execution_count": 17,
   "metadata": {},
   "outputs": [
    {
     "data": {
      "image/png": "[encoded data removed]",
      "text/plain": [
       "<Figure size 432x288 with 1 Axes>"
      ]
     },
     "metadata": {
      "needs_background": "light"
     },
     "output_type": "display_data"
    }
   ],
   "source": [
    "# some boxplots\n",
    "ax = sns.boxplot(x=\"Group\", y=\"Age\", data=df2)"
   ]
  },
  {
   "cell_type": "markdown",
   "metadata": {},
   "source": [
    "For each, control and PD we can state the number of M and F in each."
   ]
  },
  {
   "cell_type": "code",
   "execution_count": 18,
   "metadata": {},
   "outputs": [
    {
     "name": "stdout",
     "output_type": "stream",
     "text": [
      "For Control:\n",
      "(array(['F', 'M'], dtype=object), array([10, 40], dtype=int64))\n",
      "For PD\n",
      "(array(['F', 'M'], dtype=object), array([ 53, 101], dtype=int64))\n"
     ]
    }
   ],
   "source": [
    "print (\"For Control:\")\n",
    "print (np.unique(df_control.Sex.values, return_counts=True))\n",
    "print (\"For PD\")\n",
    "print (np.unique(df_pd.Sex.values, return_counts=True))"
   ]
  },
  {
   "cell_type": "markdown",
   "metadata": {},
   "source": [
    "##### Find the right subjects and image scan ID's and search files for these, build a list of directories to scan\n",
    "Then build a corresponding datastructure.\n",
    "-  Datastructure: Dictionary {Image_ID: List of DCM Files}"
   ]
  },
  {
   "cell_type": "code",
   "execution_count": 19,
   "metadata": {},
   "outputs": [],
   "source": [
    "# Logic:\n",
    "# First compile both control and PD into some super DF\n",
    "# Then make a list of all the corresponding subject ID's\n",
    "# Then make a list of all the corresponding Image ID's\n",
    "\n",
    "# Loop through to get the right folders (one that match with subject ID)\n",
    "# open the last subfolder (MRI TSE) *So using [-1] slicing*\n",
    "# open the last subfolder again ( most recent dated image )\n",
    "# 's' + image_id is the subfolder to store\n",
    "# store the path\n",
    "\n",
    "# Then Store the list of DCM files "
   ]
  },
  {
   "cell_type": "code",
   "execution_count": 20,
   "metadata": {},
   "outputs": [
    {
     "data": {
      "text/html": [
       "<div>\n",
       "<style scoped>\n",
       "    .dataframe tbody tr th:only-of-type {\n",
       "        vertical-align: middle;\n",
       "    }\n",
       "\n",
       "    .dataframe tbody tr th {\n",
       "        vertical-align: top;\n",
       "    }\n",
       "\n",
       "    .dataframe thead th {\n",
       "        text-align: right;\n",
       "    }\n",
       "</style>\n",
       "<table border=\"1\" class=\"dataframe\">\n",
       "  <thead>\n",
       "    <tr style=\"text-align: right;\">\n",
       "      <th></th>\n",
       "      <th>Image Data ID</th>\n",
       "      <th>Subject</th>\n",
       "      <th>Group</th>\n",
       "      <th>Sex</th>\n",
       "      <th>Age</th>\n",
       "      <th>Visit</th>\n",
       "      <th>Modality</th>\n",
       "      <th>Description</th>\n",
       "      <th>Type</th>\n",
       "      <th>Acq Date</th>\n",
       "      <th>Format</th>\n",
       "      <th>Downloaded</th>\n",
       "    </tr>\n",
       "  </thead>\n",
       "  <tbody>\n",
       "    <tr>\n",
       "      <th>651</th>\n",
       "      <td>482301</td>\n",
       "      <td>3131</td>\n",
       "      <td>PD</td>\n",
       "      <td>M</td>\n",
       "      <td>73</td>\n",
       "      <td>7</td>\n",
       "      <td>MRI</td>\n",
       "      <td>Axial PD-T2 TSE FS</td>\n",
       "      <td>Original</td>\n",
       "      <td>2015-01-03 00:11:00</td>\n",
       "      <td>DCM</td>\n",
       "      <td>NaN</td>\n",
       "    </tr>\n",
       "    <tr>\n",
       "      <th>598</th>\n",
       "      <td>769275</td>\n",
       "      <td>3178</td>\n",
       "      <td>PD</td>\n",
       "      <td>M</td>\n",
       "      <td>76</td>\n",
       "      <td>11</td>\n",
       "      <td>MRI</td>\n",
       "      <td>Axial PD-T2 TSE FS</td>\n",
       "      <td>Original</td>\n",
       "      <td>2016-01-07 00:21:00</td>\n",
       "      <td>DCM</td>\n",
       "      <td>NaN</td>\n",
       "    </tr>\n",
       "    <tr>\n",
       "      <th>283</th>\n",
       "      <td>362610</td>\n",
       "      <td>3769</td>\n",
       "      <td>Control</td>\n",
       "      <td>M</td>\n",
       "      <td>72</td>\n",
       "      <td>5</td>\n",
       "      <td>MRI</td>\n",
       "      <td>Axial PD-T2 TSE FS</td>\n",
       "      <td>Original</td>\n",
       "      <td>2013-01-01 00:30:00</td>\n",
       "      <td>DCM</td>\n",
       "      <td>NaN</td>\n",
       "    </tr>\n",
       "    <tr>\n",
       "      <th>545</th>\n",
       "      <td>402119</td>\n",
       "      <td>3314</td>\n",
       "      <td>PD</td>\n",
       "      <td>F</td>\n",
       "      <td>78</td>\n",
       "      <td>5</td>\n",
       "      <td>MRI</td>\n",
       "      <td>Axial PD-T2 TSE FS</td>\n",
       "      <td>Original</td>\n",
       "      <td>2013-01-05 00:09:00</td>\n",
       "      <td>DCM</td>\n",
       "      <td>NaN</td>\n",
       "    </tr>\n",
       "    <tr>\n",
       "      <th>548</th>\n",
       "      <td>369416</td>\n",
       "      <td>3310</td>\n",
       "      <td>Control</td>\n",
       "      <td>M</td>\n",
       "      <td>66</td>\n",
       "      <td>5</td>\n",
       "      <td>MRI</td>\n",
       "      <td>Axial PD-T2 TSE FS</td>\n",
       "      <td>Original</td>\n",
       "      <td>2013-01-02 00:13:00</td>\n",
       "      <td>DCM</td>\n",
       "      <td>NaN</td>\n",
       "    </tr>\n",
       "  </tbody>\n",
       "</table>\n",
       "</div>"
      ],
      "text/plain": [
       "     Image Data ID  Subject    Group Sex  Age  Visit Modality  \\\n",
       "651         482301     3131       PD   M   73      7      MRI   \n",
       "598         769275     3178       PD   M   76     11      MRI   \n",
       "283         362610     3769  Control   M   72      5      MRI   \n",
       "545         402119     3314       PD   F   78      5      MRI   \n",
       "548         369416     3310  Control   M   66      5      MRI   \n",
       "\n",
       "            Description      Type            Acq Date Format  Downloaded  \n",
       "651  Axial PD-T2 TSE FS  Original 2015-01-03 00:11:00    DCM         NaN  \n",
       "598  Axial PD-T2 TSE FS  Original 2016-01-07 00:21:00    DCM         NaN  \n",
       "283  Axial PD-T2 TSE FS  Original 2013-01-01 00:30:00    DCM         NaN  \n",
       "545  Axial PD-T2 TSE FS  Original 2013-01-05 00:09:00    DCM         NaN  \n",
       "548  Axial PD-T2 TSE FS  Original 2013-01-02 00:13:00    DCM         NaN  "
      ]
     },
     "execution_count": 20,
     "metadata": {},
     "output_type": "execute_result"
    }
   ],
   "source": [
    "df_u = pd.concat([df_control, df_pd]) # df ultima\n",
    "df_u = df_u.sample(frac=1) # randomly shuffle df\n",
    "df_u.head()"
   ]
  },
  {
   "cell_type": "code",
   "execution_count": 21,
   "metadata": {},
   "outputs": [
    {
     "data": {
      "text/plain": [
       "array([3131, 3178, 3769, 3314, 3310, 3808, 3815, 3789, 3182, 3392, 4037,\n",
       "       3587, 3554, 3829, 3857, 3390, 3179, 3828, 3390, 4032, 3838, 3389,\n",
       "       3855, 3771, 3778, 3181, 3184, 3352, 3818, 3365, 3781, 3592, 4035,\n",
       "       3589, 3776, 3870, 3851, 3106, 3575, 4029, 3819, 3787, 3591, 3835,\n",
       "       4033, 3854, 4065, 3866, 3125, 4018, 3173, 3867, 3552, 3354, 3351,\n",
       "       3327, 3584, 3360, 3383, 3386, 3762, 3188, 3113, 3118, 3309, 3770,\n",
       "       4019, 3586, 3126, 3588, 4012, 4085, 3831, 3124, 3308, 4081, 3564,\n",
       "       3361, 3307, 3823, 3763, 4021, 4038, 4136, 4139, 3371, 4027, 3123,\n",
       "       3129, 3325, 3102, 3814, 3563, 3788, 3132, 4083, 3332, 3757, 3571,\n",
       "       3318, 4032, 3802, 3868, 3832, 3557, 4067, 3385, 3130, 3834, 3853,\n",
       "       3859, 4034, 4024, 3357, 3323, 3107, 3585, 3387, 4085, 4020, 4026,\n",
       "       3128, 3779, 3826, 3116, 3559, 3318, 3374, 3780, 3328, 3301, 3551,\n",
       "       4135, 3556, 3174, 4085, 3316, 3191, 3375, 3800, 3775, 3105, 3389,\n",
       "       3563, 3760, 3859, 3367, 3108, 3364, 3869, 4025, 4011, 3777, 3119,\n",
       "       3853, 3857, 3565, 3350, 3185, 3321, 3127, 3134, 3373, 4005, 3758,\n",
       "       4069, 3190, 3359, 3369, 3221, 3574, 4030, 3863, 3605, 3366, 3154,\n",
       "       3558, 3752, 3593, 3368, 3830, 3825, 3353, 3852, 3378, 3301, 3567,\n",
       "       3852, 4085, 3122, 4001, 4013, 3824, 3106, 3120, 3176, 4082, 3377,\n",
       "       3822, 3380, 4022, 3175, 3372, 3577], dtype=int64)"
      ]
     },
     "execution_count": 21,
     "metadata": {},
     "output_type": "execute_result"
    }
   ],
   "source": [
    "u_subject_id = df_u.Subject.values # gets the required ID's\n",
    "u_subject_id"
   ]
  },
  {
   "cell_type": "code",
   "execution_count": 22,
   "metadata": {},
   "outputs": [],
   "source": [
    "path = 'C:\\\\Users\\\\steve\\\\Downloads\\\\PPMI_THIS_IS_IT'\n",
    "os.chdir(path) # move to the right dir"
   ]
  },
  {
   "cell_type": "code",
   "execution_count": 23,
   "metadata": {},
   "outputs": [
    {
     "name": "stdout",
     "output_type": "stream",
     "text": [
      "Current Path: 'C:\\Users\\steve\\Downloads\\PPMI_THIS_IS_IT' \n"
     ]
    }
   ],
   "source": [
    "print (\"Current Path: '%s' \" % os.getcwd())"
   ]
  },
  {
   "cell_type": "code",
   "execution_count": 24,
   "metadata": {},
   "outputs": [
    {
     "data": {
      "text/plain": [
       "['PPMI_3131_MR_Axial_PD-T2_TSE_FS_br_raw_20150406122645640_72_S254387_I482301.dcm',\n",
       " 'PPMI_3131_MR_Axial_PD-T2_TSE_FS_br_raw_20150406122646295_70_S254387_I482301.dcm',\n",
       " 'PPMI_3131_MR_Axial_PD-T2_TSE_FS_br_raw_20150406122646373_73_S254387_I482301.dcm',\n",
       " 'PPMI_3131_MR_Axial_PD-T2_TSE_FS_br_raw_20150406122648353_63_S254387_I482301.dcm',\n",
       " 'PPMI_3131_MR_Axial_PD-T2_TSE_FS_br_raw_20150406122649554_76_S254387_I482301.dcm']"
      ]
     },
     "execution_count": 24,
     "metadata": {},
     "output_type": "execute_result"
    }
   ],
   "source": [
    "# vertical then horizontal, go into first subject id\n",
    "path_p1 = (path + '\\\\' + str(u_subject_id[0]))\n",
    "path_p2 = (path_p1 + '\\\\' + os.listdir(path_p1)[-1]) # get fs\n",
    "path_p3 = (path_p2 + '\\\\' + os.listdir(path_p2)[-1]) # get most recent scan\n",
    "path_p4 = (path_p3 + '\\\\' + os.listdir(path_p3)[-1]) # p_4 has all the dcm files\n",
    "\n",
    "os.listdir(path_p4)[:5] # the part beginning 'I482301' is the part which is the image ID"
   ]
  },
  {
   "cell_type": "code",
   "execution_count": 71,
   "metadata": {},
   "outputs": [
    {
     "name": "stdout",
     "output_type": "stream",
     "text": [
      "C:\\Users\\steve\\Downloads\\PPMI_THIS_IS_IT\\3131\\Axial_PD-T2_TSE_FS\\2015-03-11_10_35_28.0\\S254387\n"
     ]
    }
   ],
   "source": [
    "print (path_p4)"
   ]
  },
  {
   "cell_type": "code",
   "execution_count": 25,
   "metadata": {},
   "outputs": [],
   "source": [
    "dcm_files_test = os.listdir(path_p4) # get an individual dcom file"
   ]
  },
  {
   "cell_type": "code",
   "execution_count": 47,
   "metadata": {},
   "outputs": [
    {
     "data": {
      "text/plain": [
       "'C:\\\\Users\\\\steve\\\\Downloads\\\\PPMI_THIS_IS_IT\\\\3131\\\\Axial_PD-T2_TSE_FS\\\\2015-03-11_10_35_28.0\\\\S254387'"
      ]
     },
     "execution_count": 47,
     "metadata": {},
     "output_type": "execute_result"
    }
   ],
   "source": [
    "os.chdir(path_p4) # change the working dir to path p4\n",
    "os.getcwd()"
   ]
  },
  {
   "cell_type": "code",
   "execution_count": 48,
   "metadata": {},
   "outputs": [
    {
     "name": "stdout",
     "output_type": "stream",
     "text": [
      "54\n"
     ]
    }
   ],
   "source": [
    "length_of_dcm = (len(dcm_files_test)) # get range length\n",
    "print (length_of_dcm)"
   ]
  },
  {
   "cell_type": "code",
   "execution_count": 49,
   "metadata": {},
   "outputs": [
    {
     "data": {
      "text/plain": [
       "'PPMI_3131_MR_Axial_PD-T2_TSE_FS_br_raw_20150406122645640_72_S254387_I482301.dcm'"
      ]
     },
     "execution_count": 49,
     "metadata": {},
     "output_type": "execute_result"
    }
   ],
   "source": [
    "dcm_files_test[0]"
   ]
  },
  {
   "cell_type": "code",
   "execution_count": 50,
   "metadata": {},
   "outputs": [],
   "source": [
    "from ipywidgets import interact, interactive, fixed, interact_manual\n",
    "import ipywidgets as widgets"
   ]
  },
  {
   "cell_type": "code",
   "execution_count": 51,
   "metadata": {
    "scrolled": true
   },
   "outputs": [],
   "source": [
    "# make it a function for a widget\n",
    "def f(i):\n",
    "    slices = pydicom.read_file(dcm_files_test[i]) # uh oh, it is not ordered\n",
    "    plt.imshow(slices.pixel_array)\n",
    "    plt.show()\n",
    "    return None"
   ]
  },
  {
   "cell_type": "code",
   "execution_count": 52,
   "metadata": {},
   "outputs": [
    {
     "data": {
      "application/vnd.jupyter.widget-view+json": {
       "model_id": "79a6e55ce40446c5ad23f67451bad2c4",
       "version_major": 2,
       "version_minor": 0
      },
      "text/plain": [
       "interactive(children=(IntSlider(value=14, description='i', max=42, min=-14), Output()), _dom_classes=('widget-…"
      ]
     },
     "metadata": {},
     "output_type": "display_data"
    },
    {
     "data": {
      "text/plain": [
       "<function __main__.f(i)>"
      ]
     },
     "execution_count": 52,
     "metadata": {},
     "output_type": "execute_result"
    }
   ],
   "source": [
    "interact(f, i=14) # now we have a slidebar, woo! Covers all data values"
   ]
  },
  {
   "cell_type": "markdown",
   "metadata": {},
   "source": [
    "Problem: Need to order the slices properly"
   ]
  },
  {
   "cell_type": "code",
   "execution_count": 32,
   "metadata": {},
   "outputs": [],
   "source": [
    "def filename_sort(filename):\n",
    "    int_return = None # what to return \n",
    "    \n",
    "    if (len(filename) == 79):\n",
    "        int_return = int(filename[57:59]) # if 2 characters\n",
    "    if (len(filename) == 80):\n",
    "        int_return = int(filename[57:60]) # if 3 characters\n",
    "    if (len(filename) == 78):\n",
    "        int_return = int(filename[57]) # if 1 character\n",
    "        \n",
    "    return int_return"
   ]
  },
  {
   "cell_type": "markdown",
   "metadata": {},
   "source": [
    "Note: The 3 characer approach might not work for 1 character"
   ]
  },
  {
   "cell_type": "code",
   "execution_count": 53,
   "metadata": {},
   "outputs": [
    {
     "data": {
      "text/plain": [
       "['PPMI_3131_MR_Axial_PD-T2_TSE_FS_br_raw_20150406122703915_55_S254387_I482301.dcm',\n",
       " 'PPMI_3131_MR_Axial_PD-T2_TSE_FS_br_raw_20150406122655541_56_S254387_I482301.dcm',\n",
       " 'PPMI_3131_MR_Axial_PD-T2_TSE_FS_br_raw_20150406122758567_57_S254387_I482301.dcm',\n",
       " 'PPMI_3131_MR_Axial_PD-T2_TSE_FS_br_raw_20150406122801857_58_S254387_I482301.dcm',\n",
       " 'PPMI_3131_MR_Axial_PD-T2_TSE_FS_br_raw_20150406122722127_59_S254387_I482301.dcm']"
      ]
     },
     "execution_count": 53,
     "metadata": {},
     "output_type": "execute_result"
    }
   ],
   "source": [
    "sorted_slices = sorted(dcm_files_test, key=lambda filename: filename_sort(filename)) # some have length 3\n",
    "sorted_slices[:5] # perfect"
   ]
  },
  {
   "cell_type": "code",
   "execution_count": 54,
   "metadata": {},
   "outputs": [],
   "source": [
    "# make it a function for a widget\n",
    "def f(i):\n",
    "    slices = pydicom.read_file(sorted_slices[i]) # uh oh, it is not ordered\n",
    "    plt.imshow(slices.pixel_array)\n",
    "    plt.show()\n",
    "    return None"
   ]
  },
  {
   "cell_type": "code",
   "execution_count": 55,
   "metadata": {},
   "outputs": [
    {
     "data": {
      "application/vnd.jupyter.widget-view+json": {
       "model_id": "331e53f210244cc2b6cceafe622c75e1",
       "version_major": 2,
       "version_minor": 0
      },
      "text/plain": [
       "interactive(children=(IntSlider(value=0, description='i', max=53), Output()), _dom_classes=('widget-interact',…"
      ]
     },
     "metadata": {},
     "output_type": "display_data"
    },
    {
     "data": {
      "text/plain": [
       "<function __main__.f(i)>"
      ]
     },
     "execution_count": 55,
     "metadata": {},
     "output_type": "execute_result"
    }
   ],
   "source": [
    "interact(f, i=widgets.IntSlider(min=0,max=(len(sorted_slices)-1),step=1,value=0)) # now we have a sorted slidebar!, wooooo! Covers all data values"
   ]
  },
  {
   "cell_type": "code",
   "execution_count": 68,
   "metadata": {},
   "outputs": [
    {
     "name": "stdout",
     "output_type": "stream",
     "text": [
      "3D Pixel Arrays: (54, 228, 256)\n"
     ]
    }
   ],
   "source": [
    "# turn the slices array into a matrix for input into our deep learning model\n",
    "pixel_arrays = [(pydicom.read_file(s)).pixel_array for s in sorted_slices]\n",
    "\n",
    "print (\"3D Pixel Arrays: %s\" % (np.shape(pixel_arrays),))"
   ]
  },
  {
   "cell_type": "markdown",
   "metadata": {},
   "source": [
    "The above is then an example of obtaining one pixel array for one set of scans, we will then attach that to a key which has image_id. This will allow us to cross reference this to whether the patient has PD or not."
   ]
  },
  {
   "cell_type": "markdown",
   "metadata": {},
   "source": [
    "##### Now try to skull strip and segment the brain tissue, we can use the example of pixel_arrays"
   ]
  },
  {
   "cell_type": "code",
   "execution_count": 79,
   "metadata": {},
   "outputs": [
    {
     "ename": "ModuleNotFoundError",
     "evalue": "No module named 'deepbrain'",
     "output_type": "error",
     "traceback": [
      "\u001b[1;31m---------------------------------------------------------------------------\u001b[0m",
      "\u001b[1;31mModuleNotFoundError\u001b[0m                       Traceback (most recent call last)",
      "\u001b[1;32m<ipython-input-79-787418c3df72>\u001b[0m in \u001b[0;36m<module>\u001b[1;34m\u001b[0m\n\u001b[0;32m      1\u001b[0m \u001b[1;32mimport\u001b[0m \u001b[0mnibabel\u001b[0m \u001b[1;32mas\u001b[0m \u001b[0mnb\u001b[0m \u001b[1;31m# write/process to some common neuroimaging file formats\u001b[0m\u001b[1;33m\u001b[0m\u001b[1;33m\u001b[0m\u001b[0m\n\u001b[1;32m----> 2\u001b[1;33m \u001b[1;32mfrom\u001b[0m \u001b[0mdeepbrain\u001b[0m \u001b[1;32mimport\u001b[0m \u001b[0mExtractor\u001b[0m\u001b[1;33m\u001b[0m\u001b[1;33m\u001b[0m\u001b[0m\n\u001b[0m",
      "\u001b[1;31mModuleNotFoundError\u001b[0m: No module named 'deepbrain'"
     ]
    }
   ],
   "source": [
    "import nibabel as nb # write/process to some common neuroimaging file formats\n",
    "from deepbrain import Extractor"
   ]
  },
  {
   "cell_type": "markdown",
   "metadata": {},
   "source": [
    "##### Changing working directory to access the images, Test a DICOM File for now"
   ]
  },
  {
   "cell_type": "code",
   "execution_count": 36,
   "metadata": {},
   "outputs": [],
   "source": [
    "# have to dive into the file system to do that.. (on AWS have it all accessed on the bucketz)\n",
    "from pydicom.data import get_testdata_files"
   ]
  },
  {
   "cell_type": "code",
   "execution_count": 44,
   "metadata": {},
   "outputs": [
    {
     "data": {
      "text/plain": [
       "'C:\\\\Users\\\\steve\\\\Downloads'"
      ]
     },
     "execution_count": 44,
     "metadata": {},
     "output_type": "execute_result"
    }
   ],
   "source": [
    "# os.chdir('C:\\\\Users\\\\steve\\Downloads\\PPMI_THIS_IS_IT')\n",
    "os.chdir('C:\\\\Users\\\\steve\\Downloads')\n",
    "os.getcwd()"
   ]
  },
  {
   "cell_type": "code",
   "execution_count": 38,
   "metadata": {},
   "outputs": [],
   "source": [
    "# pydicom.read_file(\"PPMI_3113_MR_Axial_PD-T2_TSE_FS_br_raw_20131008152954645_93_S203292_I393644.dcm\")"
   ]
  },
  {
   "cell_type": "code",
   "execution_count": 39,
   "metadata": {},
   "outputs": [
    {
     "data": {
      "image/png": "[encoded data removed]",
      "text/plain": [
       "<Figure size 432x288 with 1 Axes>"
      ]
     },
     "metadata": {
      "needs_background": "light"
     },
     "output_type": "display_data"
    }
   ],
   "source": [
    "slices = pydicom.read_file(\"PPMI_3113_MR_Axial_PD-T2_TSE_FS_br_raw_20131008152954645_93_S203292_I393644.dcm\")\n",
    "plt.imshow(slices.pixel_array)\n",
    "plt.show()"
   ]
  },
  {
   "cell_type": "code",
   "execution_count": 40,
   "metadata": {},
   "outputs": [
    {
     "data": {
      "text/plain": [
       "(256, 228)"
      ]
     },
     "execution_count": 40,
     "metadata": {},
     "output_type": "execute_result"
    }
   ],
   "source": [
    "np.shape(slices.pixel_array)"
   ]
  },
  {
   "cell_type": "code",
   "execution_count": null,
   "metadata": {},
   "outputs": [],
   "source": []
  }
 ],
 "metadata": {
  "kernelspec": {
   "display_name": "Python 3",
   "language": "python",
   "name": "python3"
  },
  "language_info": {
   "codemirror_mode": {
    "name": "ipython",
    "version": 3
   },
   "file_extension": ".py",
   "mimetype": "text/x-python",
   "name": "python",
   "nbconvert_exporter": "python",
   "pygments_lexer": "ipython3",
   "version": "3.7.3"
  }
 },
 "nbformat": 4,
 "nbformat_minor": 2
}
