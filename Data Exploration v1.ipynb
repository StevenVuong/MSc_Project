{
 "cells": [
  {
   "cell_type": "code",
   "execution_count": 1,
   "metadata": {},
   "outputs": [],
   "source": [
    "import numpy as np\n",
    "import pandas as pd\n",
    "import seaborn as sns\n",
    "import matplotlib.pyplot as plt\n",
    "\n",
    "%matplotlib inline"
   ]
  },
  {
   "cell_type": "markdown",
   "metadata": {},
   "source": [
    "##### Exploring the Data"
   ]
  },
  {
   "cell_type": "code",
   "execution_count": 35,
   "metadata": {},
   "outputs": [
    {
     "data": {
      "text/html": [
       "<div>\n",
       "<style scoped>\n",
       "    .dataframe tbody tr th:only-of-type {\n",
       "        vertical-align: middle;\n",
       "    }\n",
       "\n",
       "    .dataframe tbody tr th {\n",
       "        vertical-align: top;\n",
       "    }\n",
       "\n",
       "    .dataframe thead th {\n",
       "        text-align: right;\n",
       "    }\n",
       "</style>\n",
       "<table border=\"1\" class=\"dataframe\">\n",
       "  <thead>\n",
       "    <tr style=\"text-align: right;\">\n",
       "      <th></th>\n",
       "      <th>Image Data ID</th>\n",
       "      <th>Subject</th>\n",
       "      <th>Group</th>\n",
       "      <th>Sex</th>\n",
       "      <th>Age</th>\n",
       "      <th>Visit</th>\n",
       "      <th>Modality</th>\n",
       "      <th>Description</th>\n",
       "      <th>Type</th>\n",
       "      <th>Acq Date</th>\n",
       "      <th>Format</th>\n",
       "      <th>Downloaded</th>\n",
       "    </tr>\n",
       "  </thead>\n",
       "  <tbody>\n",
       "    <tr>\n",
       "      <th>0</th>\n",
       "      <td>377981</td>\n",
       "      <td>4139</td>\n",
       "      <td>Control</td>\n",
       "      <td>M</td>\n",
       "      <td>81</td>\n",
       "      <td>1</td>\n",
       "      <td>MRI</td>\n",
       "      <td>Axial PD-T2 TSE FS</td>\n",
       "      <td>Original</td>\n",
       "      <td>04/09/2013</td>\n",
       "      <td>DCM</td>\n",
       "      <td>NaN</td>\n",
       "    </tr>\n",
       "    <tr>\n",
       "      <th>1</th>\n",
       "      <td>436432</td>\n",
       "      <td>4136</td>\n",
       "      <td>PD</td>\n",
       "      <td>M</td>\n",
       "      <td>57</td>\n",
       "      <td>5</td>\n",
       "      <td>MRI</td>\n",
       "      <td>Axial PD-T2 TSE FS</td>\n",
       "      <td>Original</td>\n",
       "      <td>05/06/2014</td>\n",
       "      <td>DCM</td>\n",
       "      <td>NaN</td>\n",
       "    </tr>\n",
       "    <tr>\n",
       "      <th>2</th>\n",
       "      <td>377973</td>\n",
       "      <td>4136</td>\n",
       "      <td>PD</td>\n",
       "      <td>M</td>\n",
       "      <td>56</td>\n",
       "      <td>1</td>\n",
       "      <td>MRI</td>\n",
       "      <td>Axial PD-T2 TSE FS</td>\n",
       "      <td>Original</td>\n",
       "      <td>2/28/2013</td>\n",
       "      <td>DCM</td>\n",
       "      <td>NaN</td>\n",
       "    </tr>\n",
       "    <tr>\n",
       "      <th>3</th>\n",
       "      <td>377952</td>\n",
       "      <td>4135</td>\n",
       "      <td>PD</td>\n",
       "      <td>M</td>\n",
       "      <td>67</td>\n",
       "      <td>1</td>\n",
       "      <td>MRI</td>\n",
       "      <td>Axial PD-T2 TSE FS</td>\n",
       "      <td>Original</td>\n",
       "      <td>03/01/2013</td>\n",
       "      <td>DCM</td>\n",
       "      <td>NaN</td>\n",
       "    </tr>\n",
       "    <tr>\n",
       "      <th>4</th>\n",
       "      <td>377945</td>\n",
       "      <td>4085</td>\n",
       "      <td>Control</td>\n",
       "      <td>M</td>\n",
       "      <td>67</td>\n",
       "      <td>1</td>\n",
       "      <td>MRI</td>\n",
       "      <td>Axial PD-T2 TSE FS</td>\n",
       "      <td>Original</td>\n",
       "      <td>04/08/2013</td>\n",
       "      <td>DCM</td>\n",
       "      <td>NaN</td>\n",
       "    </tr>\n",
       "  </tbody>\n",
       "</table>\n",
       "</div>"
      ],
      "text/plain": [
       "   Image Data ID  Subject    Group Sex  Age  Visit Modality  \\\n",
       "0         377981     4139  Control   M   81      1      MRI   \n",
       "1         436432     4136       PD   M   57      5      MRI   \n",
       "2         377973     4136       PD   M   56      1      MRI   \n",
       "3         377952     4135       PD   M   67      1      MRI   \n",
       "4         377945     4085  Control   M   67      1      MRI   \n",
       "\n",
       "          Description      Type    Acq Date Format  Downloaded  \n",
       "0  Axial PD-T2 TSE FS  Original  04/09/2013    DCM         NaN  \n",
       "1  Axial PD-T2 TSE FS  Original  05/06/2014    DCM         NaN  \n",
       "2  Axial PD-T2 TSE FS  Original   2/28/2013    DCM         NaN  \n",
       "3  Axial PD-T2 TSE FS  Original  03/01/2013    DCM         NaN  \n",
       "4  Axial PD-T2 TSE FS  Original  04/08/2013    DCM         NaN  "
      ]
     },
     "execution_count": 35,
     "metadata": {},
     "output_type": "execute_result"
    }
   ],
   "source": [
    "df = pd.read_csv('THIS_IS_IT.csv')\n",
    "df.head()"
   ]
  },
  {
   "cell_type": "code",
   "execution_count": 36,
   "metadata": {},
   "outputs": [
    {
     "data": {
      "text/plain": [
       "(array(['AXIAL PD-T2 TSE FS', 'Axial PD-T2 TSE', 'Axial PD-T2 TSE FS',\n",
       "        'Axial PD-T2 TSE_AC PC line', 'Axial PD-T2 TSE_AC/PC line',\n",
       "        'Axial PD-T2-FS TSE', 'T2'], dtype=object),\n",
       " array([ 33, 292, 356,   2,  24,  23,   1], dtype=int64))"
      ]
     },
     "execution_count": 36,
     "metadata": {},
     "output_type": "execute_result"
    }
   ],
   "source": [
    "descriptions_array = df.Description.values\n",
    "np.unique(descriptions_array, return_counts=True) \n",
    "# so most is Axial PD-T2 TSE and Axial PD-T2 TSE FS\n",
    "# leaves us with either 292 or 356, try to find the difference"
   ]
  },
  {
   "cell_type": "code",
   "execution_count": 37,
   "metadata": {},
   "outputs": [],
   "source": [
    "# looks like a bunch of Axial PD-T2 TSE are mislabelled or slightly different, change these\n",
    "dscrptn = df['Description'].replace({'Axial PD-T2-FS TSE':'Axial PD-T2 TSE FS', 'AXIAL PD-T2 TSE FS':'Axial PD-T2 TSE FS', \n",
    "                           'Axial PD-T2 TSE_AC PC line':'Axial PD-T2 TSE_AC/PC line'})\n",
    "\n",
    "df['Description'] = dscrptn"
   ]
  },
  {
   "cell_type": "code",
   "execution_count": 38,
   "metadata": {},
   "outputs": [
    {
     "data": {
      "text/plain": [
       "(array(['Axial PD-T2 TSE', 'Axial PD-T2 TSE FS',\n",
       "        'Axial PD-T2 TSE_AC/PC line', 'T2'], dtype=object),\n",
       " array([292, 412,  26,   1], dtype=int64))"
      ]
     },
     "execution_count": 38,
     "metadata": {},
     "output_type": "execute_result"
    }
   ],
   "source": [
    "np.unique(df.Description.values, return_counts=True) \n",
    "# looks about right. Now need to decide on TSE vs TSE FS\n",
    "# well FS has more data, let's try to find something more substantial though"
   ]
  },
  {
   "cell_type": "code",
   "execution_count": null,
   "metadata": {},
   "outputs": [],
   "source": []
  }
 ],
 "metadata": {
  "kernelspec": {
   "display_name": "Python 3",
   "language": "python",
   "name": "python3"
  },
  "language_info": {
   "codemirror_mode": {
    "name": "ipython",
    "version": 3
   },
   "file_extension": ".py",
   "mimetype": "text/x-python",
   "name": "python",
   "nbconvert_exporter": "python",
   "pygments_lexer": "ipython3",
   "version": "3.7.3"
  }
 },
 "nbformat": 4,
 "nbformat_minor": 2
}
