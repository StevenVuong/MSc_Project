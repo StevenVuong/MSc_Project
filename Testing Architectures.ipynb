{
 "cells": [
  {
   "cell_type": "code",
   "execution_count": 1,
   "metadata": {},
   "outputs": [
    {
     "name": "stderr",
     "output_type": "stream",
     "text": [
      "Using TensorFlow backend.\n"
     ]
    }
   ],
   "source": [
    "# Standard imports\n",
    "import pandas as pd\n",
    "import numpy as np\n",
    "import matplotlib.pyplot as plt\n",
    "import seaborn as sns\n",
    "%matplotlib inline\n",
    "\n",
    "# other imports to handle files\n",
    "import os\n",
    "import pickle\n",
    "import csv\n",
    "\n",
    "# deep learning imports\n",
    "from keras.models import Sequential, load_model\n",
    "from keras.layers.core import Dense, Dropout, Activation, Flatten\n",
    "from keras.layers.convolutional import Convolution3D, MaxPooling3D, Convolution1D\n",
    "from keras.layers.normalization import BatchNormalization\n",
    "from keras.optimizers import SGD, RMSprop, Adam\n",
    "from keras.utils import np_utils, generic_utils, to_categorical\n",
    "from keras.layers import LeakyReLU\n",
    "from keras import regularizers"
   ]
  },
  {
   "cell_type": "code",
   "execution_count": 22,
   "metadata": {},
   "outputs": [],
   "source": [
    "def initialise_model():\n",
    "\n",
    "  # compile our model\n",
    "  model = Sequential()\n",
    "  \n",
    "  model.add(Convolution3D(filters=32, kernel_size=3, padding='same', strides=2, input_shape=(160,160,160,1),\n",
    "                          kernel_regularizer=regularizers.l2(0.005), bias_regularizer=regularizers.l2(0.005))) # padding on first one only?\n",
    "  model.add(LeakyReLU(alpha=0.20)) # set to 0.01\n",
    "  model.add(BatchNormalization(momentum=0.5)) \n",
    "  # could user he_norm kernel initializer?\n",
    "  model.add(MaxPooling3D(pool_size=2, strides=1)) # pool_size=2\n",
    "  \n",
    "  model.add(Convolution3D(filters=64, kernel_size=3, padding='same', strides=2,\n",
    "                          kernel_regularizer=regularizers.l2(0.005), bias_regularizer=regularizers.l2(0.005))) # padding on first one only?\n",
    "  model.add(LeakyReLU(alpha=0.20)) # set to 0.01\n",
    "  model.add(BatchNormalization(momentum=0.5)) \n",
    "  # could user he_norm kernel initializer?\n",
    "  model.add(MaxPooling3D(pool_size=2, strides=2)) # pool_size=2\n",
    "  \n",
    "  model.add(Convolution3D(filters=128, kernel_size=3, padding='same', strides=2,\n",
    "                          kernel_regularizer=regularizers.l2(0.005), bias_regularizer=regularizers.l2(0.005))) # padding on first one only?\n",
    "  model.add(LeakyReLU(alpha=0.20)) # set to 0.01\n",
    "  model.add(BatchNormalization(momentum=0.5)) \n",
    "  # could user he_norm kernel initializer?\n",
    "  model.add(MaxPooling3D(pool_size=2, strides=2)) # pool_size=2\n",
    "\n",
    "  model.add(Convolution3D(filters=256, kernel_size=3, padding='same', strides=2,\n",
    "                          kernel_regularizer=regularizers.l2(0.005), bias_regularizer=regularizers.l2(0.005))) # padding on first one only?\n",
    "  model.add(LeakyReLU(alpha=0.20)) # set to 0.01\n",
    "  model.add(BatchNormalization(momentum=0.5)) \n",
    "  # could user he_norm kernel initializer?\n",
    "  model.add(MaxPooling3D(pool_size=2, strides=2)) # pool_size=2\n",
    "\n",
    "  model.add(Flatten())\n",
    "   \n",
    "  model.add(Dense(512, kernel_regularizer=regularizers.l2(0.005)))\n",
    "  model.add(LeakyReLU(alpha=0.2)) # set to 0.01\n",
    "  \n",
    "  model.add(Dropout(0.20)) # add dropout to prevent overfitting\n",
    "  \n",
    "  model.add(Dense(128, kernel_regularizer=regularizers.l2(0.005)))\n",
    "  model.add(LeakyReLU(alpha=0.2)) # set to 0.01\n",
    "  \n",
    "  model.add(Dropout(0.35)) # add dropout to prevent overfitting\n",
    "\n",
    "  model.add(Dense(2, activation='softmax'))\n",
    "\n",
    "  model.compile(optimizer=Adam(lr=0.0001), loss='categorical_crossentropy',metrics = ['categorical_accuracy'])\n",
    "\n",
    "  return model"
   ]
  },
  {
   "cell_type": "code",
   "execution_count": 23,
   "metadata": {},
   "outputs": [
    {
     "name": "stdout",
     "output_type": "stream",
     "text": [
      "_________________________________________________________________\n",
      "Layer (type)                 Output Shape              Param #   \n",
      "=================================================================\n",
      "conv3d_29 (Conv3D)           (None, 80, 80, 80, 32)    896       \n",
      "_________________________________________________________________\n",
      "leaky_re_lu_39 (LeakyReLU)   (None, 80, 80, 80, 32)    0         \n",
      "_________________________________________________________________\n",
      "batch_normalization_29 (Batc (None, 80, 80, 80, 32)    128       \n",
      "_________________________________________________________________\n",
      "max_pooling3d_29 (MaxPooling (None, 79, 79, 79, 32)    0         \n",
      "_________________________________________________________________\n",
      "conv3d_30 (Conv3D)           (None, 40, 40, 40, 64)    55360     \n",
      "_________________________________________________________________\n",
      "leaky_re_lu_40 (LeakyReLU)   (None, 40, 40, 40, 64)    0         \n",
      "_________________________________________________________________\n",
      "batch_normalization_30 (Batc (None, 40, 40, 40, 64)    256       \n",
      "_________________________________________________________________\n",
      "max_pooling3d_30 (MaxPooling (None, 20, 20, 20, 64)    0         \n",
      "_________________________________________________________________\n",
      "conv3d_31 (Conv3D)           (None, 10, 10, 10, 128)   221312    \n",
      "_________________________________________________________________\n",
      "leaky_re_lu_41 (LeakyReLU)   (None, 10, 10, 10, 128)   0         \n",
      "_________________________________________________________________\n",
      "batch_normalization_31 (Batc (None, 10, 10, 10, 128)   512       \n",
      "_________________________________________________________________\n",
      "max_pooling3d_31 (MaxPooling (None, 5, 5, 5, 128)      0         \n",
      "_________________________________________________________________\n",
      "conv3d_32 (Conv3D)           (None, 3, 3, 3, 256)      884992    \n",
      "_________________________________________________________________\n",
      "leaky_re_lu_42 (LeakyReLU)   (None, 3, 3, 3, 256)      0         \n",
      "_________________________________________________________________\n",
      "batch_normalization_32 (Batc (None, 3, 3, 3, 256)      1024      \n",
      "_________________________________________________________________\n",
      "max_pooling3d_32 (MaxPooling (None, 1, 1, 1, 256)      0         \n",
      "_________________________________________________________________\n",
      "flatten_6 (Flatten)          (None, 256)               0         \n",
      "_________________________________________________________________\n",
      "dense_16 (Dense)             (None, 512)               131584    \n",
      "_________________________________________________________________\n",
      "leaky_re_lu_43 (LeakyReLU)   (None, 512)               0         \n",
      "_________________________________________________________________\n",
      "dropout_11 (Dropout)         (None, 512)               0         \n",
      "_________________________________________________________________\n",
      "dense_17 (Dense)             (None, 128)               65664     \n",
      "_________________________________________________________________\n",
      "leaky_re_lu_44 (LeakyReLU)   (None, 128)               0         \n",
      "_________________________________________________________________\n",
      "dropout_12 (Dropout)         (None, 128)               0         \n",
      "_________________________________________________________________\n",
      "dense_18 (Dense)             (None, 2)                 258       \n",
      "=================================================================\n",
      "Total params: 1,361,986\n",
      "Trainable params: 1,361,026\n",
      "Non-trainable params: 960\n",
      "_________________________________________________________________\n"
     ]
    }
   ],
   "source": [
    "# Initialise Model!\n",
    "model = initialise_model()\n",
    "model.summary()"
   ]
  },
  {
   "cell_type": "code",
   "execution_count": 11,
   "metadata": {},
   "outputs": [
    {
     "data": {
      "text/plain": [
       "[7, 1, 2, 3, 4, 5, 6]"
      ]
     },
     "execution_count": 11,
     "metadata": {},
     "output_type": "execute_result"
    }
   ],
   "source": [
    "var=7\n",
    "array = [1,2,3,4,5,6]\n",
    "array.insert(0,var)\n",
    "array"
   ]
  },
  {
   "cell_type": "code",
   "execution_count": 12,
   "metadata": {},
   "outputs": [],
   "source": [
    "array.insert(0, 20)"
   ]
  },
  {
   "cell_type": "code",
   "execution_count": 13,
   "metadata": {},
   "outputs": [
    {
     "data": {
      "text/plain": [
       "[20, 7, 1, 2, 3, 4, 5, 6]"
      ]
     },
     "execution_count": 13,
     "metadata": {},
     "output_type": "execute_result"
    }
   ],
   "source": [
    "array"
   ]
  },
  {
   "cell_type": "code",
   "execution_count": 15,
   "metadata": {},
   "outputs": [
    {
     "data": {
      "text/plain": [
       "array([0., 0., 0., 0., 0.])"
      ]
     },
     "execution_count": 15,
     "metadata": {},
     "output_type": "execute_result"
    }
   ],
   "source": [
    "y = np.zeros(5)"
   ]
  },
  {
   "cell_type": "code",
   "execution_count": null,
   "metadata": {},
   "outputs": [],
   "source": []
  }
 ],
 "metadata": {
  "kernelspec": {
   "display_name": "Python 3",
   "language": "python",
   "name": "python3"
  },
  "language_info": {
   "codemirror_mode": {
    "name": "ipython",
    "version": 3
   },
   "file_extension": ".py",
   "mimetype": "text/x-python",
   "name": "python",
   "nbconvert_exporter": "python",
   "pygments_lexer": "ipython3",
   "version": "3.7.3"
  }
 },
 "nbformat": 4,
 "nbformat_minor": 2
}
