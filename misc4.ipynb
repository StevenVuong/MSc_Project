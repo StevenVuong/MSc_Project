{
  "nbformat": 4,
  "nbformat_minor": 0,
  "metadata": {
    "colab": {
      "name": "misc4.ipynb",
      "version": "0.3.2",
      "provenance": [],
      "collapsed_sections": [],
      "include_colab_link": true
    },
    "kernelspec": {
      "name": "python3",
      "display_name": "Python 3"
    }
  },
  "cells": [
    {
      "cell_type": "markdown",
      "metadata": {
        "id": "view-in-github",
        "colab_type": "text"
      },
      "source": [
        "<a href=\"https://colab.research.google.com/github/StevenVuong/MSc_Project/blob/master/misc4.ipynb\" target=\"_parent\"><img src=\"https://colab.research.google.com/assets/colab-badge.svg\" alt=\"Open In Colab\"/></a>"
      ]
    },
    {
      "cell_type": "code",
      "metadata": {
        "id": "phCX6MQGZhIo",
        "colab_type": "code",
        "colab": {}
      },
      "source": [
        "# ALL THE IMPORTS\n",
        "import pandas as pd\n",
        "import numpy as np\n",
        "import matplotlib.pyplot as plt\n",
        "import seaborn as sns\n",
        "%matplotlib inline\n",
        "\n",
        "# other imports to handle files\n",
        "import os\n",
        "import pickle\n",
        "import csv\n",
        "\n",
        "# deep learning imports\n",
        "from keras.models import Sequential, load_model\n",
        "from keras.layers.core import Dense, Dropout, Activation, Flatten\n",
        "from keras.layers.convolutional import Convolution3D, MaxPooling3D, Convolution1D\n",
        "from keras.layers.normalization import BatchNormalization\n",
        "from keras.optimizers import SGD, RMSprop, Adam\n",
        "from keras.utils import np_utils, generic_utils, to_categorical\n",
        "from keras.layers import LeakyReLU\n",
        "from keras import regularizers\n",
        "\n",
        "# to split our dataset\n",
        "from sklearn.model_selection import train_test_split\n",
        "from sklearn.metrics import accuracy_score\n",
        "\n",
        "# to mount our drive\n",
        "from google.colab import drive"
      ],
      "execution_count": 0,
      "outputs": []
    },
    {
      "cell_type": "code",
      "metadata": {
        "id": "JyPfp-uMZpmP",
        "colab_type": "code",
        "colab": {
          "base_uri": "https://localhost:8080/",
          "height": 138
        },
        "outputId": "c206d116-043b-4dde-d884-58e1fcac1ca1"
      },
      "source": [
        "# MOUNT THE STORAGE\n",
        "drive.mount('/content/gdrive')\n",
        "\n",
        "os.chdir('/content')\n",
        "\n",
        "# go to where we will be working\n",
        "print (os.listdir())\n",
        "os.chdir('gdrive/My Drive/msc_project/')"
      ],
      "execution_count": 5,
      "outputs": [
        {
          "output_type": "stream",
          "text": [
            "Go to this URL in a browser: https://accounts.google.com/o/oauth2/auth?client_id=947318989803-6bn6qk8qdgf4n4g3pfee6491hc0brc4i.apps.googleusercontent.com&redirect_uri=urn%3Aietf%3Awg%3Aoauth%3A2.0%3Aoob&scope=email%20https%3A%2F%2Fwww.googleapis.com%2Fauth%2Fdocs.test%20https%3A%2F%2Fwww.googleapis.com%2Fauth%2Fdrive%20https%3A%2F%2Fwww.googleapis.com%2Fauth%2Fdrive.photos.readonly%20https%3A%2F%2Fwww.googleapis.com%2Fauth%2Fpeopleapi.readonly&response_type=code\n",
            "\n",
            "Enter your authorization code:\n",
            "··········\n",
            "Mounted at /content/gdrive\n",
            "['.config', 'gdrive', 'sample_data']\n"
          ],
          "name": "stdout"
        }
      ]
    },
    {
      "cell_type": "markdown",
      "metadata": {
        "id": "tYrjxWsZT_3-",
        "colab_type": "text"
      },
      "source": [
        "**Purpose of this notebook is to create metrics for our final presentation/graphs of everything we might need etc..**"
      ]
    },
    {
      "cell_type": "code",
      "metadata": {
        "id": "WLn_BT_dT9lY",
        "colab_type": "code",
        "colab": {}
      },
      "source": [
        "# https://stackoverflow.com/questions/50920908/get-confusion-matrix-from-a-keras-multiclass-model\n",
        "# Build confusion matrices for train and test data\n",
        "# 3d is in Step3, need to run metrics on 4th batch of processed_brains_aug\n",
        "# 2d is in misc3, need to run prediction metrics on 4th batch of processed_brains_aug also\n",
        "# age/sex is in misc2 and runs off the larger dataset, pulling from the Control CSV."
      ],
      "execution_count": 0,
      "outputs": []
    },
    {
      "cell_type": "markdown",
      "metadata": {
        "id": "ymtRZ5q8UuxR",
        "colab_type": "text"
      },
      "source": [
        "Best models so far:\n",
        "-  74.138% on the 3D brainscans, model 80\n",
        "-  100% on the 2D brainscans(slice86), model keep100\n",
        "-  76.667% on the Age/Sex values, each have a deep learning model\n",
        "  \n",
        "\n",
        "Metrics to present:\n",
        " <br>\n",
        "-  Final accuracy and losses\n",
        "-  Graphs of training accuracy and losses\n",
        "-  Confusion Matrices\n",
        "-  Deep learning architecture diagrams\n",
        "\n",
        "\n",
        "Information to gather:\n",
        "<br>\n",
        "-  Quality of each of the samples, where they came from. Distribution, sizes etc.."
      ]
    },
    {
      "cell_type": "code",
      "metadata": {
        "id": "qCICmfj3Uq9R",
        "colab_type": "code",
        "colab": {}
      },
      "source": [
        "## Architecture Diagrams http://alexlenail.me/NN-SVG/AlexNet.html"
      ],
      "execution_count": 0,
      "outputs": []
    },
    {
      "cell_type": "markdown",
      "metadata": {
        "id": "3F301IK_69Qv",
        "colab_type": "text"
      },
      "source": [
        " Attempt at confusion matrix here**\n",
        " <br>\n",
        "Logic:\n",
        "-  Load model, load the data for both train and test\n",
        "-  Get true values, get predicted values for both train and test\n",
        "-  Convert back to binary\n",
        "-  Input into confusion matrix"
      ]
    },
    {
      "cell_type": "code",
      "metadata": {
        "id": "V0kPqG0W7q22",
        "colab_type": "code",
        "colab": {}
      },
      "source": [
        "def to_binary(cat_array):\n",
        "  '''Function to convert categorical back to binary values'''\n",
        "  binary_output_array = []\n",
        "  for i in range(len(cat_array)):\n",
        "    binary_output_array.append(np.argmax(cat_array[i]))\n",
        "    \n",
        "  binary_output_array = np.array(binary_output_array)\n",
        "  return binary_output_array"
      ],
      "execution_count": 0,
      "outputs": []
    },
    {
      "cell_type": "code",
      "metadata": {
        "id": "bUf1GgsIahiP",
        "colab_type": "code",
        "colab": {}
      },
      "source": [
        "def get_86_slice(ts):\n",
        "  '''Gets the 86th slice and return this'''\n",
        "  returned_array = []\n",
        "  for ax_slice in total_slices:\n",
        "    returned_array.append(ax_slice[86,:,:,0])\n",
        "    \n",
        "  returned_array = np.array(returned_array)\n",
        "  return returned_array"
      ],
      "execution_count": 0,
      "outputs": []
    },
    {
      "cell_type": "code",
      "metadata": {
        "id": "CrJdEvV6ddwF",
        "colab_type": "code",
        "colab": {}
      },
      "source": [
        "# gets our y-values and converts to keras, one hot encoded outputs\n",
        "def get_y_values(total_slices_info):\n",
        "  \n",
        "  y_values = [s[2] for s in total_slices_info]\n",
        "\n",
        "  y_values = np.array(to_categorical(y_values, 2))\n",
        "  \n",
        "  return y_values"
      ],
      "execution_count": 0,
      "outputs": []
    },
    {
      "cell_type": "markdown",
      "metadata": {
        "id": "Ty33gGPSbSKp",
        "colab_type": "text"
      },
      "source": [
        "**BELOW IS FOR OUR 2D BRAINSCANS**"
      ]
    },
    {
      "cell_type": "code",
      "metadata": {
        "id": "YfFiIzt474Nf",
        "colab_type": "code",
        "colab": {}
      },
      "source": [
        "## Load our model, start with 100% accuracy model on the 2d scans\n",
        "model_2dscans = pickle.load( open( \"all_mprage_grappa/z_tests/keep_models/100Model(2dscans).pkl\", \"rb\" ) )\n",
        "\n",
        "# load training data for this model\n",
        "\n",
        "      y_values = get_y_values(total_slices_info)\n",
        "      slices_86 = get_86_slice(total_slices) # get 86th slice\n",
        "      slices_86 = np.expand_dims(slices_86, axis=3)"
      ],
      "execution_count": 0,
      "outputs": []
    },
    {
      "cell_type": "code",
      "metadata": {
        "id": "NktO-uHeZWwY",
        "colab_type": "code",
        "colab": {
          "base_uri": "https://localhost:8080/",
          "height": 84
        },
        "outputId": "2730c97b-b1fe-42eb-f6a2-ec93aafd7c55"
      },
      "source": [
        "## Loop through all our total slices and accumulate all the total slices info\n",
        "training_batch_f = os.listdir('all_mprage_grappa/processed_brains_aug/')[:3]\n",
        "print (training_batch_f)\n",
        "\n",
        "# initialise our set of predicted outputs\n",
        "y_preds = [] \n",
        "# Just loop through once because we want to predict using our model only\n",
        "for tbf in training_batch_f:\n",
        "  with open('all_mprage_grappa/processed_brains_aug/'+tbf, 'rb') as f:\n",
        "    total_slices, total_slices_info = pickle.load(f) \n",
        "\n",
        "    # get y values and process each slice\n",
        "    y_values = get_y_values(total_slices_info)\n",
        "    slices_86 = get_86_slice(total_slices) # get 86th slice\n",
        "    slices_86 = np.expand_dims(slices_86, axis=3)\n",
        "\n",
        "    # Evaluate our model against this \n",
        "    train_predict = model_2dscans.evaluate(x=slices_86, y=y_values, verbose=1)\n",
        "    y_preds.append(train_predict)\n",
        "    \n",
        "# set of batches that we will tpredict\n",
        "y_preds = np.array(y_preds)"
      ],
      "execution_count": 18,
      "outputs": [
        {
          "output_type": "stream",
          "text": [
            "['dbatch0.pkl', 'dbatch1.pkl', 'dbatch2.pkl']\n",
            "100/100 [==============================] - 1s 11ms/step\n",
            "100/100 [==============================] - 1s 13ms/step\n",
            "100/100 [==============================] - 1s 14ms/step\n"
          ],
          "name": "stdout"
        }
      ]
    },
    {
      "cell_type": "code",
      "metadata": {
        "id": "JhBYYZy2euuK",
        "colab_type": "code",
        "colab": {
          "base_uri": "https://localhost:8080/",
          "height": 34
        },
        "outputId": "7ffc443d-9817-4353-aefd-3ee1ebfca469"
      },
      "source": [
        "np.shape(y_preds[0])"
      ],
      "execution_count": 17,
      "outputs": [
        {
          "output_type": "execute_result",
          "data": {
            "text/plain": [
              "()"
            ]
          },
          "metadata": {
            "tags": []
          },
          "execution_count": 17
        }
      ]
    },
    {
      "cell_type": "code",
      "metadata": {
        "id": "PfPLnyd3c5xA",
        "colab_type": "code",
        "colab": {}
      },
      "source": [
        "## Then test with /dbatch3.pkl"
      ],
      "execution_count": 0,
      "outputs": []
    },
    {
      "cell_type": "markdown",
      "metadata": {
        "id": "v_dD10bybU59",
        "colab_type": "text"
      },
      "source": [
        "**BELOW IS FOR OUR 3D BRAINSCANS**"
      ]
    },
    {
      "cell_type": "code",
      "metadata": {
        "id": "XFqaKbhnbW5f",
        "colab_type": "code",
        "colab": {}
      },
      "source": [
        ""
      ],
      "execution_count": 0,
      "outputs": []
    },
    {
      "cell_type": "markdown",
      "metadata": {
        "id": "EQ-TfLoybXbw",
        "colab_type": "text"
      },
      "source": [
        "**BELOW IS FOR OUR AGE/SEX MODEL**"
      ]
    },
    {
      "cell_type": "code",
      "metadata": {
        "id": "bUlGaSvbbaVK",
        "colab_type": "code",
        "colab": {}
      },
      "source": [
        ""
      ],
      "execution_count": 0,
      "outputs": []
    }
  ]
}