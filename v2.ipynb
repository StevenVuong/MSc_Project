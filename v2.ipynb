{
  "nbformat": 4,
  "nbformat_minor": 0,
  "metadata": {
    "colab": {
      "name": "v2.ipynb",
      "version": "0.3.2",
      "provenance": [],
      "collapsed_sections": [],
      "include_colab_link": true
    },
    "kernelspec": {
      "name": "python3",
      "display_name": "Python 3"
    }
  },
  "cells": [
    {
      "cell_type": "markdown",
      "metadata": {
        "id": "view-in-github",
        "colab_type": "text"
      },
      "source": [
        "<a href=\"https://colab.research.google.com/github/StevenVuong/MSc_Project/blob/master/v2.ipynb\" target=\"_parent\"><img src=\"https://colab.research.google.com/assets/colab-badge.svg\" alt=\"Open In Colab\"/></a>"
      ]
    },
    {
      "cell_type": "code",
      "metadata": {
        "id": "9ICTNccvTPTA",
        "colab_type": "code",
        "outputId": "1911f045-a0db-43ee-aa84-88257d82b593",
        "colab": {
          "base_uri": "https://localhost:8080/",
          "height": 35
        }
      },
      "source": [
        "from google.colab import drive\n",
        "\n",
        "# mount google drive into google colab\n",
        "drive.mount('/content/gdrive')"
      ],
      "execution_count": 0,
      "outputs": [
        {
          "output_type": "stream",
          "text": [
            "Drive already mounted at /content/gdrive; to attempt to forcibly remount, call drive.mount(\"/content/gdrive\", force_remount=True).\n"
          ],
          "name": "stdout"
        }
      ]
    },
    {
      "cell_type": "code",
      "metadata": {
        "id": "Y9XHKhHvTSmt",
        "colab_type": "code",
        "outputId": "e8415960-1a71-4262-c6ef-08bdfd669b8e",
        "colab": {
          "base_uri": "https://localhost:8080/",
          "height": 35
        }
      },
      "source": [
        "import os\n",
        "\n",
        "# go to where the data is\n",
        "os.chdir('gdrive/My Drive/msc_project')\n",
        "os.listdir()"
      ],
      "execution_count": 0,
      "outputs": [
        {
          "output_type": "execute_result",
          "data": {
            "text/plain": [
              "['ppmi_scans', 'THIS_IS_IT.csv']"
            ]
          },
          "metadata": {
            "tags": []
          },
          "execution_count": 2
        }
      ]
    },
    {
      "cell_type": "code",
      "metadata": {
        "id": "fVFgz0lDZsN1",
        "colab_type": "code",
        "colab": {}
      },
      "source": [
        "# standard imports\n",
        "import numpy as np\n",
        "import pandas as pd\n",
        "import seaborn as sns\n",
        "import matplotlib.pyplot as plt\n",
        "import pydicom\n",
        "\n",
        "%matplotlib inline"
      ],
      "execution_count": 0,
      "outputs": []
    },
    {
      "cell_type": "markdown",
      "metadata": {
        "id": "cIZv9CXcbTFE",
        "colab_type": "text"
      },
      "source": [
        "**Exploring the Data**"
      ]
    },
    {
      "cell_type": "code",
      "metadata": {
        "id": "bKzeWx9naCyh",
        "colab_type": "code",
        "outputId": "65a56eba-d0f7-48d0-e940-154ff4853b89",
        "colab": {
          "base_uri": "https://localhost:8080/",
          "height": 206
        }
      },
      "source": [
        "# import data and show head\n",
        "df = pd.read_csv('THIS_IS_IT.csv')\n",
        "df.head()"
      ],
      "execution_count": 0,
      "outputs": [
        {
          "output_type": "execute_result",
          "data": {
            "text/html": [
              "<div>\n",
              "<style scoped>\n",
              "    .dataframe tbody tr th:only-of-type {\n",
              "        vertical-align: middle;\n",
              "    }\n",
              "\n",
              "    .dataframe tbody tr th {\n",
              "        vertical-align: top;\n",
              "    }\n",
              "\n",
              "    .dataframe thead th {\n",
              "        text-align: right;\n",
              "    }\n",
              "</style>\n",
              "<table border=\"1\" class=\"dataframe\">\n",
              "  <thead>\n",
              "    <tr style=\"text-align: right;\">\n",
              "      <th></th>\n",
              "      <th>Image Data ID</th>\n",
              "      <th>Subject</th>\n",
              "      <th>Group</th>\n",
              "      <th>Sex</th>\n",
              "      <th>Age</th>\n",
              "      <th>Visit</th>\n",
              "      <th>Modality</th>\n",
              "      <th>Description</th>\n",
              "      <th>Type</th>\n",
              "      <th>Acq Date</th>\n",
              "      <th>Format</th>\n",
              "      <th>Downloaded</th>\n",
              "    </tr>\n",
              "  </thead>\n",
              "  <tbody>\n",
              "    <tr>\n",
              "      <th>0</th>\n",
              "      <td>377981</td>\n",
              "      <td>4139</td>\n",
              "      <td>Control</td>\n",
              "      <td>M</td>\n",
              "      <td>81</td>\n",
              "      <td>1</td>\n",
              "      <td>MRI</td>\n",
              "      <td>Axial PD-T2 TSE FS</td>\n",
              "      <td>Original</td>\n",
              "      <td>04/09/2013</td>\n",
              "      <td>DCM</td>\n",
              "      <td>NaN</td>\n",
              "    </tr>\n",
              "    <tr>\n",
              "      <th>1</th>\n",
              "      <td>436432</td>\n",
              "      <td>4136</td>\n",
              "      <td>PD</td>\n",
              "      <td>M</td>\n",
              "      <td>57</td>\n",
              "      <td>5</td>\n",
              "      <td>MRI</td>\n",
              "      <td>Axial PD-T2 TSE FS</td>\n",
              "      <td>Original</td>\n",
              "      <td>05/06/2014</td>\n",
              "      <td>DCM</td>\n",
              "      <td>NaN</td>\n",
              "    </tr>\n",
              "    <tr>\n",
              "      <th>2</th>\n",
              "      <td>377973</td>\n",
              "      <td>4136</td>\n",
              "      <td>PD</td>\n",
              "      <td>M</td>\n",
              "      <td>56</td>\n",
              "      <td>1</td>\n",
              "      <td>MRI</td>\n",
              "      <td>Axial PD-T2 TSE FS</td>\n",
              "      <td>Original</td>\n",
              "      <td>2/28/2013</td>\n",
              "      <td>DCM</td>\n",
              "      <td>NaN</td>\n",
              "    </tr>\n",
              "    <tr>\n",
              "      <th>3</th>\n",
              "      <td>377952</td>\n",
              "      <td>4135</td>\n",
              "      <td>PD</td>\n",
              "      <td>M</td>\n",
              "      <td>67</td>\n",
              "      <td>1</td>\n",
              "      <td>MRI</td>\n",
              "      <td>Axial PD-T2 TSE FS</td>\n",
              "      <td>Original</td>\n",
              "      <td>03/01/2013</td>\n",
              "      <td>DCM</td>\n",
              "      <td>NaN</td>\n",
              "    </tr>\n",
              "    <tr>\n",
              "      <th>4</th>\n",
              "      <td>377945</td>\n",
              "      <td>4085</td>\n",
              "      <td>Control</td>\n",
              "      <td>M</td>\n",
              "      <td>67</td>\n",
              "      <td>1</td>\n",
              "      <td>MRI</td>\n",
              "      <td>Axial PD-T2 TSE FS</td>\n",
              "      <td>Original</td>\n",
              "      <td>04/08/2013</td>\n",
              "      <td>DCM</td>\n",
              "      <td>NaN</td>\n",
              "    </tr>\n",
              "  </tbody>\n",
              "</table>\n",
              "</div>"
            ],
            "text/plain": [
              "   Image Data ID  Subject    Group Sex  ...      Type    Acq Date Format Downloaded\n",
              "0         377981     4139  Control   M  ...  Original  04/09/2013    DCM        NaN\n",
              "1         436432     4136       PD   M  ...  Original  05/06/2014    DCM        NaN\n",
              "2         377973     4136       PD   M  ...  Original   2/28/2013    DCM        NaN\n",
              "3         377952     4135       PD   M  ...  Original  03/01/2013    DCM        NaN\n",
              "4         377945     4085  Control   M  ...  Original  04/08/2013    DCM        NaN\n",
              "\n",
              "[5 rows x 12 columns]"
            ]
          },
          "metadata": {
            "tags": []
          },
          "execution_count": 4
        }
      ]
    },
    {
      "cell_type": "code",
      "metadata": {
        "id": "JLl6rJjubGU7",
        "colab_type": "code",
        "outputId": "d8e4b289-fd42-4349-88aa-fc3bae146928",
        "colab": {
          "base_uri": "https://localhost:8080/",
          "height": 90
        }
      },
      "source": [
        "descriptions_array = df.Description.values\n",
        "np.unique(descriptions_array, return_counts=True) # shows what the data looks like, we can take the FS (Fast Spin) exemplars"
      ],
      "execution_count": 0,
      "outputs": [
        {
          "output_type": "execute_result",
          "data": {
            "text/plain": [
              "(array(['AXIAL PD-T2 TSE FS', 'Axial PD-T2 TSE', 'Axial PD-T2 TSE FS',\n",
              "        'Axial PD-T2 TSE_AC PC line', 'Axial PD-T2 TSE_AC/PC line',\n",
              "        'Axial PD-T2-FS TSE', 'T2'], dtype=object),\n",
              " array([ 33, 292, 356,   2,  24,  23,   1]))"
            ]
          },
          "metadata": {
            "tags": []
          },
          "execution_count": 5
        }
      ]
    },
    {
      "cell_type": "markdown",
      "metadata": {
        "id": "criw2JK5brZ7",
        "colab_type": "text"
      },
      "source": [
        "So we can see that the majority is Axial PD-T2 TSE and Axial PD-T2 TSE FS, leaving us with 292 or 356. "
      ]
    },
    {
      "cell_type": "code",
      "metadata": {
        "id": "wiiilGtDbXVv",
        "colab_type": "code",
        "colab": {}
      },
      "source": [
        "# looks like a bunch of Axial PD-T2 TSE are mislabelled or slightly different, change these\n",
        "dscrptn = df['Description'].replace({'Axial PD-T2-FS TSE':'Axial PD-T2 TSE FS', 'AXIAL PD-T2 TSE FS':'Axial PD-T2 TSE FS', \n",
        "                           'Axial PD-T2 TSE_AC PC line':'Axial PD-T2 TSE_AC/PC line'})\n",
        "\n",
        "df['Description'] = dscrptn"
      ],
      "execution_count": 0,
      "outputs": []
    },
    {
      "cell_type": "code",
      "metadata": {
        "id": "HzZc0AUzbieP",
        "colab_type": "code",
        "outputId": "6343671b-f523-456c-958a-5ec1151dfc62",
        "colab": {
          "base_uri": "https://localhost:8080/",
          "height": 72
        }
      },
      "source": [
        "np.unique(df.Description.values, return_counts=True) "
      ],
      "execution_count": 0,
      "outputs": [
        {
          "output_type": "execute_result",
          "data": {
            "text/plain": [
              "(array(['Axial PD-T2 TSE', 'Axial PD-T2 TSE FS',\n",
              "        'Axial PD-T2 TSE_AC/PC line', 'T2'], dtype=object),\n",
              " array([292, 412,  26,   1]))"
            ]
          },
          "metadata": {
            "tags": []
          },
          "execution_count": 7
        }
      ]
    },
    {
      "cell_type": "markdown",
      "metadata": {
        "id": "KoLffQSCbuf9",
        "colab_type": "text"
      },
      "source": [
        "Looks about right, decide to go with TSE FS as this has more data. Looks like many patients had both scans."
      ]
    },
    {
      "cell_type": "code",
      "metadata": {
        "id": "9Dc8ySFabk7H",
        "colab_type": "code",
        "outputId": "8662b37f-9d2b-477b-a582-31f593230af7",
        "colab": {
          "base_uri": "https://localhost:8080/",
          "height": 224
        }
      },
      "source": [
        "df2 = df[df['Description']=='Axial PD-T2 TSE FS']\n",
        "print (len(df2))\n",
        "df2.head()"
      ],
      "execution_count": 0,
      "outputs": [
        {
          "output_type": "stream",
          "text": [
            "412\n"
          ],
          "name": "stdout"
        },
        {
          "output_type": "execute_result",
          "data": {
            "text/html": [
              "<div>\n",
              "<style scoped>\n",
              "    .dataframe tbody tr th:only-of-type {\n",
              "        vertical-align: middle;\n",
              "    }\n",
              "\n",
              "    .dataframe tbody tr th {\n",
              "        vertical-align: top;\n",
              "    }\n",
              "\n",
              "    .dataframe thead th {\n",
              "        text-align: right;\n",
              "    }\n",
              "</style>\n",
              "<table border=\"1\" class=\"dataframe\">\n",
              "  <thead>\n",
              "    <tr style=\"text-align: right;\">\n",
              "      <th></th>\n",
              "      <th>Image Data ID</th>\n",
              "      <th>Subject</th>\n",
              "      <th>Group</th>\n",
              "      <th>Sex</th>\n",
              "      <th>Age</th>\n",
              "      <th>Visit</th>\n",
              "      <th>Modality</th>\n",
              "      <th>Description</th>\n",
              "      <th>Type</th>\n",
              "      <th>Acq Date</th>\n",
              "      <th>Format</th>\n",
              "      <th>Downloaded</th>\n",
              "    </tr>\n",
              "  </thead>\n",
              "  <tbody>\n",
              "    <tr>\n",
              "      <th>0</th>\n",
              "      <td>377981</td>\n",
              "      <td>4139</td>\n",
              "      <td>Control</td>\n",
              "      <td>M</td>\n",
              "      <td>81</td>\n",
              "      <td>1</td>\n",
              "      <td>MRI</td>\n",
              "      <td>Axial PD-T2 TSE FS</td>\n",
              "      <td>Original</td>\n",
              "      <td>04/09/2013</td>\n",
              "      <td>DCM</td>\n",
              "      <td>NaN</td>\n",
              "    </tr>\n",
              "    <tr>\n",
              "      <th>1</th>\n",
              "      <td>436432</td>\n",
              "      <td>4136</td>\n",
              "      <td>PD</td>\n",
              "      <td>M</td>\n",
              "      <td>57</td>\n",
              "      <td>5</td>\n",
              "      <td>MRI</td>\n",
              "      <td>Axial PD-T2 TSE FS</td>\n",
              "      <td>Original</td>\n",
              "      <td>05/06/2014</td>\n",
              "      <td>DCM</td>\n",
              "      <td>NaN</td>\n",
              "    </tr>\n",
              "    <tr>\n",
              "      <th>2</th>\n",
              "      <td>377973</td>\n",
              "      <td>4136</td>\n",
              "      <td>PD</td>\n",
              "      <td>M</td>\n",
              "      <td>56</td>\n",
              "      <td>1</td>\n",
              "      <td>MRI</td>\n",
              "      <td>Axial PD-T2 TSE FS</td>\n",
              "      <td>Original</td>\n",
              "      <td>2/28/2013</td>\n",
              "      <td>DCM</td>\n",
              "      <td>NaN</td>\n",
              "    </tr>\n",
              "    <tr>\n",
              "      <th>3</th>\n",
              "      <td>377952</td>\n",
              "      <td>4135</td>\n",
              "      <td>PD</td>\n",
              "      <td>M</td>\n",
              "      <td>67</td>\n",
              "      <td>1</td>\n",
              "      <td>MRI</td>\n",
              "      <td>Axial PD-T2 TSE FS</td>\n",
              "      <td>Original</td>\n",
              "      <td>03/01/2013</td>\n",
              "      <td>DCM</td>\n",
              "      <td>NaN</td>\n",
              "    </tr>\n",
              "    <tr>\n",
              "      <th>4</th>\n",
              "      <td>377945</td>\n",
              "      <td>4085</td>\n",
              "      <td>Control</td>\n",
              "      <td>M</td>\n",
              "      <td>67</td>\n",
              "      <td>1</td>\n",
              "      <td>MRI</td>\n",
              "      <td>Axial PD-T2 TSE FS</td>\n",
              "      <td>Original</td>\n",
              "      <td>04/08/2013</td>\n",
              "      <td>DCM</td>\n",
              "      <td>NaN</td>\n",
              "    </tr>\n",
              "  </tbody>\n",
              "</table>\n",
              "</div>"
            ],
            "text/plain": [
              "   Image Data ID  Subject    Group Sex  ...      Type    Acq Date Format Downloaded\n",
              "0         377981     4139  Control   M  ...  Original  04/09/2013    DCM        NaN\n",
              "1         436432     4136       PD   M  ...  Original  05/06/2014    DCM        NaN\n",
              "2         377973     4136       PD   M  ...  Original   2/28/2013    DCM        NaN\n",
              "3         377952     4135       PD   M  ...  Original  03/01/2013    DCM        NaN\n",
              "4         377945     4085  Control   M  ...  Original  04/08/2013    DCM        NaN\n",
              "\n",
              "[5 rows x 12 columns]"
            ]
          },
          "metadata": {
            "tags": []
          },
          "execution_count": 8
        }
      ]
    },
    {
      "cell_type": "code",
      "metadata": {
        "id": "-U0S1yKAbw1x",
        "colab_type": "code",
        "outputId": "fb26c421-ae78-49b0-f673-f1a02a0161f5",
        "colab": {
          "base_uri": "https://localhost:8080/",
          "height": 126
        }
      },
      "source": [
        "# Change the object type to dates for date\n",
        "df2['Acq Date'] = pd.to_datetime(df2['Acq Date'], format='%d/%M/%Y')"
      ],
      "execution_count": 0,
      "outputs": [
        {
          "output_type": "stream",
          "text": [
            "/usr/local/lib/python3.6/dist-packages/ipykernel_launcher.py:1: SettingWithCopyWarning: \n",
            "A value is trying to be set on a copy of a slice from a DataFrame.\n",
            "Try using .loc[row_indexer,col_indexer] = value instead\n",
            "\n",
            "See the caveats in the documentation: http://pandas.pydata.org/pandas-docs/stable/indexing.html#indexing-view-versus-copy\n",
            "  \"\"\"Entry point for launching an IPython kernel.\n"
          ],
          "name": "stderr"
        }
      ]
    },
    {
      "cell_type": "code",
      "metadata": {
        "id": "7atHnisybyxU",
        "colab_type": "code",
        "outputId": "599bdd88-d5c1-4ea9-ddd2-a8188389c5e1",
        "colab": {
          "base_uri": "https://localhost:8080/",
          "height": 326
        }
      },
      "source": [
        "df2.info() # just get understanding of types of data"
      ],
      "execution_count": 0,
      "outputs": [
        {
          "output_type": "stream",
          "text": [
            "<class 'pandas.core.frame.DataFrame'>\n",
            "Int64Index: 412 entries, 0 to 729\n",
            "Data columns (total 12 columns):\n",
            "Image Data ID    412 non-null int64\n",
            "Subject          412 non-null int64\n",
            "Group            412 non-null object\n",
            "Sex              412 non-null object\n",
            "Age              412 non-null int64\n",
            "Visit            412 non-null int64\n",
            "Modality         412 non-null object\n",
            "Description      412 non-null object\n",
            "Type             412 non-null object\n",
            "Acq Date         412 non-null datetime64[ns]\n",
            "Format           412 non-null object\n",
            "Downloaded       0 non-null float64\n",
            "dtypes: datetime64[ns](1), float64(1), int64(4), object(6)\n",
            "memory usage: 41.8+ KB\n"
          ],
          "name": "stdout"
        }
      ]
    },
    {
      "cell_type": "code",
      "metadata": {
        "id": "o1_R6oiVb295",
        "colab_type": "code",
        "outputId": "ce53e398-9471-4ae4-8641-57a54343122c",
        "colab": {
          "base_uri": "https://localhost:8080/",
          "height": 35
        }
      },
      "source": [
        "# count number with PD and number of controls\n",
        "np.unique(df2.Group, return_counts=True)"
      ],
      "execution_count": 0,
      "outputs": [
        {
          "output_type": "execute_result",
          "data": {
            "text/plain": [
              "(array(['Control', 'PD'], dtype=object), array([ 50, 362]))"
            ]
          },
          "metadata": {
            "tags": []
          },
          "execution_count": 11
        }
      ]
    },
    {
      "cell_type": "code",
      "metadata": {
        "id": "fKXvYiOTb5qj",
        "colab_type": "code",
        "colab": {}
      },
      "source": [
        "# So keep only one scan per patient and use the most recent scans\n",
        "df3 = df2.sort_values('Acq Date').drop_duplicates('Subject',keep='last')"
      ],
      "execution_count": 0,
      "outputs": []
    },
    {
      "cell_type": "code",
      "metadata": {
        "id": "Cp5b5hQnb7ud",
        "colab_type": "code",
        "outputId": "d982c4ba-0864-4624-d79b-e9cf957eb378",
        "colab": {
          "base_uri": "https://localhost:8080/",
          "height": 35
        }
      },
      "source": [
        "# count number with PD and number of controls\n",
        "np.unique(df3.Group, return_counts=True)"
      ],
      "execution_count": 0,
      "outputs": [
        {
          "output_type": "execute_result",
          "data": {
            "text/plain": [
              "(array(['Control', 'PD'], dtype=object), array([ 36, 154]))"
            ]
          },
          "metadata": {
            "tags": []
          },
          "execution_count": 13
        }
      ]
    },
    {
      "cell_type": "markdown",
      "metadata": {
        "id": "Z3KtCpi5cOnd",
        "colab_type": "text"
      },
      "source": [
        "We can see that some patients have multiple scans and different dates. Treat these as independent occurances. \n",
        "<br>\n",
        "Plan:\n",
        "-  Get all subject ID's\n",
        "-  Search these folders, if more than 1 subfolder, take the second which will be the TSE FS files\n",
        "-  Then each scan subfolder is treated as an independent case (important to mention) as we have 412 patients but 729 scans i.e. some patients had more than one scan over time. Balance this out by just selecting one image per patient\n",
        "    -  By one image per patient, it is meant that the last image is selected for classification, so we should have 412 images overall, balancing out the ratio slightly. Select the last one\n",
        "    -  Problem with selecting the last one however is that it is the latest scan (most recent one), meaning it is more likely to be later stage PD in development. Meaning we may have a harder time diagnosing those with early stages of PD\n",
        "    -  Way to go around this would be to train with the earliest stage of a classifier or use another MRI data source set"
      ]
    },
    {
      "cell_type": "code",
      "metadata": {
        "id": "uTdWKckPcMBj",
        "colab_type": "code",
        "colab": {}
      },
      "source": [
        "# establish control and pd df's\n",
        "df_control = df2[df2.Group == 'Control'] # for control, keep duplicate subject n.o's\n",
        "df_pd = df3[df3.Group == 'PD'] "
      ],
      "execution_count": 0,
      "outputs": []
    },
    {
      "cell_type": "code",
      "metadata": {
        "id": "oi9_UVO5cVkM",
        "colab_type": "code",
        "outputId": "22d95bb9-837c-4d64-83fe-423e1124662e",
        "colab": {
          "base_uri": "https://localhost:8080/",
          "height": 53
        }
      },
      "source": [
        "print (\"Number of control patients: %d \" % len(df_control))\n",
        "print (\"Number of PD patients: %d \" % len(df_pd))"
      ],
      "execution_count": 0,
      "outputs": [
        {
          "output_type": "stream",
          "text": [
            "Number of control patients: 50 \n",
            "Number of PD patients: 154 \n"
          ],
          "name": "stdout"
        }
      ]
    },
    {
      "cell_type": "code",
      "metadata": {
        "id": "qBNcRLc2cWIk",
        "colab_type": "code",
        "outputId": "72ebb12e-85bc-4e5c-bd3e-1e3a0d4f173c",
        "colab": {
          "base_uri": "https://localhost:8080/",
          "height": 295
        }
      },
      "source": [
        "# seaborn distribution plot\n",
        "sns.distplot(df_control.Age, rug=False, label='Control')\n",
        "sns.distplot(df_pd.Age, rug=False, label='PD')\n",
        "plt.title('Distribution Plot of Age')\n",
        "plt.legend()\n",
        "plt.show()"
      ],
      "execution_count": 0,
      "outputs": [
        {
          "output_type": "display_data",
          "data": {
            "image/png": "[encoded data removed]",
            "text/plain": [
              "<Figure size 432x288 with 1 Axes>"
            ]
          },
          "metadata": {
            "tags": []
          }
        }
      ]
    },
    {
      "cell_type": "code",
      "metadata": {
        "id": "TUC8ptPgcYaQ",
        "colab_type": "code",
        "outputId": "7435a834-dcfa-4a1c-de83-4a5547fa57cf",
        "colab": {
          "base_uri": "https://localhost:8080/",
          "height": 295
        }
      },
      "source": [
        "# plot for the ages\n",
        "plt.hist(df_pd.Age, align='mid', alpha=0.25, color='r', label='pd', bins=10)\n",
        "plt.hist(df_control.Age, align='mid', alpha=0.25, color='b', label='control', bins=10)\n",
        "plt.legend(loc='upper left')\n",
        "\n",
        "# set labels\n",
        "plt.ylabel('Frequency')\n",
        "plt.xlabel('Age')\n",
        "plt.title('Frequency of Ages')\n",
        "\n",
        "# set ticks\n",
        "plt.xticks(np.arange(min(df_control.Age), max(df_control.Age)+1, 5.0))\n",
        "plt.show()"
      ],
      "execution_count": 0,
      "outputs": [
        {
          "output_type": "display_data",
          "data": {
            "image/png": "[encoded data removed]",
            "text/plain": [
              "<Figure size 432x288 with 1 Axes>"
            ]
          },
          "metadata": {
            "tags": []
          }
        }
      ]
    },
    {
      "cell_type": "markdown",
      "metadata": {
        "id": "REoPAYMIcfLH",
        "colab_type": "text"
      },
      "source": [
        "What can happen if we have too many PD compared to control? Without balancing (by only allowing one scan per patient, we reduce the ratio from 7:1 between PD to Control to about 1:5. If we just do this method for PD patients only, we can set the ratio to about 1:3 (which is what we will go with) so we have a balanced set to train as possible. Though it means we only have 204 instances to train with."
      ]
    },
    {
      "cell_type": "code",
      "metadata": {
        "id": "a-NMQsX0cbIH",
        "colab_type": "code",
        "outputId": "dee144f7-5c80-4d5e-842f-15f205abfa8a",
        "colab": {
          "base_uri": "https://localhost:8080/",
          "height": 283
        }
      },
      "source": [
        "# some boxplots\n",
        "ax = sns.boxplot(x=\"Group\", y=\"Age\", data=df2)"
      ],
      "execution_count": 0,
      "outputs": [
        {
          "output_type": "display_data",
          "data": {
            "image/png": "[encoded data removed]",
            "text/plain": [
              "<Figure size 432x288 with 1 Axes>"
            ]
          },
          "metadata": {
            "tags": []
          }
        }
      ]
    },
    {
      "cell_type": "markdown",
      "metadata": {
        "id": "waDtbuo6cjTO",
        "colab_type": "text"
      },
      "source": [
        "For each, control and PD we can state the number of M and F in each."
      ]
    },
    {
      "cell_type": "code",
      "metadata": {
        "id": "TeDd5zh9ci--",
        "colab_type": "code",
        "outputId": "5b47726d-86d9-4e89-8190-61cc7d2f5f76",
        "colab": {
          "base_uri": "https://localhost:8080/",
          "height": 90
        }
      },
      "source": [
        "print (\"For Control:\")\n",
        "print (np.unique(df_control.Sex.values, return_counts=True))\n",
        "print (\"For PD\")\n",
        "print (np.unique(df_pd.Sex.values, return_counts=True))"
      ],
      "execution_count": 0,
      "outputs": [
        {
          "output_type": "stream",
          "text": [
            "For Control:\n",
            "(array(['F', 'M'], dtype=object), array([10, 40]))\n",
            "For PD\n",
            "(array(['F', 'M'], dtype=object), array([ 53, 101]))\n"
          ],
          "name": "stdout"
        }
      ]
    },
    {
      "cell_type": "markdown",
      "metadata": {
        "id": "EFXpQS9Dcrs1",
        "colab_type": "text"
      },
      "source": [
        "##### Find the right subjects and image scan ID's and search files for these, build a list of directories to scan\n",
        "Then build a corresponding datastructure.\n",
        "-  Datastructure: Dictionary {Image_ID: List of DCM Files}"
      ]
    },
    {
      "cell_type": "code",
      "metadata": {
        "id": "8qzICtqgcpdo",
        "colab_type": "code",
        "colab": {}
      },
      "source": [
        "# Logic:\n",
        "# First compile both control and PD into some super DF\n",
        "# Then make a list of all the corresponding subject ID's\n",
        "# Then make a list of all the corresponding Image ID's\n",
        "\n",
        "# Loop through to get the right folders (one that match with subject ID)\n",
        "# open the last subfolder (MRI TSE) *So using [-1] slicing*\n",
        "# open the last subfolder again ( most recent dated image )\n",
        "# 's' + image_id is the subfolder to store\n",
        "# store the path\n",
        "\n",
        "# Then Store the list of DCM files "
      ],
      "execution_count": 0,
      "outputs": []
    },
    {
      "cell_type": "code",
      "metadata": {
        "id": "5QZ9LXIRc0FL",
        "colab_type": "code",
        "outputId": "b1db1cd5-a3f0-4d9e-bc8f-d629a50d2cc1",
        "colab": {
          "base_uri": "https://localhost:8080/",
          "height": 206
        }
      },
      "source": [
        "df_u = pd.concat([df_control, df_pd]) # df ultima\n",
        "df_u = df_u.sample(frac=1) # randomly shuffle df\n",
        "df_u.head()"
      ],
      "execution_count": 0,
      "outputs": [
        {
          "output_type": "execute_result",
          "data": {
            "text/html": [
              "<div>\n",
              "<style scoped>\n",
              "    .dataframe tbody tr th:only-of-type {\n",
              "        vertical-align: middle;\n",
              "    }\n",
              "\n",
              "    .dataframe tbody tr th {\n",
              "        vertical-align: top;\n",
              "    }\n",
              "\n",
              "    .dataframe thead th {\n",
              "        text-align: right;\n",
              "    }\n",
              "</style>\n",
              "<table border=\"1\" class=\"dataframe\">\n",
              "  <thead>\n",
              "    <tr style=\"text-align: right;\">\n",
              "      <th></th>\n",
              "      <th>Image Data ID</th>\n",
              "      <th>Subject</th>\n",
              "      <th>Group</th>\n",
              "      <th>Sex</th>\n",
              "      <th>Age</th>\n",
              "      <th>Visit</th>\n",
              "      <th>Modality</th>\n",
              "      <th>Description</th>\n",
              "      <th>Type</th>\n",
              "      <th>Acq Date</th>\n",
              "      <th>Format</th>\n",
              "      <th>Downloaded</th>\n",
              "    </tr>\n",
              "  </thead>\n",
              "  <tbody>\n",
              "    <tr>\n",
              "      <th>108</th>\n",
              "      <td>415752</td>\n",
              "      <td>3870</td>\n",
              "      <td>PD</td>\n",
              "      <td>F</td>\n",
              "      <td>43</td>\n",
              "      <td>5</td>\n",
              "      <td>MRI</td>\n",
              "      <td>Axial PD-T2 TSE FS</td>\n",
              "      <td>Original</td>\n",
              "      <td>2014-01-01 00:15:00</td>\n",
              "      <td>DCM</td>\n",
              "      <td>NaN</td>\n",
              "    </tr>\n",
              "    <tr>\n",
              "      <th>124</th>\n",
              "      <td>395288</td>\n",
              "      <td>3857</td>\n",
              "      <td>Control</td>\n",
              "      <td>F</td>\n",
              "      <td>42</td>\n",
              "      <td>5</td>\n",
              "      <td>MRI</td>\n",
              "      <td>Axial PD-T2 TSE FS</td>\n",
              "      <td>Original</td>\n",
              "      <td>2012-01-10 00:19:00</td>\n",
              "      <td>DCM</td>\n",
              "      <td>NaN</td>\n",
              "    </tr>\n",
              "    <tr>\n",
              "      <th>470</th>\n",
              "      <td>369478</td>\n",
              "      <td>3368</td>\n",
              "      <td>Control</td>\n",
              "      <td>F</td>\n",
              "      <td>55</td>\n",
              "      <td>5</td>\n",
              "      <td>MRI</td>\n",
              "      <td>Axial PD-T2 TSE FS</td>\n",
              "      <td>Original</td>\n",
              "      <td>2013-01-01 00:31:00</td>\n",
              "      <td>DCM</td>\n",
              "      <td>NaN</td>\n",
              "    </tr>\n",
              "    <tr>\n",
              "      <th>702</th>\n",
              "      <td>393644</td>\n",
              "      <td>3113</td>\n",
              "      <td>PD</td>\n",
              "      <td>F</td>\n",
              "      <td>61</td>\n",
              "      <td>7</td>\n",
              "      <td>MRI</td>\n",
              "      <td>Axial PD-T2 TSE FS</td>\n",
              "      <td>Original</td>\n",
              "      <td>2013-01-07 00:17:00</td>\n",
              "      <td>DCM</td>\n",
              "      <td>NaN</td>\n",
              "    </tr>\n",
              "    <tr>\n",
              "      <th>651</th>\n",
              "      <td>482301</td>\n",
              "      <td>3131</td>\n",
              "      <td>PD</td>\n",
              "      <td>M</td>\n",
              "      <td>73</td>\n",
              "      <td>7</td>\n",
              "      <td>MRI</td>\n",
              "      <td>Axial PD-T2 TSE FS</td>\n",
              "      <td>Original</td>\n",
              "      <td>2015-01-03 00:11:00</td>\n",
              "      <td>DCM</td>\n",
              "      <td>NaN</td>\n",
              "    </tr>\n",
              "  </tbody>\n",
              "</table>\n",
              "</div>"
            ],
            "text/plain": [
              "     Image Data ID  Subject    Group  ...            Acq Date  Format  Downloaded\n",
              "108         415752     3870       PD  ... 2014-01-01 00:15:00     DCM         NaN\n",
              "124         395288     3857  Control  ... 2012-01-10 00:19:00     DCM         NaN\n",
              "470         369478     3368  Control  ... 2013-01-01 00:31:00     DCM         NaN\n",
              "702         393644     3113       PD  ... 2013-01-07 00:17:00     DCM         NaN\n",
              "651         482301     3131       PD  ... 2015-01-03 00:11:00     DCM         NaN\n",
              "\n",
              "[5 rows x 12 columns]"
            ]
          },
          "metadata": {
            "tags": []
          },
          "execution_count": 21
        }
      ]
    },
    {
      "cell_type": "code",
      "metadata": {
        "id": "EiZfem_Pc3GJ",
        "colab_type": "code",
        "outputId": "f8890df7-9e16-4acb-fede-c8a8ad7fb213",
        "colab": {
          "base_uri": "https://localhost:8080/",
          "height": 362
        }
      },
      "source": [
        "u_subject_id = df_u.Subject.values # gets the required ID's\n",
        "u_subject_id"
      ],
      "execution_count": 0,
      "outputs": [
        {
          "output_type": "execute_result",
          "data": {
            "text/plain": [
              "array([3870, 3857, 3368, 3113, 3131, 3390, 3378, 3592, 3350, 3831, 3301,\n",
              "       3852, 3763, 3588, 3353, 3787, 3863, 4069, 3185, 3551, 3780, 3181,\n",
              "       4030, 3589, 4032, 3134, 3802, 3367, 3321, 3325, 3124, 4038, 3575,\n",
              "       3808, 3838, 3563, 4027, 3552, 4022, 3308, 3853, 3853, 3571, 4026,\n",
              "       3557, 3383, 4011, 3361, 3127, 3364, 3354, 3389, 3221, 4018, 3830,\n",
              "       3752, 3593, 3184, 3605, 4029, 4037, 3357, 3868, 4021, 3123, 4139,\n",
              "       3132, 3869, 3558, 3852, 3574, 4136, 3369, 3190, 3815, 3316, 4135,\n",
              "       4067, 4085, 3332, 4035, 3825, 3125, 4081, 4019, 3591, 3834, 3359,\n",
              "       3154, 3565, 3556, 3392, 3352, 3854, 3176, 3385, 3826, 3835, 3328,\n",
              "       3129, 3102, 3390, 3122, 3559, 3824, 3174, 3775, 3179, 3175, 3832,\n",
              "       4005, 3380, 3577, 3374, 3173, 3323, 3351, 4020, 3301, 3859, 3377,\n",
              "       3781, 3762, 3814, 3106, 3310, 3178, 4012, 4001, 3758, 3105, 3818,\n",
              "       3106, 3779, 3788, 3770, 3386, 3857, 3107, 3182, 3119, 3116, 3365,\n",
              "       3372, 3309, 3108, 3327, 3769, 3318, 3822, 3585, 3800, 3126, 3829,\n",
              "       3855, 3366, 4065, 3375, 3760, 4013, 4025, 3819, 3563, 3789, 3360,\n",
              "       4085, 3771, 3307, 4024, 3867, 4082, 4085, 3584, 3823, 3130, 3188,\n",
              "       3120, 3776, 3757, 3586, 3777, 3866, 3371, 3318, 3387, 3554, 4032,\n",
              "       3118, 3191, 3567, 3859, 4034, 3128, 4033, 3778, 3564, 3851, 3828,\n",
              "       3314, 3389, 4083, 4085, 3373, 3587])"
            ]
          },
          "metadata": {
            "tags": []
          },
          "execution_count": 22
        }
      ]
    },
    {
      "cell_type": "markdown",
      "metadata": {
        "id": "FUxlAOSGdRcZ",
        "colab_type": "text"
      },
      "source": [
        "**Now actually go to file with all the scans**"
      ]
    },
    {
      "cell_type": "code",
      "metadata": {
        "id": "j_UM6_phc5LF",
        "colab_type": "code",
        "colab": {}
      },
      "source": [
        "os.chdir('ppmi_scans') # go to file with all the scans"
      ],
      "execution_count": 0,
      "outputs": []
    },
    {
      "cell_type": "code",
      "metadata": {
        "id": "TweQVO_LdIgk",
        "colab_type": "code",
        "colab": {}
      },
      "source": [
        "subject_ids = os.listdir()\n",
        "path = os.getcwd()"
      ],
      "execution_count": 0,
      "outputs": []
    },
    {
      "cell_type": "code",
      "metadata": {
        "id": "RMrDhv81dUvO",
        "colab_type": "code",
        "outputId": "3e3ad4c9-25a6-46e1-cc3e-df6eb02e0570",
        "colab": {
          "base_uri": "https://localhost:8080/",
          "height": 108
        }
      },
      "source": [
        "# vertical then horizontal, go into first subject id\n",
        "path_p1 = (path + '/' + str(subject_ids[0])) # get first id\n",
        "path_p2 = (path_p1 + '/' + os.listdir(path_p1)[-1]) # get fs\n",
        "path_p3 = (path_p2 + '/' + os.listdir(path_p2)[-1]) # get most recent scan\n",
        "path_p4 = (path_p3 + '/' + os.listdir(path_p3)[-1]) # p_4 has all the dcm files\n",
        "\n",
        "os.listdir(path_p4)[:5] # the part beginning 'I482301' is the part which is the image ID"
      ],
      "execution_count": 0,
      "outputs": [
        {
          "output_type": "execute_result",
          "data": {
            "text/plain": [
              "['PPMI_3308_MR_Axial_PD-T2_TSE_AC_PC_line_br_raw_20130430112447588_89_S188385_I369377.dcm',\n",
              " 'PPMI_3308_MR_Axial_PD-T2_TSE_AC_PC_line_br_raw_20130430112446480_57_S188385_I369377.dcm',\n",
              " 'PPMI_3308_MR_Axial_PD-T2_TSE_AC_PC_line_br_raw_20130430112446527_60_S188385_I369377.dcm',\n",
              " 'PPMI_3308_MR_Axial_PD-T2_TSE_AC_PC_line_br_raw_20130430112447088_80_S188385_I369377.dcm',\n",
              " 'PPMI_3308_MR_Axial_PD-T2_TSE_AC_PC_line_br_raw_20130430112447276_86_S188385_I369377.dcm']"
            ]
          },
          "metadata": {
            "tags": []
          },
          "execution_count": 25
        }
      ]
    },
    {
      "cell_type": "code",
      "metadata": {
        "id": "rD69OVqzdz_6",
        "colab_type": "code",
        "outputId": "7035edd1-288a-40ee-971e-1d0f0c1ab074",
        "colab": {
          "base_uri": "https://localhost:8080/",
          "height": 35
        }
      },
      "source": [
        "print (path_p4)"
      ],
      "execution_count": 0,
      "outputs": [
        {
          "output_type": "stream",
          "text": [
            "/content/gdrive/My Drive/msc_project/ppmi_scans/3308/Axial_PD-T2_TSE_AC_PC_line/2013-01-17_11_07_46.0/S188385\n"
          ],
          "name": "stdout"
        }
      ]
    },
    {
      "cell_type": "code",
      "metadata": {
        "id": "063ziw23d7-H",
        "colab_type": "code",
        "outputId": "1fe3f18a-97b1-4c38-a21c-e0ff383e96fd",
        "colab": {
          "base_uri": "https://localhost:8080/",
          "height": 35
        }
      },
      "source": [
        "dcm_files_test = os.listdir(path_p4) # get an individual dcom file\n",
        "length_of_dcm = (len(dcm_files_test)) # get range length\n",
        "print (length_of_dcm)"
      ],
      "execution_count": 0,
      "outputs": [
        {
          "output_type": "stream",
          "text": [
            "48\n"
          ],
          "name": "stdout"
        }
      ]
    },
    {
      "cell_type": "code",
      "metadata": {
        "id": "-WzgDruLd-7m",
        "colab_type": "code",
        "outputId": "44e8e2bf-e410-4549-d573-fbef254aac40",
        "colab": {
          "base_uri": "https://localhost:8080/",
          "height": 35
        }
      },
      "source": [
        "os.chdir(path_p4) # change the working dir to path p4\n",
        "os.getcwd()"
      ],
      "execution_count": 0,
      "outputs": [
        {
          "output_type": "execute_result",
          "data": {
            "text/plain": [
              "'/content/gdrive/My Drive/msc_project/ppmi_scans/3308/Axial_PD-T2_TSE_AC_PC_line/2013-01-17_11_07_46.0/S188385'"
            ]
          },
          "metadata": {
            "tags": []
          },
          "execution_count": 28
        }
      ]
    },
    {
      "cell_type": "code",
      "metadata": {
        "id": "-I6bU0CJeDmN",
        "colab_type": "code",
        "outputId": "d1b0a8df-08bb-48b7-ddbb-7dbbc79d9aed",
        "colab": {
          "base_uri": "https://localhost:8080/",
          "height": 35
        }
      },
      "source": [
        "dcm_files_test[0]"
      ],
      "execution_count": 0,
      "outputs": [
        {
          "output_type": "execute_result",
          "data": {
            "text/plain": [
              "'PPMI_3308_MR_Axial_PD-T2_TSE_AC_PC_line_br_raw_20130430112447588_89_S188385_I369377.dcm'"
            ]
          },
          "metadata": {
            "tags": []
          },
          "execution_count": 29
        }
      ]
    },
    {
      "cell_type": "code",
      "metadata": {
        "id": "PbvumNrSeKKH",
        "colab_type": "code",
        "colab": {}
      },
      "source": [
        "from ipywidgets import interact, interactive, fixed, interact_manual\n",
        "import ipywidgets as widgets"
      ],
      "execution_count": 0,
      "outputs": []
    },
    {
      "cell_type": "code",
      "metadata": {
        "id": "kJvtO_RdeMET",
        "colab_type": "code",
        "colab": {}
      },
      "source": [
        "# make it a function for a widget\n",
        "def f(i):\n",
        "    slices = pydicom.read_file(dcm_files_test[i]) # uh oh, it is not ordered\n",
        "    plt.imshow(slices.pixel_array)\n",
        "    plt.show()\n",
        "    return None"
      ],
      "execution_count": 0,
      "outputs": []
    },
    {
      "cell_type": "code",
      "metadata": {
        "id": "stK3ShK1eN1F",
        "colab_type": "code",
        "outputId": "981cb97e-a359-41b6-f729-8436c94dea14",
        "colab": {
          "base_uri": "https://localhost:8080/",
          "height": 35
        }
      },
      "source": [
        "interact(f, i=14) # now we have a slidebar, woo! Covers all data values"
      ],
      "execution_count": 0,
      "outputs": [
        {
          "output_type": "display_data",
          "data": {
            "application/vnd.jupyter.widget-view+json": {
              "model_id": "859ed0db440a49beab585de717a4a073",
              "version_minor": 0,
              "version_major": 2
            },
            "text/plain": [
              "interactive(children=(IntSlider(value=14, description='i', max=42, min=-14), Output()), _dom_classes=('widget-…"
            ]
          },
          "metadata": {
            "tags": []
          }
        },
        {
          "output_type": "execute_result",
          "data": {
            "text/plain": [
              "<function __main__.f>"
            ]
          },
          "metadata": {
            "tags": []
          },
          "execution_count": 32
        }
      ]
    },
    {
      "cell_type": "markdown",
      "metadata": {
        "id": "Y61UCvujeXK4",
        "colab_type": "text"
      },
      "source": [
        "Problem: Need to order slices properly"
      ]
    },
    {
      "cell_type": "code",
      "metadata": {
        "id": "q9lZPNtFePWQ",
        "colab_type": "code",
        "colab": {}
      },
      "source": [
        "def filename_sort(filename):\n",
        "    int_return = None # what to return \n",
        "    \n",
        "    if (len(filename) == 79):\n",
        "        int_return = int(filename[57:59]) # if 2 characters\n",
        "    if (len(filename) == 80):\n",
        "        int_return = int(filename[57:60]) # if 3 characters\n",
        "    if (len(filename) == 78):\n",
        "        int_return = int(filename[57]) # if 1 character\n",
        "        \n",
        "    return int_return"
      ],
      "execution_count": 0,
      "outputs": []
    },
    {
      "cell_type": "markdown",
      "metadata": {
        "id": "fdki_vWLectt",
        "colab_type": "text"
      },
      "source": [
        "Note: The 3 characer approach might not work for 1 character"
      ]
    },
    {
      "cell_type": "code",
      "metadata": {
        "id": "5SCAxWD1eanB",
        "colab_type": "code",
        "outputId": "76e2c714-4c3f-403c-df91-0bd8afb42c48",
        "colab": {
          "base_uri": "https://localhost:8080/",
          "height": 189
        }
      },
      "source": [
        "sorted_slices = sorted(dcm_files_test, key=lambda filename: filename_sort(filename)) # some have length 3\n",
        "sorted_slices[:5] # perfect"
      ],
      "execution_count": 0,
      "outputs": [
        {
          "output_type": "error",
          "ename": "TypeError",
          "evalue": "ignored",
          "traceback": [
            "\u001b[0;31m---------------------------------------------------------------------------\u001b[0m",
            "\u001b[0;31mTypeError\u001b[0m                                 Traceback (most recent call last)",
            "\u001b[0;32m<ipython-input-35-bb15369e8719>\u001b[0m in \u001b[0;36m<module>\u001b[0;34m()\u001b[0m\n\u001b[0;32m----> 1\u001b[0;31m \u001b[0msorted_slices\u001b[0m \u001b[0;34m=\u001b[0m \u001b[0msorted\u001b[0m\u001b[0;34m(\u001b[0m\u001b[0mdcm_files_test\u001b[0m\u001b[0;34m,\u001b[0m \u001b[0mkey\u001b[0m\u001b[0;34m=\u001b[0m\u001b[0;32mlambda\u001b[0m \u001b[0mfilename\u001b[0m\u001b[0;34m:\u001b[0m \u001b[0mfilename_sort\u001b[0m\u001b[0;34m(\u001b[0m\u001b[0mfilename\u001b[0m\u001b[0;34m)\u001b[0m\u001b[0;34m)\u001b[0m \u001b[0;31m# some have length 3\u001b[0m\u001b[0;34m\u001b[0m\u001b[0;34m\u001b[0m\u001b[0m\n\u001b[0m\u001b[1;32m      2\u001b[0m \u001b[0msorted_slices\u001b[0m\u001b[0;34m[\u001b[0m\u001b[0;34m:\u001b[0m\u001b[0;36m5\u001b[0m\u001b[0;34m]\u001b[0m \u001b[0;31m# perfect\u001b[0m\u001b[0;34m\u001b[0m\u001b[0;34m\u001b[0m\u001b[0m\n",
            "\u001b[0;31mTypeError\u001b[0m: '<' not supported between instances of 'NoneType' and 'NoneType'"
          ]
        }
      ]
    },
    {
      "cell_type": "code",
      "metadata": {
        "id": "bEW5UpzqeemZ",
        "colab_type": "code",
        "colab": {}
      },
      "source": [
        "# make it a function for a widget\n",
        "def f(i):\n",
        "    slices = pydicom.read_file(sorted_slices[i]) # uh oh, it is not ordered\n",
        "    plt.imshow(slices.pixel_array)\n",
        "    plt.show()\n",
        "    return None"
      ],
      "execution_count": 0,
      "outputs": []
    },
    {
      "cell_type": "code",
      "metadata": {
        "id": "CQ605KmYfHKJ",
        "colab_type": "code",
        "colab": {}
      },
      "source": [
        "interact(f, i=widgets.IntSlider(min=0,max=(len(sorted_slices)-1),step=1,value=0)) # now we have a sorted slidebar!, wooooo! Covers all data values"
      ],
      "execution_count": 0,
      "outputs": []
    },
    {
      "cell_type": "code",
      "metadata": {
        "id": "9_ZmGlBUfKcZ",
        "colab_type": "code",
        "colab": {}
      },
      "source": [
        "# turn the slices array into a matrix for input into our deep learning model\n",
        "pixel_arrays = [(pydicom.read_file(s)).pixel_array for s in sorted_slices]\n",
        "pixel_arrays = np.array(pixel_arrays)\n",
        "\n",
        "print (\"3D Pixel Arrays: %s\" % (np.shape(pixel_arrays),))"
      ],
      "execution_count": 0,
      "outputs": []
    },
    {
      "cell_type": "markdown",
      "metadata": {
        "id": "bpdUcRTofMfa",
        "colab_type": "text"
      },
      "source": [
        "The above is then an example of obtaining one pixel array for one set of scans, we will then attach that to a key which has image_id. This will allow us to cross reference this to whether the patient has PD or not."
      ]
    },
    {
      "cell_type": "markdown",
      "metadata": {
        "id": "hBpxCle_fPCo",
        "colab_type": "text"
      },
      "source": [
        "#### Now try to skull strip and segment the brain tissue, we can use the example of pixel_arrays (Method 1 mask)"
      ]
    },
    {
      "cell_type": "code",
      "metadata": {
        "id": "jkZ1H78ifM78",
        "colab_type": "code",
        "colab": {}
      },
      "source": [
        "import nibabel as nb # write/process to some common neuroimaging file formats\n",
        "from deepbrain import Extractor # Trying now, installing a bunch of packages.."
      ],
      "execution_count": 0,
      "outputs": []
    },
    {
      "cell_type": "markdown",
      "metadata": {
        "id": "gsqRQ6IcfXev",
        "colab_type": "text"
      },
      "source": [
        "Found the problem space, will try to see if this works with deepbrain. Seems like problem is converting the image type"
      ]
    },
    {
      "cell_type": "markdown",
      "metadata": {
        "id": "yAVPTgyrfaYy",
        "colab_type": "text"
      },
      "source": [
        "Made test file with nii file (after conversion with dicom2nifti #https://github.com/icometrix/dicom2nifti then using that and converting it. Then made another folder and dumped the files in there. (Perhaps should dump all into one common folder though. Also there is a good possibility that we lose the order of our images. So may need to re-order these in the file after sorting. Or apply the mask THEN re-order the files!"
      ]
    },
    {
      "cell_type": "code",
      "metadata": {
        "id": "QmBrU-NofW6M",
        "colab_type": "code",
        "colab": {}
      },
      "source": [
        "import dicom2nifti\n",
        "\n",
        "# Converting a directory with dicom files to nifti files\n",
        "dicom_directory = os.getcwd()\n",
        "output_folder = os.getcwd()[:-7] # put file in the folder superseding the most recent\n",
        "dicom2nifti.convert_directory(dicom_directory, output_folder, compression=True, reorient=True)"
      ],
      "execution_count": 0,
      "outputs": []
    },
    {
      "cell_type": "code",
      "metadata": {
        "id": "NHvw7sgzfmKx",
        "colab_type": "code",
        "colab": {}
      },
      "source": [
        "os.chdir(output_folder)\n",
        "os.listdir() # it is the first file on the list"
      ],
      "execution_count": 0,
      "outputs": []
    },
    {
      "cell_type": "code",
      "metadata": {
        "id": "CArA7HbYfnKv",
        "colab_type": "code",
        "colab": {}
      },
      "source": [
        "newdir = os.getcwd() + '\\\\' +os.listdir()[0] # go to the new folder"
      ],
      "execution_count": 0,
      "outputs": []
    },
    {
      "cell_type": "code",
      "metadata": {
        "id": "_CWtudKwfokS",
        "colab_type": "code",
        "colab": {}
      },
      "source": [
        "pa = pixel_arrays.copy() # just make a copy of the pixel array and run with this. no need for nifti"
      ],
      "execution_count": 0,
      "outputs": []
    },
    {
      "cell_type": "code",
      "metadata": {
        "id": "v6vNoop-fp10",
        "colab_type": "code",
        "colab": {}
      },
      "source": [
        "# Load a nifti as 3d numpy image [H, W, D]\n",
        "# img = nb.load(newdir).get_fdata() # loads it even as a gz file\n",
        "\n",
        "ext = Extractor()\n",
        "\n",
        "# `prob` will be a 3d numpy image containing probability \n",
        "# of being brain tissue for each of the voxels in `img`\n",
        "prob = ext.run(pa) \n",
        "\n",
        "# mask can be obtained as:\n",
        "mask = prob > 0 # may have to adjust this value, make a mask out of it"
      ],
      "execution_count": 0,
      "outputs": []
    },
    {
      "cell_type": "code",
      "metadata": {
        "id": "QoG-wqMZfrNB",
        "colab_type": "code",
        "colab": {}
      },
      "source": [
        "pa[mask] = 0 # apply the mask itself"
      ],
      "execution_count": 0,
      "outputs": []
    },
    {
      "cell_type": "code",
      "metadata": {
        "id": "FBr2e1M1fs3X",
        "colab_type": "code",
        "colab": {}
      },
      "source": [
        "def g(i): # basic slideshow plot to get an idea of the effectiveness of the mask itself\n",
        "    plt.figure(figsize=(15,8)) # make plot larger\n",
        "    plt.imshow(pa[i], cmap='gray') # made grayscale, just to compare this to\n",
        "    plt.show()\n",
        "    return None"
      ],
      "execution_count": 0,
      "outputs": []
    },
    {
      "cell_type": "code",
      "metadata": {
        "id": "v5cjhiMzft18",
        "colab_type": "code",
        "colab": {}
      },
      "source": [
        "interact(g, i=widgets.IntSlider(min=0,max=(54-1),step=1,value=0)) # now we have a sorted slidebar!, wooooo! Covers all data values"
      ],
      "execution_count": 0,
      "outputs": []
    },
    {
      "cell_type": "markdown",
      "metadata": {
        "id": "ywHp1szrfwtL",
        "colab_type": "text"
      },
      "source": [
        "Mask works, but skull stripping doesn't seem to effective at all.. Rather shite, Mostly for T1: \n",
        "-  https://pypi.org/project/deepbrain/. Give up on this.\n",
        "\n",
        "<br>\n",
        "    Paper comparing methods for skull stripping: https://www.ncbi.nlm.nih.gov/pmc/articles/PMC4879034/"
      ]
    },
    {
      "cell_type": "markdown",
      "metadata": {
        "id": "Gn0mkG1-fzQA",
        "colab_type": "text"
      },
      "source": [
        "#### Now try another method (Method 2 mask)"
      ]
    },
    {
      "cell_type": "code",
      "metadata": {
        "id": "c1_Y9dpHfu9O",
        "colab_type": "code",
        "colab": {}
      },
      "source": [
        "# Let's create a short helper function to plot 3D NIfTI images\n",
        "def plot_slice(fname):\n",
        "\n",
        "    # Load the image\n",
        "    img = nb.load(fname)\n",
        "    data = img.get_data()\n",
        "\n",
        "    # Cut in the middle of the brain\n",
        "    cut = int(data.shape[-1]/2) + 10\n",
        "\n",
        "    # Plot the data\n",
        "    plt.imshow(np.rot90(data[..., cut]), cmap=\"gray\")\n",
        "    plt.gca().set_axis_off()"
      ],
      "execution_count": 0,
      "outputs": []
    },
    {
      "cell_type": "code",
      "metadata": {
        "id": "Hw8jhIXkf1Za",
        "colab_type": "code",
        "colab": {}
      },
      "source": [
        "from nipype.interfaces import fsl # try to skull strip with a simple procedural code"
      ],
      "execution_count": 0,
      "outputs": []
    },
    {
      "cell_type": "code",
      "metadata": {
        "id": "rfLPWQFhf6tL",
        "colab_type": "code",
        "colab": {}
      },
      "source": [
        "print (newdir)"
      ],
      "execution_count": 0,
      "outputs": []
    },
    {
      "cell_type": "code",
      "metadata": {
        "id": "Va18U9ylf7SA",
        "colab_type": "code",
        "colab": {}
      },
      "source": [
        "# Skullstrip process\n",
        "skullstrip = fsl.BET(\n",
        "    in_file= newdir,\n",
        "    out_file=os.getcwd(),\n",
        "    mask=True)\n",
        "skullstrip.run()"
      ],
      "execution_count": 0,
      "outputs": []
    }
  ]
}