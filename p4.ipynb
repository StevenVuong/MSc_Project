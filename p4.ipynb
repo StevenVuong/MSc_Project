{
  "nbformat": 4,
  "nbformat_minor": 0,
  "metadata": {
    "colab": {
      "name": "p4.ipynb",
      "version": "0.3.2",
      "provenance": [],
      "collapsed_sections": [],
      "include_colab_link": true
    },
    "kernelspec": {
      "name": "python3",
      "display_name": "Python 3"
    },
    "accelerator": "TPU"
  },
  "cells": [
    {
      "cell_type": "markdown",
      "metadata": {
        "id": "view-in-github",
        "colab_type": "text"
      },
      "source": [
        "<a href=\"https://colab.research.google.com/github/StevenVuong/MSc_Project/blob/master/p4.ipynb\" target=\"_parent\"><img src=\"https://colab.research.google.com/assets/colab-badge.svg\" alt=\"Open In Colab\"/></a>"
      ]
    },
    {
      "cell_type": "markdown",
      "metadata": {
        "id": "EET-cWP45BtV",
        "colab_type": "text"
      },
      "source": [
        "**This notebook is meant for the analysis and comparison of the different models and parameter selections**"
      ]
    },
    {
      "cell_type": "code",
      "metadata": {
        "id": "dTyueUih4_r_",
        "colab_type": "code",
        "colab": {}
      },
      "source": [
        "# standard imports\n",
        "import os\n",
        "import pandas as pd\n",
        "import numpy as np\n",
        "import matplotlib.pyplot as plt\n",
        "import seaborn as sns\n",
        "import pickle\n",
        "\n",
        "%matplotlib inline\n",
        "\n",
        "# to mount our drive\n",
        "from google.colab import drive\n",
        "\n",
        "# import keras stuff\n",
        "from keras.models import Sequential, load_model\n",
        "from keras.layers.core import Dense, Dropout, Activation, Flatten\n",
        "from keras.layers.convolutional import Convolution3D, MaxPooling3D, Convolution1D\n",
        "from keras.layers.normalization import BatchNormalization\n",
        "from keras.optimizers import SGD, RMSprop, Adam\n",
        "from keras.utils import np_utils, generic_utils, to_categorical\n",
        "from keras.layers import LeakyReLU\n",
        "from keras import regularizers\n",
        "\n",
        "# to test our dataset\n",
        "from sklearn.metrics import accuracy_score\n",
        "from sklearn.model_selection import train_test_split"
      ],
      "execution_count": 0,
      "outputs": []
    },
    {
      "cell_type": "code",
      "metadata": {
        "id": "MxZA0mr6rY-I",
        "colab_type": "code",
        "outputId": "0dd53e85-bb12-4f8b-b528-f6c65997ab73",
        "colab": {
          "base_uri": "https://localhost:8080/",
          "height": 50
        }
      },
      "source": [
        "# mount google drive\n",
        "drive.mount('/content/gdrive')\n",
        "\n",
        "os.chdir('/content')\n",
        "\n",
        "# go to where the data is\n",
        "print (os.listdir())\n",
        "os.chdir('gdrive/My Drive/msc_project')"
      ],
      "execution_count": 77,
      "outputs": [
        {
          "output_type": "stream",
          "text": [
            "Drive already mounted at /content/gdrive; to attempt to forcibly remount, call drive.mount(\"/content/gdrive\", force_remount=True).\n",
            "['.config', 'gdrive', 'sample_data']\n"
          ],
          "name": "stdout"
        }
      ]
    },
    {
      "cell_type": "markdown",
      "metadata": {
        "id": "PJAxYlHFw1E7",
        "colab_type": "text"
      },
      "source": [
        "**Get our dataframe**"
      ]
    },
    {
      "cell_type": "code",
      "metadata": {
        "id": "GR3hQyFhnHe9",
        "colab_type": "code",
        "colab": {}
      },
      "source": [
        "stored_name = '12_v0'"
      ],
      "execution_count": 0,
      "outputs": []
    },
    {
      "cell_type": "code",
      "metadata": {
        "id": "Dwx-D2u7raid",
        "colab_type": "code",
        "outputId": "af2f3dad-43bb-46e3-dbf7-09665c40b3a6",
        "colab": {
          "base_uri": "https://localhost:8080/",
          "height": 195
        }
      },
      "source": [
        "# read metrics file, format: [val_loss,val_acc, train_loss, train_acc, test_loss, test_acc]\n",
        "metrics_df = pd.read_csv('stored_metrics_v2/metrics' +stored_name+'.csv', header=None)\n",
        "\n",
        "# relabel headers\n",
        "metrics_df.columns = ['val_loss', 'val_acc', 'train_loss', 'train_acc']\n",
        "metrics_df.head()"
      ],
      "execution_count": 79,
      "outputs": [
        {
          "output_type": "execute_result",
          "data": {
            "text/html": [
              "<div>\n",
              "<style scoped>\n",
              "    .dataframe tbody tr th:only-of-type {\n",
              "        vertical-align: middle;\n",
              "    }\n",
              "\n",
              "    .dataframe tbody tr th {\n",
              "        vertical-align: top;\n",
              "    }\n",
              "\n",
              "    .dataframe thead th {\n",
              "        text-align: right;\n",
              "    }\n",
              "</style>\n",
              "<table border=\"1\" class=\"dataframe\">\n",
              "  <thead>\n",
              "    <tr style=\"text-align: right;\">\n",
              "      <th></th>\n",
              "      <th>val_loss</th>\n",
              "      <th>val_acc</th>\n",
              "      <th>train_loss</th>\n",
              "      <th>train_acc</th>\n",
              "    </tr>\n",
              "  </thead>\n",
              "  <tbody>\n",
              "    <tr>\n",
              "      <th>0</th>\n",
              "      <td>3.792493</td>\n",
              "      <td>0.764706</td>\n",
              "      <td>5.546011</td>\n",
              "      <td>0.655914</td>\n",
              "    </tr>\n",
              "    <tr>\n",
              "      <th>1</th>\n",
              "      <td>2.014762</td>\n",
              "      <td>0.875000</td>\n",
              "      <td>8.246467</td>\n",
              "      <td>0.488372</td>\n",
              "    </tr>\n",
              "    <tr>\n",
              "      <th>2</th>\n",
              "      <td>4.298159</td>\n",
              "      <td>0.733333</td>\n",
              "      <td>6.447238</td>\n",
              "      <td>0.600000</td>\n",
              "    </tr>\n",
              "    <tr>\n",
              "      <th>3</th>\n",
              "      <td>4.029524</td>\n",
              "      <td>0.750000</td>\n",
              "      <td>4.298159</td>\n",
              "      <td>0.733333</td>\n",
              "    </tr>\n",
              "    <tr>\n",
              "      <th>4</th>\n",
              "      <td>6.447238</td>\n",
              "      <td>0.600000</td>\n",
              "      <td>4.550992</td>\n",
              "      <td>0.717647</td>\n",
              "    </tr>\n",
              "  </tbody>\n",
              "</table>\n",
              "</div>"
            ],
            "text/plain": [
              "   val_loss   val_acc  train_loss  train_acc\n",
              "0  3.792493  0.764706    5.546011   0.655914\n",
              "1  2.014762  0.875000    8.246467   0.488372\n",
              "2  4.298159  0.733333    6.447238   0.600000\n",
              "3  4.029524  0.750000    4.298159   0.733333\n",
              "4  6.447238  0.600000    4.550992   0.717647"
            ]
          },
          "metadata": {
            "tags": []
          },
          "execution_count": 79
        }
      ]
    },
    {
      "cell_type": "code",
      "metadata": {
        "id": "c92ZmPpTrkAy",
        "colab_type": "code",
        "outputId": "63795591-5d11-4e95-d8c0-9b1898facfcd",
        "colab": {
          "base_uri": "https://localhost:8080/",
          "height": 195
        }
      },
      "source": [
        "# aggregate so we have the averages of each batch (trains on 6 now and tests on 7)\n",
        "batch_mean_df = metrics_df.groupby(np.arange(len(metrics_df))//6).mean()\n",
        "\n",
        "# only want to take the last 30 (we only trained for 30 epochs, filter noise)\n",
        "batch_mean_df = batch_mean_df.tail(30)\n",
        "batch_mean_df.head()"
      ],
      "execution_count": 80,
      "outputs": [
        {
          "output_type": "execute_result",
          "data": {
            "text/html": [
              "<div>\n",
              "<style scoped>\n",
              "    .dataframe tbody tr th:only-of-type {\n",
              "        vertical-align: middle;\n",
              "    }\n",
              "\n",
              "    .dataframe tbody tr th {\n",
              "        vertical-align: top;\n",
              "    }\n",
              "\n",
              "    .dataframe thead th {\n",
              "        text-align: right;\n",
              "    }\n",
              "</style>\n",
              "<table border=\"1\" class=\"dataframe\">\n",
              "  <thead>\n",
              "    <tr style=\"text-align: right;\">\n",
              "      <th></th>\n",
              "      <th>val_loss</th>\n",
              "      <th>val_acc</th>\n",
              "      <th>train_loss</th>\n",
              "      <th>train_acc</th>\n",
              "    </tr>\n",
              "  </thead>\n",
              "  <tbody>\n",
              "    <tr>\n",
              "      <th>11</th>\n",
              "      <td>4.101950</td>\n",
              "      <td>0.745507</td>\n",
              "      <td>5.722770</td>\n",
              "      <td>0.644948</td>\n",
              "    </tr>\n",
              "    <tr>\n",
              "      <th>12</th>\n",
              "      <td>4.101950</td>\n",
              "      <td>0.745507</td>\n",
              "      <td>5.722770</td>\n",
              "      <td>0.644948</td>\n",
              "    </tr>\n",
              "    <tr>\n",
              "      <th>13</th>\n",
              "      <td>3.323699</td>\n",
              "      <td>0.793791</td>\n",
              "      <td>6.388392</td>\n",
              "      <td>0.603651</td>\n",
              "    </tr>\n",
              "    <tr>\n",
              "      <th>14</th>\n",
              "      <td>4.504902</td>\n",
              "      <td>0.720507</td>\n",
              "      <td>5.606643</td>\n",
              "      <td>0.652152</td>\n",
              "    </tr>\n",
              "    <tr>\n",
              "      <th>15</th>\n",
              "      <td>4.101950</td>\n",
              "      <td>0.745507</td>\n",
              "      <td>5.722770</td>\n",
              "      <td>0.644948</td>\n",
              "    </tr>\n",
              "  </tbody>\n",
              "</table>\n",
              "</div>"
            ],
            "text/plain": [
              "    val_loss   val_acc  train_loss  train_acc\n",
              "11  4.101950  0.745507    5.722770   0.644948\n",
              "12  4.101950  0.745507    5.722770   0.644948\n",
              "13  3.323699  0.793791    6.388392   0.603651\n",
              "14  4.504902  0.720507    5.606643   0.652152\n",
              "15  4.101950  0.745507    5.722770   0.644948"
            ]
          },
          "metadata": {
            "tags": []
          },
          "execution_count": 80
        }
      ]
    },
    {
      "cell_type": "markdown",
      "metadata": {
        "id": "85FKNx7zsld8",
        "colab_type": "text"
      },
      "source": [
        "**Below is the performance of our train/test/validation sets, quite impressive**"
      ]
    },
    {
      "cell_type": "code",
      "metadata": {
        "id": "lZFlXCf4rlFo",
        "colab_type": "code",
        "outputId": "25db2f5b-6521-47f9-f256-3edf1e56f811",
        "colab": {
          "base_uri": "https://localhost:8080/",
          "height": 101
        }
      },
      "source": [
        "# get the final output (model at end)\n",
        "batch_mean_df.iloc[-1,:]"
      ],
      "execution_count": 81,
      "outputs": [
        {
          "output_type": "execute_result",
          "data": {
            "text/plain": [
              "val_loss      3.632892\n",
              "val_acc       0.774608\n",
              "train_loss    5.767207\n",
              "train_acc     0.642191\n",
              "Name: 40, dtype: float64"
            ]
          },
          "metadata": {
            "tags": []
          },
          "execution_count": 81
        }
      ]
    },
    {
      "cell_type": "markdown",
      "metadata": {
        "id": "6QZMk_jxsh0z",
        "colab_type": "text"
      },
      "source": [
        "**Plot accuracy and noise for train/test/validation sets**"
      ]
    },
    {
      "cell_type": "code",
      "metadata": {
        "id": "64MulflWrmMz",
        "colab_type": "code",
        "outputId": "51e84c93-1683-4eed-d96c-c739c3e2fbdd",
        "colab": {
          "base_uri": "https://localhost:8080/",
          "height": 295
        }
      },
      "source": [
        "# plotting the accuracy\n",
        "plt.plot(batch_mean_df.val_acc.values, label='val_acc', ls='-')\n",
        "plt.plot(batch_mean_df.train_acc.values, label='train_acc', ls='-.')\n",
        "\n",
        "plt.xlabel('Epochs')\n",
        "plt.ylabel('Accuracy')\n",
        "plt.title('Accuracy ')\n",
        "\n",
        "plt.legend(loc='best')\n",
        "\n",
        "plt.show()"
      ],
      "execution_count": 82,
      "outputs": [
        {
          "output_type": "display_data",
          "data": {
            "image/png": "[encoded data removed]",
            "text/plain": [
              "<Figure size 432x288 with 1 Axes>"
            ]
          },
          "metadata": {
            "tags": []
          }
        }
      ]
    },
    {
      "cell_type": "code",
      "metadata": {
        "id": "dlbHDRlorn97",
        "colab_type": "code",
        "outputId": "4feb5cf6-39e7-4888-9d6c-6c276e5282e8",
        "colab": {
          "base_uri": "https://localhost:8080/",
          "height": 295
        }
      },
      "source": [
        "# plotting the loss\n",
        "plt.plot(batch_mean_df.val_loss.values, label='val_loss', ls='-')\n",
        "plt.plot(batch_mean_df.train_loss.values, label='train_loss', ls='-.')\n",
        "\n",
        "plt.xlabel('Epochs')\n",
        "plt.ylabel('Loss')\n",
        "plt.title('Loss')\n",
        "\n",
        "plt.legend(loc='best')\n",
        "\n",
        "plt.show()"
      ],
      "execution_count": 83,
      "outputs": [
        {
          "output_type": "display_data",
          "data": {
            "image/png": "[encoded data removed]",
            "text/plain": [
              "<Figure size 432x288 with 1 Axes>"
            ]
          },
          "metadata": {
            "tags": []
          }
        }
      ]
    },
    {
      "cell_type": "markdown",
      "metadata": {
        "id": "Gr4ccDpxgc1V",
        "colab_type": "text"
      },
      "source": [
        "**Load model and test with the final dataset**"
      ]
    },
    {
      "cell_type": "code",
      "metadata": {
        "id": "u1ylcABcruFc",
        "colab_type": "code",
        "colab": {}
      },
      "source": [
        "# load our pickle batch of data\n",
        "with open('stored_batches/total_slices_batch6.pkl', 'rb') as f: # also 'total_slices_all.pkl' ## RENAMED 5 TO 7, TESTING IT\n",
        "  total_slices, total_slices_info = pickle.load(f) # stored_batches/total_slices_batch5\n",
        "  \n",
        "# load our model\n",
        "model = load_model('stored_models_v2/model'+stored_name+'.h5')"
      ],
      "execution_count": 0,
      "outputs": []
    },
    {
      "cell_type": "code",
      "metadata": {
        "id": "hG8Yx2T5gkjs",
        "colab_type": "code",
        "colab": {}
      },
      "source": [
        "# gets our y-values and converts to keras, one hot encoded outputs\n",
        "def get_y_values(total_slices_info):\n",
        "  \n",
        "  y_values = [s[2] for s in total_slices_info]\n",
        "\n",
        "  y_values = np.array(to_categorical(y_values, 2))\n",
        "  \n",
        "  return y_values"
      ],
      "execution_count": 0,
      "outputs": []
    },
    {
      "cell_type": "code",
      "metadata": {
        "id": "A_e-doC81xLi",
        "colab_type": "code",
        "outputId": "39f5b8b6-ab2e-4411-aaae-d7c75d27c30f",
        "colab": {
          "base_uri": "https://localhost:8080/",
          "height": 34
        }
      },
      "source": [
        "np.unique([s[2] for s in total_slices_info], return_counts=True) # look at distribution of patients"
      ],
      "execution_count": 86,
      "outputs": [
        {
          "output_type": "execute_result",
          "data": {
            "text/plain": [
              "(array([0, 1]), array([30, 70]))"
            ]
          },
          "metadata": {
            "tags": []
          },
          "execution_count": 86
        }
      ]
    },
    {
      "cell_type": "code",
      "metadata": {
        "id": "VOmVLaoXsjUO",
        "colab_type": "code",
        "colab": {}
      },
      "source": [
        "# get y values\n",
        "y_values = get_y_values(total_slices_info)\n",
        "\n",
        "# turn into a numpy array\n",
        "total_slices = np.array(total_slices)"
      ],
      "execution_count": 0,
      "outputs": []
    },
    {
      "cell_type": "code",
      "metadata": {
        "id": "2lHSWkz1xBf8",
        "colab_type": "code",
        "outputId": "0c56a7ee-5f99-4c69-adec-0ad943c839e4",
        "colab": {
          "base_uri": "https://localhost:8080/",
          "height": 370
        }
      },
      "source": [
        "## Build function to load and build score on the fly then aggregate\n",
        "\n",
        "# Split to 10 chunks of 10\n",
        "sub_arrays = np.split(total_slices[:100], 20)\n",
        "sub_y_values = np.split(y_values[:100], 20)\n",
        "\n",
        "score_sum = []\n",
        "acc_sum = []\n",
        "# run through model and test\n",
        "for i in range(len(sub_arrays)):\n",
        "  sub_array = sub_arrays[i]\n",
        "  sub_y_value = sub_y_values[i]\n",
        "  \n",
        "  score, acc = model.evaluate(sub_array, sub_y_value)\n",
        "  score_sum.append(score)\n",
        "  acc_sum.append(acc)\n",
        "  \n",
        "# get average values\n",
        "mean_score = np.mean(score_sum)\n",
        "mean_acc = np.mean(acc_sum)\n",
        "\n",
        "print (\"The mean score of the model: %f, The mean accuracy of the model: %f\" % (mean_score, acc))"
      ],
      "execution_count": 88,
      "outputs": [
        {
          "output_type": "stream",
          "text": [
            "5/5 [==============================] - 28s 6s/step\n",
            "5/5 [==============================] - 25s 5s/step\n",
            "5/5 [==============================] - 25s 5s/step\n",
            "5/5 [==============================] - 26s 5s/step\n",
            "5/5 [==============================] - 25s 5s/step\n",
            "5/5 [==============================] - 25s 5s/step\n",
            "5/5 [==============================] - 25s 5s/step\n",
            "5/5 [==============================] - 25s 5s/step\n",
            "5/5 [==============================] - 26s 5s/step\n",
            "5/5 [==============================] - 25s 5s/step\n",
            "5/5 [==============================] - 25s 5s/step\n",
            "5/5 [==============================] - 25s 5s/step\n",
            "5/5 [==============================] - 25s 5s/step\n",
            "5/5 [==============================] - 25s 5s/step\n",
            "5/5 [==============================] - 25s 5s/step\n",
            "5/5 [==============================] - 25s 5s/step\n",
            "5/5 [==============================] - 25s 5s/step\n",
            "5/5 [==============================] - 25s 5s/step\n",
            "5/5 [==============================] - 25s 5s/step\n",
            "5/5 [==============================] - 25s 5s/step\n",
            "The mean score of the model: 4.835429, The mean accuracy of the model: 0.800000\n"
          ],
          "name": "stdout"
        }
      ]
    },
    {
      "cell_type": "code",
      "metadata": {
        "id": "2rEdqgEHybmc",
        "colab_type": "code",
        "colab": {}
      },
      "source": [
        ""
      ],
      "execution_count": 0,
      "outputs": []
    }
  ]
}