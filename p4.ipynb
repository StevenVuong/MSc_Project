{
  "nbformat": 4,
  "nbformat_minor": 0,
  "metadata": {
    "colab": {
      "name": "p4.ipynb",
      "version": "0.3.2",
      "provenance": [],
      "collapsed_sections": [],
      "include_colab_link": true
    },
    "kernelspec": {
      "name": "python3",
      "display_name": "Python 3"
    },
    "accelerator": "TPU"
  },
  "cells": [
    {
      "cell_type": "markdown",
      "metadata": {
        "id": "view-in-github",
        "colab_type": "text"
      },
      "source": [
        "<a href=\"https://colab.research.google.com/github/StevenVuong/MSc_Project/blob/master/p4.ipynb\" target=\"_parent\"><img src=\"https://colab.research.google.com/assets/colab-badge.svg\" alt=\"Open In Colab\"/></a>"
      ]
    },
    {
      "cell_type": "markdown",
      "metadata": {
        "id": "EET-cWP45BtV",
        "colab_type": "text"
      },
      "source": [
        "**This notebook is meant for the analysis and comparison of the different models and parameter selections**"
      ]
    },
    {
      "cell_type": "code",
      "metadata": {
        "id": "dTyueUih4_r_",
        "colab_type": "code",
        "outputId": "a77bd729-2671-496c-b58c-81665ecd7bd1",
        "colab": {
          "base_uri": "https://localhost:8080/",
          "height": 34
        }
      },
      "source": [
        "# standard imports\n",
        "import os\n",
        "import pandas as pd\n",
        "import numpy as np\n",
        "import matplotlib.pyplot as plt\n",
        "import seaborn as sns\n",
        "import pickle\n",
        "\n",
        "%matplotlib inline\n",
        "\n",
        "# to mount our drive\n",
        "from google.colab import drive\n",
        "\n",
        "# import keras stuff\n",
        "from keras.models import Sequential, load_model\n",
        "from keras.layers.core import Dense, Dropout, Activation, Flatten\n",
        "from keras.layers.convolutional import Convolution3D, MaxPooling3D, Convolution1D\n",
        "from keras.layers.normalization import BatchNormalization\n",
        "from keras.optimizers import SGD, RMSprop, Adam\n",
        "from keras.utils import np_utils, generic_utils, to_categorical\n",
        "from keras.layers import LeakyReLU\n",
        "from keras import regularizers\n",
        "\n",
        "# to test our dataset\n",
        "from sklearn.metrics import accuracy_score\n",
        "from sklearn.model_selection import train_test_split"
      ],
      "execution_count": 4,
      "outputs": [
        {
          "output_type": "stream",
          "text": [
            "Using TensorFlow backend.\n"
          ],
          "name": "stderr"
        }
      ]
    },
    {
      "cell_type": "code",
      "metadata": {
        "id": "MxZA0mr6rY-I",
        "colab_type": "code",
        "outputId": "159b67e6-67ae-4d23-96a6-1fb542d0f7cb",
        "colab": {
          "base_uri": "https://localhost:8080/",
          "height": 50
        }
      },
      "source": [
        "# mount google drive\n",
        "drive.mount('/content/gdrive')\n",
        "\n",
        "os.chdir('/content')\n",
        "\n",
        "# go to where the data is\n",
        "print (os.listdir())\n",
        "os.chdir('gdrive/My Drive/msc_project')"
      ],
      "execution_count": 6,
      "outputs": [
        {
          "output_type": "stream",
          "text": [
            "Drive already mounted at /content/gdrive; to attempt to forcibly remount, call drive.mount(\"/content/gdrive\", force_remount=True).\n",
            "['.config', 'gdrive', 'sample_data']\n"
          ],
          "name": "stdout"
        }
      ]
    },
    {
      "cell_type": "markdown",
      "metadata": {
        "id": "PJAxYlHFw1E7",
        "colab_type": "text"
      },
      "source": [
        "**Get our dataframe**"
      ]
    },
    {
      "cell_type": "code",
      "metadata": {
        "id": "GR3hQyFhnHe9",
        "colab_type": "code",
        "colab": {}
      },
      "source": [
        "stored_name = '10_v0'"
      ],
      "execution_count": 0,
      "outputs": []
    },
    {
      "cell_type": "code",
      "metadata": {
        "id": "Dwx-D2u7raid",
        "colab_type": "code",
        "outputId": "063d6c12-bf01-49b9-a51d-93fc6165cb62",
        "colab": {
          "base_uri": "https://localhost:8080/",
          "height": 195
        }
      },
      "source": [
        "# read metrics file, format: [val_loss,val_acc, train_loss, train_acc, test_loss, test_acc]\n",
        "metrics_df = pd.read_csv('stored_metrics_v2/metrics' +stored_name+'.csv', header=None)\n",
        "\n",
        "# relabel headers\n",
        "metrics_df.columns = ['val_loss', 'val_acc', 'train_loss', 'train_acc']\n",
        "metrics_df.head()"
      ],
      "execution_count": 66,
      "outputs": [
        {
          "output_type": "execute_result",
          "data": {
            "text/html": [
              "<div>\n",
              "<style scoped>\n",
              "    .dataframe tbody tr th:only-of-type {\n",
              "        vertical-align: middle;\n",
              "    }\n",
              "\n",
              "    .dataframe tbody tr th {\n",
              "        vertical-align: top;\n",
              "    }\n",
              "\n",
              "    .dataframe thead th {\n",
              "        text-align: right;\n",
              "    }\n",
              "</style>\n",
              "<table border=\"1\" class=\"dataframe\">\n",
              "  <thead>\n",
              "    <tr style=\"text-align: right;\">\n",
              "      <th></th>\n",
              "      <th>val_loss</th>\n",
              "      <th>val_acc</th>\n",
              "      <th>train_loss</th>\n",
              "      <th>train_acc</th>\n",
              "    </tr>\n",
              "  </thead>\n",
              "  <tbody>\n",
              "    <tr>\n",
              "      <th>0</th>\n",
              "      <td>1.014767</td>\n",
              "      <td>0.588235</td>\n",
              "      <td>1.100225</td>\n",
              "      <td>0.526882</td>\n",
              "    </tr>\n",
              "    <tr>\n",
              "      <th>1</th>\n",
              "      <td>0.955466</td>\n",
              "      <td>0.500000</td>\n",
              "      <td>1.098543</td>\n",
              "      <td>0.511628</td>\n",
              "    </tr>\n",
              "    <tr>\n",
              "      <th>2</th>\n",
              "      <td>0.752972</td>\n",
              "      <td>0.600000</td>\n",
              "      <td>1.110667</td>\n",
              "      <td>0.447059</td>\n",
              "    </tr>\n",
              "    <tr>\n",
              "      <th>3</th>\n",
              "      <td>0.822675</td>\n",
              "      <td>0.625000</td>\n",
              "      <td>0.700887</td>\n",
              "      <td>0.722222</td>\n",
              "    </tr>\n",
              "    <tr>\n",
              "      <th>4</th>\n",
              "      <td>0.863308</td>\n",
              "      <td>0.600000</td>\n",
              "      <td>0.873539</td>\n",
              "      <td>0.600000</td>\n",
              "    </tr>\n",
              "  </tbody>\n",
              "</table>\n",
              "</div>"
            ],
            "text/plain": [
              "   val_loss   val_acc  train_loss  train_acc\n",
              "0  1.014767  0.588235    1.100225   0.526882\n",
              "1  0.955466  0.500000    1.098543   0.511628\n",
              "2  0.752972  0.600000    1.110667   0.447059\n",
              "3  0.822675  0.625000    0.700887   0.722222\n",
              "4  0.863308  0.600000    0.873539   0.600000"
            ]
          },
          "metadata": {
            "tags": []
          },
          "execution_count": 66
        }
      ]
    },
    {
      "cell_type": "code",
      "metadata": {
        "id": "c92ZmPpTrkAy",
        "colab_type": "code",
        "outputId": "86a67c5e-f8f6-4a4c-a717-f863694c4a5b",
        "colab": {
          "base_uri": "https://localhost:8080/",
          "height": 195
        }
      },
      "source": [
        "# aggregate so we have the averages of each batch\n",
        "batch_mean_df = metrics_df.groupby(np.arange(len(metrics_df))//5).mean()\n",
        "\n",
        "# only want to take the last 30 (we only trained for 30 epochs, filter noise)\n",
        "batch_mean_df = batch_mean_df.tail(30)\n",
        "batch_mean_df.head()"
      ],
      "execution_count": 67,
      "outputs": [
        {
          "output_type": "execute_result",
          "data": {
            "text/html": [
              "<div>\n",
              "<style scoped>\n",
              "    .dataframe tbody tr th:only-of-type {\n",
              "        vertical-align: middle;\n",
              "    }\n",
              "\n",
              "    .dataframe tbody tr th {\n",
              "        vertical-align: top;\n",
              "    }\n",
              "\n",
              "    .dataframe thead th {\n",
              "        text-align: right;\n",
              "    }\n",
              "</style>\n",
              "<table border=\"1\" class=\"dataframe\">\n",
              "  <thead>\n",
              "    <tr style=\"text-align: right;\">\n",
              "      <th></th>\n",
              "      <th>val_loss</th>\n",
              "      <th>val_acc</th>\n",
              "      <th>train_loss</th>\n",
              "      <th>train_acc</th>\n",
              "    </tr>\n",
              "  </thead>\n",
              "  <tbody>\n",
              "    <tr>\n",
              "      <th>0</th>\n",
              "      <td>0.881838</td>\n",
              "      <td>0.582647</td>\n",
              "      <td>0.976772</td>\n",
              "      <td>0.561558</td>\n",
              "    </tr>\n",
              "    <tr>\n",
              "      <th>1</th>\n",
              "      <td>0.813503</td>\n",
              "      <td>0.496912</td>\n",
              "      <td>0.912989</td>\n",
              "      <td>0.563490</td>\n",
              "    </tr>\n",
              "    <tr>\n",
              "      <th>2</th>\n",
              "      <td>0.809955</td>\n",
              "      <td>0.515980</td>\n",
              "      <td>0.705584</td>\n",
              "      <td>0.652272</td>\n",
              "    </tr>\n",
              "    <tr>\n",
              "      <th>3</th>\n",
              "      <td>0.723735</td>\n",
              "      <td>0.585245</td>\n",
              "      <td>0.615742</td>\n",
              "      <td>0.660070</td>\n",
              "    </tr>\n",
              "    <tr>\n",
              "      <th>4</th>\n",
              "      <td>0.631540</td>\n",
              "      <td>0.628125</td>\n",
              "      <td>0.436308</td>\n",
              "      <td>0.800323</td>\n",
              "    </tr>\n",
              "  </tbody>\n",
              "</table>\n",
              "</div>"
            ],
            "text/plain": [
              "   val_loss   val_acc  train_loss  train_acc\n",
              "0  0.881838  0.582647    0.976772   0.561558\n",
              "1  0.813503  0.496912    0.912989   0.563490\n",
              "2  0.809955  0.515980    0.705584   0.652272\n",
              "3  0.723735  0.585245    0.615742   0.660070\n",
              "4  0.631540  0.628125    0.436308   0.800323"
            ]
          },
          "metadata": {
            "tags": []
          },
          "execution_count": 67
        }
      ]
    },
    {
      "cell_type": "markdown",
      "metadata": {
        "id": "85FKNx7zsld8",
        "colab_type": "text"
      },
      "source": [
        "**Below is the performance of our train/test/validation sets, quite impressive**"
      ]
    },
    {
      "cell_type": "code",
      "metadata": {
        "id": "lZFlXCf4rlFo",
        "colab_type": "code",
        "outputId": "48db121a-0b26-4f97-a13a-733ee82b2882",
        "colab": {
          "base_uri": "https://localhost:8080/",
          "height": 101
        }
      },
      "source": [
        "# get the final output (model at end)\n",
        "batch_mean_df.iloc[-1,:]"
      ],
      "execution_count": 68,
      "outputs": [
        {
          "output_type": "execute_result",
          "data": {
            "text/plain": [
              "val_loss      0.631540\n",
              "val_acc       0.628125\n",
              "train_loss    0.436308\n",
              "train_acc     0.800323\n",
              "Name: 4, dtype: float64"
            ]
          },
          "metadata": {
            "tags": []
          },
          "execution_count": 68
        }
      ]
    },
    {
      "cell_type": "markdown",
      "metadata": {
        "id": "6QZMk_jxsh0z",
        "colab_type": "text"
      },
      "source": [
        "**Plot accuracy and noise for train/test/validation sets**"
      ]
    },
    {
      "cell_type": "code",
      "metadata": {
        "id": "64MulflWrmMz",
        "colab_type": "code",
        "outputId": "01a7d853-a2ff-4763-c572-403fe44d842f",
        "colab": {
          "base_uri": "https://localhost:8080/",
          "height": 295
        }
      },
      "source": [
        "# plotting the accuracy\n",
        "plt.plot(batch_mean_df.val_acc.values, label='val_acc', ls='-')\n",
        "plt.plot(batch_mean_df.train_acc.values, label='train_acc', ls='-.')\n",
        "\n",
        "plt.xlabel('Epochs')\n",
        "plt.ylabel('Accuracy')\n",
        "plt.title('Accuracy ')\n",
        "\n",
        "plt.legend(loc='best')\n",
        "\n",
        "plt.show()"
      ],
      "execution_count": 69,
      "outputs": [
        {
          "output_type": "display_data",
          "data": {
            "image/png": "[encoded data removed]",
            "text/plain": [
              "<Figure size 432x288 with 1 Axes>"
            ]
          },
          "metadata": {
            "tags": []
          }
        }
      ]
    },
    {
      "cell_type": "code",
      "metadata": {
        "id": "dlbHDRlorn97",
        "colab_type": "code",
        "outputId": "25345d6b-841b-4490-c9ab-62fb8364ba2a",
        "colab": {
          "base_uri": "https://localhost:8080/",
          "height": 283
        }
      },
      "source": [
        "# plotting the loss\n",
        "plt.plot(batch_mean_df.val_loss.values, label='val_loss', ls='-')\n",
        "plt.plot(batch_mean_df.train_loss.values, label='train_loss', ls='-.')\n",
        "\n",
        "plt.xlabel('Epochs')\n",
        "plt.ylabel('Loss')\n",
        "\n",
        "plt.legend(loc='best')\n",
        "\n",
        "plt.show()"
      ],
      "execution_count": 70,
      "outputs": [
        {
          "output_type": "display_data",
          "data": {
            "image/png": "[encoded data removed]",
            "text/plain": [
              "<Figure size 432x288 with 1 Axes>"
            ]
          },
          "metadata": {
            "tags": []
          }
        }
      ]
    },
    {
      "cell_type": "markdown",
      "metadata": {
        "id": "Gr4ccDpxgc1V",
        "colab_type": "text"
      },
      "source": [
        "**Load model and test with the final dataset**"
      ]
    },
    {
      "cell_type": "code",
      "metadata": {
        "id": "u1ylcABcruFc",
        "colab_type": "code",
        "colab": {}
      },
      "source": [
        "# load our pickle batch of data\n",
        "with open('stored_batches/total_slices_batch6.pkl', 'rb') as f: # also 'total_slices_all.pkl'\n",
        "  total_slices, total_slices_info = pickle.load(f) # stored_batches/total_slices_batch5\n",
        "  \n",
        "# load our model\n",
        "model = load_model('stored_models_v2/model'+stored_name+'.h5')"
      ],
      "execution_count": 0,
      "outputs": []
    },
    {
      "cell_type": "code",
      "metadata": {
        "id": "hG8Yx2T5gkjs",
        "colab_type": "code",
        "colab": {}
      },
      "source": [
        "# gets our y-values and converts to keras, one hot encoded outputs\n",
        "def get_y_values(total_slices_info):\n",
        "  \n",
        "  y_values = [s[2] for s in total_slices_info]\n",
        "\n",
        "  y_values = np.array(to_categorical(y_values, 2))\n",
        "  \n",
        "  return y_values"
      ],
      "execution_count": 0,
      "outputs": []
    },
    {
      "cell_type": "code",
      "metadata": {
        "id": "A_e-doC81xLi",
        "colab_type": "code",
        "colab": {
          "base_uri": "https://localhost:8080/",
          "height": 34
        },
        "outputId": "f7fcb834-10f9-45f8-f920-65c48a879279"
      },
      "source": [
        "np.unique([s[2] for s in total_slices_info], return_counts=True) # look at distribution of patients"
      ],
      "execution_count": 76,
      "outputs": [
        {
          "output_type": "execute_result",
          "data": {
            "text/plain": [
              "(array([0, 1]), array([40, 62]))"
            ]
          },
          "metadata": {
            "tags": []
          },
          "execution_count": 76
        }
      ]
    },
    {
      "cell_type": "code",
      "metadata": {
        "id": "VOmVLaoXsjUO",
        "colab_type": "code",
        "colab": {}
      },
      "source": [
        "# get y values\n",
        "y_values = get_y_values(total_slices_info)\n",
        "\n",
        "# turn into a numpy array\n",
        "total_slices = np.array(total_slices)"
      ],
      "execution_count": 0,
      "outputs": []
    },
    {
      "cell_type": "code",
      "metadata": {
        "id": "2lHSWkz1xBf8",
        "colab_type": "code",
        "colab": {
          "base_uri": "https://localhost:8080/",
          "height": 202
        },
        "outputId": "d0a46104-3263-4ca9-ca20-ab1fcfaf1944"
      },
      "source": [
        "## Build function to load and build score on the fly then aggregate\n",
        "\n",
        "# Split to 10 chunks of 10\n",
        "sub_arrays = np.split(total_slices[:100], 10)\n",
        "sub_y_values = np.split(y_values[:100], 10)\n",
        "\n",
        "score_sum = []\n",
        "acc_sum = []\n",
        "# run through model and test\n",
        "for i in range(len(sub_arrays)):\n",
        "  sub_array = sub_arrays[i]\n",
        "  sub_y_value = sub_y_values[i]\n",
        "  \n",
        "  score, acc = model.evaluate(sub_array, sub_y_value)\n",
        "  score_sum.append(score)\n",
        "  acc_sum.append(acc)\n",
        "  \n",
        "# get average values\n",
        "mean_score = np.mean(score_sum)\n",
        "mean_acc = np.mean(acc_sum)\n",
        "\n",
        "print (\"The score of the model: %f, The accuracy of the model: %f\" % (mean_score, acc))"
      ],
      "execution_count": 78,
      "outputs": [
        {
          "output_type": "stream",
          "text": [
            "10/10 [==============================] - 30s 3s/step\n",
            "10/10 [==============================] - 27s 3s/step\n",
            "10/10 [==============================] - 27s 3s/step\n",
            "10/10 [==============================] - 28s 3s/step\n",
            "10/10 [==============================] - 26s 3s/step\n",
            "10/10 [==============================] - 27s 3s/step\n",
            "10/10 [==============================] - 26s 3s/step\n",
            "10/10 [==============================] - 26s 3s/step\n",
            "10/10 [==============================] - 26s 3s/step\n",
            "10/10 [==============================] - 27s 3s/step\n",
            "The score of the model: 0.840577, The accuracy of the model: 0.400000\n"
          ],
          "name": "stdout"
        }
      ]
    },
    {
      "cell_type": "code",
      "metadata": {
        "id": "2rEdqgEHybmc",
        "colab_type": "code",
        "colab": {}
      },
      "source": [
        ""
      ],
      "execution_count": 0,
      "outputs": []
    }
  ]
}