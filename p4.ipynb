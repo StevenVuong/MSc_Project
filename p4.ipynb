{
  "nbformat": 4,
  "nbformat_minor": 0,
  "metadata": {
    "colab": {
      "name": "p4.ipynb",
      "version": "0.3.2",
      "provenance": [],
      "collapsed_sections": [],
      "include_colab_link": true
    },
    "kernelspec": {
      "name": "python3",
      "display_name": "Python 3"
    }
  },
  "cells": [
    {
      "cell_type": "markdown",
      "metadata": {
        "id": "view-in-github",
        "colab_type": "text"
      },
      "source": [
        "<a href=\"https://colab.research.google.com/github/StevenVuong/MSc_Project/blob/master/p4.ipynb\" target=\"_parent\"><img src=\"https://colab.research.google.com/assets/colab-badge.svg\" alt=\"Open In Colab\"/></a>"
      ]
    },
    {
      "cell_type": "markdown",
      "metadata": {
        "id": "EET-cWP45BtV",
        "colab_type": "text"
      },
      "source": [
        "**This notebook is meant for the analysis and comparison of the different models and parameter selections**"
      ]
    },
    {
      "cell_type": "code",
      "metadata": {
        "id": "dTyueUih4_r_",
        "colab_type": "code",
        "colab": {}
      },
      "source": [
        "# standard imports\n",
        "import os\n",
        "import pandas as pd\n",
        "import numpy as np\n",
        "import matplotlib.pyplot as plt\n",
        "import seaborn as sns\n",
        "\n",
        "%matplotlib inline\n",
        "\n",
        "# to mount our drive\n",
        "from google.colab import drive"
      ],
      "execution_count": 0,
      "outputs": []
    },
    {
      "cell_type": "code",
      "metadata": {
        "id": "MxZA0mr6rY-I",
        "colab_type": "code",
        "colab": {
          "base_uri": "https://localhost:8080/",
          "height": 138
        },
        "outputId": "7c1acf81-e9d5-433f-b80b-39d557d2c3ce"
      },
      "source": [
        "# mount google drive\n",
        "drive.mount('/content/gdrive')\n",
        "\n",
        "os.chdir('/content')\n",
        "\n",
        "# go to where the data is\n",
        "print (os.listdir())\n",
        "os.chdir('gdrive/My Drive/msc_project')"
      ],
      "execution_count": 2,
      "outputs": [
        {
          "output_type": "stream",
          "text": [
            "Go to this URL in a browser: https://accounts.google.com/o/oauth2/auth?client_id=947318989803-6bn6qk8qdgf4n4g3pfee6491hc0brc4i.apps.googleusercontent.com&redirect_uri=urn%3Aietf%3Awg%3Aoauth%3A2.0%3Aoob&scope=email%20https%3A%2F%2Fwww.googleapis.com%2Fauth%2Fdocs.test%20https%3A%2F%2Fwww.googleapis.com%2Fauth%2Fdrive%20https%3A%2F%2Fwww.googleapis.com%2Fauth%2Fdrive.photos.readonly%20https%3A%2F%2Fwww.googleapis.com%2Fauth%2Fpeopleapi.readonly&response_type=code\n",
            "\n",
            "Enter your authorization code:\n",
            "··········\n",
            "Mounted at /content/gdrive\n",
            "['.config', 'gdrive', 'sample_data']\n"
          ],
          "name": "stdout"
        }
      ]
    },
    {
      "cell_type": "code",
      "metadata": {
        "id": "Dwx-D2u7raid",
        "colab_type": "code",
        "colab": {
          "base_uri": "https://localhost:8080/",
          "height": 195
        },
        "outputId": "e9090b6b-dc27-4238-8962-43b7cd78fdd9"
      },
      "source": [
        "# read metrics file, format: [val_loss,val_acc, train_loss, train_acc, test_loss, test_acc]\n",
        "metrics_df = pd.read_csv('stored_metrics/metrics0.csv', header=None)\n",
        "\n",
        "# relabel headers\n",
        "metrics_df.columns = ['val_loss', 'val_acc', 'train_loss', 'train_acc', 'test_loss', 'test_acc']\n",
        "metrics_df.head()"
      ],
      "execution_count": 3,
      "outputs": [
        {
          "output_type": "execute_result",
          "data": {
            "text/html": [
              "<div>\n",
              "<style scoped>\n",
              "    .dataframe tbody tr th:only-of-type {\n",
              "        vertical-align: middle;\n",
              "    }\n",
              "\n",
              "    .dataframe tbody tr th {\n",
              "        vertical-align: top;\n",
              "    }\n",
              "\n",
              "    .dataframe thead th {\n",
              "        text-align: right;\n",
              "    }\n",
              "</style>\n",
              "<table border=\"1\" class=\"dataframe\">\n",
              "  <thead>\n",
              "    <tr style=\"text-align: right;\">\n",
              "      <th></th>\n",
              "      <th>val_loss</th>\n",
              "      <th>val_acc</th>\n",
              "      <th>train_loss</th>\n",
              "      <th>train_acc</th>\n",
              "      <th>test_loss</th>\n",
              "      <th>test_acc</th>\n",
              "    </tr>\n",
              "  </thead>\n",
              "  <tbody>\n",
              "    <tr>\n",
              "      <th>0</th>\n",
              "      <td>5.641333</td>\n",
              "      <td>0.650000</td>\n",
              "      <td>5.712752</td>\n",
              "      <td>0.645570</td>\n",
              "      <td>1.465282</td>\n",
              "      <td>0.909091</td>\n",
              "    </tr>\n",
              "    <tr>\n",
              "      <th>1</th>\n",
              "      <td>11.028171</td>\n",
              "      <td>0.315789</td>\n",
              "      <td>6.492011</td>\n",
              "      <td>0.597222</td>\n",
              "      <td>5.861125</td>\n",
              "      <td>0.636364</td>\n",
              "    </tr>\n",
              "    <tr>\n",
              "      <th>2</th>\n",
              "      <td>8.059048</td>\n",
              "      <td>0.500000</td>\n",
              "      <td>5.820423</td>\n",
              "      <td>0.638889</td>\n",
              "      <td>4.835429</td>\n",
              "      <td>0.700000</td>\n",
              "    </tr>\n",
              "    <tr>\n",
              "      <th>3</th>\n",
              "      <td>6.786567</td>\n",
              "      <td>0.578947</td>\n",
              "      <td>3.605364</td>\n",
              "      <td>0.776316</td>\n",
              "      <td>4.395844</td>\n",
              "      <td>0.727273</td>\n",
              "    </tr>\n",
              "    <tr>\n",
              "      <th>4</th>\n",
              "      <td>2.686349</td>\n",
              "      <td>0.833333</td>\n",
              "      <td>5.372699</td>\n",
              "      <td>0.666667</td>\n",
              "      <td>4.835429</td>\n",
              "      <td>0.700000</td>\n",
              "    </tr>\n",
              "  </tbody>\n",
              "</table>\n",
              "</div>"
            ],
            "text/plain": [
              "    val_loss   val_acc  train_loss  train_acc  test_loss  test_acc\n",
              "0   5.641333  0.650000    5.712752   0.645570   1.465282  0.909091\n",
              "1  11.028171  0.315789    6.492011   0.597222   5.861125  0.636364\n",
              "2   8.059048  0.500000    5.820423   0.638889   4.835429  0.700000\n",
              "3   6.786567  0.578947    3.605364   0.776316   4.395844  0.727273\n",
              "4   2.686349  0.833333    5.372699   0.666667   4.835429  0.700000"
            ]
          },
          "metadata": {
            "tags": []
          },
          "execution_count": 3
        }
      ]
    },
    {
      "cell_type": "code",
      "metadata": {
        "id": "c92ZmPpTrkAy",
        "colab_type": "code",
        "colab": {
          "base_uri": "https://localhost:8080/",
          "height": 195
        },
        "outputId": "42d376f4-9a7f-45d7-e609-aed49921c5da"
      },
      "source": [
        "# aggregate so we have the averages of each batch\n",
        "batch_mean_df = metrics_df.groupby(np.arange(len(metrics_df))//5).mean()\n",
        "\n",
        "# only want to take the last 30 (we only trained for 30 epochs, filter noise)\n",
        "batch_mean_df = batch_mean_df.tail(30)\n",
        "batch_mean_df.head()"
      ],
      "execution_count": 12,
      "outputs": [
        {
          "output_type": "execute_result",
          "data": {
            "text/html": [
              "<div>\n",
              "<style scoped>\n",
              "    .dataframe tbody tr th:only-of-type {\n",
              "        vertical-align: middle;\n",
              "    }\n",
              "\n",
              "    .dataframe tbody tr th {\n",
              "        vertical-align: top;\n",
              "    }\n",
              "\n",
              "    .dataframe thead th {\n",
              "        text-align: right;\n",
              "    }\n",
              "</style>\n",
              "<table border=\"1\" class=\"dataframe\">\n",
              "  <thead>\n",
              "    <tr style=\"text-align: right;\">\n",
              "      <th></th>\n",
              "      <th>val_loss</th>\n",
              "      <th>val_acc</th>\n",
              "      <th>train_loss</th>\n",
              "      <th>train_acc</th>\n",
              "      <th>test_loss</th>\n",
              "      <th>test_acc</th>\n",
              "    </tr>\n",
              "  </thead>\n",
              "  <tbody>\n",
              "    <tr>\n",
              "      <th>46</th>\n",
              "      <td>1.271597</td>\n",
              "      <td>0.596023</td>\n",
              "      <td>0.942350</td>\n",
              "      <td>0.617333</td>\n",
              "      <td>1.522589</td>\n",
              "      <td>0.567273</td>\n",
              "    </tr>\n",
              "    <tr>\n",
              "      <th>47</th>\n",
              "      <td>0.697249</td>\n",
              "      <td>0.634327</td>\n",
              "      <td>0.768637</td>\n",
              "      <td>0.638125</td>\n",
              "      <td>0.762024</td>\n",
              "      <td>0.650909</td>\n",
              "    </tr>\n",
              "    <tr>\n",
              "      <th>48</th>\n",
              "      <td>0.661748</td>\n",
              "      <td>0.702047</td>\n",
              "      <td>0.579841</td>\n",
              "      <td>0.689833</td>\n",
              "      <td>0.815332</td>\n",
              "      <td>0.645455</td>\n",
              "    </tr>\n",
              "    <tr>\n",
              "      <th>49</th>\n",
              "      <td>0.542593</td>\n",
              "      <td>0.723158</td>\n",
              "      <td>0.628185</td>\n",
              "      <td>0.674974</td>\n",
              "      <td>0.675838</td>\n",
              "      <td>0.683636</td>\n",
              "    </tr>\n",
              "    <tr>\n",
              "      <th>50</th>\n",
              "      <td>0.727871</td>\n",
              "      <td>0.677427</td>\n",
              "      <td>0.525233</td>\n",
              "      <td>0.733232</td>\n",
              "      <td>0.549591</td>\n",
              "      <td>0.712727</td>\n",
              "    </tr>\n",
              "  </tbody>\n",
              "</table>\n",
              "</div>"
            ],
            "text/plain": [
              "    val_loss   val_acc  train_loss  train_acc  test_loss  test_acc\n",
              "46  1.271597  0.596023    0.942350   0.617333   1.522589  0.567273\n",
              "47  0.697249  0.634327    0.768637   0.638125   0.762024  0.650909\n",
              "48  0.661748  0.702047    0.579841   0.689833   0.815332  0.645455\n",
              "49  0.542593  0.723158    0.628185   0.674974   0.675838  0.683636\n",
              "50  0.727871  0.677427    0.525233   0.733232   0.549591  0.712727"
            ]
          },
          "metadata": {
            "tags": []
          },
          "execution_count": 12
        }
      ]
    },
    {
      "cell_type": "markdown",
      "metadata": {
        "id": "85FKNx7zsld8",
        "colab_type": "text"
      },
      "source": [
        "**Below is the performance of our train/test/validation sets, quite impressive**"
      ]
    },
    {
      "cell_type": "code",
      "metadata": {
        "id": "lZFlXCf4rlFo",
        "colab_type": "code",
        "colab": {
          "base_uri": "https://localhost:8080/",
          "height": 134
        },
        "outputId": "5c0e3187-0f1f-4481-9850-6f9748856b11"
      },
      "source": [
        "# get the final output (model at end)\n",
        "batch_mean_df.iloc[-1,:]"
      ],
      "execution_count": 13,
      "outputs": [
        {
          "output_type": "execute_result",
          "data": {
            "text/plain": [
              "val_loss      0.000795\n",
              "val_acc       1.000000\n",
              "train_loss    0.000753\n",
              "train_acc     1.000000\n",
              "test_loss     0.000631\n",
              "test_acc      1.000000\n",
              "Name: 75, dtype: float64"
            ]
          },
          "metadata": {
            "tags": []
          },
          "execution_count": 13
        }
      ]
    },
    {
      "cell_type": "markdown",
      "metadata": {
        "id": "6QZMk_jxsh0z",
        "colab_type": "text"
      },
      "source": [
        "**Plot accuracy and noise for train/test/validation sets**"
      ]
    },
    {
      "cell_type": "code",
      "metadata": {
        "id": "64MulflWrmMz",
        "colab_type": "code",
        "colab": {
          "base_uri": "https://localhost:8080/",
          "height": 295
        },
        "outputId": "8e55024d-0b95-4631-9f1a-2e93e26b1d8a"
      },
      "source": [
        "# plotting the accuracy\n",
        "plt.plot(batch_mean_df.val_acc.values, label='val_acc', ls='-')\n",
        "plt.plot(batch_mean_df.train_acc.values, label='train_acc', ls='-.')\n",
        "plt.plot(batch_mean_df.test_acc.values, label='test_acc', ls='--')\n",
        "\n",
        "plt.xlabel('Epochs')\n",
        "plt.ylabel('Accuracy')\n",
        "plt.title('Accuracy ')\n",
        "\n",
        "plt.legend(loc='lower left')\n",
        "\n",
        "plt.show()"
      ],
      "execution_count": 14,
      "outputs": [
        {
          "output_type": "display_data",
          "data": {
            "image/png": "[encoded data removed]",
            "text/plain": [
              "<Figure size 432x288 with 1 Axes>"
            ]
          },
          "metadata": {
            "tags": []
          }
        }
      ]
    },
    {
      "cell_type": "code",
      "metadata": {
        "id": "dlbHDRlorn97",
        "colab_type": "code",
        "colab": {
          "base_uri": "https://localhost:8080/",
          "height": 284
        },
        "outputId": "84cf1716-612c-4692-b499-79b26cc65ff0"
      },
      "source": [
        "# plotting the loss\n",
        "plt.plot(batch_mean_df.val_loss.values, label='val_loss', ls='-')\n",
        "plt.plot(batch_mean_df.train_loss.values, label='train_loss', ls='-.')\n",
        "plt.plot(batch_mean_df.test_loss.values, label='test_loss', ls='--')\n",
        "\n",
        "plt.xlabel('Epochs')\n",
        "plt.ylabel('Loss')\n",
        "\n",
        "plt.legend(loc='upper left')\n",
        "\n",
        "plt.show()"
      ],
      "execution_count": 15,
      "outputs": [
        {
          "output_type": "display_data",
          "data": {
            "image/png": "[encoded data removed]",
            "text/plain": [
              "<Figure size 432x288 with 1 Axes>"
            ]
          },
          "metadata": {
            "tags": []
          }
        }
      ]
    },
    {
      "cell_type": "code",
      "metadata": {
        "id": "u1ylcABcruFc",
        "colab_type": "code",
        "colab": {}
      },
      "source": [
        ""
      ],
      "execution_count": 0,
      "outputs": []
    }
  ]
}