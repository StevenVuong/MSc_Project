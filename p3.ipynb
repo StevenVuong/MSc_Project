{
  "nbformat": 4,
  "nbformat_minor": 0,
  "metadata": {
    "colab": {
      "name": "p3.ipynb",
      "version": "0.3.2",
      "provenance": [],
      "collapsed_sections": [],
      "include_colab_link": true
    },
    "kernelspec": {
      "name": "python3",
      "display_name": "Python 3"
    },
    "accelerator": "GPU"
  },
  "cells": [
    {
      "cell_type": "markdown",
      "metadata": {
        "id": "view-in-github",
        "colab_type": "text"
      },
      "source": [
        "<a href=\"https://colab.research.google.com/github/StevenVuong/MSc_Project/blob/master/p3.ipynb\" target=\"_parent\"><img src=\"https://colab.research.google.com/assets/colab-badge.svg\" alt=\"Open In Colab\"/></a>"
      ]
    },
    {
      "cell_type": "markdown",
      "metadata": {
        "id": "EcuiN5_8q_e4",
        "colab_type": "text"
      },
      "source": [
        "**This notebook aims to bring together the df and loaded files to implement them in a Deep Learning Model**"
      ]
    },
    {
      "cell_type": "code",
      "metadata": {
        "id": "JM87-rK6n03g",
        "colab_type": "code",
        "outputId": "e22de7c1-e361-4985-dd06-3fa5c44ee9e4",
        "colab": {
          "base_uri": "https://localhost:8080/",
          "height": 578
        }
      },
      "source": [
        "!pip install talos"
      ],
      "execution_count": 13,
      "outputs": [
        {
          "output_type": "stream",
          "text": [
            "Requirement already satisfied: talos in /usr/local/lib/python3.6/dist-packages (0.4.9)\n",
            "Requirement already satisfied: numpy in /usr/local/lib/python3.6/dist-packages (from talos) (1.16.4)\n",
            "Requirement already satisfied: wrangle in /usr/local/lib/python3.6/dist-packages (from talos) (0.6.4)\n",
            "Requirement already satisfied: tqdm in /usr/local/lib/python3.6/dist-packages (from talos) (4.28.1)\n",
            "Requirement already satisfied: requests in /usr/local/lib/python3.6/dist-packages (from talos) (2.21.0)\n",
            "Requirement already satisfied: kerasplotlib in /usr/local/lib/python3.6/dist-packages (from talos) (0.1.4)\n",
            "Requirement already satisfied: astetik in /usr/local/lib/python3.6/dist-packages (from talos) (1.9.8)\n",
            "Requirement already satisfied: sklearn in /usr/local/lib/python3.6/dist-packages (from talos) (0.0)\n",
            "Requirement already satisfied: chances in /usr/local/lib/python3.6/dist-packages (from talos) (0.1.6)\n",
            "Requirement already satisfied: pandas in /usr/local/lib/python3.6/dist-packages (from talos) (0.24.2)\n",
            "Requirement already satisfied: keras in /usr/local/lib/python3.6/dist-packages (from talos) (2.2.4)\n",
            "Requirement already satisfied: scipy==1.2 in /usr/local/lib/python3.6/dist-packages (from wrangle->talos) (1.2.0)\n",
            "Requirement already satisfied: statsmodels in /usr/local/lib/python3.6/dist-packages (from wrangle->talos) (0.9.0)\n",
            "Requirement already satisfied: chardet<3.1.0,>=3.0.2 in /usr/local/lib/python3.6/dist-packages (from requests->talos) (3.0.4)\n",
            "Requirement already satisfied: urllib3<1.25,>=1.21.1 in /usr/local/lib/python3.6/dist-packages (from requests->talos) (1.24.3)\n",
            "Requirement already satisfied: idna<2.9,>=2.5 in /usr/local/lib/python3.6/dist-packages (from requests->talos) (2.8)\n",
            "Requirement already satisfied: certifi>=2017.4.17 in /usr/local/lib/python3.6/dist-packages (from requests->talos) (2019.3.9)\n",
            "Requirement already satisfied: geonamescache in /usr/local/lib/python3.6/dist-packages (from astetik->talos) (1.0.2)\n",
            "Requirement already satisfied: scikit-learn in /usr/local/lib/python3.6/dist-packages (from sklearn->talos) (0.21.2)\n",
            "Requirement already satisfied: matplotlib==2.2.3 in /usr/local/lib/python3.6/dist-packages (from chances->talos) (2.2.3)\n",
            "Requirement already satisfied: python-dateutil>=2.5.0 in /usr/local/lib/python3.6/dist-packages (from pandas->talos) (2.5.3)\n",
            "Requirement already satisfied: pytz>=2011k in /usr/local/lib/python3.6/dist-packages (from pandas->talos) (2018.9)\n",
            "Requirement already satisfied: pyyaml in /usr/local/lib/python3.6/dist-packages (from keras->talos) (3.13)\n",
            "Requirement already satisfied: keras-applications>=1.0.6 in /usr/local/lib/python3.6/dist-packages (from keras->talos) (1.0.7)\n",
            "Requirement already satisfied: h5py in /usr/local/lib/python3.6/dist-packages (from keras->talos) (2.8.0)\n",
            "Requirement already satisfied: six>=1.9.0 in /usr/local/lib/python3.6/dist-packages (from keras->talos) (1.12.0)\n",
            "Requirement already satisfied: keras-preprocessing>=1.0.5 in /usr/local/lib/python3.6/dist-packages (from keras->talos) (1.0.9)\n",
            "Requirement already satisfied: patsy in /usr/local/lib/python3.6/dist-packages (from statsmodels->wrangle->talos) (0.5.1)\n",
            "Requirement already satisfied: joblib>=0.11 in /usr/local/lib/python3.6/dist-packages (from scikit-learn->sklearn->talos) (0.13.2)\n",
            "Requirement already satisfied: cycler>=0.10 in /usr/local/lib/python3.6/dist-packages (from matplotlib==2.2.3->chances->talos) (0.10.0)\n",
            "Requirement already satisfied: kiwisolver>=1.0.1 in /usr/local/lib/python3.6/dist-packages (from matplotlib==2.2.3->chances->talos) (1.1.0)\n",
            "Requirement already satisfied: pyparsing!=2.0.4,!=2.1.2,!=2.1.6,>=2.0.1 in /usr/local/lib/python3.6/dist-packages (from matplotlib==2.2.3->chances->talos) (2.4.0)\n",
            "Requirement already satisfied: setuptools in /usr/local/lib/python3.6/dist-packages (from kiwisolver>=1.0.1->matplotlib==2.2.3->chances->talos) (41.0.1)\n"
          ],
          "name": "stdout"
        }
      ]
    },
    {
      "cell_type": "code",
      "metadata": {
        "id": "HRYoomKprOlj",
        "colab_type": "code",
        "colab": {}
      },
      "source": [
        "import pandas as pd\n",
        "import numpy as np\n",
        "import matplotlib.pyplot as plt\n",
        "%matplotlib inline\n",
        "import os\n",
        "import pickle\n",
        "from sklearn.model_selection import train_test_split\n",
        "import nibabel as nb\n",
        "import seaborn as sns"
      ],
      "execution_count": 0,
      "outputs": []
    },
    {
      "cell_type": "code",
      "metadata": {
        "id": "sOGUaJQYz0hb",
        "colab_type": "code",
        "colab": {}
      },
      "source": [
        "# imports for keras model\n",
        "from keras.models import Sequential\n",
        "from keras.layers.core import Dense, Dropout, Activation, Flatten\n",
        "from keras.layers.convolutional import Convolution3D, MaxPooling3D\n",
        "from keras.layers.normalization import BatchNormalization\n",
        "from keras.optimizers import SGD, RMSprop, Adam\n",
        "from keras.utils import np_utils, generic_utils\n",
        "from keras.layers import LeakyReLU\n",
        "\n",
        "# imports for automated parameter tuning\n",
        "import talos as ta\n",
        "from talos.metrics.keras_metrics import fmeasure_acc\n",
        "from talos import live"
      ],
      "execution_count": 0,
      "outputs": []
    },
    {
      "cell_type": "code",
      "metadata": {
        "id": "Lcp0O27gq7rM",
        "colab_type": "code",
        "outputId": "d6e35af1-2a87-4cf9-a78b-41bec1db36c7",
        "colab": {
          "base_uri": "https://localhost:8080/",
          "height": 51
        }
      },
      "source": [
        "from google.colab import drive\n",
        "\n",
        "# mount google drive into google colab\n",
        "drive.mount('/content/gdrive')\n",
        "\n",
        "os.chdir('/content')\n",
        "\n",
        "# go to where the data is\n",
        "print (os.listdir())\n",
        "os.chdir('gdrive/My Drive/msc_project')"
      ],
      "execution_count": 16,
      "outputs": [
        {
          "output_type": "stream",
          "text": [
            "Drive already mounted at /content/gdrive; to attempt to forcibly remount, call drive.mount(\"/content/gdrive\", force_remount=True).\n",
            "['.config', 'gdrive', 'sample_data']\n"
          ],
          "name": "stdout"
        }
      ]
    },
    {
      "cell_type": "markdown",
      "metadata": {
        "id": "uNO8nIA0rr_J",
        "colab_type": "text"
      },
      "source": [
        "**Load Dataframe and Pickle**"
      ]
    },
    {
      "cell_type": "code",
      "metadata": {
        "id": "RpCBM2asrNEX",
        "colab_type": "code",
        "colab": {}
      },
      "source": [
        "patient_df = pd.read_pickle('processed_patient_df.pkl')\n",
        "\n",
        "with open('total_slices_all.pkl', 'rb') as f:\n",
        "    total_slices, total_slices_info = pickle.load(f)"
      ],
      "execution_count": 0,
      "outputs": []
    },
    {
      "cell_type": "code",
      "metadata": {
        "id": "KSXrUcCsaZPB",
        "colab_type": "code",
        "colab": {
          "base_uri": "https://localhost:8080/",
          "height": 204
        },
        "outputId": "18b8e8d0-5214-4734-a7df-cac9c72148a6"
      },
      "source": [
        "# establish control and pd df's\n",
        "df_control = patient_df[patient_df.Group == 0] \n",
        "df_pd = patient_df[patient_df.Group == 1] \n",
        "\n",
        "patient_df.head()"
      ],
      "execution_count": 37,
      "outputs": [
        {
          "output_type": "execute_result",
          "data": {
            "text/html": [
              "<div>\n",
              "<style scoped>\n",
              "    .dataframe tbody tr th:only-of-type {\n",
              "        vertical-align: middle;\n",
              "    }\n",
              "\n",
              "    .dataframe tbody tr th {\n",
              "        vertical-align: top;\n",
              "    }\n",
              "\n",
              "    .dataframe thead th {\n",
              "        text-align: right;\n",
              "    }\n",
              "</style>\n",
              "<table border=\"1\" class=\"dataframe\">\n",
              "  <thead>\n",
              "    <tr style=\"text-align: right;\">\n",
              "      <th></th>\n",
              "      <th>Image Data ID</th>\n",
              "      <th>Subject</th>\n",
              "      <th>Group</th>\n",
              "      <th>Sex</th>\n",
              "      <th>Age</th>\n",
              "      <th>Visit</th>\n",
              "      <th>Modality</th>\n",
              "      <th>Description</th>\n",
              "      <th>Type</th>\n",
              "      <th>Acq Date</th>\n",
              "      <th>Format</th>\n",
              "      <th>Downloaded</th>\n",
              "    </tr>\n",
              "  </thead>\n",
              "  <tbody>\n",
              "    <tr>\n",
              "      <th>197</th>\n",
              "      <td>353477</td>\n",
              "      <td>3750</td>\n",
              "      <td>0</td>\n",
              "      <td>M</td>\n",
              "      <td>54</td>\n",
              "      <td>5</td>\n",
              "      <td>MRI</td>\n",
              "      <td>MPRAGE GRAPPA</td>\n",
              "      <td>Original</td>\n",
              "      <td>10/10/2012</td>\n",
              "      <td>DCM</td>\n",
              "      <td>NaN</td>\n",
              "    </tr>\n",
              "    <tr>\n",
              "      <th>198</th>\n",
              "      <td>368584</td>\n",
              "      <td>3638</td>\n",
              "      <td>1</td>\n",
              "      <td>M</td>\n",
              "      <td>66</td>\n",
              "      <td>1</td>\n",
              "      <td>MRI</td>\n",
              "      <td>SAG T1 3D MPRAGE</td>\n",
              "      <td>Original</td>\n",
              "      <td>4/02/2013</td>\n",
              "      <td>DCM</td>\n",
              "      <td>NaN</td>\n",
              "    </tr>\n",
              "    <tr>\n",
              "      <th>199</th>\n",
              "      <td>363979</td>\n",
              "      <td>3637</td>\n",
              "      <td>0</td>\n",
              "      <td>M</td>\n",
              "      <td>57</td>\n",
              "      <td>1</td>\n",
              "      <td>MRI</td>\n",
              "      <td>SAG T1 3D MPRAGE</td>\n",
              "      <td>Original</td>\n",
              "      <td>2/27/2013</td>\n",
              "      <td>DCM</td>\n",
              "      <td>NaN</td>\n",
              "    </tr>\n",
              "    <tr>\n",
              "      <th>200</th>\n",
              "      <td>362046</td>\n",
              "      <td>3636</td>\n",
              "      <td>0</td>\n",
              "      <td>M</td>\n",
              "      <td>64</td>\n",
              "      <td>1</td>\n",
              "      <td>MRI</td>\n",
              "      <td>SAG T1 3D MPRAGE</td>\n",
              "      <td>Original</td>\n",
              "      <td>2/22/2013</td>\n",
              "      <td>DCM</td>\n",
              "      <td>NaN</td>\n",
              "    </tr>\n",
              "    <tr>\n",
              "      <th>201</th>\n",
              "      <td>362045</td>\n",
              "      <td>3635</td>\n",
              "      <td>0</td>\n",
              "      <td>M</td>\n",
              "      <td>57</td>\n",
              "      <td>1</td>\n",
              "      <td>MRI</td>\n",
              "      <td>SAG T1 3D MPRAGE</td>\n",
              "      <td>Original</td>\n",
              "      <td>2/07/2013</td>\n",
              "      <td>DCM</td>\n",
              "      <td>NaN</td>\n",
              "    </tr>\n",
              "  </tbody>\n",
              "</table>\n",
              "</div>"
            ],
            "text/plain": [
              "     Image Data ID  Subject  Group Sex  ...      Type    Acq Date Format Downloaded\n",
              "197         353477     3750      0   M  ...  Original  10/10/2012    DCM        NaN\n",
              "198         368584     3638      1   M  ...  Original   4/02/2013    DCM        NaN\n",
              "199         363979     3637      0   M  ...  Original   2/27/2013    DCM        NaN\n",
              "200         362046     3636      0   M  ...  Original   2/22/2013    DCM        NaN\n",
              "201         362045     3635      0   M  ...  Original   2/07/2013    DCM        NaN\n",
              "\n",
              "[5 rows x 12 columns]"
            ]
          },
          "metadata": {
            "tags": []
          },
          "execution_count": 37
        }
      ]
    },
    {
      "cell_type": "markdown",
      "metadata": {
        "id": "USadebeguPrR",
        "colab_type": "text"
      },
      "source": [
        "**Split data into training and test set**"
      ]
    },
    {
      "cell_type": "code",
      "metadata": {
        "id": "VIcEIgKcuU1J",
        "colab_type": "code",
        "outputId": "35c0d192-561a-4495-8756-0bd041e3359a",
        "colab": {
          "base_uri": "https://localhost:8080/",
          "height": 34
        }
      },
      "source": [
        "from keras.utils import to_categorical\n",
        "\n",
        "def get_y_values(total_slices_info):\n",
        "  \n",
        "  y_values = [s[2] for s in total_slices_info]\n",
        "\n",
        "  # convert to 'keras friendly outputs'\n",
        "  y_values = np.array(to_categorical(y_values, 2))\n",
        "  \n",
        "  return y_values\n",
        "\n",
        "y_values = get_y_values(total_slices_info)\n",
        "\n",
        "# print distribution of the array\n",
        "num_controls = np.unique(y_values, return_counts=True)[1][0]\n",
        "num_pd = np.unique(y_values, return_counts=True)[1][1]\n",
        "\n",
        "pct_controls = (num_controls/ np.sum([num_controls, num_pd])) * 100\n",
        "pct_pd = (num_pd / np.sum([num_controls, num_pd])) * 100\n",
        "print (\"%s%% Control and %s%% PD\" % (pct_controls, pct_pd))"
      ],
      "execution_count": 18,
      "outputs": [
        {
          "output_type": "stream",
          "text": [
            "50.0% Control and 50.0% PD\n"
          ],
          "name": "stdout"
        }
      ]
    },
    {
      "cell_type": "code",
      "metadata": {
        "id": "auG6d1LMxD-M",
        "colab_type": "code",
        "outputId": "3f473ed5-1e43-4cc5-ff9b-c1031e202cd3",
        "colab": {
          "base_uri": "https://localhost:8080/",
          "height": 34
        }
      },
      "source": [
        "from sklearn.model_selection import train_test_split\n",
        "\n",
        "# split into training and test set\n",
        "X_train, X_test, y_train, y_test = train_test_split(total_slices, y_values, test_size=0.2, shuffle=True)\n",
        "\n",
        "np.shape(total_slices) # how many y-outputs"
      ],
      "execution_count": 19,
      "outputs": [
        {
          "output_type": "execute_result",
          "data": {
            "text/plain": [
              "(102, 200, 200, 160, 1)"
            ]
          },
          "metadata": {
            "tags": []
          },
          "execution_count": 19
        }
      ]
    },
    {
      "cell_type": "markdown",
      "metadata": {
        "id": "q1wiMiOZz3CM",
        "colab_type": "text"
      },
      "source": [
        "**Model Architecture**\n",
        "Could potentially split data into chunks of 50 post processing (randomly sample 50 at a time and save that for our data set), train model with one epoch per chunk and save in batches, save, continue etc.. Then once that is done then validate on one chunk that is left out. Saving different parameters in our deep learning framework"
      ]
    },
    {
      "cell_type": "code",
      "metadata": {
        "id": "QDZ2ihEFhjkT",
        "colab_type": "code",
        "colab": {
          "base_uri": "https://localhost:8080/",
          "height": 68
        },
        "outputId": "6ea956dc-e9bc-42d1-ab9f-ba1ff5bb21a6"
      },
      "source": [
        "# compile our model\n",
        "model = Sequential()\n",
        "\n",
        "model.add(Convolution3D(filters=8, kernel_size=2, padding='same', input_shape=(200,200,160,1))) # or should activation be linear?\n",
        "model.add(LeakyReLU(alpha=0.01)) # set to 0.01\n",
        "model.add(MaxPooling3D(pool_size=2)) # pool_size=2\n",
        "\n",
        "model.add(Convolution3D(filters=16, kernel_size=2))\n",
        "model.add(LeakyReLU(alpha=0.01)) \n",
        "model.add(MaxPooling3D(pool_size=2))\n",
        "\n",
        "model.add(Convolution3D(filters=32, kernel_size=3))\n",
        "model.add(LeakyReLU())\n",
        "model.add(MaxPooling3D(pool_size=2))\n",
        "\n",
        "model.add(Convolution3D(filters=64, kernel_size=3))\n",
        "model.add(LeakyReLU(alpha=0.01))\n",
        "model.add(MaxPooling3D(pool_size=2))\n",
        "\n",
        "model.add(Convolution3D(filters=128, kernel_size=2))\n",
        "model.add(LeakyReLU(alpha=0.01))\n",
        "model.add(MaxPooling3D(pool_size=2))\n",
        "\n",
        "model.add(Convolution3D(filters=256, kernel_size=2))\n",
        "model.add(LeakyReLU(alpha=0.01))\n",
        "model.add(MaxPooling3D(pool_size=2))\n",
        "\n",
        "model.add(Flatten())\n",
        "model.add(Dense(512))\n",
        "model.add(LeakyReLU(alpha=0.01))\n",
        "\n",
        "model.add(Dense(2, activation='softmax'))\n",
        "\n",
        "model.compile(optimizer=Adam(lr=0.00005), loss='categorical_crossentropy',metrics = ['accuracy']) # metrics=['categorical_accuracy']"
      ],
      "execution_count": 20,
      "outputs": [
        {
          "output_type": "stream",
          "text": [
            "WARNING:tensorflow:From /usr/local/lib/python3.6/dist-packages/tensorflow/python/framework/op_def_library.py:263: colocate_with (from tensorflow.python.framework.ops) is deprecated and will be removed in a future version.\n",
            "Instructions for updating:\n",
            "Colocations handled automatically by placer.\n"
          ],
          "name": "stdout"
        }
      ]
    },
    {
      "cell_type": "code",
      "metadata": {
        "id": "eVedtkSg1i4D",
        "colab_type": "code",
        "outputId": "c4d3ef84-d4f2-44c0-9528-92bdcac1beb6",
        "colab": {
          "base_uri": "https://localhost:8080/",
          "height": 884
        }
      },
      "source": [
        "# investigate what possible 'good' combinations are first..\n",
        "model.summary()"
      ],
      "execution_count": 21,
      "outputs": [
        {
          "output_type": "stream",
          "text": [
            "_________________________________________________________________\n",
            "Layer (type)                 Output Shape              Param #   \n",
            "=================================================================\n",
            "conv3d_1 (Conv3D)            (None, 200, 200, 160, 8)  72        \n",
            "_________________________________________________________________\n",
            "leaky_re_lu_1 (LeakyReLU)    (None, 200, 200, 160, 8)  0         \n",
            "_________________________________________________________________\n",
            "max_pooling3d_1 (MaxPooling3 (None, 100, 100, 80, 8)   0         \n",
            "_________________________________________________________________\n",
            "conv3d_2 (Conv3D)            (None, 99, 99, 79, 16)    1040      \n",
            "_________________________________________________________________\n",
            "leaky_re_lu_2 (LeakyReLU)    (None, 99, 99, 79, 16)    0         \n",
            "_________________________________________________________________\n",
            "max_pooling3d_2 (MaxPooling3 (None, 49, 49, 39, 16)    0         \n",
            "_________________________________________________________________\n",
            "conv3d_3 (Conv3D)            (None, 47, 47, 37, 32)    13856     \n",
            "_________________________________________________________________\n",
            "leaky_re_lu_3 (LeakyReLU)    (None, 47, 47, 37, 32)    0         \n",
            "_________________________________________________________________\n",
            "max_pooling3d_3 (MaxPooling3 (None, 23, 23, 18, 32)    0         \n",
            "_________________________________________________________________\n",
            "conv3d_4 (Conv3D)            (None, 21, 21, 16, 64)    55360     \n",
            "_________________________________________________________________\n",
            "leaky_re_lu_4 (LeakyReLU)    (None, 21, 21, 16, 64)    0         \n",
            "_________________________________________________________________\n",
            "max_pooling3d_4 (MaxPooling3 (None, 10, 10, 8, 64)     0         \n",
            "_________________________________________________________________\n",
            "conv3d_5 (Conv3D)            (None, 9, 9, 7, 128)      65664     \n",
            "_________________________________________________________________\n",
            "leaky_re_lu_5 (LeakyReLU)    (None, 9, 9, 7, 128)      0         \n",
            "_________________________________________________________________\n",
            "max_pooling3d_5 (MaxPooling3 (None, 4, 4, 3, 128)      0         \n",
            "_________________________________________________________________\n",
            "conv3d_6 (Conv3D)            (None, 3, 3, 2, 256)      262400    \n",
            "_________________________________________________________________\n",
            "leaky_re_lu_6 (LeakyReLU)    (None, 3, 3, 2, 256)      0         \n",
            "_________________________________________________________________\n",
            "max_pooling3d_6 (MaxPooling3 (None, 1, 1, 1, 256)      0         \n",
            "_________________________________________________________________\n",
            "flatten_1 (Flatten)          (None, 256)               0         \n",
            "_________________________________________________________________\n",
            "dense_1 (Dense)              (None, 512)               131584    \n",
            "_________________________________________________________________\n",
            "leaky_re_lu_7 (LeakyReLU)    (None, 512)               0         \n",
            "_________________________________________________________________\n",
            "dense_2 (Dense)              (None, 2)                 1026      \n",
            "=================================================================\n",
            "Total params: 531,002\n",
            "Trainable params: 531,002\n",
            "Non-trainable params: 0\n",
            "_________________________________________________________________\n"
          ],
          "name": "stdout"
        }
      ]
    },
    {
      "cell_type": "markdown",
      "metadata": {
        "id": "9jxY5Wi_KYm4",
        "colab_type": "text"
      },
      "source": [
        "**RUNNING THE MODEL!**"
      ]
    },
    {
      "cell_type": "code",
      "metadata": {
        "id": "4rCFD8VS1kMQ",
        "colab_type": "code",
        "outputId": "f23bdc17-0d93-40d7-c5b0-435d03315d45",
        "colab": {
          "base_uri": "https://localhost:8080/",
          "height": 151
        }
      },
      "source": [
        "model.fit(x=X_train, y=y_train, batch_size=5, epochs=3, verbose=1,\n",
        "          validation_split=0.2, shuffle=True)"
      ],
      "execution_count": 0,
      "outputs": [
        {
          "output_type": "stream",
          "text": [
            "Train on 64 samples, validate on 17 samples\n",
            "Epoch 1/3\n",
            "64/64 [==============================] - 15s 231ms/step - loss: 0.2362 - acc: 0.9063 - val_loss: 0.1131 - val_acc: 1.0000\n",
            "Epoch 2/3\n",
            "64/64 [==============================] - 7s 112ms/step - loss: 0.0904 - acc: 1.0000 - val_loss: 0.1627 - val_acc: 0.9412\n",
            "Epoch 3/3\n",
            "64/64 [==============================] - 7s 112ms/step - loss: 0.0784 - acc: 0.9844 - val_loss: 0.0873 - val_acc: 1.0000\n"
          ],
          "name": "stdout"
        },
        {
          "output_type": "execute_result",
          "data": {
            "text/plain": [
              "<keras.callbacks.History at 0x7f98a07cfbe0>"
            ]
          },
          "metadata": {
            "tags": []
          },
          "execution_count": 98
        }
      ]
    },
    {
      "cell_type": "code",
      "metadata": {
        "id": "IyqKXWl3NCRU",
        "colab_type": "code",
        "colab": {
          "base_uri": "https://localhost:8080/",
          "height": 85
        },
        "outputId": "55704dfa-5eb6-4e85-d7ad-bd5aabed8d58"
      },
      "source": [
        "from keras.models import load_model\n",
        "\n",
        "# load and run a saved model\n",
        "model = load_model('my_model.h5')"
      ],
      "execution_count": 23,
      "outputs": [
        {
          "output_type": "stream",
          "text": [
            "/content/gdrive/My Drive/msc_project\n",
            "WARNING:tensorflow:From /usr/local/lib/python3.6/dist-packages/tensorflow/python/ops/math_ops.py:3066: to_int32 (from tensorflow.python.ops.math_ops) is deprecated and will be removed in a future version.\n",
            "Instructions for updating:\n",
            "Use tf.cast instead.\n"
          ],
          "name": "stdout"
        }
      ]
    },
    {
      "cell_type": "code",
      "metadata": {
        "id": "A0b-HANx4nei",
        "colab_type": "code",
        "colab": {}
      },
      "source": [
        "# save the model to use in future\n",
        "# model.save('my_model.h5', overwrite=True)  # creates a HDF5 file 'my_model.h5'"
      ],
      "execution_count": 0,
      "outputs": []
    },
    {
      "cell_type": "code",
      "metadata": {
        "id": "v7X-HuBJ3Vs7",
        "colab_type": "code",
        "outputId": "f58fecaa-525b-4ae1-e427-89fc250f5a30",
        "colab": {
          "base_uri": "https://localhost:8080/",
          "height": 68
        }
      },
      "source": [
        "score = model.evaluate(X_test[:20], y_test[:20], verbose=1)\n",
        "print('Test score:', score[0])\n",
        "print('Test accuracy:', score[1])"
      ],
      "execution_count": 24,
      "outputs": [
        {
          "output_type": "stream",
          "text": [
            "\r20/20 [==============================] - 7s 361ms/step\n",
            "Test score: 0.10189323127269745\n",
            "Test accuracy: 0.949999988079071\n"
          ],
          "name": "stdout"
        }
      ]
    },
    {
      "cell_type": "markdown",
      "metadata": {
        "id": "Axei2GR6Ixew",
        "colab_type": "text"
      },
      "source": [
        "Next Steps: (Once we ge tthe whole data set)\n",
        "-  Add age and gender to FC layers\n",
        "-  Add Normalisation\n",
        "-  Add Bias and Kernel Regularisation (coefficient 0.001)\n",
        "-  Add Dropout layers to last two layers (Keep coefficient of 0.45 and 0.5)\n",
        "-  Change architecture / layers /parameters, increase filters then decrease again"
      ]
    },
    {
      "cell_type": "markdown",
      "metadata": {
        "id": "LkCX2iluV-Nf",
        "colab_type": "text"
      },
      "source": [
        "**VISUALISATIONS**"
      ]
    },
    {
      "cell_type": "code",
      "metadata": {
        "id": "vZEUjHKHaWf3",
        "colab_type": "code",
        "colab": {
          "base_uri": "https://localhost:8080/",
          "height": 295
        },
        "outputId": "cb7328eb-d1c6-4a8c-a183-ba05f0071e9a"
      },
      "source": [
        "# seaborn distribution plot of Age\n",
        "sns.distplot(df_control.Age, rug=False, label='Control')\n",
        "sns.distplot(df_pd.Age, rug=False, label='PD')\n",
        "plt.title('Distribution Plot of Age')\n",
        "plt.legend()\n",
        "plt.show() # pd has a slightly older distribution than control"
      ],
      "execution_count": 38,
      "outputs": [
        {
          "output_type": "display_data",
          "data": {
            "image/png": "[encoded data removed]",
            "text/plain": [
              "<Figure size 432x288 with 1 Axes>"
            ]
          },
          "metadata": {
            "tags": []
          }
        }
      ]
    },
    {
      "cell_type": "code",
      "metadata": {
        "id": "NXvuy6ombvTr",
        "colab_type": "code",
        "colab": {
          "base_uri": "https://localhost:8080/",
          "height": 295
        },
        "outputId": "35669f5b-b2db-45e8-a77d-7feed0b8b04f"
      },
      "source": [
        "# plot for the ages\n",
        "plt.hist(df_pd.Age, align='mid', alpha=0.25, color='r', label='pd', bins=10)\n",
        "plt.hist(df_control.Age, align='mid', alpha=0.25, color='b', label='control', bins=10)\n",
        "plt.legend(loc='upper left')\n",
        "\n",
        "# set labels\n",
        "plt.ylabel('Frequency')\n",
        "plt.xlabel('Age')\n",
        "plt.title('Frequency of Ages')\n",
        "\n",
        "# set ticks\n",
        "plt.xticks(np.arange(min(df_control.Age), max(df_control.Age)+1, 5.0))\n",
        "plt.show()"
      ],
      "execution_count": 39,
      "outputs": [
        {
          "output_type": "display_data",
          "data": {
            "image/png": "[encoded data removed]",
            "text/plain": [
              "<Figure size 432x288 with 1 Axes>"
            ]
          },
          "metadata": {
            "tags": []
          }
        }
      ]
    },
    {
      "cell_type": "code",
      "metadata": {
        "id": "pRNcDyxgbyB6",
        "colab_type": "code",
        "colab": {
          "base_uri": "https://localhost:8080/",
          "height": 300
        },
        "outputId": "73576088-cb17-4400-9b82-9c3a920ab167"
      },
      "source": [
        "# some boxplots\n",
        "sns.boxplot(x=\"Group\", y=\"Age\", data=patient_df)\n",
        "plt.legend()\n",
        "plt.xticks([0, 1], ['Control', 'PD'])\n",
        "\n",
        "plt.show()"
      ],
      "execution_count": 49,
      "outputs": [
        {
          "output_type": "stream",
          "text": [
            "No handles with labels found to put in legend.\n"
          ],
          "name": "stderr"
        },
        {
          "output_type": "display_data",
          "data": {
            "image/png": "[encoded data removed]",
            "text/plain": [
              "<Figure size 432x288 with 1 Axes>"
            ]
          },
          "metadata": {
            "tags": []
          }
        }
      ]
    },
    {
      "cell_type": "code",
      "metadata": {
        "id": "mOaWl-rDicJg",
        "colab_type": "code",
        "colab": {
          "base_uri": "https://localhost:8080/",
          "height": 85
        },
        "outputId": "d049ab12-56fc-4fed-e467-db96a1ee47c6"
      },
      "source": [
        "## Gender Distributions\n",
        "print (\"For Control:\")\n",
        "print (np.unique(df_control.Sex.values, return_counts=True))\n",
        "print (\"For PD\")\n",
        "print (np.unique(df_pd.Sex.values, return_counts=True)) # very visible from results males are more likely to get pd.."
      ],
      "execution_count": 50,
      "outputs": [
        {
          "output_type": "stream",
          "text": [
            "For Control:\n",
            "(array(['F', 'M'], dtype=object), array([15, 41]))\n",
            "For PD\n",
            "(array(['F', 'M'], dtype=object), array([46, 79]))\n"
          ],
          "name": "stdout"
        }
      ]
    },
    {
      "cell_type": "code",
      "metadata": {
        "id": "9y6CbQIuWKWu",
        "colab_type": "code",
        "colab": {
          "base_uri": "https://localhost:8080/",
          "height": 2222
        },
        "outputId": "6fccdfec-7cb0-4ea1-8f06-95a11e340211"
      },
      "source": [
        "from IPython.display import SVG\n",
        "from keras.utils.vis_utils import model_to_dot\n",
        "\n",
        "SVG(model_to_dot(model).create(prog='dot', format='svg'))"
      ],
      "execution_count": 26,
      "outputs": [
        {
          "output_type": "execute_result",
          "data": {
            "text/plain": [
              "<IPython.core.display.SVG object>"
            ],
            "image/svg+xml": "<svg height=\"1651pt\" viewBox=\"0.00 0.00 237.00 1651.00\" width=\"237pt\" xmlns=\"http://www.w3.org/2000/svg\" xmlns:xlink=\"http://www.w3.org/1999/xlink\">\n<g class=\"graph\" id=\"graph0\" transform=\"scale(1 1) rotate(0) translate(4 1647)\">\n<title>G</title>\n<polygon fill=\"#ffffff\" points=\"-4,4 -4,-1647 233,-1647 233,4 -4,4\" stroke=\"transparent\"/>\n<!-- 140348034405208 -->\n<g class=\"node\" id=\"node1\">\n<title>140348034405208</title>\n<polygon fill=\"none\" points=\"44.5,-1533.5 44.5,-1569.5 184.5,-1569.5 184.5,-1533.5 44.5,-1533.5\" stroke=\"#000000\"/>\n<text fill=\"#000000\" font-family=\"Times,serif\" font-size=\"14.00\" text-anchor=\"middle\" x=\"114.5\" y=\"-1547.8\">conv3d_73: Conv3D</text>\n</g>\n<!-- 140349346800136 -->\n<g class=\"node\" id=\"node2\">\n<title>140349346800136</title>\n<polygon fill=\"none\" points=\"22,-1460.5 22,-1496.5 207,-1496.5 207,-1460.5 22,-1460.5\" stroke=\"#000000\"/>\n<text fill=\"#000000\" font-family=\"Times,serif\" font-size=\"14.00\" text-anchor=\"middle\" x=\"114.5\" y=\"-1474.8\">leaky_re_lu_76: LeakyReLU</text>\n</g>\n<!-- 140348034405208&#45;&gt;140349346800136 -->\n<g class=\"edge\" id=\"edge2\">\n<title>140348034405208-&gt;140349346800136</title>\n<path d=\"M114.5,-1533.4551C114.5,-1525.3828 114.5,-1515.6764 114.5,-1506.6817\" fill=\"none\" stroke=\"#000000\"/>\n<polygon fill=\"#000000\" points=\"118.0001,-1506.5903 114.5,-1496.5904 111.0001,-1506.5904 118.0001,-1506.5903\" stroke=\"#000000\"/>\n</g>\n<!-- 140349346800752 -->\n<g class=\"node\" id=\"node3\">\n<title>140349346800752</title>\n<polygon fill=\"none\" points=\"0,-1387.5 0,-1423.5 229,-1423.5 229,-1387.5 0,-1387.5\" stroke=\"#000000\"/>\n<text fill=\"#000000\" font-family=\"Times,serif\" font-size=\"14.00\" text-anchor=\"middle\" x=\"114.5\" y=\"-1401.8\">max_pooling3d_70: MaxPooling3D</text>\n</g>\n<!-- 140349346800136&#45;&gt;140349346800752 -->\n<g class=\"edge\" id=\"edge3\">\n<title>140349346800136-&gt;140349346800752</title>\n<path d=\"M114.5,-1460.4551C114.5,-1452.3828 114.5,-1442.6764 114.5,-1433.6817\" fill=\"none\" stroke=\"#000000\"/>\n<polygon fill=\"#000000\" points=\"118.0001,-1433.5903 114.5,-1423.5904 111.0001,-1433.5904 118.0001,-1433.5903\" stroke=\"#000000\"/>\n</g>\n<!-- 140348033006672 -->\n<g class=\"node\" id=\"node4\">\n<title>140348033006672</title>\n<polygon fill=\"none\" points=\"44.5,-1314.5 44.5,-1350.5 184.5,-1350.5 184.5,-1314.5 44.5,-1314.5\" stroke=\"#000000\"/>\n<text fill=\"#000000\" font-family=\"Times,serif\" font-size=\"14.00\" text-anchor=\"middle\" x=\"114.5\" y=\"-1328.8\">conv3d_74: Conv3D</text>\n</g>\n<!-- 140349346800752&#45;&gt;140348033006672 -->\n<g class=\"edge\" id=\"edge4\">\n<title>140349346800752-&gt;140348033006672</title>\n<path d=\"M114.5,-1387.4551C114.5,-1379.3828 114.5,-1369.6764 114.5,-1360.6817\" fill=\"none\" stroke=\"#000000\"/>\n<polygon fill=\"#000000\" points=\"118.0001,-1360.5903 114.5,-1350.5904 111.0001,-1360.5904 118.0001,-1360.5903\" stroke=\"#000000\"/>\n</g>\n<!-- 140348031476568 -->\n<g class=\"node\" id=\"node5\">\n<title>140348031476568</title>\n<polygon fill=\"none\" points=\"22,-1241.5 22,-1277.5 207,-1277.5 207,-1241.5 22,-1241.5\" stroke=\"#000000\"/>\n<text fill=\"#000000\" font-family=\"Times,serif\" font-size=\"14.00\" text-anchor=\"middle\" x=\"114.5\" y=\"-1255.8\">leaky_re_lu_77: LeakyReLU</text>\n</g>\n<!-- 140348033006672&#45;&gt;140348031476568 -->\n<g class=\"edge\" id=\"edge5\">\n<title>140348033006672-&gt;140348031476568</title>\n<path d=\"M114.5,-1314.4551C114.5,-1306.3828 114.5,-1296.6764 114.5,-1287.6817\" fill=\"none\" stroke=\"#000000\"/>\n<polygon fill=\"#000000\" points=\"118.0001,-1287.5903 114.5,-1277.5904 111.0001,-1287.5904 118.0001,-1287.5903\" stroke=\"#000000\"/>\n</g>\n<!-- 140348031476736 -->\n<g class=\"node\" id=\"node6\">\n<title>140348031476736</title>\n<polygon fill=\"none\" points=\"0,-1168.5 0,-1204.5 229,-1204.5 229,-1168.5 0,-1168.5\" stroke=\"#000000\"/>\n<text fill=\"#000000\" font-family=\"Times,serif\" font-size=\"14.00\" text-anchor=\"middle\" x=\"114.5\" y=\"-1182.8\">max_pooling3d_71: MaxPooling3D</text>\n</g>\n<!-- 140348031476568&#45;&gt;140348031476736 -->\n<g class=\"edge\" id=\"edge6\">\n<title>140348031476568-&gt;140348031476736</title>\n<path d=\"M114.5,-1241.4551C114.5,-1233.3828 114.5,-1223.6764 114.5,-1214.6817\" fill=\"none\" stroke=\"#000000\"/>\n<polygon fill=\"#000000\" points=\"118.0001,-1214.5903 114.5,-1204.5904 111.0001,-1214.5904 118.0001,-1214.5903\" stroke=\"#000000\"/>\n</g>\n<!-- 140348031555064 -->\n<g class=\"node\" id=\"node7\">\n<title>140348031555064</title>\n<polygon fill=\"none\" points=\"44.5,-1095.5 44.5,-1131.5 184.5,-1131.5 184.5,-1095.5 44.5,-1095.5\" stroke=\"#000000\"/>\n<text fill=\"#000000\" font-family=\"Times,serif\" font-size=\"14.00\" text-anchor=\"middle\" x=\"114.5\" y=\"-1109.8\">conv3d_75: Conv3D</text>\n</g>\n<!-- 140348031476736&#45;&gt;140348031555064 -->\n<g class=\"edge\" id=\"edge7\">\n<title>140348031476736-&gt;140348031555064</title>\n<path d=\"M114.5,-1168.4551C114.5,-1160.3828 114.5,-1150.6764 114.5,-1141.6817\" fill=\"none\" stroke=\"#000000\"/>\n<polygon fill=\"#000000\" points=\"118.0001,-1141.5903 114.5,-1131.5904 111.0001,-1141.5904 118.0001,-1141.5903\" stroke=\"#000000\"/>\n</g>\n<!-- 140348031557528 -->\n<g class=\"node\" id=\"node8\">\n<title>140348031557528</title>\n<polygon fill=\"none\" points=\"22,-1022.5 22,-1058.5 207,-1058.5 207,-1022.5 22,-1022.5\" stroke=\"#000000\"/>\n<text fill=\"#000000\" font-family=\"Times,serif\" font-size=\"14.00\" text-anchor=\"middle\" x=\"114.5\" y=\"-1036.8\">leaky_re_lu_78: LeakyReLU</text>\n</g>\n<!-- 140348031555064&#45;&gt;140348031557528 -->\n<g class=\"edge\" id=\"edge8\">\n<title>140348031555064-&gt;140348031557528</title>\n<path d=\"M114.5,-1095.4551C114.5,-1087.3828 114.5,-1077.6764 114.5,-1068.6817\" fill=\"none\" stroke=\"#000000\"/>\n<polygon fill=\"#000000\" points=\"118.0001,-1068.5903 114.5,-1058.5904 111.0001,-1068.5904 118.0001,-1068.5903\" stroke=\"#000000\"/>\n</g>\n<!-- 140349347454032 -->\n<g class=\"node\" id=\"node9\">\n<title>140349347454032</title>\n<polygon fill=\"none\" points=\"0,-949.5 0,-985.5 229,-985.5 229,-949.5 0,-949.5\" stroke=\"#000000\"/>\n<text fill=\"#000000\" font-family=\"Times,serif\" font-size=\"14.00\" text-anchor=\"middle\" x=\"114.5\" y=\"-963.8\">max_pooling3d_72: MaxPooling3D</text>\n</g>\n<!-- 140348031557528&#45;&gt;140349347454032 -->\n<g class=\"edge\" id=\"edge9\">\n<title>140348031557528-&gt;140349347454032</title>\n<path d=\"M114.5,-1022.4551C114.5,-1014.3828 114.5,-1004.6764 114.5,-995.6817\" fill=\"none\" stroke=\"#000000\"/>\n<polygon fill=\"#000000\" points=\"118.0001,-995.5903 114.5,-985.5904 111.0001,-995.5904 118.0001,-995.5903\" stroke=\"#000000\"/>\n</g>\n<!-- 140348031159880 -->\n<g class=\"node\" id=\"node10\">\n<title>140348031159880</title>\n<polygon fill=\"none\" points=\"44.5,-876.5 44.5,-912.5 184.5,-912.5 184.5,-876.5 44.5,-876.5\" stroke=\"#000000\"/>\n<text fill=\"#000000\" font-family=\"Times,serif\" font-size=\"14.00\" text-anchor=\"middle\" x=\"114.5\" y=\"-890.8\">conv3d_76: Conv3D</text>\n</g>\n<!-- 140349347454032&#45;&gt;140348031159880 -->\n<g class=\"edge\" id=\"edge10\">\n<title>140349347454032-&gt;140348031159880</title>\n<path d=\"M114.5,-949.4551C114.5,-941.3828 114.5,-931.6764 114.5,-922.6817\" fill=\"none\" stroke=\"#000000\"/>\n<polygon fill=\"#000000\" points=\"118.0001,-922.5903 114.5,-912.5904 111.0001,-922.5904 118.0001,-922.5903\" stroke=\"#000000\"/>\n</g>\n<!-- 140348031233048 -->\n<g class=\"node\" id=\"node11\">\n<title>140348031233048</title>\n<polygon fill=\"none\" points=\"22,-803.5 22,-839.5 207,-839.5 207,-803.5 22,-803.5\" stroke=\"#000000\"/>\n<text fill=\"#000000\" font-family=\"Times,serif\" font-size=\"14.00\" text-anchor=\"middle\" x=\"114.5\" y=\"-817.8\">leaky_re_lu_79: LeakyReLU</text>\n</g>\n<!-- 140348031159880&#45;&gt;140348031233048 -->\n<g class=\"edge\" id=\"edge11\">\n<title>140348031159880-&gt;140348031233048</title>\n<path d=\"M114.5,-876.4551C114.5,-868.3828 114.5,-858.6764 114.5,-849.6817\" fill=\"none\" stroke=\"#000000\"/>\n<polygon fill=\"#000000\" points=\"118.0001,-849.5903 114.5,-839.5904 111.0001,-849.5904 118.0001,-849.5903\" stroke=\"#000000\"/>\n</g>\n<!-- 140348031230080 -->\n<g class=\"node\" id=\"node12\">\n<title>140348031230080</title>\n<polygon fill=\"none\" points=\"0,-730.5 0,-766.5 229,-766.5 229,-730.5 0,-730.5\" stroke=\"#000000\"/>\n<text fill=\"#000000\" font-family=\"Times,serif\" font-size=\"14.00\" text-anchor=\"middle\" x=\"114.5\" y=\"-744.8\">max_pooling3d_73: MaxPooling3D</text>\n</g>\n<!-- 140348031233048&#45;&gt;140348031230080 -->\n<g class=\"edge\" id=\"edge12\">\n<title>140348031233048-&gt;140348031230080</title>\n<path d=\"M114.5,-803.4551C114.5,-795.3828 114.5,-785.6764 114.5,-776.6817\" fill=\"none\" stroke=\"#000000\"/>\n<polygon fill=\"#000000\" points=\"118.0001,-776.5903 114.5,-766.5904 111.0001,-776.5904 118.0001,-776.5903\" stroke=\"#000000\"/>\n</g>\n<!-- 140348031340496 -->\n<g class=\"node\" id=\"node13\">\n<title>140348031340496</title>\n<polygon fill=\"none\" points=\"44.5,-657.5 44.5,-693.5 184.5,-693.5 184.5,-657.5 44.5,-657.5\" stroke=\"#000000\"/>\n<text fill=\"#000000\" font-family=\"Times,serif\" font-size=\"14.00\" text-anchor=\"middle\" x=\"114.5\" y=\"-671.8\">conv3d_77: Conv3D</text>\n</g>\n<!-- 140348031230080&#45;&gt;140348031340496 -->\n<g class=\"edge\" id=\"edge13\">\n<title>140348031230080-&gt;140348031340496</title>\n<path d=\"M114.5,-730.4551C114.5,-722.3828 114.5,-712.6764 114.5,-703.6817\" fill=\"none\" stroke=\"#000000\"/>\n<polygon fill=\"#000000\" points=\"118.0001,-703.5903 114.5,-693.5904 111.0001,-703.5904 118.0001,-703.5903\" stroke=\"#000000\"/>\n</g>\n<!-- 140348030902960 -->\n<g class=\"node\" id=\"node14\">\n<title>140348030902960</title>\n<polygon fill=\"none\" points=\"22,-584.5 22,-620.5 207,-620.5 207,-584.5 22,-584.5\" stroke=\"#000000\"/>\n<text fill=\"#000000\" font-family=\"Times,serif\" font-size=\"14.00\" text-anchor=\"middle\" x=\"114.5\" y=\"-598.8\">leaky_re_lu_80: LeakyReLU</text>\n</g>\n<!-- 140348031340496&#45;&gt;140348030902960 -->\n<g class=\"edge\" id=\"edge14\">\n<title>140348031340496-&gt;140348030902960</title>\n<path d=\"M114.5,-657.4551C114.5,-649.3828 114.5,-639.6764 114.5,-630.6817\" fill=\"none\" stroke=\"#000000\"/>\n<polygon fill=\"#000000\" points=\"118.0001,-630.5903 114.5,-620.5904 111.0001,-630.5904 118.0001,-630.5903\" stroke=\"#000000\"/>\n</g>\n<!-- 140348030905760 -->\n<g class=\"node\" id=\"node15\">\n<title>140348030905760</title>\n<polygon fill=\"none\" points=\"0,-511.5 0,-547.5 229,-547.5 229,-511.5 0,-511.5\" stroke=\"#000000\"/>\n<text fill=\"#000000\" font-family=\"Times,serif\" font-size=\"14.00\" text-anchor=\"middle\" x=\"114.5\" y=\"-525.8\">max_pooling3d_74: MaxPooling3D</text>\n</g>\n<!-- 140348030902960&#45;&gt;140348030905760 -->\n<g class=\"edge\" id=\"edge15\">\n<title>140348030902960-&gt;140348030905760</title>\n<path d=\"M114.5,-584.4551C114.5,-576.3828 114.5,-566.6764 114.5,-557.6817\" fill=\"none\" stroke=\"#000000\"/>\n<polygon fill=\"#000000\" points=\"118.0001,-557.5903 114.5,-547.5904 111.0001,-557.5904 118.0001,-557.5903\" stroke=\"#000000\"/>\n</g>\n<!-- 140348031012312 -->\n<g class=\"node\" id=\"node16\">\n<title>140348031012312</title>\n<polygon fill=\"none\" points=\"44.5,-438.5 44.5,-474.5 184.5,-474.5 184.5,-438.5 44.5,-438.5\" stroke=\"#000000\"/>\n<text fill=\"#000000\" font-family=\"Times,serif\" font-size=\"14.00\" text-anchor=\"middle\" x=\"114.5\" y=\"-452.8\">conv3d_78: Conv3D</text>\n</g>\n<!-- 140348030905760&#45;&gt;140348031012312 -->\n<g class=\"edge\" id=\"edge16\">\n<title>140348030905760-&gt;140348031012312</title>\n<path d=\"M114.5,-511.4551C114.5,-503.3828 114.5,-493.6764 114.5,-484.6817\" fill=\"none\" stroke=\"#000000\"/>\n<polygon fill=\"#000000\" points=\"118.0001,-484.5903 114.5,-474.5904 111.0001,-484.5904 118.0001,-484.5903\" stroke=\"#000000\"/>\n</g>\n<!-- 140348031107424 -->\n<g class=\"node\" id=\"node17\">\n<title>140348031107424</title>\n<polygon fill=\"none\" points=\"22,-365.5 22,-401.5 207,-401.5 207,-365.5 22,-365.5\" stroke=\"#000000\"/>\n<text fill=\"#000000\" font-family=\"Times,serif\" font-size=\"14.00\" text-anchor=\"middle\" x=\"114.5\" y=\"-379.8\">leaky_re_lu_81: LeakyReLU</text>\n</g>\n<!-- 140348031012312&#45;&gt;140348031107424 -->\n<g class=\"edge\" id=\"edge17\">\n<title>140348031012312-&gt;140348031107424</title>\n<path d=\"M114.5,-438.4551C114.5,-430.3828 114.5,-420.6764 114.5,-411.6817\" fill=\"none\" stroke=\"#000000\"/>\n<polygon fill=\"#000000\" points=\"118.0001,-411.5903 114.5,-401.5904 111.0001,-411.5904 118.0001,-411.5903\" stroke=\"#000000\"/>\n</g>\n<!-- 140348031110168 -->\n<g class=\"node\" id=\"node18\">\n<title>140348031110168</title>\n<polygon fill=\"none\" points=\"0,-292.5 0,-328.5 229,-328.5 229,-292.5 0,-292.5\" stroke=\"#000000\"/>\n<text fill=\"#000000\" font-family=\"Times,serif\" font-size=\"14.00\" text-anchor=\"middle\" x=\"114.5\" y=\"-306.8\">max_pooling3d_75: MaxPooling3D</text>\n</g>\n<!-- 140348031107424&#45;&gt;140348031110168 -->\n<g class=\"edge\" id=\"edge18\">\n<title>140348031107424-&gt;140348031110168</title>\n<path d=\"M114.5,-365.4551C114.5,-357.3828 114.5,-347.6764 114.5,-338.6817\" fill=\"none\" stroke=\"#000000\"/>\n<polygon fill=\"#000000\" points=\"118.0001,-338.5903 114.5,-328.5904 111.0001,-338.5904 118.0001,-338.5903\" stroke=\"#000000\"/>\n</g>\n<!-- 140348030687664 -->\n<g class=\"node\" id=\"node19\">\n<title>140348030687664</title>\n<polygon fill=\"none\" points=\"58,-219.5 58,-255.5 171,-255.5 171,-219.5 58,-219.5\" stroke=\"#000000\"/>\n<text fill=\"#000000\" font-family=\"Times,serif\" font-size=\"14.00\" text-anchor=\"middle\" x=\"114.5\" y=\"-233.8\">flatten_7: Flatten</text>\n</g>\n<!-- 140348031110168&#45;&gt;140348030687664 -->\n<g class=\"edge\" id=\"edge19\">\n<title>140348031110168-&gt;140348030687664</title>\n<path d=\"M114.5,-292.4551C114.5,-284.3828 114.5,-274.6764 114.5,-265.6817\" fill=\"none\" stroke=\"#000000\"/>\n<polygon fill=\"#000000\" points=\"118.0001,-265.5903 114.5,-255.5904 111.0001,-265.5904 118.0001,-265.5903\" stroke=\"#000000\"/>\n</g>\n<!-- 140348030687888 -->\n<g class=\"node\" id=\"node20\">\n<title>140348030687888</title>\n<polygon fill=\"none\" points=\"57.5,-146.5 57.5,-182.5 171.5,-182.5 171.5,-146.5 57.5,-146.5\" stroke=\"#000000\"/>\n<text fill=\"#000000\" font-family=\"Times,serif\" font-size=\"14.00\" text-anchor=\"middle\" x=\"114.5\" y=\"-160.8\">dense_13: Dense</text>\n</g>\n<!-- 140348030687664&#45;&gt;140348030687888 -->\n<g class=\"edge\" id=\"edge20\">\n<title>140348030687664-&gt;140348030687888</title>\n<path d=\"M114.5,-219.4551C114.5,-211.3828 114.5,-201.6764 114.5,-192.6817\" fill=\"none\" stroke=\"#000000\"/>\n<polygon fill=\"#000000\" points=\"118.0001,-192.5903 114.5,-182.5904 111.0001,-192.5904 118.0001,-192.5903\" stroke=\"#000000\"/>\n</g>\n<!-- 140348030791632 -->\n<g class=\"node\" id=\"node21\">\n<title>140348030791632</title>\n<polygon fill=\"none\" points=\"22,-73.5 22,-109.5 207,-109.5 207,-73.5 22,-73.5\" stroke=\"#000000\"/>\n<text fill=\"#000000\" font-family=\"Times,serif\" font-size=\"14.00\" text-anchor=\"middle\" x=\"114.5\" y=\"-87.8\">leaky_re_lu_82: LeakyReLU</text>\n</g>\n<!-- 140348030687888&#45;&gt;140348030791632 -->\n<g class=\"edge\" id=\"edge21\">\n<title>140348030687888-&gt;140348030791632</title>\n<path d=\"M114.5,-146.4551C114.5,-138.3828 114.5,-128.6764 114.5,-119.6817\" fill=\"none\" stroke=\"#000000\"/>\n<polygon fill=\"#000000\" points=\"118.0001,-119.5903 114.5,-109.5904 111.0001,-119.5904 118.0001,-119.5903\" stroke=\"#000000\"/>\n</g>\n<!-- 140348030791464 -->\n<g class=\"node\" id=\"node22\">\n<title>140348030791464</title>\n<polygon fill=\"none\" points=\"57.5,-.5 57.5,-36.5 171.5,-36.5 171.5,-.5 57.5,-.5\" stroke=\"#000000\"/>\n<text fill=\"#000000\" font-family=\"Times,serif\" font-size=\"14.00\" text-anchor=\"middle\" x=\"114.5\" y=\"-14.8\">dense_14: Dense</text>\n</g>\n<!-- 140348030791632&#45;&gt;140348030791464 -->\n<g class=\"edge\" id=\"edge22\">\n<title>140348030791632-&gt;140348030791464</title>\n<path d=\"M114.5,-73.4551C114.5,-65.3828 114.5,-55.6764 114.5,-46.6817\" fill=\"none\" stroke=\"#000000\"/>\n<polygon fill=\"#000000\" points=\"118.0001,-46.5903 114.5,-36.5904 111.0001,-46.5904 118.0001,-46.5903\" stroke=\"#000000\"/>\n</g>\n<!-- 140348035381792 -->\n<g class=\"node\" id=\"node23\">\n<title>140348035381792</title>\n<polygon fill=\"none\" points=\"50,-1606.5 50,-1642.5 179,-1642.5 179,-1606.5 50,-1606.5\" stroke=\"#000000\"/>\n<text fill=\"#000000\" font-family=\"Times,serif\" font-size=\"14.00\" text-anchor=\"middle\" x=\"114.5\" y=\"-1620.8\">140348035381792</text>\n</g>\n<!-- 140348035381792&#45;&gt;140348034405208 -->\n<g class=\"edge\" id=\"edge1\">\n<title>140348035381792-&gt;140348034405208</title>\n<path d=\"M114.5,-1606.4551C114.5,-1598.3828 114.5,-1588.6764 114.5,-1579.6817\" fill=\"none\" stroke=\"#000000\"/>\n<polygon fill=\"#000000\" points=\"118.0001,-1579.5903 114.5,-1569.5904 111.0001,-1579.5904 118.0001,-1579.5903\" stroke=\"#000000\"/>\n</g>\n</g>\n</svg>"
          },
          "metadata": {
            "tags": []
          },
          "execution_count": 26
        }
      ]
    },
    {
      "cell_type": "code",
      "metadata": {
        "id": "xY9CNqRxWkRS",
        "colab_type": "code",
        "colab": {
          "base_uri": "https://localhost:8080/",
          "height": 930
        },
        "outputId": "65f3f463-d93f-418a-d62e-a5dad6631128"
      },
      "source": [
        "import matplotlib.pyplot as plt\n",
        "\n",
        "history = model.fit(X_train, y_train, validation_split=0.2, epochs=10, batch_size=5, verbose=1)\n",
        "\n",
        "# Plot training & validation accuracy values\n",
        "plt.plot(history.history['acc'])\n",
        "plt.plot(history.history['val_acc'])\n",
        "plt.title('Model accuracy')\n",
        "plt.ylabel('Accuracy')\n",
        "plt.xlabel('Epoch')\n",
        "plt.legend(['Train', 'Test'], loc='upper left')\n",
        "plt.show()\n",
        "\n",
        "# Plot training & validation loss values\n",
        "plt.plot(history.history['loss'])\n",
        "plt.plot(history.history['val_loss'])\n",
        "plt.title('Model loss')\n",
        "plt.ylabel('Loss')\n",
        "plt.xlabel('Epoch')\n",
        "plt.legend(['Train', 'Test'], loc='upper left')\n",
        "plt.show()"
      ],
      "execution_count": 28,
      "outputs": [
        {
          "output_type": "stream",
          "text": [
            "Train on 64 samples, validate on 17 samples\n",
            "Epoch 1/10\n",
            "64/64 [==============================] - 7s 113ms/step - loss: 0.0202 - acc: 1.0000 - val_loss: 0.0550 - val_acc: 1.0000\n",
            "Epoch 2/10\n",
            "64/64 [==============================] - 7s 111ms/step - loss: 0.0152 - acc: 1.0000 - val_loss: 0.0468 - val_acc: 1.0000\n",
            "Epoch 3/10\n",
            "64/64 [==============================] - 7s 111ms/step - loss: 0.0117 - acc: 1.0000 - val_loss: 0.0490 - val_acc: 1.0000\n",
            "Epoch 4/10\n",
            "64/64 [==============================] - 7s 111ms/step - loss: 0.0108 - acc: 1.0000 - val_loss: 0.0442 - val_acc: 1.0000\n",
            "Epoch 5/10\n",
            "64/64 [==============================] - 7s 112ms/step - loss: 0.0095 - acc: 1.0000 - val_loss: 0.0498 - val_acc: 1.0000\n",
            "Epoch 6/10\n",
            "64/64 [==============================] - 7s 112ms/step - loss: 0.0085 - acc: 1.0000 - val_loss: 0.0472 - val_acc: 1.0000\n",
            "Epoch 7/10\n",
            "64/64 [==============================] - 7s 113ms/step - loss: 0.0077 - acc: 1.0000 - val_loss: 0.0492 - val_acc: 1.0000\n",
            "Epoch 8/10\n",
            "64/64 [==============================] - 7s 113ms/step - loss: 0.0072 - acc: 1.0000 - val_loss: 0.0486 - val_acc: 1.0000\n",
            "Epoch 9/10\n",
            "64/64 [==============================] - 7s 113ms/step - loss: 0.0068 - acc: 1.0000 - val_loss: 0.0467 - val_acc: 1.0000\n",
            "Epoch 10/10\n",
            "64/64 [==============================] - 7s 113ms/step - loss: 0.0063 - acc: 1.0000 - val_loss: 0.0501 - val_acc: 1.0000\n"
          ],
          "name": "stdout"
        },
        {
          "output_type": "display_data",
          "data": {
            "image/png": "[encoded data removed]",
            "text/plain": [
              "<Figure size 432x288 with 1 Axes>"
            ]
          },
          "metadata": {
            "tags": []
          }
        },
        {
          "output_type": "display_data",
          "data": {
            "image/png": "[encoded data removed]",
            "text/plain": [
              "<Figure size 432x288 with 1 Axes>"
            ]
          },
          "metadata": {
            "tags": []
          }
        }
      ]
    },
    {
      "cell_type": "markdown",
      "metadata": {
        "id": "8mq8dH7INDFB",
        "colab_type": "text"
      },
      "source": [
        "**Put into one super class which we can load our data (overwrite), fit and continue**"
      ]
    },
    {
      "cell_type": "code",
      "metadata": {
        "id": "7UlFkbFuKcER",
        "colab_type": "code",
        "colab": {}
      },
      "source": [
        "from keras.models import load_model\n",
        "num_epochs = 3\n",
        "batch_size = 10\n",
        "\n",
        "batches_path = os.getcwd() + '/stored_batches'\n",
        "\n",
        "for batch_pkl in os.listdir(batches_path):\n",
        "  batch_pkl_path = batches_path + '/' + batch_pkl\n",
        "  \n",
        "  # load up the batch\n",
        "  with open(batch_pkl_path, 'rb') as f:\n",
        "    total_slices, total_slices_info = pickle.load(f)\n",
        "    \n",
        "  # get the corresponding y-values\n",
        "  y_values = get_y_values(total_slices_info)\n",
        "  \n",
        "  # split into training and test set\n",
        "  X_train, X_test, y_train, y_test = train_test_split(total_slices, y_values, test_size=0.2, shuffle=True)\n",
        "  \n",
        "  # fit to our existing model\n",
        "  model.fit(x=X_train, y=y_train, batch_size=batch_size, epochs=num_epochs, verbose=1, # can modify batch size and epochs\n",
        "          validation_data=(X_test, y_test), shuffle=True)\n",
        "\n",
        "# creates a file and saves it (architecture, weights, optimizer)\n",
        "model.save('my_model.h5', overwrite=True)  # creates a HDF5 file 'my_model.h5'\n",
        "# model = load_model('my_model.h5')"
      ],
      "execution_count": 0,
      "outputs": []
    }
  ]
}