{
  "nbformat": 4,
  "nbformat_minor": 0,
  "metadata": {
    "colab": {
      "name": "Step 2.ipynb",
      "version": "0.3.2",
      "provenance": [],
      "collapsed_sections": [],
      "include_colab_link": true
    },
    "kernelspec": {
      "name": "python3",
      "display_name": "Python 3"
    },
    "accelerator": "GPU"
  },
  "cells": [
    {
      "cell_type": "markdown",
      "metadata": {
        "id": "view-in-github",
        "colab_type": "text"
      },
      "source": [
        "<a href=\"https://colab.research.google.com/github/StevenVuong/MSc_Project/blob/master/Step_2.ipynb\" target=\"_parent\"><img src=\"https://colab.research.google.com/assets/colab-badge.svg\" alt=\"Open In Colab\"/></a>"
      ]
    },
    {
      "cell_type": "markdown",
      "metadata": {
        "id": "LbyHDTsckJza",
        "colab_type": "text"
      },
      "source": [
        "**Processing should be done in this notebook, training the model**"
      ]
    },
    {
      "cell_type": "code",
      "metadata": {
        "id": "ZoF1f31WkApY",
        "colab_type": "code",
        "colab": {}
      },
      "source": [
        "# Standard imports\n",
        "import pandas as pd\n",
        "import numpy as np\n",
        "import matplotlib.pyplot as plt\n",
        "import seaborn as sns\n",
        "%matplotlib inline\n",
        "\n",
        "# other imports to handle files\n",
        "import os\n",
        "import pickle\n",
        "import csv\n",
        "\n",
        "# deep learning imports\n",
        "from keras.models import Sequential, load_model\n",
        "from keras.layers.core import Dense, Dropout, Activation, Flatten\n",
        "from keras.layers.convolutional import Convolution3D, MaxPooling3D, Convolution1D\n",
        "from keras.layers.normalization import BatchNormalization\n",
        "from keras.optimizers import SGD, RMSprop, Adam\n",
        "from keras.utils import np_utils, generic_utils, to_categorical\n",
        "from keras.layers import LeakyReLU\n",
        "from keras import regularizers\n",
        "\n",
        "# to split our dataset\n",
        "from sklearn.model_selection import train_test_split\n",
        "from sklearn.metrics import accuracy_score\n",
        "\n",
        "# to mount our drive\n",
        "from google.colab import drive"
      ],
      "execution_count": 0,
      "outputs": []
    },
    {
      "cell_type": "code",
      "metadata": {
        "id": "8Dn-QWq5kHsa",
        "colab_type": "code",
        "outputId": "5f3024a4-75d5-436f-ab09-2e8f6280db15",
        "colab": {
          "base_uri": "https://localhost:8080/",
          "height": 50
        }
      },
      "source": [
        "# mount google drive into google colab\n",
        "drive.mount('/content/gdrive')\n",
        "\n",
        "os.chdir('/content')\n",
        "\n",
        "# go to where we will be working\n",
        "print (os.listdir())\n",
        "os.chdir('gdrive/My Drive/msc_project/all_mprage_grappa')"
      ],
      "execution_count": 14,
      "outputs": [
        {
          "output_type": "stream",
          "text": [
            "Drive already mounted at /content/gdrive; to attempt to forcibly remount, call drive.mount(\"/content/gdrive\", force_remount=True).\n",
            "['.config', 'gdrive', 'sample_data']\n"
          ],
          "name": "stdout"
        }
      ]
    },
    {
      "cell_type": "markdown",
      "metadata": {
        "id": "3rgruIswlvMv",
        "colab_type": "text"
      },
      "source": [
        "**Load our batches and build the model**"
      ]
    },
    {
      "cell_type": "code",
      "metadata": {
        "id": "gATeg_-pkWlw",
        "colab_type": "code",
        "colab": {}
      },
      "source": [
        "# gets our y-values and converts to keras, one hot encoded outputs\n",
        "def get_y_values(total_slices_info):\n",
        "  \n",
        "  y_values = [s[2] for s in total_slices_info]\n",
        "\n",
        "  y_values = np.array(to_categorical(y_values, 2))\n",
        "  \n",
        "  return y_values"
      ],
      "execution_count": 0,
      "outputs": []
    },
    {
      "cell_type": "code",
      "metadata": {
        "id": "qi8Pgw98mWgz",
        "colab_type": "code",
        "colab": {}
      },
      "source": [
        "def initialise_model():\n",
        "\n",
        "  # compile our model\n",
        "  model = Sequential()\n",
        "  \n",
        "  model.add(Convolution3D(filters=32, kernel_size=3, padding='same', strides=1, input_shape=(160,160,160,1),\n",
        "                          kernel_regularizer=regularizers.l2(0.005), bias_regularizer=regularizers.l2(0.005))) # padding on first one only?\n",
        "  model.add(LeakyReLU(alpha=0.20)) # set to 0.01\n",
        "  model.add(BatchNormalization(momentum=0.5))\n",
        "  model.add(MaxPooling3D(pool_size=2, strides=1)) # pool_size=2\n",
        "  # could user he_norm kernel initializer?\n",
        "  \n",
        "  model.add(Convolution3D(filters=64, kernel_size=3, padding='same', strides=2,\n",
        "                          kernel_regularizer=regularizers.l2(0.005), bias_regularizer=regularizers.l2(0.005))) # padding on first one only?\n",
        "  model.add(LeakyReLU(alpha=0.20)) # set to 0.01\n",
        "  model.add(BatchNormalization(momentum=0.5))\n",
        "  model.add(MaxPooling3D(pool_size=2, strides=2)) # pool_size=2\n",
        "  \n",
        "  model.add(Convolution3D(filters=128, kernel_size=3, padding='same', strides=2,\n",
        "                          kernel_regularizer=regularizers.l2(0.005), bias_regularizer=regularizers.l2(0.005))) # padding on first one only?\n",
        "  model.add(LeakyReLU(alpha=0.2)) # set to 0.01\n",
        "  model.add(BatchNormalization(momentum=0.5))\n",
        "  model.add(MaxPooling3D(pool_size=2, strides=2)) # pool_size=2\n",
        "\n",
        "  model.add(Convolution3D(filters=256, kernel_size=3, padding='same', strides=2,\n",
        "                          kernel_regularizer=regularizers.l2(0.005), bias_regularizer=regularizers.l2(0.005))) # padding on first one only?\n",
        "  model.add(LeakyReLU(alpha=0.20)) # set to 0.01\n",
        "  model.add(BatchNormalization(momentum=0.5))\n",
        "  model.add(MaxPooling3D(pool_size=2, strides=2)) # pool_size=2\n",
        "\n",
        "  model.add(Flatten())\n",
        "   \n",
        "  model.add(Dense(512, kernel_regularizer=regularizers.l2(0.005)))\n",
        "  model.add(LeakyReLU(alpha=0.2)) # set to 0.01\n",
        "  \n",
        "  model.add(Dropout(0.20)) # add dropout to prevent overfitting\n",
        "  \n",
        "  model.add(Dense(64, kernel_regularizer=regularizers.l2(0.005)))\n",
        "  model.add(LeakyReLU(alpha=0.2)) # set to 0.01\n",
        "  \n",
        "  model.add(Dropout(0.35)) # add dropout to prevent overfitting\n",
        "\n",
        "  model.add(Dense(2, activation='softmax'))\n",
        "\n",
        "  model.compile(optimizer=Adam(lr=0.001), loss='categorical_crossentropy',metrics = ['categorical_accuracy'])\n",
        "\n",
        "  return model"
      ],
      "execution_count": 0,
      "outputs": []
    },
    {
      "cell_type": "code",
      "metadata": {
        "id": "7xVngjzAmZ1S",
        "colab_type": "code",
        "outputId": "3819ea57-2d8b-47ee-893f-36d9a2f5dce5",
        "colab": {
          "base_uri": "https://localhost:8080/",
          "height": 941
        }
      },
      "source": [
        "# Initialise Model!\n",
        "model = initialise_model()\n",
        "model.summary()"
      ],
      "execution_count": 17,
      "outputs": [
        {
          "output_type": "stream",
          "text": [
            "_________________________________________________________________\n",
            "Layer (type)                 Output Shape              Param #   \n",
            "=================================================================\n",
            "conv3d_17 (Conv3D)           (None, 160, 160, 160, 32) 896       \n",
            "_________________________________________________________________\n",
            "leaky_re_lu_25 (LeakyReLU)   (None, 160, 160, 160, 32) 0         \n",
            "_________________________________________________________________\n",
            "batch_normalization_17 (Batc (None, 160, 160, 160, 32) 128       \n",
            "_________________________________________________________________\n",
            "max_pooling3d_17 (MaxPooling (None, 159, 159, 159, 32) 0         \n",
            "_________________________________________________________________\n",
            "conv3d_18 (Conv3D)           (None, 80, 80, 80, 64)    55360     \n",
            "_________________________________________________________________\n",
            "leaky_re_lu_26 (LeakyReLU)   (None, 80, 80, 80, 64)    0         \n",
            "_________________________________________________________________\n",
            "batch_normalization_18 (Batc (None, 80, 80, 80, 64)    256       \n",
            "_________________________________________________________________\n",
            "max_pooling3d_18 (MaxPooling (None, 40, 40, 40, 64)    0         \n",
            "_________________________________________________________________\n",
            "conv3d_19 (Conv3D)           (None, 20, 20, 20, 128)   221312    \n",
            "_________________________________________________________________\n",
            "leaky_re_lu_27 (LeakyReLU)   (None, 20, 20, 20, 128)   0         \n",
            "_________________________________________________________________\n",
            "batch_normalization_19 (Batc (None, 20, 20, 20, 128)   512       \n",
            "_________________________________________________________________\n",
            "max_pooling3d_19 (MaxPooling (None, 10, 10, 10, 128)   0         \n",
            "_________________________________________________________________\n",
            "conv3d_20 (Conv3D)           (None, 5, 5, 5, 256)      884992    \n",
            "_________________________________________________________________\n",
            "leaky_re_lu_28 (LeakyReLU)   (None, 5, 5, 5, 256)      0         \n",
            "_________________________________________________________________\n",
            "batch_normalization_20 (Batc (None, 5, 5, 5, 256)      1024      \n",
            "_________________________________________________________________\n",
            "max_pooling3d_20 (MaxPooling (None, 2, 2, 2, 256)      0         \n",
            "_________________________________________________________________\n",
            "flatten_5 (Flatten)          (None, 2048)              0         \n",
            "_________________________________________________________________\n",
            "dense_13 (Dense)             (None, 512)               1049088   \n",
            "_________________________________________________________________\n",
            "leaky_re_lu_29 (LeakyReLU)   (None, 512)               0         \n",
            "_________________________________________________________________\n",
            "dropout_9 (Dropout)          (None, 512)               0         \n",
            "_________________________________________________________________\n",
            "dense_14 (Dense)             (None, 64)                32832     \n",
            "_________________________________________________________________\n",
            "leaky_re_lu_30 (LeakyReLU)   (None, 64)                0         \n",
            "_________________________________________________________________\n",
            "dropout_10 (Dropout)         (None, 64)                0         \n",
            "_________________________________________________________________\n",
            "dense_15 (Dense)             (None, 2)                 130       \n",
            "=================================================================\n",
            "Total params: 2,246,530\n",
            "Trainable params: 2,245,570\n",
            "Non-trainable params: 960\n",
            "_________________________________________________________________\n"
          ],
          "name": "stdout"
        }
      ]
    },
    {
      "cell_type": "code",
      "metadata": {
        "id": "d6xTykx-mdMd",
        "colab_type": "code",
        "colab": {}
      },
      "source": [
        "def get_metrics(hist):\n",
        "  ''' Function to get our metrics from history and score as inputs'''\n",
        "\n",
        "  # actually obtain our metrics\n",
        "  val_loss = hist.history['val_loss'][0]\n",
        "  val_acc = hist.history['val_categorical_accuracy'][0]\n",
        "  train_loss = hist.history['loss'][0]\n",
        "  train_acc = hist.history['categorical_accuracy'][0]\n",
        "\n",
        "  # put everything into one array\n",
        "  return [val_loss, val_acc, train_loss, train_acc]"
      ],
      "execution_count": 0,
      "outputs": []
    },
    {
      "cell_type": "code",
      "metadata": {
        "id": "RoGsfBTwJZnG",
        "colab_type": "code",
        "colab": {}
      },
      "source": [
        "# https://stackoverflow.com/questions/4601373/better-way-to-shuffle-two-numpy-arrays-in-unison\n",
        "def unison_shuffled_copies(a, b):\n",
        "    assert len(a) == len(b)\n",
        "    p = np.random.permutation(len(a))\n",
        "    return a[p], b[p]"
      ],
      "execution_count": 0,
      "outputs": []
    },
    {
      "cell_type": "code",
      "metadata": {
        "id": "Ha5tDwx2Px-f",
        "colab_type": "code",
        "colab": {}
      },
      "source": [
        "def past_accuracies_fn(current_list, hist):\n",
        "  '''Check if we have hit 100 accuracy for our entire dataset.\n",
        "  If mean of 1, break, otherwise append to current list'''\n",
        "  current_list = np.array(current_list)\n",
        "\n",
        "  # only take 1 onward\n",
        "  current_list = np.append(current_list, hist.history['categorical_accuracy'][0])\n",
        "  current_list = current_list[1:]\n",
        "  return current_list "
      ],
      "execution_count": 0,
      "outputs": []
    },
    {
      "cell_type": "code",
      "metadata": {
        "id": "mxngidoAmawg",
        "colab_type": "code",
        "outputId": "f60f76d9-62c3-42f4-f672-9f9b983d03b4",
        "colab": {
          "base_uri": "https://localhost:8080/",
          "height": 1000
        }
      },
      "source": [
        "ppath = 'processed_brains/processed_brains_aug' # where to get the batches from\n",
        "nname = '90_aug_v' # what to save as\n",
        "# train on all, perhaps have different conditions for when we reach our last one\n",
        "total_slices_train = os.listdir(ppath)[:4] # train on first 4, test on last one ###Need to update this\n",
        "\n",
        "# Initialise Model!\n",
        "model = initialise_model()\n",
        "\n",
        "# set number of repeats and iterations\n",
        "num_loopz = 1\n",
        "num_iterations = 200\n",
        "\n",
        "# stops when training accuracy is 1 across the board\n",
        "past_accuracies = np.zeros(3)\n",
        "break_at_100 = 'YES' # basic boolean switch\n",
        "\n",
        "for kk in range(num_loopz):\n",
        "  \n",
        "  file_name = (nname+str(kk)) ###filename, what we are changing\n",
        "  for iteration in range(num_iterations):\n",
        "    \n",
        "    # check if we have training accuracy of 100, if so, exit training loop\n",
        "    if ((np.mean(past_accuracies) == 1) and (break_at_100=='YES')):\n",
        "      print (\"Hit 100 on training accuracies\")\n",
        "      break\n",
        "      \n",
        "    print (\"--------------------------------------------------------------------\")\n",
        "    print (\"Current accuracy on training sets: %.2f \" % np.mean(past_accuracies))\n",
        "    print (\"--------------------------------------------------------------------\")\n",
        "\n",
        "    # load and fit our model for our instances\n",
        "    for tsf in total_slices_train:\n",
        "      pkl_path = ppath+'/'+tsf\n",
        "\n",
        "      # load pickle file\n",
        "      with open(pkl_path, 'rb') as f:\n",
        "        total_slices, total_slices_info = pickle.load(f)\n",
        "        \n",
        "      print (\"Iteration: %d, batch %s\" % (iteration, tsf[-5])) # print up here instead\n",
        "      \n",
        "      # Only take certain part of our slice\n",
        "\n",
        "      \n",
        "      # convert to numpy array\n",
        "      total_slices = np.array(total_slices)\n",
        "      # process y-values\n",
        "      y_values = get_y_values(total_slices_info)\n",
        "\n",
        "      # shuffle both of these\n",
        "      # total_slices, y_values = unison_shuffled_copies(total_slices, y_values)\n",
        "\n",
        "      # Run our model with validation of 5%\n",
        "      hist = model.fit(x=total_slices, y=y_values, batch_size = 1, epochs=1, verbose=1, shuffle=True,validation_split=0.05)\n",
        "      # add to running totals\n",
        "      past_accuracies = past_accuracies_fn(past_accuracies, hist) \n",
        "      # get metrics\n",
        "      metrics = get_metrics(hist)\n",
        "\n",
        "      # write to csv (want to append instead of overwrite)\n",
        "      with open('stored_metrics/metrics'+file_name+'.csv', 'a') as csvFile:\n",
        "          writer = csv.writer(csvFile)\n",
        "          writer.writerow(metrics)\n",
        "      csvFile.close()\n",
        "\n",
        "  # save the model as reference, incase we need the brain heatmap\n",
        "  model.save('stored_models/model'+file_name+'.h5', overwrite=True)  # saves as a hd5 file"
      ],
      "execution_count": 0,
      "outputs": [
        {
          "output_type": "stream",
          "text": [
            "--------------------------------------------------------------------\n",
            "Current accuracy on training sets: 0.00 \n",
            "--------------------------------------------------------------------\n",
            "Iteration: 0, batch 0\n",
            "Train on 95 samples, validate on 5 samples\n",
            "Epoch 1/1\n",
            "95/95 [==============================] - 39s 414ms/step - loss: 8.2887 - categorical_accuracy: 0.5368 - val_loss: 7.4997 - val_categorical_accuracy: 0.6000\n",
            "Iteration: 0, batch 1\n",
            "Train on 95 samples, validate on 5 samples\n",
            "Epoch 1/1\n",
            "95/95 [==============================] - 37s 392ms/step - loss: 8.0110 - categorical_accuracy: 0.5579 - val_loss: 13.5941 - val_categorical_accuracy: 0.2000\n",
            "Iteration: 0, batch 2\n",
            "Train on 95 samples, validate on 5 samples\n",
            "Epoch 1/1\n",
            "95/95 [==============================] - 37s 385ms/step - loss: 7.6941 - categorical_accuracy: 0.5579 - val_loss: 6.9031 - val_categorical_accuracy: 0.6000\n",
            "Iteration: 0, batch 3\n",
            "Train on 77 samples, validate on 5 samples\n",
            "Epoch 1/1\n",
            "77/77 [==============================] - 30s 390ms/step - loss: 7.7176 - categorical_accuracy: 0.5455 - val_loss: 3.5568 - val_categorical_accuracy: 0.8000\n",
            "--------------------------------------------------------------------\n",
            "Current accuracy on training sets: 0.55 \n",
            "--------------------------------------------------------------------\n",
            "Iteration: 1, batch 0\n",
            "Train on 95 samples, validate on 5 samples\n",
            "Epoch 1/1\n",
            "95/95 [==============================] - 37s 386ms/step - loss: 6.0497 - categorical_accuracy: 0.6421 - val_loss: 6.6828 - val_categorical_accuracy: 0.6000\n",
            "Iteration: 1, batch 1\n",
            "Train on 95 samples, validate on 5 samples\n",
            "Epoch 1/1\n",
            "95/95 [==============================] - 37s 389ms/step - loss: 8.4101 - categorical_accuracy: 0.5474 - val_loss: 15.3883 - val_categorical_accuracy: 0.2000\n",
            "Iteration: 1, batch 2\n",
            "Train on 95 samples, validate on 5 samples\n",
            "Epoch 1/1\n",
            "95/95 [==============================] - 37s 386ms/step - loss: 9.1670 - categorical_accuracy: 0.5579 - val_loss: 8.0911 - val_categorical_accuracy: 0.6000\n",
            "Iteration: 1, batch 3\n",
            "Train on 77 samples, validate on 5 samples\n",
            "Epoch 1/1\n",
            "77/77 [==============================] - 30s 387ms/step - loss: 8.7366 - categorical_accuracy: 0.5455 - val_loss: 4.4223 - val_categorical_accuracy: 0.8000\n",
            "--------------------------------------------------------------------\n",
            "Current accuracy on training sets: 0.55 \n",
            "--------------------------------------------------------------------\n",
            "Iteration: 2, batch 0\n",
            "Train on 95 samples, validate on 5 samples\n",
            "Epoch 1/1\n",
            "95/95 [==============================] - 37s 387ms/step - loss: 6.7727 - categorical_accuracy: 0.6421 - val_loss: 7.2794 - val_categorical_accuracy: 0.6000\n",
            "Iteration: 2, batch 1\n",
            "Train on 95 samples, validate on 5 samples\n",
            "Epoch 1/1\n",
            "95/95 [==============================] - 37s 386ms/step - loss: 7.8311 - categorical_accuracy: 0.5579 - val_loss: 13.4864 - val_categorical_accuracy: 0.2000\n",
            "Iteration: 2, batch 2\n",
            "Train on 95 samples, validate on 5 samples\n",
            "Epoch 1/1\n",
            "95/95 [==============================] - 37s 387ms/step - loss: 7.6330 - categorical_accuracy: 0.5579 - val_loss: 6.8782 - val_categorical_accuracy: 0.6000\n",
            "Iteration: 2, batch 3\n",
            "Train on 77 samples, validate on 5 samples\n",
            "Epoch 1/1\n",
            "77/77 [==============================] - 30s 388ms/step - loss: 7.7096 - categorical_accuracy: 0.5455 - val_loss: 3.5625 - val_categorical_accuracy: 0.8000\n",
            "--------------------------------------------------------------------\n",
            "Current accuracy on training sets: 0.55 \n",
            "--------------------------------------------------------------------\n",
            "Iteration: 3, batch 0\n",
            "Train on 95 samples, validate on 5 samples\n",
            "Epoch 1/1\n",
            "95/95 [==============================] - 37s 387ms/step - loss: 11.3162 - categorical_accuracy: 0.3579 - val_loss: 10.7424 - val_categorical_accuracy: 0.4000\n",
            "Iteration: 3, batch 1\n",
            "Train on 95 samples, validate on 5 samples\n",
            "Epoch 1/1\n",
            "95/95 [==============================] - 37s 386ms/step - loss: 9.8363 - categorical_accuracy: 0.4421 - val_loss: 3.8813 - val_categorical_accuracy: 0.8000\n",
            "Iteration: 3, batch 2\n",
            "Train on 95 samples, validate on 5 samples\n",
            "Epoch 1/1\n",
            "95/95 [==============================] - 37s 387ms/step - loss: 9.5286 - categorical_accuracy: 0.4421 - val_loss: 10.1046 - val_categorical_accuracy: 0.4000\n",
            "Iteration: 3, batch 3\n",
            "Train on 77 samples, validate on 5 samples\n",
            "Epoch 1/1\n",
            "77/77 [==============================] - 30s 387ms/step - loss: 9.1668 - categorical_accuracy: 0.4545 - val_loss: 13.2171 - val_categorical_accuracy: 0.2000\n",
            "--------------------------------------------------------------------\n",
            "Current accuracy on training sets: 0.45 \n",
            "--------------------------------------------------------------------\n",
            "Iteration: 4, batch 0\n",
            "Train on 95 samples, validate on 5 samples\n",
            "Epoch 1/1\n",
            "95/95 [==============================] - 37s 385ms/step - loss: 10.6247 - categorical_accuracy: 0.3579 - val_loss: 9.9044 - val_categorical_accuracy: 0.4000\n",
            "Iteration: 4, batch 1\n",
            "Train on 95 samples, validate on 5 samples\n",
            "Epoch 1/1\n",
            "95/95 [==============================] - 37s 386ms/step - loss: 9.1953 - categorical_accuracy: 0.4421 - val_loss: 3.3997 - val_categorical_accuracy: 0.8000\n",
            "Iteration: 4, batch 2\n",
            "Train on 95 samples, validate on 5 samples\n",
            "Epoch 1/1\n",
            "95/95 [==============================] - 37s 386ms/step - loss: 9.1479 - categorical_accuracy: 0.4421 - val_loss: 9.8083 - val_categorical_accuracy: 0.4000\n",
            "Iteration: 4, batch 3\n",
            "Train on 77 samples, validate on 5 samples\n",
            "Epoch 1/1\n",
            "77/77 [==============================] - 30s 387ms/step - loss: 8.9176 - categorical_accuracy: 0.4545 - val_loss: 13.0095 - val_categorical_accuracy: 0.2000\n",
            "--------------------------------------------------------------------\n",
            "Current accuracy on training sets: 0.45 \n",
            "--------------------------------------------------------------------\n",
            "Iteration: 5, batch 0\n",
            "Train on 95 samples, validate on 5 samples\n",
            "Epoch 1/1\n",
            "95/95 [==============================] - 37s 386ms/step - loss: 10.4540 - categorical_accuracy: 0.3579 - val_loss: 9.7656 - val_categorical_accuracy: 0.4000\n",
            "Iteration: 5, batch 1\n",
            "Train on 95 samples, validate on 5 samples\n",
            "Epoch 1/1\n",
            "95/95 [==============================] - 37s 386ms/step - loss: 8.7869 - categorical_accuracy: 0.4737 - val_loss: 16.0763 - val_categorical_accuracy: 0.2000\n",
            "Iteration: 5, batch 2\n",
            "Train on 95 samples, validate on 5 samples\n",
            "Epoch 1/1\n",
            "17/95 [====>.........................] - ETA: 29s - loss: 11.9799 - categorical_accuracy: 0.4706"
          ],
          "name": "stdout"
        }
      ]
    },
    {
      "cell_type": "code",
      "metadata": {
        "id": "HpFB9HkBSQ6_",
        "colab_type": "code",
        "colab": {}
      },
      "source": [
        "    "
      ],
      "execution_count": 0,
      "outputs": []
    }
  ]
}