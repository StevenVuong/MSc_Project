{
  "nbformat": 4,
  "nbformat_minor": 0,
  "metadata": {
    "colab": {
      "name": "Step 2.ipynb",
      "version": "0.3.2",
      "provenance": [],
      "collapsed_sections": [],
      "include_colab_link": true
    },
    "kernelspec": {
      "name": "python3",
      "display_name": "Python 3"
    },
    "accelerator": "GPU"
  },
  "cells": [
    {
      "cell_type": "markdown",
      "metadata": {
        "id": "view-in-github",
        "colab_type": "text"
      },
      "source": [
        "<a href=\"https://colab.research.google.com/github/StevenVuong/MSc_Project/blob/master/Step_2.ipynb\" target=\"_parent\"><img src=\"https://colab.research.google.com/assets/colab-badge.svg\" alt=\"Open In Colab\"/></a>"
      ]
    },
    {
      "cell_type": "markdown",
      "metadata": {
        "id": "LbyHDTsckJza",
        "colab_type": "text"
      },
      "source": [
        "**Processing should be done in this notebook, training the model**"
      ]
    },
    {
      "cell_type": "code",
      "metadata": {
        "id": "ZoF1f31WkApY",
        "colab_type": "code",
        "colab": {
          "base_uri": "https://localhost:8080/",
          "height": 34
        },
        "outputId": "e5559b31-5581-46bc-91bd-697444b98d00"
      },
      "source": [
        "# Standard imports\n",
        "import pandas as pd\n",
        "import numpy as np\n",
        "import matplotlib.pyplot as plt\n",
        "import seaborn as sns\n",
        "%matplotlib inline\n",
        "\n",
        "# other imports to handle files\n",
        "import os\n",
        "import pickle\n",
        "import csv\n",
        "\n",
        "# deep learning imports\n",
        "from keras.models import Sequential, load_model\n",
        "from keras.layers.core import Dense, Dropout, Activation, Flatten\n",
        "from keras.layers.convolutional import Convolution3D, MaxPooling3D, Convolution1D\n",
        "from keras.layers.normalization import BatchNormalization\n",
        "from keras.optimizers import SGD, RMSprop, Adam\n",
        "from keras.utils import np_utils, generic_utils, to_categorical\n",
        "from keras.layers import LeakyReLU\n",
        "from keras import regularizers\n",
        "\n",
        "# to split our dataset\n",
        "from sklearn.model_selection import train_test_split\n",
        "from sklearn.metrics import accuracy_score\n",
        "\n",
        "# to mount our drive\n",
        "from google.colab import drive"
      ],
      "execution_count": 13,
      "outputs": [
        {
          "output_type": "stream",
          "text": [
            "Using TensorFlow backend.\n"
          ],
          "name": "stderr"
        }
      ]
    },
    {
      "cell_type": "code",
      "metadata": {
        "id": "8Dn-QWq5kHsa",
        "colab_type": "code",
        "colab": {
          "base_uri": "https://localhost:8080/",
          "height": 50
        },
        "outputId": "d214e415-ae1a-4090-dcca-ae79505d5731"
      },
      "source": [
        "# mount google drive into google colab\n",
        "drive.mount('/content/gdrive')\n",
        "\n",
        "os.chdir('/content')\n",
        "\n",
        "# go to where we will be working\n",
        "print (os.listdir())\n",
        "os.chdir('gdrive/My Drive/msc_project/all_mprage_grappa')"
      ],
      "execution_count": 2,
      "outputs": [
        {
          "output_type": "stream",
          "text": [
            "Drive already mounted at /content/gdrive; to attempt to forcibly remount, call drive.mount(\"/content/gdrive\", force_remount=True).\n",
            "['.config', 'gdrive', 'sample_data']\n"
          ],
          "name": "stdout"
        }
      ]
    },
    {
      "cell_type": "markdown",
      "metadata": {
        "id": "3rgruIswlvMv",
        "colab_type": "text"
      },
      "source": [
        "**Load our batches and build the model**"
      ]
    },
    {
      "cell_type": "code",
      "metadata": {
        "id": "gATeg_-pkWlw",
        "colab_type": "code",
        "colab": {}
      },
      "source": [
        "# gets our y-values and converts to keras, one hot encoded outputs\n",
        "def get_y_values(total_slices_info):\n",
        "  \n",
        "  y_values = [s[2] for s in total_slices_info]\n",
        "\n",
        "  y_values = np.array(to_categorical(y_values, 2))\n",
        "  \n",
        "  return y_values"
      ],
      "execution_count": 0,
      "outputs": []
    },
    {
      "cell_type": "code",
      "metadata": {
        "id": "qi8Pgw98mWgz",
        "colab_type": "code",
        "colab": {}
      },
      "source": [
        "def initialise_model():\n",
        "\n",
        "  # compile our model\n",
        "  model = Sequential()\n",
        "\n",
        "  model.add(Convolution3D(filters=32, kernel_size=3, padding='same', input_shape=(160,160,160,1)))# ,kernel_regularizer=regularizers.l2(0.0005))) # padding on first one only?\n",
        "  model.add(LeakyReLU(alpha=0.01)) # set to 0.01\n",
        "  ## model.add(BatchNormalization()) \n",
        "  # could user he_norm kernel initializer?\n",
        "  model.add(MaxPooling3D(pool_size=3)) # pool_size=2\n",
        "  \n",
        "  model.add(Convolution3D(filters=64, kernel_size=3)) #,kernel_regularizer=regularizers.l2(0.0005)))\n",
        "  model.add(LeakyReLU(alpha=0.01)) \n",
        "  ## model.add(BatchNormalization())\n",
        "  model.add(MaxPooling3D(pool_size=4))\n",
        "\n",
        "  model.add(Convolution3D(filters=128, kernel_size=3))# ,kernel_regularizer=regularizers.l2(0.0005)))\n",
        "  model.add(LeakyReLU())\n",
        "  ## model.add(BatchNormalization())\n",
        "  model.add(MaxPooling3D(pool_size=4))\n",
        "\n",
        "  model.add(Flatten())\n",
        "   \n",
        "  model.add(Dense(512))\n",
        "  model.add(LeakyReLU(alpha=0.01))\n",
        "  ## model.add(Dropout(0.35)) # add dropout to prevent overfitting\n",
        "\n",
        "  model.add(Dense(2, activation='softmax'))\n",
        "\n",
        "  model.compile(optimizer=Adam(lr=0.00005), loss='categorical_crossentropy',metrics = ['accuracy']) # metrics=['categorical_accuracy']\n",
        "\n",
        "  # experiment with literally everything?... Random Search with optimisers\n",
        "            \n",
        "  return model"
      ],
      "execution_count": 0,
      "outputs": []
    },
    {
      "cell_type": "code",
      "metadata": {
        "id": "7xVngjzAmZ1S",
        "colab_type": "code",
        "colab": {
          "base_uri": "https://localhost:8080/",
          "height": 571
        },
        "outputId": "ca467ecb-f98d-4aa1-b45c-1cf7199deb69"
      },
      "source": [
        "# Initialise Model!\n",
        "model = initialise_model()\n",
        "model.summary()"
      ],
      "execution_count": 18,
      "outputs": [
        {
          "output_type": "stream",
          "text": [
            "_________________________________________________________________\n",
            "Layer (type)                 Output Shape              Param #   \n",
            "=================================================================\n",
            "conv3d_7 (Conv3D)            (None, 160, 160, 160, 32) 896       \n",
            "_________________________________________________________________\n",
            "leaky_re_lu_9 (LeakyReLU)    (None, 160, 160, 160, 32) 0         \n",
            "_________________________________________________________________\n",
            "max_pooling3d_7 (MaxPooling3 (None, 53, 53, 53, 32)    0         \n",
            "_________________________________________________________________\n",
            "conv3d_8 (Conv3D)            (None, 51, 51, 51, 64)    55360     \n",
            "_________________________________________________________________\n",
            "leaky_re_lu_10 (LeakyReLU)   (None, 51, 51, 51, 64)    0         \n",
            "_________________________________________________________________\n",
            "max_pooling3d_8 (MaxPooling3 (None, 12, 12, 12, 64)    0         \n",
            "_________________________________________________________________\n",
            "conv3d_9 (Conv3D)            (None, 10, 10, 10, 128)   221312    \n",
            "_________________________________________________________________\n",
            "leaky_re_lu_11 (LeakyReLU)   (None, 10, 10, 10, 128)   0         \n",
            "_________________________________________________________________\n",
            "max_pooling3d_9 (MaxPooling3 (None, 2, 2, 2, 128)      0         \n",
            "_________________________________________________________________\n",
            "flatten_3 (Flatten)          (None, 1024)              0         \n",
            "_________________________________________________________________\n",
            "dense_5 (Dense)              (None, 512)               524800    \n",
            "_________________________________________________________________\n",
            "leaky_re_lu_12 (LeakyReLU)   (None, 512)               0         \n",
            "_________________________________________________________________\n",
            "dense_6 (Dense)              (None, 2)                 1026      \n",
            "=================================================================\n",
            "Total params: 803,394\n",
            "Trainable params: 803,394\n",
            "Non-trainable params: 0\n",
            "_________________________________________________________________\n"
          ],
          "name": "stdout"
        }
      ]
    },
    {
      "cell_type": "code",
      "metadata": {
        "id": "d6xTykx-mdMd",
        "colab_type": "code",
        "colab": {}
      },
      "source": [
        "def get_metrics(hist):\n",
        "  ''' Function to get our metrics from history and score as inputs'''\n",
        "\n",
        "  # actually obtain our metrics\n",
        "  val_loss = hist.history['val_loss'][0]\n",
        "  val_acc = hist.history['val_acc'][0]\n",
        "  train_loss = hist.history['loss'][0]\n",
        "  train_acc = hist.history['acc'][0]\n",
        "\n",
        "  # put everything into one array\n",
        "  return [val_loss, val_acc, train_loss, train_acc]"
      ],
      "execution_count": 0,
      "outputs": []
    },
    {
      "cell_type": "code",
      "metadata": {
        "id": "uDqhwrONmxd4",
        "colab_type": "code",
        "colab": {
          "base_uri": "https://localhost:8080/",
          "height": 34
        },
        "outputId": "a258f756-a2b3-4da1-da52-dab4498ec670"
      },
      "source": [
        "# train on all, perhaps have different conditions for when we reach our last one\n",
        "total_slices_train = os.listdir('processed_brains')[:3] # train on first 3"
      ],
      "execution_count": 9,
      "outputs": [
        {
          "output_type": "execute_result",
          "data": {
            "text/plain": [
              "['batch0.pkl', 'batch1.pkl', 'batch2.pkl']"
            ]
          },
          "metadata": {
            "tags": []
          },
          "execution_count": 9
        }
      ]
    },
    {
      "cell_type": "code",
      "metadata": {
        "id": "mxngidoAmawg",
        "colab_type": "code",
        "colab": {
          "base_uri": "https://localhost:8080/",
          "height": 2103
        },
        "outputId": "2fde8675-1776-4412-894e-2f04bd1c32bd"
      },
      "source": [
        "# train on all, perhaps have different conditions for when we reach our last one\n",
        "total_slices_train = os.listdir('processed_brains')[:3] # train on first 3, test on last one\n",
        "\n",
        "# Initialise Model!\n",
        "model = initialise_model()\n",
        "\n",
        "# Load Model (If not this, then must initialise)\n",
        "# model = load_model('my_model_1.h5')\n",
        "\n",
        "num_loopz = 1 # number of repeats we want\n",
        "num_iterations = 10 # number of times we want to loop it\n",
        "\n",
        "for kk in range(num_loopz):\n",
        "  \n",
        "  file_name = ('00_v'+str(kk)) ###filename, what we are changing\n",
        "  for iteration in range(num_iterations):\n",
        "\n",
        "    # load and fit our model for our instances\n",
        "    for tsf in total_slices_train:\n",
        "      pkl_path = 'processed_brains/'+tsf\n",
        "\n",
        "      # load pickle file\n",
        "      with open(pkl_path, 'rb') as f:\n",
        "        total_slices, total_slices_info = pickle.load(f)\n",
        "\n",
        "      # convert to numpy array\n",
        "      total_slices = np.array(total_slices)\n",
        "      # process y-values\n",
        "      y_values = get_y_values(total_slices_info)\n",
        "\n",
        "      # Run our model with validation of 15%\n",
        "      hist = model.fit(x=total_slices, y=y_values, batch_size=1, epochs=1, verbose=1, validation_split=0.15, shuffle=True)\n",
        "      # get metrics\n",
        "      metrics = get_metrics(hist)\n",
        "\n",
        "      # write to csv (want to append instead of overwrite)\n",
        "      with open('stored_metrics/metrics'+file_name+'.csv', 'a') as csvFile:\n",
        "          writer = csv.writer(csvFile)\n",
        "          writer.writerow(metrics)\n",
        "      csvFile.close()\n",
        "\n",
        "      print (\"Iteration: %d, batch %s\" % (iteration, tsf[-5]))\n",
        "\n",
        "  # save the model as reference, incase we need the brain heatmap\n",
        "  model.save('stored_models/model'+file_name+'.h5', overwrite=True)  # saves as a hd5 file"
      ],
      "execution_count": 19,
      "outputs": [
        {
          "output_type": "stream",
          "text": [
            "WARNING:tensorflow:From /usr/local/lib/python3.6/dist-packages/tensorflow/python/ops/math_ops.py:3066: to_int32 (from tensorflow.python.ops.math_ops) is deprecated and will be removed in a future version.\n",
            "Instructions for updating:\n",
            "Use tf.cast instead.\n",
            "Train on 42 samples, validate on 8 samples\n",
            "Epoch 1/1\n",
            "42/42 [==============================] - 12s 288ms/step - loss: 6.0848 - acc: 0.5714 - val_loss: 1.1921e-07 - val_acc: 1.0000\n",
            "Iteration: 0, batch 0\n",
            "Train on 42 samples, validate on 8 samples\n",
            "Epoch 1/1\n",
            "42/42 [==============================] - 5s 120ms/step - loss: 5.7565 - acc: 0.6429 - val_loss: 4.0295 - val_acc: 0.7500\n",
            "Iteration: 0, batch 1\n",
            "Train on 42 samples, validate on 8 samples\n",
            "Epoch 1/1\n",
            "42/42 [==============================] - 5s 124ms/step - loss: 6.5240 - acc: 0.5952 - val_loss: 16.1181 - val_acc: 0.0000e+00\n",
            "Iteration: 0, batch 2\n",
            "Train on 42 samples, validate on 8 samples\n",
            "Epoch 1/1\n",
            "42/42 [==============================] - 6s 131ms/step - loss: 3.0701 - acc: 0.8095 - val_loss: 1.1921e-07 - val_acc: 1.0000\n",
            "Iteration: 1, batch 0\n",
            "Train on 42 samples, validate on 8 samples\n",
            "Epoch 1/1\n",
            "42/42 [==============================] - 5s 122ms/step - loss: 5.7565 - acc: 0.6429 - val_loss: 4.0295 - val_acc: 0.7500\n",
            "Iteration: 1, batch 1\n",
            "Train on 42 samples, validate on 8 samples\n",
            "Epoch 1/1\n",
            "42/42 [==============================] - 5s 122ms/step - loss: 6.5240 - acc: 0.5952 - val_loss: 16.1181 - val_acc: 0.0000e+00\n",
            "Iteration: 1, batch 2\n",
            "Train on 42 samples, validate on 8 samples\n",
            "Epoch 1/1\n",
            "42/42 [==============================] - 5s 121ms/step - loss: 3.0701 - acc: 0.8095 - val_loss: 1.1921e-07 - val_acc: 1.0000\n",
            "Iteration: 2, batch 0\n",
            "Train on 42 samples, validate on 8 samples\n",
            "Epoch 1/1\n",
            "42/42 [==============================] - 5s 121ms/step - loss: 5.7565 - acc: 0.6429 - val_loss: 4.0295 - val_acc: 0.7500\n",
            "Iteration: 2, batch 1\n",
            "Train on 42 samples, validate on 8 samples\n",
            "Epoch 1/1\n",
            "42/42 [==============================] - 5s 122ms/step - loss: 6.5240 - acc: 0.5952 - val_loss: 16.1181 - val_acc: 0.0000e+00\n",
            "Iteration: 2, batch 2\n",
            "Train on 42 samples, validate on 8 samples\n",
            "Epoch 1/1\n",
            "42/42 [==============================] - 5s 121ms/step - loss: 3.0701 - acc: 0.8095 - val_loss: 1.1921e-07 - val_acc: 1.0000\n",
            "Iteration: 3, batch 0\n",
            "Train on 42 samples, validate on 8 samples\n",
            "Epoch 1/1\n",
            "42/42 [==============================] - 5s 121ms/step - loss: 5.7565 - acc: 0.6429 - val_loss: 4.0295 - val_acc: 0.7500\n",
            "Iteration: 3, batch 1\n",
            "Train on 42 samples, validate on 8 samples\n",
            "Epoch 1/1\n",
            "42/42 [==============================] - 5s 122ms/step - loss: 6.5240 - acc: 0.5952 - val_loss: 16.1181 - val_acc: 0.0000e+00\n",
            "Iteration: 3, batch 2\n",
            "Train on 42 samples, validate on 8 samples\n",
            "Epoch 1/1\n",
            "42/42 [==============================] - 5s 121ms/step - loss: 3.0701 - acc: 0.8095 - val_loss: 1.1921e-07 - val_acc: 1.0000\n",
            "Iteration: 4, batch 0\n",
            "Train on 42 samples, validate on 8 samples\n",
            "Epoch 1/1\n",
            "42/42 [==============================] - 5s 122ms/step - loss: 5.7565 - acc: 0.6429 - val_loss: 4.0295 - val_acc: 0.7500\n",
            "Iteration: 4, batch 1\n",
            "Train on 42 samples, validate on 8 samples\n",
            "Epoch 1/1\n",
            "42/42 [==============================] - 5s 122ms/step - loss: 6.5240 - acc: 0.5952 - val_loss: 16.1181 - val_acc: 0.0000e+00\n",
            "Iteration: 4, batch 2\n",
            "Train on 42 samples, validate on 8 samples\n",
            "Epoch 1/1\n",
            "42/42 [==============================] - 5s 122ms/step - loss: 3.0701 - acc: 0.8095 - val_loss: 1.1921e-07 - val_acc: 1.0000\n",
            "Iteration: 5, batch 0\n",
            "Train on 42 samples, validate on 8 samples\n",
            "Epoch 1/1\n",
            "42/42 [==============================] - 5s 122ms/step - loss: 5.7565 - acc: 0.6429 - val_loss: 4.0295 - val_acc: 0.7500\n",
            "Iteration: 5, batch 1\n",
            "Train on 42 samples, validate on 8 samples\n",
            "Epoch 1/1\n",
            "42/42 [==============================] - 5s 123ms/step - loss: 6.5240 - acc: 0.5952 - val_loss: 16.1181 - val_acc: 0.0000e+00\n",
            "Iteration: 5, batch 2\n",
            "Train on 42 samples, validate on 8 samples\n",
            "Epoch 1/1\n",
            "42/42 [==============================] - 5s 123ms/step - loss: 3.0701 - acc: 0.8095 - val_loss: 1.1921e-07 - val_acc: 1.0000\n",
            "Iteration: 6, batch 0\n",
            "Train on 42 samples, validate on 8 samples\n",
            "Epoch 1/1\n",
            "42/42 [==============================] - 5s 124ms/step - loss: 5.7565 - acc: 0.6429 - val_loss: 4.0295 - val_acc: 0.7500\n",
            "Iteration: 6, batch 1\n",
            "Train on 42 samples, validate on 8 samples\n",
            "Epoch 1/1\n",
            "42/42 [==============================] - 5s 125ms/step - loss: 6.5240 - acc: 0.5952 - val_loss: 16.1181 - val_acc: 0.0000e+00\n",
            "Iteration: 6, batch 2\n",
            "Train on 42 samples, validate on 8 samples\n",
            "Epoch 1/1\n",
            "42/42 [==============================] - 5s 125ms/step - loss: 3.0701 - acc: 0.8095 - val_loss: 1.1921e-07 - val_acc: 1.0000\n",
            "Iteration: 7, batch 0\n",
            "Train on 42 samples, validate on 8 samples\n",
            "Epoch 1/1\n",
            "42/42 [==============================] - 5s 125ms/step - loss: 5.7565 - acc: 0.6429 - val_loss: 4.0295 - val_acc: 0.7500\n",
            "Iteration: 7, batch 1\n",
            "Train on 42 samples, validate on 8 samples\n",
            "Epoch 1/1\n",
            "42/42 [==============================] - 5s 126ms/step - loss: 6.5240 - acc: 0.5952 - val_loss: 16.1181 - val_acc: 0.0000e+00\n",
            "Iteration: 7, batch 2\n",
            "Train on 42 samples, validate on 8 samples\n",
            "Epoch 1/1\n",
            "42/42 [==============================] - 5s 126ms/step - loss: 3.0701 - acc: 0.8095 - val_loss: 1.1921e-07 - val_acc: 1.0000\n",
            "Iteration: 8, batch 0\n",
            "Train on 42 samples, validate on 8 samples\n",
            "Epoch 1/1\n",
            "42/42 [==============================] - 5s 126ms/step - loss: 5.7565 - acc: 0.6429 - val_loss: 4.0295 - val_acc: 0.7500\n",
            "Iteration: 8, batch 1\n",
            "Train on 42 samples, validate on 8 samples\n",
            "Epoch 1/1\n",
            "42/42 [==============================] - 5s 127ms/step - loss: 6.5240 - acc: 0.5952 - val_loss: 16.1181 - val_acc: 0.0000e+00\n",
            "Iteration: 8, batch 2\n",
            "Train on 42 samples, validate on 8 samples\n",
            "Epoch 1/1\n",
            "42/42 [==============================] - 6s 136ms/step - loss: 3.0701 - acc: 0.8095 - val_loss: 1.1921e-07 - val_acc: 1.0000\n",
            "Iteration: 9, batch 0\n",
            "Train on 42 samples, validate on 8 samples\n",
            "Epoch 1/1\n",
            "42/42 [==============================] - 5s 125ms/step - loss: 5.7565 - acc: 0.6429 - val_loss: 4.0295 - val_acc: 0.7500\n",
            "Iteration: 9, batch 1\n",
            "Train on 42 samples, validate on 8 samples\n",
            "Epoch 1/1\n",
            "42/42 [==============================] - 5s 125ms/step - loss: 6.5240 - acc: 0.5952 - val_loss: 16.1181 - val_acc: 0.0000e+00\n",
            "Iteration: 9, batch 2\n"
          ],
          "name": "stdout"
        }
      ]
    },
    {
      "cell_type": "code",
      "metadata": {
        "id": "KHJBgu6srtwt",
        "colab_type": "code",
        "colab": {}
      },
      "source": [
        ""
      ],
      "execution_count": 0,
      "outputs": []
    }
  ]
}